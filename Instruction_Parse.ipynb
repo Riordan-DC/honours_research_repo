{
 "cells": [
  {
   "cell_type": "markdown",
   "metadata": {},
   "source": [
    "## Instruction Parse\n",
    "Author: Riordan Callil\n",
    "\n",
    "I wrote some pretty notes this morning detailing the entire problem I am facing in my honours. \n",
    "I have been operating under the CHALLENGE that I will only consider my robot immediate surroundings. This is silly and playing the game harder than it needs to be played. Instead of considering the embodiment of my robot I am going to activly ignore it. Niko's paper used the entire graph and like a convolutional layer, produced an activation map, (or activation graph in this case), of the entire graph. The graph had its features smoothed by the graph convolutional network then an idividual nodes activation is produced by feeding the target landmark and the nodes convolved feature to a fully connected network. \n",
    "\n",
    "I confused myself and complicated the problem by actually making the problem \"smaller\". Really, I just made the problem harder by making the robot blind despite access to a full map. So Im going back, to reconsider my assumptions. \n",
    "\n",
    "The problem can be described in a sentence: <b>\"Given a block of text, follow instructions\".</b>\n",
    "This introduces many design choices I'll now break down:\n",
    "\"Given a block of text\"\n",
    "--------------------------\n",
    "- Can contain multiple instructions / Can contain a single instruction\n",
    "- Instructions meant to be followed sequentially / Instructions meant to be followed in any order\n",
    "- Multiple instructions per sentence / Single instruction per sentence\n",
    "\n",
    "\"follow instructions\"\n",
    "---------------------\n",
    "- Meaning: Produce the instruction output.\n",
    "- Execute all instrutions\n",
    "- NOT taking any shortcuts. The instructions are like constraints for following a path of actions, If I describe a method for making coffee at home, I dont want my robot to go buy coffee. \n",
    "\n",
    "Best outcome (Realistic instructions)\n",
    "-----------------\n",
    "\"Given a block of text containing <b>multiple</b> instructions and <b>multiple</b> instructions per sentence, in <b>sequential</b> order, follow instructions.\"\n",
    "\n",
    "An Algorithm for best outcome\n",
    "-------------------------------------\n",
    "1. Break text into instructions\n",
    "2. For every instruction in instruction set\n",
    "    3. Follow instructions such that we observe (measure) instructions output.\n",
    "4. Finish. Instructions have been followed.\n",
    "\n",
    "Components of algorithm\n",
    "------------------------------\n",
    "[1] \"Break text into instructions\"\n",
    "Here an instruction is text which has a single output. This will be the hardest part in my opinion because the strength of the instruction processing determins how easy it is for our model to intepret instructions. \n",
    "Note: This can be a preprocessing step. \n",
    "We must find atomic (smallest) instructions. What we want to do in this step is find\n",
    "segments of the text which propose some action. Because we assume multiple instructions can occupy a single sentence we will have to break instructions on sentences and by detecting propositions. Then we must join propositions that are part of the same instruction by using coreference resolution. \n",
    "I think it would be constructive to learn a sequence model that starts at the beginning of the block of text and moves along each word outputing a single tag: \"blank\" \"action\" \"argument\" \"eos\". When the \"eos\" tag is produced we consider an instruction extracted. \n",
    "\n",
    "[3] \"Follow instructions such that we observe (measure) instructions output.\" \n",
    "Using an entire graph and a single instruction, for every node calculate the probability of moving there. This is niko's component. Some adaption is required for compressing the sentence text to be compared to each node. "
   ]
  },
  {
   "cell_type": "markdown",
   "metadata": {},
   "source": [
    "### ALFRED EDA (Exploratory Data Analysis)\n",
    "To approach any AI problem you must look at the data, this is what the EDA process does. "
   ]
  },
  {
   "cell_type": "code",
   "execution_count": 45,
   "metadata": {},
   "outputs": [],
   "source": [
    "# Transforming the ALFRED dataset\n",
    "import tqdm\n",
    "import glob\n",
    "import json\n",
    "import csv\n",
    "\n",
    "COMPUTER = 'PC' #'MAC'\n",
    "PC_ALFRED_DATA = 'D:\\\\Datasets\\\\alfred\\\\data\\\\ALFRED_json_2.1.0\\\\'\n",
    "LAPTOP_ALFRED_DATA = 'datasets/alfred/data/ALFRED_json_2.1.0/' #Using the json data because image features arent used yet...\n",
    "JSON_PATH = '/*/*/*.json'\n",
    "if COMPUTER == 'PC':\n",
    "    JSON_PATH = JSON_PATH.replace('/','\\\\')\n",
    "TEST_JSON_PATH = '/*/*.json'\n",
    "if COMPUTER == 'PC':\n",
    "    TEST_JSON_PATH = TEST_JSON_PATH.replace('/','\\\\')\n",
    "ALFRED_TRAIN_INSTRUCTION_TSV_FILENAME = 'ALFRED_Train_InstActionArgs.tsv'\n",
    "ALFRED_VALIDATION_INSTRUCTION_TSV_FILENAME = 'ALFRED_Validation_InstActionArgs.tsv'\n",
    "ALFRED_TEST_INSTRUCTION_TSV_FILENAME = 'ALFRED_Test_InstActionArgs.tsv'"
   ]
  },
  {
   "cell_type": "code",
   "execution_count": 84,
   "metadata": {},
   "outputs": [
    {
     "data": {
      "application/vnd.jupyter.widget-view+json": {
       "model_id": "13670ad477554f2bb265becd70a49a3a",
       "version_major": 2,
       "version_minor": 0
      },
      "text/plain": [
       "HBox(children=(IntProgress(value=0, max=6574), HTML(value='')))"
      ]
     },
     "metadata": {},
     "output_type": "display_data"
    },
    {
     "name": "stdout",
     "output_type": "stream",
     "text": [
      "\n"
     ]
    },
    {
     "data": {
      "application/vnd.jupyter.widget-view+json": {
       "model_id": "5f5a1af1c0234464a699b451efb1d5f5",
       "version_major": 2,
       "version_minor": 0
      },
      "text/plain": [
       "HBox(children=(IntProgress(value=0, max=251), HTML(value='')))"
      ]
     },
     "metadata": {},
     "output_type": "display_data"
    },
    {
     "name": "stdout",
     "output_type": "stream",
     "text": [
      "\n"
     ]
    },
    {
     "data": {
      "application/vnd.jupyter.widget-view+json": {
       "model_id": "2e00641fcb09440d95bd0509b0606624",
       "version_major": 2,
       "version_minor": 0
      },
      "text/plain": [
       "HBox(children=(IntProgress(value=0, max=483), HTML(value='')))"
      ]
     },
     "metadata": {},
     "output_type": "display_data"
    },
    {
     "name": "stdout",
     "output_type": "stream",
     "text": [
      "\n"
     ]
    }
   ],
   "source": [
    "def load_alfred_json_folder(alfred_json_folder, output_tsv):\n",
    "    # Get list of all instructions and their trajectories\n",
    "    # glob.glob gets all files and stores them. iglob makes an iterator.\n",
    "    ALFRED_PATH = (PC_ALFRED_DATA if COMPUTER == 'PC' else LAPTOP_ALFRED_DATA) + alfred_json_folder\n",
    "    train_json_files = glob.glob(ALFRED_PATH + JSON_PATH)\n",
    "\n",
    "    # Preprocess ALFRED training data, only run once.\n",
    "    with open(output_tsv, 'wt', newline='', encoding='utf-8') as out_file:\n",
    "        tsv_writer = csv.writer(out_file, delimiter='\\t')\n",
    "        for json_file_idx in tqdm.notebook.tqdm(range(len(train_json_files))):\n",
    "            data = json.load(open(train_json_files[json_file_idx]))\n",
    "            instructions = data['turk_annotations']['anns']\n",
    "            actions = data['plan']['high_pddl']\n",
    "            for d in instructions:\n",
    "                for i in range(len(d['high_descs'])):\n",
    "                    row = [json_file_idx, d['task_desc'], i, d['high_descs'][i], actions[i]['discrete_action']['action']]\n",
    "                    row.extend([actions[i]['discrete_action']['args'][arg] if arg < len(actions[i]['discrete_action']['args']) else '<unk>' for arg in range(2)])\n",
    "                    tsv_writer.writerow(row)\n",
    "\n",
    "load_alfred_json_folder('train', ALFRED_TRAIN_INSTRUCTION_TSV_FILENAME)\n",
    "load_alfred_json_folder('valid_seen', ALFRED_VALIDATION_INSTRUCTION_TSV_FILENAME)\n",
    "\n",
    "# Preprocess ALFRED test data. Special case because missing plan information.\n",
    "ALFRED_PATH = (PC_ALFRED_DATA if COMPUTER == 'PC' else LAPTOP_ALFRED_DATA) + 'tests_seen'\n",
    "train_json_files = glob.glob(ALFRED_PATH + TEST_JSON_PATH)\n",
    "\n",
    "with open(ALFRED_TEST_INSTRUCTION_TSV_FILENAME, 'wt', newline='', encoding='utf-8') as out_file:\n",
    "    tsv_writer = csv.writer(out_file, delimiter='\\t')\n",
    "    for json_file_idx in tqdm.notebook.tqdm(range(len(train_json_files))):\n",
    "        data = json.load(open(train_json_files[json_file_idx]))\n",
    "        instructions = data['turk_annotations']['anns']\n",
    "        for d in instructions:\n",
    "            for i in range(len(d['high_descs'])):\n",
    "                row = [json_file_idx, d['task_desc'], i, d['high_descs'][i], '<unk>', '<unk>', '<unk>']\n",
    "                tsv_writer.writerow(row)"
   ]
  },
  {
   "cell_type": "code",
   "execution_count": 68,
   "metadata": {},
   "outputs": [],
   "source": [
    "import torchtext\n",
    "\n",
    "# Load FastText word vectors\n",
    "fast_text = torchtext.vocab.FastText(cache='D:\\\\Datasets\\\\.vector_cache')\n",
    "node_repr_dim = fast_text.dim"
   ]
  },
  {
   "cell_type": "code",
   "execution_count": 91,
   "metadata": {},
   "outputs": [],
   "source": [
    "# Load ALFRED training data using torchtext\n",
    "import torchtext.data as data\n",
    "\n",
    "#  Basic english normalisation, lowers and seperates grammar\n",
    "INSTRUCTION = data.Field(tokenize='basic_english', lower=True,\n",
    "                         init_token='<sos>',\n",
    "                         eos_token='<eos>',)\n",
    "ACTION = data.Field(is_target=True)\n",
    "ACTION_ARGUMENT_1 = data.Field(tokenize='basic_english',is_target=True)\n",
    "ACTION_ARGUMENT_2 = data.Field(tokenize='basic_english',is_target=True)\n",
    "\n",
    "train, val, test = data.TabularDataset.splits(\n",
    "    path='', \n",
    "    train=ALFRED_TRAIN_INSTRUCTION_TSV_FILENAME,\n",
    "    validation=ALFRED_VALIDATION_INSTRUCTION_TSV_FILENAME,\n",
    "    test=ALFRED_TEST_INSTRUCTION_TSV_FILENAME, format='tsv',\n",
    "    fields=[('trajectory_number', None),\n",
    "            ('task_description', None),\n",
    "            ('instruction_number', None),\n",
    "            ('instruction', INSTRUCTION),\n",
    "            ('action', ACTION),\n",
    "            ('action_argument_1', ACTION_ARGUMENT_1),\n",
    "            ('action_argument_2', ACTION_ARGUMENT_2)\n",
    "           ])\n",
    "\n",
    "INSTRUCTION.build_vocab(train,vectors=fast_text) #'fasttext.en.300d')\n",
    "ACTION.build_vocab(train)\n",
    "ACTION_ARGUMENT_1.build_vocab(train,vectors=fast_text)\n",
    "ACTION_ARGUMENT_2.build_vocab(train,vectors=fast_text)"
   ]
  },
  {
   "cell_type": "code",
   "execution_count": 142,
   "metadata": {},
   "outputs": [
    {
     "name": "stdout",
     "output_type": "stream",
     "text": [
      "Instruction vocab size: 2049\n",
      "Argument 1 vocab size: 82\n",
      "Argument 2 vocab size: 33\n"
     ]
    },
    {
     "data": {
      "image/png": "[encoded data removed]",
      "text/plain": [
       "<Figure size 432x288 with 1 Axes>"
      ]
     },
     "metadata": {
      "needs_background": "light"
     },
     "output_type": "display_data"
    },
    {
     "name": "stdout",
     "output_type": "stream",
     "text": [
      "Number of actions + <unk> / <pad>??: 10\n",
      "Action vocab freqs: {'GotoLocation': 67904, 'PickupObject': 30852, 'PutObject': 28489, 'SliceObject': 3047, 'CoolObject': 2950, 'HeatObject': 2943, 'CleanObject': 2842, 'ToggleObject': 2251}\n"
     ]
    },
    {
     "data": {
      "image/png": "[encoded data removed]",
      "text/plain": [
       "<Figure size 432x288 with 1 Axes>"
      ]
     },
     "metadata": {
      "needs_background": "light"
     },
     "output_type": "display_data"
    },
    {
     "name": "stdout",
     "output_type": "stream",
     "text": [
      "torch.Size([7, 1, 300])\n"
     ]
    },
    {
     "ename": "AssertionError",
     "evalue": "",
     "output_type": "error",
     "traceback": [
      "\u001b[1;31m---------------------------------------------------------------------------\u001b[0m",
      "\u001b[1;31mAssertionError\u001b[0m                            Traceback (most recent call last)",
      "\u001b[1;32m<ipython-input-142-c462fe9f5b84>\u001b[0m in \u001b[0;36m<module>\u001b[1;34m\u001b[0m\n\u001b[0;32m     43\u001b[0m     \u001b[0minstruction_nums\u001b[0m \u001b[1;33m=\u001b[0m \u001b[0mINSTRUCTION\u001b[0m\u001b[1;33m.\u001b[0m\u001b[0mnumericalize\u001b[0m\u001b[1;33m(\u001b[0m\u001b[1;33m[\u001b[0m\u001b[0mbatch\u001b[0m\u001b[1;33m.\u001b[0m\u001b[0minstruction\u001b[0m\u001b[1;33m]\u001b[0m\u001b[1;33m)\u001b[0m\u001b[1;33m\u001b[0m\u001b[1;33m\u001b[0m\u001b[0m\n\u001b[0;32m     44\u001b[0m     \u001b[0mprint\u001b[0m\u001b[1;33m(\u001b[0m\u001b[0mINSTRUCTION\u001b[0m\u001b[1;33m.\u001b[0m\u001b[0mvocab\u001b[0m\u001b[1;33m.\u001b[0m\u001b[0mvectors\u001b[0m\u001b[1;33m[\u001b[0m\u001b[0minstruction_nums\u001b[0m\u001b[1;33m]\u001b[0m\u001b[1;33m.\u001b[0m\u001b[0mshape\u001b[0m\u001b[1;33m)\u001b[0m\u001b[1;33m\u001b[0m\u001b[1;33m\u001b[0m\u001b[0m\n\u001b[1;32m---> 45\u001b[1;33m     \u001b[1;32massert\u001b[0m \u001b[1;32mFalse\u001b[0m\u001b[1;33m\u001b[0m\u001b[1;33m\u001b[0m\u001b[0m\n\u001b[0m",
      "\u001b[1;31mAssertionError\u001b[0m: "
     ]
    }
   ],
   "source": [
    "# Some data analysis on the ALFRED dataset\n",
    "import matplotlib.pyplot as plt\n",
    "\n",
    "INSTRUCTION.vocab.freqs\n",
    "ACTION_ARGUMENT_1.vocab.freqs\n",
    "ACTION_ARGUMENT_2.vocab.freqs\n",
    "\n",
    "# Vocab size graph\n",
    "instruction_vocab_size = len(INSTRUCTION.vocab.stoi)\n",
    "argument1_vocab_size = len(ACTION_ARGUMENT_1.vocab.stoi)\n",
    "argument2_vocab_size = len(ACTION_ARGUMENT_2.vocab.stoi)\n",
    "print('Instruction vocab size:', instruction_vocab_size)\n",
    "print('Argument 1 vocab size:', argument1_vocab_size)\n",
    "print('Argument 2 vocab size:', argument2_vocab_size)\n",
    "x = np.arange(3)\n",
    "fig, ax = plt.subplots()\n",
    "args_dist = ax.bar(x, [instruction_vocab_size, argument1_vocab_size, argument2_vocab_size], 0.5, label=\"Vocab Size\")\n",
    "ax.set_xticks(x)\n",
    "ax.set_xticklabels(['Instructions', 'Argument One', 'Argument Two'])\n",
    "plt.xticks(rotation=45)\n",
    "fig.tight_layout()\n",
    "ax.legend()\n",
    "plt.show()\n",
    "\n",
    "# Action graph\n",
    "action_vocab = ACTION.vocab.freqs\n",
    "action_vocab = {k: v for k, v in sorted(action_vocab.items(), key=lambda item: item[1], reverse=True)}\n",
    "print('Number of actions 8 + <unk> / <pad>??:', len(ACTION.vocab.stoi))\n",
    "print('Action vocab freqs:', action_vocab)\n",
    "x = np.arange(len(action_vocab))\n",
    "fig, ax = plt.subplots()\n",
    "args_dist = ax.bar(x, action_vocab.values(), 0.5, label=\"Action Frequency\")\n",
    "#action_dist = ax.bar(x + 0.5/2, action_cosine_sims, 0.5, label=\"Action Cosine Similarity\")\n",
    "ax.set_xticks(x)\n",
    "ax.set_xticklabels(action_vocab.keys())\n",
    "plt.xticks(rotation=45)\n",
    "fig.tight_layout()\n",
    "ax.legend()\n",
    "plt.show()\n",
    "\n",
    "\n",
    "for batch in train:\n",
    "    instruction_nums = INSTRUCTION.numericalize([batch.instruction])\n",
    "    print(INSTRUCTION.vocab.vectors[instruction_nums].shape)\n",
    "    assert False"
   ]
  },
  {
   "cell_type": "code",
   "execution_count": 23,
   "metadata": {},
   "outputs": [
    {
     "name": "stdout",
     "output_type": "stream",
     "text": [
      "------------------------------\n",
      "TASK: Pick up the alarm clock and turn on the lamp.\n",
      "INSTRUCTION 0:Turn left and face the dresser.\n",
      "\tACTION [{'action': 'GotoLocation', 'args': ['dresser']}]\n",
      "INSTRUCTION 1:Pick up the alarm clock from the dresser.\n",
      "\tACTION [{'action': 'PickupObject', 'args': ['alarmclock']}]\n",
      "INSTRUCTION 2:Turn left, look and then face the lamp.\n",
      "\tACTION [{'action': 'GotoLocation', 'args': ['desklamp']}]\n",
      "INSTRUCTION 3:Turn the lamp on.\n",
      "\tACTION [{'action': 'ToggleObject', 'args': ['desklamp']}]\n",
      "['Pick', 'up', 'the', 'alarm', 'clock', 'from', 'the', 'dresser']\n",
      "alarmclock\n"
     ]
    },
    {
     "data": {
      "image/png": "[encoded data removed]",
      "text/plain": [
       "<Figure size 432x288 with 1 Axes>"
      ]
     },
     "metadata": {
      "needs_background": "light"
     },
     "output_type": "display_data"
    }
   ],
   "source": [
    "import numpy as np\n",
    "import torch\n",
    "\n",
    "# Align a single instruction to its \"output\" (its action and arguments)\n",
    "\n",
    "def cosine_sim(a, b):\n",
    "    cos_sim = np.dot(a, b)/(np.linalg.norm(a)*np.linalg.norm(b))\n",
    "    return cos_sim\n",
    "\n",
    "def max_word_vectors(vec_arr):\n",
    "    return torch.stack(vec_arr).max(dim=0)[0]\n",
    "\n",
    "def avg_word_vectors(vec_arr):\n",
    "    return torch.stack(vec_arr).mean(dim=0)\n",
    "\n",
    "def sum_word_vectors(vec_arr):\n",
    "    return torch.stack(vec_arr).sum(dim=0)\n",
    "\n",
    "def ai2thor_action_to_words(action):\n",
    "    if action == \"GotoLocation\":\n",
    "        return [\"go\", \"to\", \"location\"]\n",
    "    elif action == \"PickupObject\":\n",
    "        return [\"pick\", \"up\", \"object\"]\n",
    "    elif action == \"PutObject\":\n",
    "        return [\"put\", \"object\"]\n",
    "\n",
    "instruction_idx = 1\n",
    "instruction = instructions[0]\n",
    "task_desc = instruction['task_desc']\n",
    "instruction_text = instruction['high_descs'][instruction_idx]\n",
    "instruction_action = actions[instruction_idx]['discrete_action']['action']\n",
    "instruction_action_args = actions[instruction_idx]['discrete_action']['args']\n",
    "\n",
    "print('-' * 30)\n",
    "print(f\"TASK: {instruction['task_desc']}\")\n",
    "for i in range(len(instruction['high_descs'])):\n",
    "    print(f\"INSTRUCTION {i}:{instruction['high_descs'][i]}\")\n",
    "    print(f\"\\tACTION [{actions[i]['discrete_action']}]\")\n",
    "\n",
    "arg_cosine_sims = []\n",
    "action_cosine_sims = []\n",
    "arg_vec = fast_text.get_vecs_by_tokens(instruction_action_args[0].lower())\n",
    "action_words = ai2thor_action_to_words(actions[instruction_idx]['discrete_action']['action'])\n",
    "action_vec = avg_word_vectors([fast_text.get_vecs_by_tokens(word.lower()) for word in action_words])\n",
    "instruction_words = instruction_text.replace('.','')\n",
    "instruction_words = instruction_words.split()\n",
    "for word in instruction_words:\n",
    "    inst_vec = fast_text.get_vecs_by_tokens(word.lower())\n",
    "    arg_cosine_sims.append(cosine_sim(arg_vec, inst_vec))\n",
    "    action_cosine_sims.append(cosine_sim(action_vec, inst_vec))\n",
    "\n",
    "print(instruction_words)\n",
    "print(instruction_action_args[0])\n",
    "x = np.arange(len(arg_cosine_sims))\n",
    "fig, ax = plt.subplots()\n",
    "args_dist = ax.bar(x - 0.5/2, arg_cosine_sims, 0.5, label=\"Arg Cosine Similarity\")\n",
    "action_dist = ax.bar(x + 0.5/2, action_cosine_sims, 0.5, label=\"Action Cosine Similarity\")\n",
    "ax.set_xticks(x)\n",
    "ax.set_xticklabels(instruction_words)\n",
    "fig.tight_layout()\n",
    "ax.legend()\n",
    "plt.show()"
   ]
  },
  {
   "cell_type": "markdown",
   "metadata": {},
   "source": [
    "My current philosophy is that in order for my agent to make the right decisions it needs to know about three things: The graph (The environment), the action, and the action arguments. The current approach to is to format action as selection. Selection of a node in the graph. Selection is done by giving a value to each node based on the node representation (often includes neighbouring features with a GCN), the instruction's action, and the instruction's arguments. Extracting the action and arguments from instruction text is my current challenge. "
   ]
  },
  {
   "cell_type": "code",
   "execution_count": null,
   "metadata": {},
   "outputs": [],
   "source": [
    "# Instruction Arguments Classifier\n",
    "import torch\n",
    "import torch.nn as nn\n",
    "\n",
    "# The objective of this network is to predict arguments\n",
    "# for the action provided by the instruction text.\n",
    "# There are too many possible arguments to frame this as a\n",
    "# classification problem. Instead I'll limit the search by\n",
    "# predicting the likelihood of words inside the instruction \n",
    "# that are arguments for an action.\n",
    "# Data: In order to predict arguments I need to know which words are\n",
    "# linked with the arguments. I'll do this by training to maximise\n",
    "# the cosine similarity between the predicted argument and the actual\n",
    "# arguments. \n",
    "# Limitations: Assumes the cosine similarity of our word vector\n",
    "# is high compared to our argument. \n",
    "# Assumes the arguments are found inside the instruction.\n"
   ]
  },
  {
   "cell_type": "code",
   "execution_count": 20,
   "metadata": {},
   "outputs": [],
   "source": [
    "# Instruction Action Classifier: Linear Text Classifier of Embedding Bag\n",
    "\n",
    "# The objective of this network is to take some\n",
    "# sentence embedding and classify its intended action.\n",
    "\n",
    "class InstructionActionNet(nn.Module):\n",
    "    def __init__(self, dim_in=300, dim_out=3):\n",
    "        super(InstructionNet, self).__init__()\n",
    "        self.fc1 = nn.Linear(dim_in, dim_out)\n",
    "    \n",
    "    def forward(self, x):\n",
    "        x = self.fc1(x)\n",
    "        return x"
   ]
  },
  {
   "cell_type": "code",
   "execution_count": 22,
   "metadata": {},
   "outputs": [
    {
     "data": {
      "text/plain": [
       "InstructionNet(\n",
       "  (rnn): LSTM(300, 3)\n",
       ")"
      ]
     },
     "execution_count": 22,
     "metadata": {},
     "output_type": "execute_result"
    }
   ],
   "source": [
    "device = torch.device('cuda' if torch.cuda.is_available() else 'cpu')\n",
    "\n",
    "model = InstructionAction(dim_in=node_repr_dim, dim_out=3).to(device)"
   ]
  }
 ],
 "metadata": {
  "kernelspec": {
   "display_name": "Python 3",
   "language": "python",
   "name": "python3"
  },
  "language_info": {
   "codemirror_mode": {
    "name": "ipython",
    "version": 3
   },
   "file_extension": ".py",
   "mimetype": "text/x-python",
   "name": "python",
   "nbconvert_exporter": "python",
   "pygments_lexer": "ipython3",
   "version": "3.7.4"
  }
 },
 "nbformat": 4,
 "nbformat_minor": 4
}
