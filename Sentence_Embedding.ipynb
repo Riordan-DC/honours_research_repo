{
 "cells": [
  {
   "cell_type": "markdown",
   "id": "french-durham",
   "metadata": {},
   "source": [
    "# Sentence Embedding\n",
    "Riordan Callil 2021\n",
    "Honours research\n",
    "Developing an instruction understanding robot\n",
    "Current design: Instruction understanding using sentence embedding. Sentence embedding network will be trained in two phases. (1) Trained as a sentence autoencoder. Using the translation encoder-decoder framework. I will train the network to reconstruct the initial instruction from the latent representation. (2) I will fine tune the networks latent representations by training a classifier that uses the latent space to predict instruction action. (3) (FUTURE) As an additional step I might train the sentence autoencoder to translate high level instructions to low level instructions and visa versa. "
   ]
  },
  {
   "cell_type": "markdown",
   "id": "interstate-housing",
   "metadata": {},
   "source": [
    "# Utils"
   ]
  },
  {
   "cell_type": "code",
   "execution_count": 1,
   "id": "simple-scoop",
   "metadata": {},
   "outputs": [],
   "source": [
    "import time\n",
    "import math\n",
    "\n",
    "def as_minutes(s):\n",
    "    m = math.floor(s / 60)\n",
    "    s -= m * 60\n",
    "    return '%dm %ds' % (m, s)\n",
    "\n",
    "\n",
    "def time_since(since, percent):\n",
    "    now = time.time()\n",
    "    s = now - since\n",
    "    es = s / (percent)\n",
    "    rs = es - s\n",
    "    return '%s (- %s)' % (as_minutes(s), as_minutes(rs))\n",
    "\n",
    "import matplotlib.pyplot as plt\n",
    "import matplotlib.ticker as ticker\n",
    "import numpy as np\n",
    "\n",
    "def show_plot(points):\n",
    "    plt.figure()\n",
    "    fig, ax = plt.subplots()\n",
    "    plt.plot(points)\n",
    "    plt.show()"
   ]
  },
  {
   "cell_type": "markdown",
   "id": "separated-thong",
   "metadata": {},
   "source": [
    "# Dataset: ALFRED"
   ]
  },
  {
   "cell_type": "code",
   "execution_count": 25,
   "id": "loved-alpha",
   "metadata": {},
   "outputs": [
    {
     "name": "stderr",
     "output_type": "stream",
     "text": [
      "100%|█████████████████████████████████████████████████████████████████████████████| 6574/6574 [00:23<00:00, 278.56it/s]\n",
      "100%|███████████████████████████████████████████████████████████████████████████████| 255/255 [00:00<00:00, 309.47it/s]\n"
     ]
    }
   ],
   "source": [
    "import tqdm\n",
    "import glob\n",
    "import json\n",
    "import string\n",
    "import torchtext\n",
    "from torchtext.data import get_tokenizer\n",
    "from nltk.stem import WordNetLemmatizer\n",
    "\n",
    "# Loading and Transforming the ALFRED dataset utilites\n",
    "\n",
    "def load_next_alfred_data(ALFRED_JSON_PATTERN):\n",
    "    \"\"\"\n",
    "     Get list of all instructions and their trajectories\n",
    "     glob.glob gets all files and stores them. iglob makes an iterator.\n",
    "     \n",
    "    Paramaters:\n",
    "        @alfred_json_pattern\n",
    "        A string which represents the location of the data with glob style\n",
    "        regex expressions to denote multiple subdirectories.\n",
    "    \"\"\" \n",
    "    train_json_files = glob.glob(ALFRED_JSON_PATTERN)\n",
    "    tokenizer = get_tokenizer(\"basic_english\")\n",
    "    wnl = WordNetLemmatizer()\n",
    "    dataset = []\n",
    "    \n",
    "    stop_words = [\"the\", \"and\", \"of\", \"a\", \"is\", \"over\"]\n",
    "    \n",
    "    def preprocess_sentence(sentence):\n",
    "        sentence = tokenizer(sentence)\n",
    "        sentence = filter(lambda x: not x in string.punctuation, sentence)\n",
    "        sentence = [wnl.lemmatize(word) for word in sentence]\n",
    "        sentence = list(filter(lambda x: not x in stop_words, sentence))\n",
    "        return sentence\n",
    "    \n",
    "    # Yeild an alfred json\n",
    "    for json_file_idx in tqdm.tqdm(range(len(train_json_files))):\n",
    "        data = json.load(open(train_json_files[json_file_idx]))\n",
    "        annotations = data['turk_annotations']['anns']\n",
    "        actions = data['plan']['high_pddl']\n",
    "        scene = data['scene']\n",
    "        scene['task_id'] = data['task_id']\n",
    "        \n",
    "        instruction_actions = []\n",
    "        for d in annotations:\n",
    "            votes = d['votes']\n",
    "            if any(votes): # WARNING: Limiting dataset based on votes\n",
    "                trajectory = {'task_desc': [], 'instructions': []}\n",
    "                trajectory['task_desc'] = preprocess_sentence(d['task_desc'])\n",
    "                for i in range(len(d['high_descs'])):\n",
    "                    sanitized_instruction = preprocess_sentence(d['high_descs'][i])\n",
    "                    instruction = {'instruction': sanitized_instruction, \n",
    "                                   'action': actions[i]['discrete_action']['action'],\n",
    "                                   'argument_1': actions[i]['discrete_action']['args'][0] if 0 < len(actions[i]['discrete_action']['args']) else '<unk>', \n",
    "                                   'argument_2': actions[i]['discrete_action']['args'][1] if 1 < len(actions[i]['discrete_action']['args']) else '<unk>'}\n",
    "                    trajectory['instructions'].append(instruction)\n",
    "                instruction_actions.append(trajectory)\n",
    "\n",
    "        if len(instruction_actions) > 0:\n",
    "            dataset.append((instruction_actions, scene))\n",
    "    return dataset\n",
    "\n",
    "train_dataset = load_next_alfred_data(\"D:/Datasets/alfred/data/ALFRED_json_2.1.0/train/*/*/*.json\")\n",
    "eval_dataset = load_next_alfred_data(\"D:/Datasets/alfred/data/ALFRED_json_2.1.0/valid_unseen/*/*/*.json\")"
   ]
  },
  {
   "cell_type": "code",
   "execution_count": 26,
   "id": "fatal-digit",
   "metadata": {},
   "outputs": [
    {
     "name": "stderr",
     "output_type": "stream",
     "text": [
      "100%|███████████████████████████████████████████████████████████████████████████| 6574/6574 [00:00<00:00, 12689.91it/s]\n",
      "100%|█████████████████████████████████████████████████████████████████████████████| 255/255 [00:00<00:00, 12143.46it/s]"
     ]
    },
    {
     "name": "stdout",
     "output_type": "stream",
     "text": [
      "average sentence length = 6.92 words\n",
      "vocab size = 2053\n",
      "most common words:  [('to', 98305), ('turn', 72887), ('on', 56709), ('right', 44577), ('left', 43432), ('in', 38055), ('up', 32122), ('walk', 30867), ('put', 28952), ('table', 28084)]\n",
      "most common actions:  [('GotoLocation', 70355), ('PickupObject', 31968), ('PutObject', 29426), ('SliceObject', 3152), ('HeatObject', 3079), ('CoolObject', 3059), ('CleanObject', 2955), ('ToggleObject', 2424), ('<SOS>', 1), ('<EOS>', 1)]\n",
      "number of arguments =  83\n",
      "{'GotoLocation': 0, 'PickupObject': 1, 'ToggleObject': 2, 'PutObject': 3, 'SliceObject': 4, 'CleanObject': 5, 'CoolObject': 6, 'HeatObject': 7, '<SOS>': 8, '<EOS>': 9}\n",
      "{'dresser': 0, 'alarmclock': 1, 'desklamp': 2, 'desk': 3, 'shelf': 4, 'sidetable': 5, 'baseballbat': 6, 'basketball': 7, 'book': 8, 'bed': 9, 'bowl': 10, 'sofa': 11, 'box': 12, 'coffeetable': 13, 'diningtable': 14, 'floorlamp': 15, 'candle': 16, 'cd': 17, 'drawer': 18, 'garbagecan': 19, 'cellphone': 20, 'armchair': 21, 'ottoman': 22, 'cloth': 23, 'creditcard': 24, 'keychain': 25, 'laptop': 26, 'mug': 27, 'newspaper': 28, 'pen': 29, 'pencil': 30, 'pillow': 31, 'plate': 32, 'remotecontrol': 33, 'statue': 34, 'tennisracket': 35, 'tissuebox': 36, 'vase': 37, 'watch': 38, 'wateringcan': 39, 'countertop': 40, 'knife': 41, 'apple': 42, 'fridge': 43, 'microwave': 44, 'sinkbasin': 45, 'butterknife': 46, 'cabinet': 47, 'bread': 48, 'toilet': 49, 'cart': 50, 'safe': 51, 'bathtubbasin': 52, 'cup': 53, 'dishsponge': 54, 'egg': 55, 'fork': 56, 'glassbottle': 57, 'handtowelholder': 58, 'handtowel': 59, 'kettle': 60, 'stoveburner': 61, 'ladle': 62, 'lettuce': 63, 'pan': 64, 'peppershaker': 65, 'plunger': 66, 'pot': 67, 'potato': 68, 'saltshaker': 69, 'soapbar': 70, 'soapbottle': 71, 'spoon': 72, 'spraybottle': 73, 'toiletpaper': 74, 'toiletpaperhanger': 75, 'tomato': 76, 'winebottle': 77, 'coffeemachine': 78, 'spatula': 79, '': 80, '<SOS>': 81, '<EOS>': 82}\n"
     ]
    },
    {
     "name": "stderr",
     "output_type": "stream",
     "text": [
      "\n"
     ]
    }
   ],
   "source": [
    "import json\n",
    "import os\n",
    "\n",
    "class Language:\n",
    "    def __init__(self):\n",
    "        self.word2index = {}\n",
    "        self.word2count = {}\n",
    "        self.index2word = {}\n",
    "        self.n_words = 0\n",
    "    \n",
    "    def add_sentence(self, sentence):\n",
    "        for word in sentence:\n",
    "            self.add_word(word)\n",
    "    \n",
    "    def add_word(self, word):\n",
    "        if word not in self.word2index: # Add word to langauge if unseen \n",
    "            self.word2index[word] = self.n_words\n",
    "            self.word2count[word] = 1\n",
    "            self.index2word[self.n_words] = word\n",
    "            self.n_words += 1\n",
    "        else:\n",
    "            self.word2count[word] += 1\n",
    "    \n",
    "    def word(self, index):\n",
    "        return self.index2word.get(str(index), f\"<unk:{index}>\")\n",
    "    \n",
    "    def index(self, word):\n",
    "        return self.word2index.get(word, f\"<unk:{word}>\")\n",
    "    \n",
    "    def dump(self, filename):\n",
    "        obj = {\n",
    "            'word2index' : self.word2index,\n",
    "            'word2count' : self.word2count,\n",
    "            'index2word' : self.index2word,\n",
    "            'n_words' : self.n_words\n",
    "        }\n",
    "        with open(filename, 'w') as fp:\n",
    "            json.dump(obj, fp)\n",
    "    \n",
    "    def load(self, filename):\n",
    "        with open(filename, 'r') as fp:\n",
    "            obj = json.load(fp)\n",
    "            self.word2index = obj['word2index']\n",
    "            self.word2count = obj['word2count']\n",
    "            self.index2word = obj['index2word']\n",
    "            self.n_words = obj['n_words']\n",
    "    \n",
    "    def reset_counts(self):\n",
    "        self.word2count = dict.fromkeys(self.word2count, 0)\n",
    "\n",
    "# Check if backup, pickled, langauge object exists\n",
    "lang = Language()\n",
    "if os.path.isfile('instruction_language.json'):\n",
    "    lang.load('instruction_language.json')\n",
    "    lang.reset_counts()\n",
    "\n",
    "action_lang = Language()\n",
    "if os.path.isfile('action_language.json'):\n",
    "    action_lang.load('action_language.json')\n",
    "    action_lang.reset_counts()\n",
    "\n",
    "argument_lang = Language()\n",
    "if os.path.isfile('argument_language.json'):\n",
    "    argument_lang.load('argument_language.json')\n",
    "    argument_lang.reset_counts()\n",
    "\n",
    "lang.add_sentence([\"<SOS>\", \"<EOS>\"])\n",
    "action_lang.add_sentence([\"<SOS>\", \"<EOS>\"])\n",
    "argument_lang.add_sentence([\"<SOS>\", \"<EOS>\"])\n",
    "\n",
    "def add_dataset_to_language(lang, dataset):\n",
    "    sentence_lengths = []\n",
    "    # Add dataset to langauge object\n",
    "    for task in tqdm.tqdm(dataset): \n",
    "        for trajectory in task[0]:\n",
    "            lang.add_sentence(trajectory['task_desc'])\n",
    "            sentence_lengths.append(len(trajectory['task_desc']))\n",
    "            for instruction in trajectory['instructions']:\n",
    "                instruction_text = instruction['instruction']\n",
    "                instruction_action = instruction['action']\n",
    "                instruction_arg_1 = instruction['argument_1']\n",
    "                instruction_arg_2 = instruction['argument_2']\n",
    "                if len(instruction_text) > 0:\n",
    "                    lang.add_sentence(instruction_text)\n",
    "                action_lang.add_word(instruction_action)\n",
    "                if instruction_arg_1 != '<unk>':\n",
    "                    lang.add_word(instruction_arg_1)\n",
    "                    argument_lang.add_word(instruction_arg_1)\n",
    "                if instruction_arg_2 != '<unk>':\n",
    "                    lang.add_word(instruction_arg_2)\n",
    "                    argument_lang.add_word(instruction_arg_2)\n",
    " \n",
    "            sentence_lengths.append(len(instruction_text))\n",
    "    return sentence_lengths\n",
    "                    \n",
    "sentence_lengths = add_dataset_to_language(lang, train_dataset)\n",
    "eval_sentence_lengths = add_dataset_to_language(lang, eval_dataset)\n",
    "sentence_lengths.extend(eval_sentence_lengths)\n",
    "\n",
    "print('average sentence length = %.2f words' % (sum(sentence_lengths) / len(sentence_lengths)))\n",
    "\n",
    "# Pickle the language as a backup\n",
    "lang.dump('instruction_language.json')\n",
    "action_lang.dump('action_language.json')\n",
    "argument_lang.dump('argument_language.json')\n",
    "\n",
    "print('vocab size =', lang.n_words)\n",
    "print('most common words: ', sorted(lang.word2count.items(), key=lambda item: item[1], reverse=True)[:10])\n",
    "print('most common actions: ', sorted(action_lang.word2count.items(), key=lambda item: item[1], reverse=True))\n",
    "print('number of arguments = ', argument_lang.n_words)\n",
    "\n",
    "print(action_lang.word2index)\n",
    "print(argument_lang.word2index)"
   ]
  },
  {
   "cell_type": "code",
   "execution_count": 31,
   "id": "western-plaza",
   "metadata": {},
   "outputs": [
    {
     "name": "stderr",
     "output_type": "stream",
     "text": [
      "100%|████████████████████████████████████████████████████████████████████████████| 6574/6574 [00:01<00:00, 5642.91it/s]\n",
      "100%|█████████████████████████████████████████████████████████████████████████████| 255/255 [00:00<00:00, 21248.16it/s]"
     ]
    },
    {
     "name": "stdout",
     "output_type": "stream",
     "text": [
      "train reconstruction samples = 162303\n",
      "train high -> low pairs = 141278\n",
      "train low -> action / argument pairs = 141278\n",
      "eval reconstruction samples = 5961\n",
      "eval high -> low pairs = 5140\n",
      "eval low -> action / argument pairs = 5140\n",
      "using device: cuda\n",
      "[['turn', 'left', 'to', 'face', 'dishwasher', 'mug'], ['GotoLocation'], ['coffeemachine']]\n",
      "(tensor([[   4],\n",
      "        [   7],\n",
      "        [  20],\n",
      "        [   8],\n",
      "        [ 928],\n",
      "        [ 455],\n",
      "        [2046]], device='cuda:0'), tensor([[0],\n",
      "        [9]], device='cuda:0'))\n",
      "[[['turn', 'left', 'face', 'dresser'], ['GotoLocation'], ['dresser']], [['pick', 'up', 'alarm', 'clock', 'from', 'dresser', 'dresser'], ['PickupObject'], ['alarmclock']], [['turn', 'left', 'look', 'then', 'face', 'lamp', 'alarmclock'], ['GotoLocation'], ['desklamp']], [['turn', 'lamp', 'on', 'desklamp'], ['ToggleObject'], ['desklamp']], [['move', 'to', 'white', 'dresser', 'to', 'left', 'bed'], ['GotoLocation'], ['dresser']]]\n",
      "[[['turn', 'to', 'left', 'face', 'desk'], ['GotoLocation'], ['desk']], [['pick', 'up', 'clock', 'from', 'back', 'desk', 'desk'], ['PickupObject'], ['alarmclock']], [['carry', 'clock', 'turn', 'to', 'right', 'turn', 'to', 'left', 'then', 'face', 'desk', 'on', 'left', 'alarmclock'], ['GotoLocation'], ['desklamp']], [['hold', 'clock', 'turn', 'on', 'lamp', 'on', 'right', 'side', 'desk', 'desklamp'], ['ToggleObject'], ['desklamp']], [['turn', 'around', 'completely', 'then', 'turn', 'right', 'to', 'face', 'desk'], ['GotoLocation'], ['desk']]]\n"
     ]
    },
    {
     "name": "stderr",
     "output_type": "stream",
     "text": [
      "\n"
     ]
    }
   ],
   "source": [
    "###### Train Cirriculum ######\n",
    "train_reconstruction = [] # [any text, any text]\n",
    "train_high_low_pairs = [] # [high level instruction, low level instruction] # Swap for variability\n",
    "train_low_action_argument_pairs = [] # [low level instructions, action, argument_1 argument_2]\n",
    "\n",
    "# Add dataset to langauge object\n",
    "for task in tqdm.tqdm(train_dataset):\n",
    "    for trajectory in task[0]:\n",
    "        train_reconstruction.append(trajectory['task_desc'])\n",
    "        for i, instruction in enumerate(trajectory['instructions']):\n",
    "            instruction_text = instruction['instruction'].copy()\n",
    "            instruction_action = instruction['action']\n",
    "            instruction_arg_1 = instruction['argument_1']\n",
    "            instruction_arg_2 = instruction['argument_2']\n",
    "            instruction_args = []\n",
    "            \n",
    "            if len(instruction_text) > 0:\n",
    "                # Append previous instruction arguments\n",
    "                if i > 0:\n",
    "                    instruction_text.extend(train_low_action_argument_pairs[-1][2])\n",
    "                \n",
    "                train_reconstruction.append(instruction_text)\n",
    "                train_high_low_pairs.append([trajectory['task_desc'], instruction_text])\n",
    "            \n",
    "            if instruction_arg_1 != '<unk>':\n",
    "                if instruction_arg_1 == 'wineglass':\n",
    "                    print(instruction_text,instruction_arg_1 )\n",
    "                instruction_args.append(instruction_arg_1)\n",
    "            if instruction_arg_2 != '<unk>':\n",
    "                instruction_args.append(instruction_arg_2)\n",
    "            \n",
    "            if len(instruction_args) > 0:\n",
    "                train_low_action_argument_pairs.append([instruction_text, [instruction_action], instruction_args])\n",
    "        \n",
    "print('train reconstruction samples =', len(train_reconstruction))\n",
    "print('train high -> low pairs =', len(train_high_low_pairs))\n",
    "print('train low -> action / argument pairs =', len(train_low_action_argument_pairs))\n",
    "\n",
    "###### Eval Cirriculum ######\n",
    "eval_reconstruction = [] # [any text, any text]\n",
    "eval_high_low_pairs = [] # [high level instruction, low level instruction] # Swap for variability\n",
    "eval_low_action_argument_pairs = [] # [low level instructions, action, argument_1 argument_2]\n",
    "\n",
    "# Add dataset to langauge object\n",
    "for task in tqdm.tqdm(eval_dataset):\n",
    "    for trajectory in task[0]:\n",
    "        eval_reconstruction.append(trajectory['task_desc'])\n",
    "        for i, instruction in enumerate(trajectory['instructions']):\n",
    "            instruction_text = instruction['instruction'].copy()\n",
    "            instruction_action = instruction['action']\n",
    "            instruction_arg_1 = instruction['argument_1']\n",
    "            instruction_arg_2 = instruction['argument_2']\n",
    "            instruction_args = []\n",
    "            \n",
    "            if len(instruction_text) > 0:\n",
    "                # Append previous instruction arguments\n",
    "                if i > 0:\n",
    "                    instruction_text.extend(eval_low_action_argument_pairs[-1][2])\n",
    "                \n",
    "                eval_reconstruction.append(instruction_text)\n",
    "                eval_high_low_pairs.append([trajectory['task_desc'], instruction_text])\n",
    "            \n",
    "            if instruction_arg_1 != '<unk>':\n",
    "                if instruction_arg_1 == 'wineglass':\n",
    "                    print(instruction_text,instruction_arg_1 )\n",
    "                instruction_args.append(instruction_arg_1)\n",
    "            if instruction_arg_2 != '<unk>':\n",
    "                instruction_args.append(instruction_arg_2)\n",
    "            \n",
    "            if len(instruction_args) > 0:\n",
    "                eval_low_action_argument_pairs.append([instruction_text, [instruction_action], instruction_args])\n",
    "\n",
    "print('eval reconstruction samples =', len(eval_reconstruction))\n",
    "print('eval high -> low pairs =', len(eval_high_low_pairs))\n",
    "print('eval low -> action / argument pairs =', len(eval_low_action_argument_pairs))\n",
    "\n",
    "import torch\n",
    "import random\n",
    "device = torch.device('cuda' if torch.cuda.is_available() else 'cpu')\n",
    "print('using device: {}'.format(device))\n",
    "\n",
    "# Prepare data for tensor representation\n",
    "def indices_from_sentence(lang, sentence):\n",
    "    return [lang.index(word) for word in sentence]\n",
    "\n",
    "def tensor_from_sentence(lang, sentence):\n",
    "    indices = indices_from_sentence(lang, sentence)\n",
    "    indices.append(lang.index('<EOS>'))\n",
    "    return torch.tensor(indices, dtype=torch.long, device=device).view(-1,1)\n",
    "\n",
    "def tensors_from_pair(input_lang, output_lang, pair):\n",
    "    input_tensor = tensor_from_sentence(input_lang, pair[0])\n",
    "    target_tensor = tensor_from_sentence(output_lang, pair[1])\n",
    "    return (input_tensor, target_tensor)\n",
    "\n",
    "rpair = random.choice(train_low_action_argument_pairs)\n",
    "print(rpair)\n",
    "print(tensors_from_pair(lang, action_lang, [rpair[0], rpair[1]]))\n",
    "print(train_low_action_argument_pairs[0:5])\n",
    "print(eval_low_action_argument_pairs[0:5])"
   ]
  },
  {
   "cell_type": "markdown",
   "id": "correct-knife",
   "metadata": {},
   "source": [
    "# Model"
   ]
  },
  {
   "cell_type": "code",
   "execution_count": 32,
   "id": "dated-better",
   "metadata": {},
   "outputs": [],
   "source": [
    "import torch\n",
    "import torch.nn as nn\n",
    "import torch.nn.functional as F\n",
    "from torch import optim\n",
    "\n",
    "MAX_LENGTH = 15\n",
    "\n",
    "# Sourced from Pytorch Tutorial: Seq2Seq Translation Tutorial\n",
    "# https://pytorch.org/tutorials/intermediate/seq2seq_translation_tutorial.html\n",
    "\n",
    "class EncoderRNN(nn.Module):\n",
    "    def __init__(self, input_size, hidden_size):\n",
    "        super(EncoderRNN, self).__init__()\n",
    "        self.hidden_size = hidden_size\n",
    "\n",
    "        self.embedding = nn.Embedding(input_size, hidden_size)\n",
    "        self.gru = nn.GRU(hidden_size, hidden_size)\n",
    "\n",
    "    def forward(self, input, hidden):\n",
    "        embedded = self.embedding(input).view(1, 1, -1)\n",
    "        output = embedded\n",
    "        output, hidden = self.gru(output, hidden)\n",
    "        return output, hidden\n",
    "\n",
    "    def initHidden(self):\n",
    "        return torch.zeros(1, 1, self.hidden_size, device=device)\n",
    "\n",
    "class AttnDecoderRNN(nn.Module):\n",
    "    def __init__(self, hidden_size, output_size, dropout_p=0.1, max_length=MAX_LENGTH):\n",
    "        super(AttnDecoderRNN, self).__init__()\n",
    "        self.hidden_size = hidden_size\n",
    "        self.output_size = output_size\n",
    "        self.dropout_p = dropout_p\n",
    "        self.max_length = max_length\n",
    "\n",
    "        self.embedding = nn.Embedding(self.output_size, self.hidden_size)\n",
    "        self.attn = nn.Linear(self.hidden_size * 2, self.max_length)\n",
    "        self.attn_combine = nn.Linear(self.hidden_size * 2, self.hidden_size)\n",
    "        self.dropout = nn.Dropout(self.dropout_p)\n",
    "        self.gru = nn.GRU(self.hidden_size, self.hidden_size)\n",
    "        self.out = nn.Linear(self.hidden_size, self.output_size)\n",
    "\n",
    "    def forward(self, _input, hidden, encoder_outputs):\n",
    "        embedded = self.embedding(_input).view(1, 1, -1)\n",
    "        embedded = self.dropout(embedded)\n",
    "\n",
    "        attn_weights = F.softmax(\n",
    "            self.attn(torch.cat((embedded[0], hidden[0]), 1)), dim=1)\n",
    "        attn_applied = torch.bmm(attn_weights.unsqueeze(0),\n",
    "                                 encoder_outputs.unsqueeze(0))\n",
    "\n",
    "        output = torch.cat((embedded[0], attn_applied[0]), 1)\n",
    "        output = self.attn_combine(output).unsqueeze(0)\n",
    "\n",
    "        output = F.relu(output)\n",
    "        output, hidden = self.gru(output, hidden)\n",
    "\n",
    "        output = F.log_softmax(self.out(output[0]), dim=1)\n",
    "        return output, hidden, attn_weights\n",
    "\n",
    "    def initHidden(self):\n",
    "        return torch.zeros(1, 1, self.hidden_size, device=device)"
   ]
  },
  {
   "cell_type": "markdown",
   "id": "opposed-choir",
   "metadata": {},
   "source": [
    "# Train - Action Decoder"
   ]
  },
  {
   "cell_type": "code",
   "execution_count": 105,
   "id": "numerical-penalty",
   "metadata": {
    "scrolled": true
   },
   "outputs": [
    {
     "name": "stdout",
     "output_type": "stream",
     "text": [
      "updates:  54434\n",
      "tensor([[-1.3582e+01, -1.4300e+01, -1.7508e-03, -6.4714e+00, -1.4388e+01,\n",
      "         -8.6142e+00, -1.1047e+01, -1.4340e+01, -1.3927e+01, -1.4053e+01]],\n",
      "       device='cuda:0', grad_fn=<LogSoftmaxBackward>)\n"
     ]
    },
    {
     "ename": "AssertionError",
     "evalue": "",
     "output_type": "error",
     "traceback": [
      "\u001b[1;31m---------------------------------------------------------------------------\u001b[0m",
      "\u001b[1;31mAssertionError\u001b[0m                            Traceback (most recent call last)",
      "\u001b[1;32m<ipython-input-105-389ed89d8fa5>\u001b[0m in \u001b[0;36m<module>\u001b[1;34m\u001b[0m\n\u001b[0;32m     87\u001b[0m         \u001b[0mtarget_tensor\u001b[0m \u001b[1;33m=\u001b[0m \u001b[0mtensor_from_sentence\u001b[0m\u001b[1;33m(\u001b[0m\u001b[0maction_lang\u001b[0m\u001b[1;33m,\u001b[0m \u001b[0mtraining_pair\u001b[0m\u001b[1;33m[\u001b[0m\u001b[1;36m1\u001b[0m\u001b[1;33m]\u001b[0m\u001b[1;33m)\u001b[0m\u001b[1;33m\u001b[0m\u001b[1;33m\u001b[0m\u001b[0m\n\u001b[0;32m     88\u001b[0m \u001b[1;33m\u001b[0m\u001b[0m\n\u001b[1;32m---> 89\u001b[1;33m         loss = train(input_tensor, target_tensor, encoder,\n\u001b[0m\u001b[0;32m     90\u001b[0m                      action_decoder, encoder_optimizer, decoder_optimizer, criterion)\n\u001b[0;32m     91\u001b[0m         \u001b[0mprint_loss_total\u001b[0m \u001b[1;33m+=\u001b[0m \u001b[0mloss\u001b[0m\u001b[1;33m\u001b[0m\u001b[1;33m\u001b[0m\u001b[0m\n",
      "\u001b[1;32m<ipython-input-105-389ed89d8fa5>\u001b[0m in \u001b[0;36mtrain\u001b[1;34m(input_tensor, target_tensor, encoder, decoder, encoder_optimizer, decoder_optimizer, criterion, max_length)\u001b[0m\n\u001b[0;32m     28\u001b[0m         \u001b[1;31m# Teacher forcing: Feed the target as the next input\u001b[0m\u001b[1;33m\u001b[0m\u001b[1;33m\u001b[0m\u001b[1;33m\u001b[0m\u001b[0m\n\u001b[0;32m     29\u001b[0m         \u001b[1;32mfor\u001b[0m \u001b[0mdi\u001b[0m \u001b[1;32min\u001b[0m \u001b[0mrange\u001b[0m\u001b[1;33m(\u001b[0m\u001b[0mtarget_length\u001b[0m\u001b[1;33m)\u001b[0m\u001b[1;33m:\u001b[0m\u001b[1;33m\u001b[0m\u001b[1;33m\u001b[0m\u001b[0m\n\u001b[1;32m---> 30\u001b[1;33m             decoder_output, decoder_hidden, decoder_attention = decoder(\n\u001b[0m\u001b[0;32m     31\u001b[0m                 decoder_input, decoder_hidden, encoder_outputs)\n\u001b[0;32m     32\u001b[0m             \u001b[0mloss\u001b[0m \u001b[1;33m+=\u001b[0m \u001b[0mcriterion\u001b[0m\u001b[1;33m(\u001b[0m\u001b[0mdecoder_output\u001b[0m\u001b[1;33m,\u001b[0m \u001b[0mtarget_tensor\u001b[0m\u001b[1;33m[\u001b[0m\u001b[0mdi\u001b[0m\u001b[1;33m]\u001b[0m\u001b[1;33m)\u001b[0m\u001b[1;33m\u001b[0m\u001b[1;33m\u001b[0m\u001b[0m\n",
      "\u001b[1;32mc:\\users\\riordan\\scoop\\apps\\python\\3.9.1\\lib\\site-packages\\torch\\nn\\modules\\module.py\u001b[0m in \u001b[0;36m_call_impl\u001b[1;34m(self, *input, **kwargs)\u001b[0m\n\u001b[0;32m    887\u001b[0m             \u001b[0mresult\u001b[0m \u001b[1;33m=\u001b[0m \u001b[0mself\u001b[0m\u001b[1;33m.\u001b[0m\u001b[0m_slow_forward\u001b[0m\u001b[1;33m(\u001b[0m\u001b[1;33m*\u001b[0m\u001b[0minput\u001b[0m\u001b[1;33m,\u001b[0m \u001b[1;33m**\u001b[0m\u001b[0mkwargs\u001b[0m\u001b[1;33m)\u001b[0m\u001b[1;33m\u001b[0m\u001b[1;33m\u001b[0m\u001b[0m\n\u001b[0;32m    888\u001b[0m         \u001b[1;32melse\u001b[0m\u001b[1;33m:\u001b[0m\u001b[1;33m\u001b[0m\u001b[1;33m\u001b[0m\u001b[0m\n\u001b[1;32m--> 889\u001b[1;33m             \u001b[0mresult\u001b[0m \u001b[1;33m=\u001b[0m \u001b[0mself\u001b[0m\u001b[1;33m.\u001b[0m\u001b[0mforward\u001b[0m\u001b[1;33m(\u001b[0m\u001b[1;33m*\u001b[0m\u001b[0minput\u001b[0m\u001b[1;33m,\u001b[0m \u001b[1;33m**\u001b[0m\u001b[0mkwargs\u001b[0m\u001b[1;33m)\u001b[0m\u001b[1;33m\u001b[0m\u001b[1;33m\u001b[0m\u001b[0m\n\u001b[0m\u001b[0;32m    890\u001b[0m         for hook in itertools.chain(\n\u001b[0;32m    891\u001b[0m                 \u001b[0m_global_forward_hooks\u001b[0m\u001b[1;33m.\u001b[0m\u001b[0mvalues\u001b[0m\u001b[1;33m(\u001b[0m\u001b[1;33m)\u001b[0m\u001b[1;33m,\u001b[0m\u001b[1;33m\u001b[0m\u001b[1;33m\u001b[0m\u001b[0m\n",
      "\u001b[1;32m<ipython-input-104-5cbb6ff8d3d0>\u001b[0m in \u001b[0;36mforward\u001b[1;34m(self, input, hidden, encoder_outputs)\u001b[0m\n\u001b[0;32m     58\u001b[0m         \u001b[0moutput\u001b[0m \u001b[1;33m=\u001b[0m \u001b[0mF\u001b[0m\u001b[1;33m.\u001b[0m\u001b[0mlog_softmax\u001b[0m\u001b[1;33m(\u001b[0m\u001b[0mself\u001b[0m\u001b[1;33m.\u001b[0m\u001b[0mout\u001b[0m\u001b[1;33m(\u001b[0m\u001b[0moutput\u001b[0m\u001b[1;33m[\u001b[0m\u001b[1;36m0\u001b[0m\u001b[1;33m]\u001b[0m\u001b[1;33m)\u001b[0m\u001b[1;33m,\u001b[0m \u001b[0mdim\u001b[0m\u001b[1;33m=\u001b[0m\u001b[1;36m1\u001b[0m\u001b[1;33m)\u001b[0m\u001b[1;33m\u001b[0m\u001b[1;33m\u001b[0m\u001b[0m\n\u001b[0;32m     59\u001b[0m         \u001b[0mprint\u001b[0m\u001b[1;33m(\u001b[0m\u001b[0moutput\u001b[0m\u001b[1;33m)\u001b[0m\u001b[1;33m\u001b[0m\u001b[1;33m\u001b[0m\u001b[0m\n\u001b[1;32m---> 60\u001b[1;33m         \u001b[1;32massert\u001b[0m \u001b[1;32mFalse\u001b[0m\u001b[1;33m\u001b[0m\u001b[1;33m\u001b[0m\u001b[0m\n\u001b[0m\u001b[0;32m     61\u001b[0m         \u001b[1;32mreturn\u001b[0m \u001b[0moutput\u001b[0m\u001b[1;33m,\u001b[0m \u001b[0mhidden\u001b[0m\u001b[1;33m,\u001b[0m \u001b[0mattn_weights\u001b[0m\u001b[1;33m\u001b[0m\u001b[1;33m\u001b[0m\u001b[0m\n\u001b[0;32m     62\u001b[0m \u001b[1;33m\u001b[0m\u001b[0m\n",
      "\u001b[1;31mAssertionError\u001b[0m: "
     ]
    }
   ],
   "source": [
    "teacher_forcing_ratio = 0.5\n",
    "\n",
    "def train(input_tensor, target_tensor, encoder, decoder, encoder_optimizer, decoder_optimizer, criterion, max_length=MAX_LENGTH):\n",
    "    encoder_hidden = encoder.initHidden()\n",
    "\n",
    "    encoder_optimizer.zero_grad()\n",
    "    decoder_optimizer.zero_grad()\n",
    "\n",
    "    input_length = input_tensor.size(0)\n",
    "    target_length = target_tensor.size(0)\n",
    "\n",
    "    encoder_outputs = torch.zeros(max_length, encoder.hidden_size, device=device)\n",
    "\n",
    "    loss = 0\n",
    "\n",
    "    for ei in range(input_length):\n",
    "        encoder_output, encoder_hidden = encoder(\n",
    "            input_tensor[ei], encoder_hidden)\n",
    "        encoder_outputs[ei] = encoder_output[0, 0]\n",
    "\n",
    "    decoder_input = torch.tensor([[lang.index('<SOS>')]], device=device)\n",
    "\n",
    "    decoder_hidden = encoder_hidden\n",
    "\n",
    "    use_teacher_forcing = True if random.random() < teacher_forcing_ratio else False\n",
    "\n",
    "    if use_teacher_forcing:\n",
    "        # Teacher forcing: Feed the target as the next input\n",
    "        for di in range(target_length):\n",
    "            decoder_output, decoder_hidden, decoder_attention = decoder(\n",
    "                decoder_input, decoder_hidden, encoder_outputs)\n",
    "            loss += criterion(decoder_output, target_tensor[di])\n",
    "            decoder_input = target_tensor[di]  # Teacher forcing\n",
    "    else:\n",
    "        # Without teacher forcing: use its own predictions as the next input\n",
    "        for di in range(target_length):\n",
    "            decoder_output, decoder_hidden, decoder_attention = decoder(\n",
    "                decoder_input, decoder_hidden, encoder_outputs)\n",
    "            topv, topi = decoder_output.topk(1)\n",
    "            decoder_input = topi.squeeze().detach()  # detach from history as input\n",
    "\n",
    "            loss += criterion(decoder_output, target_tensor[di])\n",
    "            if decoder_input.item() == lang.index('<EOS>'):\n",
    "                break\n",
    "\n",
    "    loss.backward()\n",
    "    \n",
    "    encoder_optimizer.step()\n",
    "    decoder_optimizer.step()\n",
    "\n",
    "    return loss.item() / target_length\n",
    "\n",
    "hidden_size = 256\n",
    "learning_rate = 0.01\n",
    "epochs = 10\n",
    "encoder = EncoderRNN(lang.n_words, hidden_size).to(device)\n",
    "action_decoder = AttnDecoderRNN(hidden_size, action_lang.n_words, dropout_p=0.1).to(device)\n",
    "\n",
    "# Load state if exists, WARNING: DELETE FILES WHEN CHANGING MODEL \n",
    "if os.path.isfile('encoder.pt'):\n",
    "    encoder.load_state_dict(torch.load('encoder.pt'))\n",
    "if os.path.isfile('action_decoder.pt'):\n",
    "    action_decoder.load_state_dict(torch.load('action_decoder.pt'))\n",
    "\n",
    "\n",
    "start = time.time()\n",
    "plot_every = 100\n",
    "plot_losses = []\n",
    "print_every = 100\n",
    "print_loss_total = 0  # Reset every print_every\n",
    "plot_loss_total = 0  # Reset every plot_every\n",
    "update = 0 # Counts updates\n",
    "\n",
    "encoder_optimizer = optim.SGD(encoder.parameters(), lr=learning_rate)\n",
    "decoder_optimizer = optim.SGD(action_decoder.parameters(), lr=learning_rate)\n",
    "training_pairs = [[sample[0], sample[1]] for sample in train_low_action_argument_pairs if len(sample[0]) < MAX_LENGTH and len(sample[1]) < MAX_LENGTH]\n",
    "update_count = len(training_pairs) * epochs\n",
    "print('updates: ', update_count)\n",
    "\n",
    "criterion = nn.NLLLoss()\n",
    "\n",
    "for epoch in range(epochs):\n",
    "    for batch in training_pairs:\n",
    "        update += 1\n",
    "        training_pair = batch\n",
    "        input_tensor = tensor_from_sentence(lang, training_pair[0])\n",
    "        target_tensor = tensor_from_sentence(action_lang, training_pair[1])\n",
    "\n",
    "        loss = train(input_tensor, target_tensor, encoder,\n",
    "                     action_decoder, encoder_optimizer, decoder_optimizer, criterion)\n",
    "        print_loss_total += loss\n",
    "        plot_loss_total += loss\n",
    "\n",
    "        if update % print_every == 0:\n",
    "            print_loss_avg = print_loss_total / print_every\n",
    "            print_loss_total = 0\n",
    "            print('%s (%d %d%%) %.4f' % (time_since(start, update / update_count),\n",
    "                                         update, (update / update_count) * 100, print_loss_avg))\n",
    "\n",
    "        if update % plot_every == 0:\n",
    "            plot_loss_avg = plot_loss_total / plot_every\n",
    "            plot_losses.append(plot_loss_avg)\n",
    "            plot_loss_total = 0\n",
    "        \n",
    "    # Save model after every epoch\n",
    "    torch.save(encoder.state_dict(), 'encoder.pt')\n",
    "    torch.save(action_decoder.state_dict(), 'action_decoder.pt')\n",
    "\n",
    "show_plot(plot_losses)"
   ]
  },
  {
   "cell_type": "markdown",
   "id": "peaceful-exclusive",
   "metadata": {},
   "source": [
    "# Train - Argument Decoder"
   ]
  },
  {
   "cell_type": "code",
   "execution_count": 36,
   "id": "generic-retail",
   "metadata": {
    "scrolled": true
   },
   "outputs": [
    {
     "name": "stdout",
     "output_type": "stream",
     "text": [
      "EncoderRNN(\n",
      "  (embedding): Embedding(2053, 256)\n",
      "  (gru): GRU(256, 256)\n",
      ")\n",
      "AttnDecoderRNN(\n",
      "  (embedding): Embedding(83, 256)\n",
      "  (attn): Linear(in_features=512, out_features=15, bias=True)\n",
      "  (attn_combine): Linear(in_features=512, out_features=256, bias=True)\n",
      "  (dropout): Dropout(p=0.1, inplace=False)\n",
      "  (gru): GRU(256, 256)\n",
      "  (out): Linear(in_features=256, out_features=83, bias=True)\n",
      ")\n",
      "updates:  1293090\n",
      "0m 11s (- 239m 13s) (1000 0%) 0.0892\n",
      "0m 21s (- 231m 42s) (2000 0%) 0.0678\n",
      "0m 31s (- 228m 9s) (3000 0%) 0.0488\n",
      "0m 42s (- 229m 18s) (4000 0%) 0.0206\n",
      "0m 53s (- 227m 51s) (5000 0%) 0.0470\n",
      "1m 3s (- 226m 6s) (6000 0%) 0.0200\n",
      "1m 13s (- 225m 51s) (7000 0%) 0.0232\n",
      "1m 24s (- 225m 51s) (8000 0%) 0.0381\n",
      "1m 35s (- 226m 28s) (9000 0%) 0.0736\n",
      "1m 46s (- 227m 38s) (10000 0%) 0.0669\n",
      "1m 57s (- 228m 50s) (11000 0%) 0.0491\n",
      "2m 9s (- 229m 37s) (12000 0%) 0.0609\n",
      "2m 20s (- 230m 2s) (13000 1%) 0.0582\n",
      "2m 31s (- 230m 51s) (14000 1%) 0.0562\n",
      "2m 42s (- 231m 9s) (15000 1%) 0.0495\n",
      "2m 54s (- 231m 36s) (16000 1%) 0.0660\n",
      "3m 5s (- 232m 8s) (17000 1%) 0.0817\n",
      "3m 16s (- 232m 18s) (18000 1%) 0.0522\n",
      "3m 28s (- 232m 49s) (19000 1%) 0.0610\n",
      "3m 39s (- 233m 16s) (20000 1%) 0.0725\n",
      "3m 50s (- 232m 56s) (21000 1%) 0.0900\n",
      "4m 1s (- 232m 48s) (22000 1%) 0.0972\n",
      "4m 13s (- 233m 6s) (23000 1%) 0.0588\n",
      "4m 24s (- 233m 9s) (24000 1%) 0.0946\n",
      "4m 36s (- 233m 30s) (25000 1%) 0.0314\n",
      "4m 47s (- 233m 49s) (26000 2%) 0.0248\n",
      "4m 59s (- 234m 1s) (27000 2%) 0.0484\n",
      "5m 11s (- 234m 14s) (28000 2%) 0.0585\n",
      "5m 22s (- 234m 19s) (29000 2%) 0.0592\n",
      "5m 33s (- 234m 5s) (30000 2%) 0.0459\n",
      "5m 45s (- 234m 15s) (31000 2%) 0.0865\n",
      "5m 56s (- 234m 15s) (32000 2%) 0.0759\n",
      "6m 7s (- 233m 54s) (33000 2%) 0.0795\n",
      "6m 18s (- 233m 52s) (34000 2%) 0.0634\n",
      "6m 30s (- 234m 1s) (35000 2%) 0.0418\n",
      "6m 41s (- 233m 47s) (36000 2%) 0.0594\n",
      "6m 52s (- 233m 33s) (37000 2%) 0.0818\n",
      "7m 4s (- 233m 31s) (38000 2%) 0.0463\n",
      "7m 15s (- 233m 13s) (39000 3%) 0.0674\n",
      "7m 26s (- 233m 10s) (40000 3%) 0.0555\n",
      "7m 37s (- 233m 5s) (41000 3%) 0.0721\n",
      "7m 48s (- 232m 42s) (42000 3%) 0.0698\n",
      "7m 59s (- 232m 29s) (43000 3%) 0.0656\n",
      "8m 11s (- 232m 31s) (44000 3%) 0.0431\n",
      "8m 22s (- 232m 10s) (45000 3%) 0.0779\n",
      "8m 33s (- 231m 54s) (46000 3%) 0.0738\n",
      "8m 44s (- 231m 50s) (47000 3%) 0.0471\n",
      "8m 55s (- 231m 35s) (48000 3%) 0.0523\n",
      "9m 6s (- 231m 22s) (49000 3%) 0.0464\n",
      "9m 18s (- 231m 18s) (50000 3%) 0.0520\n",
      "9m 29s (- 231m 10s) (51000 3%) 0.0948\n",
      "9m 40s (- 230m 54s) (52000 4%) 0.0353\n",
      "9m 51s (- 230m 47s) (53000 4%) 0.0783\n",
      "10m 2s (- 230m 30s) (54000 4%) 0.0520\n",
      "10m 13s (- 230m 15s) (55000 4%) 0.0528\n",
      "10m 25s (- 230m 9s) (56000 4%) 0.0912\n",
      "10m 36s (- 229m 56s) (57000 4%) 0.0683\n",
      "10m 47s (- 229m 41s) (58000 4%) 0.0565\n",
      "10m 58s (- 229m 36s) (59000 4%) 0.0437\n",
      "11m 9s (- 229m 23s) (60000 4%) 0.0449\n",
      "11m 20s (- 229m 5s) (61000 4%) 0.0670\n",
      "11m 31s (- 228m 56s) (62000 4%) 0.0760\n",
      "11m 42s (- 228m 39s) (63000 4%) 0.0949\n",
      "11m 53s (- 228m 28s) (64000 4%) 0.0520\n",
      "12m 5s (- 228m 24s) (65000 5%) 0.0609\n",
      "12m 15s (- 228m 3s) (66000 5%) 0.0758\n",
      "12m 26s (- 227m 48s) (67000 5%) 0.0815\n",
      "12m 38s (- 227m 41s) (68000 5%) 0.0687\n",
      "12m 49s (- 227m 30s) (69000 5%) 0.0271\n",
      "12m 59s (- 227m 7s) (70000 5%) 0.0784\n",
      "13m 10s (- 226m 52s) (71000 5%) 0.0807\n",
      "13m 21s (- 226m 39s) (72000 5%) 0.0723\n",
      "13m 32s (- 226m 25s) (73000 5%) 0.0473\n",
      "13m 44s (- 226m 18s) (74000 5%) 0.0573\n",
      "13m 55s (- 226m 6s) (75000 5%) 0.0575\n",
      "14m 6s (- 225m 50s) (76000 5%) 0.0387\n",
      "14m 17s (- 225m 35s) (77000 5%) 0.0871\n",
      "14m 28s (- 225m 24s) (78000 6%) 0.0927\n",
      "14m 38s (- 225m 7s) (79000 6%) 0.0557\n",
      "14m 49s (- 224m 51s) (80000 6%) 0.0738\n",
      "15m 1s (- 224m 52s) (81000 6%) 0.0464\n",
      "15m 12s (- 224m 39s) (82000 6%) 0.0549\n",
      "15m 23s (- 224m 21s) (83000 6%) 0.0722\n",
      "15m 34s (- 224m 13s) (84000 6%) 0.0778\n",
      "15m 45s (- 223m 57s) (85000 6%) 0.0687\n",
      "15m 56s (- 223m 41s) (86000 6%) 0.0873\n",
      "16m 7s (- 223m 31s) (87000 6%) 0.0695\n",
      "16m 18s (- 223m 15s) (88000 6%) 0.0626\n",
      "16m 29s (- 223m 3s) (89000 6%) 0.0818\n",
      "16m 40s (- 222m 57s) (90000 6%) 0.0501\n",
      "16m 51s (- 222m 43s) (91000 7%) 0.0510\n",
      "17m 2s (- 222m 28s) (92000 7%) 0.0652\n",
      "17m 14s (- 222m 24s) (93000 7%) 0.0413\n",
      "17m 25s (- 222m 14s) (94000 7%) 0.0664\n",
      "17m 36s (- 221m 59s) (95000 7%) 0.0483\n",
      "17m 47s (- 221m 49s) (96000 7%) 0.0888\n",
      "17m 58s (- 221m 34s) (97000 7%) 0.0803\n",
      "18m 8s (- 221m 17s) (98000 7%) 0.0624\n",
      "18m 20s (- 221m 9s) (99000 7%) 0.0524\n",
      "18m 31s (- 220m 57s) (100000 7%) 0.0565\n",
      "18m 41s (- 220m 41s) (101000 7%) 0.0868\n",
      "18m 52s (- 220m 29s) (102000 7%) 0.0778\n",
      "19m 4s (- 220m 20s) (103000 7%) 0.0628\n",
      "19m 15s (- 220m 5s) (104000 8%) 0.0387\n",
      "19m 26s (- 219m 55s) (105000 8%) 0.0484\n",
      "19m 37s (- 219m 49s) (106000 8%) 0.0606\n",
      "19m 48s (- 219m 38s) (107000 8%) 0.0415\n",
      "20m 0s (- 219m 29s) (108000 8%) 0.0446\n",
      "20m 11s (- 219m 22s) (109000 8%) 0.0573\n",
      "20m 23s (- 219m 15s) (110000 8%) 0.0355\n",
      "20m 34s (- 219m 11s) (111000 8%) 0.0530\n",
      "20m 46s (- 219m 1s) (112000 8%) 0.0531\n",
      "20m 56s (- 218m 46s) (113000 8%) 0.0617\n",
      "21m 8s (- 218m 40s) (114000 8%) 0.0295\n",
      "21m 20s (- 218m 33s) (115000 8%) 0.0476\n",
      "21m 31s (- 218m 21s) (116000 8%) 0.0276\n",
      "21m 42s (- 218m 13s) (117000 9%) 0.0468\n",
      "21m 54s (- 218m 6s) (118000 9%) 0.0465\n",
      "22m 5s (- 217m 56s) (119000 9%) 0.0269\n",
      "22m 16s (- 217m 48s) (120000 9%) 0.0446\n",
      "22m 28s (- 217m 41s) (121000 9%) 0.0458\n",
      "22m 39s (- 217m 31s) (122000 9%) 0.0429\n",
      "22m 51s (- 217m 22s) (123000 9%) 0.0569\n",
      "23m 2s (- 217m 14s) (124000 9%) 0.0482\n",
      "23m 13s (- 217m 5s) (125000 9%) 0.0619\n",
      "23m 25s (- 216m 59s) (126000 9%) 0.0259\n",
      "23m 37s (- 216m 53s) (127000 9%) 0.0399\n",
      "23m 48s (- 216m 45s) (128000 9%) 0.0765\n",
      "24m 0s (- 216m 38s) (129000 9%) 0.0396\n",
      "24m 11s (- 216m 25s) (130000 10%) 0.0704\n",
      "24m 21s (- 216m 5s) (131000 10%) 0.0752\n",
      "24m 31s (- 215m 47s) (132000 10%) 0.0471\n",
      "24m 42s (- 215m 33s) (133000 10%) 0.0281\n",
      "24m 53s (- 215m 15s) (134000 10%) 0.0339\n",
      "25m 3s (- 214m 57s) (135000 10%) 0.0254\n",
      "25m 14s (- 214m 43s) (136000 10%) 0.0238\n",
      "25m 24s (- 214m 25s) (137000 10%) 0.0325\n",
      "25m 35s (- 214m 12s) (138000 10%) 0.0653\n",
      "25m 46s (- 214m 4s) (139000 10%) 0.0681\n",
      "25m 58s (- 213m 53s) (140000 10%) 0.0510\n",
      "26m 9s (- 213m 40s) (141000 10%) 0.0596\n",
      "26m 20s (- 213m 34s) (142000 10%) 0.0526\n",
      "26m 32s (- 213m 24s) (143000 11%) 0.0483\n",
      "26m 43s (- 213m 11s) (144000 11%) 0.0608\n",
      "26m 54s (- 213m 6s) (145000 11%) 0.0614\n",
      "27m 6s (- 212m 56s) (146000 11%) 0.0827\n",
      "27m 17s (- 212m 45s) (147000 11%) 0.0610\n",
      "27m 29s (- 212m 40s) (148000 11%) 0.0561\n",
      "27m 40s (- 212m 30s) (149000 11%) 0.0643\n",
      "27m 51s (- 212m 19s) (150000 11%) 0.0784\n",
      "28m 3s (- 212m 9s) (151000 11%) 0.0781\n",
      "28m 14s (- 211m 59s) (152000 11%) 0.0922\n",
      "28m 25s (- 211m 49s) (153000 11%) 0.0937\n",
      "28m 37s (- 211m 44s) (154000 11%) 0.0443\n",
      "28m 49s (- 211m 36s) (155000 11%) 0.0235\n",
      "29m 0s (- 211m 27s) (156000 12%) 0.0393\n",
      "29m 12s (- 211m 21s) (157000 12%) 0.0561\n",
      "29m 23s (- 211m 11s) (158000 12%) 0.0647\n",
      "29m 34s (- 210m 59s) (159000 12%) 0.0357\n",
      "29m 46s (- 210m 54s) (160000 12%) 0.0892\n",
      "29m 58s (- 210m 45s) (161000 12%) 0.0644\n",
      "30m 9s (- 210m 32s) (162000 12%) 0.0965\n",
      "30m 21s (- 210m 25s) (163000 12%) 0.0659\n",
      "30m 32s (- 210m 16s) (164000 12%) 0.0379\n",
      "30m 43s (- 210m 4s) (165000 12%) 0.0469\n",
      "30m 55s (- 209m 55s) (166000 12%) 0.0914\n",
      "31m 5s (- 209m 42s) (167000 12%) 0.0491\n",
      "31m 16s (- 209m 29s) (168000 12%) 0.0557\n",
      "31m 28s (- 209m 21s) (169000 13%) 0.0616\n",
      "31m 39s (- 209m 8s) (170000 13%) 0.0516\n",
      "31m 50s (- 208m 54s) (171000 13%) 0.0837\n",
      "32m 1s (- 208m 42s) (172000 13%) 0.0800\n",
      "32m 12s (- 208m 33s) (173000 13%) 0.0271\n",
      "32m 23s (- 208m 18s) (174000 13%) 0.0762\n",
      "32m 34s (- 208m 6s) (175000 13%) 0.0850\n",
      "32m 45s (- 207m 54s) (176000 13%) 0.0420\n",
      "32m 56s (- 207m 41s) (177000 13%) 0.0462\n",
      "33m 7s (- 207m 30s) (178000 13%) 0.0494\n",
      "33m 18s (- 207m 19s) (179000 13%) 0.0382\n",
      "33m 29s (- 207m 7s) (180000 13%) 0.1053\n",
      "33m 40s (- 206m 56s) (181000 13%) 0.0301\n",
      "33m 51s (- 206m 44s) (182000 14%) 0.0697\n",
      "34m 2s (- 206m 30s) (183000 14%) 0.0667\n",
      "34m 13s (- 206m 18s) (184000 14%) 0.0513\n",
      "34m 24s (- 206m 6s) (185000 14%) 0.0731\n",
      "34m 35s (- 205m 53s) (186000 14%) 0.0725\n",
      "34m 46s (- 205m 42s) (187000 14%) 0.0608\n",
      "34m 57s (- 205m 31s) (188000 14%) 0.0360\n",
      "35m 8s (- 205m 19s) (189000 14%) 0.0458\n",
      "35m 19s (- 205m 7s) (190000 14%) 0.0720\n",
      "35m 31s (- 204m 56s) (191000 14%) 0.0595\n",
      "35m 41s (- 204m 42s) (192000 14%) 0.0814\n",
      "35m 52s (- 204m 30s) (193000 14%) 0.0746\n",
      "36m 4s (- 204m 20s) (194000 15%) 0.0348\n",
      "36m 14s (- 204m 6s) (195000 15%) 0.0800\n",
      "36m 25s (- 203m 51s) (196000 15%) 0.0736\n",
      "36m 36s (- 203m 42s) (197000 15%) 0.0709\n",
      "36m 47s (- 203m 29s) (198000 15%) 0.0433\n",
      "36m 58s (- 203m 14s) (199000 15%) 0.0532\n"
     ]
    },
    {
     "name": "stdout",
     "output_type": "stream",
     "text": [
      "37m 9s (- 203m 4s) (200000 15%) 0.0712\n",
      "37m 19s (- 202m 49s) (201000 15%) 0.0934\n",
      "37m 30s (- 202m 36s) (202000 15%) 0.0432\n",
      "37m 42s (- 202m 26s) (203000 15%) 0.0396\n",
      "37m 52s (- 202m 13s) (204000 15%) 0.0760\n",
      "38m 3s (- 202m 0s) (205000 15%) 0.0280\n",
      "38m 14s (- 201m 49s) (206000 15%) 0.0693\n",
      "38m 25s (- 201m 35s) (207000 16%) 0.0932\n",
      "38m 36s (- 201m 22s) (208000 16%) 0.0572\n",
      "38m 46s (- 201m 9s) (209000 16%) 0.0772\n",
      "38m 57s (- 200m 58s) (210000 16%) 0.0618\n",
      "39m 8s (- 200m 45s) (211000 16%) 0.0380\n",
      "39m 19s (- 200m 33s) (212000 16%) 0.0794\n",
      "39m 30s (- 200m 21s) (213000 16%) 0.0651\n",
      "39m 41s (- 200m 8s) (214000 16%) 0.0740\n",
      "39m 52s (- 199m 56s) (215000 16%) 0.0732\n",
      "40m 3s (- 199m 44s) (216000 16%) 0.0720\n",
      "40m 13s (- 199m 30s) (217000 16%) 0.0648\n",
      "40m 24s (- 199m 18s) (218000 16%) 0.0758\n",
      "40m 36s (- 199m 9s) (219000 16%) 0.0545\n",
      "40m 47s (- 198m 56s) (220000 17%) 0.0433\n",
      "40m 58s (- 198m 44s) (221000 17%) 0.0675\n",
      "41m 9s (- 198m 33s) (222000 17%) 0.0391\n",
      "41m 20s (- 198m 23s) (223000 17%) 0.0525\n",
      "41m 31s (- 198m 9s) (224000 17%) 0.0542\n",
      "41m 42s (- 197m 59s) (225000 17%) 0.0748\n",
      "41m 52s (- 197m 45s) (226000 17%) 0.0884\n",
      "42m 3s (- 197m 32s) (227000 17%) 0.0590\n",
      "42m 14s (- 197m 21s) (228000 17%) 0.0604\n",
      "42m 25s (- 197m 9s) (229000 17%) 0.0368\n",
      "42m 36s (- 196m 56s) (230000 17%) 0.0872\n",
      "42m 47s (- 196m 44s) (231000 17%) 0.0771\n",
      "42m 58s (- 196m 32s) (232000 17%) 0.0629\n",
      "43m 9s (- 196m 19s) (233000 18%) 0.0431\n",
      "43m 20s (- 196m 9s) (234000 18%) 0.0316\n",
      "43m 31s (- 195m 58s) (235000 18%) 0.0700\n",
      "43m 42s (- 195m 47s) (236000 18%) 0.0437\n",
      "43m 54s (- 195m 37s) (237000 18%) 0.0403\n",
      "44m 5s (- 195m 27s) (238000 18%) 0.0545\n",
      "44m 16s (- 195m 15s) (239000 18%) 0.0398\n",
      "44m 28s (- 195m 8s) (240000 18%) 0.0264\n",
      "44m 39s (- 194m 57s) (241000 18%) 0.0656\n",
      "44m 50s (- 194m 44s) (242000 18%) 0.0566\n",
      "45m 1s (- 194m 34s) (243000 18%) 0.0353\n",
      "45m 13s (- 194m 25s) (244000 18%) 0.0458\n",
      "45m 24s (- 194m 13s) (245000 18%) 0.0305\n",
      "45m 35s (- 194m 3s) (246000 19%) 0.0301\n",
      "45m 46s (- 193m 53s) (247000 19%) 0.0415\n",
      "45m 58s (- 193m 43s) (248000 19%) 0.0358\n",
      "46m 9s (- 193m 32s) (249000 19%) 0.0475\n",
      "46m 20s (- 193m 22s) (250000 19%) 0.0319\n",
      "46m 32s (- 193m 12s) (251000 19%) 0.0467\n",
      "46m 43s (- 193m 2s) (252000 19%) 0.0566\n",
      "46m 54s (- 192m 52s) (253000 19%) 0.0351\n",
      "47m 5s (- 192m 40s) (254000 19%) 0.0651\n",
      "47m 17s (- 192m 32s) (255000 19%) 0.0322\n",
      "47m 29s (- 192m 22s) (256000 19%) 0.0249\n",
      "47m 40s (- 192m 13s) (257000 19%) 0.0586\n",
      "47m 52s (- 192m 3s) (258000 19%) 0.0638\n",
      "48m 3s (- 191m 52s) (259000 20%) 0.0565\n",
      "48m 13s (- 191m 36s) (260000 20%) 0.0709\n",
      "48m 23s (- 191m 22s) (261000 20%) 0.0526\n",
      "48m 34s (- 191m 9s) (262000 20%) 0.0391\n",
      "48m 44s (- 190m 55s) (263000 20%) 0.0224\n",
      "48m 54s (- 190m 40s) (264000 20%) 0.0394\n",
      "49m 5s (- 190m 27s) (265000 20%) 0.0175\n",
      "49m 15s (- 190m 13s) (266000 20%) 0.0305\n",
      "49m 26s (- 190m 0s) (267000 20%) 0.0556\n",
      "49m 37s (- 189m 49s) (268000 20%) 0.0545\n",
      "49m 48s (- 189m 38s) (269000 20%) 0.0605\n",
      "49m 59s (- 189m 26s) (270000 20%) 0.0522\n",
      "50m 11s (- 189m 17s) (271000 20%) 0.0545\n",
      "50m 22s (- 189m 6s) (272000 21%) 0.0577\n",
      "50m 33s (- 188m 54s) (273000 21%) 0.0497\n",
      "50m 45s (- 188m 45s) (274000 21%) 0.0553\n",
      "50m 56s (- 188m 34s) (275000 21%) 0.0632\n",
      "51m 7s (- 188m 23s) (276000 21%) 0.0832\n",
      "51m 19s (- 188m 14s) (277000 21%) 0.0389\n",
      "51m 30s (- 188m 4s) (278000 21%) 0.0661\n",
      "51m 41s (- 187m 53s) (279000 21%) 0.0683\n",
      "51m 52s (- 187m 42s) (280000 21%) 0.0929\n",
      "52m 3s (- 187m 31s) (281000 21%) 0.0843\n",
      "52m 14s (- 187m 19s) (282000 21%) 0.0770\n",
      "52m 26s (- 187m 11s) (283000 21%) 0.0656\n",
      "52m 38s (- 187m 1s) (284000 21%) 0.0219\n",
      "52m 49s (- 186m 51s) (285000 22%) 0.0262\n",
      "53m 1s (- 186m 42s) (286000 22%) 0.0475\n",
      "53m 12s (- 186m 31s) (287000 22%) 0.0570\n",
      "53m 23s (- 186m 19s) (288000 22%) 0.0437\n",
      "53m 35s (- 186m 10s) (289000 22%) 0.0676\n",
      "53m 46s (- 186m 0s) (290000 22%) 0.0638\n",
      "53m 57s (- 185m 48s) (291000 22%) 0.0780\n",
      "54m 8s (- 185m 38s) (292000 22%) 0.0671\n",
      "54m 19s (- 185m 27s) (293000 22%) 0.0453\n",
      "54m 31s (- 185m 16s) (294000 22%) 0.0441\n",
      "54m 42s (- 185m 7s) (295000 22%) 0.0662\n",
      "54m 53s (- 184m 55s) (296000 22%) 0.0613\n",
      "55m 4s (- 184m 43s) (297000 22%) 0.0497\n",
      "55m 16s (- 184m 33s) (298000 23%) 0.0593\n",
      "55m 27s (- 184m 22s) (299000 23%) 0.0500\n",
      "55m 38s (- 184m 9s) (300000 23%) 0.0738\n",
      "55m 49s (- 183m 58s) (301000 23%) 0.0694\n",
      "56m 0s (- 183m 48s) (302000 23%) 0.0317\n",
      "56m 11s (- 183m 36s) (303000 23%) 0.0599\n",
      "56m 22s (- 183m 24s) (304000 23%) 0.0777\n",
      "56m 33s (- 183m 13s) (305000 23%) 0.0438\n",
      "56m 44s (- 183m 1s) (306000 23%) 0.0432\n",
      "56m 55s (- 182m 50s) (307000 23%) 0.0487\n",
      "57m 6s (- 182m 39s) (308000 23%) 0.0349\n",
      "57m 17s (- 182m 27s) (309000 23%) 0.0762\n",
      "57m 28s (- 182m 16s) (310000 23%) 0.0558\n",
      "57m 39s (- 182m 5s) (311000 24%) 0.0605\n",
      "57m 50s (- 181m 53s) (312000 24%) 0.0591\n",
      "58m 1s (- 181m 42s) (313000 24%) 0.0484\n",
      "58m 13s (- 181m 31s) (314000 24%) 0.0564\n",
      "58m 23s (- 181m 19s) (315000 24%) 0.0744\n",
      "58m 35s (- 181m 8s) (316000 24%) 0.0632\n",
      "58m 46s (- 180m 58s) (317000 24%) 0.0398\n",
      "58m 57s (- 180m 46s) (318000 24%) 0.0459\n",
      "59m 8s (- 180m 35s) (319000 24%) 0.0629\n",
      "59m 19s (- 180m 24s) (320000 24%) 0.0483\n",
      "59m 30s (- 180m 11s) (321000 24%) 0.0749\n",
      "59m 40s (- 179m 59s) (322000 24%) 0.0876\n",
      "59m 52s (- 179m 49s) (323000 24%) 0.0284\n",
      "60m 3s (- 179m 37s) (324000 25%) 0.0699\n",
      "60m 13s (- 179m 24s) (325000 25%) 0.0722\n",
      "60m 25s (- 179m 14s) (326000 25%) 0.0687\n",
      "60m 36s (- 179m 2s) (327000 25%) 0.0578\n",
      "60m 46s (- 178m 50s) (328000 25%) 0.0311\n",
      "60m 57s (- 178m 38s) (329000 25%) 0.0769\n",
      "61m 8s (- 178m 25s) (330000 25%) 0.0820\n",
      "61m 19s (- 178m 13s) (331000 25%) 0.0535\n",
      "61m 30s (- 178m 3s) (332000 25%) 0.0419\n",
      "61m 41s (- 177m 51s) (333000 25%) 0.0579\n",
      "61m 52s (- 177m 39s) (334000 25%) 0.0427\n",
      "62m 3s (- 177m 28s) (335000 25%) 0.0454\n",
      "62m 13s (- 177m 15s) (336000 25%) 0.1076\n",
      "62m 24s (- 177m 3s) (337000 26%) 0.0591\n",
      "62m 35s (- 176m 52s) (338000 26%) 0.0637\n",
      "62m 46s (- 176m 40s) (339000 26%) 0.0758\n",
      "62m 57s (- 176m 28s) (340000 26%) 0.0332\n",
      "63m 8s (- 176m 17s) (341000 26%) 0.0624\n",
      "63m 19s (- 176m 5s) (342000 26%) 0.0724\n",
      "63m 30s (- 175m 55s) (343000 26%) 0.0720\n",
      "63m 41s (- 175m 43s) (344000 26%) 0.0645\n",
      "63m 52s (- 175m 31s) (345000 26%) 0.0749\n",
      "64m 2s (- 175m 19s) (346000 26%) 0.0655\n",
      "64m 13s (- 175m 7s) (347000 26%) 0.0667\n",
      "64m 25s (- 174m 57s) (348000 26%) 0.0586\n",
      "64m 36s (- 174m 45s) (349000 26%) 0.0409\n",
      "64m 46s (- 174m 33s) (350000 27%) 0.0686\n",
      "64m 58s (- 174m 22s) (351000 27%) 0.0379\n",
      "65m 9s (- 174m 11s) (352000 27%) 0.0461\n",
      "65m 20s (- 174m 0s) (353000 27%) 0.0527\n",
      "65m 31s (- 173m 48s) (354000 27%) 0.0741\n",
      "65m 42s (- 173m 37s) (355000 27%) 0.0745\n",
      "65m 52s (- 173m 24s) (356000 27%) 0.0626\n",
      "66m 3s (- 173m 13s) (357000 27%) 0.0587\n",
      "66m 14s (- 173m 1s) (358000 27%) 0.0434\n",
      "66m 25s (- 172m 50s) (359000 27%) 0.0744\n",
      "66m 36s (- 172m 38s) (360000 27%) 0.0783\n",
      "66m 47s (- 172m 27s) (361000 27%) 0.0640\n",
      "66m 58s (- 172m 15s) (362000 27%) 0.0520\n",
      "67m 9s (- 172m 3s) (363000 28%) 0.0249\n",
      "67m 20s (- 171m 53s) (364000 28%) 0.0614\n",
      "67m 31s (- 171m 41s) (365000 28%) 0.0427\n",
      "67m 42s (- 171m 31s) (366000 28%) 0.0471\n",
      "67m 54s (- 171m 21s) (367000 28%) 0.0278\n",
      "68m 5s (- 171m 9s) (368000 28%) 0.0592\n",
      "68m 17s (- 171m 0s) (369000 28%) 0.0223\n",
      "68m 28s (- 170m 50s) (370000 28%) 0.0518\n",
      "68m 39s (- 170m 38s) (371000 28%) 0.0569\n",
      "68m 50s (- 170m 27s) (372000 28%) 0.0425\n",
      "69m 2s (- 170m 17s) (373000 28%) 0.0377\n",
      "69m 13s (- 170m 6s) (374000 28%) 0.0375\n",
      "69m 24s (- 169m 55s) (375000 29%) 0.0158\n",
      "69m 35s (- 169m 45s) (376000 29%) 0.0482\n",
      "69m 47s (- 169m 34s) (377000 29%) 0.0425\n",
      "69m 58s (- 169m 23s) (378000 29%) 0.0423\n",
      "70m 9s (- 169m 13s) (379000 29%) 0.0186\n",
      "70m 21s (- 169m 2s) (380000 29%) 0.0485\n",
      "70m 32s (- 168m 51s) (381000 29%) 0.0450\n",
      "70m 43s (- 168m 41s) (382000 29%) 0.0421\n",
      "70m 54s (- 168m 30s) (383000 29%) 0.0673\n",
      "71m 6s (- 168m 20s) (384000 29%) 0.0292\n",
      "71m 18s (- 168m 10s) (385000 29%) 0.0235\n",
      "71m 29s (- 167m 59s) (386000 29%) 0.0541\n",
      "71m 40s (- 167m 49s) (387000 29%) 0.0582\n",
      "71m 52s (- 167m 39s) (388000 30%) 0.0394\n",
      "72m 2s (- 167m 26s) (389000 30%) 0.0741\n",
      "72m 12s (- 167m 13s) (390000 30%) 0.0576\n",
      "72m 23s (- 167m 1s) (391000 30%) 0.0431\n",
      "72m 33s (- 166m 48s) (392000 30%) 0.0163\n",
      "72m 43s (- 166m 34s) (393000 30%) 0.0417\n",
      "72m 54s (- 166m 22s) (394000 30%) 0.0190\n",
      "73m 4s (- 166m 9s) (395000 30%) 0.0235\n",
      "73m 15s (- 165m 56s) (396000 30%) 0.0353\n",
      "73m 26s (- 165m 46s) (397000 30%) 0.0635\n",
      "73m 37s (- 165m 35s) (398000 30%) 0.0595\n",
      "73m 48s (- 165m 23s) (399000 30%) 0.0449\n",
      "74m 0s (- 165m 13s) (400000 30%) 0.0530\n",
      "74m 11s (- 165m 2s) (401000 31%) 0.0569\n"
     ]
    },
    {
     "name": "stdout",
     "output_type": "stream",
     "text": [
      "74m 22s (- 164m 51s) (402000 31%) 0.0496\n",
      "74m 33s (- 164m 41s) (403000 31%) 0.0509\n",
      "74m 45s (- 164m 30s) (404000 31%) 0.0562\n",
      "74m 56s (- 164m 19s) (405000 31%) 0.0750\n",
      "75m 7s (- 164m 9s) (406000 31%) 0.0465\n",
      "75m 19s (- 163m 58s) (407000 31%) 0.0560\n",
      "75m 30s (- 163m 47s) (408000 31%) 0.0677\n",
      "75m 41s (- 163m 36s) (409000 31%) 0.0821\n",
      "75m 52s (- 163m 25s) (410000 31%) 0.0884\n",
      "76m 3s (- 163m 14s) (411000 31%) 0.0622\n",
      "76m 15s (- 163m 4s) (412000 31%) 0.0877\n",
      "76m 26s (- 162m 54s) (413000 31%) 0.0234\n",
      "76m 38s (- 162m 43s) (414000 32%) 0.0204\n",
      "76m 49s (- 162m 33s) (415000 32%) 0.0471\n",
      "77m 1s (- 162m 23s) (416000 32%) 0.0513\n",
      "77m 12s (- 162m 12s) (417000 32%) 0.0531\n",
      "77m 23s (- 162m 1s) (418000 32%) 0.0445\n",
      "77m 35s (- 161m 51s) (419000 32%) 0.0788\n",
      "77m 46s (- 161m 40s) (420000 32%) 0.0728\n",
      "77m 57s (- 161m 29s) (421000 32%) 0.0660\n",
      "78m 8s (- 161m 18s) (422000 32%) 0.0532\n",
      "78m 20s (- 161m 8s) (423000 32%) 0.0362\n",
      "78m 31s (- 160m 57s) (424000 32%) 0.0540\n",
      "78m 42s (- 160m 46s) (425000 32%) 0.0640\n",
      "78m 53s (- 160m 35s) (426000 32%) 0.0416\n",
      "79m 4s (- 160m 24s) (427000 33%) 0.0621\n",
      "79m 16s (- 160m 13s) (428000 33%) 0.0444\n",
      "79m 27s (- 160m 1s) (429000 33%) 0.0665\n",
      "79m 38s (- 159m 50s) (430000 33%) 0.0589\n",
      "79m 49s (- 159m 39s) (431000 33%) 0.0516\n",
      "80m 0s (- 159m 28s) (432000 33%) 0.0378\n",
      "80m 11s (- 159m 16s) (433000 33%) 0.0656\n",
      "80m 22s (- 159m 5s) (434000 33%) 0.0613\n",
      "80m 33s (- 158m 54s) (435000 33%) 0.0419\n",
      "80m 44s (- 158m 42s) (436000 33%) 0.0420\n",
      "80m 55s (- 158m 32s) (437000 33%) 0.0416\n",
      "81m 6s (- 158m 20s) (438000 33%) 0.0605\n",
      "81m 17s (- 158m 9s) (439000 33%) 0.0708\n",
      "81m 28s (- 157m 58s) (440000 34%) 0.0357\n",
      "81m 39s (- 157m 47s) (441000 34%) 0.0691\n",
      "81m 50s (- 157m 35s) (442000 34%) 0.0485\n",
      "82m 1s (- 157m 24s) (443000 34%) 0.0496\n",
      "82m 12s (- 157m 12s) (444000 34%) 0.0854\n",
      "82m 23s (- 157m 1s) (445000 34%) 0.0591\n",
      "82m 34s (- 156m 50s) (446000 34%) 0.0443\n",
      "82m 45s (- 156m 39s) (447000 34%) 0.0434\n",
      "82m 56s (- 156m 27s) (448000 34%) 0.0493\n",
      "83m 7s (- 156m 17s) (449000 34%) 0.0522\n",
      "83m 18s (- 156m 5s) (450000 34%) 0.0700\n",
      "83m 29s (- 155m 53s) (451000 34%) 0.0919\n",
      "83m 40s (- 155m 43s) (452000 34%) 0.0375\n",
      "83m 51s (- 155m 31s) (453000 35%) 0.0565\n",
      "84m 2s (- 155m 19s) (454000 35%) 0.0696\n",
      "84m 13s (- 155m 8s) (455000 35%) 0.0735\n",
      "84m 24s (- 154m 57s) (456000 35%) 0.0567\n",
      "84m 35s (- 154m 45s) (457000 35%) 0.0251\n",
      "84m 46s (- 154m 34s) (458000 35%) 0.0719\n",
      "84m 56s (- 154m 21s) (459000 35%) 0.0741\n",
      "85m 7s (- 154m 10s) (460000 35%) 0.0648\n",
      "85m 18s (- 153m 59s) (461000 35%) 0.0406\n",
      "85m 30s (- 153m 48s) (462000 35%) 0.0543\n",
      "85m 40s (- 153m 36s) (463000 35%) 0.0515\n",
      "85m 51s (- 153m 25s) (464000 35%) 0.0355\n",
      "86m 2s (- 153m 14s) (465000 35%) 0.0841\n",
      "86m 13s (- 153m 2s) (466000 36%) 0.0801\n",
      "86m 24s (- 152m 50s) (467000 36%) 0.0555\n",
      "86m 35s (- 152m 39s) (468000 36%) 0.0685\n",
      "86m 46s (- 152m 27s) (469000 36%) 0.0382\n",
      "86m 57s (- 152m 16s) (470000 36%) 0.0533\n",
      "87m 8s (- 152m 5s) (471000 36%) 0.0662\n",
      "87m 18s (- 151m 53s) (472000 36%) 0.0667\n",
      "87m 29s (- 151m 41s) (473000 36%) 0.0625\n",
      "87m 40s (- 151m 30s) (474000 36%) 0.0825\n",
      "87m 51s (- 151m 18s) (475000 36%) 0.0630\n",
      "88m 1s (- 151m 6s) (476000 36%) 0.0559\n",
      "88m 13s (- 150m 56s) (477000 36%) 0.0720\n",
      "88m 24s (- 150m 44s) (478000 36%) 0.0445\n",
      "88m 35s (- 150m 33s) (479000 37%) 0.0487\n",
      "88m 46s (- 150m 22s) (480000 37%) 0.0527\n",
      "88m 57s (- 150m 11s) (481000 37%) 0.0374\n",
      "89m 8s (- 150m 0s) (482000 37%) 0.0608\n",
      "89m 19s (- 149m 49s) (483000 37%) 0.0447\n",
      "89m 30s (- 149m 37s) (484000 37%) 0.0838\n",
      "89m 40s (- 149m 25s) (485000 37%) 0.0694\n",
      "89m 51s (- 149m 13s) (486000 37%) 0.0616\n",
      "90m 2s (- 149m 2s) (487000 37%) 0.0428\n",
      "90m 13s (- 148m 51s) (488000 37%) 0.0521\n",
      "90m 24s (- 148m 39s) (489000 37%) 0.0758\n",
      "90m 35s (- 148m 28s) (490000 37%) 0.0690\n",
      "90m 46s (- 148m 17s) (491000 37%) 0.0573\n",
      "90m 57s (- 148m 5s) (492000 38%) 0.0315\n",
      "91m 8s (- 147m 54s) (493000 38%) 0.0482\n",
      "91m 19s (- 147m 44s) (494000 38%) 0.0441\n",
      "91m 31s (- 147m 33s) (495000 38%) 0.0364\n",
      "91m 42s (- 147m 22s) (496000 38%) 0.0343\n",
      "91m 53s (- 147m 11s) (497000 38%) 0.0481\n",
      "92m 5s (- 147m 1s) (498000 38%) 0.0301\n",
      "92m 16s (- 146m 51s) (499000 38%) 0.0453\n",
      "92m 27s (- 146m 39s) (500000 38%) 0.0439\n",
      "92m 38s (- 146m 28s) (501000 38%) 0.0532\n",
      "92m 50s (- 146m 17s) (502000 38%) 0.0220\n",
      "93m 1s (- 146m 6s) (503000 38%) 0.0442\n",
      "93m 12s (- 145m 55s) (504000 38%) 0.0228\n",
      "93m 23s (- 145m 45s) (505000 39%) 0.0428\n",
      "93m 35s (- 145m 34s) (506000 39%) 0.0401\n",
      "93m 46s (- 145m 23s) (507000 39%) 0.0280\n",
      "93m 57s (- 145m 12s) (508000 39%) 0.0353\n",
      "94m 8s (- 145m 1s) (509000 39%) 0.0439\n",
      "94m 20s (- 144m 50s) (510000 39%) 0.0408\n",
      "94m 31s (- 144m 40s) (511000 39%) 0.0422\n",
      "94m 42s (- 144m 29s) (512000 39%) 0.0440\n",
      "94m 54s (- 144m 18s) (513000 39%) 0.0501\n",
      "95m 5s (- 144m 8s) (514000 39%) 0.0201\n",
      "95m 17s (- 143m 57s) (515000 39%) 0.0361\n",
      "95m 28s (- 143m 47s) (516000 39%) 0.0669\n",
      "95m 40s (- 143m 37s) (517000 39%) 0.0324\n",
      "95m 50s (- 143m 25s) (518000 40%) 0.0723\n",
      "96m 1s (- 143m 12s) (519000 40%) 0.0558\n",
      "96m 11s (- 143m 0s) (520000 40%) 0.0469\n",
      "96m 21s (- 142m 48s) (521000 40%) 0.0207\n",
      "96m 32s (- 142m 36s) (522000 40%) 0.0336\n",
      "96m 42s (- 142m 24s) (523000 40%) 0.0182\n",
      "96m 53s (- 142m 12s) (524000 40%) 0.0224\n",
      "97m 3s (- 141m 59s) (525000 40%) 0.0305\n",
      "97m 14s (- 141m 49s) (526000 40%) 0.0554\n",
      "97m 25s (- 141m 38s) (527000 40%) 0.0602\n",
      "97m 36s (- 141m 26s) (528000 40%) 0.0447\n",
      "97m 48s (- 141m 16s) (529000 40%) 0.0516\n",
      "97m 59s (- 141m 5s) (530000 40%) 0.0508\n",
      "98m 10s (- 140m 53s) (531000 41%) 0.0382\n",
      "98m 21s (- 140m 43s) (532000 41%) 0.0607\n",
      "98m 33s (- 140m 32s) (533000 41%) 0.0561\n",
      "98m 44s (- 140m 21s) (534000 41%) 0.0721\n",
      "98m 55s (- 140m 10s) (535000 41%) 0.0502\n",
      "99m 7s (- 140m 0s) (536000 41%) 0.0523\n",
      "99m 18s (- 139m 49s) (537000 41%) 0.0554\n",
      "99m 29s (- 139m 38s) (538000 41%) 0.0715\n",
      "99m 40s (- 139m 27s) (539000 41%) 0.0743\n",
      "99m 51s (- 139m 15s) (540000 41%) 0.0782\n",
      "100m 3s (- 139m 5s) (541000 41%) 0.0850\n",
      "100m 14s (- 138m 55s) (542000 41%) 0.0337\n",
      "100m 25s (- 138m 44s) (543000 41%) 0.0200\n",
      "100m 37s (- 138m 33s) (544000 42%) 0.0362\n",
      "100m 49s (- 138m 23s) (545000 42%) 0.0489\n",
      "101m 0s (- 138m 12s) (546000 42%) 0.0553\n",
      "101m 11s (- 138m 1s) (547000 42%) 0.0309\n",
      "101m 23s (- 137m 51s) (548000 42%) 0.0875\n",
      "101m 34s (- 137m 40s) (549000 42%) 0.0505\n",
      "101m 45s (- 137m 29s) (550000 42%) 0.0802\n",
      "101m 56s (- 137m 18s) (551000 42%) 0.0566\n",
      "102m 8s (- 137m 7s) (552000 42%) 0.0325\n",
      "102m 19s (- 136m 56s) (553000 42%) 0.0388\n",
      "102m 30s (- 136m 45s) (554000 42%) 0.0790\n",
      "102m 41s (- 136m 34s) (555000 42%) 0.0398\n",
      "102m 52s (- 136m 23s) (556000 42%) 0.0494\n",
      "103m 4s (- 136m 12s) (557000 43%) 0.0525\n",
      "103m 15s (- 136m 1s) (558000 43%) 0.0463\n",
      "103m 26s (- 135m 49s) (559000 43%) 0.0663\n",
      "103m 37s (- 135m 38s) (560000 43%) 0.0613\n",
      "103m 48s (- 135m 27s) (561000 43%) 0.0251\n",
      "103m 59s (- 135m 16s) (562000 43%) 0.0625\n",
      "104m 10s (- 135m 5s) (563000 43%) 0.0710\n",
      "104m 21s (- 134m 54s) (564000 43%) 0.0338\n",
      "104m 32s (- 134m 42s) (565000 43%) 0.0377\n",
      "104m 43s (- 134m 31s) (566000 43%) 0.0475\n",
      "104m 54s (- 134m 20s) (567000 43%) 0.0310\n",
      "105m 5s (- 134m 9s) (568000 43%) 0.0914\n",
      "105m 16s (- 133m 58s) (569000 44%) 0.0271\n",
      "105m 27s (- 133m 47s) (570000 44%) 0.0642\n",
      "105m 38s (- 133m 35s) (571000 44%) 0.0566\n",
      "105m 49s (- 133m 24s) (572000 44%) 0.0452\n",
      "106m 0s (- 133m 13s) (573000 44%) 0.0708\n",
      "106m 11s (- 133m 1s) (574000 44%) 0.0581\n",
      "106m 22s (- 132m 51s) (575000 44%) 0.0479\n",
      "106m 33s (- 132m 40s) (576000 44%) 0.0297\n",
      "106m 44s (- 132m 28s) (577000 44%) 0.0475\n",
      "106m 56s (- 132m 18s) (578000 44%) 0.0642\n",
      "107m 7s (- 132m 6s) (579000 44%) 0.0518\n",
      "107m 17s (- 131m 54s) (580000 44%) 0.0756\n",
      "107m 29s (- 131m 44s) (581000 44%) 0.0577\n",
      "107m 40s (- 131m 33s) (582000 45%) 0.0377\n",
      "107m 50s (- 131m 21s) (583000 45%) 0.0647\n",
      "108m 1s (- 131m 10s) (584000 45%) 0.0681\n",
      "108m 12s (- 130m 59s) (585000 45%) 0.0717\n",
      "108m 23s (- 130m 47s) (586000 45%) 0.0358\n",
      "108m 34s (- 130m 36s) (587000 45%) 0.0572\n",
      "108m 45s (- 130m 24s) (588000 45%) 0.0543\n",
      "108m 55s (- 130m 13s) (589000 45%) 0.0838\n",
      "109m 7s (- 130m 1s) (590000 45%) 0.0365\n",
      "109m 18s (- 129m 51s) (591000 45%) 0.0342\n",
      "109m 29s (- 129m 39s) (592000 45%) 0.0689\n",
      "109m 40s (- 129m 28s) (593000 45%) 0.0245\n",
      "109m 51s (- 129m 17s) (594000 45%) 0.0646\n",
      "110m 1s (- 129m 5s) (595000 46%) 0.0850\n",
      "110m 12s (- 128m 54s) (596000 46%) 0.0528\n",
      "110m 23s (- 128m 42s) (597000 46%) 0.0644\n",
      "110m 34s (- 128m 31s) (598000 46%) 0.0540\n",
      "110m 45s (- 128m 20s) (599000 46%) 0.0373\n",
      "110m 56s (- 128m 9s) (600000 46%) 0.0662\n",
      "111m 7s (- 127m 57s) (601000 46%) 0.0623\n",
      "111m 17s (- 127m 46s) (602000 46%) 0.0668\n"
     ]
    },
    {
     "name": "stdout",
     "output_type": "stream",
     "text": [
      "111m 29s (- 127m 35s) (603000 46%) 0.0669\n",
      "111m 39s (- 127m 23s) (604000 46%) 0.0701\n",
      "111m 50s (- 127m 11s) (605000 46%) 0.0585\n",
      "112m 1s (- 127m 1s) (606000 46%) 0.0708\n",
      "112m 12s (- 126m 49s) (607000 46%) 0.0490\n",
      "112m 23s (- 126m 38s) (608000 47%) 0.0402\n",
      "112m 34s (- 126m 27s) (609000 47%) 0.0565\n",
      "112m 45s (- 126m 16s) (610000 47%) 0.0349\n",
      "112m 56s (- 126m 5s) (611000 47%) 0.0459\n",
      "113m 7s (- 125m 54s) (612000 47%) 0.0498\n",
      "113m 18s (- 125m 42s) (613000 47%) 0.0665\n",
      "113m 29s (- 125m 31s) (614000 47%) 0.0764\n",
      "113m 40s (- 125m 19s) (615000 47%) 0.0490\n",
      "113m 51s (- 125m 8s) (616000 47%) 0.0601\n",
      "114m 2s (- 124m 57s) (617000 47%) 0.0286\n",
      "114m 12s (- 124m 46s) (618000 47%) 0.0785\n",
      "114m 23s (- 124m 34s) (619000 47%) 0.0702\n",
      "114m 34s (- 124m 23s) (620000 47%) 0.0565\n",
      "114m 45s (- 124m 12s) (621000 48%) 0.0410\n",
      "114m 57s (- 124m 1s) (622000 48%) 0.0341\n",
      "115m 8s (- 123m 50s) (623000 48%) 0.0535\n",
      "115m 19s (- 123m 39s) (624000 48%) 0.0354\n",
      "115m 30s (- 123m 28s) (625000 48%) 0.0371\n",
      "115m 41s (- 123m 17s) (626000 48%) 0.0458\n",
      "115m 52s (- 123m 6s) (627000 48%) 0.0341\n",
      "116m 5s (- 122m 56s) (628000 48%) 0.0282\n",
      "116m 15s (- 122m 45s) (629000 48%) 0.0485\n",
      "116m 26s (- 122m 33s) (630000 48%) 0.0524\n",
      "116m 38s (- 122m 23s) (631000 48%) 0.0250\n",
      "116m 49s (- 122m 12s) (632000 48%) 0.0366\n",
      "117m 0s (- 122m 1s) (633000 48%) 0.0270\n",
      "117m 12s (- 121m 50s) (634000 49%) 0.0284\n",
      "117m 23s (- 121m 39s) (635000 49%) 0.0347\n",
      "117m 34s (- 121m 28s) (636000 49%) 0.0332\n",
      "117m 45s (- 121m 17s) (637000 49%) 0.0408\n",
      "117m 57s (- 121m 6s) (638000 49%) 0.0304\n",
      "118m 8s (- 120m 55s) (639000 49%) 0.0409\n",
      "118m 19s (- 120m 45s) (640000 49%) 0.0509\n",
      "118m 31s (- 120m 34s) (641000 49%) 0.0285\n",
      "118m 42s (- 120m 23s) (642000 49%) 0.0589\n",
      "118m 54s (- 120m 12s) (643000 49%) 0.0252\n",
      "119m 5s (- 120m 1s) (644000 49%) 0.0201\n",
      "119m 16s (- 119m 51s) (645000 49%) 0.0527\n",
      "119m 28s (- 119m 40s) (646000 49%) 0.0521\n",
      "119m 39s (- 119m 29s) (647000 50%) 0.0522\n",
      "119m 49s (- 119m 17s) (648000 50%) 0.0633\n",
      "120m 0s (- 119m 5s) (649000 50%) 0.0434\n",
      "120m 10s (- 118m 54s) (650000 50%) 0.0308\n",
      "120m 20s (- 118m 42s) (651000 50%) 0.0173\n",
      "120m 31s (- 118m 30s) (652000 50%) 0.0333\n",
      "120m 42s (- 118m 18s) (653000 50%) 0.0148\n",
      "120m 52s (- 118m 6s) (654000 50%) 0.0265\n",
      "121m 3s (- 117m 55s) (655000 50%) 0.0480\n",
      "121m 14s (- 117m 44s) (656000 50%) 0.0463\n",
      "121m 25s (- 117m 33s) (657000 50%) 0.0522\n",
      "121m 36s (- 117m 22s) (658000 50%) 0.0506\n",
      "121m 48s (- 117m 11s) (659000 50%) 0.0468\n",
      "121m 58s (- 117m 0s) (660000 51%) 0.0458\n",
      "122m 10s (- 116m 49s) (661000 51%) 0.0484\n",
      "122m 21s (- 116m 38s) (662000 51%) 0.0495\n",
      "122m 32s (- 116m 27s) (663000 51%) 0.0606\n",
      "122m 44s (- 116m 17s) (664000 51%) 0.0691\n",
      "122m 55s (- 116m 6s) (665000 51%) 0.0342\n",
      "123m 6s (- 115m 55s) (666000 51%) 0.0616\n",
      "123m 18s (- 115m 44s) (667000 51%) 0.0615\n",
      "123m 29s (- 115m 33s) (668000 51%) 0.0789\n",
      "123m 40s (- 115m 22s) (669000 51%) 0.0755\n",
      "123m 51s (- 115m 11s) (670000 51%) 0.0668\n",
      "124m 3s (- 115m 0s) (671000 51%) 0.0547\n",
      "124m 14s (- 114m 49s) (672000 51%) 0.0203\n",
      "124m 26s (- 114m 39s) (673000 52%) 0.0273\n",
      "124m 37s (- 114m 28s) (674000 52%) 0.0461\n",
      "124m 49s (- 114m 17s) (675000 52%) 0.0539\n",
      "125m 0s (- 114m 6s) (676000 52%) 0.0365\n",
      "125m 11s (- 113m 56s) (677000 52%) 0.0731\n",
      "125m 23s (- 113m 45s) (678000 52%) 0.0695\n",
      "125m 34s (- 113m 34s) (679000 52%) 0.0788\n",
      "125m 45s (- 113m 23s) (680000 52%) 0.0572\n",
      "125m 56s (- 113m 12s) (681000 52%) 0.0386\n",
      "126m 8s (- 113m 1s) (682000 52%) 0.0386\n",
      "126m 19s (- 112m 50s) (683000 52%) 0.0667\n",
      "126m 30s (- 112m 39s) (684000 52%) 0.0516\n",
      "126m 41s (- 112m 28s) (685000 52%) 0.0435\n",
      "126m 53s (- 112m 17s) (686000 53%) 0.0554\n",
      "127m 4s (- 112m 6s) (687000 53%) 0.0430\n",
      "127m 15s (- 111m 55s) (688000 53%) 0.0687\n",
      "127m 26s (- 111m 43s) (689000 53%) 0.0626\n",
      "127m 37s (- 111m 32s) (690000 53%) 0.0249\n",
      "127m 48s (- 111m 21s) (691000 53%) 0.0584\n",
      "127m 59s (- 111m 10s) (692000 53%) 0.0616\n",
      "128m 10s (- 110m 59s) (693000 53%) 0.0312\n",
      "128m 21s (- 110m 48s) (694000 53%) 0.0324\n",
      "128m 32s (- 110m 37s) (695000 53%) 0.0445\n",
      "128m 43s (- 110m 25s) (696000 53%) 0.0300\n",
      "128m 54s (- 110m 14s) (697000 53%) 0.0645\n",
      "129m 5s (- 110m 3s) (698000 53%) 0.0557\n",
      "129m 16s (- 109m 52s) (699000 54%) 0.0533\n",
      "129m 27s (- 109m 40s) (700000 54%) 0.0524\n",
      "129m 38s (- 109m 30s) (701000 54%) 0.0409\n",
      "129m 49s (- 109m 18s) (702000 54%) 0.0534\n",
      "130m 0s (- 109m 7s) (703000 54%) 0.0654\n",
      "130m 11s (- 108m 56s) (704000 54%) 0.0509\n",
      "130m 22s (- 108m 45s) (705000 54%) 0.0323\n",
      "130m 33s (- 108m 34s) (706000 54%) 0.0431\n",
      "130m 44s (- 108m 23s) (707000 54%) 0.0625\n",
      "130m 55s (- 108m 12s) (708000 54%) 0.0425\n",
      "131m 6s (- 108m 0s) (709000 54%) 0.0639\n",
      "131m 17s (- 107m 49s) (710000 54%) 0.0732\n",
      "131m 28s (- 107m 38s) (711000 54%) 0.0218\n",
      "131m 39s (- 107m 27s) (712000 55%) 0.0660\n",
      "131m 50s (- 107m 15s) (713000 55%) 0.0593\n",
      "132m 1s (- 107m 4s) (714000 55%) 0.0636\n",
      "132m 12s (- 106m 53s) (715000 55%) 0.0494\n",
      "132m 23s (- 106m 42s) (716000 55%) 0.0316\n",
      "132m 34s (- 106m 31s) (717000 55%) 0.0600\n",
      "132m 44s (- 106m 19s) (718000 55%) 0.0747\n",
      "132m 55s (- 106m 8s) (719000 55%) 0.0417\n",
      "133m 6s (- 105m 57s) (720000 55%) 0.0369\n",
      "133m 17s (- 105m 45s) (721000 55%) 0.0523\n",
      "133m 28s (- 105m 34s) (722000 55%) 0.0313\n",
      "133m 39s (- 105m 23s) (723000 55%) 0.0452\n",
      "133m 50s (- 105m 12s) (724000 55%) 0.0809\n",
      "134m 1s (- 105m 1s) (725000 56%) 0.0447\n",
      "134m 13s (- 104m 50s) (726000 56%) 0.0569\n",
      "134m 24s (- 104m 39s) (727000 56%) 0.0640\n",
      "134m 35s (- 104m 28s) (728000 56%) 0.0295\n",
      "134m 46s (- 104m 17s) (729000 56%) 0.0586\n",
      "134m 57s (- 104m 5s) (730000 56%) 0.0648\n",
      "135m 8s (- 103m 54s) (731000 56%) 0.0646\n",
      "135m 19s (- 103m 43s) (732000 56%) 0.0602\n",
      "135m 30s (- 103m 32s) (733000 56%) 0.0705\n",
      "135m 40s (- 103m 20s) (734000 56%) 0.0606\n",
      "135m 52s (- 103m 10s) (735000 56%) 0.0643\n",
      "136m 3s (- 102m 59s) (736000 56%) 0.0524\n",
      "136m 14s (- 102m 47s) (737000 56%) 0.0387\n",
      "136m 25s (- 102m 36s) (738000 57%) 0.0629\n",
      "136m 36s (- 102m 25s) (739000 57%) 0.0309\n",
      "136m 47s (- 102m 14s) (740000 57%) 0.0379\n",
      "136m 59s (- 102m 3s) (741000 57%) 0.0494\n",
      "137m 10s (- 101m 52s) (742000 57%) 0.0585\n",
      "137m 20s (- 101m 41s) (743000 57%) 0.0665\n",
      "137m 31s (- 101m 30s) (744000 57%) 0.0578\n",
      "137m 42s (- 101m 18s) (745000 57%) 0.0580\n",
      "137m 53s (- 101m 7s) (746000 57%) 0.0318\n",
      "138m 4s (- 100m 56s) (747000 57%) 0.0614\n",
      "138m 15s (- 100m 45s) (748000 57%) 0.0694\n",
      "138m 27s (- 100m 35s) (749000 57%) 0.0547\n",
      "138m 40s (- 100m 24s) (750000 58%) 0.0464\n",
      "138m 51s (- 100m 14s) (751000 58%) 0.0240\n",
      "139m 2s (- 100m 2s) (752000 58%) 0.0528\n",
      "139m 14s (- 99m 52s) (753000 58%) 0.0359\n",
      "139m 26s (- 99m 41s) (754000 58%) 0.0375\n",
      "139m 37s (- 99m 30s) (755000 58%) 0.0264\n",
      "139m 48s (- 99m 19s) (756000 58%) 0.0532\n",
      "140m 0s (- 99m 9s) (757000 58%) 0.0173\n",
      "140m 12s (- 98m 58s) (758000 58%) 0.0473\n",
      "140m 23s (- 98m 47s) (759000 58%) 0.0503\n",
      "140m 34s (- 98m 36s) (760000 58%) 0.0339\n",
      "140m 45s (- 98m 25s) (761000 58%) 0.0347\n",
      "140m 57s (- 98m 14s) (762000 58%) 0.0279\n",
      "141m 8s (- 98m 3s) (763000 59%) 0.0161\n",
      "141m 20s (- 97m 52s) (764000 59%) 0.0391\n",
      "141m 31s (- 97m 41s) (765000 59%) 0.0378\n",
      "141m 42s (- 97m 30s) (766000 59%) 0.0371\n",
      "141m 54s (- 97m 19s) (767000 59%) 0.0166\n",
      "142m 5s (- 97m 9s) (768000 59%) 0.0436\n",
      "142m 17s (- 96m 58s) (769000 59%) 0.0467\n",
      "142m 28s (- 96m 47s) (770000 59%) 0.0301\n",
      "142m 39s (- 96m 36s) (771000 59%) 0.0587\n",
      "142m 51s (- 96m 25s) (772000 59%) 0.0226\n",
      "143m 3s (- 96m 14s) (773000 59%) 0.0203\n",
      "143m 15s (- 96m 4s) (774000 59%) 0.0496\n",
      "143m 26s (- 95m 53s) (775000 59%) 0.0490\n",
      "143m 38s (- 95m 42s) (776000 60%) 0.0366\n",
      "143m 48s (- 95m 31s) (777000 60%) 0.0691\n",
      "143m 59s (- 95m 19s) (778000 60%) 0.0434\n",
      "144m 9s (- 95m 8s) (779000 60%) 0.0372\n",
      "144m 20s (- 94m 56s) (780000 60%) 0.0147\n",
      "144m 30s (- 94m 45s) (781000 60%) 0.0376\n",
      "144m 41s (- 94m 33s) (782000 60%) 0.0142\n",
      "144m 51s (- 94m 22s) (783000 60%) 0.0239\n",
      "145m 2s (- 94m 11s) (784000 60%) 0.0304\n",
      "145m 13s (- 94m 0s) (785000 60%) 0.0522\n",
      "145m 24s (- 93m 48s) (786000 60%) 0.0559\n",
      "145m 36s (- 93m 38s) (787000 60%) 0.0392\n",
      "145m 47s (- 93m 27s) (788000 60%) 0.0481\n",
      "145m 58s (- 93m 15s) (789000 61%) 0.0527\n",
      "146m 10s (- 93m 5s) (790000 61%) 0.0463\n",
      "146m 21s (- 92m 54s) (791000 61%) 0.0497\n",
      "146m 32s (- 92m 43s) (792000 61%) 0.0440\n",
      "146m 44s (- 92m 32s) (793000 61%) 0.0731\n",
      "146m 56s (- 92m 21s) (794000 61%) 0.0342\n",
      "147m 7s (- 92m 10s) (795000 61%) 0.0525\n",
      "147m 19s (- 91m 59s) (796000 61%) 0.0596\n",
      "147m 30s (- 91m 48s) (797000 61%) 0.0774\n",
      "147m 41s (- 91m 37s) (798000 61%) 0.0740\n",
      "147m 52s (- 91m 26s) (799000 61%) 0.0643\n",
      "148m 4s (- 91m 15s) (800000 61%) 0.0605\n"
     ]
    },
    {
     "name": "stdout",
     "output_type": "stream",
     "text": [
      "148m 15s (- 91m 5s) (801000 61%) 0.0197\n",
      "148m 27s (- 90m 54s) (802000 62%) 0.0180\n",
      "148m 39s (- 90m 43s) (803000 62%) 0.0444\n",
      "148m 50s (- 90m 32s) (804000 62%) 0.0471\n",
      "149m 2s (- 90m 22s) (805000 62%) 0.0486\n",
      "149m 13s (- 90m 11s) (806000 62%) 0.0438\n",
      "149m 25s (- 90m 0s) (807000 62%) 0.0825\n",
      "149m 36s (- 89m 49s) (808000 62%) 0.0755\n",
      "149m 47s (- 89m 38s) (809000 62%) 0.0663\n",
      "149m 59s (- 89m 27s) (810000 62%) 0.0441\n",
      "150m 11s (- 89m 16s) (811000 62%) 0.0315\n",
      "150m 22s (- 89m 5s) (812000 62%) 0.0583\n",
      "150m 33s (- 88m 54s) (813000 62%) 0.0693\n",
      "150m 44s (- 88m 43s) (814000 62%) 0.0357\n",
      "150m 56s (- 88m 32s) (815000 63%) 0.0632\n",
      "151m 8s (- 88m 22s) (816000 63%) 0.0463\n",
      "151m 20s (- 88m 11s) (817000 63%) 0.0674\n",
      "151m 31s (- 88m 0s) (818000 63%) 0.0626\n",
      "151m 43s (- 87m 49s) (819000 63%) 0.0403\n",
      "151m 55s (- 87m 39s) (820000 63%) 0.0432\n",
      "152m 7s (- 87m 28s) (821000 63%) 0.0682\n",
      "152m 19s (- 87m 17s) (822000 63%) 0.0436\n",
      "152m 30s (- 87m 6s) (823000 63%) 0.0360\n",
      "152m 42s (- 86m 55s) (824000 63%) 0.0363\n",
      "152m 53s (- 86m 45s) (825000 63%) 0.0426\n",
      "153m 5s (- 86m 34s) (826000 63%) 0.0573\n",
      "153m 17s (- 86m 23s) (827000 63%) 0.0619\n",
      "153m 28s (- 86m 12s) (828000 64%) 0.0373\n",
      "153m 40s (- 86m 1s) (829000 64%) 0.0565\n",
      "153m 51s (- 85m 50s) (830000 64%) 0.0418\n",
      "154m 2s (- 85m 39s) (831000 64%) 0.0400\n",
      "154m 14s (- 85m 28s) (832000 64%) 0.0765\n",
      "154m 25s (- 85m 17s) (833000 64%) 0.0519\n",
      "154m 36s (- 85m 6s) (834000 64%) 0.0364\n",
      "154m 48s (- 84m 55s) (835000 64%) 0.0382\n",
      "155m 0s (- 84m 44s) (836000 64%) 0.0479\n",
      "155m 10s (- 84m 33s) (837000 64%) 0.0467\n",
      "155m 22s (- 84m 22s) (838000 64%) 0.0610\n",
      "155m 34s (- 84m 12s) (839000 64%) 0.0765\n",
      "155m 45s (- 84m 1s) (840000 64%) 0.0333\n",
      "155m 57s (- 83m 50s) (841000 65%) 0.0469\n",
      "156m 8s (- 83m 39s) (842000 65%) 0.0594\n",
      "156m 20s (- 83m 28s) (843000 65%) 0.0663\n",
      "156m 31s (- 83m 17s) (844000 65%) 0.0501\n",
      "156m 43s (- 83m 6s) (845000 65%) 0.0170\n",
      "156m 54s (- 82m 55s) (846000 65%) 0.0627\n",
      "157m 5s (- 82m 44s) (847000 65%) 0.0631\n",
      "157m 17s (- 82m 33s) (848000 65%) 0.0511\n",
      "157m 28s (- 82m 22s) (849000 65%) 0.0331\n",
      "157m 40s (- 82m 11s) (850000 65%) 0.0461\n",
      "157m 51s (- 82m 0s) (851000 65%) 0.0425\n",
      "158m 2s (- 81m 49s) (852000 65%) 0.0309\n",
      "158m 14s (- 81m 38s) (853000 65%) 0.0721\n",
      "158m 25s (- 81m 27s) (854000 66%) 0.0620\n",
      "158m 37s (- 81m 16s) (855000 66%) 0.0468\n",
      "158m 48s (- 81m 5s) (856000 66%) 0.0599\n",
      "158m 59s (- 80m 54s) (857000 66%) 0.0276\n",
      "159m 11s (- 80m 43s) (858000 66%) 0.0462\n",
      "159m 22s (- 80m 32s) (859000 66%) 0.0557\n",
      "159m 34s (- 80m 21s) (860000 66%) 0.0618\n",
      "159m 45s (- 80m 10s) (861000 66%) 0.0569\n",
      "159m 56s (- 79m 59s) (862000 66%) 0.0780\n",
      "160m 8s (- 79m 48s) (863000 66%) 0.0559\n",
      "160m 19s (- 79m 37s) (864000 66%) 0.0533\n",
      "160m 31s (- 79m 26s) (865000 66%) 0.0647\n",
      "160m 43s (- 79m 15s) (866000 66%) 0.0447\n",
      "160m 54s (- 79m 4s) (867000 67%) 0.0556\n",
      "161m 5s (- 78m 53s) (868000 67%) 0.0356\n",
      "161m 18s (- 78m 43s) (869000 67%) 0.0350\n",
      "161m 29s (- 78m 32s) (870000 67%) 0.0491\n",
      "161m 41s (- 78m 21s) (871000 67%) 0.0451\n",
      "161m 53s (- 78m 10s) (872000 67%) 0.0651\n",
      "162m 4s (- 77m 59s) (873000 67%) 0.0593\n",
      "162m 16s (- 77m 48s) (874000 67%) 0.0542\n",
      "162m 28s (- 77m 37s) (875000 67%) 0.0440\n",
      "162m 40s (- 77m 27s) (876000 67%) 0.0407\n",
      "162m 52s (- 77m 16s) (877000 67%) 0.0596\n",
      "163m 3s (- 77m 5s) (878000 67%) 0.0630\n",
      "163m 15s (- 76m 54s) (879000 67%) 0.0510\n",
      "163m 27s (- 76m 43s) (880000 68%) 0.0247\n",
      "163m 39s (- 76m 32s) (881000 68%) 0.0477\n",
      "163m 51s (- 76m 22s) (882000 68%) 0.0359\n",
      "164m 3s (- 76m 11s) (883000 68%) 0.0312\n",
      "164m 15s (- 76m 0s) (884000 68%) 0.0310\n",
      "164m 27s (- 75m 49s) (885000 68%) 0.0449\n",
      "164m 39s (- 75m 39s) (886000 68%) 0.0272\n",
      "164m 52s (- 75m 28s) (887000 68%) 0.0420\n",
      "165m 3s (- 75m 17s) (888000 68%) 0.0370\n",
      "165m 15s (- 75m 7s) (889000 68%) 0.0468\n",
      "165m 27s (- 74m 56s) (890000 68%) 0.0215\n",
      "165m 39s (- 74m 45s) (891000 68%) 0.0334\n",
      "165m 51s (- 74m 34s) (892000 68%) 0.0204\n",
      "166m 3s (- 74m 23s) (893000 69%) 0.0380\n",
      "166m 14s (- 74m 12s) (894000 69%) 0.0389\n",
      "166m 27s (- 74m 2s) (895000 69%) 0.0298\n",
      "166m 39s (- 73m 51s) (896000 69%) 0.0253\n",
      "166m 51s (- 73m 40s) (897000 69%) 0.0408\n",
      "167m 4s (- 73m 30s) (898000 69%) 0.0357\n",
      "167m 16s (- 73m 19s) (899000 69%) 0.0378\n",
      "167m 28s (- 73m 8s) (900000 69%) 0.0445\n",
      "167m 40s (- 72m 58s) (901000 69%) 0.0352\n",
      "167m 53s (- 72m 47s) (902000 69%) 0.0186\n",
      "168m 4s (- 72m 36s) (903000 69%) 0.0325\n",
      "168m 17s (- 72m 26s) (904000 69%) 0.0580\n",
      "168m 29s (- 72m 15s) (905000 69%) 0.0264\n",
      "168m 40s (- 72m 4s) (906000 70%) 0.0677\n",
      "168m 52s (- 71m 53s) (907000 70%) 0.0446\n",
      "169m 2s (- 71m 41s) (908000 70%) 0.0450\n",
      "169m 14s (- 71m 30s) (909000 70%) 0.0129\n",
      "169m 25s (- 71m 19s) (910000 70%) 0.0319\n",
      "169m 36s (- 71m 8s) (911000 70%) 0.0165\n",
      "169m 46s (- 70m 56s) (912000 70%) 0.0192\n",
      "169m 57s (- 70m 45s) (913000 70%) 0.0271\n",
      "170m 9s (- 70m 34s) (914000 70%) 0.0480\n",
      "170m 20s (- 70m 23s) (915000 70%) 0.0521\n",
      "170m 32s (- 70m 12s) (916000 70%) 0.0398\n",
      "170m 44s (- 70m 1s) (917000 70%) 0.0497\n",
      "170m 55s (- 69m 50s) (918000 70%) 0.0445\n",
      "171m 7s (- 69m 39s) (919000 71%) 0.0394\n",
      "171m 19s (- 69m 28s) (920000 71%) 0.0520\n",
      "171m 31s (- 69m 17s) (921000 71%) 0.0537\n",
      "171m 42s (- 69m 6s) (922000 71%) 0.0593\n",
      "171m 54s (- 68m 55s) (923000 71%) 0.0406\n",
      "172m 6s (- 68m 44s) (924000 71%) 0.0497\n",
      "172m 18s (- 68m 33s) (925000 71%) 0.0511\n",
      "172m 29s (- 68m 22s) (926000 71%) 0.0649\n",
      "172m 40s (- 68m 11s) (927000 71%) 0.0708\n",
      "172m 52s (- 68m 0s) (928000 71%) 0.0636\n",
      "173m 4s (- 67m 49s) (929000 71%) 0.0663\n",
      "173m 15s (- 67m 38s) (930000 71%) 0.0266\n",
      "173m 27s (- 67m 27s) (931000 71%) 0.0162\n",
      "173m 39s (- 67m 16s) (932000 72%) 0.0322\n",
      "173m 51s (- 67m 5s) (933000 72%) 0.0441\n",
      "174m 3s (- 66m 55s) (934000 72%) 0.0489\n",
      "174m 14s (- 66m 44s) (935000 72%) 0.0279\n",
      "174m 26s (- 66m 33s) (936000 72%) 0.0910\n",
      "174m 38s (- 66m 22s) (937000 72%) 0.0559\n",
      "174m 49s (- 66m 11s) (938000 72%) 0.0744\n",
      "175m 1s (- 65m 59s) (939000 72%) 0.0551\n",
      "175m 13s (- 65m 49s) (940000 72%) 0.0289\n",
      "175m 24s (- 65m 38s) (941000 72%) 0.0331\n",
      "175m 36s (- 65m 27s) (942000 72%) 0.0770\n",
      "175m 48s (- 65m 16s) (943000 72%) 0.0367\n",
      "176m 0s (- 65m 5s) (944000 73%) 0.0517\n",
      "176m 12s (- 64m 54s) (945000 73%) 0.0488\n",
      "176m 24s (- 64m 43s) (946000 73%) 0.0494\n",
      "176m 36s (- 64m 32s) (947000 73%) 0.0661\n",
      "176m 47s (- 64m 21s) (948000 73%) 0.0593\n",
      "177m 0s (- 64m 10s) (949000 73%) 0.0236\n",
      "177m 11s (- 63m 59s) (950000 73%) 0.0651\n",
      "177m 23s (- 63m 48s) (951000 73%) 0.0661\n",
      "177m 35s (- 63m 37s) (952000 73%) 0.0346\n",
      "177m 46s (- 63m 26s) (953000 73%) 0.0299\n",
      "177m 58s (- 63m 15s) (954000 73%) 0.0424\n",
      "178m 10s (- 63m 4s) (955000 73%) 0.0336\n",
      "178m 22s (- 62m 53s) (956000 73%) 0.0931\n",
      "178m 34s (- 62m 42s) (957000 74%) 0.0241\n",
      "178m 45s (- 62m 31s) (958000 74%) 0.0651\n",
      "178m 57s (- 62m 20s) (959000 74%) 0.0524\n",
      "179m 9s (- 62m 9s) (960000 74%) 0.0398\n",
      "179m 20s (- 61m 58s) (961000 74%) 0.0728\n",
      "179m 32s (- 61m 47s) (962000 74%) 0.0521\n",
      "179m 44s (- 61m 36s) (963000 74%) 0.0455\n",
      "179m 56s (- 61m 25s) (964000 74%) 0.0218\n",
      "180m 7s (- 61m 14s) (965000 74%) 0.0453\n",
      "180m 19s (- 61m 3s) (966000 74%) 0.0592\n",
      "180m 31s (- 60m 52s) (967000 74%) 0.0495\n",
      "180m 42s (- 60m 41s) (968000 74%) 0.0750\n",
      "180m 54s (- 60m 30s) (969000 74%) 0.0498\n",
      "181m 6s (- 60m 19s) (970000 75%) 0.0367\n",
      "181m 17s (- 60m 8s) (971000 75%) 0.0617\n",
      "181m 28s (- 59m 56s) (972000 75%) 0.0760\n",
      "181m 40s (- 59m 45s) (973000 75%) 0.0647\n",
      "181m 52s (- 59m 34s) (974000 75%) 0.0233\n",
      "182m 3s (- 59m 23s) (975000 75%) 0.0548\n",
      "182m 14s (- 59m 12s) (976000 75%) 0.0563\n",
      "182m 25s (- 59m 1s) (977000 75%) 0.0736\n",
      "182m 37s (- 58m 50s) (978000 75%) 0.0257\n",
      "182m 49s (- 58m 39s) (979000 75%) 0.0343\n",
      "183m 0s (- 58m 28s) (980000 75%) 0.0621\n",
      "183m 12s (- 58m 17s) (981000 75%) 0.0205\n",
      "183m 23s (- 58m 5s) (982000 75%) 0.0561\n",
      "183m 35s (- 57m 54s) (983000 76%) 0.0620\n",
      "183m 46s (- 57m 43s) (984000 76%) 0.0503\n",
      "183m 58s (- 57m 32s) (985000 76%) 0.0562\n",
      "184m 9s (- 57m 21s) (986000 76%) 0.0422\n",
      "184m 21s (- 57m 10s) (987000 76%) 0.0325\n",
      "184m 32s (- 56m 59s) (988000 76%) 0.0567\n",
      "184m 44s (- 56m 48s) (989000 76%) 0.0599\n",
      "184m 55s (- 56m 36s) (990000 76%) 0.0624\n",
      "185m 7s (- 56m 25s) (991000 76%) 0.0614\n",
      "185m 18s (- 56m 14s) (992000 76%) 0.0623\n",
      "185m 29s (- 56m 3s) (993000 76%) 0.0507\n",
      "185m 41s (- 55m 52s) (994000 76%) 0.0694\n",
      "185m 53s (- 55m 41s) (995000 76%) 0.0424\n",
      "186m 4s (- 55m 30s) (996000 77%) 0.0411\n",
      "186m 16s (- 55m 19s) (997000 77%) 0.0536\n",
      "186m 28s (- 55m 8s) (998000 77%) 0.0305\n",
      "186m 40s (- 54m 57s) (999000 77%) 0.0439\n",
      "186m 52s (- 54m 46s) (1000000 77%) 0.0409\n",
      "187m 3s (- 54m 34s) (1001000 77%) 0.0597\n",
      "187m 14s (- 54m 23s) (1002000 77%) 0.0702\n"
     ]
    },
    {
     "name": "stdout",
     "output_type": "stream",
     "text": [
      "187m 26s (- 54m 12s) (1003000 77%) 0.0491\n",
      "187m 38s (- 54m 1s) (1004000 77%) 0.0458\n",
      "187m 49s (- 53m 50s) (1005000 77%) 0.0280\n",
      "188m 1s (- 53m 39s) (1006000 77%) 0.0585\n",
      "188m 12s (- 53m 28s) (1007000 77%) 0.0584\n",
      "188m 24s (- 53m 17s) (1008000 77%) 0.0520\n",
      "188m 36s (- 53m 6s) (1009000 78%) 0.0349\n",
      "188m 48s (- 52m 55s) (1010000 78%) 0.0285\n",
      "188m 59s (- 52m 44s) (1011000 78%) 0.0513\n",
      "189m 12s (- 52m 33s) (1012000 78%) 0.0281\n",
      "189m 24s (- 52m 22s) (1013000 78%) 0.0307\n",
      "189m 35s (- 52m 11s) (1014000 78%) 0.0428\n",
      "189m 48s (- 52m 0s) (1015000 78%) 0.0296\n",
      "190m 0s (- 51m 49s) (1016000 78%) 0.0325\n",
      "190m 12s (- 51m 38s) (1017000 78%) 0.0379\n",
      "190m 23s (- 51m 27s) (1018000 78%) 0.0483\n",
      "190m 35s (- 51m 15s) (1019000 78%) 0.0220\n",
      "190m 47s (- 51m 4s) (1020000 78%) 0.0309\n",
      "190m 59s (- 50m 53s) (1021000 78%) 0.0233\n",
      "191m 11s (- 50m 42s) (1022000 79%) 0.0253\n",
      "191m 23s (- 50m 31s) (1023000 79%) 0.0357\n",
      "191m 35s (- 50m 20s) (1024000 79%) 0.0257\n",
      "191m 47s (- 50m 9s) (1025000 79%) 0.0420\n",
      "191m 59s (- 49m 58s) (1026000 79%) 0.0309\n",
      "192m 11s (- 49m 47s) (1027000 79%) 0.0311\n",
      "192m 23s (- 49m 36s) (1028000 79%) 0.0448\n",
      "192m 34s (- 49m 25s) (1029000 79%) 0.0239\n",
      "192m 46s (- 49m 14s) (1030000 79%) 0.0548\n",
      "192m 58s (- 49m 3s) (1031000 79%) 0.0185\n",
      "193m 10s (- 48m 52s) (1032000 79%) 0.0259\n",
      "193m 23s (- 48m 41s) (1033000 79%) 0.0440\n",
      "193m 35s (- 48m 30s) (1034000 79%) 0.0414\n",
      "193m 46s (- 48m 19s) (1035000 80%) 0.0523\n",
      "193m 57s (- 48m 7s) (1036000 80%) 0.0519\n",
      "194m 8s (- 47m 56s) (1037000 80%) 0.0367\n",
      "194m 19s (- 47m 45s) (1038000 80%) 0.0275\n",
      "194m 30s (- 47m 34s) (1039000 80%) 0.0173\n",
      "194m 41s (- 47m 22s) (1040000 80%) 0.0277\n",
      "194m 52s (- 47m 11s) (1041000 80%) 0.0146\n",
      "195m 3s (- 47m 0s) (1042000 80%) 0.0278\n",
      "195m 15s (- 46m 49s) (1043000 80%) 0.0383\n",
      "195m 26s (- 46m 37s) (1044000 80%) 0.0413\n",
      "195m 38s (- 46m 26s) (1045000 80%) 0.0489\n",
      "195m 50s (- 46m 15s) (1046000 80%) 0.0493\n",
      "196m 1s (- 46m 4s) (1047000 80%) 0.0400\n",
      "196m 13s (- 45m 53s) (1048000 81%) 0.0393\n",
      "196m 25s (- 45m 42s) (1049000 81%) 0.0469\n",
      "196m 37s (- 45m 31s) (1050000 81%) 0.0461\n",
      "196m 49s (- 45m 20s) (1051000 81%) 0.0594\n",
      "197m 2s (- 45m 9s) (1052000 81%) 0.0530\n",
      "197m 14s (- 44m 58s) (1053000 81%) 0.0345\n",
      "197m 26s (- 44m 47s) (1054000 81%) 0.0624\n",
      "197m 38s (- 44m 36s) (1055000 81%) 0.0513\n",
      "197m 50s (- 44m 25s) (1056000 81%) 0.0669\n",
      "198m 3s (- 44m 14s) (1057000 81%) 0.0697\n",
      "198m 15s (- 44m 3s) (1058000 81%) 0.0630\n",
      "198m 28s (- 43m 52s) (1059000 81%) 0.0402\n",
      "198m 41s (- 43m 41s) (1060000 81%) 0.0169\n",
      "198m 53s (- 43m 30s) (1061000 82%) 0.0262\n",
      "199m 5s (- 43m 19s) (1062000 82%) 0.0423\n",
      "199m 17s (- 43m 8s) (1063000 82%) 0.0478\n",
      "199m 29s (- 42m 57s) (1064000 82%) 0.0305\n",
      "199m 42s (- 42m 46s) (1065000 82%) 0.0739\n",
      "199m 54s (- 42m 35s) (1066000 82%) 0.0615\n",
      "200m 6s (- 42m 24s) (1067000 82%) 0.0744\n",
      "200m 18s (- 42m 12s) (1068000 82%) 0.0510\n",
      "200m 31s (- 42m 2s) (1069000 82%) 0.0351\n",
      "200m 43s (- 41m 50s) (1070000 82%) 0.0337\n",
      "200m 54s (- 41m 39s) (1071000 82%) 0.0649\n",
      "201m 6s (- 41m 28s) (1072000 82%) 0.0467\n",
      "201m 17s (- 41m 17s) (1073000 82%) 0.0427\n",
      "201m 29s (- 41m 6s) (1074000 83%) 0.0554\n",
      "201m 41s (- 40m 55s) (1075000 83%) 0.0380\n",
      "201m 53s (- 40m 43s) (1076000 83%) 0.0710\n",
      "202m 5s (- 40m 32s) (1077000 83%) 0.0604\n",
      "202m 17s (- 40m 21s) (1078000 83%) 0.0207\n",
      "202m 28s (- 40m 10s) (1079000 83%) 0.0586\n",
      "202m 40s (- 39m 59s) (1080000 83%) 0.0712\n",
      "202m 52s (- 39m 48s) (1081000 83%) 0.0306\n",
      "203m 4s (- 39m 37s) (1082000 83%) 0.0318\n",
      "203m 16s (- 39m 25s) (1083000 83%) 0.0381\n",
      "203m 27s (- 39m 14s) (1084000 83%) 0.0342\n",
      "203m 39s (- 39m 3s) (1085000 83%) 0.0790\n",
      "203m 51s (- 38m 52s) (1086000 83%) 0.0365\n",
      "204m 3s (- 38m 41s) (1087000 84%) 0.0550\n",
      "204m 14s (- 38m 29s) (1088000 84%) 0.0562\n",
      "204m 26s (- 38m 18s) (1089000 84%) 0.0408\n",
      "204m 38s (- 38m 7s) (1090000 84%) 0.0500\n",
      "204m 49s (- 37m 56s) (1091000 84%) 0.0611\n",
      "205m 1s (- 37m 45s) (1092000 84%) 0.0472\n",
      "205m 12s (- 37m 34s) (1093000 84%) 0.0284\n",
      "205m 23s (- 37m 22s) (1094000 84%) 0.0443\n",
      "205m 35s (- 37m 11s) (1095000 84%) 0.0537\n",
      "205m 46s (- 37m 0s) (1096000 84%) 0.0424\n",
      "205m 57s (- 36m 48s) (1097000 84%) 0.0678\n",
      "206m 8s (- 36m 37s) (1098000 84%) 0.0665\n",
      "206m 20s (- 36m 26s) (1099000 84%) 0.0195\n",
      "206m 31s (- 36m 15s) (1100000 85%) 0.0648\n",
      "206m 42s (- 36m 3s) (1101000 85%) 0.0658\n",
      "206m 53s (- 35m 52s) (1102000 85%) 0.0582\n",
      "207m 4s (- 35m 41s) (1103000 85%) 0.0470\n",
      "207m 16s (- 35m 30s) (1104000 85%) 0.0331\n",
      "207m 26s (- 35m 18s) (1105000 85%) 0.0618\n",
      "207m 37s (- 35m 7s) (1106000 85%) 0.0748\n",
      "207m 49s (- 34m 56s) (1107000 85%) 0.0360\n",
      "208m 0s (- 34m 44s) (1108000 85%) 0.0358\n",
      "208m 11s (- 34m 33s) (1109000 85%) 0.0577\n",
      "208m 22s (- 34m 22s) (1110000 85%) 0.0266\n",
      "208m 34s (- 34m 11s) (1111000 85%) 0.0491\n",
      "208m 44s (- 33m 59s) (1112000 85%) 0.0709\n",
      "208m 56s (- 33m 48s) (1113000 86%) 0.0344\n",
      "209m 7s (- 33m 37s) (1114000 86%) 0.0540\n",
      "209m 18s (- 33m 25s) (1115000 86%) 0.0536\n",
      "209m 29s (- 33m 14s) (1116000 86%) 0.0248\n",
      "209m 40s (- 33m 3s) (1117000 86%) 0.0557\n",
      "209m 51s (- 32m 51s) (1118000 86%) 0.0553\n",
      "210m 2s (- 32m 40s) (1119000 86%) 0.0657\n",
      "210m 14s (- 32m 29s) (1120000 86%) 0.0494\n",
      "210m 24s (- 32m 18s) (1121000 86%) 0.0645\n",
      "210m 35s (- 32m 6s) (1122000 86%) 0.0569\n",
      "210m 47s (- 31m 55s) (1123000 86%) 0.0602\n",
      "210m 58s (- 31m 44s) (1124000 86%) 0.0512\n",
      "211m 9s (- 31m 32s) (1125000 87%) 0.0388\n",
      "211m 20s (- 31m 21s) (1126000 87%) 0.0589\n",
      "211m 31s (- 31m 10s) (1127000 87%) 0.0289\n",
      "211m 43s (- 30m 59s) (1128000 87%) 0.0372\n",
      "211m 54s (- 30m 47s) (1129000 87%) 0.0451\n",
      "212m 5s (- 30m 36s) (1130000 87%) 0.0543\n",
      "212m 16s (- 30m 25s) (1131000 87%) 0.0612\n",
      "212m 28s (- 30m 14s) (1132000 87%) 0.0513\n",
      "212m 38s (- 30m 2s) (1133000 87%) 0.0548\n",
      "212m 49s (- 29m 51s) (1134000 87%) 0.0237\n",
      "213m 1s (- 29m 40s) (1135000 87%) 0.0576\n",
      "213m 12s (- 29m 28s) (1136000 87%) 0.0578\n",
      "213m 23s (- 29m 17s) (1137000 87%) 0.0512\n",
      "213m 34s (- 29m 6s) (1138000 88%) 0.0388\n",
      "213m 46s (- 28m 55s) (1139000 88%) 0.0217\n",
      "213m 57s (- 28m 43s) (1140000 88%) 0.0487\n",
      "214m 9s (- 28m 32s) (1141000 88%) 0.0331\n",
      "214m 20s (- 28m 21s) (1142000 88%) 0.0322\n",
      "214m 31s (- 28m 10s) (1143000 88%) 0.0227\n",
      "214m 44s (- 27m 59s) (1144000 88%) 0.0501\n",
      "214m 56s (- 27m 47s) (1145000 88%) 0.0118\n",
      "215m 8s (- 27m 36s) (1146000 88%) 0.0467\n",
      "215m 20s (- 27m 25s) (1147000 88%) 0.0498\n",
      "215m 32s (- 27m 14s) (1148000 88%) 0.0281\n",
      "215m 44s (- 27m 3s) (1149000 88%) 0.0302\n",
      "215m 56s (- 26m 52s) (1150000 88%) 0.0218\n",
      "216m 8s (- 26m 40s) (1151000 89%) 0.0154\n",
      "216m 19s (- 26m 29s) (1152000 89%) 0.0347\n",
      "216m 31s (- 26m 18s) (1153000 89%) 0.0341\n",
      "216m 43s (- 26m 7s) (1154000 89%) 0.0367\n",
      "216m 54s (- 25m 56s) (1155000 89%) 0.0161\n",
      "217m 7s (- 25m 44s) (1156000 89%) 0.0398\n",
      "217m 18s (- 25m 33s) (1157000 89%) 0.0427\n",
      "217m 29s (- 25m 22s) (1158000 89%) 0.0260\n",
      "217m 41s (- 25m 11s) (1159000 89%) 0.0525\n",
      "217m 53s (- 24m 59s) (1160000 89%) 0.0218\n",
      "218m 4s (- 24m 48s) (1161000 89%) 0.0167\n",
      "218m 16s (- 24m 37s) (1162000 89%) 0.0438\n",
      "218m 28s (- 24m 26s) (1163000 89%) 0.0442\n",
      "218m 39s (- 24m 15s) (1164000 90%) 0.0380\n",
      "218m 50s (- 24m 3s) (1165000 90%) 0.0575\n",
      "219m 0s (- 23m 52s) (1166000 90%) 0.0366\n",
      "219m 11s (- 23m 40s) (1167000 90%) 0.0300\n",
      "219m 22s (- 23m 29s) (1168000 90%) 0.0140\n",
      "219m 32s (- 23m 18s) (1169000 90%) 0.0331\n",
      "219m 43s (- 23m 6s) (1170000 90%) 0.0118\n",
      "219m 54s (- 22m 55s) (1171000 90%) 0.0224\n",
      "220m 5s (- 22m 44s) (1172000 90%) 0.0257\n",
      "220m 16s (- 22m 33s) (1173000 90%) 0.0508\n",
      "220m 27s (- 22m 21s) (1174000 90%) 0.0454\n",
      "220m 38s (- 22m 10s) (1175000 90%) 0.0350\n",
      "220m 50s (- 21m 59s) (1176000 90%) 0.0460\n",
      "221m 1s (- 21m 48s) (1177000 91%) 0.0470\n",
      "221m 13s (- 21m 36s) (1178000 91%) 0.0454\n",
      "221m 24s (- 21m 25s) (1179000 91%) 0.0450\n",
      "221m 36s (- 21m 14s) (1180000 91%) 0.0371\n",
      "221m 47s (- 21m 3s) (1181000 91%) 0.0658\n",
      "221m 59s (- 20m 51s) (1182000 91%) 0.0320\n",
      "222m 11s (- 20m 40s) (1183000 91%) 0.0482\n",
      "222m 22s (- 20m 29s) (1184000 91%) 0.0589\n",
      "222m 33s (- 20m 18s) (1185000 91%) 0.0725\n",
      "222m 45s (- 20m 6s) (1186000 91%) 0.0665\n",
      "222m 56s (- 19m 55s) (1187000 91%) 0.0615\n",
      "223m 8s (- 19m 44s) (1188000 91%) 0.0507\n",
      "223m 20s (- 19m 33s) (1189000 91%) 0.0160\n",
      "223m 31s (- 19m 21s) (1190000 92%) 0.0152\n",
      "223m 43s (- 19m 10s) (1191000 92%) 0.0421\n",
      "223m 55s (- 18m 59s) (1192000 92%) 0.0437\n",
      "224m 6s (- 18m 48s) (1193000 92%) 0.0410\n",
      "224m 17s (- 18m 36s) (1194000 92%) 0.0518\n",
      "224m 29s (- 18m 25s) (1195000 92%) 0.0713\n",
      "224m 40s (- 18m 14s) (1196000 92%) 0.0674\n",
      "224m 51s (- 18m 3s) (1197000 92%) 0.0579\n",
      "225m 3s (- 17m 51s) (1198000 92%) 0.0359\n",
      "225m 15s (- 17m 40s) (1199000 92%) 0.0275\n"
     ]
    },
    {
     "name": "stdout",
     "output_type": "stream",
     "text": [
      "225m 26s (- 17m 29s) (1200000 92%) 0.0565\n",
      "225m 37s (- 17m 18s) (1201000 92%) 0.0575\n",
      "225m 49s (- 17m 6s) (1202000 92%) 0.0328\n",
      "226m 0s (- 16m 55s) (1203000 93%) 0.0568\n",
      "226m 11s (- 16m 44s) (1204000 93%) 0.0390\n",
      "226m 22s (- 16m 32s) (1205000 93%) 0.0637\n",
      "226m 33s (- 16m 21s) (1206000 93%) 0.0585\n",
      "226m 45s (- 16m 10s) (1207000 93%) 0.0315\n",
      "226m 56s (- 15m 59s) (1208000 93%) 0.0439\n",
      "227m 7s (- 15m 47s) (1209000 93%) 0.0661\n",
      "227m 18s (- 15m 36s) (1210000 93%) 0.0412\n",
      "227m 29s (- 15m 25s) (1211000 93%) 0.0323\n",
      "227m 40s (- 15m 13s) (1212000 93%) 0.0358\n",
      "227m 52s (- 15m 2s) (1213000 93%) 0.0350\n",
      "228m 3s (- 14m 51s) (1214000 93%) 0.0586\n",
      "228m 14s (- 14m 40s) (1215000 93%) 0.0561\n",
      "228m 26s (- 14m 28s) (1216000 94%) 0.0439\n",
      "228m 37s (- 14m 17s) (1217000 94%) 0.0519\n",
      "228m 48s (- 14m 6s) (1218000 94%) 0.0401\n",
      "229m 0s (- 13m 55s) (1219000 94%) 0.0397\n",
      "229m 11s (- 13m 43s) (1220000 94%) 0.0741\n",
      "229m 22s (- 13m 32s) (1221000 94%) 0.0478\n",
      "229m 33s (- 13m 21s) (1222000 94%) 0.0316\n",
      "229m 45s (- 13m 10s) (1223000 94%) 0.0353\n",
      "229m 56s (- 12m 58s) (1224000 94%) 0.0482\n",
      "230m 7s (- 12m 47s) (1225000 94%) 0.0409\n",
      "230m 18s (- 12m 36s) (1226000 94%) 0.0613\n",
      "230m 29s (- 12m 24s) (1227000 94%) 0.0732\n",
      "230m 41s (- 12m 13s) (1228000 94%) 0.0247\n",
      "230m 52s (- 12m 2s) (1229000 95%) 0.0506\n",
      "231m 3s (- 11m 51s) (1230000 95%) 0.0613\n",
      "231m 14s (- 11m 39s) (1231000 95%) 0.0627\n",
      "231m 25s (- 11m 28s) (1232000 95%) 0.0490\n",
      "231m 37s (- 11m 17s) (1233000 95%) 0.0162\n",
      "231m 48s (- 11m 6s) (1234000 95%) 0.0701\n",
      "232m 0s (- 10m 54s) (1235000 95%) 0.0585\n",
      "232m 12s (- 10m 43s) (1236000 95%) 0.0518\n",
      "232m 24s (- 10m 32s) (1237000 95%) 0.0317\n",
      "232m 35s (- 10m 21s) (1238000 95%) 0.0481\n",
      "232m 47s (- 10m 9s) (1239000 95%) 0.0409\n",
      "232m 57s (- 9m 58s) (1240000 95%) 0.0323\n",
      "233m 9s (- 9m 47s) (1241000 95%) 0.0773\n",
      "233m 20s (- 9m 35s) (1242000 96%) 0.0479\n",
      "233m 31s (- 9m 24s) (1243000 96%) 0.0382\n",
      "233m 43s (- 9m 13s) (1244000 96%) 0.0588\n",
      "233m 55s (- 9m 2s) (1245000 96%) 0.0208\n",
      "234m 6s (- 8m 50s) (1246000 96%) 0.0479\n",
      "234m 18s (- 8m 39s) (1247000 96%) 0.0566\n",
      "234m 30s (- 8m 28s) (1248000 96%) 0.0586\n",
      "234m 41s (- 8m 17s) (1249000 96%) 0.0511\n",
      "234m 53s (- 8m 5s) (1250000 96%) 0.0691\n",
      "235m 5s (- 7m 54s) (1251000 96%) 0.0545\n",
      "235m 16s (- 7m 43s) (1252000 96%) 0.0501\n",
      "235m 28s (- 7m 32s) (1253000 96%) 0.0585\n",
      "235m 39s (- 7m 20s) (1254000 96%) 0.0421\n",
      "235m 50s (- 7m 9s) (1255000 97%) 0.0567\n",
      "236m 2s (- 6m 58s) (1256000 97%) 0.0355\n",
      "236m 13s (- 6m 46s) (1257000 97%) 0.0348\n",
      "236m 24s (- 6m 35s) (1258000 97%) 0.0421\n",
      "236m 36s (- 6m 24s) (1259000 97%) 0.0523\n",
      "236m 47s (- 6m 13s) (1260000 97%) 0.0583\n",
      "236m 58s (- 6m 1s) (1261000 97%) 0.0531\n",
      "237m 9s (- 5m 50s) (1262000 97%) 0.0505\n",
      "237m 20s (- 5m 39s) (1263000 97%) 0.0334\n",
      "237m 32s (- 5m 28s) (1264000 97%) 0.0389\n",
      "237m 44s (- 5m 16s) (1265000 97%) 0.0546\n",
      "237m 56s (- 5m 5s) (1266000 97%) 0.0557\n",
      "238m 8s (- 4m 54s) (1267000 97%) 0.0454\n",
      "238m 19s (- 4m 42s) (1268000 98%) 0.0194\n",
      "238m 30s (- 4m 31s) (1269000 98%) 0.0460\n",
      "238m 42s (- 4m 20s) (1270000 98%) 0.0326\n",
      "238m 54s (- 4m 9s) (1271000 98%) 0.0252\n",
      "239m 6s (- 3m 57s) (1272000 98%) 0.0270\n",
      "239m 19s (- 3m 46s) (1273000 98%) 0.0450\n",
      "239m 32s (- 3m 35s) (1274000 98%) 0.0198\n",
      "239m 44s (- 3m 24s) (1275000 98%) 0.0411\n",
      "239m 56s (- 3m 12s) (1276000 98%) 0.0320\n",
      "240m 9s (- 3m 1s) (1277000 98%) 0.0448\n",
      "240m 21s (- 2m 50s) (1278000 98%) 0.0181\n",
      "240m 34s (- 2m 39s) (1279000 98%) 0.0295\n",
      "240m 46s (- 2m 27s) (1280000 98%) 0.0162\n",
      "240m 57s (- 2m 16s) (1281000 99%) 0.0356\n",
      "241m 9s (- 2m 5s) (1282000 99%) 0.0323\n",
      "241m 21s (- 1m 53s) (1283000 99%) 0.0334\n",
      "241m 33s (- 1m 42s) (1284000 99%) 0.0180\n",
      "241m 45s (- 1m 31s) (1285000 99%) 0.0353\n",
      "241m 58s (- 1m 20s) (1286000 99%) 0.0339\n",
      "242m 9s (- 1m 8s) (1287000 99%) 0.0325\n",
      "242m 20s (- 0m 57s) (1288000 99%) 0.0426\n",
      "242m 32s (- 0m 46s) (1289000 99%) 0.0312\n",
      "242m 45s (- 0m 34s) (1290000 99%) 0.0162\n",
      "242m 56s (- 0m 23s) (1291000 99%) 0.0367\n",
      "243m 9s (- 0m 12s) (1292000 99%) 0.0432\n",
      "243m 21s (- 0m 1s) (1293000 99%) 0.0238\n"
     ]
    },
    {
     "data": {
      "text/plain": [
       "<Figure size 432x288 with 0 Axes>"
      ]
     },
     "metadata": {},
     "output_type": "display_data"
    },
    {
     "data": {
      "image/png": "[encoded data removed]",
      "text/plain": [
       "<Figure size 432x288 with 1 Axes>"
      ]
     },
     "metadata": {
      "needs_background": "light"
     },
     "output_type": "display_data"
    }
   ],
   "source": [
    "teacher_forcing_ratio = 0.5\n",
    "\n",
    "def train(input_tensor, target_tensor, encoder, decoder, encoder_optimizer, decoder_optimizer, criterion, max_length=MAX_LENGTH):\n",
    "    encoder_hidden = encoder.initHidden()\n",
    "\n",
    "    encoder_optimizer.zero_grad()\n",
    "    decoder_optimizer.zero_grad()\n",
    "\n",
    "    input_length = input_tensor.size(0)\n",
    "    target_length = target_tensor.size(0)\n",
    "\n",
    "    encoder_outputs = torch.zeros(max_length, encoder.hidden_size, device=device)\n",
    "\n",
    "    loss = 0\n",
    "\n",
    "    for ei in range(input_length):\n",
    "        encoder_output, encoder_hidden = encoder(\n",
    "            input_tensor[ei], encoder_hidden)\n",
    "        encoder_outputs[ei] = encoder_output[0, 0]\n",
    "\n",
    "    decoder_input = torch.tensor([argument_lang.index('<SOS>')], device=device)\n",
    "\n",
    "    decoder_hidden = encoder_hidden\n",
    "\n",
    "    use_teacher_forcing = True if random.random() < teacher_forcing_ratio else False\n",
    "\n",
    "    if use_teacher_forcing:\n",
    "        # Teacher forcing: Feed the target as the next input\n",
    "        for di in range(target_length):\n",
    "            decoder_output, decoder_hidden, decoder_attention = decoder(\n",
    "                decoder_input, decoder_hidden, encoder_outputs)\n",
    "            loss += criterion(decoder_output, target_tensor[di])\n",
    "            decoder_input = target_tensor[di]  # Teacher forcing\n",
    "\n",
    "    else:\n",
    "        # Without teacher forcing: use its own predictions as the next input\n",
    "        for di in range(target_length):\n",
    "            decoder_output, decoder_hidden, decoder_attention = decoder(\n",
    "                decoder_input, decoder_hidden, encoder_outputs)\n",
    "            topv, topi = decoder_output.topk(1)\n",
    "            decoder_input = topi.squeeze().detach()  # detach from history as input\n",
    "\n",
    "            loss += criterion(decoder_output, target_tensor[di])\n",
    "            if decoder_input.item() == lang.index('<EOS>'):\n",
    "                break\n",
    "\n",
    "    loss.backward()\n",
    "    \n",
    "    encoder_optimizer.step()\n",
    "    decoder_optimizer.step()\n",
    "\n",
    "    return loss.item() / target_length\n",
    "\n",
    "hidden_size = 256\n",
    "learning_rate = 0.001\n",
    "epochs = 10\n",
    "encoder = EncoderRNN(lang.n_words, hidden_size).to(device)\n",
    "argument_decoder = AttnDecoderRNN(hidden_size, argument_lang.n_words, dropout_p=0.1).to(device)\n",
    "print(encoder)\n",
    "print(argument_decoder)\n",
    "\n",
    "# Load state if exists, WARNING: DELETE FILES WHEN CHANGING MODEL \n",
    "if os.path.isfile('encoder.pt'):\n",
    "    encoder.load_state_dict(torch.load('encoder.pt'))\n",
    "if os.path.isfile('argument_decoder.pt'):\n",
    "    argument_decoder.load_state_dict(torch.load('argument_decoder.pt'))\n",
    "\n",
    "start = time.time()\n",
    "plot_every = 1000\n",
    "plot_losses = []\n",
    "print_every = 1000\n",
    "print_loss_total = 0  # Reset every print_every\n",
    "plot_loss_total = 0  # Reset every plot_every\n",
    "update = 0 # Counts updates\n",
    "\n",
    "encoder_optimizer = optim.SGD(encoder.parameters(), lr=learning_rate)\n",
    "decoder_optimizer = optim.SGD(argument_decoder.parameters(), lr=learning_rate)\n",
    "training_pairs = [[sample[0], sample[2]] for sample in train_low_action_argument_pairs if len(sample[0]) < MAX_LENGTH and len(sample[1]) < MAX_LENGTH]\n",
    "update_count = len(training_pairs) * epochs\n",
    "print('updates: ', update_count)\n",
    "\n",
    "criterion = nn.NLLLoss()\n",
    "\n",
    "for epoch in range(epochs):\n",
    "    for batch in training_pairs:\n",
    "        update += 1\n",
    "        training_pair = batch\n",
    "        input_tensor = tensor_from_sentence(lang, training_pair[0])\n",
    "        target_tensor = tensor_from_sentence(argument_lang, training_pair[1])\n",
    "\n",
    "        loss = train(input_tensor, target_tensor, encoder,\n",
    "                     argument_decoder, encoder_optimizer, decoder_optimizer, criterion)\n",
    "        print_loss_total += loss\n",
    "        plot_loss_total += loss\n",
    "\n",
    "        if update % print_every == 0:\n",
    "            print_loss_avg = print_loss_total / print_every\n",
    "            print_loss_total = 0\n",
    "            print('%s (%d %d%%) %.4f' % (time_since(start, update / update_count),\n",
    "                                         update, (update / update_count) * 100, print_loss_avg))\n",
    "\n",
    "        if update % plot_every == 0:\n",
    "            plot_loss_avg = plot_loss_total / plot_every\n",
    "            plot_losses.append(plot_loss_avg)\n",
    "            plot_loss_total = 0\n",
    "        \n",
    "    # Save model after every epoch\n",
    "    torch.save(encoder.state_dict(), 'encoder.pt')\n",
    "    torch.save(argument_decoder.state_dict(), 'argument_decoder.pt')\n",
    "\n",
    "show_plot(plot_losses)"
   ]
  },
  {
   "cell_type": "markdown",
   "id": "dramatic-quilt",
   "metadata": {},
   "source": [
    "# Eval"
   ]
  },
  {
   "cell_type": "code",
   "execution_count": 70,
   "id": "experimental-ancient",
   "metadata": {
    "scrolled": true
   },
   "outputs": [
    {
     "name": "stdout",
     "output_type": "stream",
     "text": [
      "samples: 1939\n",
      "turn to the left and face the desk (GotoLocation) -> ['GotoLocation', '<EOS>'] (True)\n",
      "pick up the clock that is on the desk (PickupObject) -> ['PickupObject', '<EOS>'] (True)\n",
      "turn left then face the desk (GotoLocation) -> ['GotoLocation', '<EOS>'] (True)\n",
      "pick up the alarm clock on the desk (PickupObject) -> ['PickupObject', '<EOS>'] (True)\n",
      "turn on the lamp (ToggleObject) -> ['GotoLocation', '<EOS>'] (False)\n",
      "pick up the clock on the desk top (PickupObject) -> ['PickupObject', '<EOS>'] (True)\n",
      "turn on the lamp (ToggleObject) -> ['GotoLocation', '<EOS>'] (False)\n",
      "walk to face right side of desk (GotoLocation) -> ['GotoLocation', '<EOS>'] (True)\n",
      "pick up red and grey bottle from desk (PickupObject) -> ['PickupObject', '<EOS>'] (True)\n",
      "walk to desk on right side of room (GotoLocation) -> ['GotoLocation', '<EOS>'] (True)\n",
      "turn on lamp on the desk (ToggleObject) -> ['PutObject', '<EOS>'] (False)\n",
      "use the metal box to turn on the lamp (ToggleObject) -> ['GotoLocation', '<EOS>'] (False)\n",
      "pick up the alarm clock from the desk (PickupObject) -> ['PickupObject', '<EOS>'] (True)\n",
      "turn on the lamp on the desk (ToggleObject) -> ['GotoLocation', '<EOS>'] (False)\n",
      "walk forward a bit towards the baseball bat (GotoLocation) -> ['GotoLocation', '<EOS>'] (True)\n",
      "grab the baseball bat leading against the wall (PickupObject) -> ['PickupObject', '<EOS>'] (True)\n",
      "turn on the lamp on the computer desk (ToggleObject) -> ['GotoLocation', '<EOS>'] (False)\n",
      "pick up the bat from the floor (PickupObject) -> ['PickupObject', '<EOS>'] (True)\n",
      "turn on the lamp (ToggleObject) -> ['GotoLocation', '<EOS>'] (False)\n",
      "move to the corner near the door (GotoLocation) -> ['GotoLocation', '<EOS>'] (True)\n",
      "pick up the bat from the floor (PickupObject) -> ['PickupObject', '<EOS>'] (True)\n",
      "bring the bat to the desk (GotoLocation) -> ['GotoLocation', '<EOS>'] (True)\n",
      "turn on the lamp on the desk (ToggleObject) -> ['GotoLocation', '<EOS>'] (False)\n",
      "turn around to face the bat on the ground (GotoLocation) -> ['GotoLocation', '<EOS>'] (True)\n",
      "pick up the bat on the ground (PickupObject) -> ['PickupObject', '<EOS>'] (True)\n",
      "bring the bat to the lamp on the desk (GotoLocation) -> ['GotoLocation', '<EOS>'] (True)\n",
      "turn on the lamp on the desk (ToggleObject) -> ['GotoLocation', '<EOS>'] (False)\n",
      "pick the baseball bat up off of the floor (PickupObject) -> ['PickupObject', '<EOS>'] (True)\n",
      "turn the lamp on on the desk (ToggleObject) -> ['GotoLocation', '<EOS>'] (False)\n",
      "pick up the bat from the floor (PickupObject) -> ['PickupObject', '<EOS>'] (True)\n",
      "turn on the lamp (ToggleObject) -> ['GotoLocation', '<EOS>'] (False)\n",
      "go to baseball bat to right of the door (GotoLocation) -> ['GotoLocation', '<EOS>'] (True)\n",
      "pick up baseball bat next to door (PickupObject) -> ['PickupObject', '<EOS>'] (True)\n",
      "turn on lamp on the desk (ToggleObject) -> ['PutObject', '<EOS>'] (False)\n",
      "pick up the bat from the floor (PickupObject) -> ['PickupObject', '<EOS>'] (True)\n",
      "turn on the lamp (ToggleObject) -> ['GotoLocation', '<EOS>'] (False)\n",
      "pick up the black bat leaning against the wall (PickupObject) -> ['PickupObject', '<EOS>'] (True)\n",
      "turn on the small lamp (ToggleObject) -> ['GotoLocation', '<EOS>'] (False)\n",
      "pick up the basketball from the floor (PickupObject) -> ['PickupObject', '<EOS>'] (True)\n",
      "turn on the lamp (ToggleObject) -> ['GotoLocation', '<EOS>'] (False)\n",
      "pick up the basketball from the floor (PickupObject) -> ['PickupObject', '<EOS>'] (True)\n",
      "turn on the lamp (ToggleObject) -> ['GotoLocation', '<EOS>'] (False)\n",
      "walk to the foot of the bed (GotoLocation) -> ['GotoLocation', '<EOS>'] (True)\n",
      "pick up the basketball from the floor (PickupObject) -> ['PickupObject', '<EOS>'] (True)\n",
      "go to the desk to your left (GotoLocation) -> ['GotoLocation', '<EOS>'] (True)\n",
      "turn on the lamp (ToggleObject) -> ['GotoLocation', '<EOS>'] (False)\n",
      "turn on the lamp (ToggleObject) -> ['GotoLocation', '<EOS>'] (False)\n",
      "pick up the basketball from under the bed (PickupObject) -> ['PickupObject', '<EOS>'] (True)\n",
      "turn on the lamp on the desk (ToggleObject) -> ['GotoLocation', '<EOS>'] (False)\n",
      "pick up the basketball from the floor (PickupObject) -> ['PickupObject', '<EOS>'] (True)\n",
      "turn on the lamp (ToggleObject) -> ['GotoLocation', '<EOS>'] (False)\n",
      "pick up the basketball in front of the bed (PickupObject) -> ['PickupObject', '<EOS>'] (True)\n",
      "turn on the lamp (ToggleObject) -> ['GotoLocation', '<EOS>'] (False)\n",
      "pick up the basketball that is on the floor (PickupObject) -> ['PickupObject', '<EOS>'] (True)\n",
      "turn the lamp on (ToggleObject) -> ['GotoLocation', '<EOS>'] (False)\n",
      "turn around and walk to the bed (GotoLocation) -> ['GotoLocation', '<EOS>'] (True)\n",
      "turn on the lamp on the desk (ToggleObject) -> ['GotoLocation', '<EOS>'] (False)\n",
      "pick up the book from the bed (PickupObject) -> ['PickupObject', '<EOS>'] (True)\n",
      "turn on the lamp (ToggleObject) -> ['GotoLocation', '<EOS>'] (False)\n",
      "turn right towards the bed (GotoLocation) -> ['GotoLocation', '<EOS>'] (True)\n",
      "pick up the green book from the bed (PickupObject) -> ['PickupObject', '<EOS>'] (True)\n",
      "turn on the light (ToggleObject) -> ['GotoLocation', '<EOS>'] (False)\n",
      "turn right and walk to the bed (GotoLocation) -> ['GotoLocation', '<EOS>'] (True)\n",
      "turn on the table lamp (ToggleObject) -> ['GotoLocation', '<EOS>'] (False)\n",
      "pick up the book from the bed (PickupObject) -> ['PickupObject', '<EOS>'] (True)\n",
      "turn on the lamp (ToggleObject) -> ['GotoLocation', '<EOS>'] (False)\n",
      "turn around walk to the side of the bed (GotoLocation) -> ['GotoLocation', '<EOS>'] (True)\n",
      "grab the book on the bed (PickupObject) -> ['PickupObject', '<EOS>'] (True)\n",
      "turn around walk to the side of the desk (GotoLocation) -> ['GotoLocation', '<EOS>'] (True)\n",
      "turn on the lamp on the desk (ToggleObject) -> ['GotoLocation', '<EOS>'] (False)\n",
      "grab the clear bowl off of the table (PickupObject) -> ['PickupObject', '<EOS>'] (True)\n",
      "take the bowl from the desk (PickupObject) -> ['PickupObject', '<EOS>'] (True)\n",
      "turn the lamp on the desk on (ToggleObject) -> ['GotoLocation', '<EOS>'] (False)\n",
      "pick up the bowl from the desk (PickupObject) -> ['PickupObject', '<EOS>'] (True)\n",
      "turn right and walk to the other desk (GotoLocation) -> ['GotoLocation', '<EOS>'] (True)\n",
      "turn on the desk lamp (ToggleObject) -> ['GotoLocation', '<EOS>'] (False)\n",
      "pick up the bowl from the desk (PickupObject) -> ['PickupObject', '<EOS>'] (True)\n",
      "turn on the lamp (ToggleObject) -> ['GotoLocation', '<EOS>'] (False)\n",
      "turn on the lamp on the desk (ToggleObject) -> ['GotoLocation', '<EOS>'] (False)\n",
      "walk to the window and face the desk (GotoLocation) -> ['GotoLocation', '<EOS>'] (True)\n",
      "pick up the bowl on the desk (PickupObject) -> ['PickupObject', '<EOS>'] (True)\n",
      "turn on the lamp (ToggleObject) -> ['GotoLocation', '<EOS>'] (False)\n",
      "pick up the bowl from the shelf (PickupObject) -> ['PickupObject', '<EOS>'] (True)\n",
      "bring the bowl to the lamp on the desk (GotoLocation) -> ['GotoLocation', '<EOS>'] (True)\n",
      "turn on the lamp on the desk (ToggleObject) -> ['GotoLocation', '<EOS>'] (False)\n",
      "pick the bowl up from the shelf (PickupObject) -> ['PickupObject', '<EOS>'] (True)\n",
      "move to the right and face the desk drawer (GotoLocation) -> ['GotoLocation', '<EOS>'] (True)\n",
      "turn the lamp on the desk on (ToggleObject) -> ['GotoLocation', '<EOS>'] (False)\n",
      "pick up the box on the blue chair (PickupObject) -> ['PickupObject', '<EOS>'] (True)\n",
      "turn off the lamp on the left (ToggleObject) -> ['PutObject', '<EOS>'] (False)\n",
      "pick up the empty box from the chair (PickupObject) -> ['PickupObject', '<EOS>'] (True)\n",
      "turn on the floor lamp (ToggleObject) -> ['GotoLocation', '<EOS>'] (False)\n",
      "pick up the box from the couch (PickupObject) -> ['PickupObject', '<EOS>'] (True)\n",
      "turn the lamp on in the corner (ToggleObject) -> ['GotoLocation', '<EOS>'] (False)\n",
      "turn right and walk forward to the large sofa (GotoLocation) -> ['GotoLocation', '<EOS>'] (True)\n",
      "pick up the empty box from the sofa (PickupObject) -> ['PickupObject', '<EOS>'] (True)\n",
      "turn on the floor lamp (ToggleObject) -> ['GotoLocation', '<EOS>'] (False)\n",
      "turn right walk to the sofa (GotoLocation) -> ['GotoLocation', '<EOS>'] (True)\n",
      "grab the box on the sofa (PickupObject) -> ['PickupObject', '<EOS>'] (True)\n",
      "turn to the floor lamp by the sofa (GotoLocation) -> ['GotoLocation', '<EOS>'] (True)\n",
      "turn on the floor lamp (ToggleObject) -> ['GotoLocation', '<EOS>'] (False)\n",
      "pick up the open box on the bottom shelf (PickupObject) -> ['PickupObject', '<EOS>'] (True)\n",
      "turn on the tall lamp in the corner (ToggleObject) -> ['GotoLocation', '<EOS>'] (False)\n",
      "pick up the box on the bottom shelf (PickupObject) -> ['PickupObject', '<EOS>'] (True)\n",
      "turn on the lamp (ToggleObject) -> ['GotoLocation', '<EOS>'] (False)\n",
      "pick up the box on the bottom shelf (PickupObject) -> ['PickupObject', '<EOS>'] (True)\n",
      "turn on the lamp (ToggleObject) -> ['GotoLocation', '<EOS>'] (False)\n"
     ]
    },
    {
     "name": "stdout",
     "output_type": "stream",
     "text": [
      "pick up the open box from the bottom shelf (PickupObject) -> ['PickupObject', '<EOS>'] (True)\n",
      "turn on the light (ToggleObject) -> ['GotoLocation', '<EOS>'] (False)\n",
      "turn on the lamp that is to your left (ToggleObject) -> ['GotoLocation', '<EOS>'] (False)\n",
      "walk forward turn right to face the desk (GotoLocation) -> ['GotoLocation', '<EOS>'] (True)\n",
      "pick up the cd that is on the desk (PickupObject) -> ['PickupObject', '<EOS>'] (True)\n",
      "turn the lamp on (ToggleObject) -> ['GotoLocation', '<EOS>'] (False)\n",
      "walk to the right side of the desk (GotoLocation) -> ['GotoLocation', '<EOS>'] (True)\n",
      "grab the cd from the desk (PickupObject) -> ['PickupObject', '<EOS>'] (True)\n",
      "locate the lamp on the desk (GotoLocation) -> ['GotoLocation', '<EOS>'] (True)\n",
      "turn on the lamp (ToggleObject) -> ['GotoLocation', '<EOS>'] (False)\n",
      "pick up the disc on the desk (PickupObject) -> ['PickupObject', '<EOS>'] (True)\n",
      "turn right and then turn back to the desk (GotoLocation) -> ['GotoLocation', '<EOS>'] (True)\n",
      "turn on the lamp on the desk (ToggleObject) -> ['GotoLocation', '<EOS>'] (False)\n",
      "walk forward to the dresser (GotoLocation) -> ['GotoLocation', '<EOS>'] (True)\n",
      "pick up the cell phone from the dresser (PickupObject) -> ['PickupObject', '<EOS>'] (True)\n",
      "turn left and go to the lamp (GotoLocation) -> ['GotoLocation', '<EOS>'] (True)\n",
      "hold the cell phone and turn the lamp on (ToggleObject) -> ['GotoLocation', '<EOS>'] (False)\n",
      "walk to the dresser in front of you (GotoLocation) -> ['GotoLocation', '<EOS>'] (True)\n",
      "turn on the lamp (ToggleObject) -> ['GotoLocation', '<EOS>'] (False)\n",
      "walk forward to the dresser (GotoLocation) -> ['GotoLocation', '<EOS>'] (True)\n",
      "pick up the phone that is on the dresser (PickupObject) -> ['PickupObject', '<EOS>'] (True)\n",
      "turn the lamp on (ToggleObject) -> ['GotoLocation', '<EOS>'] (False)\n",
      "pick up the phone on the table (PickupObject) -> ['PickupObject', '<EOS>'] (True)\n",
      "turn on the lamp in the corner (ToggleObject) -> ['GotoLocation', '<EOS>'] (False)\n",
      "move to the end table ahead of you (GotoLocation) -> ['GotoLocation', '<EOS>'] (True)\n",
      "pick up a phone from the table (PickupObject) -> ['PickupObject', '<EOS>'] (True)\n",
      "move to a lamp behind you (GotoLocation) -> ['GotoLocation', '<EOS>'] (True)\n",
      "turn on the lamp (ToggleObject) -> ['GotoLocation', '<EOS>'] (False)\n",
      "pick the phone up from the desk (PickupObject) -> ['PickupObject', '<EOS>'] (True)\n",
      "turn the lamp on (ToggleObject) -> ['GotoLocation', '<EOS>'] (False)\n",
      "grab the phone on the blue sofa (PickupObject) -> ['PickupObject', '<EOS>'] (True)\n",
      "turn right to the lamp (GotoLocation) -> ['GotoLocation', '<EOS>'] (True)\n",
      "turn on the lamp (ToggleObject) -> ['GotoLocation', '<EOS>'] (False)\n",
      "turn on the lamp in the corner (ToggleObject) -> ['GotoLocation', '<EOS>'] (False)\n",
      "turn on the lamp (ToggleObject) -> ['GotoLocation', '<EOS>'] (False)\n",
      "turn on the light of the tall lamp (ToggleObject) -> ['GotoLocation', '<EOS>'] (False)\n",
      "turn on the lamp (ToggleObject) -> ['GotoLocation', '<EOS>'] (False)\n",
      "turn on the lamp (ToggleObject) -> ['GotoLocation', '<EOS>'] (False)\n",
      "turn on the tall lamp (ToggleObject) -> ['GotoLocation', '<EOS>'] (False)\n",
      "pick up the credit card off of the couch (PickupObject) -> ['PickupObject', '<EOS>'] (True)\n",
      "turn the lamp on by the couch (ToggleObject) -> ['GotoLocation', '<EOS>'] (False)\n",
      "pick the red credit card up from the couch (PickupObject) -> ['PickupObject', '<EOS>'] (True)\n",
      "turn the lamp on (ToggleObject) -> ['GotoLocation', '<EOS>'] (False)\n",
      "turn on the lamp (ToggleObject) -> ['GotoLocation', '<EOS>'] (False)\n",
      "turn on the lamp to look at the key (ToggleObject) -> ['GotoLocation', '<EOS>'] (False)\n",
      "pick up the leftmost key from the blue armchair (PickupObject) -> ['PickupObject', '<EOS>'] (True)\n",
      "turn to face the tall lamp on the right (GotoLocation) -> ['GotoLocation', '<EOS>'] (True)\n",
      "turn on the tall lamp (ToggleObject) -> ['GotoLocation', '<EOS>'] (False)\n",
      "turn on the tall lamp to the left (ToggleObject) -> ['GotoLocation', '<EOS>'] (False)\n",
      "pick up the key on the chair (PickupObject) -> ['PickupObject', '<EOS>'] (True)\n",
      "turn right and look up at the lamp (GotoLocation) -> ['GotoLocation', '<EOS>'] (True)\n",
      "turn the lamp on (ToggleObject) -> ['GotoLocation', '<EOS>'] (False)\n",
      "pick up the key from the blue chair (PickupObject) -> ['PickupObject', '<EOS>'] (True)\n",
      "turn right and look up to face the lamp (GotoLocation) -> ['GotoLocation', '<EOS>'] (True)\n",
      "turn on the lamp (ToggleObject) -> ['GotoLocation', '<EOS>'] (False)\n",
      "turn on the lamp (ToggleObject) -> ['GotoLocation', '<EOS>'] (False)\n",
      "pick up the key from the bottom shelf (PickupObject) -> ['PickupObject', '<EOS>'] (True)\n",
      "turn on the lamp (ToggleObject) -> ['GotoLocation', '<EOS>'] (False)\n",
      "turn the lamp on (ToggleObject) -> ['GotoLocation', '<EOS>'] (False)\n",
      "turn on the lamp (ToggleObject) -> ['GotoLocation', '<EOS>'] (False)\n",
      "close the laptop and pick it up (PickupObject) -> ['PickupObject', '<EOS>'] (True)\n",
      "turn right and walk to the white sofa (GotoLocation) -> ['GotoLocation', '<EOS>'] (True)\n",
      "turn on the lamp next to the couch (ToggleObject) -> ['PutObject', '<EOS>'] (False)\n",
      "turn to your right walk towards the cabinet (GotoLocation) -> ['GotoLocation', '<EOS>'] (True)\n",
      "pick up the laptop on the cabinet (PickupObject) -> ['PickupObject', '<EOS>'] (True)\n",
      "turn on the lamp (ToggleObject) -> ['GotoLocation', '<EOS>'] (False)\n",
      "turn right walk forward to the dresser (GotoLocation) -> ['GotoLocation', '<EOS>'] (True)\n",
      "turn the lamp on (ToggleObject) -> ['GotoLocation', '<EOS>'] (False)\n",
      "turn to left then find the desk (GotoLocation) -> ['GotoLocation', '<EOS>'] (True)\n",
      "close the laptop then pick it up (PickupObject) -> ['PickupObject', '<EOS>'] (True)\n",
      "turn on the lamp on your left (ToggleObject) -> ['GotoLocation', '<EOS>'] (False)\n",
      "turn left and head towards the dresser (GotoLocation) -> ['GotoLocation', '<EOS>'] (True)\n",
      "turn right and head towards the white sofa (GotoLocation) -> ['GotoLocation', '<EOS>'] (True)\n",
      "turn on the floor lamp (ToggleObject) -> ['GotoLocation', '<EOS>'] (False)\n",
      "turn right and carry the computer to the sofa (GotoLocation) -> ['GotoLocation', '<EOS>'] (True)\n",
      "turn left and walk to the dresser (GotoLocation) -> ['GotoLocation', '<EOS>'] (True)\n",
      "close the laptop in front and pick it up (PickupObject) -> ['PickupObject', '<EOS>'] (True)\n",
      "turn right and walk to the beige couch (GotoLocation) -> ['GotoLocation', '<EOS>'] (True)\n",
      "turn on the light next to the beige couch (ToggleObject) -> ['PutObject', '<EOS>'] (False)\n",
      "turn on the lamp left of the white sofa (ToggleObject) -> ['GotoLocation', '<EOS>'] (False)\n",
      "turn right and head towards the white couch (GotoLocation) -> ['GotoLocation', '<EOS>'] (True)\n",
      "turn on the lamp (ToggleObject) -> ['GotoLocation', '<EOS>'] (False)\n",
      "turn around head to the dressed across the room (GotoLocation) -> ['GotoLocation', '<EOS>'] (True)\n",
      "take the laptop computer from the dresser (PickupObject) -> ['PickupObject', '<EOS>'] (True)\n",
      "turn to the right head to the couch (GotoLocation) -> ['GotoLocation', '<EOS>'] (True)\n",
      "turn on the lamp in the corner (ToggleObject) -> ['GotoLocation', '<EOS>'] (False)\n",
      "pick up the mug from the shelf (PickupObject) -> ['PickupObject', '<EOS>'] (True)\n",
      "look down to the lamp on the desk (GotoLocation) -> ['GotoLocation', '<EOS>'] (True)\n",
      "turn on the lamp (ToggleObject) -> ['GotoLocation', '<EOS>'] (False)\n",
      "pick up the mug from the desk (PickupObject) -> ['PickupObject', '<EOS>'] (True)\n",
      "turn on the lamp (ToggleObject) -> ['GotoLocation', '<EOS>'] (False)\n",
      "walk to the computer desk in front of you (GotoLocation) -> ['GotoLocation', '<EOS>'] (True)\n",
      "grab a cup from the shelf on the desk (PickupObject) -> ['PickupObject', '<EOS>'] (True)\n",
      "go to the right of the desk (GotoLocation) -> ['GotoLocation', '<EOS>'] (True)\n",
      "turn the lamp on (ToggleObject) -> ['GotoLocation', '<EOS>'] (False)\n",
      "walk to face the desk (GotoLocation) -> ['GotoLocation', '<EOS>'] (True)\n",
      "pick up the white mug from the desk (PickupObject) -> ['PickupObject', '<EOS>'] (True)\n",
      "step back slightly to continue to face desk (GotoLocation) -> ['GotoLocation', '<EOS>'] (True)\n",
      "turn on desk lamp on the desk (ToggleObject) -> ['PutObject', '<EOS>'] (False)\n",
      "turn to your left and walk to the desk (GotoLocation) -> ['GotoLocation', '<EOS>'] (True)\n",
      "turn the lamp on (ToggleObject) -> ['GotoLocation', '<EOS>'] (False)\n",
      "turn on the lamp that is on the desk (ToggleObject) -> ['GotoLocation', '<EOS>'] (False)\n",
      "pick up the white mug from the desk (PickupObject) -> ['PickupObject', '<EOS>'] (True)\n",
      "turn the lamp on (ToggleObject) -> ['GotoLocation', '<EOS>'] (False)\n",
      "turn on the lamp (ToggleObject) -> ['GotoLocation', '<EOS>'] (False)\n",
      "turn to the left and walk to the sofa (GotoLocation) -> ['GotoLocation', '<EOS>'] (True)\n",
      "pick up the newspaper from the sofa (PickupObject) -> ['PickupObject', '<EOS>'] (True)\n",
      "turn on the lamp (ToggleObject) -> ['GotoLocation', '<EOS>'] (False)\n",
      "pick up the newspaper on top of the sofa (PickupObject) -> ['PickupObject', '<EOS>'] (True)\n",
      "turn on the lamp (ToggleObject) -> ['GotoLocation', '<EOS>'] (False)\n",
      "pick up the newspaper from the sofa (PickupObject) -> ['PickupObject', '<EOS>'] (True)\n",
      "turn on the floor lamp (ToggleObject) -> ['GotoLocation', '<EOS>'] (False)\n"
     ]
    },
    {
     "name": "stdout",
     "output_type": "stream",
     "text": [
      "turn right and head towards the cupboard (GotoLocation) -> ['GotoLocation', '<EOS>'] (True)\n",
      "open the cupboard and take out the newspaper (PickupObject) -> ['PickupObject', '<EOS>'] (True)\n",
      "turn left towards the standing light (GotoLocation) -> ['GotoLocation', '<EOS>'] (True)\n",
      "turn on the standing light (ToggleObject) -> ['GotoLocation', '<EOS>'] (False)\n",
      "turn on the lamp (ToggleObject) -> ['GotoLocation', '<EOS>'] (False)\n",
      "turn on the lap (ToggleObject) -> ['GotoLocation', '<EOS>'] (False)\n",
      "turn on the lamp (ToggleObject) -> ['GotoLocation', '<EOS>'] (False)\n",
      "turn on the lamp (ToggleObject) -> ['GotoLocation', '<EOS>'] (False)\n",
      "go to the desk on your right (GotoLocation) -> ['GotoLocation', '<EOS>'] (True)\n",
      "grab a pencil from the desk (PickupObject) -> ['PickupObject', '<EOS>'] (True)\n",
      "turn the lamp on (ToggleObject) -> ['GotoLocation', '<EOS>'] (False)\n",
      "turn to the right and face the desk (GotoLocation) -> ['GotoLocation', '<EOS>'] (True)\n",
      "pick the pencil up from the desk (PickupObject) -> ['PickupObject', '<EOS>'] (True)\n",
      "turn the lamp on the desk on (ToggleObject) -> ['GotoLocation', '<EOS>'] (False)\n",
      "go to the desk (GotoLocation) -> ['GotoLocation', '<EOS>'] (True)\n",
      "pick up the pencil from the desk (PickupObject) -> ['PickupObject', '<EOS>'] (True)\n",
      "take the pencil to the lamp (GotoLocation) -> ['GotoLocation', '<EOS>'] (True)\n",
      "turn on the lamp (ToggleObject) -> ['GotoLocation', '<EOS>'] (False)\n",
      "turn on the lamp (ToggleObject) -> ['GotoLocation', '<EOS>'] (False)\n",
      "move to the right toward the lamp (GotoLocation) -> ['GotoLocation', '<EOS>'] (True)\n",
      "turn on the lamp (ToggleObject) -> ['GotoLocation', '<EOS>'] (False)\n",
      "look down at the lamp (GotoLocation) -> ['GotoLocation', '<EOS>'] (True)\n",
      "turn the lamp on (ToggleObject) -> ['GotoLocation', '<EOS>'] (False)\n",
      "look down at the lamp on the desk (GotoLocation) -> ['GotoLocation', '<EOS>'] (True)\n",
      "turn on the light of the small lamp (ToggleObject) -> ['PutObject', '<EOS>'] (False)\n",
      "lower the pencil down to the desk area (GotoLocation) -> ['GotoLocation', '<EOS>'] (True)\n",
      "hold the remote and turn on the lamp (ToggleObject) -> ['GotoLocation', '<EOS>'] (False)\n",
      "turn on the lamp in the corner (ToggleObject) -> ['GotoLocation', '<EOS>'] (False)\n",
      "pick on the remote that is on the dresser (PickupObject) -> ['PickupObject', '<EOS>'] (True)\n",
      "turn on the lamp next to the dresser (ToggleObject) -> ['PutObject', '<EOS>'] (False)\n",
      "turn on the lamp (ToggleObject) -> ['GotoLocation', '<EOS>'] (False)\n",
      "pick up the remote on the chair (PickupObject) -> ['PickupObject', '<EOS>'] (True)\n",
      "turn the lamp on (ToggleObject) -> ['GotoLocation', '<EOS>'] (False)\n",
      "turn on the lamp (ToggleObject) -> ['GotoLocation', '<EOS>'] (False)\n",
      "pick up the remote from the blue chair (PickupObject) -> ['PickupObject', '<EOS>'] (True)\n",
      "turn the lamp on (ToggleObject) -> ['GotoLocation', '<EOS>'] (False)\n",
      "turn on the tall lamp (ToggleObject) -> ['GotoLocation', '<EOS>'] (False)\n",
      "turn around and walk towards the white shelf (GotoLocation) -> ['GotoLocation', '<EOS>'] (True)\n",
      "pick up the statue trophy on the top shelf (PickupObject) -> ['PickupObject', '<EOS>'] (True)\n",
      "turn left and walk towards the tall lamp (GotoLocation) -> ['GotoLocation', '<EOS>'] (True)\n",
      "turn on the lamp (ToggleObject) -> ['GotoLocation', '<EOS>'] (False)\n",
      "turn around and face the shelf behind you (GotoLocation) -> ['GotoLocation', '<EOS>'] (True)\n",
      "pick up the statue from the top shelf (PickupObject) -> ['PickupObject', '<EOS>'] (True)\n",
      "turn on the lamp (ToggleObject) -> ['GotoLocation', '<EOS>'] (False)\n",
      "turn around and go forward to the shelf (GotoLocation) -> ['GotoLocation', '<EOS>'] (True)\n",
      "pick up the statue on the top shelf (PickupObject) -> ['PickupObject', '<EOS>'] (True)\n",
      "turn on the lamp (ToggleObject) -> ['GotoLocation', '<EOS>'] (False)\n",
      "move to the dresser behind you (GotoLocation) -> ['GotoLocation', '<EOS>'] (True)\n",
      "pick up a statue from the dresser (PickupObject) -> ['PickupObject', '<EOS>'] (True)\n",
      "move to the lamp to the left (GotoLocation) -> ['GotoLocation', '<EOS>'] (True)\n",
      "turn on the lamp (ToggleObject) -> ['GotoLocation', '<EOS>'] (False)\n",
      "turn around and walk to the dresser (GotoLocation) -> ['GotoLocation', '<EOS>'] (True)\n",
      "turn on the lamp (ToggleObject) -> ['GotoLocation', '<EOS>'] (False)\n",
      "pick up human figure statue from top of bureau (PickupObject) -> ['PickupObject', '<EOS>'] (True)\n",
      "turn on the floor lamp (ToggleObject) -> ['GotoLocation', '<EOS>'] (False)\n",
      "turn on the light of the lamp (ToggleObject) -> ['GotoLocation', '<EOS>'] (False)\n",
      "pick up the statue from the dresser (PickupObject) -> ['PickupObject', '<EOS>'] (True)\n",
      "turn the lamp on to look at the statue (ToggleObject) -> ['GotoLocation', '<EOS>'] (False)\n",
      "turn on the lamp (ToggleObject) -> ['GotoLocation', '<EOS>'] (False)\n",
      "turn left and look at the lamp (GotoLocation) -> ['GotoLocation', '<EOS>'] (True)\n",
      "turn on the lamp (ToggleObject) -> ['GotoLocation', '<EOS>'] (False)\n",
      "turn right and turn left walk to the cabinet (GotoLocation) -> ['GotoLocation', '<EOS>'] (True)\n",
      "turn right walk to the white sofa (GotoLocation) -> ['GotoLocation', '<EOS>'] (True)\n",
      "turn on the lamp by the sofa (ToggleObject) -> ['GotoLocation', '<EOS>'] (False)\n",
      "turn to the dresser on your right (GotoLocation) -> ['GotoLocation', '<EOS>'] (True)\n",
      "pick up the box of tissue (PickupObject) -> ['PickupObject', '<EOS>'] (True)\n",
      "turn on the lamp (ToggleObject) -> ['GotoLocation', '<EOS>'] (False)\n",
      "turn right and move to the dresser (GotoLocation) -> ['GotoLocation', '<EOS>'] (True)\n",
      "pick up the box of tissue from the dresser (PickupObject) -> ['PickupObject', '<EOS>'] (True)\n",
      "turn on the lamp (ToggleObject) -> ['GotoLocation', '<EOS>'] (False)\n",
      "lift up the vase and turn on the lamp (ToggleObject) -> ['GotoLocation', '<EOS>'] (False)\n",
      "pick the vase up from the shelf (PickupObject) -> ['PickupObject', '<EOS>'] (True)\n",
      "turn the lamp on (ToggleObject) -> ['GotoLocation', '<EOS>'] (False)\n",
      "turn right then head towards the desk (GotoLocation) -> ['GotoLocation', '<EOS>'] (True)\n",
      "open the left door in the desk (PickupObject) -> ['GotoLocation', '<EOS>'] (False)\n",
      "turn on the light of the tall lamp (ToggleObject) -> ['GotoLocation', '<EOS>'] (False)\n",
      "turn left walk to the cabinet (GotoLocation) -> ['GotoLocation', '<EOS>'] (True)\n",
      "turn right walk to the corner (GotoLocation) -> ['GotoLocation', '<EOS>'] (True)\n",
      "turn on the lamp on the end table (ToggleObject) -> ['GotoLocation', '<EOS>'] (False)\n",
      "pick up the bat (PickupObject) -> ['PickupObject', '<EOS>'] (True)\n",
      "drop the bat on the bed (PutObject) -> ['PutObject', '<EOS>'] (True)\n",
      "turn around and walk to the door (GotoLocation) -> ['GotoLocation', '<EOS>'] (True)\n",
      "pick up the baseball bat in the corner (PickupObject) -> ['PickupObject', '<EOS>'] (True)\n",
      "turn around walk around the bed (GotoLocation) -> ['GotoLocation', '<EOS>'] (True)\n",
      "put the bat on the bed (PutObject) -> ['PutObject', '<EOS>'] (True)\n",
      "pick up the bat leaning against the wall (PickupObject) -> ['PickupObject', '<EOS>'] (True)\n",
      "place the bat on top of the bed (PutObject) -> ['PutObject', '<EOS>'] (True)\n",
      "pick up the bat from the floor (PickupObject) -> ['PickupObject', '<EOS>'] (True)\n",
      "place the bat on the bed (PutObject) -> ['PutObject', '<EOS>'] (True)\n",
      "pick up the bat leaning against the wall (PickupObject) -> ['PickupObject', '<EOS>'] (True)\n",
      "pick up the bat on the wall (PickupObject) -> ['PickupObject', '<EOS>'] (True)\n",
      "set the bat down on the bed (PutObject) -> ['PutObject', '<EOS>'] (True)\n",
      "pick up the white mug from the top shelf (PickupObject) -> ['PickupObject', '<EOS>'] (True)\n",
      "set the mug on the desk (PutObject) -> ['PutObject', '<EOS>'] (True)\n",
      "pick up the mug on the shelf (PickupObject) -> ['PickupObject', '<EOS>'] (True)\n",
      "put the mug on the desk (PutObject) -> ['PutObject', '<EOS>'] (True)\n",
      "walk to the side of the computer desk (GotoLocation) -> ['GotoLocation', '<EOS>'] (True)\n",
      "place the cup on the edge of the desk (PutObject) -> ['PutObject', '<EOS>'] (True)\n",
      "go to the left end of the desk (GotoLocation) -> ['GotoLocation', '<EOS>'] (True)\n",
      "pick up the cup from the shelf (PickupObject) -> ['PickupObject', '<EOS>'] (True)\n",
      "turn to the right (GotoLocation) -> ['GotoLocation', '<EOS>'] (True)\n",
      "head to the desk in the corner (PickupObject) -> ['GotoLocation', '<EOS>'] (False)\n",
      "take the pencil from the desk (GotoLocation) -> ['PickupObject', '<EOS>'] (False)\n",
      "turn around twice put the pencil on the desk (PutObject) -> ['GotoLocation', '<EOS>'] (False)\n",
      "pick up the white pencil on the desk (PickupObject) -> ['PickupObject', '<EOS>'] (True)\n",
      "turn around in a circle (GotoLocation) -> ['GotoLocation', '<EOS>'] (True)\n",
      "pick up the pencil that is on the desk (PickupObject) -> ['PickupObject', '<EOS>'] (True)\n",
      "turn right head to the desk (GotoLocation) -> ['GotoLocation', '<EOS>'] (True)\n",
      "take the pencil from the desk (PickupObject) -> ['PickupObject', '<EOS>'] (True)\n",
      "put the pencil on the desk (PutObject) -> ['PutObject', '<EOS>'] (True)\n",
      "pick up the white pencil on the desk (PickupObject) -> ['PickupObject', '<EOS>'] (True)\n",
      "walk forward and left to face the desk (GotoLocation) -> ['GotoLocation', '<EOS>'] (True)\n",
      "pick up the white pencil from the desk (PickupObject) -> ['PickupObject', '<EOS>'] (True)\n",
      "turn to face the desk (GotoLocation) -> ['GotoLocation', '<EOS>'] (True)\n",
      "pick up the salt shaker from the counter (PickupObject) -> ['PickupObject', '<EOS>'] (True)\n",
      "grab the salt bottle on the counter (PickupObject) -> ['PickupObject', '<EOS>'] (True)\n",
      "open the second drawer put the salt in (PutObject) -> ['PutObject', '<EOS>'] (True)\n",
      "pick up the salt shaker from the kitchen island (PickupObject) -> ['PickupObject', '<EOS>'] (True)\n",
      "pick up the salt shaker from the counter (PickupObject) -> ['PickupObject', '<EOS>'] (True)\n",
      "turn left and walk to the counter (GotoLocation) -> ['GotoLocation', '<EOS>'] (True)\n",
      "take the salt bottle near the coffee machine (PickupObject) -> ['PickupObject', '<EOS>'] (True)\n",
      "turn left and face the coffee machine (GotoLocation) -> ['GotoLocation', '<EOS>'] (True)\n",
      "turn left then straight back to the counter top (GotoLocation) -> ['GotoLocation', '<EOS>'] (True)\n",
      "take the salt from the counter (PickupObject) -> ['PickupObject', '<EOS>'] (True)\n",
      "turn left go forward stop at the stove (GotoLocation) -> ['GotoLocation', '<EOS>'] (True)\n",
      "pick up the salt shaker from the counter top (PickupObject) -> ['PickupObject', '<EOS>'] (True)\n",
      "turn left and walk to the coffee maker (GotoLocation) -> ['GotoLocation', '<EOS>'] (True)\n",
      "pick up the salt shaker (PickupObject) -> ['PickupObject', '<EOS>'] (True)\n",
      "turn left and walk past the stove (GotoLocation) -> ['GotoLocation', '<EOS>'] (True)\n",
      "pick up the salt shaker off of the counter (PickupObject) -> ['PickupObject', '<EOS>'] (True)\n",
      "move left towards the toilet (GotoLocation) -> ['GotoLocation', '<EOS>'] (True)\n",
      "pick up the plunger beside the toilet (PickupObject) -> ['PickupObject', '<EOS>'] (True)\n",
      "move left towards the cupboard (GotoLocation) -> ['GotoLocation', '<EOS>'] (True)\n",
      "drop the plunger inside the cupboard (PutObject) -> ['PutObject', '<EOS>'] (True)\n",
      "pick up the plunger on the floor (PickupObject) -> ['PickupObject', '<EOS>'] (True)\n",
      "move to the left facing the white cabinet door (GotoLocation) -> ['GotoLocation', '<EOS>'] (True)\n",
      "walk over to the sink to your right (GotoLocation) -> ['GotoLocation', '<EOS>'] (True)\n",
      "back up and approach the cabinet under the sink (GotoLocation) -> ['GotoLocation', '<EOS>'] (True)\n",
      "turn around to the toilet (GotoLocation) -> ['GotoLocation', '<EOS>'] (True)\n",
      "grab the plunger on the floor behind the toilet (PickupObject) -> ['PickupObject', '<EOS>'] (True)\n",
      "turn around turn around (GotoLocation) -> ['GotoLocation', '<EOS>'] (True)\n",
      "turn around to face the sink and the toilet (GotoLocation) -> ['GotoLocation', '<EOS>'] (True)\n",
      "walk towards the wooden shelf on your left side (GotoLocation) -> ['GotoLocation', '<EOS>'] (True)\n",
      "pick up the salt shaker on the middle shelf (PickupObject) -> ['PickupObject', '<EOS>'] (True)\n",
      "head over to the three brown shelf (GotoLocation) -> ['GotoLocation', '<EOS>'] (True)\n",
      "grab the salt shaker off of the brown shelf (PickupObject) -> ['PickupObject', '<EOS>'] (True)\n",
      "walk over to the fridge (GotoLocation) -> ['GotoLocation', '<EOS>'] (True)\n",
      "move to the wooden rack (GotoLocation) -> ['GotoLocation', '<EOS>'] (True)\n",
      "pick up the salt from the rack (PickupObject) -> ['PickupObject', '<EOS>'] (True)\n",
      "put the salt in that cabinet (PutObject) -> ['PutObject', '<EOS>'] (True)\n",
      "take only the salt container from the table (PickupObject) -> ['PickupObject', '<EOS>'] (True)\n",
      "turn around and head towards the wooden shelf (GotoLocation) -> ['GotoLocation', '<EOS>'] (True)\n",
      "pick up the salt shaker on the top shelf (PickupObject) -> ['PickupObject', '<EOS>'] (True)\n",
      "move to the wooden shelf (GotoLocation) -> ['GotoLocation', '<EOS>'] (True)\n",
      "pick up the salt from the shelf (PickupObject) -> ['PickupObject', '<EOS>'] (True)\n"
     ]
    },
    {
     "name": "stdout",
     "output_type": "stream",
     "text": [
      "place the salt in the cabinet under the counter (PutObject) -> ['PutObject', '<EOS>'] (True)\n",
      "look up to see the cabinet at the top (GotoLocation) -> ['GotoLocation', '<EOS>'] (True)\n",
      "move to the counter left of the stove (GotoLocation) -> ['GotoLocation', '<EOS>'] (True)\n",
      "pick up the salt from the counter (PickupObject) -> ['PickupObject', '<EOS>'] (True)\n",
      "bring salt up the the cabinet above the counter (GotoLocation) -> ['GotoLocation', '<EOS>'] (True)\n",
      "pick up the salt shaker from the counter top (PickupObject) -> ['PickupObject', '<EOS>'] (True)\n",
      "turn left and walk in front of the oven (GotoLocation) -> ['GotoLocation', '<EOS>'] (True)\n",
      "open cabinet pick up salt from cabinet close cabinet (PickupObject) -> ['PickupObject', '<EOS>'] (True)\n",
      "place salt in second drawer close drawer (PutObject) -> ['PutObject', '<EOS>'] (True)\n",
      "pick up the salt shaker from the kitchen island (PickupObject) -> ['PickupObject', '<EOS>'] (True)\n",
      "move left then right around the kitchen island (GotoLocation) -> ['GotoLocation', '<EOS>'] (True)\n",
      "pick up the salt shaker from the island (PickupObject) -> ['PickupObject', '<EOS>'] (True)\n",
      "go to the sink on your right (GotoLocation) -> ['GotoLocation', '<EOS>'] (True)\n",
      "turn right and walk to the toilet (GotoLocation) -> ['GotoLocation', '<EOS>'] (True)\n",
      "turn right and walk up to the toilet (GotoLocation) -> ['GotoLocation', '<EOS>'] (True)\n",
      "walk towards the sink on your right (GotoLocation) -> ['GotoLocation', '<EOS>'] (True)\n",
      "turn around and head towards the toilet (GotoLocation) -> ['GotoLocation', '<EOS>'] (True)\n",
      "turn left towards the sink (GotoLocation) -> ['GotoLocation', '<EOS>'] (True)\n",
      "turn right towards the toilet (GotoLocation) -> ['GotoLocation', '<EOS>'] (True)\n",
      "place the bottle on the toilet basin (PutObject) -> ['PutObject', '<EOS>'] (True)\n",
      "turn left walk to the sink (GotoLocation) -> ['GotoLocation', '<EOS>'] (True)\n",
      "grab the green bottle in between sink (PickupObject) -> ['PickupObject', '<EOS>'] (True)\n",
      "turn right walk to the toilet (GotoLocation) -> ['GotoLocation', '<EOS>'] (True)\n",
      "move to the sink (GotoLocation) -> ['GotoLocation', '<EOS>'] (True)\n",
      "pick up the soap from the sink (PickupObject) -> ['PickupObject', '<EOS>'] (True)\n",
      "bring the soap to the toilet (GotoLocation) -> ['GotoLocation', '<EOS>'] (True)\n",
      "put the soap on the toilet tank lid (PutObject) -> ['PutObject', '<EOS>'] (True)\n",
      "turn left and walk over to the bathroom sink (GotoLocation) -> ['GotoLocation', '<EOS>'] (True)\n",
      "grab the soap dispenser off of the countertop (PickupObject) -> ['PickupObject', '<EOS>'] (True)\n",
      "turn around to face the toilet (GotoLocation) -> ['GotoLocation', '<EOS>'] (True)\n",
      "place the soap dispenser on top of the toilet (PutObject) -> ['PutObject', '<EOS>'] (True)\n",
      "turn right walk towards toilet (GotoLocation) -> ['GotoLocation', '<EOS>'] (True)\n",
      "turn left and walk to the sink (GotoLocation) -> ['GotoLocation', '<EOS>'] (True)\n",
      "turn right and walk to the toilet (GotoLocation) -> ['GotoLocation', '<EOS>'] (True)\n",
      "place soap on top of the toilet tank (PutObject) -> ['PutObject', '<EOS>'] (True)\n",
      "pick the gold vase up from the shelf (PickupObject) -> ['PickupObject', '<EOS>'] (True)\n",
      "pick up the yellow vase under the shelf (PickupObject) -> ['PickupObject', '<EOS>'] (True)\n",
      "pick the gold vase up from the dresser (PickupObject) -> ['PickupObject', '<EOS>'] (True)\n",
      "walk to the dresser ahead of you (GotoLocation) -> ['GotoLocation', '<EOS>'] (True)\n",
      "grab a vase from the dresser (PickupObject) -> ['PickupObject', '<EOS>'] (True)\n",
      "walk to the shelf behind you on your right (GotoLocation) -> ['GotoLocation', '<EOS>'] (True)\n",
      "place the vase in the safe (PutObject) -> ['PutObject', '<EOS>'] (True)\n",
      "grab the golden object from the shelf (PickupObject) -> ['PickupObject', '<EOS>'] (True)\n",
      "turn to the right to face the safe (GotoLocation) -> ['GotoLocation', '<EOS>'] (True)\n",
      "place the golden object into the safe (PutObject) -> ['PutObject', '<EOS>'] (True)\n",
      "go to the chest of drawer ahead of you (GotoLocation) -> ['GotoLocation', '<EOS>'] (True)\n",
      "pick up the brown banded watch (PickupObject) -> ['PickupObject', '<EOS>'] (True)\n",
      "take the watch across the room toward the safe (GotoLocation) -> ['PickupObject', '<EOS>'] (False)\n",
      "turn right then turn left towards the dresser (GotoLocation) -> ['GotoLocation', '<EOS>'] (True)\n",
      "pick up the watch from the dresser (PickupObject) -> ['PickupObject', '<EOS>'] (True)\n",
      "place the watch in the safe box (PutObject) -> ['PutObject', '<EOS>'] (True)\n",
      "turn right walk to the cabinet (GotoLocation) -> ['GotoLocation', '<EOS>'] (True)\n",
      "open drawer to grab the watch (PickupObject) -> ['PickupObject', '<EOS>'] (True)\n",
      "pick up the watch from the top shelf (PickupObject) -> ['PickupObject', '<EOS>'] (True)\n",
      "walk to the safe immediately to your right (GotoLocation) -> ['GotoLocation', '<EOS>'] (True)\n",
      "pick up the watch on the shelf (PickupObject) -> ['PickupObject', '<EOS>'] (True)\n",
      "put the watch in the safe (PutObject) -> ['PutObject', '<EOS>'] (True)\n",
      "walk to face counter to left of stove (GotoLocation) -> ['GotoLocation', '<EOS>'] (True)\n",
      "pick up butter knife from counter (PickupObject) -> ['PickupObject', '<EOS>'] (True)\n",
      "turn around to face sink (GotoLocation) -> ['GotoLocation', '<EOS>'] (True)\n",
      "put knife into green cup inside sink (PutObject) -> ['PutObject', '<EOS>'] (True)\n",
      "pick up green cup from sink basin (PickupObject) -> ['PickupObject', '<EOS>'] (True)\n",
      "turn around to face counter top (GotoLocation) -> ['GotoLocation', '<EOS>'] (True)\n",
      "put cup on counter top (PutObject) -> ['PutObject', '<EOS>'] (True)\n",
      "pick up the smaller silver knife on the counter (PickupObject) -> ['PickupObject', '<EOS>'] (True)\n",
      "turn around bring the knife to the sink (GotoLocation) -> ['GotoLocation', '<EOS>'] (True)\n",
      "pick up the cup with knife in the sink (PickupObject) -> ['PickupObject', '<EOS>'] (True)\n",
      "turn around bring the cup to the counter (GotoLocation) -> ['GotoLocation', '<EOS>'] (True)\n",
      "pick up the butter knife off of the counter (PickupObject) -> ['PickupObject', '<EOS>'] (True)\n",
      "pick up the green cup with the knife inside (PickupObject) -> ['PickupObject', '<EOS>'] (True)\n",
      "pick up the green cup from the top shelf (PickupObject) -> ['PickupObject', '<EOS>'] (True)\n",
      "place the cup down on the kitchen counter space (PutObject) -> ['PutObject', '<EOS>'] (True)\n",
      "walk to the counter on the right (GotoLocation) -> ['GotoLocation', '<EOS>'] (True)\n",
      "look in the microwave and remove the green cup (PickupObject) -> ['GotoLocation', '<EOS>'] (False)\n",
      "put the green cup in the sink (PutObject) -> ['PutObject', '<EOS>'] (True)\n",
      "pick up the knife in the sink (PickupObject) -> ['PickupObject', '<EOS>'] (True)\n",
      "place the knife inside the green cup (PutObject) -> ['PutObject', '<EOS>'] (True)\n",
      "go to the microwave (GotoLocation) -> ['GotoLocation', '<EOS>'] (True)\n",
      "take out the green cup (PickupObject) -> ['PickupObject', '<EOS>'] (True)\n",
      "take the cup to the sink (GotoLocation) -> ['GotoLocation', '<EOS>'] (True)\n",
      "put the cup in the sink (PutObject) -> ['PutObject', '<EOS>'] (True)\n",
      "pick up the knife from the sink on left (PickupObject) -> ['PickupObject', '<EOS>'] (True)\n",
      "walk to face microwave (GotoLocation) -> ['GotoLocation', '<EOS>'] (True)\n",
      "remove green cup from microwave (PickupObject) -> ['PickupObject', '<EOS>'] (True)\n",
      "walk to face sink (GotoLocation) -> ['GotoLocation', '<EOS>'] (True)\n",
      "put green cup in sink (PutObject) -> ['PutObject', '<EOS>'] (True)\n",
      "pick up butter knife from sink (PickupObject) -> ['PickupObject', '<EOS>'] (True)\n",
      "put butter knife into green cup inside sink (PutObject) -> ['PutObject', '<EOS>'] (True)\n",
      "pick up the butter knife in the sink (PickupObject) -> ['PickupObject', '<EOS>'] (True)\n",
      "take the rightmost cup from the cabinet (PickupObject) -> ['PickupObject', '<EOS>'] (True)\n",
      "put the cup in the sink (PutObject) -> ['PutObject', '<EOS>'] (True)\n",
      "turn and walk to the sink on the right (GotoLocation) -> ['GotoLocation', '<EOS>'] (True)\n",
      "pick up the butter knife from the sink (PickupObject) -> ['PickupObject', '<EOS>'] (True)\n",
      "put the glass inside of the sink (PutObject) -> ['PutObject', '<EOS>'] (True)\n",
      "pick up the butter knife from inside the sink (PickupObject) -> ['PickupObject', '<EOS>'] (True)\n",
      "walk to face counter behind sink (GotoLocation) -> ['GotoLocation', '<EOS>'] (True)\n",
      "pick up butter knife from under sponge on counter (PickupObject) -> ['PickupObject', '<EOS>'] (True)\n",
      "walk to face counter to left of stove (GotoLocation) -> ['GotoLocation', '<EOS>'] (True)\n",
      "pick up the green cup from counter (PickupObject) -> ['PickupObject', '<EOS>'] (True)\n",
      "turn to face the kitchen sink (GotoLocation) -> ['GotoLocation', '<EOS>'] (True)\n",
      "put green cup into sink basin (PutObject) -> ['PutObject', '<EOS>'] (True)\n"
     ]
    },
    {
     "name": "stdout",
     "output_type": "stream",
     "text": [
      "turn around and walk to the sink (GotoLocation) -> ['GotoLocation', '<EOS>'] (True)\n",
      "put the glass with the knife inside the sink (PutObject) -> ['PutObject', '<EOS>'] (True)\n",
      "pick up the butter knife from beneath the sponge (PickupObject) -> ['PickupObject', '<EOS>'] (True)\n",
      "turn around and face the sink (GotoLocation) -> ['GotoLocation', '<EOS>'] (True)\n",
      "put the pan in the sink (PutObject) -> ['PutObject', '<EOS>'] (True)\n",
      "grab the knife from the counter (PickupObject) -> ['PickupObject', '<EOS>'] (True)\n",
      "turn around to the stove (GotoLocation) -> ['GotoLocation', '<EOS>'] (True)\n",
      "put the knife in the pan on the stove (PutObject) -> ['PutObject', '<EOS>'] (True)\n",
      "grab the pan with the knife (PickupObject) -> ['PickupObject', '<EOS>'] (True)\n",
      "turn around to the sink (GotoLocation) -> ['GotoLocation', '<EOS>'] (True)\n",
      "put the pan in the sink (PutObject) -> ['PutObject', '<EOS>'] (True)\n",
      "pick up the knife from the counter (PickupObject) -> ['PickupObject', '<EOS>'] (True)\n",
      "turn around and take the knife to the stove (GotoLocation) -> ['GotoLocation', '<EOS>'] (True)\n",
      "pick up the pan and knife from the stove (PickupObject) -> ['PickupObject', '<EOS>'] (True)\n",
      "turn around to the sink (GotoLocation) -> ['GotoLocation', '<EOS>'] (True)\n",
      "put the pan and knife in the sink (PutObject) -> ['PutObject', '<EOS>'] (True)\n",
      "pick the knife up from the counter (PickupObject) -> ['PickupObject', '<EOS>'] (True)\n",
      "put the knife in the pan (PutObject) -> ['PutObject', '<EOS>'] (True)\n",
      "pick the pan up from the stove (PickupObject) -> ['PickupObject', '<EOS>'] (True)\n",
      "turn around and face the sink (GotoLocation) -> ['GotoLocation', '<EOS>'] (True)\n",
      "put the pan in the sink (PutObject) -> ['PutObject', '<EOS>'] (True)\n",
      "grab the knife on the counter (PickupObject) -> ['PickupObject', '<EOS>'] (True)\n",
      "turn around walk to the stove (GotoLocation) -> ['GotoLocation', '<EOS>'] (True)\n",
      "put the knife in the pan on the stove (PutObject) -> ['PutObject', '<EOS>'] (True)\n",
      "grab the pan from the stove (PickupObject) -> ['PickupObject', '<EOS>'] (True)\n",
      "turn around to the sink (GotoLocation) -> ['GotoLocation', '<EOS>'] (True)\n",
      "put the pan in the sink (PutObject) -> ['PutObject', '<EOS>'] (True)\n",
      "walk to the pan on the stove (GotoLocation) -> ['GotoLocation', '<EOS>'] (True)\n",
      "place the knife in the pan on the stove (PutObject) -> ['PutObject', '<EOS>'] (True)\n",
      "pick up the pan on the stove (PickupObject) -> ['PickupObject', '<EOS>'] (True)\n",
      "turn around and walk to the sink (GotoLocation) -> ['GotoLocation', '<EOS>'] (True)\n",
      "place the pan in the sink (PutObject) -> ['PutObject', '<EOS>'] (True)\n",
      "pick up a knife off of the kitchen counter (PickupObject) -> ['PickupObject', '<EOS>'] (True)\n",
      "drop the knife in to the frying pan (PutObject) -> ['PutObject', '<EOS>'] (True)\n",
      "turn right around and face the sink (GotoLocation) -> ['GotoLocation', '<EOS>'] (True)\n",
      "drop the frying pan in to the sink (PutObject) -> ['PutObject', '<EOS>'] (True)\n",
      "bring the bowl up toward the counter (GotoLocation) -> ['GotoLocation', '<EOS>'] (True)\n",
      "turn to the counter and pick up the egg (PickupObject) -> ['PickupObject', '<EOS>'] (True)\n",
      "open the cabinet and place egg in bowl (PutObject) -> ['PutObject', '<EOS>'] (True)\n",
      "remove bowl in the cabinet (PickupObject) -> ['PickupObject', '<EOS>'] (True)\n",
      "place the bowl on the counter (PutObject) -> ['PutObject', '<EOS>'] (True)\n",
      "pick up the brown ball from the counter top (PickupObject) -> ['PickupObject', '<EOS>'] (True)\n",
      "look up to the counter top (GotoLocation) -> ['GotoLocation', '<EOS>'] (True)\n",
      "turn to the wooden shelf on our right (GotoLocation) -> ['GotoLocation', '<EOS>'] (True)\n",
      "pick up the tan bowl on the third shelf (PickupObject) -> ['PickupObject', '<EOS>'] (True)\n",
      "bring the bowl up to the counter (GotoLocation) -> ['GotoLocation', '<EOS>'] (True)\n",
      "put the egg in the bowl on the counter (PutObject) -> ['PutObject', '<EOS>'] (True)\n",
      "step closer to the cabinet in front of you (GotoLocation) -> ['GotoLocation', '<EOS>'] (True)\n",
      "place the egg in the bowl on the counter (PutObject) -> ['PutObject', '<EOS>'] (True)\n",
      "put the egg in the bowl (PutObject) -> ['PutObject', '<EOS>'] (True)\n",
      "grab a fork off of the kitchen counter there (PickupObject) -> ['PickupObject', '<EOS>'] (True)\n",
      "grab the cup up out of the fridge (PickupObject) -> ['PickupObject', '<EOS>'] (True)\n",
      "place the cup down on the kitchen counter (PutObject) -> ['PutObject', '<EOS>'] (True)\n",
      "turn around and move to the fridge (GotoLocation) -> ['GotoLocation', '<EOS>'] (True)\n",
      "take the cup with fork out of the fridge (PickupObject) -> ['GotoLocation', '<EOS>'] (False)\n",
      "move a couple foot to your right (GotoLocation) -> ['GotoLocation', '<EOS>'] (True)\n",
      "pick up the fork on the counter (PickupObject) -> ['PickupObject', '<EOS>'] (True)\n",
      "go to the fridge behind you (GotoLocation) -> ['GotoLocation', '<EOS>'] (True)\n",
      "pick up the green cup from the fridge (PickupObject) -> ['PickupObject', '<EOS>'] (True)\n",
      "put the green cup on the counter (PutObject) -> ['PutObject', '<EOS>'] (True)\n",
      "look down into the sink (GotoLocation) -> ['GotoLocation', '<EOS>'] (True)\n",
      "pick up fork from sink behind tomato (PickupObject) -> ['PickupObject', '<EOS>'] (True)\n",
      "face sink in front of you (GotoLocation) -> ['GotoLocation', '<EOS>'] (True)\n",
      "pick up fork and mug from sink (PickupObject) -> ['PickupObject', '<EOS>'] (True)\n",
      "turn around face counter over dishwasher (GotoLocation) -> ['GotoLocation', '<EOS>'] (True)\n",
      "turn right then walk forward head to the sink (GotoLocation) -> ['GotoLocation', '<EOS>'] (True)\n",
      "pick up the fork in the sink (PickupObject) -> ['PickupObject', '<EOS>'] (True)\n",
      "pick up the green container then close the cabinet (PickupObject) -> ['PickupObject', '<EOS>'] (True)\n",
      "look up the counter beside the stove (GotoLocation) -> ['GotoLocation', '<EOS>'] (True)\n",
      "look up to face counter (GotoLocation) -> ['GotoLocation', '<EOS>'] (True)\n",
      "turn and go to the sink (GotoLocation) -> ['GotoLocation', '<EOS>'] (True)\n",
      "pick up the glass with the fork in it (PickupObject) -> ['PickupObject', '<EOS>'] (True)\n",
      "take the glass with the fork to the sink (GotoLocation) -> ['GotoLocation', '<EOS>'] (True)\n",
      "pick the fork up off of the counter (PickupObject) -> ['PickupObject', '<EOS>'] (True)\n",
      "put the fork in the green cup (PutObject) -> ['PutObject', '<EOS>'] (True)\n",
      "pick the cup up from the counter (PickupObject) -> ['PickupObject', '<EOS>'] (True)\n",
      "go left and stand in front of the sink (GotoLocation) -> ['GotoLocation', '<EOS>'] (True)\n",
      "put the cup in the sink (PutObject) -> ['PutObject', '<EOS>'] (True)\n",
      "pick up the fork from the sink (PickupObject) -> ['PickupObject', '<EOS>'] (True)\n",
      "turn around to the counter behind you (GotoLocation) -> ['GotoLocation', '<EOS>'] (True)\n",
      "place the fork in the cup on the counter (PutObject) -> ['PutObject', '<EOS>'] (True)\n",
      "pick up the cup from the counter (PickupObject) -> ['PickupObject', '<EOS>'] (True)\n",
      "turn around to the sink (GotoLocation) -> ['GotoLocation', '<EOS>'] (True)\n",
      "place the cup in the sink (PutObject) -> ['PutObject', '<EOS>'] (True)\n",
      "pick up the fork (PickupObject) -> ['PickupObject', '<EOS>'] (True)\n",
      "turn around and face the trophy (GotoLocation) -> ['GotoLocation', '<EOS>'] (True)\n",
      "put the fork in the glass (PutObject) -> ['PickupObject', '<EOS>'] (False)\n",
      "pick up the glass (PickupObject) -> ['PickupObject', '<EOS>'] (True)\n",
      "turn around and face the sink (GotoLocation) -> ['GotoLocation', '<EOS>'] (True)\n",
      "put the glass in the sink (PutObject) -> ['PutObject', '<EOS>'] (True)\n",
      "turn right and walk to the sink (GotoLocation) -> ['GotoLocation', '<EOS>'] (True)\n",
      "pick up the fork from the sink (PickupObject) -> ['PickupObject', '<EOS>'] (True)\n",
      "pick up the green cup from the counter (PickupObject) -> ['PickupObject', '<EOS>'] (True)\n",
      "turn around and walk to the sink (GotoLocation) -> ['GotoLocation', '<EOS>'] (True)\n",
      "turn around to the sink behind you (GotoLocation) -> ['GotoLocation', '<EOS>'] (True)\n",
      "place the cup inside the sink (PutObject) -> ['PutObject', '<EOS>'] (True)\n",
      "pick up the fork from inside the sink (PickupObject) -> ['PickupObject', '<EOS>'] (True)\n",
      "put the fork inside the cup in the sink (PutObject) -> ['PutObject', '<EOS>'] (True)\n",
      "put the green cup in the sink (PutObject) -> ['PutObject', '<EOS>'] (True)\n",
      "grab the fork out of the sink (PickupObject) -> ['PickupObject', '<EOS>'] (True)\n",
      "walk around the kitchen island to the stove (GotoLocation) -> ['GotoLocation', '<EOS>'] (True)\n",
      "turn around and go to the kitchen sink (GotoLocation) -> ['GotoLocation', '<EOS>'] (True)\n",
      "put the cup into the sink (PutObject) -> ['PutObject', '<EOS>'] (True)\n",
      "pick up the fork from the sink (PickupObject) -> ['PickupObject', '<EOS>'] (True)\n",
      "put the fork into the green cup (PutObject) -> ['PutObject', '<EOS>'] (True)\n",
      "turn around go to the sink (GotoLocation) -> ['GotoLocation', '<EOS>'] (True)\n"
     ]
    },
    {
     "name": "stdout",
     "output_type": "stream",
     "text": [
      "put the green cup in the sink (PutObject) -> ['PutObject', '<EOS>'] (True)\n",
      "pick up the fork next to the tomato (PickupObject) -> ['PickupObject', '<EOS>'] (True)\n",
      "put the fork in the green cup (PutObject) -> ['PutObject', '<EOS>'] (True)\n",
      "turn right then left back to the cabinet (GotoLocation) -> ['GotoLocation', '<EOS>'] (True)\n",
      "open the cabinet above the coffee maker (PutObject) -> ['GotoLocation', '<EOS>'] (False)\n",
      "turn left towards the sink (GotoLocation) -> ['GotoLocation', '<EOS>'] (True)\n",
      "pick up the glass vase in the sink (PickupObject) -> ['PickupObject', '<EOS>'] (True)\n",
      "turn right to the cupboard and open them (GotoLocation) -> ['GotoLocation', '<EOS>'] (True)\n",
      "place the glass vase on the gold plate (PutObject) -> ['PutObject', '<EOS>'] (True)\n",
      "take them out of the cupboard (PickupObject) -> ['PickupObject', '<EOS>'] (True)\n",
      "turn right and towards the sink (GotoLocation) -> ['GotoLocation', '<EOS>'] (True)\n",
      "put the vase and plate in the sink (PutObject) -> ['PutObject', '<EOS>'] (True)\n",
      "pick up the plate and close the cupboard (PickupObject) -> ['PickupObject', '<EOS>'] (True)\n",
      "walk back to the sink (GotoLocation) -> ['GotoLocation', '<EOS>'] (True)\n",
      "turn right and walk over to the sink (GotoLocation) -> ['GotoLocation', '<EOS>'] (True)\n",
      "turn around and walk to the wooden dresser ahead (GotoLocation) -> ['GotoLocation', '<EOS>'] (True)\n",
      "turn around and walk to the dresser (GotoLocation) -> ['GotoLocation', '<EOS>'] (True)\n",
      "pick up the set of key on the dresser (PickupObject) -> ['PickupObject', '<EOS>'] (True)\n",
      "turn to the right and walk to the couch (GotoLocation) -> ['GotoLocation', '<EOS>'] (True)\n",
      "place the key in the box on the couch (PutObject) -> ['PutObject', '<EOS>'] (True)\n",
      "pick up the box (PickupObject) -> ['PickupObject', '<EOS>'] (True)\n",
      "turn left and walk to the blue chair (GotoLocation) -> ['GotoLocation', '<EOS>'] (True)\n",
      "turn around and walk to the brown cabinet (GotoLocation) -> ['GotoLocation', '<EOS>'] (True)\n",
      "put the key in the box (PutObject) -> ['PutObject', '<EOS>'] (True)\n",
      "pick up the box with the key in it (PickupObject) -> ['PickupObject', '<EOS>'] (True)\n",
      "turn right to walk towards the black side table (GotoLocation) -> ['GotoLocation', '<EOS>'] (True)\n",
      "pick up the key on the black side table (PickupObject) -> ['PickupObject', '<EOS>'] (True)\n",
      "turn around and walk forward towards the blue armchair (GotoLocation) -> ['GotoLocation', '<EOS>'] (True)\n",
      "place the key in the box on the shelf (PutObject) -> ['PutObject', '<EOS>'] (True)\n",
      "pick up the box from the shelf (PickupObject) -> ['PickupObject', '<EOS>'] (True)\n",
      "pick up the box from the sofa (PickupObject) -> ['PickupObject', '<EOS>'] (True)\n",
      "pick up the pencil on the desk (PickupObject) -> ['PickupObject', '<EOS>'] (True)\n",
      "turn right and move closer towards the desk (GotoLocation) -> ['GotoLocation', '<EOS>'] (True)\n",
      "turn around right and back to the table (GotoLocation) -> ['GotoLocation', '<EOS>'] (True)\n",
      "pick up the transparent plate from the table (PickupObject) -> ['PickupObject', '<EOS>'] (True)\n",
      "put the transparent plate in the book shelf (PutObject) -> ['PutObject', '<EOS>'] (True)\n",
      "go to the desk (GotoLocation) -> ['GotoLocation', '<EOS>'] (True)\n",
      "pick up the pencil from the desk (PickupObject) -> ['PickupObject', '<EOS>'] (True)\n",
      "re-approach the desk where the bowl is (GotoLocation) -> ['PutObject', '<EOS>'] (False)\n",
      "put the pencil in the bowl (PutObject) -> ['PutObject', '<EOS>'] (True)\n",
      "pick up the bowl with the pencil (PickupObject) -> ['PickupObject', '<EOS>'] (True)\n",
      "pick up the pencil from the book shelf (PickupObject) -> ['PickupObject', '<EOS>'] (True)\n",
      "pick up the bowl from the desk (PickupObject) -> ['PickupObject', '<EOS>'] (True)\n",
      "put the bowl on top of the book shelf (PutObject) -> ['PutObject', '<EOS>'] (True)\n",
      "pick up the pencil from the desk (PickupObject) -> ['PickupObject', '<EOS>'] (True)\n",
      "put the pencil in the bowl on the desk (PutObject) -> ['PutObject', '<EOS>'] (True)\n",
      "pick up the bowl from the desk (PickupObject) -> ['PickupObject', '<EOS>'] (True)\n",
      "put the bowl on the desk (PutObject) -> ['PutObject', '<EOS>'] (True)\n",
      "turn to the right walk to the desk (GotoLocation) -> ['GotoLocation', '<EOS>'] (True)\n",
      "pick up the pencil from the desk (PickupObject) -> ['PickupObject', '<EOS>'] (True)\n",
      "turn to the left walk to the second desk (GotoLocation) -> ['GotoLocation', '<EOS>'] (True)\n",
      "place the pencil in the bowl on the desk (PutObject) -> ['PutObject', '<EOS>'] (True)\n",
      "take the left spoon that is on the counter (PickupObject) -> ['PickupObject', '<EOS>'] (True)\n",
      "pick up the mug off the shelf (PickupObject) -> ['PickupObject', '<EOS>'] (True)\n",
      "place the mug on the counter under the spoon (PutObject) -> ['PutObject', '<EOS>'] (True)\n",
      "pick up the spoon from the counter (PickupObject) -> ['PickupObject', '<EOS>'] (True)\n",
      "pick the white cup up from the shelf (PickupObject) -> ['PickupObject', '<EOS>'] (True)\n",
      "turn left and walk over to the fridge (GotoLocation) -> ['GotoLocation', '<EOS>'] (True)\n",
      "take a step to your left (GotoLocation) -> ['GotoLocation', '<EOS>'] (True)\n",
      "put the spoon in the mug in the fridge (PutObject) -> ['PutObject', '<EOS>'] (True)\n",
      "take two step to your right (GotoLocation) -> ['GotoLocation', '<EOS>'] (True)\n",
      "pick the spoon up from the counter (PickupObject) -> ['PickupObject', '<EOS>'] (True)\n",
      "move to the left and face the fridge (GotoLocation) -> ['GotoLocation', '<EOS>'] (True)\n",
      "pick the cup up from inside the fridge (PickupObject) -> ['PickupObject', '<EOS>'] (True)\n",
      "put the cup on the counter (PutObject) -> ['PutObject', '<EOS>'] (True)\n",
      "pick up the spoon on the counter (PickupObject) -> ['PickupObject', '<EOS>'] (True)\n",
      "turn left and walk over to the fridge (GotoLocation) -> ['GotoLocation', '<EOS>'] (True)\n",
      "pick up the mug with the spoon in it (PickupObject) -> ['PickupObject', '<EOS>'] (True)\n",
      "move to the left of the stove (GotoLocation) -> ['GotoLocation', '<EOS>'] (True)\n",
      "pick up a spoon from the counter (PickupObject) -> ['PickupObject', '<EOS>'] (True)\n",
      "move to the fridge to the left of you (GotoLocation) -> ['GotoLocation', '<EOS>'] (True)\n",
      "put spoon inside a cup (PutObject) -> ['PutObject', '<EOS>'] (True)\n",
      "pick up cup from the fridge (PickupObject) -> ['PickupObject', '<EOS>'] (True)\n",
      "put cup on the counter (PutObject) -> ['PutObject', '<EOS>'] (True)\n",
      "turn left and walk until you reach the fridge (GotoLocation) -> ['GotoLocation', '<EOS>'] (True)\n",
      "grab the mug that you placed the spoon in (PickupObject) -> ['PickupObject', '<EOS>'] (True)\n",
      "place the mug on the front of the counter (PutObject) -> ['PutObject', '<EOS>'] (True)\n",
      "grab the spoon from the counter (PickupObject) -> ['PickupObject', '<EOS>'] (True)\n",
      "place the spoon in the pan (PutObject) -> ['PutObject', '<EOS>'] (True)\n",
      "grab the pan from the stove (PickupObject) -> ['PickupObject', '<EOS>'] (True)\n",
      "turn around and go to the kitchen sink (GotoLocation) -> ['GotoLocation', '<EOS>'] (True)\n",
      "place the pan and spoon in the sink (PutObject) -> ['PutObject', '<EOS>'] (True)\n",
      "go to the counter right of the stove (GotoLocation) -> ['GotoLocation', '<EOS>'] (True)\n",
      "pick up a spoon on the counter (PickupObject) -> ['PickupObject', '<EOS>'] (True)\n",
      "go to the stove (GotoLocation) -> ['GotoLocation', '<EOS>'] (True)\n",
      "place the spoon in a pan (PutObject) -> ['PutObject', '<EOS>'] (True)\n",
      "pick up the pan from the stove (PickupObject) -> ['PickupObject', '<EOS>'] (True)\n",
      "turn to the sink (GotoLocation) -> ['GotoLocation', '<EOS>'] (True)\n",
      "place the pan and spoon in the sink (PutObject) -> ['PutObject', '<EOS>'] (True)\n",
      "pick up spoon from counter behind shaker (PickupObject) -> ['PickupObject', '<EOS>'] (True)\n",
      "turn around and go to sink (GotoLocation) -> ['GotoLocation', '<EOS>'] (True)\n",
      "put pan with spoon in center of sink (PutObject) -> ['PutObject', '<EOS>'] (True)\n",
      "pick up the spoon from beside the plant (PickupObject) -> ['PickupObject', '<EOS>'] (True)\n",
      "turn to the left and walk to the stove (GotoLocation) -> ['GotoLocation', '<EOS>'] (True)\n",
      "place the spoon into the front left skillet (PutObject) -> ['PutObject', '<EOS>'] (True)\n",
      "pick up the skillet (PickupObject) -> ['PickupObject', '<EOS>'] (True)\n",
      "turn to the left and walk to the sink (GotoLocation) -> ['GotoLocation', '<EOS>'] (True)\n",
      "place the skillet into the sink (PutObject) -> ['PutObject', '<EOS>'] (True)\n",
      "pick up the plate with the spoon on it (PickupObject) -> ['PickupObject', '<EOS>'] (True)\n",
      "turn around and walk to the sink (GotoLocation) -> ['GotoLocation', '<EOS>'] (True)\n",
      "place the plate with the spoon in the sink (PutObject) -> ['PutObject', '<EOS>'] (True)\n",
      "walk over to the kitchen sink (GotoLocation) -> ['GotoLocation', '<EOS>'] (True)\n"
     ]
    },
    {
     "name": "stdout",
     "output_type": "stream",
     "text": [
      "pick up the spoon on the counter (PickupObject) -> ['PickupObject', '<EOS>'] (True)\n",
      "turn around and step forward to face the sink (GotoLocation) -> ['GotoLocation', '<EOS>'] (True)\n",
      "pick up the plate with the spoon on it (PickupObject) -> ['PickupObject', '<EOS>'] (True)\n",
      "wash the bowl in the sink (CleanObject) -> ['CleanObject', '<EOS>'] (True)\n",
      "pick up the dirty bowl on the island (PickupObject) -> ['PickupObject', '<EOS>'] (True)\n",
      "turn around bring the bowl to the sink (GotoLocation) -> ['GotoLocation', '<EOS>'] (True)\n",
      "fill the bowl with water from the sink (CleanObject) -> ['GotoLocation', '<EOS>'] (False)\n",
      "turn around and walk to the sink (GotoLocation) -> ['GotoLocation', '<EOS>'] (True)\n",
      "turn back around (GotoLocation) -> ['GotoLocation', '<EOS>'] (True)\n",
      "turn around and move left to the toaster (GotoLocation) -> ['GotoLocation', '<EOS>'] (True)\n",
      "turn around and walk to the sink (GotoLocation) -> ['GotoLocation', '<EOS>'] (True)\n",
      "wash the bowl in the sink (CleanObject) -> ['CleanObject', '<EOS>'] (True)\n",
      "turn around and look up (GotoLocation) -> ['GotoLocation', '<EOS>'] (True)\n",
      "put the bowl in the cupboard (PutObject) -> ['PutObject', '<EOS>'] (True)\n",
      "grab the bowl inside the cabinet (PickupObject) -> ['PickupObject', '<EOS>'] (True)\n",
      "pick up the blue cloth from the counter (PickupObject) -> ['PickupObject', '<EOS>'] (True)\n",
      "walk slightly left to the sink on the right (GotoLocation) -> ['GotoLocation', '<EOS>'] (True)\n",
      "move backwards a bit away from the sink (GotoLocation) -> ['GotoLocation', '<EOS>'] (True)\n",
      "pick up a rag from the counter (PickupObject) -> ['PickupObject', '<EOS>'] (True)\n",
      "move to the sink to the left of you (GotoLocation) -> ['GotoLocation', '<EOS>'] (True)\n",
      "clean the rag in the sink (CleanObject) -> ['SliceObject', '<EOS>'] (False)\n",
      "move away from the sink (GotoLocation) -> ['GotoLocation', '<EOS>'] (True)\n",
      "put the rag in the cabinet under the sink (PutObject) -> ['PutObject', '<EOS>'] (True)\n",
      "turn right and walk to the sink (GotoLocation) -> ['GotoLocation', '<EOS>'] (True)\n",
      "take a step left to the sink (GotoLocation) -> ['GotoLocation', '<EOS>'] (True)\n",
      "wash the rag in the sink (CleanObject) -> ['SliceObject', '<EOS>'] (False)\n",
      "take a step back (GotoLocation) -> ['GotoLocation', '<EOS>'] (True)\n",
      "place the rag in left cabinet underneath the sink (PutObject) -> ['PutObject', '<EOS>'] (True)\n",
      "walk over to the toilet (GotoLocation) -> ['GotoLocation', '<EOS>'] (True)\n",
      "pick up the rag from the counter (PickupObject) -> ['PickupObject', '<EOS>'] (True)\n",
      "go the sink on the right (GotoLocation) -> ['GotoLocation', '<EOS>'] (True)\n",
      "wash the rag in the sink and remove (CleanObject) -> ['HeatObject', '<EOS>'] (False)\n",
      "put the washcloth in the cabinet below the sink (PutObject) -> ['PutObject', '<EOS>'] (True)\n",
      "turn to your right and walk to the sink (GotoLocation) -> ['GotoLocation', '<EOS>'] (True)\n",
      "pick up the cloth rag from the counter (PickupObject) -> ['PickupObject', '<EOS>'] (True)\n",
      "move back slightly from the counter top (GotoLocation) -> ['GotoLocation', '<EOS>'] (True)\n",
      "turn around walk to the vanity on the right (GotoLocation) -> ['GotoLocation', '<EOS>'] (True)\n",
      "turn right turn left to the counter (GotoLocation) -> ['GotoLocation', '<EOS>'] (True)\n",
      "turn around turn around (GotoLocation) -> ['GotoLocation', '<EOS>'] (True)\n",
      "turn left and face the sink (GotoLocation) -> ['GotoLocation', '<EOS>'] (True)\n",
      "place the green cloth in the sink (GotoLocation) -> ['PutObject', '<EOS>'] (False)\n",
      "rinse the green cloth in the sink (CleanObject) -> ['PickupObject', '<EOS>'] (False)\n",
      "back up from the sink (GotoLocation) -> ['GotoLocation', '<EOS>'] (True)\n",
      "place the cloth back in the cabinet (PutObject) -> ['PutObject', '<EOS>'] (True)\n",
      "walk to the sink on the right (GotoLocation) -> ['GotoLocation', '<EOS>'] (True)\n",
      "position yourself in front of the sink (GotoLocation) -> ['GotoLocation', '<EOS>'] (True)\n",
      "place the towel under the faucet to soak it (CleanObject) -> ['PutObject', '<EOS>'] (False)\n",
      "place the wet towel back in the drawer (PutObject) -> ['PutObject', '<EOS>'] (True)\n",
      "go to the right sink (GotoLocation) -> ['GotoLocation', '<EOS>'] (True)\n",
      "pick up the dirty towel next to the sink (PickupObject) -> ['PickupObject', '<EOS>'] (True)\n",
      "turn around and face the sink (GotoLocation) -> ['GotoLocation', '<EOS>'] (True)\n",
      "wash the dirty towel in the sink (CleanObject) -> ['PickupObject', '<EOS>'] (False)\n",
      "turn around and face the sink (GotoLocation) -> ['GotoLocation', '<EOS>'] (True)\n",
      "walk up to the rightmost sink (GotoLocation) -> ['GotoLocation', '<EOS>'] (True)\n",
      "pick up the cloth from the counter (PickupObject) -> ['PickupObject', '<EOS>'] (True)\n",
      "pick the cloth up from the counter (PickupObject) -> ['PickupObject', '<EOS>'] (True)\n",
      "move to the left (GotoLocation) -> ['GotoLocation', '<EOS>'] (True)\n",
      "turn around and veer to the rightmost sink (GotoLocation) -> ['GotoLocation', '<EOS>'] (True)\n",
      "look at the sink (GotoLocation) -> ['GotoLocation', '<EOS>'] (True)\n",
      "wash the rag in the sink (CleanObject) -> ['SliceObject', '<EOS>'] (False)\n",
      "take a step left (GotoLocation) -> ['GotoLocation', '<EOS>'] (True)\n",
      "wash the rag in the sink (CleanObject) -> ['SliceObject', '<EOS>'] (False)\n",
      "turn around and go to the sink (GotoLocation) -> ['GotoLocation', '<EOS>'] (True)\n",
      "wash the egg in the sink (CleanObject) -> ['PickupObject', '<EOS>'] (False)\n",
      "pick up the egg on the counter (PickupObject) -> ['PickupObject', '<EOS>'] (True)\n",
      "turn around and walk to the sink (GotoLocation) -> ['GotoLocation', '<EOS>'] (True)\n",
      "wash the egg in the sink (CleanObject) -> ['PickupObject', '<EOS>'] (False)\n",
      "place the egg in the microwave near the middle (PutObject) -> ['PutObject', '<EOS>'] (True)\n",
      "take the egg from the counter (PickupObject) -> ['PickupObject', '<EOS>'] (True)\n",
      "go to the sink to the left (GotoLocation) -> ['GotoLocation', '<EOS>'] (True)\n",
      "put the egg in the microwave above the oven (PutObject) -> ['PutObject', '<EOS>'] (True)\n",
      "take the egg from the counter (PickupObject) -> ['PickupObject', '<EOS>'] (True)\n",
      "take the egg to the sink (GotoLocation) -> ['GotoLocation', '<EOS>'] (True)\n",
      "take the egg to the microwave (GotoLocation) -> ['GotoLocation', '<EOS>'] (True)\n",
      "put the egg in the microwave (PutObject) -> ['PutObject', '<EOS>'] (True)\n",
      "pick up the egg from the counter (PickupObject) -> ['PickupObject', '<EOS>'] (True)\n",
      "turn left and walk to the sink (GotoLocation) -> ['GotoLocation', '<EOS>'] (True)\n",
      "turn around and go to the sink (GotoLocation) -> ['GotoLocation', '<EOS>'] (True)\n",
      "clean the egg in the sink (CleanObject) -> ['PickupObject', '<EOS>'] (False)\n",
      "pick up the egg from the counter (PickupObject) -> ['PickupObject', '<EOS>'] (True)\n",
      "take the egg to the sink (GotoLocation) -> ['GotoLocation', '<EOS>'] (True)\n",
      "rinse the egg in the sink then remove (CleanObject) -> ['PickupObject', '<EOS>'] (False)\n",
      "take the egg to the microwave (GotoLocation) -> ['GotoLocation', '<EOS>'] (True)\n",
      "put the egg in the microwave (PutObject) -> ['PutObject', '<EOS>'] (True)\n",
      "pick up the egg from the counter (PickupObject) -> ['PickupObject', '<EOS>'] (True)\n",
      "turn around to the sink (GotoLocation) -> ['GotoLocation', '<EOS>'] (True)\n",
      "turn around walk to the microwave (GotoLocation) -> ['GotoLocation', '<EOS>'] (True)\n",
      "pick up the knife from the counter (PickupObject) -> ['PickupObject', '<EOS>'] (True)\n",
      "take the knife to the sink (GotoLocation) -> ['GotoLocation', '<EOS>'] (True)\n",
      "take the knife back to the counter (GotoLocation) -> ['GotoLocation', '<EOS>'] (True)\n",
      "walk over to the sink behind you (GotoLocation) -> ['GotoLocation', '<EOS>'] (True)\n",
      "turn around and go to the sink (GotoLocation) -> ['GotoLocation', '<EOS>'] (True)\n",
      "place the knife by the tomato (PutObject) -> ['PutObject', '<EOS>'] (True)\n",
      "pick up the knife from the counter (PickupObject) -> ['PickupObject', '<EOS>'] (True)\n",
      "hold the knife and turn around to the sink (GotoLocation) -> ['GotoLocation', '<EOS>'] (True)\n",
      "carry the knife and turn around to the counter (GotoLocation) -> ['GotoLocation', '<EOS>'] (True)\n",
      "pick up the large knife on the kitchen island (PickupObject) -> ['PickupObject', '<EOS>'] (True)\n",
      "walk around the corner to reach the sink (GotoLocation) -> ['GotoLocation', '<EOS>'] (True)\n",
      "rinse the knife in the sink removing it afterwards (CleanObject) -> ['PickupObject', '<EOS>'] (False)\n",
      "turn around the face the countertop (GotoLocation) -> ['GotoLocation', '<EOS>'] (True)\n",
      "place the knife on the countertop (PutObject) -> ['PutObject', '<EOS>'] (True)\n",
      "take the knife to the sink (GotoLocation) -> ['GotoLocation', '<EOS>'] (True)\n",
      "rinse the knife in the sink then remove (CleanObject) -> ['PickupObject', '<EOS>'] (False)\n",
      "take the knife back to the counter (GotoLocation) -> ['GotoLocation', '<EOS>'] (True)\n",
      "lay the knife in the middle of the counter (PutObject) -> ['PutObject', '<EOS>'] (True)\n",
      "go around the counter to the sink (GotoLocation) -> ['GotoLocation', '<EOS>'] (True)\n",
      "turn around and go to the dishwasher (GotoLocation) -> ['GotoLocation', '<EOS>'] (True)\n",
      "pick up the knife on the counter (PickupObject) -> ['PickupObject', '<EOS>'] (True)\n"
     ]
    },
    {
     "name": "stdout",
     "output_type": "stream",
     "text": [
      "look down to face the lettuce on the counter (GotoLocation) -> ['GotoLocation', '<EOS>'] (True)\n",
      "cut the lettuce on the counter into slice (SliceObject) -> ['SliceObject', '<EOS>'] (True)\n",
      "turn around and step forward to face the sink (GotoLocation) -> ['GotoLocation', '<EOS>'] (True)\n",
      "place the knife in the sink (PutObject) -> ['PutObject', '<EOS>'] (True)\n",
      "pick up the slice of lettuce on the counter (PickupObject) -> ['PickupObject', '<EOS>'] (True)\n",
      "turn around and step forward to face the sink (GotoLocation) -> ['GotoLocation', '<EOS>'] (True)\n",
      "place the lettuce slice in the trash can (PutObject) -> ['PutObject', '<EOS>'] (True)\n",
      "look down at the lettuce on the counter (GotoLocation) -> ['GotoLocation', '<EOS>'] (True)\n",
      "cut the lettuce on the counter (SliceObject) -> ['SliceObject', '<EOS>'] (True)\n",
      "turn right and go to the sink (GotoLocation) -> ['GotoLocation', '<EOS>'] (True)\n",
      "put the knife in the sink (PutObject) -> ['PutObject', '<EOS>'] (True)\n",
      "pick up a slice of lettuce (PickupObject) -> ['PickupObject', '<EOS>'] (True)\n",
      "turn around and go back to the sink (GotoLocation) -> ['GotoLocation', '<EOS>'] (True)\n",
      "turn around and face the kitchen counter (GotoLocation) -> ['GotoLocation', '<EOS>'] (True)\n",
      "slice the lettuce head on the counter (SliceObject) -> ['SliceObject', '<EOS>'] (True)\n",
      "place the knife on the kitchen counter (PutObject) -> ['PutObject', '<EOS>'] (True)\n",
      "pick up a slice of lettuce from the counter (PickupObject) -> ['PickupObject', '<EOS>'] (True)\n",
      "place the lettuce slice in the trash bin (PutObject) -> ['PutObject', '<EOS>'] (True)\n",
      "take the knife from the counter (PickupObject) -> ['PickupObject', '<EOS>'] (True)\n",
      "cut the lettuce on the counter into slice (SliceObject) -> ['SliceObject', '<EOS>'] (True)\n",
      "take a step to the right face the counter (GotoLocation) -> ['GotoLocation', '<EOS>'] (True)\n",
      "take a step to the left face the counter (GotoLocation) -> ['GotoLocation', '<EOS>'] (True)\n",
      "take a slice of lettuce from the counter (PickupObject) -> ['PickupObject', '<EOS>'] (True)\n",
      "turn around go left and forward to the sink (GotoLocation) -> ['GotoLocation', '<EOS>'] (True)\n",
      "put the lettuce in the trash bin (PutObject) -> ['PutObject', '<EOS>'] (True)\n",
      "go to the kitchen island (GotoLocation) -> ['GotoLocation', '<EOS>'] (True)\n",
      "pick up a butterknife (PickupObject) -> ['PickupObject', '<EOS>'] (True)\n",
      "turn around to the counter (GotoLocation) -> ['GotoLocation', '<EOS>'] (True)\n",
      "cut the lettuce (SliceObject) -> ['SliceObject', '<EOS>'] (True)\n",
      "go to the middle of the counter (GotoLocation) -> ['GotoLocation', '<EOS>'] (True)\n",
      "put the butterknife down (PutObject) -> ['PutObject', '<EOS>'] (True)\n",
      "go to the left part of the counter (GotoLocation) -> ['GotoLocation', '<EOS>'] (True)\n",
      "pick up a lettuce piece (PickupObject) -> ['PickupObject', '<EOS>'] (True)\n",
      "go to the sink (GotoLocation) -> ['GotoLocation', '<EOS>'] (True)\n",
      "wash the lettuce (CleanObject) -> ['SliceObject', '<EOS>'] (False)\n",
      "go to the black bin (GotoLocation) -> ['GotoLocation', '<EOS>'] (True)\n",
      "put the lettuce in the bin (PutObject) -> ['PutObject', '<EOS>'] (True)\n",
      "turn left move to in front of the refrigerator (GotoLocation) -> ['GotoLocation', '<EOS>'] (True)\n",
      "slice the lettuce in the refrigerator (SliceObject) -> ['SliceObject', '<EOS>'] (True)\n",
      "move to in front of the refrigerator (GotoLocation) -> ['GotoLocation', '<EOS>'] (True)\n",
      "put the knife in the refrigerator (PutObject) -> ['PutObject', '<EOS>'] (True)\n",
      "move to in front of the refrigerator (GotoLocation) -> ['GotoLocation', '<EOS>'] (True)\n",
      "pick up a slice of lettuce (PickupObject) -> ['PickupObject', '<EOS>'] (True)\n",
      "put the slice of lettuce in the bin (PutObject) -> ['PutObject', '<EOS>'] (True)\n",
      "pick up the knife from the counter (PickupObject) -> ['PickupObject', '<EOS>'] (True)\n",
      "turn to the left towards the refrigerator (GotoLocation) -> ['GotoLocation', '<EOS>'] (True)\n",
      "put the knife inside the refrigerator (SliceObject) -> ['PutObject', '<EOS>'] (False)\n",
      "get it back turn to the right (GotoLocation) -> ['GotoLocation', '<EOS>'] (True)\n",
      "towards the refrigerator put the knife inside the refrigerator (PutObject) -> ['GotoLocation', '<EOS>'] (False)\n",
      "pick up the slice of lettuce (PickupObject) -> ['PickupObject', '<EOS>'] (True)\n",
      "throw the slice of lettuce in the trash can (PutObject) -> ['PutObject', '<EOS>'] (True)\n",
      "place the mug under the coffee machine (PutObject) -> ['PutObject', '<EOS>'] (True)\n",
      "go left and turn to face the sink (GotoLocation) -> ['GotoLocation', '<EOS>'] (True)\n",
      "place the mug in the coffee maker mug spot (PutObject) -> ['PutObject', '<EOS>'] (True)\n",
      "move to the right of the fridge (GotoLocation) -> ['GotoLocation', '<EOS>'] (True)\n",
      "pick up a cup from the counter (PickupObject) -> ['PickupObject', '<EOS>'] (True)\n",
      "move to the sink to the right (GotoLocation) -> ['GotoLocation', '<EOS>'] (True)\n",
      "clean the cup in the sink (CleanObject) -> ['CleanObject', '<EOS>'] (True)\n",
      "put the mug on the coffee maker (PutObject) -> ['PutObject', '<EOS>'] (True)\n",
      "walk straight and face the toaster on the counter (GotoLocation) -> ['GotoLocation', '<EOS>'] (True)\n",
      "pick up the mug from the counter (PickupObject) -> ['PickupObject', '<EOS>'] (True)\n",
      "turn right and take the mug to the sink (GotoLocation) -> ['GotoLocation', '<EOS>'] (True)\n",
      "put the mug in the coffee machine (PutObject) -> ['PutObject', '<EOS>'] (True)\n",
      "carry the mug to the kitchen sink (GotoLocation) -> ['GotoLocation', '<EOS>'] (True)\n",
      "turn around to face the sink (GotoLocation) -> ['GotoLocation', '<EOS>'] (True)\n",
      "turn left walk forward to face the coffee maker (GotoLocation) -> ['GotoLocation', '<EOS>'] (True)\n",
      "place the coffee cup in the coffee maker (PutObject) -> ['PutObject', '<EOS>'] (True)\n",
      "take the mug and turn around to the sink (GotoLocation) -> ['GotoLocation', '<EOS>'] (True)\n",
      "place the mug under the coffee machine (PutObject) -> ['PutObject', '<EOS>'] (True)\n",
      "pick up the coffee cup from the counter (PickupObject) -> ['PickupObject', '<EOS>'] (True)\n",
      "place the coffee cup into the coffee machine (PutObject) -> ['PutObject', '<EOS>'] (True)\n",
      "turn around bring the dirty pan to the sink (GotoLocation) -> ['GotoLocation', '<EOS>'] (True)\n",
      "wash the pan in the sink with water (CleanObject) -> ['CleanObject', '<EOS>'] (True)\n",
      "turn right to face the stove (GotoLocation) -> ['GotoLocation', '<EOS>'] (True)\n",
      "turn around with the pan and face the sink (GotoLocation) -> ['GotoLocation', '<EOS>'] (True)\n",
      "turn around and face the sink (GotoLocation) -> ['GotoLocation', '<EOS>'] (True)\n",
      "walk forward and face the stove on your right (GotoLocation) -> ['GotoLocation', '<EOS>'] (True)\n",
      "pick up the pan from the stove (PickupObject) -> ['PickupObject', '<EOS>'] (True)\n",
      "turn around and face the sink (GotoLocation) -> ['GotoLocation', '<EOS>'] (True)\n",
      "wash the pan in the sink (CleanObject) -> ['CleanObject', '<EOS>'] (True)\n",
      "turn around so your back is to the sink (GotoLocation) -> ['GotoLocation', '<EOS>'] (True)\n",
      "pick up the pan from the stove top (PickupObject) -> ['PickupObject', '<EOS>'] (True)\n",
      "turn around and walk to the sink (GotoLocation) -> ['GotoLocation', '<EOS>'] (True)\n",
      "turn around and walk to the sink (GotoLocation) -> ['GotoLocation', '<EOS>'] (True)\n",
      "pick up the dirty skillet from the stove (PickupObject) -> ['PickupObject', '<EOS>'] (True)\n",
      "wash the skillet in the sink (CleanObject) -> ['GotoLocation', '<EOS>'] (False)\n",
      "go to the counter near the stove (GotoLocation) -> ['GotoLocation', '<EOS>'] (True)\n",
      "pick up the square bowl (PickupObject) -> ['PickupObject', '<EOS>'] (True)\n",
      "take the bowl to the sink (GotoLocation) -> ['GotoLocation', '<EOS>'] (True)\n",
      "wash the bowl in the sink (CleanObject) -> ['CleanObject', '<EOS>'] (True)\n",
      "take the bowel to the counter (GotoLocation) -> ['GotoLocation', '<EOS>'] (True)\n",
      "put the bowl on the counter top (PutObject) -> ['PutObject', '<EOS>'] (True)\n",
      "pick up the plate on the counter (PickupObject) -> ['PickupObject', '<EOS>'] (True)\n",
      "turn around and go to the sink (GotoLocation) -> ['GotoLocation', '<EOS>'] (True)\n",
      "clean the plate in the sink (CleanObject) -> ['PickupObject', '<EOS>'] (False)\n",
      "put the plate on the counter (PutObject) -> ['PutObject', '<EOS>'] (True)\n",
      "turn around to face the sink (GotoLocation) -> ['GotoLocation', '<EOS>'] (True)\n",
      "turn back around to face the counter again (GotoLocation) -> ['GotoLocation', '<EOS>'] (True)\n",
      "pick up the plate on the counter (PickupObject) -> ['PickupObject', '<EOS>'] (True)\n",
      "turn around to go to the sink (GotoLocation) -> ['GotoLocation', '<EOS>'] (True)\n",
      "clean the plate in the sink (CleanObject) -> ['GotoLocation', '<EOS>'] (False)\n",
      "turn around to face the counter above the dishwasher (GotoLocation) -> ['GotoLocation', '<EOS>'] (True)\n",
      "put the plate on the counter (PutObject) -> ['PutObject', '<EOS>'] (True)\n",
      "turn left and walk over to the sink (GotoLocation) -> ['GotoLocation', '<EOS>'] (True)\n",
      "put the clean yellow plate on the counter (PutObject) -> ['PutObject', '<EOS>'] (True)\n",
      "pick up the plate from the counter (PickupObject) -> ['PickupObject', '<EOS>'] (True)\n"
     ]
    },
    {
     "name": "stdout",
     "output_type": "stream",
     "text": [
      "place the plate on the counter (PutObject) -> ['PutObject', '<EOS>'] (True)\n",
      "turn and go to the counter by the sink (GotoLocation) -> ['GotoLocation', '<EOS>'] (True)\n",
      "pick up a dirty plate on the counter (PickupObject) -> ['PickupObject', '<EOS>'] (True)\n",
      "turn and go to the sink (GotoLocation) -> ['GotoLocation', '<EOS>'] (True)\n",
      "wash the dish in the sink (CleanObject) -> ['CleanObject', '<EOS>'] (True)\n",
      "turn and go to the counter by the stove (GotoLocation) -> ['GotoLocation', '<EOS>'] (True)\n",
      "put the plate on the counter by the stove (PutObject) -> ['PutObject', '<EOS>'] (True)\n",
      "move back slightly away from the sink (GotoLocation) -> ['GotoLocation', '<EOS>'] (True)\n",
      "turn around to face the counter (GotoLocation) -> ['GotoLocation', '<EOS>'] (True)\n",
      "turn around facing sink (GotoLocation) -> ['GotoLocation', '<EOS>'] (True)\n",
      "pick up bar of soap (PickupObject) -> ['PickupObject', '<EOS>'] (True)\n",
      "turn around take one step turn around (GotoLocation) -> ['GotoLocation', '<EOS>'] (True)\n",
      "walk over to the rightmost sink (GotoLocation) -> ['GotoLocation', '<EOS>'] (True)\n",
      "move forward to the toilet (GotoLocation) -> ['GotoLocation', '<EOS>'] (True)\n",
      "pick up the soap on the toilet (PickupObject) -> ['PickupObject', '<EOS>'] (True)\n",
      "bring the soap to the right sink (GotoLocation) -> ['GotoLocation', '<EOS>'] (True)\n",
      "wash the soap in the right sink (CleanObject) -> ['PickupObject', '<EOS>'] (False)\n",
      "turn to the left to face the toilet (GotoLocation) -> ['GotoLocation', '<EOS>'] (True)\n",
      "move back slightly from the sink (GotoLocation) -> ['GotoLocation', '<EOS>'] (True)\n",
      "turn to the left and face the toilet (GotoLocation) -> ['GotoLocation', '<EOS>'] (True)\n",
      "turn left and walk to the sink (GotoLocation) -> ['GotoLocation', '<EOS>'] (True)\n",
      "turn to the left to face the sink (GotoLocation) -> ['GotoLocation', '<EOS>'] (True)\n",
      "take a step to your left (GotoLocation) -> ['GotoLocation', '<EOS>'] (True)\n",
      "pick up the soap bar from the bathroom counter (PickupObject) -> ['PickupObject', '<EOS>'] (True)\n",
      "turn to the right and go to the sink (GotoLocation) -> ['GotoLocation', '<EOS>'] (True)\n",
      "pick up the bar of soap from the counter (PickupObject) -> ['PickupObject', '<EOS>'] (True)\n",
      "wet the soap with water (CleanObject) -> ['CleanObject', '<EOS>'] (True)\n",
      "put the soap back on the counter (PutObject) -> ['PutObject', '<EOS>'] (True)\n",
      "go forward and to the sink on your right (GotoLocation) -> ['GotoLocation', '<EOS>'] (True)\n",
      "pick up the soap (PickupObject) -> ['PickupObject', '<EOS>'] (True)\n",
      "move slightly to the left (GotoLocation) -> ['GotoLocation', '<EOS>'] (True)\n",
      "put the soap on the counter (PutObject) -> ['PutObject', '<EOS>'] (True)\n",
      "wash the soap inside of the sink (CleanObject) -> ['CleanObject', '<EOS>'] (True)\n",
      "move to the counter in between the two sink (GotoLocation) -> ['GotoLocation', '<EOS>'] (True)\n",
      "pick up the soap from the counter (PickupObject) -> ['PickupObject', '<EOS>'] (True)\n",
      "move to the sink on the right from you (GotoLocation) -> ['GotoLocation', '<EOS>'] (True)\n",
      "clean the soap in the sink (CleanObject) -> ['PickupObject', '<EOS>'] (False)\n",
      "move to the counter in between the two sink (GotoLocation) -> ['GotoLocation', '<EOS>'] (True)\n",
      "put the soap on the counter (PutObject) -> ['PutObject', '<EOS>'] (True)\n",
      "turn around and go right towards the double sings (GotoLocation) -> ['GotoLocation', '<EOS>'] (True)\n",
      "pick up the bar of soap (PickupObject) -> ['PickupObject', '<EOS>'] (True)\n",
      "go to the right and face the sink (GotoLocation) -> ['GotoLocation', '<EOS>'] (True)\n",
      "move to the left (GotoLocation) -> ['GotoLocation', '<EOS>'] (True)\n",
      "put the soap down in between the two sink (PutObject) -> ['PutObject', '<EOS>'] (True)\n",
      "turn around and go to the sink (GotoLocation) -> ['GotoLocation', '<EOS>'] (True)\n",
      "pick up the soap from in between the sink (PickupObject) -> ['PickupObject', '<EOS>'] (True)\n",
      "move to the right to face the rightmost sink (GotoLocation) -> ['GotoLocation', '<EOS>'] (True)\n",
      "get the soap wet in the sink (CleanObject) -> ['PickupObject', '<EOS>'] (False)\n",
      "move back to the left (GotoLocation) -> ['GotoLocation', '<EOS>'] (True)\n",
      "put the soap in between the two sink (PutObject) -> ['PutObject', '<EOS>'] (True)\n",
      "turn around walk to the kitchen island (GotoLocation) -> ['GotoLocation', '<EOS>'] (True)\n",
      "grab the spatula on the island (PickupObject) -> ['PickupObject', '<EOS>'] (True)\n",
      "turn right and turn left walk to the sink (GotoLocation) -> ['GotoLocation', '<EOS>'] (True)\n",
      "turn around to the drawer (GotoLocation) -> ['GotoLocation', '<EOS>'] (True)\n",
      "turn around and walk to the island (GotoLocation) -> ['GotoLocation', '<EOS>'] (True)\n",
      "pick up the spatula from the island (PickupObject) -> ['PickupObject', '<EOS>'] (True)\n",
      "walk around the island to the sink (GotoLocation) -> ['GotoLocation', '<EOS>'] (True)\n",
      "turn around to face the stove (GotoLocation) -> ['GotoLocation', '<EOS>'] (True)\n",
      "take the spatula on the counter (PickupObject) -> ['PickupObject', '<EOS>'] (True)\n",
      "pick the spatula up off of the counter (PickupObject) -> ['PickupObject', '<EOS>'] (True)\n",
      "pick up the spatula near the edge (PickupObject) -> ['PickupObject', '<EOS>'] (True)\n",
      "take the spatula to the sink (GotoLocation) -> ['GotoLocation', '<EOS>'] (True)\n",
      "clean the spatula in the sink (CleanObject) -> ['PickupObject', '<EOS>'] (False)\n",
      "take the spatula from the island (PickupObject) -> ['PickupObject', '<EOS>'] (True)\n",
      "pick up the spatula from the counter (PickupObject) -> ['PickupObject', '<EOS>'] (True)\n",
      "take the spatula and turn around to the sink (GotoLocation) -> ['GotoLocation', '<EOS>'] (True)\n",
      "take the spatula and turn around to the counter (GotoLocation) -> ['GotoLocation', '<EOS>'] (True)\n",
      "open the top drawer and place the spatula inside (PutObject) -> ['PutObject', '<EOS>'] (True)\n",
      "turn around and move towards the sink (GotoLocation) -> ['GotoLocation', '<EOS>'] (True)\n",
      "place the bread on the counter (PutObject) -> ['PutObject', '<EOS>'] (True)\n",
      "pick up the bread (PickupObject) -> ['PickupObject', '<EOS>'] (True)\n",
      "turn right walk to the fridge and turn right (GotoLocation) -> ['GotoLocation', '<EOS>'] (True)\n",
      "turn right walk to the counter and turn left (GotoLocation) -> ['GotoLocation', '<EOS>'] (True)\n",
      "put the bread on the counter (PutObject) -> ['PutObject', '<EOS>'] (True)\n",
      "pick up the bread on the counter (PickupObject) -> ['PickupObject', '<EOS>'] (True)\n",
      "chill the bread in the fridge (CoolObject) -> ['PickupObject', '<EOS>'] (False)\n",
      "chill the bread in the fridge (CoolObject) -> ['PickupObject', '<EOS>'] (False)\n",
      "grab the bread off of the kitchen island counter (PickupObject) -> ['PickupObject', '<EOS>'] (True)\n",
      "pick up the bread from the counter (PickupObject) -> ['PickupObject', '<EOS>'] (True)\n",
      "put the bread down on the counter (PutObject) -> ['PutObject', '<EOS>'] (True)\n",
      "turn right and walk over to the fridge (GotoLocation) -> ['GotoLocation', '<EOS>'] (True)\n",
      "cut the bread into slice (SliceObject) -> ['SliceObject', '<EOS>'] (True)\n",
      "stay at the counter (GotoLocation) -> ['GotoLocation', '<EOS>'] (True)\n",
      "stay at the counter (GotoLocation) -> ['GotoLocation', '<EOS>'] (True)\n",
      "take a slice of bread from the counter (PickupObject) -> ['PickupObject', '<EOS>'] (True)\n",
      "turn left go to the white refrigerator (GotoLocation) -> ['GotoLocation', '<EOS>'] (True)\n",
      "turn right go in front of the oven (GotoLocation) -> ['GotoLocation', '<EOS>'] (True)\n",
      "put the bread in the microwave above the oven (PutObject) -> ['PutObject', '<EOS>'] (True)\n",
      "slice the right half of the loaf of bread (SliceObject) -> ['SliceObject', '<EOS>'] (True)\n",
      "move one step to the right (GotoLocation) -> ['GotoLocation', '<EOS>'] (True)\n",
      "go back one step to the left (GotoLocation) -> ['GotoLocation', '<EOS>'] (True)\n",
      "move to your right to stand facing the stove (GotoLocation) -> ['GotoLocation', '<EOS>'] (True)\n",
      "pick up the knife from the counter (PickupObject) -> ['PickupObject', '<EOS>'] (True)\n",
      "cut the loaf of bread (SliceObject) -> ['SliceObject', '<EOS>'] (True)\n",
      "move one step to your right (GotoLocation) -> ['GotoLocation', '<EOS>'] (True)\n",
      "place the knife on the counter (PutObject) -> ['PutObject', '<EOS>'] (True)\n",
      "walk one step to the left (GotoLocation) -> ['GotoLocation', '<EOS>'] (True)\n",
      "walk over to the refrigerator (GotoLocation) -> ['GotoLocation', '<EOS>'] (True)\n",
      "walk over to the microwave above the stove (GotoLocation) -> ['GotoLocation', '<EOS>'] (True)\n",
      "place the slice of bread inside the microwave (PutObject) -> ['PutObject', '<EOS>'] (True)\n",
      "take the large knife next to the tomato (PickupObject) -> ['PickupObject', '<EOS>'] (True)\n",
      "cut the bread into slice (SliceObject) -> ['SliceObject', '<EOS>'] (True)\n",
      "stay at the counter (GotoLocation) -> ['GotoLocation', '<EOS>'] (True)\n",
      "stay at the counter (GotoLocation) -> ['GotoLocation', '<EOS>'] (True)\n",
      "take a piece of bread from the counter (PickupObject) -> ['PickupObject', '<EOS>'] (True)\n",
      "turn left go to the refrigerator on the right (GotoLocation) -> ['GotoLocation', '<EOS>'] (True)\n",
      "turn right go to the oven on the left (GotoLocation) -> ['GotoLocation', '<EOS>'] (True)\n",
      "put the bread in the microwave above the oven (PutObject) -> ['PutObject', '<EOS>'] (True)\n",
      "slice the loaf of bread with the metal knife (SliceObject) -> ['SliceObject', '<EOS>'] (True)\n",
      "pick up a slice of bread (PickupObject) -> ['PickupObject', '<EOS>'] (True)\n",
      "turn left and walk over to the fridge (GotoLocation) -> ['GotoLocation', '<EOS>'] (True)\n",
      "pick up the left yellow knife from the counter (PickupObject) -> ['PickupObject', '<EOS>'] (True)\n",
      "slice the bread into slice (SliceObject) -> ['SliceObject', '<EOS>'] (True)\n",
      "take a step to the left (GotoLocation) -> ['GotoLocation', '<EOS>'] (True)\n",
      "take a step to the right (GotoLocation) -> ['GotoLocation', '<EOS>'] (True)\n",
      "pick up a slice of bread from the counter (PickupObject) -> ['PickupObject', '<EOS>'] (True)\n",
      "place the knife inside of the fridge (PutObject) -> ['PutObject', '<EOS>'] (True)\n",
      "pick up the butter knife by the green container (PickupObject) -> ['PickupObject', '<EOS>'] (True)\n",
      "carry the knife to the fridge (GotoLocation) -> ['GotoLocation', '<EOS>'] (True)\n",
      "pick up a slice of bread from the counter (PickupObject) -> ['PickupObject', '<EOS>'] (True)\n",
      "carry the slice of bread to the fridge (GotoLocation) -> ['GotoLocation', '<EOS>'] (True)\n",
      "move to stand in front of the stove (GotoLocation) -> ['GotoLocation', '<EOS>'] (True)\n",
      "turn around and stand in front of the toaster (GotoLocation) -> ['GotoLocation', '<EOS>'] (True)\n",
      "turn left and go to the fridge (GotoLocation) -> ['GotoLocation', '<EOS>'] (True)\n",
      "chill the egg and pick it up again (CoolObject) -> ['PickupObject', '<EOS>'] (False)\n",
      "put the egg in the sink (PutObject) -> ['PutObject', '<EOS>'] (True)\n",
      "place the cold egg in the sink (PutObject) -> ['PutObject', '<EOS>'] (True)\n",
      "take the egg from in the sink (PickupObject) -> ['PickupObject', '<EOS>'] (True)\n",
      "go to the fridge behind you (GotoLocation) -> ['GotoLocation', '<EOS>'] (True)\n",
      "chill the egg inside of the fridge (CoolObject) -> ['PickupObject', '<EOS>'] (False)\n",
      "return to the sink behind you (GotoLocation) -> ['GotoLocation', '<EOS>'] (True)\n",
      "pick up the egg from the sink (PickupObject) -> ['PickupObject', '<EOS>'] (True)\n",
      "place the egg in the sink (PutObject) -> ['PutObject', '<EOS>'] (True)\n",
      "pick up the egg from in the sink (PickupObject) -> ['PickupObject', '<EOS>'] (True)\n",
      "put the egg back in the sink (PutObject) -> ['PutObject', '<EOS>'] (True)\n",
      "move across the kitchen to the refrigerator (GotoLocation) -> ['GotoLocation', '<EOS>'] (True)\n",
      "move across the kitchen to the sink (GotoLocation) -> ['GotoLocation', '<EOS>'] (True)\n",
      "put the egg in the sink beside the fork (PutObject) -> ['PutObject', '<EOS>'] (True)\n",
      "place the egg back into the sink (PutObject) -> ['PutObject', '<EOS>'] (True)\n",
      "pick up the brown egg in the sink (PickupObject) -> ['PickupObject', '<EOS>'] (True)\n",
      "put egg in sink (PutObject) -> ['PutObject', '<EOS>'] (True)\n",
      "pick up the lettuce from the counter (PickupObject) -> ['PickupObject', '<EOS>'] (True)\n",
      "take the lettuce to the fridge (GotoLocation) -> ['GotoLocation', '<EOS>'] (True)\n",
      "put in the fridge then remove (CoolObject) -> ['PickupObject', '<EOS>'] (False)\n",
      "take the chilled lettuce back to the counter (GotoLocation) -> ['GotoLocation', '<EOS>'] (True)\n",
      "put the lettuce back on the counter (PutObject) -> ['PutObject', '<EOS>'] (True)\n"
     ]
    },
    {
     "name": "stdout",
     "output_type": "stream",
     "text": [
      "pick up the head of lettuce on the counter (PickupObject) -> ['PickupObject', '<EOS>'] (True)\n",
      "walk left back to the fridge (GotoLocation) -> ['GotoLocation', '<EOS>'] (True)\n",
      "pick up the lettuce on the counter (PickupObject) -> ['PickupObject', '<EOS>'] (True)\n",
      "chill the lettuce in the fridge (CoolObject) -> ['SliceObject', '<EOS>'] (False)\n",
      "pick up the lettuce off of the counter (PickupObject) -> ['PickupObject', '<EOS>'] (True)\n",
      "put the lettuce down on the counter (PutObject) -> ['PutObject', '<EOS>'] (True)\n",
      "pick up the lettuce from the counter (PickupObject) -> ['PickupObject', '<EOS>'] (True)\n",
      "take the lettuce to the refrigerator (GotoLocation) -> ['GotoLocation', '<EOS>'] (True)\n",
      "place the lettuce on the counter (PutObject) -> ['PutObject', '<EOS>'] (True)\n",
      "turn left to face counter (GotoLocation) -> ['GotoLocation', '<EOS>'] (True)\n",
      "turn left walk to fridge turn right (GotoLocation) -> ['GotoLocation', '<EOS>'] (True)\n",
      "turn right walk forward turn left to face counter (GotoLocation) -> ['GotoLocation', '<EOS>'] (True)\n",
      "put lettuce on counter (PutObject) -> ['PutObject', '<EOS>'] (True)\n",
      "place the lettuce into the sink (PutObject) -> ['PutObject', '<EOS>'] (True)\n",
      "pick up the lettuce next to the toaster (PickupObject) -> ['PickupObject', '<EOS>'] (True)\n",
      "place the lettuce in the sink (PutObject) -> ['PutObject', '<EOS>'] (True)\n",
      "turn right and face the sink on the right (GotoLocation) -> ['GotoLocation', '<EOS>'] (True)\n",
      "place the lettuce in the sink (PutObject) -> ['PutObject', '<EOS>'] (True)\n",
      "take the lettuce that is on the counter (PickupObject) -> ['PickupObject', '<EOS>'] (True)\n",
      "place the lettuce in the sink (PutObject) -> ['PutObject', '<EOS>'] (True)\n",
      "pick up the lettuce that is on the counter (PickupObject) -> ['PickupObject', '<EOS>'] (True)\n",
      "turn to the right and go to the fridge (GotoLocation) -> ['GotoLocation', '<EOS>'] (True)\n",
      "turn to the right and go to the sink (GotoLocation) -> ['GotoLocation', '<EOS>'] (True)\n",
      "put the lettuce in the sink (PutObject) -> ['PutObject', '<EOS>'] (True)\n",
      "pick up the lettuce from the counter (PickupObject) -> ['PickupObject', '<EOS>'] (True)\n",
      "place the lettuce back in the sink (PutObject) -> ['PutObject', '<EOS>'] (True)\n",
      "turn around and go into the kitchen (GotoLocation) -> ['GotoLocation', '<EOS>'] (True)\n",
      "go to the fridge on your left (GotoLocation) -> ['GotoLocation', '<EOS>'] (True)\n",
      "turn right and go to the sink (GotoLocation) -> ['GotoLocation', '<EOS>'] (True)\n",
      "put the lettuce in the sink (PutObject) -> ['PutObject', '<EOS>'] (True)\n",
      "turn left and walk to the fridge (GotoLocation) -> ['GotoLocation', '<EOS>'] (True)\n",
      "put the lettuce in the fridge and remove it (CoolObject) -> ['PickupObject', '<EOS>'] (False)\n",
      "put the lettuce in the kitchen sink (PutObject) -> ['PutObject', '<EOS>'] (True)\n",
      "turn and go to the counter by the toaster (GotoLocation) -> ['GotoLocation', '<EOS>'] (True)\n",
      "pick up a knife on the counter (PickupObject) -> ['PickupObject', '<EOS>'] (True)\n",
      "go to the counter by the toaster (GotoLocation) -> ['GotoLocation', '<EOS>'] (True)\n",
      "cut the lettuce on the counter (SliceObject) -> ['SliceObject', '<EOS>'] (True)\n",
      "turn and go to the refrigerator (GotoLocation) -> ['GotoLocation', '<EOS>'] (True)\n",
      "put the knife in the refrigerator (PutObject) -> ['PutObject', '<EOS>'] (True)\n",
      "turn and go to the counter by the toaster (GotoLocation) -> ['GotoLocation', '<EOS>'] (True)\n",
      "pick up a slice of lettuce on the counter (PickupObject) -> ['PickupObject', '<EOS>'] (True)\n",
      "turn and go to the refrigerator (GotoLocation) -> ['GotoLocation', '<EOS>'] (True)\n",
      "chill the slice of lettuce in the refrigerator (CoolObject) -> ['SliceObject', '<EOS>'] (False)\n",
      "turn and go to the trash can (GotoLocation) -> ['GotoLocation', '<EOS>'] (True)\n",
      "put the slice of lettuce in the trash can (PutObject) -> ['PutObject', '<EOS>'] (True)\n",
      "look up toward the lettuce on the counter (GotoLocation) -> ['GotoLocation', '<EOS>'] (True)\n",
      "cut the lettuce on the counter (SliceObject) -> ['SliceObject', '<EOS>'] (True)\n",
      "turn left and go to the fridge (GotoLocation) -> ['GotoLocation', '<EOS>'] (True)\n",
      "pick up a slice of lettuce from the counter (PickupObject) -> ['PickupObject', '<EOS>'] (True)\n",
      "go left and head back to the fridge (GotoLocation) -> ['GotoLocation', '<EOS>'] (True)\n",
      "pick up the knife next to the lettuce head (PickupObject) -> ['PickupObject', '<EOS>'] (True)\n",
      "stand up with the knife (GotoLocation) -> ['GotoLocation', '<EOS>'] (True)\n",
      "slice the lettuce head (SliceObject) -> ['SliceObject', '<EOS>'] (True)\n",
      "pick up a slice of the lettuce (PickupObject) -> ['PickupObject', '<EOS>'] (True)\n",
      "turn to the left and walk to the refrigerator (GotoLocation) -> ['GotoLocation', '<EOS>'] (True)\n",
      "turn around and walk to the trash can (GotoLocation) -> ['GotoLocation', '<EOS>'] (True)\n",
      "put the lettuce in the trash can (PutObject) -> ['PutObject', '<EOS>'] (True)\n",
      "move over to the left side of the counter (GotoLocation) -> ['GotoLocation', '<EOS>'] (True)\n",
      "pick up on of the lettuce slice (PickupObject) -> ['PickupObject', '<EOS>'] (True)\n",
      "go to the refrigerator to your left (GotoLocation) -> ['GotoLocation', '<EOS>'] (True)\n",
      "move to the right of the counter slightly (GotoLocation) -> ['GotoLocation', '<EOS>'] (True)\n",
      "move to the left to face the fridge (GotoLocation) -> ['GotoLocation', '<EOS>'] (True)\n",
      "turn left and face the counter on your right (GotoLocation) -> ['GotoLocation', '<EOS>'] (True)\n",
      "slice the lettuce in front of you (SliceObject) -> ['SliceObject', '<EOS>'] (True)\n",
      "turn right then face the counter to your left (GotoLocation) -> ['GotoLocation', '<EOS>'] (True)\n",
      "turn left then face the counter on your right (GotoLocation) -> ['GotoLocation', '<EOS>'] (True)\n",
      "turn left and face the fridge to your right (GotoLocation) -> ['GotoLocation', '<EOS>'] (True)\n",
      "place lettuce in black bin in front of you (PutObject) -> ['PutObject', '<EOS>'] (True)\n",
      "slice the lettuce in front of you (SliceObject) -> ['SliceObject', '<EOS>'] (True)\n",
      "turn right then face the counter to your left (GotoLocation) -> ['GotoLocation', '<EOS>'] (True)\n",
      "turn left then face the fridge on your right (GotoLocation) -> ['GotoLocation', '<EOS>'] (True)\n",
      "put the knife on the counter top (PutObject) -> ['PutObject', '<EOS>'] (True)\n",
      "put the lettuce slice in the waste basket (PutObject) -> ['PutObject', '<EOS>'] (True)\n",
      "pick up the knife on the counter (PickupObject) -> ['PickupObject', '<EOS>'] (True)\n",
      "move a bit to the left (GotoLocation) -> ['GotoLocation', '<EOS>'] (True)\n",
      "slice the lettuce on the counter (SliceObject) -> ['SliceObject', '<EOS>'] (True)\n",
      "move a bit to the right (GotoLocation) -> ['GotoLocation', '<EOS>'] (True)\n",
      "put the knife on the counter (PutObject) -> ['PutObject', '<EOS>'] (True)\n",
      "move a bit to the left (GotoLocation) -> ['GotoLocation', '<EOS>'] (True)\n",
      "pick up a lettuce slice from the counter (PickupObject) -> ['PickupObject', '<EOS>'] (True)\n",
      "turn around go forward a bit turn left (GotoLocation) -> ['GotoLocation', '<EOS>'] (True)\n",
      "put the lettuce in the basket (PutObject) -> ['PutObject', '<EOS>'] (True)\n",
      "turn left and walk to the fridge (GotoLocation) -> ['GotoLocation', '<EOS>'] (True)\n",
      "take a step right (GotoLocation) -> ['GotoLocation', '<EOS>'] (True)\n",
      "take a small step to your right (GotoLocation) -> ['GotoLocation', '<EOS>'] (True)\n",
      "take out the coffee mug in the cabinet (PickupObject) -> ['PickupObject', '<EOS>'] (True)\n",
      "pick up the white coffee mug from the counter (PickupObject) -> ['PickupObject', '<EOS>'] (True)\n",
      "carry the mug to the refrigerator (GotoLocation) -> ['GotoLocation', '<EOS>'] (True)\n",
      "place mug in coffee maker on top of counter (PutObject) -> ['PutObject', '<EOS>'] (True)\n",
      "turn to your left then head to the fridge (GotoLocation) -> ['GotoLocation', '<EOS>'] (True)\n",
      "put the mug on the coffee maker (PutObject) -> ['PutObject', '<EOS>'] (True)\n",
      "pick up white mug in coffee maker (PickupObject) -> ['PickupObject', '<EOS>'] (True)\n",
      "turn left walk to fridge turn to face fridge (GotoLocation) -> ['GotoLocation', '<EOS>'] (True)\n",
      "put mug inside coffee maker on counter (PutObject) -> ['PutObject', '<EOS>'] (True)\n",
      "pick up the mug in the coffee maker (PickupObject) -> ['PickupObject', '<EOS>'] (True)\n",
      "turn left go to the fridge turn right (GotoLocation) -> ['GotoLocation', '<EOS>'] (True)\n",
      "turn right go to the coffee maker turn left (GotoLocation) -> ['GotoLocation', '<EOS>'] (True)\n",
      "put the cup into the coffee maker (PutObject) -> ['PutObject', '<EOS>'] (True)\n",
      "pick up the white mug on the coffee maker (PickupObject) -> ['PickupObject', '<EOS>'] (True)\n",
      "pick up the mug from the coffee machine (PickupObject) -> ['PickupObject', '<EOS>'] (True)\n",
      "turn left and go to the fridge (GotoLocation) -> ['GotoLocation', '<EOS>'] (True)\n",
      "turn right and go back to the coffee machine (GotoLocation) -> ['GotoLocation', '<EOS>'] (True)\n",
      "set the mug in the coffee machine (PutObject) -> ['PutObject', '<EOS>'] (True)\n"
     ]
    },
    {
     "name": "stdout",
     "output_type": "stream",
     "text": [
      "pick up the pan on the stove (PickupObject) -> ['PickupObject', '<EOS>'] (True)\n",
      "walk left back to the fridge (GotoLocation) -> ['GotoLocation', '<EOS>'] (True)\n",
      "walk a few step right (GotoLocation) -> ['GotoLocation', '<EOS>'] (True)\n",
      "go left and stand in front of the fridge (GotoLocation) -> ['GotoLocation', '<EOS>'] (True)\n",
      "place the pan on the counter (PutObject) -> ['PutObject', '<EOS>'] (True)\n",
      "take a step to your right (GotoLocation) -> ['GotoLocation', '<EOS>'] (True)\n",
      "pick up the pan on the front left burner (PickupObject) -> ['PickupObject', '<EOS>'] (True)\n",
      "pick up the pan on the front left burner (PickupObject) -> ['PickupObject', '<EOS>'] (True)\n",
      "turn left to carry the pan to the fridge (GotoLocation) -> ['GotoLocation', '<EOS>'] (True)\n",
      "put the pan on the counter top (PutObject) -> ['PutObject', '<EOS>'] (True)\n",
      "grab a pan from the stove (PickupObject) -> ['PickupObject', '<EOS>'] (True)\n",
      "place the pan in the fridge then grab it (CoolObject) -> ['PickupObject', '<EOS>'] (False)\n",
      "place the pan on the counter (PutObject) -> ['PutObject', '<EOS>'] (True)\n",
      "pick up the pan on the stove (PickupObject) -> ['PickupObject', '<EOS>'] (True)\n",
      "turn left then walk straight head to the fridge (GotoLocation) -> ['GotoLocation', '<EOS>'] (True)\n",
      "put the pan on the counter beside the toaster (PutObject) -> ['PutObject', '<EOS>'] (True)\n",
      "walk over to the kitchen island (GotoLocation) -> ['GotoLocation', '<EOS>'] (True)\n",
      "grab a potato off of the kitchen island counter (PickupObject) -> ['PickupObject', '<EOS>'] (True)\n",
      "walk over to the fridge (GotoLocation) -> ['GotoLocation', '<EOS>'] (True)\n",
      "pick up the potato from the counter (PickupObject) -> ['PickupObject', '<EOS>'] (True)\n",
      "turn right and face the fridge (GotoLocation) -> ['GotoLocation', '<EOS>'] (True)\n",
      "go to the counter in front of you (GotoLocation) -> ['GotoLocation', '<EOS>'] (True)\n",
      "go to the fridge behind you (GotoLocation) -> ['GotoLocation', '<EOS>'] (True)\n",
      "chill the potato in the fridge (CoolObject) -> ['PickupObject', '<EOS>'] (False)\n",
      "take the potato to the microwave to your right (GotoLocation) -> ['GotoLocation', '<EOS>'] (True)\n",
      "placed a potato in the microwave (PutObject) -> ['PutObject', '<EOS>'] (True)\n",
      "move to the sink (GotoLocation) -> ['GotoLocation', '<EOS>'] (True)\n",
      "pick up the potato in the sink (PickupObject) -> ['PickupObject', '<EOS>'] (True)\n",
      "bring the potato to the fridge (GotoLocation) -> ['GotoLocation', '<EOS>'] (True)\n",
      "chill the potato in the fridge (CoolObject) -> ['PickupObject', '<EOS>'] (False)\n",
      "bring the chilled potato to the microwave (GotoLocation) -> ['GotoLocation', '<EOS>'] (True)\n",
      "put the potato in the microwave (PutObject) -> ['PutObject', '<EOS>'] (True)\n",
      "grab a potato out of the sink (PickupObject) -> ['PickupObject', '<EOS>'] (True)\n",
      "walk over to the kitchen sink (GotoLocation) -> ['GotoLocation', '<EOS>'] (True)\n",
      "grab a potato out of the sink (PickupObject) -> ['PickupObject', '<EOS>'] (True)\n",
      "walk over to the refrigerator (GotoLocation) -> ['GotoLocation', '<EOS>'] (True)\n",
      "walk the potato over to the kitchen stove (GotoLocation) -> ['GotoLocation', '<EOS>'] (True)\n",
      "pick up the potato from the sink (PickupObject) -> ['PickupObject', '<EOS>'] (True)\n",
      "turn right and carry the potato to the fridge (GotoLocation) -> ['GotoLocation', '<EOS>'] (True)\n",
      "move over to the sink (GotoLocation) -> ['GotoLocation', '<EOS>'] (True)\n",
      "pick up the potato in the sink (PickupObject) -> ['PickupObject', '<EOS>'] (True)\n",
      "bring the potato to the fridge (GotoLocation) -> ['GotoLocation', '<EOS>'] (True)\n",
      "chill the potato in the fridge for 7 second (CoolObject) -> ['PickupObject', '<EOS>'] (False)\n",
      "take that potato to the microwave (GotoLocation) -> ['GotoLocation', '<EOS>'] (True)\n",
      "place the potato in the microwave (PutObject) -> ['PutObject', '<EOS>'] (True)\n",
      "turn left and go to the black trash can (GotoLocation) -> ['GotoLocation', '<EOS>'] (True)\n",
      "pick up the tomato from the trash can (PickupObject) -> ['PickupObject', '<EOS>'] (True)\n",
      "turn around and go to the refrigerator (GotoLocation) -> ['GotoLocation', '<EOS>'] (True)\n",
      "pick up the tomato from the garbage can (PickupObject) -> ['PickupObject', '<EOS>'] (True)\n",
      "turn around towards the refrigerator (GotoLocation) -> ['GotoLocation', '<EOS>'] (True)\n",
      "put the tomato in the microwave (PutObject) -> ['PutObject', '<EOS>'] (True)\n",
      "turn right walk forward turn left to face sink (GotoLocation) -> ['GotoLocation', '<EOS>'] (True)\n",
      "pick up the tomato that is in the sink (PickupObject) -> ['PickupObject', '<EOS>'] (True)\n",
      "turn right walk forward turn right to face fridge (GotoLocation) -> ['GotoLocation', '<EOS>'] (True)\n",
      "turn right walk forward turn left to face stove (GotoLocation) -> ['GotoLocation', '<EOS>'] (True)\n",
      "put tomato in microwave above stove (PutObject) -> ['PutObject', '<EOS>'] (True)\n",
      "take a step right and face the sink (GotoLocation) -> ['GotoLocation', '<EOS>'] (True)\n",
      "pick up the tomato in the sink (PickupObject) -> ['PickupObject', '<EOS>'] (True)\n",
      "turn right and walk to the fridge (GotoLocation) -> ['GotoLocation', '<EOS>'] (True)\n",
      "place the tomato in the microwave (PutObject) -> ['PutObject', '<EOS>'] (True)\n",
      "move right to the sink (GotoLocation) -> ['GotoLocation', '<EOS>'] (True)\n",
      "pick up a tomato in the sink (PickupObject) -> ['PickupObject', '<EOS>'] (True)\n",
      "head right to the fridge (GotoLocation) -> ['GotoLocation', '<EOS>'] (True)\n",
      "heat right to the microwave oven (GotoLocation) -> ['GotoLocation', '<EOS>'] (True)\n",
      "place the tomato in the microwave oven (PutObject) -> ['PutObject', '<EOS>'] (True)\n",
      "pick up the tomato in the sink (PickupObject) -> ['PickupObject', '<EOS>'] (True)\n",
      "turn right and walk to the fridge (GotoLocation) -> ['GotoLocation', '<EOS>'] (True)\n",
      "turn right and walk to the stove facing it (GotoLocation) -> ['GotoLocation', '<EOS>'] (True)\n",
      "place the tomato in the microwave above the stove (PutObject) -> ['PutObject', '<EOS>'] (True)\n",
      "walk around the kitchen island and face the sink (GotoLocation) -> ['GotoLocation', '<EOS>'] (True)\n",
      "pick up the tomato from the sink (PickupObject) -> ['PickupObject', '<EOS>'] (True)\n",
      "pick up the yellow knife from the counter (PickupObject) -> ['PickupObject', '<EOS>'] (True)\n",
      "slice a half of the tomato on the counter (SliceObject) -> ['SliceObject', '<EOS>'] (True)\n",
      "take one slice of the tomato from the counter (PickupObject) -> ['PickupObject', '<EOS>'] (True)\n",
      "turn left and go to the refrigerator (GotoLocation) -> ['GotoLocation', '<EOS>'] (True)\n",
      "walk to face counter with toaster (GotoLocation) -> ['GotoLocation', '<EOS>'] (True)\n",
      "pick up sharp knife from counter (PickupObject) -> ['PickupObject', '<EOS>'] (True)\n",
      "turn right to face statue on counter (GotoLocation) -> ['GotoLocation', '<EOS>'] (True)\n",
      "cut tomato on counter (SliceObject) -> ['SliceObject', '<EOS>'] (True)\n",
      "put knife on counter (PutObject) -> ['PutObject', '<EOS>'] (True)\n",
      "pick up tomato slice from counter (PickupObject) -> ['PickupObject', '<EOS>'] (True)\n",
      "walk to face fridge (GotoLocation) -> ['GotoLocation', '<EOS>'] (True)\n",
      "chill and remove tomato slice from fridge (CoolObject) -> ['PickupObject', '<EOS>'] (False)\n",
      "walk to face counter with statue (GotoLocation) -> ['GotoLocation', '<EOS>'] (True)\n",
      "put tomato slice on counter (PutObject) -> ['PutObject', '<EOS>'] (True)\n",
      "move forward to the table by the toaster (GotoLocation) -> ['GotoLocation', '<EOS>'] (True)\n",
      "pick up the knife from the table (PickupObject) -> ['PickupObject', '<EOS>'] (True)\n",
      "move right to the table (GotoLocation) -> ['GotoLocation', '<EOS>'] (True)\n",
      "slice the tomato on the table (SliceObject) -> ['SliceObject', '<EOS>'] (True)\n",
      "drop the knife on the table (PutObject) -> ['PutObject', '<EOS>'] (True)\n",
      "pick up a slice of the tomato (PickupObject) -> ['PickupObject', '<EOS>'] (True)\n",
      "move left to the fridge (GotoLocation) -> ['GotoLocation', '<EOS>'] (True)\n",
      "move right to the table (GotoLocation) -> ['GotoLocation', '<EOS>'] (True)\n",
      "drop the slice on the table (PutObject) -> ['PutObject', '<EOS>'] (True)\n",
      "pick up the knife on the counter (PickupObject) -> ['PickupObject', '<EOS>'] (True)\n",
      "slice the tomato on the counter (SliceObject) -> ['SliceObject', '<EOS>'] (True)\n",
      "turn left and go to the fridge (GotoLocation) -> ['GotoLocation', '<EOS>'] (True)\n",
      "put the knife in the fridge (PutObject) -> ['PutObject', '<EOS>'] (True)\n",
      "turn right go forward turn left after the stove (GotoLocation) -> ['GotoLocation', '<EOS>'] (True)\n",
      "pick up a tomato slice from the counter (PickupObject) -> ['PickupObject', '<EOS>'] (True)\n",
      "turn left and go to the fridge (GotoLocation) -> ['GotoLocation', '<EOS>'] (True)\n",
      "turn right go forward turn left after the stove (GotoLocation) -> ['GotoLocation', '<EOS>'] (True)\n",
      "put the tomato slice on the counter (PutObject) -> ['PutObject', '<EOS>'] (True)\n",
      "turn left and face the fridge to your right (GotoLocation) -> ['GotoLocation', '<EOS>'] (True)\n",
      "turn right and face the counter to your left (GotoLocation) -> ['GotoLocation', '<EOS>'] (True)\n",
      "turn left and face the fridge to your right (GotoLocation) -> ['GotoLocation', '<EOS>'] (True)\n",
      "turn right and face the counter to your left (GotoLocation) -> ['GotoLocation', '<EOS>'] (True)\n"
     ]
    },
    {
     "name": "stdout",
     "output_type": "stream",
     "text": [
      "pick up the knife from the center island (PickupObject) -> ['PickupObject', '<EOS>'] (True)\n",
      "walk to the counter next to the stove (GotoLocation) -> ['GotoLocation', '<EOS>'] (True)\n",
      "cut the tomato on the counter with the knife (SliceObject) -> ['SliceObject', '<EOS>'] (True)\n",
      "take the knife to the fridge (GotoLocation) -> ['GotoLocation', '<EOS>'] (True)\n",
      "put the knife in the fridge (PutObject) -> ['PutObject', '<EOS>'] (True)\n",
      "go back to the tomato slice on the counter (GotoLocation) -> ['GotoLocation', '<EOS>'] (True)\n",
      "pick up a tomato slice from the counter (PickupObject) -> ['PickupObject', '<EOS>'] (True)\n",
      "take the tomato to the fridge (GotoLocation) -> ['GotoLocation', '<EOS>'] (True)\n",
      "set the tomato slice down on the counter (PutObject) -> ['PutObject', '<EOS>'] (True)\n",
      "slice the tomato (SliceObject) -> ['SliceObject', '<EOS>'] (True)\n",
      "put the knife down in front of the keurig (PutObject) -> ['PutObject', '<EOS>'] (True)\n",
      "pick up the right end of the tomato (PickupObject) -> ['PickupObject', '<EOS>'] (True)\n",
      "turn to the refrigerator on your left (GotoLocation) -> ['GotoLocation', '<EOS>'] (True)\n",
      "pick up a slice of tomato (PickupObject) -> ['PickupObject', '<EOS>'] (True)\n",
      "pick up the green apple from the sink (PickupObject) -> ['PickupObject', '<EOS>'] (True)\n",
      "turn left and walk over to the fridge (GotoLocation) -> ['GotoLocation', '<EOS>'] (True)\n",
      "pick up the green apple in the sink (PickupObject) -> ['PickupObject', '<EOS>'] (True)\n",
      "turn around and go to the microwave (GotoLocation) -> ['GotoLocation', '<EOS>'] (True)\n",
      "heat the apple in the microwave (HeatObject) -> ['HeatObject', '<EOS>'] (True)\n",
      "walk left to stand in front of the fridge (GotoLocation) -> ['GotoLocation', '<EOS>'] (True)\n",
      "turn and go to the sink (GotoLocation) -> ['GotoLocation', '<EOS>'] (True)\n",
      "with the apple in hand go to the fridge (GotoLocation) -> ['GotoLocation', '<EOS>'] (True)\n",
      "pick up the green apple from the sink (PickupObject) -> ['PickupObject', '<EOS>'] (True)\n",
      "turn around go in front of the stop top (GotoLocation) -> ['GotoLocation', '<EOS>'] (True)\n",
      "turn left go in front of the refrigerator (GotoLocation) -> ['GotoLocation', '<EOS>'] (True)\n",
      "pick up the rightmost green apple on the counter (PickupObject) -> ['PickupObject', '<EOS>'] (True)\n",
      "pick up the green apple next to the stove (PickupObject) -> ['PickupObject', '<EOS>'] (True)\n",
      "walk to the left to go to the fridge (GotoLocation) -> ['GotoLocation', '<EOS>'] (True)\n",
      "pick up the left green apple on the counter (PickupObject) -> ['PickupObject', '<EOS>'] (True)\n",
      "turn right and face the sink (GotoLocation) -> ['GotoLocation', '<EOS>'] (True)\n",
      "pick up the apple next to the drain (PickupObject) -> ['PickupObject', '<EOS>'] (True)\n",
      "turn around and face microwave above the stove (GotoLocation) -> ['GotoLocation', '<EOS>'] (True)\n",
      "turn left and head to the refrigerator (GotoLocation) -> ['GotoLocation', '<EOS>'] (True)\n",
      "turn right to the sink (GotoLocation) -> ['GotoLocation', '<EOS>'] (True)\n",
      "grab the apple from the sink (PickupObject) -> ['PickupObject', '<EOS>'] (True)\n",
      "turn around to the microwave (GotoLocation) -> ['GotoLocation', '<EOS>'] (True)\n",
      "turn around walk to the refrigerator on the right (GotoLocation) -> ['GotoLocation', '<EOS>'] (True)\n",
      "open the refrigerator put the apple in (PutObject) -> ['PutObject', '<EOS>'] (True)\n",
      "turn right to face sink (GotoLocation) -> ['GotoLocation', '<EOS>'] (True)\n",
      "turn around to face stove and microwave (GotoLocation) -> ['GotoLocation', '<EOS>'] (True)\n",
      "turn right and face the sink (GotoLocation) -> ['GotoLocation', '<EOS>'] (True)\n",
      "pick up the apple in the sink (PickupObject) -> ['PickupObject', '<EOS>'] (True)\n",
      "heat the apple in the microwave (HeatObject) -> ['HeatObject', '<EOS>'] (True)\n",
      "grab the apple out of the garbage bin (PickupObject) -> ['PickupObject', '<EOS>'] (True)\n",
      "place the apple inside of the garbage bin (PutObject) -> ['PutObject', '<EOS>'] (True)\n",
      "turn left and then go right to the stove (GotoLocation) -> ['GotoLocation', '<EOS>'] (True)\n",
      "heat the apple in the microwave over the stove (HeatObject) -> ['HeatObject', '<EOS>'] (True)\n",
      "pick up the green apple from the counter (PickupObject) -> ['PickupObject', '<EOS>'] (True)\n",
      "throw the apple into the trash can (PutObject) -> ['PutObject', '<EOS>'] (True)\n",
      "pick up the apple on the counter (PickupObject) -> ['PickupObject', '<EOS>'] (True)\n",
      "drop the apple in the trash bin (PutObject) -> ['PutObject', '<EOS>'] (True)\n",
      "pick up the apple in the trash bin (PickupObject) -> ['PickupObject', '<EOS>'] (True)\n",
      "put in the apple in the trash bin (PutObject) -> ['PutObject', '<EOS>'] (True)\n",
      "put the apple in the trash can (PutObject) -> ['PutObject', '<EOS>'] (True)\n",
      "pick up the green apple out of the sink (PickupObject) -> ['PickupObject', '<EOS>'] (True)\n",
      "turn around and walk back to the sink (GotoLocation) -> ['GotoLocation', '<EOS>'] (True)\n",
      "put the apple in the sink (PutObject) -> ['PutObject', '<EOS>'] (True)\n",
      "turn left go straight turn right into kitchen (GotoLocation) -> ['GotoLocation', '<EOS>'] (True)\n",
      "pick up apple in the sink (PickupObject) -> ['PickupObject', '<EOS>'] (True)\n",
      "hold apple open microwave door (GotoLocation) -> ['GotoLocation', '<EOS>'] (True)\n",
      "place apple into microwave close microwave (HeatObject) -> ['PutObject', '<EOS>'] (False)\n",
      "cook apple in microwave open microwave grab apple (GotoLocation) -> ['PickupObject', '<EOS>'] (False)\n",
      "turn around towards sink throw apple into sink (PutObject) -> ['GotoLocation', '<EOS>'] (False)\n",
      "heat the apple in the microwave (HeatObject) -> ['HeatObject', '<EOS>'] (True)\n",
      "return to the sink behind you (GotoLocation) -> ['GotoLocation', '<EOS>'] (True)\n",
      "put the apple back in the sink (PutObject) -> ['PutObject', '<EOS>'] (True)\n",
      "turn around to the microwave above the stove (GotoLocation) -> ['GotoLocation', '<EOS>'] (True)\n",
      "cook the apple in the microwave (HeatObject) -> ['HeatObject', '<EOS>'] (True)\n",
      "turn around to the sink behind you (GotoLocation) -> ['GotoLocation', '<EOS>'] (True)\n",
      "move to the sink (GotoLocation) -> ['GotoLocation', '<EOS>'] (True)\n",
      "bring the apple to the microwave (GotoLocation) -> ['GotoLocation', '<EOS>'] (True)\n",
      "heat the apple in the microwave (HeatObject) -> ['HeatObject', '<EOS>'] (True)\n",
      "bring the apple to the sink (GotoLocation) -> ['GotoLocation', '<EOS>'] (True)\n",
      "take the apple from the sink (PickupObject) -> ['PickupObject', '<EOS>'] (True)\n",
      "turn around and face the sink (GotoLocation) -> ['GotoLocation', '<EOS>'] (True)\n",
      "put the apple in the sink (PutObject) -> ['PutObject', '<EOS>'] (True)\n",
      "turn around and go back to the sink (GotoLocation) -> ['GotoLocation', '<EOS>'] (True)\n",
      "pick up the green apple out of the sink (PickupObject) -> ['PickupObject', '<EOS>'] (True)\n",
      "cut the apple in the sink into three chunk (SliceObject) -> ['SliceObject', '<EOS>'] (True)\n",
      "pick up one of the chunk of apple (PickupObject) -> ['PickupObject', '<EOS>'] (True)\n",
      "put the chunk of apple on the counter please (PutObject) -> ['PutObject', '<EOS>'] (True)\n",
      "pick up the gray knife on the counter (PickupObject) -> ['PickupObject', '<EOS>'] (True)\n",
      "cut the green apple inside the sink (SliceObject) -> ['SliceObject', '<EOS>'] (True)\n",
      "place the gray knife inside the sink (PutObject) -> ['PutObject', '<EOS>'] (True)\n",
      "put the apple slice on to the counter (PutObject) -> ['PutObject', '<EOS>'] (True)\n",
      "put the knife in the garbage can (PutObject) -> ['PutObject', '<EOS>'] (True)\n",
      "pick up the knife on the counter (PickupObject) -> ['PickupObject', '<EOS>'] (True)\n",
      "cut the apple on the counter into three piece (SliceObject) -> ['SliceObject', '<EOS>'] (True)\n",
      "turn around and step forward to face the sink (GotoLocation) -> ['GotoLocation', '<EOS>'] (True)\n",
      "place the knife in the sink (PutObject) -> ['PutObject', '<EOS>'] (True)\n",
      "pick up a piece of apple on the counter (PickupObject) -> ['PickupObject', '<EOS>'] (True)\n",
      "place the piece of apple on the counter (PutObject) -> ['PutObject', '<EOS>'] (True)\n",
      "pick up yellow-handled knife from the counter (PickupObject) -> ['PickupObject', '<EOS>'] (True)\n",
      "cut apple on the counter in third (SliceObject) -> ['SliceObject', '<EOS>'] (True)\n",
      "turn completely around to face the sink (GotoLocation) -> ['GotoLocation', '<EOS>'] (True)\n",
      "put the knife in the sink (PutObject) -> ['PutObject', '<EOS>'] (True)\n",
      "turn around to face the counter (GotoLocation) -> ['GotoLocation', '<EOS>'] (True)\n",
      "pick up one of the piece of the apple (PickupObject) -> ['PickupObject', '<EOS>'] (True)\n",
      "pick up the knife that is on the counter (PickupObject) -> ['PickupObject', '<EOS>'] (True)\n",
      "slice the apple that is on the counter (SliceObject) -> ['SliceObject', '<EOS>'] (True)\n",
      "turn around to face the sink (GotoLocation) -> ['GotoLocation', '<EOS>'] (True)\n",
      "put the knife in the sink (PutObject) -> ['PutObject', '<EOS>'] (True)\n",
      "turn around to face the counter (GotoLocation) -> ['GotoLocation', '<EOS>'] (True)\n"
     ]
    },
    {
     "name": "stdout",
     "output_type": "stream",
     "text": [
      "take two step to the right to face stove (GotoLocation) -> ['GotoLocation', '<EOS>'] (True)\n",
      "put the apple slice on the counter (PutObject) -> ['PutObject', '<EOS>'] (True)\n",
      "pick up the knife from the counter (PickupObject) -> ['PickupObject', '<EOS>'] (True)\n",
      "cut the apple in the bin in to section (SliceObject) -> ['SliceObject', '<EOS>'] (True)\n",
      "put the knife in the bin (PutObject) -> ['PutObject', '<EOS>'] (True)\n",
      "pick up a section of apple (PickupObject) -> ['PickupObject', '<EOS>'] (True)\n",
      "turn left move to in front of the microwave (GotoLocation) -> ['GotoLocation', '<EOS>'] (True)\n",
      "put the cooked apple section in the bin (PutObject) -> ['PutObject', '<EOS>'] (True)\n",
      "pick up the butter knife on the counter (PickupObject) -> ['PickupObject', '<EOS>'] (True)\n",
      "slice the apple in the trash can (SliceObject) -> ['SliceObject', '<EOS>'] (True)\n",
      "put the butter knife in the trash can (PutObject) -> ['PutObject', '<EOS>'] (True)\n",
      "turn around and go to the microwave (GotoLocation) -> ['GotoLocation', '<EOS>'] (True)\n",
      "cook the apple slice in the microwave (HeatObject) -> ['GotoLocation', '<EOS>'] (False)\n",
      "turn and go back to the trash can (GotoLocation) -> ['GotoLocation', '<EOS>'] (True)\n",
      "put the warm apple slice in the trash (PutObject) -> ['PutObject', '<EOS>'] (True)\n",
      "walk towards the counter next to the fridge (GotoLocation) -> ['GotoLocation', '<EOS>'] (True)\n",
      "grab a knife from the counter (PickupObject) -> ['PickupObject', '<EOS>'] (True)\n",
      "walk with the knife towards the trash can (GotoLocation) -> ['GotoLocation', '<EOS>'] (True)\n",
      "slice apple in the trash can (SliceObject) -> ['SliceObject', '<EOS>'] (True)\n",
      "put knife in the trash can (PutObject) -> ['PutObject', '<EOS>'] (True)\n",
      "pick up an apple piece from the trash can (PickupObject) -> ['PickupObject', '<EOS>'] (True)\n",
      "walk with the apple piece towards the microwave (GotoLocation) -> ['GotoLocation', '<EOS>'] (True)\n",
      "walk with the apple piece towards the trash can (GotoLocation) -> ['GotoLocation', '<EOS>'] (True)\n",
      "put the apple piece inside the trash can (PutObject) -> ['PutObject', '<EOS>'] (True)\n",
      "put the knife in the trash can (PutObject) -> ['PutObject', '<EOS>'] (True)\n",
      "put the slice of apple in the trash can (PutObject) -> ['PutObject', '<EOS>'] (True)\n",
      "pick up the knife in the sink (PickupObject) -> ['PickupObject', '<EOS>'] (True)\n",
      "slice the apple in the bin (SliceObject) -> ['SliceObject', '<EOS>'] (True)\n",
      "drop the knife in the bin (PutObject) -> ['PutObject', '<EOS>'] (True)\n",
      "pick up the slice apple in the bin (PickupObject) -> ['PickupObject', '<EOS>'] (True)\n",
      "turn left head to the microwave on your left (GotoLocation) -> ['GotoLocation', '<EOS>'] (True)\n",
      "put the heated slice apple in the trash bin (PutObject) -> ['PutObject', '<EOS>'] (True)\n",
      "pick up the butter knife from the sink (PickupObject) -> ['PickupObject', '<EOS>'] (True)\n",
      "put the knife in the trash bin (PutObject) -> ['PutObject', '<EOS>'] (True)\n",
      "pick up an apple piece from the trash bin (PickupObject) -> ['PickupObject', '<EOS>'] (True)\n",
      "put the apple piece in the trash bin (PutObject) -> ['PutObject', '<EOS>'] (True)\n",
      "place it to the front of the counter (GotoLocation) -> ['PutObject', '<EOS>'] (False)\n",
      "pick up the knife with the yellow handle (PutObject) -> ['PickupObject', '<EOS>'] (False)\n",
      "cut the bread into several slice (PickupObject) -> ['SliceObject', '<EOS>'] (False)\n",
      "continue cutting the bread (SliceObject) -> ['GotoLocation', '<EOS>'] (False)\n",
      "grab the loaf of bread off of the counter (PickupObject) -> ['PickupObject', '<EOS>'] (True)\n",
      "look down at the counter (GotoLocation) -> ['GotoLocation', '<EOS>'] (True)\n",
      "put the bread down on the counter (PutObject) -> ['PutObject', '<EOS>'] (True)\n",
      "grab the knife off of the counter (PickupObject) -> ['PickupObject', '<EOS>'] (True)\n",
      "cut the bread on the counter into slice (SliceObject) -> ['SliceObject', '<EOS>'] (True)\n",
      "put the knife on the counter (PutObject) -> ['PutObject', '<EOS>'] (True)\n",
      "grab a slice of bread (PickupObject) -> ['PickupObject', '<EOS>'] (True)\n",
      "turn right and stop at the microwave (GotoLocation) -> ['GotoLocation', '<EOS>'] (True)\n",
      "turn right and stop at the counter (GotoLocation) -> ['GotoLocation', '<EOS>'] (True)\n",
      "place the bread on the counter (PutObject) -> ['PutObject', '<EOS>'] (True)\n",
      "proceed ahead to sink (GotoLocation) -> ['GotoLocation', '<EOS>'] (True)\n",
      "slice bread on counter with knife (SliceObject) -> ['SliceObject', '<EOS>'] (True)\n",
      "pick up the knife on the table (PickupObject) -> ['PickupObject', '<EOS>'] (True)\n",
      "cut the bread on the center table into slice (SliceObject) -> ['SliceObject', '<EOS>'] (True)\n",
      "pick up a slice of bread on the table (PickupObject) -> ['PickupObject', '<EOS>'] (True)\n",
      "move forward to the table (GotoLocation) -> ['GotoLocation', '<EOS>'] (True)\n",
      "pick up the knife (PickupObject) -> ['PickupObject', '<EOS>'] (True)\n",
      "move right to the table (GotoLocation) -> ['GotoLocation', '<EOS>'] (True)\n",
      "slice the bread on the table (SliceObject) -> ['SliceObject', '<EOS>'] (True)\n",
      "move left to the coffee maker (GotoLocation) -> ['GotoLocation', '<EOS>'] (True)\n",
      "drop the knife on the table (PutObject) -> ['PutObject', '<EOS>'] (True)\n",
      "move right towards the coffee maker (GotoLocation) -> ['GotoLocation', '<EOS>'] (True)\n",
      "pick up the bread slice (PickupObject) -> ['PickupObject', '<EOS>'] (True)\n",
      "turn around and head for the oven (GotoLocation) -> ['GotoLocation', '<EOS>'] (True)\n",
      "place the bread to cook in the oven (HeatObject) -> ['PutObject', '<EOS>'] (False)\n",
      "turn around and head for the coffee maker (GotoLocation) -> ['GotoLocation', '<EOS>'] (True)\n",
      "drop the bread slice by the coffee maker (PutObject) -> ['PutObject', '<EOS>'] (True)\n",
      "look around and face the counter at the left (GotoLocation) -> ['GotoLocation', '<EOS>'] (True)\n",
      "look around and face to the counter (GotoLocation) -> ['GotoLocation', '<EOS>'] (True)\n",
      "put the bread at the counter (PutObject) -> ['PutObject', '<EOS>'] (True)\n",
      "pick up the knife at the counter (PickupObject) -> ['PickupObject', '<EOS>'] (True)\n",
      "slice the bread at the counter (SliceObject) -> ['SliceObject', '<EOS>'] (True)\n",
      "put back the knife at the counter (PutObject) -> ['PutObject', '<EOS>'] (True)\n",
      "pick up one slice of the bread (PickupObject) -> ['PickupObject', '<EOS>'] (True)\n",
      "walk to the left and face the stove (GotoLocation) -> ['GotoLocation', '<EOS>'] (True)\n",
      "turn right and face the counter at the left (GotoLocation) -> ['GotoLocation', '<EOS>'] (True)\n",
      "pick up the bread on the counter (PickupObject) -> ['PickupObject', '<EOS>'] (True)\n",
      "step to the right and face the counter (GotoLocation) -> ['GotoLocation', '<EOS>'] (True)\n",
      "pick up the knife on the counter (PickupObject) -> ['PickupObject', '<EOS>'] (True)\n",
      "cut the bread on the counter into slice (SliceObject) -> ['SliceObject', '<EOS>'] (True)\n",
      "pick up a slice of bread on the counter (PickupObject) -> ['PickupObject', '<EOS>'] (True)\n",
      "place the cup back into the cabinet (PutObject) -> ['PutObject', '<EOS>'] (True)\n",
      "go right and stand in front of the microwave (GotoLocation) -> ['GotoLocation', '<EOS>'] (True)\n",
      "turn right and walk to the stove (GotoLocation) -> ['GotoLocation', '<EOS>'] (True)\n",
      "move to the front of the stove (GotoLocation) -> ['GotoLocation', '<EOS>'] (True)\n",
      "heat the glass in the microwave above the stove (HeatObject) -> ['HeatObject', '<EOS>'] (True)\n",
      "put the glass away in the cabinet (PutObject) -> ['PutObject', '<EOS>'] (True)\n",
      "warm the cup in the microwave above the stove (HeatObject) -> ['HeatObject', '<EOS>'] (True)\n",
      "bring the cup to the microwave on the right (GotoLocation) -> ['GotoLocation', '<EOS>'] (True)\n",
      "heat the cup in the microwave (HeatObject) -> ['HeatObject', '<EOS>'] (True)\n",
      "go to the center kitchen console (GotoLocation) -> ['GotoLocation', '<EOS>'] (True)\n",
      "pick up the egg from the center kitchen console (PickupObject) -> ['PickupObject', '<EOS>'] (True)\n",
      "go to the microwave (GotoLocation) -> ['GotoLocation', '<EOS>'] (True)\n",
      "heat the egg in the microwave (HeatObject) -> ['HeatObject', '<EOS>'] (True)\n",
      "go to the black bin (GotoLocation) -> ['GotoLocation', '<EOS>'] (True)\n",
      "place the egg in the black bin (PutObject) -> ['PutObject', '<EOS>'] (True)\n",
      "turn around and walk to the kitchen island (GotoLocation) -> ['GotoLocation', '<EOS>'] (True)\n",
      "grab the egg out of the garbage bin (PickupObject) -> ['PickupObject', '<EOS>'] (True)\n",
      "place the egg inside the garbage bin (PutObject) -> ['PutObject', '<EOS>'] (True)\n",
      "pick up the egg on the trash bin (PickupObject) -> ['PickupObject', '<EOS>'] (True)\n",
      "turn left then right walk towards the microwave (GotoLocation) -> ['GotoLocation', '<EOS>'] (True)\n",
      "put the egg in the trash bin (PutObject) -> ['PutObject', '<EOS>'] (True)\n",
      "turn left then head to the microwave (GotoLocation) -> ['GotoLocation', '<EOS>'] (True)\n",
      "drop the egg in the trash bin (PutObject) -> ['PutObject', '<EOS>'] (True)\n",
      "pick up the egg on the counter (PickupObject) -> ['PickupObject', '<EOS>'] (True)\n",
      "heat the egg in the microwave (HeatObject) -> ['HeatObject', '<EOS>'] (True)\n",
      "put the egg in the trash can (PutObject) -> ['PutObject', '<EOS>'] (True)\n",
      "take a step left (GotoLocation) -> ['GotoLocation', '<EOS>'] (True)\n"
     ]
    },
    {
     "name": "stdout",
     "output_type": "stream",
     "text": [
      "heat the mug in the microwave (HeatObject) -> ['HeatObject', '<EOS>'] (True)\n",
      "take a step left (GotoLocation) -> ['GotoLocation', '<EOS>'] (True)\n",
      "open the cabinet and place the cup inside (PutObject) -> ['PutObject', '<EOS>'] (True)\n",
      "take a few step right to the microwave (GotoLocation) -> ['GotoLocation', '<EOS>'] (True)\n",
      "heat the mug in the microwave (HeatObject) -> ['HeatObject', '<EOS>'] (True)\n",
      "take a step left (GotoLocation) -> ['GotoLocation', '<EOS>'] (True)\n",
      "pick up the coffee mug on the coffee maker (PickupObject) -> ['PickupObject', '<EOS>'] (True)\n",
      "take the mug out of the coffee maker (PickupObject) -> ['PickupObject', '<EOS>'] (True)\n",
      "take a step left (GotoLocation) -> ['GotoLocation', '<EOS>'] (True)\n",
      "heat the mug in the microwave (HeatObject) -> ['HeatObject', '<EOS>'] (True)\n",
      "take a step left (GotoLocation) -> ['GotoLocation', '<EOS>'] (True)\n",
      "walk to face coffee maker (GotoLocation) -> ['GotoLocation', '<EOS>'] (True)\n",
      "remove mug from inside coffee maker (PickupObject) -> ['PickupObject', '<EOS>'] (True)\n",
      "walk to face microwave (GotoLocation) -> ['GotoLocation', '<EOS>'] (True)\n",
      "heat mug in microwave remove from microwave (HeatObject) -> ['HeatObject', '<EOS>'] (True)\n",
      "gaze to the cabinet left of the microwave (GotoLocation) -> ['GotoLocation', '<EOS>'] (True)\n",
      "put mug inside cabinet (PutObject) -> ['PutObject', '<EOS>'] (True)\n",
      "pick up the mug from the coffee machine (PickupObject) -> ['PickupObject', '<EOS>'] (True)\n",
      "walk back to the coffee machine (GotoLocation) -> ['GotoLocation', '<EOS>'] (True)\n",
      "place the mug in the coffee machine (PutObject) -> ['PutObject', '<EOS>'] (True)\n",
      "pick up the mug on the coffee maker (PickupObject) -> ['PickupObject', '<EOS>'] (True)\n",
      "put the mug on the coffee maker (PutObject) -> ['PutObject', '<EOS>'] (True)\n",
      "walk to the coffee pot (GotoLocation) -> ['GotoLocation', '<EOS>'] (True)\n",
      "carry the cup to the microwave (GotoLocation) -> ['GotoLocation', '<EOS>'] (True)\n",
      "put the coffee cup in the microwave (HeatObject) -> ['PutObject', '<EOS>'] (False)\n",
      "take the coffee cup out of the microwave (GotoLocation) -> ['GotoLocation', '<EOS>'] (True)\n",
      "carry the cup back to the coffee pot (PutObject) -> ['GotoLocation', '<EOS>'] (False)\n",
      "put the mug on the coffee maker (PutObject) -> ['PutObject', '<EOS>'] (True)\n",
      "heat the mug inside of the microwave (HeatObject) -> ['HeatObject', '<EOS>'] (True)\n",
      "put the mug at the coffee maker (PutObject) -> ['PutObject', '<EOS>'] (True)\n",
      "pick the white mug up from the counter (PickupObject) -> ['PickupObject', '<EOS>'] (True)\n",
      "turn left and then right to face the stove (GotoLocation) -> ['GotoLocation', '<EOS>'] (True)\n",
      "pick up the coffee mug from the counter (PickupObject) -> ['PickupObject', '<EOS>'] (True)\n",
      "pick up the mug behind the spatula (PickupObject) -> ['PickupObject', '<EOS>'] (True)\n",
      "place the mug under the coffee maker (PutObject) -> ['PutObject', '<EOS>'] (True)\n",
      "pick up a potato from the counter (PickupObject) -> ['PickupObject', '<EOS>'] (True)\n",
      "turn left to the microwave (GotoLocation) -> ['GotoLocation', '<EOS>'] (True)\n",
      "heat the potato in the microwave (HeatObject) -> ['HeatObject', '<EOS>'] (True)\n",
      "put the potato in the trash can (PutObject) -> ['PutObject', '<EOS>'] (True)\n",
      "walk to the sink on your left (GotoLocation) -> ['GotoLocation', '<EOS>'] (True)\n",
      "pick up the potato from the sink (PickupObject) -> ['PickupObject', '<EOS>'] (True)\n",
      "place the potato in the black trash can (PutObject) -> ['PutObject', '<EOS>'] (True)\n",
      "pick up the potato that is in the sink (PickupObject) -> ['PickupObject', '<EOS>'] (True)\n",
      "place the potato in the trash bin (PutObject) -> ['PutObject', '<EOS>'] (True)\n",
      "pick up the potato that is on the counter (PickupObject) -> ['PickupObject', '<EOS>'] (True)\n",
      "go right to the microwave raise the potato up (GotoLocation) -> ['GotoLocation', '<EOS>'] (True)\n",
      "put the potato in the garbage can (PutObject) -> ['PutObject', '<EOS>'] (True)\n",
      "put the potato in the trash can (PutObject) -> ['PutObject', '<EOS>'] (True)\n",
      "pick up one potato from the counter (PickupObject) -> ['PickupObject', '<EOS>'] (True)\n",
      "put the potato inside the trash can (PutObject) -> ['PutObject', '<EOS>'] (True)\n",
      "pick up the knife on the table (PickupObject) -> ['PickupObject', '<EOS>'] (True)\n",
      "cut the potato in the trash can into slice (SliceObject) -> ['SliceObject', '<EOS>'] (True)\n",
      "place the knife in the trash can (PutObject) -> ['PutObject', '<EOS>'] (True)\n",
      "place the potato slice in the fridge (PutObject) -> ['PutObject', '<EOS>'] (True)\n",
      "pick up the knife on the counter (PickupObject) -> ['PickupObject', '<EOS>'] (True)\n",
      "cut the potato in the trash can (SliceObject) -> ['SliceObject', '<EOS>'] (True)\n",
      "put the knife in the trash can (PutObject) -> ['PutObject', '<EOS>'] (True)\n",
      "turn left and go to the stove (GotoLocation) -> ['GotoLocation', '<EOS>'] (True)\n",
      "turn left and go to the fridge (GotoLocation) -> ['GotoLocation', '<EOS>'] (True)\n",
      "pick up the gray knife from the table (PickupObject) -> ['PickupObject', '<EOS>'] (True)\n",
      "place the knife in the trash can (PutObject) -> ['PutObject', '<EOS>'] (True)\n",
      "place the potato slice in the refrigerator (PutObject) -> ['PutObject', '<EOS>'] (True)\n",
      "move around to the table (GotoLocation) -> ['GotoLocation', '<EOS>'] (True)\n",
      "pick up a knife from the table (PickupObject) -> ['PickupObject', '<EOS>'] (True)\n",
      "move forward to the fridge (GotoLocation) -> ['GotoLocation', '<EOS>'] (True)\n",
      "slice the potato in the fridge (SliceObject) -> ['SliceObject', '<EOS>'] (True)\n",
      "turn around to the shelf (GotoLocation) -> ['GotoLocation', '<EOS>'] (True)\n",
      "place the knife on the shelf (PutObject) -> ['PutObject', '<EOS>'] (True)\n",
      "turn right to the fridge (GotoLocation) -> ['GotoLocation', '<EOS>'] (True)\n",
      "pick up a slice of the potato (PickupObject) -> ['PickupObject', '<EOS>'] (True)\n",
      "move right to the oven (GotoLocation) -> ['GotoLocation', '<EOS>'] (True)\n",
      "move left to the fridge (GotoLocation) -> ['GotoLocation', '<EOS>'] (True)\n",
      "place the cooked slice in the fridge (PutObject) -> ['PutObject', '<EOS>'] (True)\n",
      "pick up the knife on the counter (PickupObject) -> ['PickupObject', '<EOS>'] (True)\n",
      "turn left and step forward to face the shelf (GotoLocation) -> ['GotoLocation', '<EOS>'] (True)\n",
      "place the knife on the shelf (PutObject) -> ['PutObject', '<EOS>'] (True)\n",
      "turn right to face the fridge (GotoLocation) -> ['GotoLocation', '<EOS>'] (True)\n",
      "pick up a slice of potato in the fridge (PickupObject) -> ['PickupObject', '<EOS>'] (True)\n",
      "place the potato slice in the fridge (PutObject) -> ['PutObject', '<EOS>'] (True)\n",
      "go back across the room to the fridge (GotoLocation) -> ['GotoLocation', '<EOS>'] (True)\n",
      "put the knife on the top shelf (PutObject) -> ['PutObject', '<EOS>'] (True)\n",
      "go back to the fridge (GotoLocation) -> ['GotoLocation', '<EOS>'] (True)\n",
      "pick up a slice of potato in the fridge (PickupObject) -> ['PickupObject', '<EOS>'] (True)\n",
      "turn right and go to the microwave (GotoLocation) -> ['GotoLocation', '<EOS>'] (True)\n",
      "turn left and go back to the fridge (GotoLocation) -> ['GotoLocation', '<EOS>'] (True)\n",
      "grab the knife off of the counter (PickupObject) -> ['PickupObject', '<EOS>'] (True)\n",
      "look up at the counter (GotoLocation) -> ['GotoLocation', '<EOS>'] (True)\n",
      "slice the potato on the counter (SliceObject) -> ['SliceObject', '<EOS>'] (True)\n",
      "put the knife down on the counter (PutObject) -> ['PutObject', '<EOS>'] (True)\n",
      "grab a potato slice off of the counter (PickupObject) -> ['PickupObject', '<EOS>'] (True)\n",
      "turn left and go to the microwave (GotoLocation) -> ['GotoLocation', '<EOS>'] (True)\n",
      "turn left and go to the fridge (GotoLocation) -> ['GotoLocation', '<EOS>'] (True)\n",
      "put the potato slice in the fridge (PutObject) -> ['PutObject', '<EOS>'] (True)\n",
      "move right to the table (GotoLocation) -> ['GotoLocation', '<EOS>'] (True)\n",
      "pick up the knife (PickupObject) -> ['PickupObject', '<EOS>'] (True)\n",
      "move up to the potato on the table (GotoLocation) -> ['GotoLocation', '<EOS>'] (True)\n",
      "slice the potato on the table (SliceObject) -> ['SliceObject', '<EOS>'] (True)\n",
      "drop the knife on the coffee maker (PutObject) -> ['PutObject', '<EOS>'] (True)\n",
      "pick up a slice of the potato (PickupObject) -> ['PickupObject', '<EOS>'] (True)\n",
      "move left to the oven (GotoLocation) -> ['GotoLocation', '<EOS>'] (True)\n",
      "move left to the fridge (GotoLocation) -> ['GotoLocation', '<EOS>'] (True)\n",
      "place the potato in the fridge (PutObject) -> ['PutObject', '<EOS>'] (True)\n",
      "turn right and go to the coffee maker (GotoLocation) -> ['GotoLocation', '<EOS>'] (True)\n",
      "pick up the knife on the counter (PickupObject) -> ['PickupObject', '<EOS>'] (True)\n",
      "look up at the potato on the counter (GotoLocation) -> ['GotoLocation', '<EOS>'] (True)\n",
      "cut the potato on the counter (SliceObject) -> ['SliceObject', '<EOS>'] (True)\n",
      "pick up a slice of potato (PickupObject) -> ['PickupObject', '<EOS>'] (True)\n",
      "go left to the microwave above the stove (GotoLocation) -> ['GotoLocation', '<EOS>'] (True)\n"
     ]
    },
    {
     "name": "stdout",
     "output_type": "stream",
     "text": [
      "turn left and go to the fridge (GotoLocation) -> ['GotoLocation', '<EOS>'] (True)\n",
      "pick up the tomato from the sink (PickupObject) -> ['PickupObject', '<EOS>'] (True)\n",
      "place the tomato inside of the bin (PutObject) -> ['PutObject', '<EOS>'] (True)\n",
      "turn around and face the sink (GotoLocation) -> ['GotoLocation', '<EOS>'] (True)\n",
      "pick the tomato up from the sink (PickupObject) -> ['PickupObject', '<EOS>'] (True)\n",
      "turn around and face the microwave above the stove (GotoLocation) -> ['GotoLocation', '<EOS>'] (True)\n",
      "put the tomato in the trash can (PutObject) -> ['PutObject', '<EOS>'] (True)\n",
      "turn around and walk to the sink (GotoLocation) -> ['GotoLocation', '<EOS>'] (True)\n",
      "pick up the tomato from the sink (PickupObject) -> ['PickupObject', '<EOS>'] (True)\n",
      "turn around and look up (GotoLocation) -> ['GotoLocation', '<EOS>'] (True)\n",
      "put the tomato in the trash can (PutObject) -> ['PutObject', '<EOS>'] (True)\n",
      "pick up the tomato from the kitchen island (PickupObject) -> ['PickupObject', '<EOS>'] (True)\n",
      "place the tomato inside the black bin (PutObject) -> ['PutObject', '<EOS>'] (True)\n",
      "put the tomato in the garbage (PutObject) -> ['PutObject', '<EOS>'] (True)\n",
      "pick up the tomato on the island (PickupObject) -> ['PickupObject', '<EOS>'] (True)\n",
      "heat the tomato in the microwave (HeatObject) -> ['HeatObject', '<EOS>'] (True)\n",
      "put the heated tomato in the trash can (PutObject) -> ['PutObject', '<EOS>'] (True)\n",
      "turn around and turn right at the toaster (GotoLocation) -> ['GotoLocation', '<EOS>'] (True)\n",
      "place the tomato in the trash (PutObject) -> ['PutObject', '<EOS>'] (True)\n",
      "pick up the tomato (PickupObject) -> ['PickupObject', '<EOS>'] (True)\n",
      "take the tomato from the counter (PickupObject) -> ['PickupObject', '<EOS>'] (True)\n",
      "move a bit to the right (GotoLocation) -> ['GotoLocation', '<EOS>'] (True)\n",
      "put the tomato in the sink (PutObject) -> ['PutObject', '<EOS>'] (True)\n",
      "pick up the knife from the sink (PickupObject) -> ['PickupObject', '<EOS>'] (True)\n",
      "slice the tomato in the sink (SliceObject) -> ['SliceObject', '<EOS>'] (True)\n",
      "put the knife in the sink (PutObject) -> ['PutObject', '<EOS>'] (True)\n",
      "pick up a tomato slice from the sink (PickupObject) -> ['PickupObject', '<EOS>'] (True)\n",
      "turn around go to the microwave (GotoLocation) -> ['GotoLocation', '<EOS>'] (True)\n",
      "turn around go to the sink (GotoLocation) -> ['GotoLocation', '<EOS>'] (True)\n",
      "put the tomato slice in the sink (PutObject) -> ['PutObject', '<EOS>'] (True)\n",
      "turn right and face the sink to your left (GotoLocation) -> ['GotoLocation', '<EOS>'] (True)\n",
      "grab a tomato off of the counter (PickupObject) -> ['PickupObject', '<EOS>'] (True)\n",
      "turn right and go to the sink (GotoLocation) -> ['GotoLocation', '<EOS>'] (True)\n",
      "put the tomato in the sink (PutObject) -> ['PutObject', '<EOS>'] (True)\n",
      "grab the knife out of the sink (PickupObject) -> ['PickupObject', '<EOS>'] (True)\n",
      "slice the tomato in the sink (SliceObject) -> ['SliceObject', '<EOS>'] (True)\n",
      "put the knife in the sink (PutObject) -> ['PutObject', '<EOS>'] (True)\n",
      "grab a slice of tomato (PickupObject) -> ['PickupObject', '<EOS>'] (True)\n",
      "turn around and go to the microwave (GotoLocation) -> ['GotoLocation', '<EOS>'] (True)\n",
      "turn around and go to the sink (GotoLocation) -> ['GotoLocation', '<EOS>'] (True)\n",
      "put the sliced tomato in the sink (PutObject) -> ['PutObject', '<EOS>'] (True)\n",
      "turn left and face the counter on your right (GotoLocation) -> ['GotoLocation', '<EOS>'] (True)\n",
      "place the warm tomato slice in the sink (PutObject) -> ['PutObject', '<EOS>'] (True)\n",
      "turn to face the tomato on the counter (GotoLocation) -> ['GotoLocation', '<EOS>'] (True)\n",
      "slice the tomato with the smaller knife (SliceObject) -> ['SliceObject', '<EOS>'] (True)\n",
      "turn around to face the sink (GotoLocation) -> ['GotoLocation', '<EOS>'] (True)\n",
      "put the knife in the sink (PutObject) -> ['PutObject', '<EOS>'] (True)\n",
      "pick up a slice of tomato from the countertop (PickupObject) -> ['PickupObject', '<EOS>'] (True)\n",
      "turn right and walk to the microwave (GotoLocation) -> ['GotoLocation', '<EOS>'] (True)\n",
      "turn left to walk back to the sink (GotoLocation) -> ['GotoLocation', '<EOS>'] (True)\n",
      "put the slice of tomato in the sink (PutObject) -> ['PutObject', '<EOS>'] (True)\n",
      "pick up the knife on the counter (PickupObject) -> ['PickupObject', '<EOS>'] (True)\n",
      "cut the tomato on the counter into slice (SliceObject) -> ['SliceObject', '<EOS>'] (True)\n",
      "turn around to face the sink (GotoLocation) -> ['GotoLocation', '<EOS>'] (True)\n",
      "place the knife in the sink (PutObject) -> ['PutObject', '<EOS>'] (True)\n",
      "turn around to face the tomato on the counter (GotoLocation) -> ['GotoLocation', '<EOS>'] (True)\n",
      "pick up a slice of tomato on the counter (PickupObject) -> ['PickupObject', '<EOS>'] (True)\n",
      "turn around and step forward to face the sink (GotoLocation) -> ['GotoLocation', '<EOS>'] (True)\n",
      "place the tomato slice in the sink (PutObject) -> ['PutObject', '<EOS>'] (True)\n",
      "pick up the knife on the counter (PickupObject) -> ['PickupObject', '<EOS>'] (True)\n",
      "turn around to face the sink (GotoLocation) -> ['GotoLocation', '<EOS>'] (True)\n",
      "cut the tomato in the sink into slice (SliceObject) -> ['SliceObject', '<EOS>'] (True)\n",
      "place the knife in the sink (PutObject) -> ['PutObject', '<EOS>'] (True)\n",
      "pick up a slice of tomato in the sink (PickupObject) -> ['PickupObject', '<EOS>'] (True)\n",
      "turn around to face the microwave (GotoLocation) -> ['GotoLocation', '<EOS>'] (True)\n",
      "turn around to face the sink (GotoLocation) -> ['GotoLocation', '<EOS>'] (True)\n",
      "place the tomato slice in the sink (PutObject) -> ['PutObject', '<EOS>'] (True)\n",
      "pick up the knife on the counter (PickupObject) -> ['PickupObject', '<EOS>'] (True)\n",
      "cut a slice out of the tomato (SliceObject) -> ['SliceObject', '<EOS>'] (True)\n",
      "place tomato in the microwave (GotoLocation) -> ['PutObject', '<EOS>'] (False)\n",
      "turn around and go back to the sink (GotoLocation) -> ['GotoLocation', '<EOS>'] (True)\n",
      "place the tomato in the sink (PutObject) -> ['PutObject', '<EOS>'] (True)\n",
      "turn around and go to the sink (GotoLocation) -> ['GotoLocation', '<EOS>'] (True)\n",
      "cut the tomato in the sink into slice (SliceObject) -> ['SliceObject', '<EOS>'] (True)\n",
      "place the knife in the sink (PutObject) -> ['PutObject', '<EOS>'] (True)\n",
      "pick up one of the tomato slice (PickupObject) -> ['PickupObject', '<EOS>'] (True)\n",
      "turn back around to the sink (GotoLocation) -> ['GotoLocation', '<EOS>'] (True)\n",
      "place the tomato slice in the sink (PutObject) -> ['PutObject', '<EOS>'] (True)\n",
      "take the apple closer to you from the sink (PickupObject) -> ['PickupObject', '<EOS>'] (True)\n",
      "take the apple from the sink (PickupObject) -> ['PickupObject', '<EOS>'] (True)\n",
      "take the small knife from under the lettuce (PickupObject) -> ['PickupObject', '<EOS>'] (True)\n",
      "cut both apple into piece on the counter (SliceObject) -> ['SliceObject', '<EOS>'] (True)\n",
      "pick up the green apple closest to you (PickupObject) -> ['PickupObject', '<EOS>'] (True)\n",
      "turn around and walk back to the sink (GotoLocation) -> ['GotoLocation', '<EOS>'] (True)\n",
      "pick up the remaining apple in the sink (PickupObject) -> ['PickupObject', '<EOS>'] (True)\n",
      "cut both apple with the knife (SliceObject) -> ['SliceObject', '<EOS>'] (True)\n",
      "pick up the apple from the sink (PickupObject) -> ['PickupObject', '<EOS>'] (True)\n",
      "slice the left and right apple into section (SliceObject) -> ['SliceObject', '<EOS>'] (True)\n",
      "pick up the apple that is in the sink (PickupObject) -> ['PickupObject', '<EOS>'] (True)\n",
      "turn left and walk to the sink (GotoLocation) -> ['GotoLocation', '<EOS>'] (True)\n",
      "pick up the green apple closest to you (PickupObject) -> ['PickupObject', '<EOS>'] (True)\n",
      "turn left and walk to the coffee machine (GotoLocation) -> ['GotoLocation', '<EOS>'] (True)\n",
      "turn left and walk to the sink (GotoLocation) -> ['GotoLocation', '<EOS>'] (True)\n",
      "pick up the green apple from the sink (PickupObject) -> ['PickupObject', '<EOS>'] (True)\n",
      "turn left and walk to the coffee machine (GotoLocation) -> ['GotoLocation', '<EOS>'] (True)\n",
      "pick up the knife closest to the stove (PickupObject) -> ['PickupObject', '<EOS>'] (True)\n",
      "turn right and walk to the coffee machine (GotoLocation) -> ['GotoLocation', '<EOS>'] (True)\n",
      "cut up both apple on the counter (SliceObject) -> ['SliceObject', '<EOS>'] (True)\n",
      "turn left and move to the sink again (GotoLocation) -> ['GotoLocation', '<EOS>'] (True)\n",
      "pick up the remaining apple in the sink (PickupObject) -> ['PickupObject', '<EOS>'] (True)\n",
      "turn right and go to the coffee maker (GotoLocation) -> ['GotoLocation', '<EOS>'] (True)\n",
      "pick up the green apple from the trash can (PickupObject) -> ['PickupObject', '<EOS>'] (True)\n",
      "put the apple on the counter under the knife (PutObject) -> ['PutObject', '<EOS>'] (True)\n",
      "pick up the knife that is on the counter (PickupObject) -> ['PickupObject', '<EOS>'] (True)\n",
      "take the knife and slice the apple in half (SliceObject) -> ['GotoLocation', '<EOS>'] (False)\n",
      "turn around and face the sink (GotoLocation) -> ['GotoLocation', '<EOS>'] (True)\n",
      "put the knife into the sink (PutObject) -> ['PutObject', '<EOS>'] (True)\n",
      "turn around to face the counter (GotoLocation) -> ['GotoLocation', '<EOS>'] (True)\n"
     ]
    },
    {
     "name": "stdout",
     "output_type": "stream",
     "text": [
      "turn left and head to the trash can (GotoLocation) -> ['GotoLocation', '<EOS>'] (True)\n",
      "grab the apple out of the trash can (PickupObject) -> ['PickupObject', '<EOS>'] (True)\n",
      "turn around and head to the counter (GotoLocation) -> ['GotoLocation', '<EOS>'] (True)\n",
      "place the apple down on the counter (PutObject) -> ['PutObject', '<EOS>'] (True)\n",
      "pick up the knife off of the counter (PickupObject) -> ['PickupObject', '<EOS>'] (True)\n",
      "cut the apple into three slice (SliceObject) -> ['SliceObject', '<EOS>'] (True)\n",
      "turn around and stop at the sink (GotoLocation) -> ['GotoLocation', '<EOS>'] (True)\n",
      "cut the apple in the sink into three slice (SliceObject) -> ['SliceObject', '<EOS>'] (True)\n",
      "put the knife into the sink (PutObject) -> ['PutObject', '<EOS>'] (True)\n",
      "grab one of the apple slice (PickupObject) -> ['PickupObject', '<EOS>'] (True)\n",
      "turn around and face the counter (GotoLocation) -> ['GotoLocation', '<EOS>'] (True)\n",
      "put the apple slice on the counter (PutObject) -> ['PutObject', '<EOS>'] (True)\n",
      "pick up the green apple in the trash can (PickupObject) -> ['PickupObject', '<EOS>'] (True)\n",
      "place the apple on the edge of the counter (PutObject) -> ['PutObject', '<EOS>'] (True)\n",
      "pick up the knife on the counter (PickupObject) -> ['PickupObject', '<EOS>'] (True)\n",
      "cut the apple into three piece (SliceObject) -> ['SliceObject', '<EOS>'] (True)\n",
      "turn around and approach the sink (GotoLocation) -> ['GotoLocation', '<EOS>'] (True)\n",
      "cut the apple in the sink into three piece (SliceObject) -> ['SliceObject', '<EOS>'] (True)\n",
      "place the knife in the sink (PutObject) -> ['PutObject', '<EOS>'] (True)\n",
      "turn around and step forward to face the counter (GotoLocation) -> ['GotoLocation', '<EOS>'] (True)\n",
      "pick the apple up out of the black bin (PickupObject) -> ['PickupObject', '<EOS>'] (True)\n",
      "put the apple on to the counter (PutObject) -> ['PutObject', '<EOS>'] (True)\n",
      "pick up the knife from the counter (PickupObject) -> ['PickupObject', '<EOS>'] (True)\n",
      "cut the apple on the counter into section (SliceObject) -> ['SliceObject', '<EOS>'] (True)\n",
      "cut the apple in the sink into section (SliceObject) -> ['SliceObject', '<EOS>'] (True)\n",
      "place the knife into the sink (PutObject) -> ['PutObject', '<EOS>'] (True)\n",
      "pick up a section of apple (PickupObject) -> ['PickupObject', '<EOS>'] (True)\n",
      "place apple section to the right of other apple (PutObject) -> ['PutObject', '<EOS>'] (True)\n",
      "take the apple on the right from the sink (PickupObject) -> ['PickupObject', '<EOS>'] (True)\n",
      "turn around go to the counter over the dishwasher (GotoLocation) -> ['GotoLocation', '<EOS>'] (True)\n",
      "stay at the counter (GotoLocation) -> ['GotoLocation', '<EOS>'] (True)\n",
      "take the knife from the counter (PickupObject) -> ['PickupObject', '<EOS>'] (True)\n",
      "stay at the counter (GotoLocation) -> ['GotoLocation', '<EOS>'] (True)\n",
      "cut the apple into piece (SliceObject) -> ['SliceObject', '<EOS>'] (True)\n",
      "turn around go to the sink (GotoLocation) -> ['GotoLocation', '<EOS>'] (True)\n",
      "cut the apple in the sink into piece (SliceObject) -> ['SliceObject', '<EOS>'] (True)\n",
      "put the knife in the sink (PutObject) -> ['PutObject', '<EOS>'] (True)\n",
      "take a piece of apple from the sink (PickupObject) -> ['PickupObject', '<EOS>'] (True)\n",
      "turn around go to the counter over the dishwasher (GotoLocation) -> ['GotoLocation', '<EOS>'] (True)\n",
      "turn around to face the counter (GotoLocation) -> ['GotoLocation', '<EOS>'] (True)\n",
      "look down towards the edge of the counter (GotoLocation) -> ['GotoLocation', '<EOS>'] (True)\n",
      "move towards the apple with the knife (GotoLocation) -> ['GotoLocation', '<EOS>'] (True)\n",
      "cut the apple on the counter with the knife (SliceObject) -> ['SliceObject', '<EOS>'] (True)\n",
      "turn around and face the sink (GotoLocation) -> ['GotoLocation', '<EOS>'] (True)\n",
      "cut the apple that is inside of the sink (SliceObject) -> ['SliceObject', '<EOS>'] (True)\n",
      "place the knife into the sink (PutObject) -> ['PutObject', '<EOS>'] (True)\n",
      "pick up an apple slice out of the sink (PickupObject) -> ['PickupObject', '<EOS>'] (True)\n",
      "turn around to face the counter (GotoLocation) -> ['GotoLocation', '<EOS>'] (True)\n",
      "walk around the room the face the sink (GotoLocation) -> ['GotoLocation', '<EOS>'] (True)\n",
      "take an apple from the sink (PickupObject) -> ['PickupObject', '<EOS>'] (True)\n",
      "turn around to face the counter (GotoLocation) -> ['GotoLocation', '<EOS>'] (True)\n",
      "place the apple on the counter (PutObject) -> ['PutObject', '<EOS>'] (True)\n",
      "turn to face the knife on the sink (GotoLocation) -> ['GotoLocation', '<EOS>'] (True)\n",
      "pick up the knife on the counter (PickupObject) -> ['PickupObject', '<EOS>'] (True)\n",
      "turn to face the apple on the counter (GotoLocation) -> ['GotoLocation', '<EOS>'] (True)\n",
      "cut the apple into 3 slice (SliceObject) -> ['SliceObject', '<EOS>'] (True)\n",
      "turn around to face the sink (GotoLocation) -> ['GotoLocation', '<EOS>'] (True)\n",
      "cut the apple in the sink into 3 slice (SliceObject) -> ['SliceObject', '<EOS>'] (True)\n",
      "put the knife in the sink (PutObject) -> ['PutObject', '<EOS>'] (True)\n",
      "turn around to face the counter (GotoLocation) -> ['GotoLocation', '<EOS>'] (True)\n",
      "go to the desk directly behind you (GotoLocation) -> ['GotoLocation', '<EOS>'] (True)\n",
      "put the disc in the safe (PutObject) -> ['PutObject', '<EOS>'] (True)\n",
      "return to the desk (GotoLocation) -> ['GotoLocation', '<EOS>'] (True)\n",
      "carry the disc to the corner safe (GotoLocation) -> ['GotoLocation', '<EOS>'] (True)\n",
      "pick up the cd from the desk (PickupObject) -> ['PickupObject', '<EOS>'] (True)\n",
      "place the cd in the vault (PutObject) -> ['PutObject', '<EOS>'] (True)\n",
      "pick up the cd from the desk (PickupObject) -> ['PickupObject', '<EOS>'] (True)\n",
      "place the cd in the vault and close (PutObject) -> ['PutObject', '<EOS>'] (True)\n",
      "move to the desk closest to the widow (GotoLocation) -> ['GotoLocation', '<EOS>'] (True)\n",
      "pick up the cd from the desk (PickupObject) -> ['PickupObject', '<EOS>'] (True)\n",
      "place the cd inside and close the door (PutObject) -> ['PutObject', '<EOS>'] (True)\n",
      "move to the desk closest to the widow (GotoLocation) -> ['GotoLocation', '<EOS>'] (True)\n",
      "pick up the cd from the desk (PickupObject) -> ['PickupObject', '<EOS>'] (True)\n",
      "place the cd inside and close the door (PutObject) -> ['PutObject', '<EOS>'] (True)\n",
      "turn around and head to the desk (GotoLocation) -> ['GotoLocation', '<EOS>'] (True)\n",
      "pick up the cd on the left (PickupObject) -> ['PickupObject', '<EOS>'] (True)\n",
      "put the cd in the safe (PutObject) -> ['PutObject', '<EOS>'] (True)\n",
      "face the desk and pick up the cd (PickupObject) -> ['PickupObject', '<EOS>'] (True)\n",
      "put the cd in the safe (PutObject) -> ['PutObject', '<EOS>'] (True)\n",
      "pick up the cd off of the desk (PickupObject) -> ['PickupObject', '<EOS>'] (True)\n",
      "pick up another cd off of the desk (PickupObject) -> ['PickupObject', '<EOS>'] (True)\n",
      "head back to the safe (GotoLocation) -> ['GotoLocation', '<EOS>'] (True)\n",
      "pick up the cd on the desk (PickupObject) -> ['PickupObject', '<EOS>'] (True)\n",
      "place the cd in the vault and close it (PutObject) -> ['PutObject', '<EOS>'] (True)\n",
      "turn left towards the desk (GotoLocation) -> ['GotoLocation', '<EOS>'] (True)\n",
      "pick up the cd from the desk (PickupObject) -> ['PickupObject', '<EOS>'] (True)\n",
      "turn around towards the vault (GotoLocation) -> ['GotoLocation', '<EOS>'] (True)\n",
      "take the cd from the desk (PickupObject) -> ['PickupObject', '<EOS>'] (True)\n",
      "turn left go to the desk (GotoLocation) -> ['GotoLocation', '<EOS>'] (True)\n",
      "take the cd from the desk (PickupObject) -> ['PickupObject', '<EOS>'] (True)\n",
      "turn around go back to the safe (GotoLocation) -> ['GotoLocation', '<EOS>'] (True)\n",
      "pick up the cd laying on the table (PickupObject) -> ['PickupObject', '<EOS>'] (True)\n",
      "pick up the cd laying on the dresser (PickupObject) -> ['PickupObject', '<EOS>'] (True)\n",
      "turn around and go to the desk (GotoLocation) -> ['GotoLocation', '<EOS>'] (True)\n",
      "grab the disk off of the desk (PickupObject) -> ['PickupObject', '<EOS>'] (True)\n",
      "put the disk in the safe (PutObject) -> ['PutObject', '<EOS>'] (True)\n",
      "pick up the second disk off of the desk (PickupObject) -> ['PickupObject', '<EOS>'] (True)\n",
      "turn around and walk back to the safe (GotoLocation) -> ['GotoLocation', '<EOS>'] (True)\n",
      "put the cd in the safe (PutObject) -> ['PutObject', '<EOS>'] (True)\n",
      "head back to the safe (GotoLocation) -> ['GotoLocation', '<EOS>'] (True)\n",
      "put the cd in the safe (PutObject) -> ['PutObject', '<EOS>'] (True)\n",
      "turn around and go to the table (GotoLocation) -> ['GotoLocation', '<EOS>'] (True)\n",
      "pick up the cd on the right (PickupObject) -> ['PickupObject', '<EOS>'] (True)\n",
      "pick up the remaining cd (PickupObject) -> ['PickupObject', '<EOS>'] (True)\n",
      "turn to face black rectangular table (GotoLocation) -> ['GotoLocation', '<EOS>'] (True)\n",
      "pick up key from table (PickupObject) -> ['PickupObject', '<EOS>'] (True)\n",
      "walk to face small white safe (GotoLocation) -> ['GotoLocation', '<EOS>'] (True)\n",
      "put key inside safe (PutObject) -> ['PutObject', '<EOS>'] (True)\n"
     ]
    },
    {
     "name": "stdout",
     "output_type": "stream",
     "text": [
      "walk to face white couch (GotoLocation) -> ['GotoLocation', '<EOS>'] (True)\n",
      "pick up key from couch (PickupObject) -> ['PickupObject', '<EOS>'] (True)\n",
      "walk to face small white safe (GotoLocation) -> ['GotoLocation', '<EOS>'] (True)\n",
      "put key inside safe (PutObject) -> ['PutObject', '<EOS>'] (True)\n",
      "turn around then face the couch to your right (GotoLocation) -> ['GotoLocation', '<EOS>'] (True)\n",
      "place the key in the safe on the floor (PutObject) -> ['PutObject', '<EOS>'] (True)\n",
      "place the key in the safe on the floor (PutObject) -> ['PutObject', '<EOS>'] (True)\n",
      "turn around go to the white sofa (GotoLocation) -> ['GotoLocation', '<EOS>'] (True)\n",
      "pick up the key-chain from the sofa (PickupObject) -> ['PickupObject', '<EOS>'] (True)\n",
      "pick the key-chain from that sofa (PickupObject) -> ['PickupObject', '<EOS>'] (True)\n",
      "go back to the safe (GotoLocation) -> ['GotoLocation', '<EOS>'] (True)\n",
      "put the key-chain inside the safe and close it (PutObject) -> ['PutObject', '<EOS>'] (True)\n",
      "place the key in the safe on the floor (PutObject) -> ['PutObject', '<EOS>'] (True)\n",
      "place the key in the safe and close it (PutObject) -> ['PutObject', '<EOS>'] (True)\n",
      "pick up a shaker from the cabinet (PickupObject) -> ['PickupObject', '<EOS>'] (True)\n",
      "pick up a shaker from the cabinet (PickupObject) -> ['PickupObject', '<EOS>'] (True)\n",
      "pick up the salt shaker on the counter (PickupObject) -> ['PickupObject', '<EOS>'] (True)\n",
      "take a step left (GotoLocation) -> ['GotoLocation', '<EOS>'] (True)\n",
      "pick up the salt shaker on the counter (PickupObject) -> ['PickupObject', '<EOS>'] (True)\n",
      "take a step right (GotoLocation) -> ['GotoLocation', '<EOS>'] (True)\n",
      "move to the right and face the range (GotoLocation) -> ['GotoLocation', '<EOS>'] (True)\n",
      "put the pillow on the center of the sofa (PutObject) -> ['PutObject', '<EOS>'] (True)\n",
      "turn left to return to the blue chair (GotoLocation) -> ['GotoLocation', '<EOS>'] (True)\n",
      "pick up the pillow on the blue chair (PickupObject) -> ['PickupObject', '<EOS>'] (True)\n",
      "pick up a pillow from the chair (PickupObject) -> ['PickupObject', '<EOS>'] (True)\n",
      "move to the middle of the couch (GotoLocation) -> ['GotoLocation', '<EOS>'] (True)\n",
      "put the pillow on the couch (PutObject) -> ['PutObject', '<EOS>'] (True)\n",
      "pick up a pillow from the chair (PickupObject) -> ['PickupObject', '<EOS>'] (True)\n",
      "move to the middle of the couch (GotoLocation) -> ['GotoLocation', '<EOS>'] (True)\n",
      "put the pillow on the couch (PutObject) -> ['PutObject', '<EOS>'] (True)\n",
      "turn around and locate the chair (GotoLocation) -> ['GotoLocation', '<EOS>'] (True)\n",
      "pick up the pillow from the chair (PickupObject) -> ['PickupObject', '<EOS>'] (True)\n",
      "turn right and head for the sofa (GotoLocation) -> ['GotoLocation', '<EOS>'] (True)\n",
      "drop the pillow on the sofa (PutObject) -> ['PutObject', '<EOS>'] (True)\n",
      "turn left and head for the chair (GotoLocation) -> ['GotoLocation', '<EOS>'] (True)\n",
      "pick up the other pillow (PickupObject) -> ['PickupObject', '<EOS>'] (True)\n",
      "turn right towards the sofa (GotoLocation) -> ['GotoLocation', '<EOS>'] (True)\n",
      "place the pillow on the sofa (PutObject) -> ['PutObject', '<EOS>'] (True)\n",
      "pick up the pillow on the left (PickupObject) -> ['PickupObject', '<EOS>'] (True)\n",
      "turn left and walk to the pillow (GotoLocation) -> ['GotoLocation', '<EOS>'] (True)\n",
      "pick up the pillow (PickupObject) -> ['PickupObject', '<EOS>'] (True)\n",
      "go back to where you put the first pillow (GotoLocation) -> ['GotoLocation', '<EOS>'] (True)\n",
      "pick up the pillow to the left (PickupObject) -> ['PickupObject', '<EOS>'] (True)\n",
      "pick up the other pillow from the blue chair (PickupObject) -> ['PickupObject', '<EOS>'] (True)\n",
      "move to the right to face the tan sofa (GotoLocation) -> ['GotoLocation', '<EOS>'] (True)\n",
      "place the pillow next to the other pillow (PutObject) -> ['PutObject', '<EOS>'] (True)\n",
      "pick up a cushion on the left (PickupObject) -> ['PickupObject', '<EOS>'] (True)\n",
      "return to the grey chair (GotoLocation) -> ['GotoLocation', '<EOS>'] (True)\n",
      "pick up the last cushion on the chair (PickupObject) -> ['PickupObject', '<EOS>'] (True)\n",
      "return to the long white couch (GotoLocation) -> ['GotoLocation', '<EOS>'] (True)\n",
      "pick up the leftmost pillow on the blue chair (PickupObject) -> ['PickupObject', '<EOS>'] (True)\n",
      "turn left and go back to the blue chair (GotoLocation) -> ['GotoLocation', '<EOS>'] (True)\n",
      "pick up the pillow on the blue chair (PickupObject) -> ['PickupObject', '<EOS>'] (True)\n",
      "pick up the left pillow on the chair (PickupObject) -> ['PickupObject', '<EOS>'] (True)\n",
      "pick up the pillow on the chair (PickupObject) -> ['PickupObject', '<EOS>'] (True)\n",
      "turn left and walk over to the blue chair (GotoLocation) -> ['GotoLocation', '<EOS>'] (True)\n",
      "pick up the bar of soap from the counter (PickupObject) -> ['PickupObject', '<EOS>'] (True)\n",
      "turn left then head to the toilet tank (GotoLocation) -> ['GotoLocation', '<EOS>'] (True)\n",
      "pick up the soap on the tank (PickupObject) -> ['PickupObject', '<EOS>'] (True)\n",
      "turn left head to the sink counter (GotoLocation) -> ['GotoLocation', '<EOS>'] (True)\n",
      "pick up the soap on the counter (PickupObject) -> ['PickupObject', '<EOS>'] (True)\n",
      "turn to face the cabinet under the sink (GotoLocation) -> ['GotoLocation', '<EOS>'] (True)\n",
      "walk to the left-hand sink (GotoLocation) -> ['GotoLocation', '<EOS>'] (True)\n",
      "turn to face the cabinet under the right sink (GotoLocation) -> ['GotoLocation', '<EOS>'] (True)\n",
      "move further back from the counter (GotoLocation) -> ['GotoLocation', '<EOS>'] (True)\n",
      "pick up the bar of soap from the counter (PickupObject) -> ['PickupObject', '<EOS>'] (True)\n",
      "move further back from the counter (GotoLocation) -> ['GotoLocation', '<EOS>'] (True)\n",
      "turn around and go to the sink (GotoLocation) -> ['GotoLocation', '<EOS>'] (True)\n",
      "go to the left cabinet under the left sink (GotoLocation) -> ['GotoLocation', '<EOS>'] (True)\n",
      "go to the cleaning supply between the sink (GotoLocation) -> ['GotoLocation', '<EOS>'] (True)\n",
      "go to the left cabinet under the left sink (GotoLocation) -> ['GotoLocation', '<EOS>'] (True)\n",
      "turn around to walk to the sink (GotoLocation) -> ['GotoLocation', '<EOS>'] (True)\n",
      "turn to face the cabinet under the sink (GotoLocation) -> ['GotoLocation', '<EOS>'] (True)\n",
      "turn to face the sink (GotoLocation) -> ['GotoLocation', '<EOS>'] (True)\n",
      "turn to face the cabinet under the sink (GotoLocation) -> ['GotoLocation', '<EOS>'] (True)\n",
      "walk to face the sink on the left side (GotoLocation) -> ['GotoLocation', '<EOS>'] (True)\n",
      "pick up the bar of soap from the sink (PickupObject) -> ['PickupObject', '<EOS>'] (True)\n",
      "look down and face the sink counter (GotoLocation) -> ['GotoLocation', '<EOS>'] (True)\n",
      "pick up the soap on the counter (PickupObject) -> ['PickupObject', '<EOS>'] (True)\n",
      "go towards the left sink (GotoLocation) -> ['GotoLocation', '<EOS>'] (True)\n",
      "pick up the soap in the sink (PickupObject) -> ['PickupObject', '<EOS>'] (True)\n",
      "take a step back from the sink (GotoLocation) -> ['GotoLocation', '<EOS>'] (True)\n",
      "go back to the sink (GotoLocation) -> ['GotoLocation', '<EOS>'] (True)\n",
      "pick up the soap bar from the left sink (PickupObject) -> ['PickupObject', '<EOS>'] (True)\n",
      "turn all-way around to face the sink cabinet (GotoLocation) -> ['GotoLocation', '<EOS>'] (True)\n",
      "place the soap in the trash bin (PutObject) -> ['PutObject', '<EOS>'] (True)\n",
      "place the soap in the trash bin (PutObject) -> ['PutObject', '<EOS>'] (True)\n",
      "place the bar inside of the garbage bin (PutObject) -> ['PutObject', '<EOS>'] (True)\n",
      "place the bar of soap in the garbage bin (PutObject) -> ['PutObject', '<EOS>'] (True)\n",
      "grab a bar of soap off of the counter (PickupObject) -> ['PickupObject', '<EOS>'] (True)\n",
      "turn around and go to the trash can (GotoLocation) -> ['GotoLocation', '<EOS>'] (True)\n",
      "put the soap in the trash can (PutObject) -> ['PutObject', '<EOS>'] (True)\n",
      "turn right and go to the left sink (GotoLocation) -> ['GotoLocation', '<EOS>'] (True)\n",
      "turn around and go to the trash can (GotoLocation) -> ['GotoLocation', '<EOS>'] (True)\n",
      "put the soap in the trash can (PutObject) -> ['PutObject', '<EOS>'] (True)\n",
      "move to the counter in between the two sink (GotoLocation) -> ['GotoLocation', '<EOS>'] (True)\n",
      "put the bar of soap down in the bin (PutObject) -> ['PutObject', '<EOS>'] (True)\n",
      "walk back over to the sink (GotoLocation) -> ['GotoLocation', '<EOS>'] (True)\n",
      "turn and walk back to the gold bin (GotoLocation) -> ['GotoLocation', '<EOS>'] (True)\n",
      "put the bar of soap into the golden can (PutObject) -> ['PutObject', '<EOS>'] (True)\n",
      "turn left go to counter between two sink (GotoLocation) -> ['GotoLocation', '<EOS>'] (True)\n",
      "pick up front soap directly in front of candle (PickupObject) -> ['PickupObject', '<EOS>'] (True)\n",
      "place soap in garbage can (PutObject) -> ['PutObject', '<EOS>'] (True)\n",
      "turn right go to counter between two sink (GotoLocation) -> ['GotoLocation', '<EOS>'] (True)\n",
      "place soap in garbage can right of other soap (PutObject) -> ['PutObject', '<EOS>'] (True)\n",
      "pick up the soap off of the toilet (PickupObject) -> ['PickupObject', '<EOS>'] (True)\n",
      "throw the soap in to the trash can (PutObject) -> ['PutObject', '<EOS>'] (True)\n",
      "pick up the soap on the toilet (PickupObject) -> ['PickupObject', '<EOS>'] (True)\n",
      "throw the soap into the trash (PutObject) -> ['PutObject', '<EOS>'] (True)\n"
     ]
    },
    {
     "name": "stdout",
     "output_type": "stream",
     "text": [
      "go to the toilet (GotoLocation) -> ['GotoLocation', '<EOS>'] (True)\n",
      "turn around and go to the trash can (GotoLocation) -> ['GotoLocation', '<EOS>'] (True)\n",
      "put the soap in the trash can (PutObject) -> ['PutObject', '<EOS>'] (True)\n",
      "turn around and go to the toilet (GotoLocation) -> ['GotoLocation', '<EOS>'] (True)\n",
      "grab a bar of soap off of the toilet (PickupObject) -> ['PickupObject', '<EOS>'] (True)\n",
      "turn around and go to the trash can (GotoLocation) -> ['GotoLocation', '<EOS>'] (True)\n",
      "put the soap in the trash can (PutObject) -> ['PutObject', '<EOS>'] (True)\n",
      "turn left and face the back of the sink (GotoLocation) -> ['GotoLocation', '<EOS>'] (True)\n",
      "place the soap in the trash can (PutObject) -> ['PutObject', '<EOS>'] (True)\n",
      "place the soap in the trash can (PutObject) -> ['PutObject', '<EOS>'] (True)\n",
      "move towards toilet to the right of the sink (GotoLocation) -> ['GotoLocation', '<EOS>'] (True)\n",
      "pick up toilet roll from off the toilet (PickupObject) -> ['PickupObject', '<EOS>'] (True)\n",
      "move away from the sink a few foot (GotoLocation) -> ['GotoLocation', '<EOS>'] (True)\n",
      "move closer to the right side of the sink (GotoLocation) -> ['GotoLocation', '<EOS>'] (True)\n",
      "pick up empty toilet paper roll from the ground (PickupObject) -> ['PickupObject', '<EOS>'] (True)\n",
      "move back away from the sink cabinet (GotoLocation) -> ['GotoLocation', '<EOS>'] (True)\n",
      "open cabinet and place roll inside and close door (PutObject) -> ['PutObject', '<EOS>'] (True)\n",
      "pick the toilet paper roll up (PickupObject) -> ['PickupObject', '<EOS>'] (True)\n",
      "open the second cabinet door from the right (PutObject) -> ['PickupObject', '<EOS>'] (False)\n",
      "turn right and go towards the sink and toilet (GotoLocation) -> ['GotoLocation', '<EOS>'] (True)\n",
      "go backwards while facing towards the sink (GotoLocation) -> ['GotoLocation', '<EOS>'] (True)\n",
      "move towards the sink and toilet (GotoLocation) -> ['GotoLocation', '<EOS>'] (True)\n",
      "go backwards while facing towards the sink (GotoLocation) -> ['GotoLocation', '<EOS>'] (True)\n",
      "turn right and walk towards the water closet (GotoLocation) -> ['GotoLocation', '<EOS>'] (True)\n",
      "head for the water closet at the right (GotoLocation) -> ['GotoLocation', '<EOS>'] (True)\n",
      "head for the cupboard at the left (GotoLocation) -> ['GotoLocation', '<EOS>'] (True)\n",
      "place the toilet paper cover inside the cupboard (PutObject) -> ['PutObject', '<EOS>'] (True)\n",
      "turn right and go to the toilet (GotoLocation) -> ['GotoLocation', '<EOS>'] (True)\n",
      "shut the door to the cabinet (GotoLocation) -> ['GotoLocation', '<EOS>'] (True)\n",
      "open the door to the cabinet under the sink (GotoLocation) -> ['GotoLocation', '<EOS>'] (True)\n",
      "turn left to find the sink (GotoLocation) -> ['GotoLocation', '<EOS>'] (True)\n",
      "pick up the paper roll from the floor (PickupObject) -> ['PickupObject', '<EOS>'] (True)\n",
      "turn left and face the cabinet below the sink (GotoLocation) -> ['GotoLocation', '<EOS>'] (True)\n",
      "walk forward to the toilet in front of you (GotoLocation) -> ['GotoLocation', '<EOS>'] (True)\n",
      "go to the sink (GotoLocation) -> ['GotoLocation', '<EOS>'] (True)\n",
      "pick up toilet paper on toilet (PickupObject) -> ['PickupObject', '<EOS>'] (True)\n",
      "go to the cabinet under the sink (GotoLocation) -> ['GotoLocation', '<EOS>'] (True)\n",
      "put toilet paper in cabinet (PutObject) -> ['PutObject', '<EOS>'] (True)\n",
      "go to empty toilet paper roll (GotoLocation) -> ['GotoLocation', '<EOS>'] (True)\n",
      "pick up the empty toilet paper roll on floor (PickupObject) -> ['PickupObject', '<EOS>'] (True)\n",
      "take empty toilet paper roll to cabinet (GotoLocation) -> ['GotoLocation', '<EOS>'] (True)\n",
      "put empty toilet paper roll in cabinet (PutObject) -> ['PutObject', '<EOS>'] (True)\n"
     ]
    }
   ],
   "source": [
    "def evaluate(encoder, decoder, sentence, encoder_lang, decoder_lang, max_length=MAX_LENGTH):\n",
    "    with torch.no_grad():\n",
    "        input_tensor = tensor_from_sentence(encoder_lang, sentence)\n",
    "        input_length = input_tensor.size()[0]\n",
    "        encoder_hidden = encoder.initHidden()\n",
    "\n",
    "        encoder_outputs = torch.zeros(max_length, encoder.hidden_size, device=device)\n",
    "\n",
    "        for ei in range(input_length):\n",
    "            encoder_output, encoder_hidden = encoder(input_tensor[ei],\n",
    "                                                     encoder_hidden)\n",
    "            encoder_outputs[ei] += encoder_output[0, 0]\n",
    "\n",
    "        decoder_input = torch.tensor([[encoder_lang.index('<SOS>')]], device=device)  # SOS\n",
    "\n",
    "        decoder_hidden = encoder_hidden\n",
    "\n",
    "        decoded_words = []\n",
    "        decoder_attentions = torch.zeros(max_length, max_length)\n",
    "\n",
    "        for di in range(max_length):\n",
    "            decoder_output, decoder_hidden, decoder_attention = decoder(\n",
    "                decoder_input, decoder_hidden, encoder_outputs)\n",
    "            decoder_attentions[di] = decoder_attention.data\n",
    "            topv, topi = decoder_output.data.topk(1)\n",
    "            if topi.item() == encoder_lang.index('<EOS>'):\n",
    "                decoded_words.append('<EOS>')\n",
    "                break\n",
    "            else:\n",
    "                decoded_words.append(decoder_lang.word(topi.item()))\n",
    "\n",
    "            decoder_input = topi.squeeze().detach()\n",
    "\n",
    "        return decoded_words, decoder_attentions[:di + 1]\n",
    "\n",
    "hidden_size = 256\n",
    "encoder = EncoderRNN(lang.n_words, hidden_size).to(device)\n",
    "decoder = AttnDecoderRNN(hidden_size, action_lang.n_words, dropout_p=0.1).to(device)\n",
    "\n",
    "# Load state if exists, WARNING: DELETE FILES WHEN CHANGING MODEL \n",
    "if os.path.isfile('encoder.pt'):\n",
    "    encoder.load_state_dict(torch.load('encoder.pt'))\n",
    "if os.path.isfile('action_decoder.pt'):\n",
    "    decoder.load_state_dict(torch.load('action_decoder.pt'))\n",
    "\n",
    "eval_pairs = [sample for sample in eval_low_action_pairs if len(sample[0]) < MAX_LENGTH and len(sample[1]) < MAX_LENGTH]\n",
    "results = []\n",
    "print(f\"samples: {len(eval_pairs)}\")\n",
    "for sample in eval_pairs:\n",
    "    output = evaluate(encoder, decoder, sample[0], lang, action_lang)\n",
    "    print(f\"{' '.join(sample[0])} ({sample[1][0]}) -> {output[0]} ({output[0][0] == sample[1][0]})\")\n",
    "    results.append(output[0][0] == sample[1][0])"
   ]
  },
  {
   "cell_type": "code",
   "execution_count": 73,
   "id": "unavailable-tourism",
   "metadata": {},
   "outputs": [
    {
     "name": "stdout",
     "output_type": "stream",
     "text": [
      "Success rate: 0.9004641567818463\n"
     ]
    }
   ],
   "source": [
    "print(f\"Success rate: {sum(results) / len(results)}\")"
   ]
  },
  {
   "cell_type": "markdown",
   "id": "spanish-verification",
   "metadata": {},
   "source": [
    "# Eval Action / Arguments"
   ]
  },
  {
   "cell_type": "code",
   "execution_count": 37,
   "id": "demographic-gazette",
   "metadata": {
    "scrolled": true
   },
   "outputs": [
    {
     "name": "stderr",
     "output_type": "stream",
     "text": [
      "  0%|                                                                                 | 7/4627 [00:00<01:12, 63.64it/s]"
     ]
    },
    {
     "name": "stdout",
     "output_type": "stream",
     "text": [
      "samples: 4627\n",
      "turn to left face desk ['desk'] ['desk']\n",
      "pick up clock from back desk desk ['alarmclock'] ['alarmclock']\n",
      "carry clock turn to right turn to left then face desk on left alarmclock ['shelf'] ['desklamp']\n",
      "hold clock turn on lamp on right side desk desklamp ['desklamp'] ['desklamp']\n",
      "turn around completely then turn right to face desk ['shelf'] ['desk']\n",
      "pick up clock that on desk desk ['alarmclock'] ['alarmclock']\n",
      "turn on lamp that sitting on desk desklamp ['desklamp'] ['desklamp']\n",
      "turn around face desk ['diningtable'] ['desk']\n",
      "grab canteen off desk desk ['cellphone'] ['alarmclock']\n",
      "turn right find desk with lamp alarmclock ['desklamp'] ['desklamp']\n",
      "turn lamp on desklamp ['desklamp'] ['desklamp']\n",
      "turn left then face desk ['shelf'] ['desk']\n"
     ]
    },
    {
     "name": "stderr",
     "output_type": "stream",
     "text": [
      "  0%|▎                                                                               | 21/4627 [00:00<01:08, 66.91it/s]"
     ]
    },
    {
     "name": "stdout",
     "output_type": "stream",
     "text": [
      "pick up alarm clock on desk desk ['alarmclock'] ['alarmclock']\n",
      "turn right then walk straight head to desk with lamp on your left alarmclock ['desklamp'] ['desklamp']\n",
      "turn on lamp desklamp ['desklamp'] ['desklamp']\n",
      "move left to wood desk top where clock ['desk'] ['desk']\n",
      "pick up clock on desk top desk ['alarmclock'] ['alarmclock']\n",
      "carry clock to right side desk where lamp alarmclock ['desklamp'] ['desklamp']\n",
      "turn on lamp desklamp ['desklamp'] ['desklamp']\n",
      "walk to face right side desk ['diningtable'] ['desk']\n",
      "pick up red grey bottle from desk desk ['alarmclock'] ['alarmclock']\n",
      "walk to desk on right side room alarmclock ['desk'] ['desklamp']\n",
      "turn on lamp on desk desklamp ['desklamp'] ['desklamp']\n",
      "turn around walk to right then turn left walk to desk ['diningtable'] ['desk']\n",
      "pick up metal box that on top desk desk ['alarmclock'] ['alarmclock']\n",
      "use metal box to turn on lamp desklamp ['desklamp'] ['desklamp']\n"
     ]
    },
    {
     "name": "stderr",
     "output_type": "stream",
     "text": [
      "  1%|▌                                                                               | 35/4627 [00:00<01:10, 65.46it/s]"
     ]
    },
    {
     "name": "stdout",
     "output_type": "stream",
     "text": [
      "turn around walk forward then turn left walk up to side wooden desk ['desk'] ['desk']\n",
      "pick up alarm clock from desk desk ['alarmclock'] ['alarmclock']\n",
      "walk forward around to right side desk alarmclock ['shelf'] ['desklamp']\n",
      "turn on lamp on desk desklamp ['desklamp'] ['desklamp']\n",
      "turn around walk to desk behind wall to your left ['diningtable'] ['desk']\n",
      "pick up alarm clock on desk in front blue chair desk ['alarmclock'] ['alarmclock']\n",
      "turn on lamp in front right corner desk desklamp ['desklamp'] ['desklamp']\n",
      "walk forward bit towards baseball bat ['baseballbat'] ['baseballbat']\n",
      "grab baseball bat leading against wall baseballbat ['baseballbat'] ['baseballbat']\n",
      "turn walk to right side computer desk baseballbat ['desk'] ['desklamp']\n",
      "turn on lamp on computer desk desklamp ['desklamp'] ['desklamp']\n",
      "head towards bat on floor in front you ['baseballbat'] ['baseballbat']\n",
      "pick up bat from floor baseballbat ['baseballbat'] ['baseballbat']\n"
     ]
    },
    {
     "name": "stderr",
     "output_type": "stream",
     "text": [
      "  1%|▊                                                                               | 49/4627 [00:00<01:08, 66.60it/s]"
     ]
    },
    {
     "name": "stdout",
     "output_type": "stream",
     "text": [
      "turn on lamp desklamp ['desklamp'] ['desklamp']\n",
      "move to corner near door ['handtowelholder'] ['baseballbat']\n",
      "pick up bat from floor baseballbat ['baseballbat'] ['baseballbat']\n",
      "bring bat to desk baseballbat ['desklamp'] ['desklamp']\n",
      "turn on lamp on desk desklamp ['desklamp'] ['desklamp']\n",
      "turn around to face bat on ground ['baseballbat'] ['baseballbat']\n",
      "pick up bat on ground baseballbat ['baseballbat'] ['baseballbat']\n",
      "bring bat to lamp on desk baseballbat ['desklamp'] ['desklamp']\n",
      "turn on lamp on desk desklamp ['desklamp'] ['desklamp']\n",
      "turn around face wall with bat on floor ['baseballbat'] ['baseballbat']\n",
      "pick baseball bat up off floor baseballbat ['baseballbat'] ['baseballbat']\n",
      "turn around maneuver to desk at opposite corner room baseballbat ['shelf'] ['desklamp']\n",
      "turn lamp on on desk desklamp ['desklamp'] ['desklamp']\n"
     ]
    },
    {
     "name": "stderr",
     "output_type": "stream",
     "text": [
      "  1%|█                                                                               | 63/4627 [00:00<01:11, 64.01it/s]"
     ]
    },
    {
     "name": "stdout",
     "output_type": "stream",
     "text": [
      "turn right head towards door turn right head towards bat on floor ['baseballbat'] ['baseballbat']\n",
      "pick up bat from floor baseballbat ['baseballbat'] ['baseballbat']\n",
      "turn on lamp desklamp ['desklamp'] ['desklamp']\n",
      "go to baseball bat to right door ['baseballbat'] ['baseballbat']\n",
      "pick up baseball bat next to door baseballbat ['baseballbat'] ['baseballbat']\n",
      "go toward safe in far opposite corner turn right face desk with lamp baseballbat ['desklamp'] ['desklamp']\n",
      "turn on lamp on desk desklamp ['desklamp'] ['desklamp']\n",
      "head towards door turn right to face baseball bat on floor ['baseballbat'] ['baseballbat']\n",
      "pick up bat from floor baseballbat ['baseballbat'] ['baseballbat']\n",
      "turn on lamp desklamp ['desklamp'] ['desklamp']\n",
      "walk to door in front you turn right to face wall ['vase'] ['baseballbat']\n",
      "pick up black bat leaning against wall baseballbat ['baseballbat'] ['baseballbat']\n",
      "turn on small lamp desklamp ['desklamp'] ['desklamp']\n"
     ]
    },
    {
     "name": "stderr",
     "output_type": "stream",
     "text": [
      "  2%|█▎                                                                              | 77/4627 [00:01<01:12, 62.42it/s]"
     ]
    },
    {
     "name": "stdout",
     "output_type": "stream",
     "text": [
      "turn around go to foot bed ['bed'] ['basketball']\n",
      "pick up basketball from floor basketball ['basketball'] ['basketball']\n",
      "turn around go to desk in corner basketball ['desk'] ['desklamp']\n",
      "turn on lamp desklamp ['desklamp'] ['desklamp']\n",
      "turn left walk to basketball on floor by bed ['basketball'] ['basketball']\n",
      "pick up basketball from floor basketball ['basketball'] ['basketball']\n",
      "turn left walk to lamp on desk which to left bed basketball ['desklamp'] ['desklamp']\n",
      "turn on lamp desklamp ['desklamp'] ['desklamp']\n",
      "move to foot bed closest to wall ['bed'] ['basketball']\n",
      "pick up basketball sitting on floor next to foot bed basketball ['basketball'] ['basketball']\n",
      "carry basketball to left side wooden desk top basketball ['desklamp'] ['desklamp']\n",
      "turn on lamp that on top desk desklamp ['desklamp'] ['desklamp']\n",
      "walk to foot bed ['bed'] ['basketball']\n"
     ]
    },
    {
     "name": "stderr",
     "output_type": "stream",
     "text": [
      "\r",
      "  2%|█▍                                                                              | 85/4627 [00:01<01:09, 64.98it/s]"
     ]
    },
    {
     "name": "stdout",
     "output_type": "stream",
     "text": [
      "pick up basketball from floor basketball ['basketball'] ['basketball']\n",
      "go to desk to your left basketball ['desk'] ['desklamp']\n",
      "turn on lamp desklamp ['desklamp'] ['desklamp']\n",
      "move to right side foot bed closest to wall ['baseballbat'] ['basketball']\n",
      "pick up basketball that on floor by foot bed basketball ['basketball'] ['basketball']\n",
      "carry basketball to desk lamp on right side wood desk top basketball ['desklamp'] ['desklamp']\n",
      "turn on lamp desklamp ['desklamp'] ['desklamp']\n",
      "turn right walk to face basketball underneath foot bed ['basketball'] ['basketball']\n",
      "pick up basketball from under bed basketball ['basketball'] ['basketball']\n",
      "turn left walk through room until desk turn left at desk face it basketball ['desk'] ['desklamp']\n",
      "turn on lamp on desk desklamp ['desklamp'] ['desklamp']\n",
      "turn right head to desk then turn left walk to basketball on floor ['basketball'] ['basketball']\n",
      "pick up basketball from floor basketball ['basketball'] ['basketball']\n",
      "turn on lamp desklamp ['desklamp'] ['desklamp']\n"
     ]
    },
    {
     "name": "stderr",
     "output_type": "stream",
     "text": [
      "  2%|█▋                                                                              | 99/4627 [00:01<01:10, 63.88it/s]"
     ]
    },
    {
     "name": "stdout",
     "output_type": "stream",
     "text": [
      "pick up basketball in front bed basketball ['basketball'] ['basketball']\n",
      "turn on lamp desklamp ['desklamp'] ['desklamp']\n",
      "pick up basketball that on floor basketball ['basketball'] ['basketball']\n",
      "turn lamp on desklamp ['desklamp'] ['desklamp']\n",
      "turn around walk to bed ['bed'] ['bed']\n",
      "pick up what math book on bed bed ['book'] ['book']\n",
      "walk around left side bed veer left to desk book ['cabinet'] ['desklamp']\n",
      "turn on lamp on desk desklamp ['desklamp'] ['desklamp']\n",
      "turn around go to foot bed ['bed'] ['bed']\n",
      "pick up book from bed bed ['book'] ['book']\n",
      "turn left go to desk in far corner room book ['desk'] ['desklamp']\n",
      "turn on lamp desklamp ['desklamp'] ['desklamp']\n",
      "turn walk to bed ['bed'] ['bed']\n"
     ]
    },
    {
     "name": "stderr",
     "output_type": "stream",
     "text": [
      "  2%|█▉                                                                             | 113/4627 [00:01<01:09, 64.96it/s]"
     ]
    },
    {
     "name": "stdout",
     "output_type": "stream",
     "text": [
      "grab book that on bed bed ['book'] ['book']\n",
      "carry book to night stand book ['sidetable'] ['desklamp']\n",
      "hold book in front night stand desklamp ['desklamp'] ['desklamp']\n",
      "turn right towards bed ['tennisracket'] ['bed']\n",
      "pick up green book from bed bed ['book'] ['book']\n",
      "turn around go to wall then turn to desk to left book ['desk'] ['desklamp']\n",
      "turn on light desklamp ['desklamp'] ['desklamp']\n",
      "turn right walk to bed ['bed'] ['bed']\n",
      "pick up green book that say what math that sitting on bed bed ['book'] ['book']\n",
      "turn around cross room then turn left at wall walk to desk book ['drawer'] ['desklamp']\n",
      "turn on lamp that sitting on desk desklamp ['desklamp'] ['desklamp']\n",
      "move to side bed facing green book on top bed ['bed'] ['bed']\n",
      "pick up green book sitting on top bed bed ['book'] ['book']\n",
      "carry book to desk in corner room with desk lamp on top it book ['desk'] ['desklamp']\n"
     ]
    },
    {
     "name": "stderr",
     "output_type": "stream",
     "text": [
      "  3%|██▏                                                                            | 128/4627 [00:01<01:06, 67.32it/s]"
     ]
    },
    {
     "name": "stdout",
     "output_type": "stream",
     "text": [
      "turn on lamp desklamp ['desklamp'] ['desklamp']\n",
      "turn around take one step then turn left to bed ['bed'] ['bed']\n",
      "pick up book behind computer on red sheet bed ['book'] ['book']\n",
      "turn around walk toward wall stop at wall turn left towards computer table book ['desk'] ['desklamp']\n",
      "turn on table lamp desklamp ['desklamp'] ['desklamp']\n",
      "turn right go to side bed ['bed'] ['bed']\n",
      "pick up book from bed bed ['book'] ['book']\n",
      "turn on lamp desklamp ['desklamp'] ['desklamp']\n",
      "turn around walk to side bed ['bed'] ['bed']\n",
      "grab book on bed bed ['book'] ['book']\n",
      "turn around walk to side desk book ['desk'] ['desklamp']\n",
      "turn on lamp on desk desklamp ['desklamp'] ['desklamp']\n",
      "walk to end room ahead then turn right to face desk ['desk'] ['desk']\n"
     ]
    },
    {
     "name": "stderr",
     "output_type": "stream",
     "text": [
      "  3%|██▍                                                                            | 142/4627 [00:02<01:07, 66.05it/s]"
     ]
    },
    {
     "name": "stdout",
     "output_type": "stream",
     "text": [
      "grab clear bowl off table desk ['bowl'] ['bowl']\n",
      "turn lamp on on right side desk desklamp ['desklamp'] ['desklamp']\n",
      "go straight to desk chair then turn right to face desk ['shelf'] ['desk']\n",
      "take bowl from desk desk ['bowl'] ['bowl']\n",
      "turn lamp on desk on desklamp ['desklamp'] ['desklamp']\n",
      "walk forward turn right to face desk closest to window ['desk'] ['desk']\n",
      "pick up bowl from desk desk ['bowl'] ['bowl']\n",
      "turn right walk to other desk bowl ['desk'] ['desklamp']\n",
      "turn on desk lamp desklamp ['desklamp'] ['desklamp']\n",
      "walk to left side desk in front you ['desk'] ['desk']\n",
      "pick up bowl from desk desk ['bowl'] ['bowl']\n",
      "turn right walk in front lamp that on desk to left bed bowl ['desklamp'] ['desklamp']\n",
      "turn on lamp desklamp ['desklamp'] ['desklamp']\n",
      "walk around to front desk by chair ['desk'] ['desk']\n"
     ]
    },
    {
     "name": "stderr",
     "output_type": "stream",
     "text": [
      "  3%|██▋                                                                            | 157/4627 [00:02<01:05, 67.95it/s]"
     ]
    },
    {
     "name": "stdout",
     "output_type": "stream",
     "text": [
      "pick up bowl that closest to window desk ['bowl'] ['bowl']\n",
      "turn on lamp on desk desklamp ['desklamp'] ['desklamp']\n",
      "walk to window face desk ['desk'] ['desk']\n",
      "pick up bowl on desk desk ['bowl'] ['bowl']\n",
      "walk to second desk on other side room bowl ['desk'] ['desklamp']\n",
      "turn on lamp desklamp ['desklamp'] ['desklamp']\n",
      "turn around go forward turn left go forward turn left face desk ['diningtable'] ['shelf']\n",
      "pick up bowl from shelf shelf ['bowl'] ['bowl']\n",
      "bring bowl to lamp on desk bowl ['desklamp'] ['desklamp']\n",
      "turn on lamp on desk desklamp ['desklamp'] ['desklamp']\n",
      "turn go right to face desk with lamp cup ['desklamp'] ['shelf']\n",
      "pick bowl up from shelf shelf ['bowl'] ['bowl']\n",
      "move to right face desk drawer bowl ['drawer'] ['desklamp']\n",
      "turn lamp on desk on desklamp ['desklamp'] ['desklamp']\n"
     ]
    },
    {
     "name": "stderr",
     "output_type": "stream",
     "text": [
      "  4%|██▉                                                                            | 172/4627 [00:02<01:05, 67.58it/s]"
     ]
    },
    {
     "name": "stdout",
     "output_type": "stream",
     "text": [
      "move to wooden desk across from white safe ['desk'] ['shelf']\n",
      "pick up clear bowl between book on desk shelf shelf ['bowl'] ['bowl']\n",
      "carry clear bowl to face lamp on right desk bowl ['desklamp'] ['desklamp']\n",
      "turn on lamp sitting on desk while holding bowl desklamp ['desklamp'] ['desklamp']\n",
      "pick up box on blue chair armchair ['box'] ['box']\n",
      "turn to right to face white couch then look up at wall box ['sofa'] ['floorlamp']\n",
      "turn off lamp on left floorlamp ['floorlamp'] ['floorlamp']\n",
      "walk to blue chair at top right corner room ['armchair'] ['armchair']\n",
      "pick up empty box from chair armchair ['box'] ['box']\n",
      "turn right face floor lamp next to chair box ['floorlamp'] ['floorlamp']\n",
      "turn on floor lamp floorlamp ['floorlamp'] ['floorlamp']\n",
      "turn to right then left to locate blue couch ['sofa'] ['armchair']\n",
      "pick up box from couch armchair ['box'] ['box']\n"
     ]
    },
    {
     "name": "stderr",
     "output_type": "stream",
     "text": [
      "  4%|███▏                                                                           | 186/4627 [00:02<01:06, 66.55it/s]"
     ]
    },
    {
     "name": "stdout",
     "output_type": "stream",
     "text": [
      "take box turn right to other couch box ['sofa'] ['floorlamp']\n",
      "turn lamp on in corner floorlamp ['floorlamp'] ['floorlamp']\n",
      "turn right walk forward to large sofa ['sofa'] ['sofa']\n",
      "pick up empty box from sofa sofa ['box'] ['box']\n",
      "move slightly forward to face floor lamp next to sofa box ['floorlamp'] ['floorlamp']\n",
      "turn on floor lamp floorlamp ['floorlamp'] ['floorlamp']\n",
      "turn right walk to sofa ['sofa'] ['sofa']\n",
      "grab box on sofa sofa ['box'] ['box']\n",
      "turn to floor lamp by sofa box ['floorlamp'] ['floorlamp']\n",
      "turn on floor lamp floorlamp ['floorlamp'] ['floorlamp']\n",
      "turn to right walk to white couch across room ['sofa'] ['sofa']\n",
      "pick up empty white box that to left cell phone sofa ['box'] ['box']\n",
      "look up to left white couch box ['armchair'] ['floorlamp']\n",
      "turn on lamp to left couch floorlamp ['floorlamp'] ['floorlamp']\n"
     ]
    },
    {
     "name": "stderr",
     "output_type": "stream",
     "text": [
      "\r",
      "  4%|███▎                                                                           | 193/4627 [00:02<01:07, 66.03it/s]"
     ]
    },
    {
     "name": "stdout",
     "output_type": "stream",
     "text": [
      "turn right move to fireplace turn left move to white shelf ['shelf'] ['shelf']\n",
      "pick up open box on bottom shelf shelf ['box'] ['box']\n",
      "turn around move across couch to right to lamp in corner box ['floorlamp'] ['floorlamp']\n",
      "turn on tall lamp in corner floorlamp ['floorlamp'] ['floorlamp']\n",
      "turn to right go forward to fireplace turn to left go forward to shelving ['shelf'] ['shelf']\n",
      "pick up box on bottom shelf shelf ['box'] ['box']\n",
      "turn on lamp floorlamp ['floorlamp'] ['floorlamp']\n",
      "walk to shelf in front you to right ['shelf'] ['shelf']\n",
      "pick up box on bottom shelf shelf ['box'] ['box']\n",
      "turn to left walk to lamp in corner box ['floorlamp'] ['floorlamp']\n",
      "turn on lamp floorlamp ['floorlamp'] ['floorlamp']\n",
      "turn around head to white shelf on left side room ['shelf'] ['shelf']\n",
      "pick up open box from bottom shelf shelf ['box'] ['box']\n"
     ]
    },
    {
     "name": "stderr",
     "output_type": "stream",
     "text": [
      "  4%|███▌                                                                           | 207/4627 [00:03<01:07, 65.74it/s]"
     ]
    },
    {
     "name": "stdout",
     "output_type": "stream",
     "text": [
      "turn around walk towards blue chair then turn right to face white sofa box ['sofa'] ['floorlamp']\n",
      "turn on light floorlamp ['floorlamp'] ['floorlamp']\n",
      "turn right walk towards tv turn left walk towards white shelf to right couch ['shelf'] ['shelf']\n",
      "pick up box that on bottom shelf shelf ['box'] ['box']\n",
      "turn on lamp that to your left floorlamp ['floorlamp'] ['floorlamp']\n",
      "walk forward turn right to face desk ['desk'] ['desk']\n",
      "pick up cd that on desk desk ['cd'] ['cd']\n",
      "turn lamp on desklamp ['desklamp'] ['desklamp']\n",
      "walk forward to wooden desk on your left ['countertop'] ['desk']\n",
      "pick up disc on corner desk desk ['cd'] ['cd']\n",
      "turn on lamp on desk desklamp ['desklamp'] ['desklamp']\n",
      "move forward to desk turn to face desk ['diningtable'] ['desk']\n",
      "pick up cd from right corner desk desk ['cd'] ['cd']\n"
     ]
    },
    {
     "name": "stderr",
     "output_type": "stream",
     "text": [
      "  5%|███▊                                                                           | 221/4627 [00:03<01:10, 62.87it/s]"
     ]
    },
    {
     "name": "stdout",
     "output_type": "stream",
     "text": [
      "turn on lamp that on desk desklamp ['desklamp'] ['desklamp']\n",
      "go to garbage can on floor to right desk in front you ['garbagecan'] ['garbagecan']\n",
      "remove cd from garbage bin garbagecan ['cd'] ['cd']\n",
      "turn on lamp on front far right corner desk desklamp ['desklamp'] ['desklamp']\n",
      "walk forward to gray trash can ['garbagecan'] ['garbagecan']\n",
      "take cd out gray trash can garbagecan ['cd'] ['cd']\n",
      "turn lamp on desklamp ['desklamp'] ['desklamp']\n",
      "walk across room ['cart'] ['garbagecan']\n",
      "pick up cd that in bin on floor garbagecan ['cd'] ['cd']\n",
      "turn on lamp desklamp ['desklamp'] ['desklamp']\n",
      "walk to right side desk ['shelf'] ['shelf']\n",
      "grab cd from desk shelf ['cd'] ['cd']\n"
     ]
    },
    {
     "name": "stderr",
     "output_type": "stream",
     "text": [
      "  5%|████                                                                           | 235/4627 [00:03<01:09, 63.09it/s]"
     ]
    },
    {
     "name": "stdout",
     "output_type": "stream",
     "text": [
      "locate lamp on desk cd ['desklamp'] ['desklamp']\n",
      "turn on lamp desklamp ['desklamp'] ['desklamp']\n",
      "go to right end wooden desk in front you ['desk'] ['shelf']\n",
      "pick up disc on desk shelf ['cd'] ['cd']\n",
      "turn right then turn back to desk cd ['shelf'] ['desklamp']\n",
      "turn on lamp on desk desklamp ['desklamp'] ['desklamp']\n",
      "head to right side desk ['desk'] ['shelf']\n",
      "take cd from desk shelf ['cd'] ['cd']\n",
      "take step to right cd ['drawer'] ['desklamp']\n",
      "turn on lamp desklamp ['desklamp'] ['desklamp']\n",
      "walk forward to dresser ['dresser'] ['dresser']\n",
      "pick up cell phone from dresser dresser ['cellphone'] ['cellphone']\n",
      "turn left go to lamp cellphone ['floorlamp'] ['floorlamp']\n"
     ]
    },
    {
     "name": "stderr",
     "output_type": "stream",
     "text": [
      "  5%|████▎                                                                          | 249/4627 [00:03<01:10, 62.20it/s]"
     ]
    },
    {
     "name": "stdout",
     "output_type": "stream",
     "text": [
      "hold cell phone turn lamp on floorlamp ['floorlamp'] ['floorlamp']\n",
      "walk to dresser in front you ['dresser'] ['dresser']\n",
      "pick up cell phone above left top drawer on dresser dresser ['cellphone'] ['cellphone']\n",
      "go to lamp to your left in corner room cellphone ['floorlamp'] ['floorlamp']\n",
      "turn on lamp floorlamp ['floorlamp'] ['floorlamp']\n",
      "walk forward to dresser ['dresser'] ['dresser']\n",
      "pick up phone that on dresser dresser ['cellphone'] ['cellphone']\n",
      "take couple step to left to face lamp hold phone up cellphone ['floorlamp'] ['floorlamp']\n",
      "turn lamp on floorlamp ['floorlamp'] ['floorlamp']\n",
      "head to long black table on left in corner ['sidetable'] ['sidetable']\n",
      "pick up phone on table sidetable ['cellphone'] ['cellphone']\n",
      "turn around bring phone to lamp in corner cellphone ['floorlamp'] ['floorlamp']\n"
     ]
    },
    {
     "name": "stderr",
     "output_type": "stream",
     "text": [
      "\r",
      "  6%|████▎                                                                          | 256/4627 [00:03<01:10, 61.80it/s]"
     ]
    },
    {
     "name": "stdout",
     "output_type": "stream",
     "text": [
      "turn on lamp in corner floorlamp ['floorlamp'] ['floorlamp']\n",
      "move to end table ahead you ['sidetable'] ['sidetable']\n",
      "pick up phone from table sidetable ['cellphone'] ['cellphone']\n",
      "move to lamp behind you cellphone ['floorlamp'] ['floorlamp']\n",
      "turn on lamp floorlamp ['floorlamp'] ['floorlamp']\n",
      "move to front desk turn to face right side ['diningtable'] ['sidetable']\n",
      "pick phone up from desk sidetable ['cellphone'] ['cellphone']\n",
      "turn around cross room to stand in front lamp cellphone ['floorlamp'] ['floorlamp']\n",
      "turn lamp on floorlamp ['floorlamp'] ['floorlamp']\n",
      "turn left walk to white sofa turn left walk to blue sofa ['sofa'] ['armchair']\n",
      "grab phone on blue sofa armchair ['cellphone'] ['cellphone']\n",
      "turn right to lamp cellphone ['floorlamp'] ['floorlamp']\n"
     ]
    },
    {
     "name": "stderr",
     "output_type": "stream",
     "text": [
      "  6%|████▌                                                                          | 270/4627 [00:04<01:12, 60.29it/s]"
     ]
    },
    {
     "name": "stdout",
     "output_type": "stream",
     "text": [
      "turn on lamp floorlamp ['floorlamp'] ['floorlamp']\n",
      "pick up cell phone on back arm chair s seat behind computer armchair ['cellphone'] ['cellphone']\n",
      "turn to lamp at your right in corner cellphone ['floorlamp'] ['floorlamp']\n",
      "turn on lamp in corner floorlamp ['floorlamp'] ['floorlamp']\n",
      "move to couch to left fire place ['sofa'] ['armchair']\n",
      "pick up phone from couch armchair ['cellphone'] ['cellphone']\n",
      "move to left couch cellphone ['sofa'] ['floorlamp']\n",
      "turn on lamp floorlamp ['floorlamp'] ['floorlamp']\n",
      "move left then face right side large tan couch ['sofa'] ['sofa']\n",
      "pick up red credit card on top couch sofa ['creditcard'] ['creditcard']\n",
      "carry credit card to lamp in corner room creditcard ['floorlamp'] ['floorlamp']\n",
      "turn on lamp floorlamp ['floorlamp'] ['floorlamp']\n"
     ]
    },
    {
     "name": "stderr",
     "output_type": "stream",
     "text": [
      "  6%|████▊                                                                          | 283/4627 [00:04<01:14, 58.61it/s]"
     ]
    },
    {
     "name": "stdout",
     "output_type": "stream",
     "text": [
      "turn left walk towards blue chair then turn right to face couch ['sofa'] ['sofa']\n",
      "pick up red credit card off couch sofa ['creditcard'] ['creditcard']\n",
      "turn on light tall lamp floorlamp ['floorlamp'] ['floorlamp']\n",
      "turn left take step then turn right face couch ['sofa'] ['sofa']\n",
      "pick up red credit card that sitting on couch sofa ['creditcard'] ['creditcard']\n",
      "turn on lamp floorlamp ['floorlamp'] ['floorlamp']\n",
      "move to left side tan sofa where credit card ['sofa'] ['sofa']\n",
      "pick up credit card on top sofa sofa ['creditcard'] ['creditcard']\n",
      "carry credit card to left corner room facing floor lamp creditcard ['floorlamp'] ['floorlamp']\n",
      "turn on lamp floorlamp ['floorlamp'] ['floorlamp']\n",
      "walk to face couch ['sofa'] ['sofa']\n",
      "pick up red credit card from couch sofa ['creditcard'] ['creditcard']\n"
     ]
    },
    {
     "name": "stderr",
     "output_type": "stream",
     "text": [
      "  6%|█████                                                                          | 297/4627 [00:04<01:12, 60.13it/s]"
     ]
    },
    {
     "name": "stdout",
     "output_type": "stream",
     "text": [
      "walk left to face lamp creditcard ['floorlamp'] ['floorlamp']\n",
      "turn on lamp near couch floorlamp ['floorlamp'] ['floorlamp']\n",
      "turn around walk forward to face card on left end couch ['sidetable'] ['sofa']\n",
      "pick up card on couch sofa ['creditcard'] ['creditcard']\n",
      "look to left to face lamp in corner room creditcard ['floorlamp'] ['floorlamp']\n",
      "cut on lamp to examine card floorlamp ['floorlamp'] ['floorlamp']\n",
      "turn left walk to white couch on right ['sofa'] ['sofa']\n",
      "pick up red credit card from right couch cushion sofa ['creditcard'] ['creditcard']\n",
      "turn left walk to tall lamp in corner on right creditcard ['floorlamp'] ['floorlamp']\n",
      "turn on tall lamp floorlamp ['floorlamp'] ['floorlamp']\n",
      "turn left walk straight then turn right towards couch ['sofa'] ['sofa']\n",
      "pick up credit card off couch sofa ['creditcard'] ['creditcard']\n"
     ]
    },
    {
     "name": "stderr",
     "output_type": "stream",
     "text": [
      "  7%|█████▎                                                                         | 310/4627 [00:04<01:12, 59.64it/s]"
     ]
    },
    {
     "name": "stdout",
     "output_type": "stream",
     "text": [
      "turn left then walk straight then turn right towards couch look up creditcard ['shelf'] ['floorlamp']\n",
      "turn lamp on by couch floorlamp ['floorlamp'] ['floorlamp']\n",
      "turn to left then right to face right side couch ['sofa'] ['sofa']\n",
      "pick red credit card up from couch sofa ['creditcard'] ['creditcard']\n",
      "turn to left stand on left side couch near floor lamp creditcard ['sofa'] ['floorlamp']\n",
      "turn lamp on floorlamp ['floorlamp'] ['floorlamp']\n",
      "walk forward to safe then turn left walk to blue armchair ['armchair'] ['armchair']\n",
      "pick up key chain in front remote control on armchair armchair ['keychain'] ['keychain']\n",
      "turn right walk slightly forward to tall lamp in front you keychain ['floorlamp'] ['floorlamp']\n",
      "turn on lamp floorlamp ['floorlamp'] ['floorlamp']\n",
      "pick up leftmost set key from chair armchair ['keychain'] ['keychain']\n",
      "turn right to carry key closer to lamp which between chair sofa keychain ['floorlamp'] ['floorlamp']\n"
     ]
    },
    {
     "name": "stderr",
     "output_type": "stream",
     "text": [
      "\r",
      "  7%|█████▍                                                                         | 317/4627 [00:04<01:11, 60.34it/s]"
     ]
    },
    {
     "name": "stdout",
     "output_type": "stream",
     "text": [
      "turn on lamp to look at key floorlamp ['floorlamp'] ['floorlamp']\n",
      "turn around hang left to walk to blue armchair ['armchair'] ['armchair']\n",
      "pick up leftmost key from blue armchair armchair ['keychain'] ['keychain']\n",
      "turn to face tall lamp on right keychain ['floorlamp'] ['floorlamp']\n",
      "turn on tall lamp floorlamp ['floorlamp'] ['floorlamp']\n",
      "turn around walk to blue chair on right ['armchair'] ['armchair']\n",
      "pick up set key in back right corner chair armchair ['keychain'] ['keychain']\n",
      "turn right to face couch next to tall lamp keychain ['sofa'] ['floorlamp']\n",
      "turn on tall lamp to left floorlamp ['floorlamp'] ['floorlamp']\n",
      "turn around walk straight then turn right walk straight towards blue chair ['armchair'] ['armchair']\n",
      "pick up key on chair armchair ['keychain'] ['keychain']\n",
      "turn right look up at lamp keychain ['floorlamp'] ['floorlamp']\n"
     ]
    },
    {
     "name": "stderr",
     "output_type": "stream",
     "text": [
      "  7%|█████▋                                                                         | 331/4627 [00:05<01:11, 60.44it/s]"
     ]
    },
    {
     "name": "stdout",
     "output_type": "stream",
     "text": [
      "turn lamp on floorlamp ['floorlamp'] ['floorlamp']\n",
      "turn around move forward then turn right go straight to blue chair ['armchair'] ['armchair']\n",
      "pick up key from blue chair armchair ['keychain'] ['keychain']\n",
      "turn right look up to face lamp keychain ['floorlamp'] ['floorlamp']\n",
      "turn on lamp floorlamp ['floorlamp'] ['floorlamp']\n",
      "pick up set key that are on bottom shelf shelf ['keychain'] ['keychain']\n",
      "turn on lamp floorlamp ['floorlamp'] ['floorlamp']\n",
      "go forward to couch then turn right to go to shelf up ahead ['shelf'] ['shelf']\n",
      "pick up key from bottom shelf shelf ['keychain'] ['keychain']\n",
      "turn on lamp floorlamp ['floorlamp'] ['floorlamp']\n",
      "go right face white shelf with gold vase ['shelf'] ['shelf']\n",
      "pick key up from bottom shelf cabinet shelf ['keychain'] ['keychain']\n"
     ]
    },
    {
     "name": "stderr",
     "output_type": "stream",
     "text": [
      "  7%|█████▉                                                                         | 345/4627 [00:05<01:11, 60.12it/s]"
     ]
    },
    {
     "name": "stdout",
     "output_type": "stream",
     "text": [
      "turn around cross room turn to right to face lamp in corner keychain ['floorlamp'] ['floorlamp']\n",
      "turn lamp on floorlamp ['floorlamp'] ['floorlamp']\n",
      "step forward then turn right to go to dresser ['dresser'] ['dresser']\n",
      "pick up computer on dresser in front statue dresser ['laptop'] ['laptop']\n",
      "turn right then go forward to go toward lamp laptop ['desklamp'] ['floorlamp']\n",
      "turn on lamp floorlamp ['floorlamp'] ['floorlamp']\n",
      "walk to laptop computer on tall brown dresser ['dresser'] ['dresser']\n",
      "close laptop pick it up dresser ['laptop'] ['laptop']\n",
      "turn right walk to white sofa laptop ['sofa'] ['floorlamp']\n",
      "look up turn on standing lamp next to sofa floorlamp ['floorlamp'] ['floorlamp']\n",
      "turn right towards dresser with laptop ['desk'] ['dresser']\n",
      "close lid laptop on dresser pick up laptop dresser ['laptop'] ['laptop']\n",
      "turn right walk towards white sofa laptop ['sofa'] ['floorlamp']\n"
     ]
    },
    {
     "name": "stderr",
     "output_type": "stream",
     "text": [
      "  8%|██████                                                                         | 358/4627 [00:05<01:11, 59.64it/s]"
     ]
    },
    {
     "name": "stdout",
     "output_type": "stream",
     "text": [
      "raise laptop up turn on lamp on left floorlamp ['floorlamp'] ['floorlamp']\n",
      "turn to right move across room to face dresser ['dresser'] ['dresser']\n",
      "close lid laptop pick it up dresser ['laptop'] ['laptop']\n",
      "turn to right move towards white couch laptop ['sofa'] ['floorlamp']\n",
      "turn on lamp next to couch floorlamp ['floorlamp'] ['floorlamp']\n",
      "turn to your right walk towards cabinet ['dresser'] ['dresser']\n",
      "pick up laptop on cabinet dresser ['laptop'] ['laptop']\n",
      "turn to your right walk straight to lamp on your left beside sofa laptop ['floorlamp'] ['floorlamp']\n",
      "turn on lamp floorlamp ['floorlamp'] ['floorlamp']\n",
      "turn right walk forward to dresser ['dresser'] ['dresser']\n",
      "close computer that on dresser pick up computer dresser ['laptop'] ['laptop']\n",
      "turn right walk forward to couch lift computer up to lamp laptop ['floorlamp'] ['floorlamp']\n"
     ]
    },
    {
     "name": "stderr",
     "output_type": "stream",
     "text": [
      "  8%|██████▎                                                                        | 370/4627 [00:05<01:11, 59.24it/s]"
     ]
    },
    {
     "name": "stdout",
     "output_type": "stream",
     "text": [
      "turn lamp on floorlamp ['floorlamp'] ['floorlamp']\n",
      "turn to left then find desk ['desk'] ['dresser']\n",
      "close laptop then pick it up dresser ['laptop'] ['laptop']\n",
      "turn to right then stand in front couch laptop ['sofa'] ['floorlamp']\n",
      "turn on lamp on your left floorlamp ['floorlamp'] ['floorlamp']\n",
      "turn left head towards dresser ['desk'] ['dresser']\n",
      "close lid laptop on right pick it up dresser ['laptop'] ['laptop']\n",
      "turn right head towards white sofa laptop ['sofa'] ['floorlamp']\n",
      "turn on lamp to left sofa floorlamp ['floorlamp'] ['floorlamp']\n",
      "turn to your left walk to cabinet where laptop are ['desk'] ['dresser']\n",
      "pick up laptop on right after closing it dresser ['laptop'] ['laptop']\n",
      "turn to your right walk up to floor lamp between two chair laptop ['floorlamp'] ['floorlamp']\n"
     ]
    },
    {
     "name": "stderr",
     "output_type": "stream",
     "text": [
      "  8%|██████▌                                                                        | 383/4627 [00:06<01:11, 59.01it/s]"
     ]
    },
    {
     "name": "stdout",
     "output_type": "stream",
     "text": [
      "turn on floor lamp floorlamp ['floorlamp'] ['floorlamp']\n",
      "turn left move to brown cabinet with two computer on top ['dresser'] ['dresser']\n",
      "close computer on right pick it up dresser ['laptop'] ['laptop']\n",
      "turn right carry computer to sofa laptop ['sofa'] ['floorlamp']\n",
      "turn on light in corner to left sofa to look at computer floorlamp ['floorlamp'] ['floorlamp']\n",
      "turn left walk to dresser ['dresser'] ['dresser']\n",
      "close laptop in front pick it up dresser ['laptop'] ['laptop']\n",
      "turn right walk to beige couch laptop ['sofa'] ['floorlamp']\n",
      "turn on light next to beige couch floorlamp ['floorlamp'] ['floorlamp']\n",
      "move to left facing large brown cabinet where laptop ['desk'] ['dresser']\n",
      "pick up laptop on far left side on top cabinet dresser ['laptop'] ['laptop']\n",
      "carry laptop to large floor lamp to left tan sofa laptop ['floorlamp'] ['floorlamp']\n"
     ]
    },
    {
     "name": "stderr",
     "output_type": "stream",
     "text": [
      "  9%|██████▋                                                                        | 395/4627 [00:06<01:11, 59.32it/s]"
     ]
    },
    {
     "name": "stdout",
     "output_type": "stream",
     "text": [
      "turn on lamp floorlamp ['floorlamp'] ['floorlamp']\n",
      "turn to left take few step turn to left go to dresser ['dresser'] ['dresser']\n",
      "close notebook computer pick up from dresser dresser ['laptop'] ['laptop']\n",
      "turn to right go to white sofa laptop ['sofa'] ['floorlamp']\n",
      "turn on lamp left white sofa floorlamp ['floorlamp'] ['floorlamp']\n",
      "turn around head towards dresser with two laptop ['desk'] ['dresser']\n",
      "close lid laptop on right pick it up dresser ['laptop'] ['laptop']\n",
      "turn right head towards white couch laptop ['sofa'] ['floorlamp']\n",
      "turn on lamp on left couch floorlamp ['floorlamp'] ['floorlamp']\n",
      "turn around walk across room to large dresser ['dresser'] ['dresser']\n",
      "close pick up right most laptop from dresser dresser ['laptop'] ['laptop']\n",
      "turn right walk to floor lamp in corner laptop ['floorlamp'] ['floorlamp']\n",
      "turn on lamp floorlamp ['floorlamp'] ['floorlamp']\n"
     ]
    },
    {
     "name": "stderr",
     "output_type": "stream",
     "text": [
      "  9%|██████▉                                                                        | 408/4627 [00:06<01:09, 60.51it/s]"
     ]
    },
    {
     "name": "stdout",
     "output_type": "stream",
     "text": [
      "turn around head to dressed across room ['toilet'] ['dresser']\n",
      "take laptop computer from dresser dresser ['laptop'] ['laptop']\n",
      "turn to right head to couch laptop ['sofa'] ['floorlamp']\n",
      "turn on lamp in corner floorlamp ['floorlamp'] ['floorlamp']\n",
      "turn around walk to brown cabinet with laptop on face laptop ['desk'] ['dresser']\n",
      "close lid laptop on right pick it up dresser ['laptop'] ['laptop']\n",
      "turn right walk to cream colored couch face it laptop ['sofa'] ['floorlamp']\n",
      "turn on light floorlamp ['floorlamp'] ['floorlamp']\n",
      "walk to laptop ['sidetable'] ['dresser']\n",
      "close one on right pick it up dresser ['laptop'] ['laptop']\n",
      "take laptop to nightstand laptop ['desklamp'] ['floorlamp']\n",
      "turn on lamp floorlamp ['floorlamp'] ['floorlamp']\n",
      "go to desk in front you then look up to shelf ['shelf'] ['shelf']\n"
     ]
    },
    {
     "name": "stderr",
     "output_type": "stream",
     "text": [
      "  9%|███████▏                                                                       | 422/4627 [00:06<01:08, 61.78it/s]"
     ]
    },
    {
     "name": "stdout",
     "output_type": "stream",
     "text": [
      "pick up mug from shelf shelf ['mug'] ['mug']\n",
      "look down to lamp on desk mug ['desklamp'] ['desklamp']\n",
      "turn on lamp desklamp ['desklamp'] ['desklamp']\n",
      "walk forward to mug on desk in front you ['shelf'] ['shelf']\n",
      "pick up mug from desk shelf ['mug'] ['mug']\n",
      "walk slightly to right stand in front lamp on desk mug ['desklamp'] ['desklamp']\n",
      "turn on lamp desklamp ['desklamp'] ['desklamp']\n",
      "walk to computer desk in front you ['desk'] ['shelf']\n",
      "grab cup from shelf on desk shelf ['mug'] ['mug']\n",
      "go to right desk mug ['desk'] ['desklamp']\n",
      "turn lamp on desklamp ['desklamp'] ['desklamp']\n",
      "turn to your left go to desk in front you ['desk'] ['shelf']\n",
      "pick up white coffee cup between computer lamp on desk shelf ['mug'] ['mug']\n"
     ]
    },
    {
     "name": "stderr",
     "output_type": "stream",
     "text": [
      "\r",
      "  9%|███████▎                                                                       | 429/4627 [00:06<01:08, 61.33it/s]"
     ]
    },
    {
     "name": "stdout",
     "output_type": "stream",
     "text": [
      "move to your right so that you are at right end desk mug ['desk'] ['desklamp']\n",
      "turn on lamp on front right corner desk desklamp ['desklamp'] ['desklamp']\n",
      "walk to face desk ['desk'] ['shelf']\n",
      "pick up white mug from desk shelf ['mug'] ['mug']\n",
      "step back slightly to continue to face desk mug ['cabinet'] ['desklamp']\n",
      "turn on desk lamp on desk desklamp ['desklamp'] ['desklamp']\n",
      "turn to your left walk to desk ['diningtable'] ['shelf']\n",
      "pick up white mug sitting behind blue pencil between laptop lamp shelf ['mug'] ['mug']\n",
      "move to your right stand in front lamp mug ['floorlamp'] ['desklamp']\n",
      "turn lamp on desklamp ['desklamp'] ['desklamp']\n",
      "pick up mug that on desk closest to wall desk ['mug'] ['mug']\n",
      "turn on lamp that on desk desklamp ['desklamp'] ['desklamp']\n"
     ]
    },
    {
     "name": "stderr",
     "output_type": "stream",
     "text": [
      " 10%|███████▌                                                                       | 443/4627 [00:07<01:08, 60.72it/s]"
     ]
    },
    {
     "name": "stdout",
     "output_type": "stream",
     "text": [
      "pick up white mug from desk desk ['mug'] ['mug']\n",
      "turn lamp on desklamp ['desklamp'] ['desklamp']\n",
      "pick up mug nearest to wall on desk desk ['mug'] ['mug']\n",
      "turn on lamp desklamp ['desklamp'] ['desklamp']\n",
      "turn to left walk to sofa ['sofa'] ['sofa']\n",
      "pick up newspaper from sofa sofa ['newspaper'] ['newspaper']\n",
      "walk to floor lamp that to left sofa newspaper ['floorlamp'] ['floorlamp']\n",
      "turn on lamp floorlamp ['floorlamp'] ['floorlamp']\n",
      "move to right side large tan sofa ['sofa'] ['sofa']\n",
      "pick up newspaper on top sofa sofa ['newspaper'] ['newspaper']\n",
      "carry newspaper to left side sofa where lamp newspaper ['floorlamp'] ['floorlamp']\n",
      "turn on lamp floorlamp ['floorlamp'] ['floorlamp']\n"
     ]
    },
    {
     "name": "stderr",
     "output_type": "stream",
     "text": [
      " 10%|███████▊                                                                       | 457/4627 [00:07<01:06, 62.87it/s]"
     ]
    },
    {
     "name": "stdout",
     "output_type": "stream",
     "text": [
      "turn to left twice take few step forward turn to right go to sofa ['sofa'] ['sofa']\n",
      "pick up newspaper from sofa sofa ['newspaper'] ['newspaper']\n",
      "turn to right go to blue chair turn to right newspaper ['sofa'] ['floorlamp']\n",
      "turn on floor lamp floorlamp ['floorlamp'] ['floorlamp']\n",
      "turn right head towards cupboard ['sidetable'] ['cabinet']\n",
      "open cupboard take out newspaper cabinet ['newspaper'] ['newspaper']\n",
      "turn left towards standing light newspaper ['floorlamp'] ['floorlamp']\n",
      "turn on standing light floorlamp ['floorlamp'] ['floorlamp']\n",
      "move to middle door large wooden cabinet ['cabinet'] ['cabinet']\n",
      "open middle cabinet door remove newspaper sitting on bottom cabinet ['newspaper'] ['newspaper']\n",
      "carry newspaper to floor lamp to left cabinet newspaper ['floorlamp'] ['floorlamp']\n",
      "turn on lamp floorlamp ['floorlamp'] ['floorlamp']\n",
      "walk forward turn right at cabinet approach computer ['shelf'] ['cabinet']\n",
      "open left cabinet door remove newspaper close door cabinet ['newspaper'] ['newspaper']\n"
     ]
    },
    {
     "name": "stderr",
     "output_type": "stream",
     "text": [
      " 10%|████████                                                                       | 471/4627 [00:07<01:08, 60.36it/s]"
     ]
    },
    {
     "name": "stdout",
     "output_type": "stream",
     "text": [
      "turn left walk to trash can turn right put newspaper on top dresser newspaper ['newspaper', 'dresser'] ['floorlamp']\n",
      "turn on lap floorlamp ['floorlamp'] ['floorlamp']\n",
      "move to right side wood cupboard to left blue sofa ['laptop'] ['cabinet']\n",
      "open right cupboard then remove newspaper in cupboard cabinet ['newspaper'] ['newspaper']\n",
      "carry newspaper to lamp that left tan sofa newspaper ['floorlamp'] ['floorlamp']\n",
      "turn on lamp floorlamp ['floorlamp'] ['floorlamp']\n",
      "walk up to very last cabinet door on your left ['cabinet'] ['cabinet']\n",
      "open door pick up newspaper that in cabinet cabinet ['newspaper'] ['newspaper']\n",
      "turn to your right walk up to white sofa newspaper ['sofa'] ['floorlamp']\n",
      "turn on lamp that to left white sofa floorlamp ['floorlamp'] ['floorlamp']\n",
      "open cabinet door on far right bureau take out newspaper close cabinet door cabinet ['newspaper'] ['newspaper']\n",
      "turn on lamp floorlamp ['floorlamp'] ['floorlamp']\n"
     ]
    },
    {
     "name": "stderr",
     "output_type": "stream",
     "text": [
      "\r",
      " 10%|████████▏                                                                      | 478/4627 [00:07<01:07, 61.79it/s]"
     ]
    },
    {
     "name": "stdout",
     "output_type": "stream",
     "text": [
      "go to desk on your right ['desk'] ['desk']\n",
      "grab pencil from desk desk ['pencil'] ['pencil']\n",
      "walk to computer desk behind you to your left pencil ['desk'] ['desklamp']\n",
      "turn lamp on desklamp ['desklamp'] ['desklamp']\n",
      "move step forward face to desk on right ['desk'] ['desk']\n",
      "pick up pencil from center desk desk ['pencil'] ['pencil']\n",
      "hold pencil turn on lamp on right side desk desklamp ['desklamp'] ['desklamp']\n",
      "turn to right face desk ['desk'] ['desk']\n",
      "pick pencil up from desk desk ['pencil'] ['pencil']\n",
      "turn to right then left turn left again to face lamp on desk pencil ['floorlamp'] ['desklamp']\n",
      "turn lamp on desk on desklamp ['desklamp'] ['desklamp']\n",
      "go to desk ['diningtable'] ['desk']\n",
      "pick up pencil from desk desk"
     ]
    },
    {
     "name": "stderr",
     "output_type": "stream",
     "text": [
      " 11%|████████▍                                                                      | 492/4627 [00:07<01:08, 60.49it/s]"
     ]
    },
    {
     "name": "stdout",
     "output_type": "stream",
     "text": [
      " ['pencil'] ['pencil']\n",
      "take pencil to lamp pencil ['floorlamp'] ['desklamp']\n",
      "turn on lamp desklamp ['desklamp'] ['desklamp']\n",
      "pick up pencil from desk which under cell phone desk ['pencil'] ['pencil']\n",
      "walk slightly to right turn left to face lamp on desk pencil ['bowl'] ['desklamp']\n",
      "turn on lamp desklamp ['desklamp'] ['desklamp']\n",
      "pick up pencil next to cell phone on desk desk ['pencil'] ['pencil']\n",
      "move to right toward lamp pencil ['drawer'] ['desklamp']\n",
      "turn on lamp desklamp ['desklamp'] ['desklamp']\n",
      "cross room to left then turn to left face lamp on desk ['dresser'] ['shelf']\n",
      "pick pencil up from shelf above computer on desk shelf ['pencil'] ['pencil']\n",
      "look down at lamp pencil ['desklamp'] ['desklamp']\n"
     ]
    },
    {
     "name": "stderr",
     "output_type": "stream",
     "text": [
      " 11%|████████▋                                                                      | 506/4627 [00:08<01:07, 61.03it/s]"
     ]
    },
    {
     "name": "stdout",
     "output_type": "stream",
     "text": [
      "turn lamp on desklamp ['desklamp'] ['desklamp']\n",
      "walk to right side wooden desk to your left ['desk'] ['shelf']\n",
      "pick up pencil off middle shelf behind desk shelf ['pencil'] ['pencil']\n",
      "look down at lamp on desk pencil ['bowl'] ['desklamp']\n",
      "turn on light small lamp desklamp ['desklamp'] ['desklamp']\n",
      "pick up white pencil that sitting on shelf above desk shelf ['pencil'] ['pencil']\n",
      "lower pencil down to desk area pencil ['desk'] ['desklamp']\n",
      "turn on lamp that sitting on desk desklamp ['desklamp'] ['desklamp']\n",
      "turn to left then right to brown dresser ['dresser'] ['dresser']\n",
      "pick up remote from middle dresser directly behind tissue dresser ['remotecontrol'] ['remotecontrol']\n",
      "hold remote move step to left remotecontrol ['floorlamp'] ['floorlamp']\n",
      "hold remote turn on lamp floorlamp ['floorlamp'] ['floorlamp']\n",
      "pick up remote behind box tissue on dresser dresser ['remotecontrol'] ['remotecontrol']\n"
     ]
    },
    {
     "name": "stderr",
     "output_type": "stream",
     "text": [
      " 11%|████████▉                                                                      | 520/4627 [00:08<01:08, 59.58it/s]"
     ]
    },
    {
     "name": "stdout",
     "output_type": "stream",
     "text": [
      "turn on lamp in corner floorlamp ['floorlamp'] ['floorlamp']\n",
      "hang right to walk towards dresser in corner ['sidetable'] ['dresser']\n",
      "pick on remote that on dresser dresser ['remotecontrol'] ['remotecontrol']\n",
      "turn to face lamp on right dresser remotecontrol ['floorlamp'] ['floorlamp']\n",
      "turn on lamp next to dresser floorlamp ['floorlamp'] ['floorlamp']\n",
      "pick up remote that on blue chair armchair ['remotecontrol'] ['remotecontrol']\n",
      "turn right towards tan couch then point remote at wall remotecontrol ['sofa'] ['floorlamp']\n",
      "turn on lamp floorlamp ['floorlamp'] ['floorlamp']\n",
      "turn left hang left at couch walk to blue chair ahead ['armchair'] ['armchair']\n",
      "pick up remote control from back left corner cushion on chair armchair ['remotecontrol'] ['remotecontrol']\n",
      "turn left walk to end couch ahead remotecontrol ['sofa'] ['floorlamp']\n",
      "turn on tall lamp to left couch floorlamp ['floorlamp'] ['floorlamp']\n"
     ]
    },
    {
     "name": "stderr",
     "output_type": "stream",
     "text": [
      " 12%|█████████                                                                      | 533/4627 [00:08<01:08, 59.62it/s]"
     ]
    },
    {
     "name": "stdout",
     "output_type": "stream",
     "text": [
      "turn left walk ahead veering left to blue chair in corner ['armchair'] ['armchair']\n",
      "pick up remote on chair armchair ['remotecontrol'] ['remotecontrol']\n",
      "turn right walk to lamp in corner room remotecontrol ['floorlamp'] ['floorlamp']\n",
      "turn lamp on floorlamp ['floorlamp'] ['floorlamp']\n",
      "pick up remote to left cardboard box on chair armchair ['remotecontrol'] ['remotecontrol']\n",
      "turn to lamp on your right between arm chair couch remotecontrol ['floorlamp'] ['floorlamp']\n",
      "turn on lamp floorlamp ['floorlamp'] ['floorlamp']\n",
      "walk to couch take left walk to blue chair ['armchair'] ['armchair']\n",
      "pick up remote from blue chair armchair ['remotecontrol'] ['remotecontrol']\n",
      "turn right to face couch lift remote to lamp remotecontrol ['floorlamp'] ['floorlamp']\n",
      "turn lamp on floorlamp ['floorlamp'] ['floorlamp']\n",
      "walk forward make left until blue armchair reached ['armchair'] ['armchair']\n"
     ]
    },
    {
     "name": "stderr",
     "output_type": "stream",
     "text": [
      "\r",
      " 12%|█████████▏                                                                     | 540/4627 [00:08<01:08, 60.00it/s]"
     ]
    },
    {
     "name": "stdout",
     "output_type": "stream",
     "text": [
      "pick up remote from seat blue armchair armchair ['remotecontrol'] ['remotecontrol']\n",
      "turn to face tall lamp on right blue armchair remotecontrol ['floorlamp'] ['floorlamp']\n",
      "turn on tall lamp floorlamp ['floorlamp'] ['floorlamp']\n",
      "turn around walk towards white shelf ['shelf'] ['shelf']\n",
      "pick up statue trophy on top shelf shelf ['statue'] ['statue']\n",
      "turn left walk towards tall lamp statue ['floorlamp'] ['floorlamp']\n",
      "turn on lamp floorlamp ['floorlamp'] ['floorlamp']\n",
      "turn around face shelf behind you ['shelf'] ['shelf']\n",
      "pick up statue from top shelf shelf ['statue'] ['statue']\n",
      "turn around walk in front couch to lamp statue ['floorlamp'] ['floorlamp']\n",
      "turn on lamp floorlamp ['floorlamp'] ['floorlamp']\n",
      "turn around go forward to shelf ['shelf'] ['shelf']\n",
      "pick up statue on top shelf shelf ['statue'] ['statue']\n"
     ]
    },
    {
     "name": "stderr",
     "output_type": "stream",
     "text": [
      " 12%|█████████▍                                                                     | 554/4627 [00:08<01:05, 62.56it/s]"
     ]
    },
    {
     "name": "stdout",
     "output_type": "stream",
     "text": [
      "turn on lamp floorlamp ['floorlamp'] ['floorlamp']\n",
      "move to dresser behind you ['dresser'] ['dresser']\n",
      "pick up statue from dresser dresser ['statue'] ['statue']\n",
      "move to lamp to left statue ['floorlamp'] ['floorlamp']\n",
      "turn on lamp floorlamp ['floorlamp'] ['floorlamp']\n",
      "turn around walk to dresser ['dresser'] ['dresser']\n",
      "pick up black statue that sitting on dresser to left open box dresser ['statue'] ['statue']\n",
      "turn on lamp floorlamp ['floorlamp'] ['floorlamp']\n",
      "turn around walk to face bureau drawer with statue box on top ['dresser'] ['dresser']\n",
      "pick up human figure statue from top bureau dresser ['statue'] ['statue']\n",
      "walk left to face left edge bureau drawer floor lamp statue ['dresser'] ['floorlamp']\n",
      "turn on floor lamp floorlamp ['floorlamp'] ['floorlamp']\n",
      "turn right walk towards door then hang right walk up to wooden dresser ['shelf'] ['dresser']\n"
     ]
    },
    {
     "name": "stderr",
     "output_type": "stream",
     "text": [
      " 12%|█████████▋                                                                     | 568/4627 [00:09<01:04, 62.99it/s]"
     ]
    },
    {
     "name": "stdout",
     "output_type": "stream",
     "text": [
      "pick up leftmost black statue off wooden dresser dresser ['statue'] ['statue']\n",
      "turn left walk to lamp that to left wooden dresser statue ['floorlamp'] ['floorlamp']\n",
      "turn on light lamp floorlamp ['floorlamp'] ['floorlamp']\n",
      "walk to front dresser where statue are ['dresser'] ['dresser']\n",
      "pick up statue from dresser dresser ['statue'] ['statue']\n",
      "walk statue to lamp on stand raise statue statue ['floorlamp'] ['floorlamp']\n",
      "turn lamp on to look at statue floorlamp ['floorlamp'] ['floorlamp']\n",
      "move right then right again go straight to wood end table ['sidetable'] ['dresser']\n",
      "pick up statue on top end table dresser ['statue'] ['statue']\n",
      "move slightly left to face floor lamp to left end table statue ['floorlamp'] ['floorlamp']\n",
      "turn on lamp floorlamp ['floorlamp'] ['floorlamp']\n",
      "walk forward across room then turn right go to large wooden cabinet ['dresser'] ['cabinet']\n",
      "open bottom left cabinet door remove tissue box from it cabinet ['tissuebox'] ['tissuebox']\n"
     ]
    },
    {
     "name": "stderr",
     "output_type": "stream",
     "text": [
      " 13%|█████████▉                                                                     | 582/4627 [00:09<01:02, 64.46it/s]"
     ]
    },
    {
     "name": "stdout",
     "output_type": "stream",
     "text": [
      "move few foot to left to face floor lamp in corner tissuebox ['floorlamp'] ['floorlamp']\n",
      "turn on lamp floorlamp ['floorlamp'] ['floorlamp']\n",
      "walk forward veer all way right to left side dresser on far wall ['dresser'] ['cabinet']\n",
      "take tissue box out bottom left cabinet cabinet ['tissuebox'] ['tissuebox']\n",
      "turn left look at lamp tissuebox ['floorlamp'] ['floorlamp']\n",
      "turn on lamp floorlamp ['floorlamp'] ['floorlamp']\n",
      "walk forward to end room then hang right go forward to other end room ['cloth'] ['cabinet']\n",
      "open up cabinet door grab box tissue out it cabinet ['tissuebox'] ['tissuebox']\n",
      "move left bit face lamp to left cabinet tissuebox ['desklamp'] ['floorlamp']\n",
      "turn on lamp floorlamp ['floorlamp'] ['floorlamp']\n",
      "turn right turn left walk to cabinet ['dresser'] ['cabinet']\n",
      "open closet at right bottom take tissue box out close closet cabinet ['tissuebox'] ['tissuebox']\n",
      "turn right walk to white sofa tissuebox ['sofa'] ['floorlamp']\n"
     ]
    },
    {
     "name": "stderr",
     "output_type": "stream",
     "text": [
      " 13%|██████████▏                                                                    | 596/4627 [00:09<01:03, 63.84it/s]"
     ]
    },
    {
     "name": "stdout",
     "output_type": "stream",
     "text": [
      "turn on lamp by sofa floorlamp ['floorlamp'] ['floorlamp']\n",
      "move to dresser to left blue chair ['dresser'] ['cabinet']\n",
      "turn to right move to left arm white couch look up at lampshade tissuebox ['coffeetable'] ['floorlamp']\n",
      "turn on floor lamp in between blue chair white couch floorlamp ['floorlamp'] ['floorlamp']\n",
      "walk to wooden cabinet next to couch ['sidetable'] ['cabinet']\n",
      "grab box tissue out from bottom right cabinet cabinet ['tissuebox'] ['tissuebox']\n",
      "walk to lamp in corner room tissuebox ['floorlamp'] ['floorlamp']\n",
      "turn on lamp in corner room floorlamp ['floorlamp'] ['floorlamp']\n",
      "turn to dresser on your right ['dresser'] ['dresser']\n",
      "pick up box tissue dresser ['tissuebox'] ['tissuebox']\n",
      "turn go to lamp in corner on your left tissuebox ['floorlamp'] ['floorlamp']\n",
      "turn on lamp floorlamp ['floorlamp'] ['floorlamp']\n",
      "turn right move to dresser ['dresser'] ['dresser']\n"
     ]
    },
    {
     "name": "stderr",
     "output_type": "stream",
     "text": [
      " 13%|██████████▍                                                                    | 610/4627 [00:09<01:03, 63.51it/s]"
     ]
    },
    {
     "name": "stdout",
     "output_type": "stream",
     "text": [
      "pick up box tissue from dresser dresser ['tissuebox'] ['tissuebox']\n",
      "head to lamp at left dresser tissuebox ['desklamp'] ['floorlamp']\n",
      "turn on lamp floorlamp ['floorlamp'] ['floorlamp']\n",
      "walk to right reach cross to wooded brown dresser with computer ['dresser'] ['dresser']\n",
      "grab tissue paper from dresser dresser ['tissuebox'] ['tissuebox']\n",
      "walk to right for two pace you reach corner lamp tissuebox ['floorlamp'] ['floorlamp']\n",
      "carry tissue you turn on lamp floorlamp ['floorlamp'] ['floorlamp']\n",
      "pick up golden vase that sitting on shelf shelf ['vase'] ['vase']\n",
      "lift up vase turn on lamp floorlamp ['floorlamp'] ['floorlamp']\n",
      "go forward to right to face white shelf with gold vase ['shelf'] ['shelf']\n",
      "pick vase up from shelf shelf ['vase'] ['vase']\n",
      "turn around cross room to face lamp to right blue chair vase ['floorlamp'] ['floorlamp']\n",
      "turn lamp on floorlamp ['floorlamp'] ['floorlamp']\n"
     ]
    },
    {
     "name": "stderr",
     "output_type": "stream",
     "text": [
      " 13%|██████████▋                                                                    | 624/4627 [00:09<01:01, 65.56it/s]"
     ]
    },
    {
     "name": "stdout",
     "output_type": "stream",
     "text": [
      "pick up gold vase on left side white shelf shelf ['vase'] ['vase']\n",
      "turn around walk across room to lamp between blue white couch vase ['floorlamp'] ['floorlamp']\n",
      "turn on lamp in corner room floorlamp ['floorlamp'] ['floorlamp']\n",
      "turn right then head towards desk ['desk'] ['cabinet']\n",
      "open left door in desk cabinet ['baseballbat'] ['vase']\n",
      "pick up brass candy dish inside then close door vase ['plate'] ['floorlamp']\n",
      "turn left then turn on lamp against wall floorlamp ['floorlamp'] ['floorlamp']\n",
      "walk towards door then hang right walk to wooden dresser ['dresser'] ['cabinet']\n",
      "open leftmost cabinet door below dresser take out golden vase then close door cabinet ['vase'] ['vase']\n",
      "turn on light tall lamp floorlamp ['floorlamp'] ['floorlamp']\n",
      "move to bottom left side cabinet ['cabinet'] ['cabinet']\n",
      "pick up gold vase in cabinet cabinet ['vase'] ['vase']\n",
      "carry gold vase to floor lamp on right vase ['floorlamp'] ['floorlamp']\n",
      "turn on lamp floorlamp ['floorlamp'] ['floorlamp']\n"
     ]
    },
    {
     "name": "stderr",
     "output_type": "stream",
     "text": [
      "\r",
      " 14%|██████████▊                                                                    | 632/4627 [00:10<00:59, 67.01it/s]"
     ]
    },
    {
     "name": "stdout",
     "output_type": "stream",
     "text": [
      "turn left walk to cabinet ['dresser'] ['cabinet']\n",
      "open second door from right take vase out cabinet ['glassbottle'] ['vase']\n",
      "turn right walk to corner vase ['safe'] ['floorlamp']\n",
      "turn on lamp on end table floorlamp ['floorlamp'] ['floorlamp']\n",
      "move to middle wood cupboard wood table ['cabinet'] ['cabinet']\n",
      "open middle cupboard remove gold vase in cupboard shut cupboard cabinet ['vase'] ['vase']\n",
      "carry gold vase to floor lamp on left vase ['floorlamp'] ['floorlamp']\n",
      "turn on lamp floorlamp ['floorlamp'] ['floorlamp']\n",
      "move to end table dresser to left blue arm chair ['sidetable'] ['cabinet']\n",
      "pick up vase from cabinet cabinet ['vase'] ['vase']\n",
      "move to lamp to right vase ['floorlamp'] ['floorlamp']\n",
      "turn on lamp floorlamp ['floorlamp'] ['floorlamp']\n",
      "turn right move towards chair turn left move towards door ['countertop'] ['baseballbat']\n",
      "pick up bat baseballbat ['baseballbat'] ['baseballbat']\n"
     ]
    },
    {
     "name": "stderr",
     "output_type": "stream",
     "text": [
      " 14%|███████████                                                                    | 647/4627 [00:10<00:59, 66.98it/s]"
     ]
    },
    {
     "name": "stdout",
     "output_type": "stream",
     "text": [
      "turn around move towards chair then turn right move towards bed baseballbat ['bed'] ['bed']\n",
      "drop bat on bed bed ['baseballbat', 'bed'] ['baseballbat', 'bed']\n",
      "pick up black bat lying in corner room baseballbat ['baseballbat'] ['baseballbat']\n",
      "head to corner room with baseball bat ['baseballbat'] ['baseballbat']\n",
      "pick up baseball bat against wall baseballbat ['baseballbat'] ['baseballbat']\n",
      "bring bat to bed baseballbat ['bed'] ['bed']\n",
      "put bat on top bed bed ['baseballbat', 'bed'] ['baseballbat', 'bed']\n",
      "turn around walk to door ['sidetable'] ['baseballbat']\n",
      "pick up baseball bat in corner baseballbat ['baseballbat'] ['baseballbat']\n",
      "turn around walk around bed baseballbat ['bed'] ['bed']\n",
      "put bat on bed bed ['baseballbat', 'bed'] ['baseballbat', 'bed']\n",
      "turn around walk to bat leaning against wall ['tennisracket'] ['baseballbat']\n",
      "pick up bat leaning against wall baseballbat ['baseballbat'] ['baseballbat']\n"
     ]
    },
    {
     "name": "stderr",
     "output_type": "stream",
     "text": [
      " 14%|███████████▎                                                                   | 662/4627 [00:10<00:58, 68.32it/s]"
     ]
    },
    {
     "name": "stdout",
     "output_type": "stream",
     "text": [
      "turn around walk to left side bed baseballbat ['bed'] ['bed']\n",
      "place bat on top bed bed ['baseballbat', 'bed'] ['baseballbat', 'bed']\n",
      "turn around walk towards door turn right walk towards bat on floor ['baseballbat'] ['baseballbat']\n",
      "pick up bat from floor baseballbat ['baseballbat'] ['baseballbat']\n",
      "turn right head towards desk turn right head towards bed baseballbat ['bed'] ['bed']\n",
      "place bat on bed bed ['baseballbat', 'bed'] ['baseballbat', 'bed']\n",
      "turn left walk to opposite corner room by door ['drawer'] ['baseballbat']\n",
      "pick up baseball bat from corner room baseballbat ['baseballbat'] ['baseballbat']\n",
      "turn around walk to side bed baseballbat ['bed'] ['bed']\n",
      "put bat down on bed just right green book bed ['baseballbat', 'bed'] ['baseballbat', 'bed']\n",
      "pick up bat leaning against wall baseballbat ['baseballbat'] ['baseballbat']\n",
      "place bat on bed in front right laptop bed ['baseballbat', 'bed'] ['baseballbat', 'bed']\n",
      "pick up bat on wall baseballbat ['baseballbat'] ['baseballbat']\n",
      "take right walk to desk take right to side bed baseballbat ['bed'] ['bed']\n"
     ]
    },
    {
     "name": "stderr",
     "output_type": "stream",
     "text": [
      " 15%|███████████▌                                                                   | 677/4627 [00:10<00:58, 67.22it/s]"
     ]
    },
    {
     "name": "stdout",
     "output_type": "stream",
     "text": [
      "set bat down on bed bed ['baseballbat', 'bed'] ['baseballbat', 'bed']\n",
      "grab white mug sitting on shelf between book shelf ['mug'] ['mug']\n",
      "put mug down on desk so it s between water bottle disc desk ['mug', 'desk'] ['mug', 'desk']\n",
      "move to left end desk mug ['desk'] ['desk']\n",
      "place white cup back on desk directly in front blue office chair desk ['mug', 'desk'] ['mug', 'desk']\n",
      "turn to face desk top shelf above desk ['shelf'] ['shelf']\n",
      "pick up white mug from shelf second from desk top shelf ['mug'] ['mug']\n",
      "walk to left side desk mug ['desk'] ['desk']\n",
      "put mug on desk top on cd desk ['mug', 'desk'] ['mug', 'desk']\n",
      "walk around to desk face middle row book ['desk'] ['shelf']\n",
      "pick up white mug from top shelf shelf ['mug'] ['mug']\n",
      "walk mug around to side desk mug ['desk'] ['desk']\n",
      "set mug on desk desk ['mug', 'desk'] ['mug', 'desk']\n",
      "pick up mug on shelf shelf ['mug'] ['mug']\n"
     ]
    },
    {
     "name": "stderr",
     "output_type": "stream",
     "text": [
      " 15%|███████████▊                                                                   | 691/4627 [00:10<01:00, 64.69it/s]"
     ]
    },
    {
     "name": "stdout",
     "output_type": "stream",
     "text": [
      "turn around move to side desk closer to bed face side desk mug ['desk'] ['desk']\n",
      "put mug on desk desk ['mug', 'desk'] ['mug', 'desk']\n",
      "walk around bed to front computer desk on your left ['diningtable'] ['shelf']\n",
      "pick up coffee cup from top shelf desk shelf ['mug'] ['mug']\n",
      "walk to side computer desk mug ['desk'] ['desk']\n",
      "place cup on edge desk desk ['mug', 'desk'] ['mug', 'desk']\n",
      "go to desk that in front book shelf with computer on it ['desk'] ['shelf']\n",
      "pick up white coffee mug from book shelf shelf ['mug'] ['mug']\n",
      "go to left end desk mug ['desk'] ['desk']\n",
      "place mug on left end desk desk ['mug', 'desk'] ['mug', 'desk']\n",
      "pick up cup from shelf shelf ['cup'] ['mug']\n",
      "carry cup turn to left then face desk on right side mug ['desk'] ['desk']\n"
     ]
    },
    {
     "name": "stderr",
     "output_type": "stream",
     "text": [
      "\r",
      " 15%|███████████▉                                                                   | 698/4627 [00:11<01:00, 64.91it/s]"
     ]
    },
    {
     "name": "stdout",
     "output_type": "stream",
     "text": [
      "place cup on short side desk close to you desk ['mug', 'desk'] ['mug', 'desk']\n",
      "pick up white coffee mug that s on desk shelf ['mug'] ['mug']\n",
      "turn around walk to bed turn right at bed mug ['bed'] ['desk']\n",
      "put coffee mug back down on left side desk to right bed desk ['mug', 'desk'] ['mug', 'desk']\n",
      "turn to right ['sidetable'] ['desk']\n",
      "head to desk in corner desk ['desk'] ['pencil']\n",
      "take pencil from desk pencil ['shelf'] ['shelf']\n",
      "turn around twice put pencil on desk shelf ['pencil', 'shelf'] ['pencil', 'shelf']\n",
      "pick up white pencil on desk desk ['pencil'] ['pencil']\n",
      "turn around in circle pencil ['shelf'] ['shelf']\n",
      "put pencil back down on desk by book shelf ['pencil', 'shelf'] ['pencil', 'shelf']\n",
      "pick up pencil on desk to right lamp desk ['pencil'] ['pencil']\n",
      "place pencil back on desk in front key shelf ['pencil', 'shelf'] ['pencil', 'shelf']\n",
      "pick up pencil in middle desk between clear bowl key desk ['pencil'] ['pencil']\n"
     ]
    },
    {
     "name": "stderr",
     "output_type": "stream",
     "text": [
      " 15%|████████████▏                                                                  | 714/4627 [00:11<00:57, 67.92it/s]"
     ]
    },
    {
     "name": "stdout",
     "output_type": "stream",
     "text": [
      "place pencil in front book that are directly behind glass bowl on desk shelf ['pencil', 'shelf'] ['pencil', 'shelf']\n",
      "pick up pencil that on desk desk ['pencil'] ['pencil']\n",
      "turn around take step turn right take step turn right to face desk pencil ['shelf'] ['shelf']\n",
      "put pencil next to dish on desk shelf ['pencil', 'shelf'] ['pencil', 'shelf']\n",
      "turn right head to desk ['desk'] ['desk']\n",
      "take pencil from desk desk ['pencil'] ['pencil']\n",
      "turn around take few step to right face desk pencil ['shelf'] ['shelf']\n",
      "put pencil on desk shelf ['pencil', 'shelf'] ['pencil', 'shelf']\n",
      "pick up pencil near edge desk desk ['pencil'] ['pencil']\n",
      "turn around take one step then turn back around to face desk pencil ['shelf'] ['shelf']\n",
      "put pencil down directly in front set book on left shelf ['pencil', 'shelf'] ['pencil', 'shelf']\n",
      "go to right side wooden desk in front you ['desk'] ['desk']\n",
      "pick up white pencil on desk desk ['pencil'] ['pencil']\n",
      "turn around look behind you then turn back around pencil ['cabinet'] ['shelf']\n"
     ]
    },
    {
     "name": "stderr",
     "output_type": "stream",
     "text": [
      " 16%|████████████▍                                                                  | 728/4627 [00:11<00:58, 66.13it/s]"
     ]
    },
    {
     "name": "stdout",
     "output_type": "stream",
     "text": [
      "place white pencil on desk near book shelf ['pencil', 'desk'] ['pencil', 'shelf']\n",
      "walk forward left to face desk ['desk'] ['desk']\n",
      "pick up white pencil from desk desk ['pencil'] ['pencil']\n",
      "turn to face desk pencil ['desk'] ['shelf']\n",
      "pick up salt shaker from counter countertop ['saltshaker'] ['peppershaker']\n",
      "turn right then left stand at drawer to left stove peppershaker ['drawer'] ['drawer']\n",
      "open middle drawer put shaker in shut drawer drawer ['saltshaker', 'drawer'] ['peppershaker', 'drawer']\n",
      "turn to left go to door then turn left go to kitchen island ['countertop'] ['countertop']\n",
      "pick up salt shaker in middle kitchen island countertop ['saltshaker'] ['peppershaker']\n",
      "turn right towards cabinet go to drawer next to stove peppershaker ['drawer'] ['drawer']\n",
      "open middle drawer place salt shaker in corner then close drawer drawer ['saltshaker', 'drawer'] ['peppershaker', 'drawer']\n",
      "turn left walk to window turn left walk to side counter ['diningtable'] ['countertop']\n",
      "grab salt bottle on counter countertop ['peppershaker'] ['peppershaker']\n"
     ]
    },
    {
     "name": "stderr",
     "output_type": "stream",
     "text": [
      " 16%|████████████▋                                                                  | 742/4627 [00:11<01:02, 62.64it/s]"
     ]
    },
    {
     "name": "stdout",
     "output_type": "stream",
     "text": [
      "turn right turn left walk to drawer on left side peppershaker ['drawer'] ['drawer']\n",
      "open second drawer put salt in drawer ['saltshaker', 'drawer'] ['peppershaker', 'drawer']\n",
      "turn walk to far side kitchen island by window ['countertop'] ['countertop']\n",
      "pick up salt shaker from kitchen island countertop ['saltshaker'] ['peppershaker']\n",
      "continue around island walk into kitchen just past oven peppershaker ['countertop'] ['drawer']\n",
      "open top drawer left oven put salt shaker in it drawer ['saltshaker', 'drawer'] ['peppershaker', 'drawer']\n",
      "pick up salt shaker from counter countertop ['saltshaker'] ['peppershaker']\n",
      "open middle drawer place salt shaker inside drawer ['saltshaker', 'drawer'] ['peppershaker', 'drawer']\n",
      "grab salt that to left red vase countertop ['saltshaker'] ['peppershaker']\n",
      "open second drawer from top place salt inside then close drawer drawer ['saltshaker', 'drawer'] ['peppershaker', 'drawer']\n",
      "turn left walk to counter ['countertop'] ['countertop']\n",
      "take salt bottle near coffee machine countertop ['saltshaker'] ['peppershaker']\n",
      "turn left walk to 3 drawer by oven peppershaker ['drawer'] ['drawer']\n"
     ]
    },
    {
     "name": "stderr",
     "output_type": "stream",
     "text": [
      " 16%|████████████▉                                                                  | 756/4627 [00:11<01:01, 62.67it/s]"
     ]
    },
    {
     "name": "stdout",
     "output_type": "stream",
     "text": [
      "open second drawer from top put salt in drawer close it drawer ['saltshaker', 'drawer'] ['peppershaker', 'drawer']\n",
      "turn left face coffee machine ['coffeemachine'] ['countertop']\n",
      "pick up salt shaker in front coffee machine countertop ['saltshaker'] ['peppershaker']\n",
      "turn left stand so oven to your right peppershaker ['cabinet'] ['drawer']\n",
      "turn left then straight back to counter top ['countertop'] ['countertop']\n",
      "pick up salt shaker on top table countertop ['saltshaker'] ['peppershaker']\n",
      "turn left move to drawer in middle to right dishwasher peppershaker ['drawer'] ['drawer']\n",
      "place salt shaker in drawer then shut drawer drawer ['saltshaker', 'drawer'] ['peppershaker', 'drawer']\n",
      "turn left go forward to counter with coffee machine ['countertop'] ['countertop']\n",
      "take salt from counter countertop ['saltshaker'] ['peppershaker']\n",
      "turn left go forward stop at stove peppershaker ['cabinet'] ['drawer']\n",
      "put salt in front corner middle drawer between stove dishwasher drawer ['saltshaker', 'drawer'] ['peppershaker', 'drawer']\n"
     ]
    },
    {
     "name": "stderr",
     "output_type": "stream",
     "text": [
      " 17%|█████████████▏                                                                 | 770/4627 [00:12<01:02, 61.73it/s]"
     ]
    },
    {
     "name": "stdout",
     "output_type": "stream",
     "text": [
      "turn left move towards counter area to right oven ['countertop'] ['countertop']\n",
      "pick up salt shaker in front coffee maker countertop ['saltshaker'] ['peppershaker']\n",
      "turn left move to area that between sink drawer to left oven peppershaker ['drawer'] ['drawer']\n",
      "go counter in front coffee machine ['countertop'] ['countertop']\n",
      "pick up pepper shaker from counter countertop ['saltshaker'] ['peppershaker']\n",
      "turn walk to your left stop when you reach sink peppershaker ['cabinet'] ['drawer']\n",
      "put shaker in bottom drawer on right drawer ['saltshaker', 'drawer'] ['peppershaker', 'drawer']\n",
      "turn around walk to coffee maker on counter ['countertop'] ['countertop']\n",
      "pick up salt shaker to left coffee maker countertop ['saltshaker'] ['peppershaker']\n",
      "turn left go to shelf in between stove dishwasher peppershaker ['shelf'] ['drawer']\n",
      "put salt shaker in second drawer to left silverware drawer ['saltshaker', 'drawer'] ['peppershaker', 'drawer']\n",
      "pick up salt shaker from counter top countertop ['saltshaker'] ['peppershaker']\n",
      "turn to left twice take step turn to right take few step peppershaker ['shelf'] ['drawer']\n"
     ]
    },
    {
     "name": "stderr",
     "output_type": "stream",
     "text": [
      " 17%|█████████████▍                                                                 | 784/4627 [00:12<01:02, 61.06it/s]"
     ]
    },
    {
     "name": "stdout",
     "output_type": "stream",
     "text": [
      "open middle drawer left oven put salt shaker in drawer close drawer drawer ['saltshaker', 'drawer'] ['peppershaker', 'drawer']\n",
      "turn around go to kitchen counter with coffee maker on it ['coffeemachine'] ['countertop']\n",
      "pick up salt shaker to left coffee maker countertop ['saltshaker'] ['peppershaker']\n",
      "put salt shaker in second drawer from top under counter to left stove drawer ['saltshaker', 'drawer'] ['peppershaker', 'drawer']\n",
      "turn left towards window then turn left walk towards coffee maker ['countertop'] ['countertop']\n",
      "pick up salt shaker to left coffee maker countertop ['saltshaker'] ['peppershaker']\n",
      "turn left head towards drawer in between oven dishwasher peppershaker ['drawer'] ['drawer']\n",
      "pull out middle drawer place salt shaker in it close drawer drawer ['saltshaker', 'drawer'] ['peppershaker', 'drawer']\n",
      "turn left walk to coffee maker ['countertop'] ['countertop']\n",
      "pick up salt shaker countertop ['saltshaker'] ['peppershaker']\n",
      "turn left walk past stove peppershaker ['countertop'] ['drawer']\n",
      "put salt shaker in second drawer immediately to left stove drawer ['saltshaker', 'drawer'] ['peppershaker', 'drawer']\n",
      "turn around then head across room to counter ['countertop'] ['countertop']\n"
     ]
    },
    {
     "name": "stderr",
     "output_type": "stream",
     "text": [
      "\r",
      " 17%|█████████████▌                                                                 | 791/4627 [00:12<01:03, 60.85it/s]"
     ]
    },
    {
     "name": "stdout",
     "output_type": "stream",
     "text": [
      "pick up salt shaker off counter countertop ['saltshaker'] ['peppershaker']\n",
      "turn left walk past oven open top drawer in between oven dish washer peppershaker ['drawer'] ['drawer']\n",
      "open drawer place salt shaker inside then close drawer drawer ['saltshaker', 'drawer'] ['peppershaker', 'drawer']\n",
      "walk forward four step turn left for four step stop to left toilet ['countertop'] ['plunger']\n",
      "pick up plunger from floor between sink toilet plunger ['plunger'] ['plunger']\n",
      "turn around walk three step turn around again face sink plunger ['cabinet'] ['cabinet']\n",
      "open left cabinet door under sink place plunger in cabinet on front right cabinet ['plunger', 'cabinet'] ['plunger', 'cabinet']\n",
      "move forward towards shower stall then turn left face sink ['countertop'] ['plunger']\n",
      "pick up turquoise toilet plunger from floor between sink toilet plunger ['soapbottle'] ['plunger']\n",
      "turn around move towards bathroom door then turn around face bathroom vanity plunger ['cabinet'] ['cabinet']\n",
      "move left towards toilet ['toilet'] ['plunger']\n",
      "pick up plunger beside toilet plunger ['plunger'] ['plunger']"
     ]
    },
    {
     "name": "stderr",
     "output_type": "stream",
     "text": [
      " 17%|█████████████▊                                                                 | 806/4627 [00:12<01:00, 63.01it/s]"
     ]
    },
    {
     "name": "stdout",
     "output_type": "stream",
     "text": [
      "\n",
      "move left towards cupboard plunger ['cabinet'] ['cabinet']\n",
      "drop plunger inside cupboard cabinet ['plunger', 'cabinet'] ['plunger', 'cabinet']\n",
      "move to right facing plunger on floor to left toilet ['plunger'] ['plunger']\n",
      "pick up plunger on floor plunger ['plunger'] ['plunger']\n",
      "move to left facing white cabinet door plunger ['cabinet'] ['cabinet']\n",
      "open cabinet place plunger inside cabinet close cabinet cabinet ['plunger', 'cabinet'] ['plunger', 'cabinet']\n",
      "walk to sink to your right ['cabinet'] ['plunger']\n",
      "pick up green plunger from floor between sink toilet plunger ['plunger'] ['plunger']\n",
      "back up approach cabinet under sink plunger ['cabinet'] ['cabinet']\n",
      "open left side cabinet place plunger in cabinet cabinet ['plunger', 'cabinet'] ['plunger', 'cabinet']\n",
      "turn around towards sink toilet ['handtowelholder'] ['plunger']\n",
      "pick up plunger from between sink toilet plunger ['plunger'] ['plunger']\n",
      "turn towards sink to left plunger ['cabinet'] ['cabinet']\n",
      "open cabinet just to left place plunger inside cabinet ['plunger', 'cabinet'] ['plunger', 'cabinet']\n"
     ]
    },
    {
     "name": "stderr",
     "output_type": "stream",
     "text": [
      " 18%|██████████████                                                                 | 820/4627 [00:13<01:02, 60.80it/s]"
     ]
    },
    {
     "name": "stdout",
     "output_type": "stream",
     "text": [
      "turn around to toilet ['toilet'] ['plunger']\n",
      "grab plunger on floor behind toilet plunger ['plunger'] ['plunger']\n",
      "turn around turn around plunger ['cabinet'] ['cabinet']\n",
      "open second from right cabinet door put plunger in cabinet ['plunger', 'cabinet'] ['plunger', 'cabinet']\n",
      "turn around to face right side sink ['countertop'] ['plunger']\n",
      "pick up plunger from in between sink toilet plunger ['plunger'] ['plunger']\n",
      "move slightly to left to face cabinet under sink plunger ['cabinet'] ['cabinet']\n",
      "open left cabinet door place plunger inside cabinet cabinet ['plunger', 'cabinet'] ['plunger', 'cabinet']\n",
      "turn around to face sink toilet ['toiletpaperhanger'] ['plunger']\n",
      "pick up aqua plunger that sitting in between sink toilet plunger ['plunger'] ['plunger']\n",
      "take step backwards continue to face sink toilet plunger ['cabinet'] ['cabinet']\n",
      "walk towards wooden shelf on your left side ['shelf'] ['shelf']\n"
     ]
    },
    {
     "name": "stderr",
     "output_type": "stream",
     "text": [
      "\r",
      " 18%|██████████████                                                                 | 827/4627 [00:13<01:02, 60.36it/s]"
     ]
    },
    {
     "name": "stdout",
     "output_type": "stream",
     "text": [
      "pick up salt shaker on middle shelf shelf ['saltshaker'] ['saltshaker']\n",
      "open cabinet place shaker in it close door cabinet ['saltshaker', 'cabinet'] ['saltshaker', 'cabinet']\n",
      "head to three brown shelf ['shelf'] ['shelf']\n",
      "grab salt shaker off brown shelf shelf ['saltshaker'] ['saltshaker']\n",
      "walk to fridge saltshaker ['fridge'] ['cabinet']\n",
      "place salt shaker in cabinet to bottom right fridge cabinet ['saltshaker', 'cabinet'] ['saltshaker', 'cabinet']\n",
      "move to wooden rack ['shelf'] ['shelf']\n",
      "pick up salt from rack shelf ['saltshaker'] ['saltshaker']\n",
      "bring salt to cabinet right fridge saltshaker ['cabinet'] ['cabinet']\n",
      "put salt in that cabinet cabinet ['saltshaker', 'cabinet'] ['saltshaker', 'cabinet']\n",
      "turn to left make an semi circle to reach wooden table ['diningtable'] ['shelf']\n"
     ]
    },
    {
     "name": "stderr",
     "output_type": "stream",
     "text": [
      " 18%|██████████████▎                                                                | 840/4627 [00:13<01:03, 59.18it/s]"
     ]
    },
    {
     "name": "stdout",
     "output_type": "stream",
     "text": [
      "take only salt container from table shelf ['saltshaker'] ['saltshaker']\n",
      "turn left to your right with salt container saltshaker ['drawer'] ['cabinet']\n",
      "place container under cabin drawer under in drawer on left cabinet ['soapbottle', 'cabinet'] ['saltshaker', 'cabinet']\n",
      "turn around head towards wooden shelf ['shelf'] ['shelf']\n",
      "pick up salt shaker on top shelf shelf ['saltshaker'] ['saltshaker']\n",
      "turn around head towards fridge to your left saltshaker ['fridge'] ['cabinet']\n",
      "open lower cabinet to left fridge place shaker in it close door cabinet ['saltshaker', 'cabinet'] ['saltshaker', 'cabinet']\n",
      "move to wooden shelf ['shelf'] ['shelf']\n",
      "pick up salt from shelf shelf ['saltshaker'] ['saltshaker']\n",
      "bring salt to counter right fridge saltshaker ['countertop'] ['cabinet']\n",
      "place salt in cabinet under counter cabinet ['saltshaker', 'cabinet'] ['saltshaker', 'cabinet']\n",
      "turn around walk towards fridge turn right towards tomato on counter to your left ['countertop'] ['countertop']\n"
     ]
    },
    {
     "name": "stderr",
     "output_type": "stream",
     "text": [
      " 18%|██████████████▌                                                                | 853/4627 [00:13<01:03, 59.42it/s]"
     ]
    },
    {
     "name": "stdout",
     "output_type": "stream",
     "text": [
      "pick up salt shaker next to tomato on counter countertop ['saltshaker'] ['saltshaker']\n",
      "look up to see cabinet at top saltshaker ['cabinet'] ['cabinet']\n",
      "open cabinet door place shaker in it close door cabinet ['saltshaker', 'cabinet'] ['saltshaker', 'cabinet']\n",
      "move to counter left stove ['countertop'] ['countertop']\n",
      "pick up salt from counter countertop ['saltshaker'] ['saltshaker']\n",
      "bring salt up cabinet above counter saltshaker ['cabinet'] ['cabinet']\n",
      "put salt in cabinet above counter to left microwave cabinet ['saltshaker', 'cabinet'] ['saltshaker', 'cabinet']\n",
      "move to counter top to left stove ['countertop'] ['countertop']\n",
      "pick up salt shaker from counter top countertop ['saltshaker'] ['saltshaker']\n",
      "open cabinet above place salt shaker came from saltshaker ['saltshaker', 'cabinet'] ['cabinet']\n",
      "put salt shaker inside cabinet close door cabinet ['saltshaker', 'cabinet'] ['saltshaker', 'cabinet']\n",
      "turn right walk to wall then turn left walk to counter ['countertop'] ['cabinet']\n"
     ]
    },
    {
     "name": "stderr",
     "output_type": "stream",
     "text": [
      " 19%|██████████████▊                                                                | 865/4627 [00:13<01:07, 55.43it/s]"
     ]
    },
    {
     "name": "stdout",
     "output_type": "stream",
     "text": [
      "take salt shaker from cupboard above coffee maker cabinet ['saltshaker'] ['saltshaker']\n",
      "turn left walk in front oven saltshaker ['cabinet'] ['drawer']\n",
      "put salt shaker in middle drawer between dishwasher oven drawer ['saltshaker', 'drawer'] ['saltshaker', 'drawer']\n",
      "open upper cabinet in front you take out salt shaker then close cabinet cabinet ['saltshaker'] ['saltshaker']\n",
      "open middle drawer to left oven put salt shaker inside then close drawer drawer ['saltshaker', 'drawer'] ['saltshaker', 'drawer']\n",
      "turn right go around counter to cabinet above coffee maker ['cabinet'] ['cabinet']\n",
      "open cabinet pick up salt from cabinet close cabinet cabinet ['saltshaker'] ['saltshaker']\n",
      "turn left go to second drawer to left stove saltshaker ['drawer'] ['drawer']\n",
      "place salt in second drawer close drawer drawer ['saltshaker', 'drawer'] ['saltshaker', 'drawer']\n",
      "grab salt shaker out cabinet below kitchen counter cabinet ['saltshaker'] ['saltshaker']\n",
      "turn left walk to kitchen counter space to right dishwasher saltshaker ['drawer'] ['drawer']\n",
      "place salt shaker in second pullout drawer under kitchen counter to right dishwasher drawer ['saltshaker', 'drawer'] ['saltshaker', 'drawer']\n"
     ]
    },
    {
     "name": "stderr",
     "output_type": "stream",
     "text": [
      " 19%|██████████████▉                                                                | 877/4627 [00:14<01:06, 56.53it/s]"
     ]
    },
    {
     "name": "stdout",
     "output_type": "stream",
     "text": [
      "turn right walk to where coffee machine on counter ['countertop'] ['cabinet']\n",
      "turn around take step forward then turn right walk forward stop before sink saltshaker ['drawer'] ['drawer']\n",
      "go right then right again to stand facing counter with coffee maker to left ['countertop'] ['cabinet']\n",
      "open cabinet below coffee maker pick salt shaker up from cabinet cabinet ['saltshaker'] ['saltshaker']\n",
      "turn around stand to side drawer to left stove saltshaker ['drawer'] ['drawer']\n",
      "open drawer to left stove put shaker in shut drawer drawer ['saltshaker', 'drawer'] ['saltshaker', 'drawer']\n",
      "turn around walk to window turn left walk forward turn left to face counter ['drawer'] ['countertop']\n",
      "pick up salt shaker that on counter countertop ['saltshaker'] ['saltshaker']\n",
      "turn right take step turn left walk forward two step saltshaker ['cabinet'] ['drawer']\n",
      "open drawer on right put salt shaker in shut it drawer ['saltshaker', 'drawer'] ['saltshaker', 'drawer']\n",
      "turn to right then walk forward make left face table ['diningtable'] ['countertop']\n",
      "pick up salt shaker from kitchen island countertop ['saltshaker'] ['saltshaker']\n"
     ]
    },
    {
     "name": "stderr",
     "output_type": "stream",
     "text": [
      " 19%|███████████████▏                                                               | 890/4627 [00:14<01:04, 58.20it/s]"
     ]
    },
    {
     "name": "stdout",
     "output_type": "stream",
     "text": [
      "move left then right around kitchen island saltshaker ['drawer'] ['drawer']\n",
      "open drawer next to dishwasher put away salt shaker drawer ['saltshaker', 'drawer'] ['saltshaker', 'drawer']\n",
      "pick up salt shaker from island countertop ['saltshaker'] ['saltshaker']\n",
      "turn toward your right then go to drawer to left stove saltshaker ['drawer'] ['drawer']\n",
      "put salt shaker in second drawer from top drawer ['saltshaker', 'drawer'] ['saltshaker', 'drawer']\n",
      "go to sink on your right ['countertop'] ['countertop']\n",
      "pick up bottle hand soap that closest to you from between two sink countertop ['soapbottle'] ['soapbottle']\n",
      "turn right walk to toilet soapbottle ['toilet'] ['toilet']\n",
      "put bottle soap on back toilet toilet ['soapbottle', 'toilet'] ['soapbottle', 'toilet']\n",
      "turn right walk up to counter between sink ['countertop'] ['countertop']\n",
      "pick up pump bottle nearest counter s edge from counter countertop ['soapbottle'] ['soapbottle']\n",
      "turn right walk up to toilet soapbottle ['toilet'] ['toilet']\n"
     ]
    },
    {
     "name": "stderr",
     "output_type": "stream",
     "text": [
      " 20%|███████████████▍                                                               | 904/4627 [00:14<01:02, 60.04it/s]"
     ]
    },
    {
     "name": "stdout",
     "output_type": "stream",
     "text": [
      "put pump bottle on back toilet toilet ['soapbottle', 'toilet'] ['soapbottle', 'toilet']\n",
      "walk towards sink on your right ['spoon'] ['countertop']\n",
      "pick up bottle on right which closest to you countertop ['winebottle'] ['soapbottle']\n",
      "turn around head towards toilet soapbottle ['toilet'] ['toilet']\n",
      "place bottle on toilet basin next to wall toilet ['spraybottle', 'toilet'] ['soapbottle', 'toilet']\n",
      "turn left towards sink ['cabinet'] ['countertop']\n",
      "pick up green bottle in between two faucet countertop ['winebottle'] ['soapbottle']\n",
      "turn right towards toilet soapbottle ['toilet'] ['toilet']\n",
      "place bottle on toilet basin toilet ['spraybottle', 'toilet'] ['soapbottle', 'toilet']\n",
      "turn left walk to sink ['countertop'] ['countertop']\n",
      "grab green bottle in between sink countertop ['winebottle'] ['soapbottle']\n",
      "turn right walk to toilet soapbottle ['toilet'] ['toilet']\n",
      "put green bottle by white bottle on toilet near wall toilet ['spraybottle', 'toilet'] ['soapbottle', 'toilet']\n"
     ]
    },
    {
     "name": "stderr",
     "output_type": "stream",
     "text": [
      " 20%|███████████████▋                                                               | 918/4627 [00:14<01:01, 60.25it/s]"
     ]
    },
    {
     "name": "stdout",
     "output_type": "stream",
     "text": [
      "move to sink ['cabinet'] ['countertop']\n",
      "pick up soap from sink countertop ['soapbottle'] ['soapbottle']\n",
      "bring soap to toilet soapbottle ['toilet'] ['toilet']\n",
      "put soap on toilet tank lid toilet ['soapbottle', 'toilet'] ['soapbottle', 'toilet']\n",
      "turn left walk to bathroom sink ['countertop'] ['countertop']\n",
      "grab soap dispenser off countertop countertop ['soapbottle'] ['soapbottle']\n",
      "turn around to face toilet soapbottle ['toilet'] ['toilet']\n",
      "place soap dispenser on top toilet toilet ['soapbottle', 'toilet'] ['soapbottle', 'toilet']\n",
      "move towards shower stall then turn left move to counter area between two sink ['countertop'] ['countertop']\n",
      "take soap dispenser between two sink to right spray bottle countertop ['soapbottle'] ['soapbottle']\n",
      "turn right move towards toilet between sink shower stall soapbottle ['toilet'] ['toilet']\n",
      "place soap dispenser on top toilet cistern to right toilet paper bar soap toilet ['soapbottle', 'toilet'] ['soapbottle', 'toilet']\n"
     ]
    },
    {
     "name": "stderr",
     "output_type": "stream",
     "text": [
      "\r",
      " 20%|███████████████▊                                                               | 925/4627 [00:14<01:00, 61.08it/s]"
     ]
    },
    {
     "name": "stdout",
     "output_type": "stream",
     "text": [
      "turn left walk towards counter stop to face counter between sink ['countertop'] ['countertop']\n",
      "pick up soap bottle that on counter countertop ['soapbottle'] ['soapbottle']\n",
      "turn right walk towards toilet soapbottle ['toilet'] ['toilet']\n",
      "put soap bottle on to back toilet toilet ['soapbottle', 'toilet'] ['soapbottle', 'toilet']\n",
      "turn left walk to sink ['countertop'] ['countertop']\n",
      "pick up soap dispenser that in between two sink countertop ['soapbottle'] ['soapbottle']\n",
      "turn right walk to toilet soapbottle ['toilet'] ['toilet']\n",
      "place soap on top toilet tank toilet ['soapbottle', 'toilet'] ['soapbottle', 'toilet']\n",
      "turn around cross room to face white shelf ['shelf'] ['shelf']\n",
      "pick gold vase up from shelf shelf ['vase'] ['vase']\n",
      "move to right face safe on floor vase ['safe'] ['safe']\n",
      "put gold vase in safe shut door safe ['vase', 'safe'] ['vase', 'safe']\n",
      "turn around to your left then head to shelf beside sofa ['shelf'] ['shelf']\n"
     ]
    },
    {
     "name": "stderr",
     "output_type": "stream",
     "text": [
      " 20%|████████████████                                                               | 939/4627 [00:15<01:01, 60.40it/s]"
     ]
    },
    {
     "name": "stdout",
     "output_type": "stream",
     "text": [
      "pick up yellow vase under shelf shelf ['vase'] ['vase']\n",
      "turn around then head to vault on your left vase ['safe'] ['safe']\n",
      "open vault then put in vase then close it safe ['vase', 'safe'] ['vase', 'safe']\n",
      "pick up golden vase that sitting on bottom shelf book shelf shelf ['vase'] ['vase']\n",
      "open safe place vase inside safe then close door safe ['vase', 'safe'] ['vase', 'safe']\n",
      "go right then left to cross room face dresser with computer on it ['dresser'] ['dresser']\n",
      "pick gold vase up from dresser dresser ['vase'] ['vase']\n",
      "go right turn right again stand at white safe on floor vase ['safe'] ['safe']\n",
      "put gold vase in safe shut door safe ['vase', 'safe'] ['vase', 'safe']\n",
      "turn to right then left to find computer ['desk'] ['dresser']\n",
      "pick up vase from back dresser dresser ['vase'] ['vase']\n",
      "carry vase turn to right then right again to find tall white bookshelf vase ['shelf'] ['safe']\n"
     ]
    },
    {
     "name": "stderr",
     "output_type": "stream",
     "text": [
      " 21%|████████████████▎                                                              | 953/4627 [00:15<00:59, 61.34it/s]"
     ]
    },
    {
     "name": "stdout",
     "output_type": "stream",
     "text": [
      "open safe on floor place vase inside shut door safe ['vase', 'safe'] ['vase', 'safe']\n",
      "walk to dresser ahead you ['dresser'] ['dresser']\n",
      "grab vase from dresser dresser ['vase'] ['vase']\n",
      "walk to shelf behind you on your right vase ['shelf'] ['safe']\n",
      "place vase in safe safe ['vase', 'safe'] ['vase', 'safe']\n",
      "pick up gold vase that on shelf shelf ['vase'] ['vase']\n",
      "turn in circle face white safe on floor next to shelf vase ['safe'] ['safe']\n",
      "open safe place vase inside safe shut safe safe ['vase', 'safe'] ['vase', 'safe']\n",
      "take left at black table ahead walk to white book case to right couch ['coffeetable'] ['shelf']\n",
      "pick up gold bottle on shelf above black statue on book case shelf ['vase'] ['vase']\n",
      "put gold bottle inside safe close door safe ['vase', 'safe'] ['vase', 'safe']\n",
      "grab golden object from shelf shelf ['vase'] ['vase']\n",
      "turn to right to face safe vase ['safe'] ['safe']\n"
     ]
    },
    {
     "name": "stderr",
     "output_type": "stream",
     "text": [
      " 21%|████████████████▌                                                              | 967/4627 [00:15<00:59, 61.99it/s]"
     ]
    },
    {
     "name": "stdout",
     "output_type": "stream",
     "text": [
      "place golden object into safe safe ['vase'] ['vase', 'safe']\n",
      "turn right take step forward then turn left walk up to large wooden dresser ['dresser'] ['dresser']\n",
      "pick up watch that on top large wooden dresser dresser ['watch'] ['watch']\n",
      "open small white safe place watch inside then close safe door safe ['watch', 'safe'] ['watch', 'safe']\n",
      "go to chest drawer ahead you ['drawer'] ['dresser']\n",
      "pick up brown banded watch dresser ['watch'] ['watch']\n",
      "take watch across room toward safe watch ['watch'] ['safe']\n",
      "open safe set watch inside safe close safe safe ['keychain', 'safe'] ['watch', 'safe']\n",
      "turn right then turn left towards dresser ['dresser'] ['dresser']\n",
      "pick up watch from dresser dresser ['watch'] ['watch']\n",
      "turn right walk towards sofa then turn right again towards safe box watch ['safe'] ['safe']\n",
      "place watch in safe box safe ['watch', 'safe'] ['watch', 'safe']\n"
     ]
    },
    {
     "name": "stderr",
     "output_type": "stream",
     "text": [
      " 21%|████████████████▋                                                              | 981/4627 [00:15<00:58, 61.90it/s]"
     ]
    },
    {
     "name": "stdout",
     "output_type": "stream",
     "text": [
      "turn right walk to cabinet ['dresser'] ['drawer']\n",
      "open first drawer under newspaper in cabinet grab watch from drawer drawer ['watch'] ['watch']\n",
      "turn right walk to white sofa turn right walk to white safe watch ['safe'] ['safe']\n",
      "open safe put watch in close safe safe ['watch', 'safe'] ['watch', 'safe']\n",
      "turn around turn left to face drawer walk to drawer ['cabinet'] ['drawer']\n",
      "open drawer to grab watch drawer ['watch'] ['watch']\n",
      "open safe to place watch inside close safe safe ['watch', 'safe'] ['watch', 'safe']\n",
      "turn right walk to dresser ['dresser'] ['drawer']\n",
      "open drawer dresser under newspaper take out watch drawer ['watch'] ['watch']\n",
      "turn around walk to safe watch ['safe'] ['safe']\n",
      "put watch in safe safe ['watch', 'safe'] ['watch', 'safe']\n",
      "walk to shelf that are immediately to left safe ['shelf'] ['shelf']\n",
      "pick up watch from top shelf shelf ['watch'] ['watch']\n"
     ]
    },
    {
     "name": "stderr",
     "output_type": "stream",
     "text": [
      "\r",
      " 21%|████████████████▊                                                              | 988/4627 [00:15<00:59, 61.43it/s]"
     ]
    },
    {
     "name": "stdout",
     "output_type": "stream",
     "text": [
      "walk to safe immediately to your right watch ['safe'] ['safe']\n",
      "open safe put watch in it then close safe safe ['watch', 'safe'] ['watch', 'safe']\n",
      "move across room to face white shelf on right side ['shelf'] ['shelf']\n",
      "pick up watch that sitting on shelf shelf ['watch'] ['watch']\n",
      "carry watch turn right towards white safe watch ['safe'] ['safe']\n",
      "place watch inside safe to right gold vase shut safe safe ['watch', 'plate'] ['watch', 'safe']\n",
      "head to left face shelf on right ['shelf'] ['shelf']\n",
      "pick up watch on shelf shelf ['watch'] ['watch']\n",
      "head right bring watch to safe on ground watch ['safe'] ['safe']\n",
      "put watch in safe safe ['watch', 'safe'] ['watch', 'safe']\n",
      "walk to face counter to left stove ['countertop'] ['countertop']\n",
      "pick up butter knife from counter countertop ['butterknife'] ['butterknife']\n"
     ]
    },
    {
     "name": "stderr",
     "output_type": "stream",
     "text": [
      " 22%|████████████████▉                                                             | 1002/4627 [00:16<00:58, 61.68it/s]"
     ]
    },
    {
     "name": "stdout",
     "output_type": "stream",
     "text": [
      "turn around to face sink butterknife ['apple'] ['cup']\n",
      "put knife into green cup inside sink cup ['butterknife', 'cup'] ['butterknife', 'cup']\n",
      "pick up green cup from sink basin butterknife cup ['cup'] ['cup']\n",
      "turn around to face counter top cup ['cabinet'] ['countertop']\n",
      "put cup on counter top countertop ['cup', 'countertop'] ['cup', 'countertop']\n",
      "turn right move to face tomato on counter left stove ['countertop'] ['countertop']\n",
      "pick up smaller silver knife on counter countertop ['butterknife'] ['butterknife']\n",
      "turn around bring knife to sink butterknife ['potato'] ['cup']\n",
      "put knife in green cup in sink cup ['butterknife', 'cup'] ['butterknife', 'cup']\n",
      "pick up cup with knife in sink butterknife cup ['cup'] ['cup']\n",
      "turn around bring cup to counter cup ['countertop'] ['countertop']\n",
      "put cup with knife on counter in front spoon plate countertop ['cup', 'countertop'] ['cup', 'countertop']\n",
      "turn around walk to counter on left room on left side stove ['countertop'] ['countertop']\n"
     ]
    },
    {
     "name": "stderr",
     "output_type": "stream",
     "text": [
      " 22%|█████████████████▏                                                            | 1016/4627 [00:16<00:59, 60.37it/s]"
     ]
    },
    {
     "name": "stdout",
     "output_type": "stream",
     "text": [
      "pick up butter knife beside tomato on counter countertop ['butterknife'] ['butterknife']\n",
      "turn around move to sink directly in front you butterknife ['sinkbasin'] ['cup']\n",
      "put butter knife into green cup in sink cup ['butterknife', 'cup'] ['butterknife', 'cup']\n",
      "pick up green cup with butter knife in it butterknife cup ['cup'] ['cup']\n",
      "turn around move to counter above dishwasher cup ['countertop'] ['countertop']\n",
      "put cup with butter knife down onto counter above dishwasher countertop ['cup', 'countertop'] ['cup', 'countertop']\n",
      "pick up butter knife off counter countertop ['butterknife'] ['butterknife']\n",
      "turn to left then right then left again to brown shelf butterknife ['cup'] ['cup']\n",
      "place knife inside green cup on shelf cup ['butterknife', 'cup'] ['butterknife', 'cup']\n",
      "pick up green cup with knife inside butterknife cup ['cup'] ['cup']\n",
      "place green cup knife on to counter countertop ['cup', 'countertop'] ['cup', 'countertop']\n",
      "pick up rightmost butter knife on kitchen island countertop ['butterknife'] ['butterknife']\n"
     ]
    },
    {
     "name": "stderr",
     "output_type": "stream",
     "text": [
      " 22%|█████████████████▎                                                            | 1030/4627 [00:16<00:57, 62.48it/s]"
     ]
    },
    {
     "name": "stdout",
     "output_type": "stream",
     "text": [
      "turn around move forward then go to shelf to your right butterknife ['tomato'] ['cup']\n",
      "put butter knife in green cup on top shelf cup ['butterknife', 'cup'] ['butterknife', 'cup']\n",
      "pick up green cup from top shelf butterknife cup ['cup'] ['cup']\n",
      "put green cup on counter above dishwasher countertop ['cup', 'countertop'] ['cup', 'countertop']\n",
      "pick up rightmost butter knife off kitchen island in front you countertop ['butterknife'] ['butterknife']\n",
      "put butter knife in green cup on top shelf wooden shelving unit cup ['butterknife', 'cup'] ['butterknife', 'cup']\n",
      "pick up green cup with butter knife in it butterknife cup ['cup'] ['cup']\n",
      "turn right walk forward then hang right walk to counter where toaster cup ['cabinet'] ['countertop']\n",
      "turn right walk up to kitchen island counter ahead ['countertop'] ['countertop']\n",
      "grab butter knife off kitchen island counter space there countertop ['butterknife'] ['butterknife']\n",
      "pick up green up from out cabinet above microwave butterknife cup ['cup'] ['cup']\n",
      "move to right bit to face kitchen counter space to right stove cup ['countertop'] ['countertop']\n"
     ]
    },
    {
     "name": "stderr",
     "output_type": "stream",
     "text": [
      "\r",
      " 22%|█████████████████▍                                                            | 1037/4627 [00:16<00:57, 62.82it/s]"
     ]
    },
    {
     "name": "stdout",
     "output_type": "stream",
     "text": [
      "place cup down on kitchen counter space countertop ['cup', 'countertop'] ['cup', 'countertop']\n",
      "walk to counter on right ['cabinet'] ['countertop']\n",
      "pick up knife in front sink on left side on counter countertop ['butterknife'] ['butterknife']\n",
      "open upper cabinet put knife inside green glass on left side cup ['butterknife', 'cup'] ['butterknife', 'cup']\n",
      "pick up green glass with knife inside close door butterknife cup ['cup'] ['cup']\n",
      "turn right walk to counter with coffee maker on left cup ['countertop'] ['countertop']\n",
      "put glass with knife inside on counter to left coffee maker countertop ['cup', 'countertop'] ['cup', 'countertop']\n",
      "turn right take step to your left then walk to counter in front you ['countertop'] ['countertop']\n",
      "pick up butter knife that s in front you countertop ['butterknife'] ['butterknife']\n",
      "pick up green cup with knife in it close cupboard butterknife cup ['cup'] ['cup']\n",
      "take few step to your right to face coffee maker cup ['countertop'] ['countertop']\n",
      "put cup under to left credit card that s in front you countertop ['cup', 'countertop'] ['cup', 'countertop']\n",
      "turn around walk towards refrigerator turn right go to stove look up at microwave ['microwave'] ['microwave']\n"
     ]
    },
    {
     "name": "stderr",
     "output_type": "stream",
     "text": [
      " 23%|█████████████████▋                                                            | 1051/4627 [00:16<00:57, 62.11it/s]"
     ]
    },
    {
     "name": "stdout",
     "output_type": "stream",
     "text": [
      "look in microwave remove green cup microwave ['cup'] ['cup']\n",
      "turn around go to sink to your left cup ['sinkbasin'] ['sinkbasin']\n",
      "put green cup in sink sinkbasin ['cup', 'sinkbasin'] ['cup', 'sinkbasin']\n",
      "pick up knife in sink cup sinkbasin ['butterknife'] ['butterknife']\n",
      "place knife inside green cup butterknife ['butterknife', 'cup'] ['butterknife', 'cup']\n",
      "go to microwave ['sidetable'] ['microwave']\n",
      "take out green cup microwave ['cup'] ['cup']\n",
      "take cup to sink cup ['sinkbasin'] ['sinkbasin']\n",
      "put cup in sink sinkbasin ['cup', 'sinkbasin'] ['cup', 'sinkbasin']\n",
      "pick up knife from sink on left cup sinkbasin ['butterknife'] ['butterknife']\n",
      "put knife back in sink on right butterknife ['butterknife', 'sinkbasin'] ['butterknife', 'cup']\n",
      "walk to face microwave ['countertop'] ['microwave']\n",
      "remove green cup from microwave microwave ['cup'] ['cup']\n"
     ]
    },
    {
     "name": "stderr",
     "output_type": "stream",
     "text": [
      " 23%|█████████████████▉                                                            | 1065/4627 [00:17<00:56, 62.57it/s]"
     ]
    },
    {
     "name": "stdout",
     "output_type": "stream",
     "text": [
      "walk to face sink cup ['sinkbasin'] ['sinkbasin']\n",
      "put green cup in sink sinkbasin ['cup', 'sinkbasin'] ['cup', 'sinkbasin']\n",
      "pick up butter knife from sink cup sinkbasin ['butterknife'] ['butterknife']\n",
      "put butter knife into green cup inside sink butterknife ['butterknife', 'cup'] ['butterknife', 'cup']\n",
      "go toward fridge turn right move forward then turn left to face sink ['sinkbasin'] ['sinkbasin']\n",
      "pick up butter knife in sink sinkbasin ['butterknife'] ['butterknife']\n",
      "turn left go to wall then turn left look up to cabinet butterknife ['potato'] ['cup']\n",
      "open cabinet put butter knife in rightmost cup cup ['butterknife', 'cup'] ['butterknife', 'cup']\n",
      "take rightmost cup from cabinet butterknife cup ['cup'] ['cup']\n",
      "turn left move forward then turn left to face sink cup ['sinkbasin'] ['sinkbasin']\n",
      "put cup in sink sinkbasin ['cup', 'sinkbasin'] ['cup', 'sinkbasin']\n"
     ]
    },
    {
     "name": "stderr",
     "output_type": "stream",
     "text": [
      " 23%|██████████████████▏                                                           | 1079/4627 [00:17<00:56, 63.09it/s]"
     ]
    },
    {
     "name": "stdout",
     "output_type": "stream",
     "text": [
      "turn walk to sink on right ['cabinet'] ['sinkbasin']\n",
      "pick up butter knife from sink sinkbasin ['butterknife'] ['butterknife']\n",
      "open both cabinet door put knife down in glass on right cup ['butterknife', 'cup'] ['butterknife', 'cup']\n",
      "pick up glass from cabinet close door butterknife cup ['cup'] ['cup']\n",
      "turn left walk to sink on left cup ['countertop'] ['sinkbasin']\n",
      "put glass inside sink sinkbasin ['cup', 'sinkbasin'] ['cup', 'sinkbasin']\n",
      "turn right move to stand in front sink ['sinkbasin'] ['sinkbasin']\n",
      "pick up butter knife from inside sink sinkbasin ['butterknife'] ['butterknife']\n",
      "turn left move to stand in front coffee maker right after stove butterknife ['potato'] ['cup']\n",
      "open cupboard above coffee maker place knife in green cup on right cup ['butterknife', 'cup'] ['butterknife', 'cup']\n",
      "pick up cup with knife inside from cupboard butterknife cup ['cup'] ['cup']\n",
      "turn left carry cup knife to sink cup ['sinkbasin'] ['sinkbasin']\n",
      "place cup with knife inside in sink sinkbasin ['cup', 'sinkbasin'] ['cup', 'sinkbasin']\n"
     ]
    },
    {
     "name": "stderr",
     "output_type": "stream",
     "text": [
      " 24%|██████████████████▍                                                           | 1094/4627 [00:17<00:54, 64.66it/s]"
     ]
    },
    {
     "name": "stdout",
     "output_type": "stream",
     "text": [
      "walk to face counter behind sink ['countertop'] ['countertop']\n",
      "pick up butter knife from under sponge on counter countertop ['butterknife'] ['butterknife']\n",
      "walk to face counter to left stove butterknife ['countertop'] ['cup']\n",
      "put knife into green cup on left on counter cup ['butterknife', 'cup'] ['butterknife', 'cup']\n",
      "pick up green cup from counter butterknife cup ['cup'] ['cup']\n",
      "turn to face kitchen sink cup ['sinkbasin'] ['sinkbasin']\n",
      "put green cup into sink basin sinkbasin ['cup', 'sinkbasin'] ['cup', 'sinkbasin']\n",
      "turn right hang left at wall walk to counter on left ['countertop'] ['countertop']\n",
      "pick up knife under green sponge on counter countertop ['butterknife'] ['butterknife']\n",
      "put knife inside green glass in front spatula in middle counter cup ['butterknife', 'cup'] ['butterknife', 'cup']\n",
      "pick up green glass with knife on counter butterknife cup ['cup'] ['cup']\n",
      "turn around walk to sink cup ['microwave'] ['sinkbasin']\n",
      "put glass with knife inside sink sinkbasin ['cup', 'sinkbasin'] ['cup', 'sinkbasin']\n",
      "turn right to move around island to stand facing counter centered between two chair ['countertop'] ['countertop']\n"
     ]
    },
    {
     "name": "stderr",
     "output_type": "stream",
     "text": [
      "\r",
      " 24%|██████████████████▌                                                           | 1101/4627 [00:17<00:55, 63.51it/s]"
     ]
    },
    {
     "name": "stdout",
     "output_type": "stream",
     "text": [
      "pick up butter knife from beneath sponge countertop ['butterknife'] ['butterknife']\n",
      "place knife in green cup closest to wall behind counter cup ['butterknife', 'cup'] ['butterknife', 'cup']\n",
      "pick up cup with knife in it from counter butterknife cup ['cup'] ['cup']\n",
      "turn around face sink cup ['cabinet'] ['sinkbasin']\n",
      "place cup with knife inside in sink sinkbasin ['cup', 'sinkbasin'] ['cup', 'sinkbasin']\n",
      "turn around go to end kitchen island then turn left ['cabinet'] ['countertop']\n",
      "pick up butter knife on kitchen island in front fork countertop ['butterknife'] ['butterknife']\n",
      "turn left go straight then turn left to face stove butterknife ['potato'] ['pan']\n",
      "put butter knife in pan on stove pan ['butterknife', 'pan'] ['butterknife', 'pan']\n",
      "pick up pan on stove with butter knife in it butterknife pan ['pan'] ['pan']\n",
      "turn left move forward then turn left to face sink pan ['sinkbasin'] ['sinkbasin']\n",
      "put pan in sink sinkbasin ['pan', 'sinkbasin'] ['pan', 'sinkbasin']\n"
     ]
    },
    {
     "name": "stderr",
     "output_type": "stream",
     "text": [
      " 24%|██████████████████▊                                                           | 1115/4627 [00:17<00:55, 63.07it/s]"
     ]
    },
    {
     "name": "stdout",
     "output_type": "stream",
     "text": [
      "turn around walk to counter at end on left ['countertop'] ['countertop']\n",
      "grab knife from counter countertop ['knife'] ['butterknife']\n",
      "turn around to stove butterknife ['tomato'] ['pan']\n",
      "put knife in pan on stove pan ['butterknife', 'pan'] ['butterknife', 'pan']\n",
      "grab pan with knife butterknife pan ['pan'] ['pan']\n",
      "turn around to sink pan ['sinkbasin'] ['sinkbasin']\n",
      "put pan in sink sinkbasin ['pan', 'sinkbasin'] ['pan', 'sinkbasin']\n",
      "turn around go to end island ['countertop'] ['countertop']\n",
      "pick up knife from counter countertop ['knife'] ['butterknife']\n",
      "turn around take knife to stove butterknife ['potato'] ['pan']\n",
      "put knife in pan on front left stove pan ['butterknife', 'pan'] ['butterknife', 'pan']\n",
      "pick up pan knife from stove butterknife pan ['pan'] ['pan']\n",
      "turn around to sink pan ['sinkbasin'] ['sinkbasin']\n"
     ]
    },
    {
     "name": "stderr",
     "output_type": "stream",
     "text": [
      " 24%|███████████████████                                                           | 1130/4627 [00:18<00:52, 66.39it/s]"
     ]
    },
    {
     "name": "stdout",
     "output_type": "stream",
     "text": [
      "put pan knife in sink sinkbasin ['plate', 'sinkbasin'] ['pan', 'sinkbasin']\n",
      "go right right again then right to face counter with tomato on it ['countertop'] ['countertop']\n",
      "pick knife up from counter countertop ['knife'] ['butterknife']\n",
      "go to left then turn left to face stove butterknife ['potato'] ['pan']\n",
      "put knife in pan pan ['butterknife', 'pan'] ['butterknife', 'pan']\n",
      "pick pan up from stove butterknife pan ['pan'] ['pan']\n",
      "turn around face sink pan ['countertop'] ['sinkbasin']\n",
      "put pan in sink sinkbasin ['pan', 'sinkbasin'] ['pan', 'sinkbasin']\n",
      "pick up butter knife off right side kitchen island countertop ['butterknife'] ['butterknife']\n",
      "turn left walk forward then hang left walk up to stove butterknife ['pot'] ['pan']\n",
      "put knife handle down in frying pan that on front left burner stove pan ['butterknife', 'pan'] ['butterknife', 'pan']\n",
      "pick up frying pan with knife in it off stove butterknife pan ['pan'] ['pan']\n",
      "turn left take step forward then turn left again walk up to sink pan ['sinkbasin'] ['sinkbasin']\n",
      "put frying pan with knife in it into sink basin to right potato sinkbasin ['pan', 'sinkbasin'] ['pan', 'sinkbasin']\n",
      "turn right turn right walk to refrigerator turn around ['fridge'] ['countertop']\n"
     ]
    },
    {
     "name": "stderr",
     "output_type": "stream",
     "text": [
      " 25%|███████████████████▎                                                          | 1145/4627 [00:18<00:52, 66.33it/s]"
     ]
    },
    {
     "name": "stdout",
     "output_type": "stream",
     "text": [
      "grab knife on counter countertop ['knife'] ['butterknife']\n",
      "turn around walk to stove butterknife ['tomato'] ['pan']\n",
      "put knife in pan on stove pan ['butterknife', 'pan'] ['butterknife', 'pan']\n",
      "grab pan from stove butterknife pan ['pan'] ['pan']\n",
      "turn around to sink pan ['sinkbasin'] ['sinkbasin']\n",
      "put pan in sink sinkbasin ['pan', 'sinkbasin'] ['pan', 'sinkbasin']\n",
      "turn left walk to counter to left stove ['countertop'] ['countertop']\n",
      "pick up knife behind glass vase on counter countertop ['butterknife'] ['butterknife']\n",
      "walk to pan on stove butterknife ['pot'] ['pan']\n",
      "place knife in pan on stove pan ['butterknife', 'pan'] ['butterknife', 'pan']\n",
      "pick up pan on stove butterknife pan ['pan'] ['pan']\n",
      "turn around walk to sink pan ['sinkbasin'] ['sinkbasin']\n",
      "place pan in sink sinkbasin ['pot', 'sinkbasin'] ['pan', 'sinkbasin']\n"
     ]
    },
    {
     "name": "stderr",
     "output_type": "stream",
     "text": [
      "\r",
      " 25%|███████████████████▍                                                          | 1153/4627 [00:18<00:51, 67.87it/s]"
     ]
    },
    {
     "name": "stdout",
     "output_type": "stream",
     "text": [
      "turn to left head to stove ['stoveburner'] ['countertop']\n",
      "take knife from counter countertop ['knife'] ['butterknife']\n",
      "take couple step to right face stove butterknife ['potato'] ['pan']\n",
      "put knife on plate on stove pan ['butterknife', 'pan'] ['butterknife', 'pan']\n",
      "take plate with knife butterknife pan ['pan'] ['pan']\n",
      "turn around head to sink pan ['sinkbasin'] ['sinkbasin']\n",
      "put plate with knife in sink sinkbasin ['plate', 'sinkbasin'] ['pan', 'sinkbasin']\n",
      "pick up knife off kitchen counter countertop ['knife'] ['butterknife']\n",
      "move step to your right face stove butterknife ['potato'] ['pan']\n",
      "drop knife in to frying pan pan ['butterknife', 'pan'] ['butterknife', 'pan']\n",
      "pick up frying pan with knife in it butterknife pan ['pan'] ['pan']\n",
      "turn right around face sink pan ['countertop'] ['sinkbasin']\n",
      "drop frying pan in to sink sinkbasin ['sinkbasin', 'sinkbasin'] ['pan', 'sinkbasin']\n",
      "pick up egg from counter in front bread countertop ['egg'] ['egg']"
     ]
    },
    {
     "name": "stderr",
     "output_type": "stream",
     "text": [
      " 25%|███████████████████▋                                                          | 1168/4627 [00:18<00:52, 66.22it/s]"
     ]
    },
    {
     "name": "stdout",
     "output_type": "stream",
     "text": [
      "\n",
      "carry egg to right to coffee machine egg ['countertop'] ['bowl']\n",
      "open bottom cabinet place egg in bowl bowl ['egg', 'bowl'] ['egg', 'bowl']\n",
      "pick up bowl from cabinet shut door egg bowl ['bowl'] ['bowl']\n",
      "bring bowl up toward counter bowl ['cabinet'] ['countertop']\n",
      "place bowl egg on left side counter countertop ['bowl', 'countertop'] ['bowl', 'countertop']\n",
      "turn around cross room turning right into kitchen ['stoveburner'] ['countertop']\n",
      "turn to counter pick up egg countertop ['egg'] ['egg']\n",
      "turn right cross kitchen turn right to counter egg ['countertop'] ['bowl']\n",
      "open cabinet place egg in bowl bowl ['egg', 'bowl'] ['egg', 'bowl']\n",
      "remove bowl in cabinet egg bowl ['bowl'] ['bowl']\n",
      "while holding egg in bowl close cabinet door bowl ['bowl'] ['countertop']\n",
      "place bowl on counter countertop ['cup', 'countertop'] ['bowl', 'countertop']\n",
      "pick up brown ball from counter top countertop ['potato'] ['egg']\n"
     ]
    },
    {
     "name": "stderr",
     "output_type": "stream",
     "text": [
      " 26%|███████████████████▉                                                          | 1182/4627 [00:18<00:53, 64.25it/s]"
     ]
    },
    {
     "name": "stdout",
     "output_type": "stream",
     "text": [
      "turn to right go to wall turn to left facing counter egg ['countertop'] ['bowl']\n",
      "open up counter cabinet door put brown ball in bowl in cabinet bowl ['potato', 'bowl'] ['egg', 'bowl']\n",
      "pick up bowl with brown ball in it close cabinet door egg bowl ['bowl'] ['bowl']\n",
      "look up to counter top bowl ['countertop'] ['countertop']\n",
      "put bowl with brown ball in it on left bottom corner counter top countertop ['pot', 'countertop'] ['bowl', 'countertop']\n",
      "turn to wooden shelf on our right ['shelf'] ['shelf']\n",
      "pick up tan bowl on third shelf shelf ['bowl'] ['bowl']\n",
      "pace bowl on left front corner counter countertop ['countertop'] ['bowl', 'countertop']\n",
      "pick up egg to left coffee maker bowl countertop ['egg'] ['egg']\n",
      "place egg in bowl on front left corner counter egg ['egg', 'countertop'] ['egg', 'bowl']\n",
      "move to shelf to right you ['shelf'] ['shelf']\n",
      "pick up bowl from shelf shelf ['bowl'] ['bowl']\n"
     ]
    },
    {
     "name": "stderr",
     "output_type": "stream",
     "text": [
      " 26%|████████████████████▏                                                         | 1196/4627 [00:19<00:53, 63.99it/s]"
     ]
    },
    {
     "name": "stdout",
     "output_type": "stream",
     "text": [
      "move to counter to right stove bowl ['countertop'] ['countertop']\n",
      "put bowl on counter countertop ['cup', 'countertop'] ['bowl', 'countertop']\n",
      "pick up egg from counter bowl countertop ['egg'] ['egg']\n",
      "put egg on bowl on counter egg ['egg', 'countertop'] ['egg', 'bowl']\n",
      "walk to shelf on your left ['countertop'] ['shelf']\n",
      "grab plate from second bottom shelf shelf ['plate'] ['bowl']\n",
      "walk to coffee maker on your left bowl ['coffeemachine'] ['countertop']\n",
      "place cup on counter countertop ['mug', 'countertop'] ['bowl', 'countertop']\n",
      "grab potato from counter bowl countertop ['potato'] ['egg']\n",
      "place potato in cup egg ['potato', 'microwave'] ['egg', 'bowl']\n",
      "head past right side island to coffee machine on counter ['diningtable'] ['cabinet']\n",
      "open cabinet under coffee machine pick up big bowl in there cabinet ['bowl'] ['bowl']\n",
      "bring bowl up to counter bowl ['cabinet'] ['countertop']\n"
     ]
    },
    {
     "name": "stderr",
     "output_type": "stream",
     "text": [
      " 26%|████████████████████▍                                                         | 1210/4627 [00:19<00:53, 63.40it/s]"
     ]
    },
    {
     "name": "stdout",
     "output_type": "stream",
     "text": [
      "put bowl on counter next to coffee machine countertop ['bowl', 'countertop'] ['bowl', 'countertop']\n",
      "pick up egg on back counter bowl countertop ['egg'] ['egg']\n",
      "put egg in bowl on counter egg ['egg', 'countertop'] ['egg', 'bowl']\n",
      "open cabinet below coffee maker remove bowl cabinet ['cup'] ['bowl']\n",
      "step closer to cabinet in front you bowl ['cabinet'] ['countertop']\n",
      "set bowl on counter in front you countertop ['cup', 'countertop'] ['bowl', 'countertop']\n",
      "pick up egg on counter that furthest to back bowl countertop ['egg'] ['egg']\n",
      "place egg in bowl on counter egg ['egg', 'countertop'] ['egg', 'bowl']\n",
      "open cabinet below coffee machine take out bowl then close cabinet cabinet ['bowl'] ['bowl']\n",
      "bend up from cabinet face counter top bowl ['countertop'] ['countertop']\n",
      "put bowl on counter top in front apple countertop ['bowl', 'countertop'] ['bowl', 'countertop']\n",
      "pick up egg in back from counter top bowl countertop ['egg'] ['egg']\n",
      "put egg in bowl egg ['egg', 'countertop'] ['egg', 'bowl']\n"
     ]
    },
    {
     "name": "stderr",
     "output_type": "stream",
     "text": [
      " 26%|████████████████████▋                                                         | 1225/4627 [00:19<00:51, 65.87it/s]"
     ]
    },
    {
     "name": "stdout",
     "output_type": "stream",
     "text": [
      "grab fork off kitchen counter there countertop ['fork'] ['fork']\n",
      "turn around walk to fridge on left fork ['cup'] ['cup']\n",
      "place fork inside fridge inside green cup cup ['fork', 'cup'] ['fork', 'cup']\n",
      "grab cup up out fridge fork cup ['fridge'] ['cup']\n",
      "turn right walk forward bit to first kitchen counter on left cup ['countertop'] ['countertop']\n",
      "place cup down on kitchen counter countertop ['cup', 'countertop'] ['cup', 'countertop']\n",
      "turn left move around to other side island ['countertop'] ['countertop']\n",
      "pick up fork that s on right sink countertop ['fork'] ['fork']\n",
      "turn around move to fridge fork ['cup'] ['cup']\n",
      "put fork into green cup on second shelf in fridge cup ['fork', 'cup'] ['fork', 'cup']\n",
      "take cup with fork out fridge fork cup ['cup'] ['cup']\n",
      "move couple foot to your right cup ['desk'] ['countertop']\n",
      "put cup fork on counter in front bread to right knife countertop ['cup', 'countertop'] ['cup', 'countertop']\n",
      "pick up fork on counter countertop ['fork'] ['fork']\n"
     ]
    },
    {
     "name": "stderr",
     "output_type": "stream",
     "text": [
      "\r",
      " 27%|████████████████████▊                                                         | 1232/4627 [00:19<00:52, 64.68it/s]"
     ]
    },
    {
     "name": "stdout",
     "output_type": "stream",
     "text": [
      "go to fridge behind you fork ['cup'] ['cup']\n",
      "open fridge put fork in green cup inside fridge cup ['fork', 'cup'] ['fork', 'cup']\n",
      "pick up green cup from fridge fork cup ['cup'] ['cup']\n",
      "turn right go forward until you reach dishwasher then turn left cup ['countertop'] ['countertop']\n",
      "put green cup on counter countertop ['cup', 'countertop'] ['cup', 'countertop']\n",
      "walk to kitchen sink that in kitchen island ['sinkbasin'] ['sinkbasin']\n",
      "pick up metal fork out sink basin sinkbasin ['fork'] ['fork']\n",
      "look down into sink fork ['sinkbasin'] ['cup']\n",
      "put metal fork in green cup that in sink cup ['fork', 'cup'] ['fork', 'cup']\n",
      "pick up green cup with metal fork in it fork cup ['cup'] ['cup']\n",
      "turn right walk forward then turn right walk up to counter cup ['countertop'] ['countertop']\n",
      "put green cup with fork in it on counter in front loaf bread countertop ['cup', 'countertop'] ['cup', 'countertop']\n"
     ]
    },
    {
     "name": "stderr",
     "output_type": "stream",
     "text": [
      " 27%|█████████████████████                                                         | 1246/4627 [00:19<00:53, 63.55it/s]"
     ]
    },
    {
     "name": "stdout",
     "output_type": "stream",
     "text": [
      "pick up fork from sink behind tomato sinkbasin ['fork'] ['fork']\n",
      "face sink in front you fork ['sinkbasin'] ['cup']\n",
      "place fork in green mug in front part sink cup ['fork', 'cup'] ['fork', 'cup']\n",
      "pick up fork mug from sink fork cup ['cup'] ['cup']\n",
      "turn around face counter dishwasher cup ['cabinet'] ['countertop']\n",
      "put mug fork on counter in front bread countertop ['mug', 'countertop'] ['cup', 'countertop']\n",
      "turn to right take couple step turn to left ['handtowelholder'] ['sinkbasin']\n",
      "head across kitchen to sink sinkbasin ['spoon'] ['fork']\n",
      "take fork out sink fork [''] ['cup']\n",
      "put fork in green cup cup ['fork', 'cup'] ['fork', 'cup']\n",
      "take green cup out sink fork cup ['cup'] ['cup']\n",
      "turn around face counter cup ['cabinet'] ['countertop']\n",
      "put green cup on counter countertop ['cup', 'countertop'] ['cup', 'countertop']\n"
     ]
    },
    {
     "name": "stderr",
     "output_type": "stream",
     "text": [
      " 27%|█████████████████████▏                                                        | 1260/4627 [00:20<00:53, 63.30it/s]"
     ]
    },
    {
     "name": "stdout",
     "output_type": "stream",
     "text": [
      "turn right then walk forward head to sink ['countertop'] ['sinkbasin']\n",
      "pick up fork in sink sinkbasin ['fork'] ['fork']\n",
      "turn left then face left cabinet below coffee maker fork ['drawer'] ['cup']\n",
      "open cabinet put in fork in green container cup ['fork', 'cup'] ['fork', 'cup']\n",
      "pick up green container then close cabinet fork cup ['cup'] ['cup']\n",
      "look up counter beside stove cup ['countertop'] ['countertop']\n",
      "put container with fork on counter beside green apple countertop ['bowl', 'countertop'] ['cup', 'countertop']\n",
      "pick up fork from sink to right green sponge sinkbasin ['fork'] ['fork']\n",
      "turn left go to wall turn left to face counter with coffee maker fork ['cup'] ['cup']\n",
      "open cabinet under counter put fork in cup to left cabinet cup ['fork', 'cup'] ['fork', 'cup']\n",
      "pick up fork in cup from cabinet close cabinet door fork cup ['fork'] ['cup']\n",
      "look up to face counter cup ['countertop'] ['countertop']\n",
      "place cup with fork on counter front to left apple coffee maker countertop ['mug', 'countertop'] ['cup', 'countertop']\n"
     ]
    },
    {
     "name": "stderr",
     "output_type": "stream",
     "text": [
      " 28%|█████████████████████▍                                                        | 1274/4627 [00:20<00:53, 62.54it/s]"
     ]
    },
    {
     "name": "stdout",
     "output_type": "stream",
     "text": [
      "turn go to sink ['countertop'] ['sinkbasin']\n",
      "pick up fork that on right in sink sinkbasin ['fork'] ['fork']\n",
      "with fork in hand turn go to coffee maker fork ['drawer'] ['cup']\n",
      "pick up green cup with fork in it fork cup ['cup'] ['cup']\n",
      "lift up so you are now facing counter top cup ['countertop'] ['countertop']\n",
      "place green cup with fork on counter in front to left green apple countertop ['cup', 'countertop'] ['cup', 'countertop']\n",
      "go forward to counter on your right to left sink face counter ['countertop'] ['countertop']\n",
      "pick up fork that to left sink countertop ['fork'] ['fork']\n",
      "carry fork to counter on right side sink fork ['drawer'] ['cup']\n",
      "put fork handle-first into green glass on counter cup ['fork', 'cup'] ['fork', 'cup']\n",
      "pick up glass with fork in it fork cup ['cup'] ['cup']\n",
      "take glass with fork to sink cup ['sinkbasin'] ['sinkbasin']\n",
      "put glass with fork in left front corner sink sinkbasin ['cup', 'sinkbasin'] ['cup', 'sinkbasin']\n"
     ]
    },
    {
     "name": "stderr",
     "output_type": "stream",
     "text": [
      " 28%|█████████████████████▋                                                        | 1288/4627 [00:20<00:52, 63.28it/s]"
     ]
    },
    {
     "name": "stdout",
     "output_type": "stream",
     "text": [
      "go right stand at counter to left sink ['countertop'] ['countertop']\n",
      "pick fork up off counter countertop ['fork'] ['fork']\n",
      "go right stand in front counter to right sink pick fork up fork ['countertop'] ['cup']\n",
      "put fork in green cup cup ['fork', 'cup'] ['fork', 'cup']\n",
      "pick cup up from counter fork cup ['cup'] ['cup']\n",
      "go left stand in front sink cup ['sinkbasin'] ['sinkbasin']\n",
      "put cup in sink sinkbasin ['cup', 'sinkbasin'] ['cup', 'sinkbasin']\n",
      "begin walking across room then turn right to face end kitchen island ['countertop'] ['countertop']\n",
      "pick up metal fork that on kitchen island countertop ['fork'] ['fork']\n",
      "turn right walk to other side kitchen island where golden statue resting fork ['diningtable'] ['cup']\n",
      "place metal fork into green cup that to left golden statue cup ['fork', 'cup'] ['fork', 'cup']\n",
      "pick up green cup with metal fork in it fork cup ['cup'] ['cup']\n",
      "turn left walk to sink that in middle kitchen island cup ['sinkbasin'] ['sinkbasin']\n"
     ]
    },
    {
     "name": "stderr",
     "output_type": "stream",
     "text": [
      " 28%|█████████████████████▉                                                        | 1302/4627 [00:20<00:52, 63.50it/s]"
     ]
    },
    {
     "name": "stdout",
     "output_type": "stream",
     "text": [
      "place green cup with metal fork in it into sink basin sinkbasin ['cup', 'sinkbasin'] ['cup', 'sinkbasin']\n",
      "move to sink to right fridge ['sinkbasin'] ['sinkbasin']\n",
      "pick up fork from sink sinkbasin ['fork'] ['fork']\n",
      "turn around to counter behind you fork ['drawer'] ['cup']\n",
      "place fork in cup on counter cup ['fork', 'cup'] ['fork', 'cup']\n",
      "pick up cup from counter fork cup ['cup'] ['cup']\n",
      "turn around to sink cup ['cabinet'] ['sinkbasin']\n",
      "place cup in sink sinkbasin ['cup', 'sinkbasin'] ['cup', 'sinkbasin']\n",
      "go into kitchen face sink ['countertop'] ['sinkbasin']\n",
      "pick fork up out sink sinkbasin ['fork'] ['fork']\n",
      "turn around to face counter to left stove fork ['drawer'] ['cup']\n",
      "place fork into green bin behind statue cup ['fork', 'garbagecan'] ['fork', 'cup']\n",
      "pick up green bin with fork in it fork cup ['cup'] ['cup']\n"
     ]
    },
    {
     "name": "stderr",
     "output_type": "stream",
     "text": [
      " 28%|██████████████████████▏                                                       | 1316/4627 [00:20<00:51, 64.39it/s]"
     ]
    },
    {
     "name": "stdout",
     "output_type": "stream",
     "text": [
      "turn around move to sink cup ['sinkbasin'] ['sinkbasin']\n",
      "place green bin fork in to sink sinkbasin ['toiletpaper', 'sinkbasin'] ['cup', 'sinkbasin']\n",
      "walk straight then make turn to right ['countertop'] ['sinkbasin']\n",
      "walk to sink sinkbasin ['soapbar'] ['fork']\n",
      "grab fork from sink fork ['fork'] ['cup']\n",
      "carry it to counter cup ['cabinet'] ['fork', 'cup']\n",
      "place fork inside green cup fork cup ['fork', 'cup'] ['cup']\n",
      "go back to kitchen sink cup ['sinkbasin'] ['sinkbasin']\n",
      "place green cup fork in sink sinkbasin ['cup', 'sinkbasin'] ['cup', 'sinkbasin']\n",
      "turn right head to fridge turn right head for sink turn right ['knife'] ['sinkbasin']\n",
      "pick up fork sinkbasin ['fork'] ['fork']\n",
      "turn around face trophy fork ['countertop'] ['cup']\n",
      "put fork in glass cup ['fork', 'cup'] ['fork', 'cup']\n"
     ]
    },
    {
     "name": "stderr",
     "output_type": "stream",
     "text": [
      "\r",
      " 29%|██████████████████████▎                                                       | 1323/4627 [00:21<00:51, 64.70it/s]"
     ]
    },
    {
     "name": "stdout",
     "output_type": "stream",
     "text": [
      "pick up glass fork cup ['cup'] ['cup']\n",
      "turn around face sink cup ['cabinet'] ['sinkbasin']\n",
      "put glass in sink sinkbasin ['cup', 'sinkbasin'] ['cup', 'sinkbasin']\n",
      "turn right walk to sink ['countertop'] ['sinkbasin']\n",
      "pick up fork from sink sinkbasin ['fork'] ['fork']\n",
      "turn around face counter with statue on it fork ['drawer'] ['cup']\n",
      "place fork in green cup behind statue cup ['fork', 'cup'] ['fork', 'cup']\n",
      "pick up green cup from counter fork cup ['cup'] ['cup']\n",
      "turn around walk to sink cup ['microwave'] ['sinkbasin']\n",
      "place green cup in front left corner sink sinkbasin ['cup', 'sinkbasin'] ['cup', 'sinkbasin']\n",
      "move to stove on other side island ['countertop'] ['microwave']\n",
      "pick up cup inside microwave above stove before closing door microwave ['mug'] ['cup']\n",
      "turn around to sink behind you cup ['sinkbasin'] ['sinkbasin']\n"
     ]
    },
    {
     "name": "stderr",
     "output_type": "stream",
     "text": [
      " 29%|██████████████████████▌                                                       | 1337/4627 [00:21<00:51, 63.71it/s]"
     ]
    },
    {
     "name": "stdout",
     "output_type": "stream",
     "text": [
      "place cup inside sink sinkbasin ['cup', 'sinkbasin'] ['cup', 'sinkbasin']\n",
      "pick up fork from inside sink cup sinkbasin ['fork'] ['fork']\n",
      "put fork inside cup in sink fork ['fork', 'mug'] ['fork', 'cup']\n",
      "open microwave above stove take out green cup microwave ['cup'] ['cup']\n",
      "turn to your left go to sink behind you cup ['sinkbasin'] ['sinkbasin']\n",
      "put green cup in sink sinkbasin ['cup', 'sinkbasin'] ['cup', 'sinkbasin']\n",
      "grab fork out sink cup sinkbasin ['fork'] ['fork']\n",
      "put fork in green cup that in sink fork ['fork', 'cup'] ['fork', 'cup']\n",
      "walk around kitchen island to stove ['countertop'] ['microwave']\n",
      "open microwave above stove remove green cup microwave ['cup'] ['cup']\n",
      "turn around go to kitchen sink cup ['sinkbasin'] ['sinkbasin']\n",
      "put cup into sink sinkbasin ['cup', 'sinkbasin'] ['cup', 'sinkbasin']\n",
      "pick up fork from sink cup sinkbasin ['fork'] ['fork']\n"
     ]
    },
    {
     "name": "stderr",
     "output_type": "stream",
     "text": [
      " 29%|██████████████████████▊                                                       | 1351/4627 [00:21<00:51, 63.74it/s]"
     ]
    },
    {
     "name": "stdout",
     "output_type": "stream",
     "text": [
      "put fork into green cup fork ['fork', 'cup'] ['fork', 'cup']\n",
      "walk around counter walk in front stove ['countertop'] ['microwave']\n",
      "take green cup out microwave above stove microwave ['cup'] ['cup']\n",
      "turn around go to sink cup ['cabinet'] ['sinkbasin']\n",
      "put green cup in sink sinkbasin ['cup', 'sinkbasin'] ['cup', 'sinkbasin']\n",
      "pick up fork next to tomato cup sinkbasin ['fork'] ['fork']\n",
      "put fork in green cup fork ['fork', 'cup'] ['fork', 'cup']\n",
      "turn right go to right island go to stove ['stoveburner'] ['microwave']\n",
      "open microwave grab green cup that to left white one shut microwave door microwave ['cup'] ['cup']\n",
      "with green cup in hand turn all way around to go to sink cup ['cabinet'] ['sinkbasin']\n",
      "place cup in sink to left fork sinkbasin ['mug', 'sinkbasin'] ['cup', 'sinkbasin']\n",
      "pick up fork that in sink to left tomato cup sinkbasin ['fork'] ['fork']\n",
      "place fork in cup that in sink fork ['fork', 'mug'] ['fork', 'cup']\n"
     ]
    },
    {
     "name": "stderr",
     "output_type": "stream",
     "text": [
      " 30%|███████████████████████                                                       | 1366/4627 [00:21<00:48, 66.91it/s]"
     ]
    },
    {
     "name": "stdout",
     "output_type": "stream",
     "text": [
      "turn left go to cabinet above coffee maker ['cabinet'] ['cabinet']\n",
      "open cabinet take out glass vase close door cabinet ['vase'] ['glassbottle']\n",
      "turn right then left back to cabinet glassbottle ['cabinet'] ['plate']\n",
      "open cabinet above coffee maker plate ['plate', 'cabinet'] ['glassbottle', 'plate']\n",
      "put vase on top plate take them both from cabinet glassbottle plate ['glassbottle', 'plate'] ['plate']\n",
      "turn left walk to sink on left plate ['sinkbasin'] ['sinkbasin']\n",
      "put glass plate in sink to left lettuce sinkbasin ['cup', 'sinkbasin'] ['plate', 'sinkbasin']\n",
      "walk across room then turn left walk across room ['cart'] ['cabinet']\n",
      "look above coffee maker open cabinet to take glass jar cabinet ['glassbottle'] ['glassbottle']\n",
      "turn to right take one step then turn left look above coffee maker glassbottle ['cabinet'] ['plate']\n",
      "put glass jar in cabinet on top plate plate ['glassbottle', 'plate'] ['glassbottle', 'plate']\n",
      "take plate with jar on it out cupboard glassbottle plate ['plate'] ['plate']\n",
      "turn left take two step then turn left plate ['countertop'] ['sinkbasin']\n",
      "place plate jar in sink to right lettuce sinkbasin ['plate', 'sinkbasin'] ['plate', 'sinkbasin']\n"
     ]
    },
    {
     "name": "stderr",
     "output_type": "stream",
     "text": [
      " 30%|███████████████████████▎                                                      | 1380/4627 [00:21<00:48, 66.43it/s]"
     ]
    },
    {
     "name": "stdout",
     "output_type": "stream",
     "text": [
      "get glass bottle from cupboard above coffee maker then close door cabinet ['winebottle'] ['glassbottle']\n",
      "take small step to your right glassbottle ['shelf'] ['plate']\n",
      "put bottle on plate in cupboard above coffee maker plate ['winebottle', 'plate'] ['glassbottle', 'plate']\n",
      "pick up plate with bottle on it close cupboard door glassbottle plate ['plate'] ['plate']\n",
      "turn left walk to sink face it plate ['cabinet'] ['sinkbasin']\n",
      "put plate in sink sinkbasin ['plate', 'sinkbasin'] ['plate', 'sinkbasin']\n",
      "turn left towards sink ['cabinet'] ['sinkbasin']\n",
      "pick up glass vase in sink sinkbasin ['glassbottle'] ['glassbottle']\n",
      "turn right to cupboard open them glassbottle ['cabinet'] ['plate']\n",
      "place glass vase on gold plate plate ['vase', 'coffeetable'] ['glassbottle', 'plate']\n",
      "take them out cupboard glassbottle plate ['plate'] ['plate']\n",
      "turn right towards sink plate ['countertop'] ['sinkbasin']\n",
      "put vase plate in sink sinkbasin ['glassbottle', 'sinkbasin'] ['plate', 'sinkbasin']\n"
     ]
    },
    {
     "name": "stderr",
     "output_type": "stream",
     "text": [
      " 30%|███████████████████████▍                                                      | 1394/4627 [00:22<00:50, 63.48it/s]"
     ]
    },
    {
     "name": "stdout",
     "output_type": "stream",
     "text": [
      "take tiny step forward then turn left to face sink step towards it ['cabinet'] ['sinkbasin']\n",
      "pick up glass battle that s in sink sinkbasin ['cup'] ['glassbottle']\n",
      "turn around take step left then step towards counter look up glassbottle ['cabinet'] ['plate']\n",
      "open cupboard door put bottle on plate that s up there plate ['winebottle', 'plate'] ['glassbottle', 'plate']\n",
      "pick up plate with bottle on it then close door glassbottle plate ['plate'] ['plate']\n",
      "turn around take step to your left then walk towards sink plate ['cabinet'] ['sinkbasin']\n",
      "put plate in sink sinkbasin ['plate', 'sinkbasin'] ['plate', 'sinkbasin']\n",
      "turn to face kitchen sink ['sinkbasin'] ['sinkbasin']\n",
      "pick up glass jug from kitchen sink sinkbasin ['cup'] ['glassbottle']\n",
      "turn around to face counter opposite sink between fridge stove glassbottle ['countertop'] ['plate']\n",
      "open cabinet above counter place glass on plate inside plate ['cup', 'cabinet'] ['glassbottle', 'plate']\n",
      "pick up plate from cabinet glassbottle plate ['plate'] ['plate']\n",
      "turn around to face sink plate ['sinkbasin'] ['sinkbasin']\n"
     ]
    },
    {
     "name": "stderr",
     "output_type": "stream",
     "text": [
      "\r",
      " 30%|███████████████████████▌                                                      | 1401/4627 [00:22<00:51, 63.18it/s]"
     ]
    },
    {
     "name": "stdout",
     "output_type": "stream",
     "text": [
      "place plate inside sink basin sinkbasin ['plate', 'sinkbasin'] ['plate', 'sinkbasin']\n",
      "pick up clear glass bottle that s in front you countertop ['glassbottle'] ['glassbottle']\n",
      "turn right take step then turn right walk to toaster glassbottle ['cabinet'] ['plate']\n",
      "open cupboard above toaster put bottle on plate up there plate ['winebottle', 'plate'] ['glassbottle', 'plate']\n",
      "pick up plate close cupboard glassbottle plate ['plate'] ['plate']\n",
      "walk back to sink plate ['sinkbasin'] ['sinkbasin']\n",
      "put plate with bottle on it in sink sinkbasin ['plate', 'sinkbasin'] ['plate', 'sinkbasin']\n",
      "turn right walk forward then turn right walk to sink ['spoon'] ['countertop']\n",
      "pick up closest glass bottle off kitchen island countertop ['glassbottle'] ['glassbottle']\n",
      "turn right walk to toaster then look up at upper cabinet glassbottle ['cabinet'] ['plate']\n",
      "open leftmost upper cabinet door put bottle on plate inside plate ['glassbottle', 'plate'] ['glassbottle', 'plate']\n",
      "take plate with bottle on it out cabinet close door glassbottle plate ['plate'] ['plate']\n"
     ]
    },
    {
     "name": "stderr",
     "output_type": "stream",
     "text": [
      " 31%|███████████████████████▊                                                      | 1415/4627 [00:22<00:50, 63.92it/s]"
     ]
    },
    {
     "name": "stdout",
     "output_type": "stream",
     "text": [
      "turn right walk to sink plate ['countertop'] ['sinkbasin']\n",
      "put plate with bottle on it in sink sinkbasin ['plate', 'sinkbasin'] ['plate', 'sinkbasin']\n",
      "move to sink to right stove ['countertop'] ['countertop']\n",
      "pick up vase from sink countertop ['glassbottle'] ['glassbottle']\n",
      "move to counter to right fridge glassbottle ['cabinet'] ['plate']\n",
      "put vase on plate plate ['vase', 'plate'] ['glassbottle', 'plate']\n",
      "pick up plate from cabinet glassbottle plate ['plate'] ['plate']\n",
      "move to sink behind you plate ['sinkbasin'] ['sinkbasin']\n",
      "put bottle in sink sinkbasin ['glassbottle', 'sinkbasin'] ['plate', 'sinkbasin']\n",
      "turn around walk to wooden dresser ahead ['dresser'] ['dresser']\n",
      "pick up set key from back left side dresser dresser ['keychain'] ['keychain']\n",
      "turn around walk to white couch on left keychain ['sofa'] ['box']\n",
      "put set key inside box on middle couch box ['keychain', 'box'] ['keychain', 'box']\n"
     ]
    },
    {
     "name": "stderr",
     "output_type": "stream",
     "text": [
      " 31%|████████████████████████                                                      | 1429/4627 [00:22<00:49, 64.30it/s]"
     ]
    },
    {
     "name": "stdout",
     "output_type": "stream",
     "text": [
      "pick up box with key inside from couch keychain box ['box'] ['box']\n",
      "turn around walk to blue chair on right box ['armchair'] ['armchair']\n",
      "put box with key inside on left side chair armchair ['box', 'armchair'] ['box', 'armchair']\n",
      "turn around walk to dresser ['dresser'] ['dresser']\n",
      "pick up set key on dresser dresser ['keychain'] ['keychain']\n",
      "turn to right walk to couch keychain ['sofa'] ['box']\n",
      "place key in box on couch box ['keychain', 'box'] ['keychain', 'box']\n",
      "pick up box keychain box ['box'] ['box']\n",
      "turn left walk to blue chair box ['armchair'] ['armchair']\n",
      "put box on chair to left yellow pillow armchair ['box', 'armchair'] ['box', 'armchair']\n",
      "turn around walk to brown cabinet ['dresser'] ['dresser']\n",
      "pick up key that are on top cabinet dresser ['keychain'] ['keychain']\n",
      "put key in box box ['keychain', 'box'] ['keychain', 'box']\n"
     ]
    },
    {
     "name": "stderr",
     "output_type": "stream",
     "text": [
      " 31%|████████████████████████▎                                                     | 1443/4627 [00:22<00:49, 64.40it/s]"
     ]
    },
    {
     "name": "stdout",
     "output_type": "stream",
     "text": [
      "pick up box with key in it keychain box ['box'] ['box']\n",
      "turn left take tiny step left then walk forward to chair box ['armchair'] ['armchair']\n",
      "put box to left plaid pillow armchair ['box', 'armchair'] ['box', 'armchair']\n",
      "turn right walk towards wall then hang left walk up to small black table ['sidetable'] ['sidetable']\n",
      "pick up set key off small black table sidetable ['keychain'] ['keychain']\n",
      "put set key in cardboard box that on bottom shelf in front you box ['keychain', 'box'] ['keychain', 'box']\n",
      "pick up cardboard box with key in it off shelf keychain box ['box'] ['box']\n",
      "walk to blue chair with yellow pillow on it that behind you box ['armchair'] ['armchair']\n",
      "turn right to walk towards black side table ['sidetable'] ['sidetable']\n",
      "pick up key on black side table sidetable ['keychain'] ['keychain']\n",
      "turn left to walk to white bookcase on right other white bookcase keychain ['shelf'] ['box']\n",
      "set key down in box on bottom shelf bookcase box ['keychain', 'box'] ['keychain', 'box']\n",
      "pick up box with key in it from bottom shelf white bookcase keychain box ['box'] ['box']\n"
     ]
    },
    {
     "name": "stderr",
     "output_type": "stream",
     "text": [
      " 31%|████████████████████████▌                                                     | 1457/4627 [00:23<00:50, 63.35it/s]"
     ]
    },
    {
     "name": "stdout",
     "output_type": "stream",
     "text": [
      "turn around walk forward towards blue armchair box ['armchair'] ['armchair']\n",
      "set box with key in it down on seat blue armchair armchair ['box', 'armchair'] ['box', 'armchair']\n",
      "turn to right then face black table on left ['sidetable'] ['sidetable']\n",
      "pick up key from center black table sidetable ['keychain'] ['keychain']\n",
      "carry key turn to left turn right to face tall white shelf keychain ['shelf'] ['box']\n",
      "place key in box on shelf box ['keychain', 'shelf'] ['keychain', 'box']\n",
      "pick up box from shelf keychain box ['box'] ['box']\n",
      "carry box turn to right then right again move to blue chair box ['armchair'] ['armchair']\n",
      "place box on blue chair to right side armchair ['box', 'armchair'] ['box', 'armchair']\n",
      "turn around move to white safe that on floor to left fire place ['safe'] ['safe']\n",
      "open safe remove set key close safe safe ['keychain'] ['keychain']\n",
      "put set key in to box that in on sofa box ['keychain', 'box'] ['keychain', 'box']\n",
      "pick up box from sofa keychain box ['box'] ['box']\n"
     ]
    },
    {
     "name": "stderr",
     "output_type": "stream",
     "text": [
      " 32%|████████████████████████▊                                                     | 1471/4627 [00:23<00:49, 63.41it/s]"
     ]
    },
    {
     "name": "stdout",
     "output_type": "stream",
     "text": [
      "turn to left move to blue chair with plaid pillow box ['armchair'] ['armchair']\n",
      "put box on to chair to right pillow armchair ['box', 'armchair'] ['box', 'armchair']\n",
      "walk to face safe on floor ['safe'] ['safe']\n",
      "pick up key from inside safe safe ['keychain'] ['keychain']\n",
      "walk to face sofa with box keychain ['sofa'] ['box']\n",
      "put key in box on sofa box ['keychain', 'box'] ['keychain', 'box']\n",
      "pick up box from sofa keychain box ['box'] ['box']\n",
      "walk to face blue plush chair box ['armchair'] ['armchair']\n",
      "put box on chair armchair ['box', 'armchair'] ['box', 'armchair']\n",
      "turn around walk to safe on floor ['safe'] ['safe']\n",
      "take out key chain from safe close safe safe ['keychain'] ['keychain']\n",
      "put key chain in box box ['keychain', 'box'] ['keychain', 'box']\n",
      "pick up box from sofa keychain box ['box'] ['box']\n"
     ]
    },
    {
     "name": "stderr",
     "output_type": "stream",
     "text": [
      "\r",
      " 32%|████████████████████████▉                                                     | 1478/4627 [00:23<00:49, 63.48it/s]"
     ]
    },
    {
     "name": "stdout",
     "output_type": "stream",
     "text": [
      "turn left walk to blue armchair box ['armchair'] ['armchair']\n",
      "put box on seat armchair to right pillow armchair ['box', 'armchair'] ['box', 'armchair']\n",
      "turn around go to left side brown desk to right window ['desk'] ['desk']\n",
      "pick up pencil on desk desk ['pencil'] ['pencil']\n",
      "turn right move closer towards desk pencil ['mug'] ['bowl']\n",
      "place pencil in glass bowl on desk bowl ['pencil', 'bowl'] ['pencil', 'bowl']\n",
      "pick up glass bowl with pencil in it pencil bowl ['bowl'] ['bowl']\n",
      "turn right head to other desk with lamp on it bowl ['desklamp'] ['shelf']\n",
      "turn around hang right at bed walk to wooden desk on right ['desk'] ['desk']\n",
      "pick up white pencil from left side desk desk ['pencil'] ['pencil']\n",
      "turn right walk to wooden desk on left pencil ['desk'] ['bowl']\n",
      "put pencil inside clear bowl on desk bowl ['pencil', 'bowl'] ['pencil', 'bowl']\n"
     ]
    },
    {
     "name": "stderr",
     "output_type": "stream",
     "text": [
      " 32%|█████████████████████████▏                                                    | 1492/4627 [00:23<00:52, 59.70it/s]"
     ]
    },
    {
     "name": "stdout",
     "output_type": "stream",
     "text": [
      "pick up clear bowl with pencil inside from desk pencil bowl ['bowl'] ['bowl']\n",
      "turn right walk to wooden desk on left bowl ['desk'] ['shelf']\n",
      "put bowl with pencil inside on top right shelf desk shelf ['bowl', 'shelf'] ['bowl', 'shelf']\n",
      "turn left across room head towards table on your right ['coffeetable'] ['desk']\n",
      "pick up pencil at edge table desk ['pencil'] ['pencil']\n",
      "turn around right back to table pencil ['shelf'] ['bowl']\n",
      "drop pencil on transparent plate on table bowl ['pencil', 'bowl'] ['pencil', 'bowl']\n",
      "pick up transparent plate from table pencil bowl ['bowl'] ['bowl']\n",
      "turn right around room head towards book shelf on your left bowl ['dresser'] ['shelf']\n",
      "put transparent plate in book shelf shelf ['plate', 'shelf'] ['bowl', 'shelf']\n",
      "go to desk ['diningtable'] ['desk']\n",
      "pick up pencil from desk desk"
     ]
    },
    {
     "name": "stderr",
     "output_type": "stream",
     "text": [
      " 33%|█████████████████████████▎                                                    | 1505/4627 [00:23<00:51, 60.11it/s]"
     ]
    },
    {
     "name": "stdout",
     "output_type": "stream",
     "text": [
      " ['pencil'] ['pencil']\n",
      "re-approach desk where bowl pencil ['desk'] ['bowl']\n",
      "put pencil in bowl bowl ['pencil', 'bowl'] ['pencil', 'bowl']\n",
      "pick up bowl with pencil pencil bowl ['bowl'] ['bowl']\n",
      "take bowl to right side desk bowl ['shelf'] ['shelf']\n",
      "set bowl on desk between two row book on bottom shelf shelf ['bowl', 'shelf'] ['bowl', 'shelf']\n",
      "turn around go to desk ['desk'] ['desk']\n",
      "grab pencil off desk desk ['pencil'] ['pencil']\n",
      "look down at desk pencil ['desk'] ['bowl']\n",
      "put pencil in container on desk bowl ['pencil', 'bowl'] ['pencil', 'bowl']\n",
      "grab container off desk pencil bowl ['bowl'] ['bowl']\n",
      "back up from desk bowl ['desk'] ['shelf']\n"
     ]
    },
    {
     "name": "stderr",
     "output_type": "stream",
     "text": [
      " 33%|█████████████████████████▌                                                    | 1519/4627 [00:24<00:50, 61.07it/s]"
     ]
    },
    {
     "name": "stdout",
     "output_type": "stream",
     "text": [
      "put container down at back desk shelf ['bowl', 'shelf'] ['bowl', 'shelf']\n",
      "turn around walk to desk ['shelf'] ['desk']\n",
      "pick up pencil that on desk desk ['pencil'] ['pencil']\n",
      "take step back from desk pencil ['drawer'] ['bowl']\n",
      "put pencil in bowl bowl ['pencil', 'bowl'] ['pencil', 'bowl']\n",
      "pick up bowl with pencil in it pencil bowl ['bowl'] ['bowl']\n",
      "take few step to right bowl ['cabinet'] ['shelf']\n",
      "put bowl with pencil between book on desk shelf ['bowl', 'shelf'] ['bowl', 'shelf']\n",
      "go forward go to right turn to right towards desk ['sidetable'] ['desk']\n",
      "pick up pencil from book shelf desk ['pencil'] ['pencil']\n",
      "put pencil inside bowl that in desk bowl ['pencil', 'bowl'] ['pencil', 'bowl']\n",
      "pick up bowl from desk pencil bowl ['bowl'] ['bowl']\n",
      "turn to right go left go right turn to left towards book shelf bowl ['shelf'] ['shelf']\n"
     ]
    },
    {
     "name": "stderr",
     "output_type": "stream",
     "text": [
      "\r",
      " 33%|█████████████████████████▋                                                    | 1526/4627 [00:24<00:52, 59.28it/s]"
     ]
    },
    {
     "name": "stdout",
     "output_type": "stream",
     "text": [
      "put bowl on top book shelf shelf ['bowl', 'shelf'] ['bowl', 'shelf']\n",
      "move forward to end desk then turn right to face desk ['desk'] ['desk']\n",
      "pick up pencil from desk desk ['pencil'] ['pencil']\n",
      "turn around move forward to bed then turn right go to desk ahead pencil ['desk'] ['bowl']\n",
      "put pencil in bowl on desk bowl ['pencil', 'bowl'] ['pencil', 'bowl']\n",
      "pick up bowl from desk pencil bowl ['bowl'] ['bowl']\n",
      "put bowl on desk shelf ['bowl', 'shelf'] ['bowl', 'shelf']\n",
      "turn to right walk to desk ['desk'] ['desk']\n",
      "pick up pencil from desk desk ['pencil'] ['pencil']\n",
      "turn to left walk to second desk pencil ['desk'] ['bowl']\n",
      "place pencil in bowl on desk bowl ['pencil', 'bowl'] ['pencil', 'bowl']\n"
     ]
    },
    {
     "name": "stderr",
     "output_type": "stream",
     "text": [
      " 33%|█████████████████████████▉                                                    | 1540/4627 [00:24<00:51, 59.85it/s]"
     ]
    },
    {
     "name": "stdout",
     "output_type": "stream",
     "text": [
      "pick up pencil bowl from desk pencil bowl ['pencil'] ['bowl']\n",
      "turn to right walk to bed then turn left walk to other desk bowl ['desk'] ['shelf']\n",
      "place pencil bowl on desk between book shelf ['pencil', 'desk'] ['bowl', 'shelf']\n",
      "turn right go forward to counter to left stove ['countertop'] ['countertop']\n",
      "take left spoon that on counter countertop ['spoon'] ['spoon']\n",
      "turn left go forward to brown shelf on wall straight ahead spoon ['shelf'] ['mug']\n",
      "place spoon in white mug on shelf mug ['spoon', 'mug'] ['spoon', 'mug']\n",
      "pick up mug off shelf spoon mug ['mug'] ['mug']\n",
      "turn right go to counter left stove mug ['countertop'] ['countertop']\n",
      "place mug on counter under spoon countertop ['mug', 'countertop'] ['mug', 'countertop']\n",
      "turn right begin walking across room hang left before oven walk up to counter ['countertop'] ['countertop']\n",
      "pick up metal spoon that to left phone on counter countertop ['spoon'] ['spoon']\n"
     ]
    },
    {
     "name": "stderr",
     "output_type": "stream",
     "text": [
      " 34%|██████████████████████████▏                                                   | 1553/4627 [00:24<00:52, 58.87it/s]"
     ]
    },
    {
     "name": "stdout",
     "output_type": "stream",
     "text": [
      "turn left walk to wooden shelving unit against far wall spoon ['shelf'] ['mug']\n",
      "put metal spoon into white mug that on top shelf wooden shelving unit mug ['spoon', 'mug'] ['spoon', 'mug']\n",
      "pick up white mug with metal spoon inside it spoon mug ['mug'] ['mug']\n",
      "turn around walk back to kitchen counter to left oven mug ['coffeemachine'] ['countertop']\n",
      "go right stand in front counter to left stove ['countertop'] ['countertop']\n",
      "pick up spoon from counter countertop ['spoon'] ['spoon']\n",
      "go to left stand in front brown shelf spoon ['cup'] ['mug']\n",
      "put spoon in white cup on shelf mug ['spoon', 'mug'] ['spoon', 'mug']\n",
      "pick white cup up from shelf spoon mug ['mug'] ['mug']\n",
      "go right then right again to stand in front counter to left stove mug ['countertop'] ['countertop']\n",
      "put cup down on right side counter close to stove countertop ['cup', 'countertop'] ['mug', 'countertop']\n",
      "pick up metal spoon that to right toaster on counter countertop ['spoon'] ['spoon']\n"
     ]
    },
    {
     "name": "stderr",
     "output_type": "stream",
     "text": [
      " 34%|██████████████████████████▍                                                   | 1565/4627 [00:25<00:54, 56.11it/s]"
     ]
    },
    {
     "name": "stdout",
     "output_type": "stream",
     "text": [
      "turn left walk to fridge spoon ['cup'] ['mug']\n",
      "open fridge door place metal spoon inside white mug that in fridge mug ['spoon', 'mug'] ['spoon', 'mug']\n",
      "remove white mug with spoon inside it from fridge close fridge door spoon mug ['mug'] ['mug']\n",
      "turn right walk to section counter above dishwasher mug ['countertop'] ['countertop']\n",
      "pick up spoon on counter to right toaster countertop ['ladle'] ['spoon']\n",
      "turn left go forward then turn right to go to fridge spoon ['mug'] ['mug']\n",
      "put spoon in mug inside fridge mug ['spoon', 'mug'] ['spoon', 'mug']\n",
      "pick up mug with spoon in it from in fridge spoon mug ['mug'] ['mug']\n",
      "turn right go forward then turn left to return to counter above dishwasher mug ['countertop'] ['countertop']\n",
      "put mug with spoon in it on counter to right fork countertop ['mug', 'countertop'] ['mug', 'countertop']\n",
      "turn to left walk in front counter with toaster on it ['countertop'] ['countertop']\n"
     ]
    },
    {
     "name": "stderr",
     "output_type": "stream",
     "text": [
      " 34%|██████████████████████████▌                                                   | 1577/4627 [00:25<00:54, 55.47it/s]"
     ]
    },
    {
     "name": "stdout",
     "output_type": "stream",
     "text": [
      "pick up spoon that s next to toaster countertop ['spoon'] ['spoon']\n",
      "move to front fridge spoon ['cup'] ['mug']\n",
      "open fridge put spoon in white mug mug ['spoon', 'mug'] ['spoon', 'mug']\n",
      "take mug out fridge close door spoon mug ['mug'] ['mug']\n",
      "turn to right stand in front counter with two head lettuce on it mug ['countertop'] ['countertop']\n",
      "put mug down on edge counter countertop ['mug', 'countertop'] ['mug', 'countertop']\n",
      "pick up spoon that s in front you countertop ['spoon'] ['spoon']\n",
      "take step to your left spoon ['drawer'] ['mug']\n",
      "put spoon in mug in fridge mug ['spoon', 'mug'] ['spoon', 'mug']\n",
      "pick up mug with spoon in it close door spoon mug ['mug'] ['mug']\n",
      "take two step to your right mug ['sidetable'] ['countertop']\n"
     ]
    },
    {
     "name": "stderr",
     "output_type": "stream",
     "text": [
      "\r",
      " 34%|██████████████████████████▋                                                   | 1583/4627 [00:25<00:53, 56.58it/s]"
     ]
    },
    {
     "name": "stdout",
     "output_type": "stream",
     "text": [
      "put mug to left head lettuce nearest edge countertop ['mug', 'countertop'] ['mug', 'countertop']\n",
      "cross room to face counter to right fridge ['countertop'] ['countertop']\n",
      "pick spoon up from counter countertop ['spoon'] ['spoon']\n",
      "move to left face fridge spoon ['cup'] ['mug']\n",
      "open fridge put spoon in cup mug ['spoon', 'mug'] ['spoon', 'mug']\n",
      "pick cup up from inside fridge spoon mug ['mug'] ['mug']\n",
      "turn go to face counter to right fridge mug ['coffeemachine'] ['countertop']\n",
      "put cup on counter countertop ['cup', 'countertop'] ['mug', 'countertop']\n",
      "turn around head in to kitchen ['countertop'] ['countertop']\n",
      "stand in front counter next to fridge countertop ['knife', 'fridge'] ['spoon']\n",
      "take spoon from counter spoon ['spoon'] ['mug']\n",
      "go to fridge open door mug ['fridge'] ['spoon', 'mug']\n",
      "put spoon inside white mug inside fridge spoon mug ['spoon', 'mug'] ['mug']\n"
     ]
    },
    {
     "name": "stderr",
     "output_type": "stream",
     "text": [
      " 34%|██████████████████████████▉                                                   | 1596/4627 [00:25<00:53, 57.05it/s]"
     ]
    },
    {
     "name": "stdout",
     "output_type": "stream",
     "text": [
      "take white mug out fridge close door mug ['mug'] ['countertop']\n",
      "turn right walk in to kitchen put white mug on counter countertop ['mug', 'countertop'] ['mug', 'countertop']\n",
      "turn around go forward past stove turn to face counter on right ['countertop'] ['countertop']\n",
      "pick up spoon on counter countertop ['spoon'] ['spoon']\n",
      "turn left go to fridge turn right to face fridge spoon ['cup'] ['mug']\n",
      "open fridge put spoon in mug on top shelf mug ['spoon', 'mug'] ['spoon', 'mug']\n",
      "pick up mug with spoon from top shelf fridge spoon mug ['mug'] ['mug']\n",
      "turn right move to counter before stove face counter on left mug ['countertop'] ['countertop']\n",
      "put mug with spoon on counter left stove countertop ['mug', 'countertop'] ['mug', 'countertop']\n",
      "pick up metal spoon that on counter to left oven countertop ['spoon'] ['spoon']\n",
      "turn left walk to fridge spoon ['cup'] ['mug']\n",
      "pick up white mug with spoon inside it close fridge door spoon mug ['mug'] ['mug']"
     ]
    },
    {
     "name": "stderr",
     "output_type": "stream",
     "text": [
      " 35%|███████████████████████████                                                   | 1608/4627 [00:25<00:52, 56.98it/s]"
     ]
    },
    {
     "name": "stdout",
     "output_type": "stream",
     "text": [
      "\n",
      "turn right walk to dishwasher turn left to face counter mug ['coffeemachine'] ['countertop']\n",
      "put white mug with spoon inside it on counter countertop ['mug', 'coffeemachine'] ['mug', 'countertop']\n",
      "turn around go straight then turn right to face counter to right oven ['countertop'] ['countertop']\n",
      "pick up spoon on counter to left butter knife countertop ['ladle'] ['spoon']\n",
      "turn left go to fridge ahead you spoon ['fridge'] ['mug']\n",
      "put spoon in mug on top shelf fridge mug ['spoon', 'mug'] ['spoon', 'mug']\n",
      "pick up mug with spoon in it spoon mug ['mug'] ['mug']\n",
      "turn right go straight then turn left at dishwasher mug ['coffeemachine'] ['countertop']\n",
      "put mug on counter in front lettuce countertop ['mug', 'countertop'] ['mug', 'countertop']\n",
      "move to left stove ['countertop'] ['countertop']\n",
      "pick up spoon from counter countertop ['spoon'] ['spoon']\n",
      "move to fridge to left you spoon ['cup'] ['mug']\n"
     ]
    },
    {
     "name": "stderr",
     "output_type": "stream",
     "text": [
      " 35%|███████████████████████████▎                                                  | 1621/4627 [00:25<00:51, 57.94it/s]"
     ]
    },
    {
     "name": "stdout",
     "output_type": "stream",
     "text": [
      "put spoon inside cup mug ['spoon', 'mug'] ['spoon', 'mug']\n",
      "pick up cup from fridge spoon mug ['mug'] ['mug']\n",
      "move to counter to left stove mug ['coffeemachine'] ['countertop']\n",
      "put cup on counter countertop ['cup', 'countertop'] ['mug', 'countertop']\n",
      "pick up spoon directly to left pear countertop ['spoon'] ['spoon']\n",
      "turn left walk until you reach fridge spoon ['cup'] ['mug']\n",
      "place spoon in white mug on top shelf fridge mug ['spoon', 'mug'] ['spoon', 'mug']\n",
      "grab mug that you placed spoon in spoon mug ['mug'] ['mug']\n",
      "turn to your right walk back to counter that you got spoon from mug ['cabinet'] ['countertop']\n",
      "place mug on front counter countertop ['mug', 'countertop'] ['mug', 'countertop']\n",
      "turn around go straight pas oven turn right towards counter ['countertop'] "
     ]
    },
    {
     "name": "stderr",
     "output_type": "stream",
     "text": [
      " 35%|███████████████████████████▌                                                  | 1633/4627 [00:26<00:52, 56.52it/s]"
     ]
    },
    {
     "name": "stdout",
     "output_type": "stream",
     "text": [
      "['countertop']\n",
      "pick up spoon from counter countertop ['spoon'] ['spoon']\n",
      "turn left go towards fridge open fridge spoon ['cup'] ['mug']\n",
      "place spoon in cup on first rack fridge mug ['spoon', 'mug'] ['spoon', 'mug']\n",
      "take out cup with spoon close fridge spoon mug ['mug'] ['mug']\n",
      "turn right go towards counter then turn left in front counter mug ['coffeemachine'] ['countertop']\n",
      "place cup on counter countertop ['mug', 'countertop'] ['mug', 'countertop']\n",
      "walk to coffee maker on end counter ['countertop'] ['countertop']\n",
      "grab spoon from counter countertop ['spoon'] ['spoon']\n",
      "go to stove focus on top left burner spoon ['drawer'] ['pan']\n",
      "place spoon in pan pan ['spoon', 'pan'] ['spoon', 'pan']\n",
      "grab pan from stove spoon pan ['pan'] ['pan']\n",
      "turn around go to kitchen sink pan ['sinkbasin'] ['sinkbasin']\n"
     ]
    },
    {
     "name": "stderr",
     "output_type": "stream",
     "text": [
      " 36%|███████████████████████████▋                                                  | 1646/4627 [00:26<00:50, 59.06it/s]"
     ]
    },
    {
     "name": "stdout",
     "output_type": "stream",
     "text": [
      "place pan spoon in sink sinkbasin ['pot', 'sinkbasin'] ['pan', 'sinkbasin']\n",
      "go to counter right stove ['countertop'] ['countertop']\n",
      "pick up spoon on counter countertop ['spoon'] ['spoon']\n",
      "go to stove spoon ['drawer'] ['pan']\n",
      "place spoon in pan pan ['spoon', 'pan'] ['spoon', 'pan']\n",
      "pick up pan from stove spoon pan ['pan'] ['pan']\n",
      "turn to sink pan ['sinkbasin'] ['sinkbasin']\n",
      "place pan spoon in sink sinkbasin ['pot', 'sinkbasin'] ['pan', 'sinkbasin']\n",
      "pick up spoon from counter behind shaker countertop ['spoon'] ['spoon']\n",
      "turn left proceed to stove on right turn right to face stove spoon ['drawer'] ['pan']\n",
      "put spoon standing up in pan on right back burner stove pan ['spoon', 'pan'] ['spoon', 'pan']\n",
      "pick up pan with spoon from right back burner stove spoon pan ['pan'] ['pan']\n"
     ]
    },
    {
     "name": "stderr",
     "output_type": "stream",
     "text": [
      " 36%|███████████████████████████▉                                                  | 1659/4627 [00:26<00:49, 59.89it/s]"
     ]
    },
    {
     "name": "stdout",
     "output_type": "stream",
     "text": [
      "turn around go to sink pan ['sinkbasin'] ['sinkbasin']\n",
      "put pan with spoon in center sink sinkbasin ['pot', 'sinkbasin'] ['pan', 'sinkbasin']\n",
      "turn around to right walk around island to far side ['countertop'] ['countertop']\n",
      "pick up spoon from beside plant countertop ['spoon'] ['spoon']\n",
      "turn to left walk to stove spoon ['drawer'] ['pan']\n",
      "place spoon into front left skillet pan ['spoon', 'pan'] ['spoon', 'pan']\n",
      "pick up skillet spoon pan ['pan'] ['pan']\n",
      "turn to left walk to sink pan ['sinkbasin'] ['sinkbasin']\n",
      "place skillet into sink sinkbasin ['pot', 'sinkbasin'] ['pan', 'sinkbasin']\n",
      "take spoon that on counter behind plant countertop ['spoon'] ['spoon']\n",
      "place spoon on plate on left side stove pan ['spoon', 'pan'] ['spoon', 'pan']\n",
      "pick up plate with spoon on it spoon pan ['pan'] ['pan']\n"
     ]
    },
    {
     "name": "stderr",
     "output_type": "stream",
     "text": [
      " 36%|████████████████████████████▏                                                 | 1672/4627 [00:26<00:49, 59.40it/s]"
     ]
    },
    {
     "name": "stdout",
     "output_type": "stream",
     "text": [
      "turn around walk to sink pan ['sinkbasin'] ['sinkbasin']\n",
      "place plate with spoon in sink sinkbasin ['plate', 'sinkbasin'] ['pan', 'sinkbasin']\n",
      "pick up metal table spoon off kitchen island countertop ['spoon'] ['spoon']\n",
      "turn right walk around kitchen island to oven spoon ['countertop'] ['pan']\n",
      "put table spoon in metal pan that on front left burner stove pan ['spoon', 'pan'] ['spoon', 'pan']\n",
      "pick up metal pan with spoon in it spoon pan ['pan'] ['pan']\n",
      "walk up to sink that behind you in kitchen island pan ['sinkbasin'] ['sinkbasin']\n",
      "put pan with spoon in it into sink basin sinkbasin ['pan', 'sinkbasin'] ['pan', 'sinkbasin']\n",
      "walk to section counter to left oven ['cabinet'] ['countertop']\n",
      "pick up metal table spoon off counter countertop ['spoon'] ['spoon']\n",
      "turn right walk forward then turn left to face stove spoon ['pan'] ['pan']\n",
      "put spoon in pan that on front left burner stove pan ['spoon', 'pan'] ['spoon', 'pan']\n"
     ]
    },
    {
     "name": "stderr",
     "output_type": "stream",
     "text": [
      " 36%|████████████████████████████▍                                                 | 1684/4627 [00:27<00:50, 58.75it/s]"
     ]
    },
    {
     "name": "stdout",
     "output_type": "stream",
     "text": [
      "pick up pan with spoon in it off stove spoon pan ['pan'] ['pan']\n",
      "walk to kitchen sink pan ['sinkbasin'] ['sinkbasin']\n",
      "put pan with spoon in it into sink sinkbasin ['pan', 'sinkbasin'] ['pan', 'sinkbasin']\n",
      "take step to left to face counter to left stove ['countertop'] ['countertop']\n",
      "pick up spoon on counter countertop ['spoon'] ['spoon']\n",
      "take step to right face stove spoon ['drawer'] ['pan']\n",
      "place knife on pan on front left burner pan ['butterknife', 'pan'] ['spoon', 'pan']\n",
      "pick up pan with knife in it on stove spoon pan ['pan'] ['pan']\n",
      "turn around step forward to face sink pan ['sinkbasin'] ['sinkbasin']\n",
      "place pan with spoon in it in sink sinkbasin ['pan', 'sinkbasin'] ['pan', 'sinkbasin']\n",
      "turn left walk just past stove turn right face cabinet just left stove ['cabinet'] ['countertop']\n",
      "pick up spoon lying on counter left stove countertop ['spoon'] ['spoon']\n"
     ]
    },
    {
     "name": "stderr",
     "output_type": "stream",
     "text": [
      "\r",
      " 37%|████████████████████████████▌                                                 | 1691/4627 [00:27<00:47, 61.45it/s]"
     ]
    },
    {
     "name": "stdout",
     "output_type": "stream",
     "text": [
      "turn right walk slightly forward then turn left to stove spoon ['drawer'] ['pan']\n",
      "place spoon on plate that on top stove pan ['spoon', 'pan'] ['spoon', 'pan']\n",
      "pick up plate with spoon on it spoon pan ['pan'] ['pan']\n",
      "turn left walk slightly forward turn left walk to sink pan ['sinkbasin'] ['sinkbasin']\n",
      "place plate with spoon on it in sink sinkbasin ['plate', 'sinkbasin'] ['pan', 'sinkbasin']\n",
      "turn left then go clockwise to face opposite end kitchen island ['countertop'] ['countertop']\n",
      "pick up bowl that near potted plant in corner island countertop ['cup'] ['bowl']\n",
      "turn right go counterclockwise around island to sink bowl ['sinkbasin'] ['sinkbasin']\n",
      "wash bowl in sink sinkbasin ['cup'] ['bowl']\n",
      "face opposite direction look up at cabinet above counter to left stove bowl ['cabinet'] ['cabinet']\n",
      "put bowl on bottom shelf cabinet on right cabinet ['bowl', 'cabinet'] ['bowl', 'cabinet']\n",
      "pick up dirty bowl on island countertop ['bowl'] ['bowl']\n"
     ]
    },
    {
     "name": "stderr",
     "output_type": "stream",
     "text": [
      " 37%|████████████████████████████▋                                                 | 1705/4627 [00:27<00:48, 59.97it/s]"
     ]
    },
    {
     "name": "stdout",
     "output_type": "stream",
     "text": [
      "bring bowl around island to right then face sink on left bowl ['cabinet'] ['sinkbasin']\n",
      "wash bowl in sink with water fill bowl with water sinkbasin ['bowl'] ['bowl']\n",
      "turn around bring filled bowl to cabinet left microwave bowl ['cabinet'] ['cabinet']\n",
      "put filled bowl in cabinet left microwave cabinet ['cup', 'cabinet'] ['bowl', 'cabinet']\n",
      "pick up wooden bowl off kitchen island countertop ['bowl'] ['bowl']\n",
      "turn right walk to counter then turn left walk to sink bowl ['cabinet'] ['sinkbasin']\n",
      "walk to counter behind you look up at upper cabinet bowl ['cabinet'] ['cabinet']\n",
      "take bowl out cabinet above microwave cabinet ['bowl'] ['bowl']\n",
      "turn around bring bowl to sink bowl ['cabinet'] ['sinkbasin']\n",
      "fill bowl with water from sink sinkbasin ['bowl'] ['bowl']\n",
      "turn around bring filled bowl to cabinet left microwave bowl ['cabinet'] ['cabinet']\n",
      "put filled bowl water in cabinet left microwave cabinet ['bowl', 'cabinet'] ['bowl', 'cabinet']\n",
      "turn around walk to sink bowl ['cabinet'] ['sinkbasin']\n"
     ]
    },
    {
     "name": "stderr",
     "output_type": "stream",
     "text": [
      " 37%|████████████████████████████▉                                                 | 1719/4627 [00:27<00:47, 60.72it/s]"
     ]
    },
    {
     "name": "stdout",
     "output_type": "stream",
     "text": [
      "fill bowl with water in sink then shut off water sinkbasin ['bowl'] ['bowl']\n",
      "turn back around bowl ['cabinet'] ['cabinet']\n",
      "open cupboard to left microwave put bowl water in there then close door cabinet ['bowl', 'cabinet'] ['bowl', 'cabinet']\n",
      "turn around cross room turn to right then left to face cabinet above microwave ['cabinet'] ['cabinet']\n",
      "open cabinet on left above microwave take bowl out cabinet ['cup'] ['bowl']\n",
      "turn around face sink bowl ['cabinet'] ['sinkbasin']\n",
      "put bowl in sink turn water on then off pick bowl up again sinkbasin ['bowl'] ['bowl']\n",
      "turn around face cabinet to left microwave bowl ['cabinet'] ['cabinet']\n",
      "put bowl in cabinet to left microwave shut door cabinet ['cup', 'cabinet'] ['bowl', 'cabinet']\n",
      "turn around move left to toaster ['countertop'] ['cabinet']\n",
      "take bowl out cabinet on top left cabinet ['cup'] ['bowl']\n",
      "turn around walk to sink bowl ['cabinet'] ['sinkbasin']\n"
     ]
    },
    {
     "name": "stderr",
     "output_type": "stream",
     "text": [
      " 37%|█████████████████████████████▏                                                | 1733/4627 [00:27<00:47, 61.18it/s]"
     ]
    },
    {
     "name": "stdout",
     "output_type": "stream",
     "text": [
      "wash bowl in sink sinkbasin ['cup'] ['bowl']\n",
      "turn around look up bowl ['cabinet'] ['cabinet']\n",
      "open counter on top left place bowl inside it to right red container cabinet ['bowl', 'cabinet'] ['bowl', 'cabinet']\n",
      "step back from sink turn right walk across kitchen turn right face counter ['countertop'] ['cabinet']\n",
      "open cupboard above your head get bowl cabinet ['cup'] ['bowl']\n",
      "turn around to right carry bowl to sink bowl ['cabinet'] ['sinkbasin']\n",
      "turn sink on fill bowl with water sinkbasin ['pot'] ['bowl']\n",
      "put bowl in cupboard cabinet ['cup', 'cabinet'] ['bowl', 'cabinet']\n",
      "turn right walk toaster on counter to your right look up to cabinet ['cabinet'] ['cabinet']\n",
      "grab bowl inside cabinet cabinet ['cup'] ['bowl']\n",
      "turn right walk to sink to your right bowl ['sinkbasin'] ['sinkbasin']\n",
      "fill bowl up with water grab bowl sinkbasin ['bowl'] ['bowl']\n",
      "turn left quick left again look up to cabinet bowl ['cabinet'] ['cabinet']\n"
     ]
    },
    {
     "name": "stderr",
     "output_type": "stream",
     "text": [
      " 38%|█████████████████████████████▍                                                | 1747/4627 [00:28<00:46, 61.70it/s]"
     ]
    },
    {
     "name": "stdout",
     "output_type": "stream",
     "text": [
      "place bowl filled with water next to red vase in cabinet cabinet ['bowl', 'cabinet'] ['bowl', 'cabinet']\n",
      "turn right walk to blue cloth on counter ['countertop'] ['cloth']\n",
      "pick up blue cloth from counter cloth ['cloth'] ['cloth']\n",
      "walk slightly left to sink on right cloth ['sinkbasin'] ['sinkbasin']\n",
      "put cloth in sink rinse it off take it back out sink sinkbasin ['cloth'] ['cloth']\n",
      "move backwards bit away from sink cloth ['cabinet'] ['cabinet']\n",
      "put blue cloth in bottom left cabinet below sink then close cabinet cabinet ['soapbottle', 'cabinet'] ['cloth', 'cabinet']\n",
      "move to sink to left toilet ['cabinet'] ['cloth']\n",
      "pick up rag from counter cloth ['cloth'] ['cloth']\n",
      "move to sink to left you cloth ['bathtubbasin'] ['sinkbasin']\n",
      "clean rag in sink sinkbasin ['cloth'] ['cloth']\n",
      "move away from sink cloth ['cabinet'] ['cabinet']\n"
     ]
    },
    {
     "name": "stderr",
     "output_type": "stream",
     "text": [
      "\r",
      " 38%|█████████████████████████████▌                                                | 1754/4627 [00:28<00:47, 60.02it/s]"
     ]
    },
    {
     "name": "stdout",
     "output_type": "stream",
     "text": [
      "put rag in cabinet under sink cabinet ['cloth', 'cabinet'] ['cloth', 'cabinet']\n",
      "turn right walk to sink ['countertop'] ['cloth']\n",
      "pick up blue rag to right sink cloth ['cloth'] ['cloth']\n",
      "take step left to sink cloth ['sinkbasin'] ['sinkbasin']\n",
      "wash rag in sink sinkbasin ['cloth'] ['cloth']\n",
      "take step back cloth ['drawer'] ['cabinet']\n",
      "place rag in left cabinet underneath sink cabinet ['cloth', 'cabinet'] ['cloth', 'cabinet']\n",
      "walk to toilet ['toiletpaperhanger'] ['cloth']\n",
      "pick up rag from counter cloth ['cloth'] ['cloth']\n",
      "go sink on right cloth ['sinkbasin'] ['sinkbasin']\n",
      "wash rag in sink remove sinkbasin ['cloth'] ['cloth']\n",
      "walk to center room face toilet cloth ['toilet']"
     ]
    },
    {
     "name": "stderr",
     "output_type": "stream",
     "text": [
      " 38%|█████████████████████████████▊                                                | 1768/4627 [00:28<00:46, 61.33it/s]"
     ]
    },
    {
     "name": "stdout",
     "output_type": "stream",
     "text": [
      " ['cabinet']\n",
      "put washcloth in cabinet below sink cabinet ['soapbottle', 'cabinet'] ['cloth', 'cabinet']\n",
      "turn to your right walk to sink ['countertop'] ['cloth']\n",
      "pick up rag that on sink counter cloth ['cloth'] ['cloth']\n",
      "turn around take step forward turn around again cloth ['drawer'] ['sinkbasin']\n",
      "place rag in sink turn faucet on off to wet rag sinkbasin ['cloth'] ['cloth']\n",
      "turn around take step forward turn around again cloth ['drawer'] ['cabinet']\n",
      "place wet rag in cabinet under sink cabinet ['cloth', 'cabinet'] ['cloth', 'cabinet']\n",
      "turn right walk forward to blue cloth rag on counter ['countertop'] ['cloth']\n",
      "pick up cloth rag from counter cloth ['cloth'] ['cloth']\n",
      "move left slightly to front sink on right cloth ['sinkbasin'] ['sinkbasin']\n",
      "put cloth rag in sink rinse it off take it out sink sinkbasin ['cloth'] ['cloth']\n",
      "move back slightly from counter top cloth ['countertop'] ['cabinet']\n",
      "put cloth rag in bottom left cabinet below sink then close cabinet cabinet ['cloth', 'cabinet'] ['cloth', 'cabinet']\n"
     ]
    },
    {
     "name": "stderr",
     "output_type": "stream",
     "text": [
      " 38%|██████████████████████████████                                                | 1781/4627 [00:28<00:48, 58.83it/s]"
     ]
    },
    {
     "name": "stdout",
     "output_type": "stream",
     "text": [
      "turn around walk to vanity on right ['countertop'] ['cabinet']\n",
      "open second from right cabinet door take green cloth out cabinet ['cloth'] ['cloth']\n",
      "turn right turn left to counter cloth ['drawer'] ['sinkbasin']\n",
      "put cloth in sink wash cloth take cloth out sinkbasin ['cloth'] ['cloth']\n",
      "turn around turn around cloth ['drawer'] ['cabinet']\n",
      "open second from right cabinet door put cloth in close cabinet cabinet ['cloth', 'cabinet'] ['cloth', 'cabinet']\n",
      "turn left face sink ['sinkbasin'] ['cabinet']\n",
      "take green cloth from cabinet below sink cabinet ['cloth'] ['cloth']\n",
      "place green cloth in sink cloth ['sinkbasin'] ['sinkbasin']\n",
      "rinse green cloth in sink sinkbasin ['cloth'] ['cloth']\n",
      "back up from sink cloth ['sinkbasin'] ['cabinet']\n",
      "place cloth back in cabinet cabinet ['cloth', 'cabinet'] ['cloth', 'cabinet']\n"
     ]
    },
    {
     "name": "stderr",
     "output_type": "stream",
     "text": [
      " 39%|██████████████████████████████▏                                               | 1793/4627 [00:28<00:48, 58.83it/s]"
     ]
    },
    {
     "name": "stdout",
     "output_type": "stream",
     "text": [
      "walk to sink on right ['butterknife'] ['cabinet']\n",
      "open lower left drawer take green towel out cabinet ['cloth'] ['cloth']\n",
      "position yourself in front sink cloth ['sinkbasin'] ['sinkbasin']\n",
      "place towel under faucet to soak it sinkbasin ['handtowel'] ['cloth']\n",
      "go back to drawer that you got towel out cloth ['drawer'] ['cabinet']\n",
      "place wet towel back in drawer cabinet ['cloth', 'cabinet'] ['cloth', 'cabinet']\n",
      "go to right sink ['countertop'] ['cloth']\n",
      "pick up dirty towel next to sink cloth ['cloth'] ['cloth']\n",
      "turn around face sink cloth ['sinkbasin'] ['sinkbasin']\n",
      "wash dirty towel in sink sinkbasin ['cloth'] ['cloth']\n",
      "turn around face sink cloth ['sinkbasin'] ['countertop']\n",
      "place cleaned towel in middle sink countertop ['handtowel', 'sinkbasin'] ['cloth', 'countertop']\n"
     ]
    },
    {
     "name": "stderr",
     "output_type": "stream",
     "text": [
      " 39%|██████████████████████████████▍                                               | 1805/4627 [00:29<00:48, 57.77it/s]"
     ]
    },
    {
     "name": "stdout",
     "output_type": "stream",
     "text": [
      "walk to right side sink counter ['countertop'] ['cloth']\n",
      "pick up dirty blue rag off counter cloth ['cloth'] ['cloth']\n",
      "walk up to rightmost sink cloth ['sinkbasin'] ['sinkbasin']\n",
      "turn left walk forward then turn right to face counter cloth ['countertop'] ['countertop']\n",
      "put clean blue rag on counter in between two sink countertop ['cloth', 'countertop'] ['cloth', 'countertop']\n",
      "turn around face counter to right sink ['countertop'] ['cloth']\n",
      "pick up cloth from counter cloth ['cloth'] ['cloth']\n",
      "move to left face sink on right cloth ['sinkbasin'] ['sinkbasin']\n",
      "move to left face counter in between two sink cloth ['countertop'] ['countertop']\n",
      "put cloth on counter between two sink countertop ['cloth', 'countertop'] ['cloth', 'countertop']\n",
      "turn left walk to counter in between two sink ['countertop'] ['countertop']\n",
      "pick up dirty green washcloth that s in front you between sink countertop ['cloth'] ['cloth']\n"
     ]
    },
    {
     "name": "stderr",
     "output_type": "stream",
     "text": [
      " 39%|██████████████████████████████▋                                               | 1818/4627 [00:29<00:47, 58.97it/s]"
     ]
    },
    {
     "name": "stdout",
     "output_type": "stream",
     "text": [
      "take step to your right then small step backwards cloth ['toilet'] ['sinkbasin']\n",
      "wash wash cloth in sink then pick it back up shut off water sinkbasin ['cloth'] ['cloth']\n",
      "move back to where you got wash cloth from cloth ['bathtubbasin'] ['countertop']\n",
      "put wash cloth back where you got it from countertop ['handtowel', 'countertop'] ['cloth', 'countertop']\n",
      "turn to left face counter between counter between two sink ['countertop'] ['countertop']\n",
      "pick cloth up from counter countertop ['cloth'] ['cloth']\n",
      "go right turn to face sink on right side counter cloth ['sinkbasin'] ['sinkbasin']\n",
      "put cloth in sink turn water on then off take cloth out sink sinkbasin ['cloth'] ['cloth']\n",
      "move to left cloth ['drawer'] ['countertop']\n",
      "put cloth down on counter between two sink countertop ['cloth', 'countertop'] ['cloth', 'countertop']\n",
      "turn left walk to sink ['countertop'] ['countertop']\n",
      "pick up dirty blue rag countertop ['cloth'] ['cloth']\n",
      "take step right cloth ['dresser'] ['sinkbasin']\n"
     ]
    },
    {
     "name": "stderr",
     "output_type": "stream",
     "text": [
      " 40%|██████████████████████████████▉                                               | 1832/4627 [00:29<00:45, 61.43it/s]"
     ]
    },
    {
     "name": "stdout",
     "output_type": "stream",
     "text": [
      "wash rag in right sink sinkbasin ['cloth'] ['cloth']\n",
      "take step left cloth ['sinkbasin'] ['countertop']\n",
      "place rag on counter between sink countertop ['cloth', 'countertop'] ['cloth', 'countertop']\n",
      "turn around veer to rightmost sink ['cabinet'] ['cabinet']\n",
      "open left cabinet take out blue rag cabinet ['cloth'] ['cloth']\n",
      "look at sink cloth ['sinkbasin'] ['sinkbasin']\n",
      "wash rag in sink sinkbasin ['cloth'] ['cloth']\n",
      "take step left cloth ['sinkbasin'] ['countertop']\n",
      "place rag on counter behind soap bottle countertop ['handtowel', 'countertop'] ['cloth', 'countertop']\n",
      "turn around go right to face sink on right ['cabinet'] ['cabinet']\n",
      "open cabinet on left below sink on right pick up green cloth cabinet ['cloth'] ['cloth']\n",
      "move bit to right face sink on right cloth ['sinkbasin'] ['sinkbasin']\n",
      "put cloth in sink turn water on then off pick up cloth again sinkbasin ['cloth'] ['cloth']\n"
     ]
    },
    {
     "name": "stderr",
     "output_type": "stream",
     "text": [
      " 40%|███████████████████████████████                                               | 1846/4627 [00:29<00:44, 62.56it/s]"
     ]
    },
    {
     "name": "stdout",
     "output_type": "stream",
     "text": [
      "go left turn to face counter between sink cloth ['countertop'] ['countertop']\n",
      "put cloth down on counter between two sink countertop ['handtowel', 'countertop'] ['cloth', 'countertop']\n",
      "turn around move forward toward door then turn right to face sink ['countertop'] ['cabinet']\n",
      "open cabinet under sink to left take out rag cabinet ['cloth'] ['cloth']\n",
      "turn around step forward then turn back around to face sink cloth ['drawer'] ['sinkbasin']\n",
      "wash rag in sink sinkbasin ['cloth'] ['cloth']\n",
      "turn left move forward then turn right to face counter between sink cloth ['countertop'] ['countertop']\n",
      "put rag on counter between sink behind soap bottle countertop ['cloth', 'countertop'] ['cloth', 'countertop']\n",
      "pick up egg from counter in front you countertop ['egg'] ['egg']\n",
      "turn around go to sink egg ['sinkbasin'] ['sinkbasin']\n",
      "wash egg in sink sinkbasin ['potato'] ['egg']\n",
      "turn around go to stove then look up to microwave egg ['microwave'] ['microwave']\n",
      "open microwave put egg inside then close it microwave ['egg', 'microwave'] ['egg', 'microwave']\n"
     ]
    },
    {
     "name": "stderr",
     "output_type": "stream",
     "text": [
      " 40%|███████████████████████████████▎                                              | 1860/4627 [00:29<00:43, 63.03it/s]"
     ]
    },
    {
     "name": "stdout",
     "output_type": "stream",
     "text": [
      "turn go to counter to right fridge where toaster ['countertop'] ['countertop']\n",
      "with egg in hand turn go to sink egg ['sinkbasin'] ['sinkbasin']\n",
      "with egg in hand turn go to microwave egg ['microwave'] ['microwave']\n",
      "open microwave place egg to left egg that in microwave shut microwave door microwave ['egg', 'microwave'] ['egg', 'microwave']\n",
      "turn around walk to fridge then take couple step to right face counter ['cabinet'] ['countertop']\n",
      "pick up egg on counter countertop ['potato'] ['egg']\n",
      "turn around walk to sink egg ['sinkbasin'] ['sinkbasin']\n",
      "wash egg in sink sinkbasin ['potato'] ['egg']\n",
      "turn around veer right to stove microwave egg ['microwave'] ['microwave']\n",
      "place egg in microwave near middle microwave ['egg', 'microwave'] ['egg', 'microwave']\n",
      "turn left go forward turn right to counter to right sink ['countertop'] ['countertop']\n",
      "take egg from counter countertop ['potato'] ['egg']\n",
      "go to sink to left egg ['sinkbasin'] ['sinkbasin']\n"
     ]
    },
    {
     "name": "stderr",
     "output_type": "stream",
     "text": [
      " 41%|███████████████████████████████▌                                              | 1876/4627 [00:30<00:39, 69.12it/s]"
     ]
    },
    {
     "name": "stdout",
     "output_type": "stream",
     "text": [
      "wash egg in sink take egg out sink sinkbasin ['potato'] ['egg']\n",
      "turn left go forward step turn left go to oven egg ['microwave'] ['microwave']\n",
      "put egg in microwave above oven microwave ['egg', 'microwave'] ['egg', 'microwave']\n",
      "go to counter to right sink ['countertop'] ['countertop']\n",
      "take egg from counter countertop ['potato'] ['egg']\n",
      "take egg to sink egg ['sinkbasin'] ['sinkbasin']\n",
      "put egg in sink then take back out sinkbasin ['potato'] ['egg']\n",
      "take egg to microwave egg ['microwave'] ['microwave']\n",
      "put egg in microwave microwave ['egg', 'microwave'] ['egg', 'microwave']\n",
      "turn left walk forward just past refrigerator then turn right towards egg on counter ['countertop'] ['countertop']\n",
      "pick up egg from counter countertop ['egg'] ['egg']\n",
      "turn left walk to sink egg ['sinkbasin'] ['sinkbasin']\n",
      "put egg in sink rinse it off take it back out sinkbasin ['potato'] ['egg']\n",
      "turn around walk forward to microwave above stove top egg ['microwave'] ['microwave']\n",
      "put egg in microwave close microwave microwave ['egg', 'microwave'] ['egg', 'microwave']\n",
      "pick up egg from counter in front you countertop ['egg'] ['egg']\n"
     ]
    },
    {
     "name": "stderr",
     "output_type": "stream",
     "text": [
      " 41%|███████████████████████████████▉                                              | 1891/4627 [00:30<00:39, 69.41it/s]"
     ]
    },
    {
     "name": "stdout",
     "output_type": "stream",
     "text": [
      "turn around go to sink egg ['sinkbasin'] ['sinkbasin']\n",
      "clean egg in sink sinkbasin ['potato'] ['egg']\n",
      "turn around go to stove then look up microwave egg ['microwave'] ['microwave']\n",
      "open microwave put egg inside close it microwave ['egg', 'microwave'] ['egg', 'microwave']\n",
      "go to counter to left stove ['countertop'] ['countertop']\n",
      "pick up egg from counter countertop ['egg'] ['egg']\n",
      "take egg to sink egg ['sinkbasin'] ['sinkbasin']\n",
      "rinse egg in sink then remove sinkbasin ['potato'] ['egg']\n",
      "take egg to microwave egg ['microwave'] ['microwave']\n",
      "put egg in microwave microwave ['egg', 'microwave'] ['egg', 'microwave']\n",
      "pick up egg from counter countertop ['egg'] ['egg']\n",
      "turn around to sink egg ['sinkbasin'] ['sinkbasin']\n",
      "place egg in sink turn on water rinse egg pick up egg sinkbasin ['egg'] ['egg']\n",
      "turn around walk to microwave egg ['microwave'] ['microwave']\n",
      "open microwave place egg in it close door microwave ['egg', 'microwave'] ['egg', 'microwave']\n"
     ]
    },
    {
     "name": "stderr",
     "output_type": "stream",
     "text": [
      "\r",
      " 41%|███████████████████████████████▉                                              | 1898/4627 [00:30<00:41, 66.53it/s]"
     ]
    },
    {
     "name": "stdout",
     "output_type": "stream",
     "text": [
      "go to counter to left stove ['countertop'] ['countertop']\n",
      "pick up knife from counter countertop ['knife'] ['knife']\n",
      "take knife to sink knife ['potato'] ['sinkbasin']\n",
      "put knife in sink then take back out sinkbasin ['knife'] ['knife']\n",
      "take knife back to counter knife ['bread'] ['countertop']\n",
      "stand knife on counter to left phone countertop ['butterknife', 'countertop'] ['knife', 'countertop']\n",
      "pick up large metal knife off counter countertop ['knife'] ['knife']\n",
      "walk to sink behind you knife ['potato'] ['sinkbasin']\n",
      "wash large metal knife in sink then pick it back up sinkbasin ['knife'] ['knife']\n",
      "turn right walk forward then turn right walk up to counter knife ['tomato'] ['countertop']\n",
      "put large clean knife on counter in front tomato countertop ['knife', 'countertop'] ['knife', 'countertop']\n",
      "turn around cross kitchen to counter beside stove ['countertop'] ['countertop']\n",
      "pick up knife sitting on counter behind potato turn left countertop ['butterknife'] ['knife']\n"
     ]
    },
    {
     "name": "stderr",
     "output_type": "stream",
     "text": [
      " 41%|████████████████████████████████▏                                             | 1912/4627 [00:30<00:42, 63.66it/s]"
     ]
    },
    {
     "name": "stdout",
     "output_type": "stream",
     "text": [
      "turn around go to sink knife ['apple'] ['sinkbasin']\n",
      "turn around go back to counter with tomato knife ['tomato'] ['countertop']\n",
      "place knife by tomato countertop ['butterknife', 'countertop'] ['knife', 'countertop']\n",
      "pick up yellow handled knife to left square plate from counter countertop ['knife'] ['knife']\n",
      "turn around move to sink to right loaf bread knife ['bread'] ['sinkbasin']\n",
      "turn around face dishwasher underneath green glass knife ['diningtable'] ['countertop']\n",
      "place knife on plate to rear potato on counter countertop ['butterknife', 'countertop'] ['knife', 'countertop']\n",
      "turn around move through room turn left then face counter on right where dishwasher ['countertop'] ['countertop']\n",
      "pick up knife from counter countertop ['knife'] ['knife']\n",
      "hold knife turn around to sink knife ['tomato'] ['sinkbasin']\n",
      "place knife in sink turn water on turn water off pick up knife sinkbasin ['knife'] ['knife']\n",
      "carry knife turn around to counter knife ['drawer'] ['countertop']\n",
      "place knife on plate that on counter countertop ['knife', 'countertop'] ['knife', 'countertop']\n"
     ]
    },
    {
     "name": "stderr",
     "output_type": "stream",
     "text": [
      " 42%|████████████████████████████████▍                                             | 1926/4627 [00:30<00:43, 62.48it/s]"
     ]
    },
    {
     "name": "stdout",
     "output_type": "stream",
     "text": [
      "pick up knife on counter top countertop ['butterknife'] ['knife']\n",
      "turn right walk straight then turn right towards sink knife ['lettuce'] ['sinkbasin']\n",
      "put knife inside sink fill it with water then drain water remove knife sinkbasin ['knife'] ['knife']\n",
      "turn right then walk straight then turn right again towards counter knife ['drawer'] ['countertop']\n",
      "put knife down on counter top countertop ['butterknife', 'countertop'] ['knife', 'countertop']\n",
      "walk around kitchen island on right to reach corner it ['countertop'] ['countertop']\n",
      "pick up large knife on kitchen island countertop ['knife'] ['knife']\n",
      "walk around corner to reach sink knife ['apple'] ['sinkbasin']\n",
      "rinse knife in sink removing it afterwards sinkbasin ['knife'] ['knife']\n",
      "turn around face countertop knife ['apple'] ['countertop']\n",
      "place knife on countertop countertop ['butterknife', 'countertop'] ['knife', 'countertop']\n",
      "go to corner counter near waste bin ['countertop'] ['countertop']\n"
     ]
    },
    {
     "name": "stderr",
     "output_type": "stream",
     "text": [
      " 42%|████████████████████████████████▋                                             | 1940/4627 [00:31<00:44, 60.68it/s]"
     ]
    },
    {
     "name": "stdout",
     "output_type": "stream",
     "text": [
      "pick up knife from corner counter countertop ['butterknife'] ['knife']\n",
      "take knife to sink knife ['potato'] ['sinkbasin']\n",
      "rinse knife in sink then remove sinkbasin ['knife'] ['knife']\n",
      "take knife back to counter knife ['bread'] ['countertop']\n",
      "lay knife in middle counter countertop ['butterknife', 'countertop'] ['knife', 'countertop']\n",
      "go across room turn right go to trash can on right ['garbagecan'] ['countertop']\n",
      "pick up knife on counter behind trash can countertop ['knife'] ['knife']\n",
      "go around counter to sink knife ['tomato'] ['sinkbasin']\n",
      "rinse off knife in sink pick it back up sinkbasin ['knife'] ['knife']\n",
      "turn around go to dishwasher knife ['potato'] ['countertop']\n",
      "put knife on counter in front fork countertop ['butterknife', 'countertop'] ['knife', 'countertop']\n",
      "turn left walk forward to face counter to right fridge ['countertop'] ['countertop']\n",
      "pick up knife on counter countertop ['knife'] ['knife']\n"
     ]
    },
    {
     "name": "stderr",
     "output_type": "stream",
     "text": [
      "\r",
      " 42%|████████████████████████████████▊                                             | 1947/4627 [00:31<00:44, 60.89it/s]"
     ]
    },
    {
     "name": "stdout",
     "output_type": "stream",
     "text": [
      "look down to face lettuce on counter knife ['lettuce'] ['lettuce']\n",
      "cut lettuce on counter into slice lettuce ['lettuce'] ['lettuce']\n",
      "turn around step forward to face sink lettuce ['sinkbasin'] ['sinkbasin']\n",
      "place knife in sink sinkbasin ['knife', 'sinkbasin'] ['knife', 'sinkbasin']\n",
      "turn around step forward to face lettuce on counter knife sinkbasin ['countertop'] ['countertop']\n",
      "pick up slice lettuce on counter countertop ['lettuce'] ['lettuce']\n",
      "turn around step forward to face sink lettuce ['sinkbasin'] ['sinkbasin']\n",
      "wash lettuce slice in sink then remove it sinkbasin ['lettuce'] ['lettuce']\n",
      "walk around right side center table to face trash can lettuce ['garbagecan'] ['garbagecan']\n",
      "place lettuce slice in trash can garbagecan ['lettuce', 'garbagecan'] ['lettuce', 'garbagecan']\n",
      "turn around go pas fridge turn left to face toaster ['countertop'] ['countertop']\n",
      "pick up knife to right toaster countertop ['knife'] ['knife']\n"
     ]
    },
    {
     "name": "stderr",
     "output_type": "stream",
     "text": [
      " 42%|█████████████████████████████████                                             | 1961/4627 [00:31<00:42, 62.86it/s]"
     ]
    },
    {
     "name": "stdout",
     "output_type": "stream",
     "text": [
      "look down at lettuce on counter knife ['lettuce'] ['lettuce']\n",
      "cut lettuce on counter lettuce ['lettuce'] ['lettuce']\n",
      "turn right go to sink lettuce ['sinkbasin'] ['sinkbasin']\n",
      "put knife in sink sinkbasin ['knife', 'sinkbasin'] ['knife', 'sinkbasin']\n",
      "turn around go back to counter with toaster knife sinkbasin ['countertop'] ['countertop']\n",
      "pick up slice lettuce countertop ['lettuce'] ['lettuce']\n",
      "turn around go back to sink lettuce ['sinkbasin'] ['sinkbasin']\n",
      "rinse lettuce in sink pick it up sinkbasin ['lettuce'] ['lettuce']\n",
      "turn right go to end counter turn left to go to trash can lettuce ['garbagecan'] ['garbagecan']\n",
      "put lettuce in trash can behind right bottle garbagecan ['lettuce', 'garbagecan'] ['lettuce', 'garbagecan']\n",
      "go to toaster ['countertop'] ['countertop']\n",
      "pick up knife next to toaster countertop ['knife'] ['knife']\n",
      "look down at lettuce knife ['lettuce'] ['lettuce']\n"
     ]
    },
    {
     "name": "stderr",
     "output_type": "stream",
     "text": [
      " 43%|█████████████████████████████████▎                                            | 1975/4627 [00:31<00:42, 63.12it/s]"
     ]
    },
    {
     "name": "stdout",
     "output_type": "stream",
     "text": [
      "cut lettuce lettuce ['lettuce'] ['lettuce']\n",
      "go to sink lettuce ['sinkbasin'] ['sinkbasin']\n",
      "put knife in sink sinkbasin ['knife', 'sinkbasin'] ['knife', 'sinkbasin']\n",
      "go to cut lettuce knife sinkbasin ['countertop'] ['countertop']\n",
      "pick up slice lettuce countertop ['lettuce'] ['lettuce']\n",
      "go to sink lettuce ['sinkbasin'] ['sinkbasin']\n",
      "wash lettuce sinkbasin ['lettuce'] ['lettuce']\n",
      "go to black bin lettuce ['garbagecan'] ['garbagecan']\n",
      "put lettuce in black bin garbagecan ['lettuce', 'garbagecan'] ['lettuce', 'garbagecan']\n",
      "pick up butter knife from counter right sink countertop ['butterknife'] ['butterknife']\n",
      "turn around face kitchen counter butterknife ['lettuce'] ['lettuce']\n",
      "slice lettuce head on counter lettuce ['lettuce'] ['lettuce']\n",
      "turn right walk slightly forward then turn to left face counter lettuce ['countertop'] ['countertop']\n"
     ]
    },
    {
     "name": "stderr",
     "output_type": "stream",
     "text": [
      " 43%|█████████████████████████████████▌                                            | 1989/4627 [00:31<00:41, 62.90it/s]"
     ]
    },
    {
     "name": "stdout",
     "output_type": "stream",
     "text": [
      "place knife on kitchen counter countertop ['butterknife', 'countertop'] ['butterknife', 'countertop']\n",
      "turn left walk straight slightly then turn right face to counter butterknife countertop ['countertop'] ['countertop']\n",
      "pick up slice lettuce from counter countertop ['lettuce'] ['lettuce']\n",
      "turn right walk slightly forward then turn to right face sink lettuce ['sinkbasin'] ['sinkbasin']\n",
      "place lettuce slice in sink rinse with water then remove from sink sinkbasin ['lettuce'] ['lettuce']\n",
      "place lettuce slice in trash bin garbagecan ['lettuce', 'garbagecan'] ['lettuce', 'garbagecan']\n",
      "take knife from counter countertop ['knife'] ['butterknife']\n",
      "turn around go forward to counter with toaster butterknife ['bread'] ['lettuce']\n",
      "cut lettuce on counter into slice lettuce ['lettuce'] ['lettuce']\n",
      "take step to right face counter lettuce ['countertop'] ['countertop']\n",
      "put knife on counter to right statue countertop ['butterknife', 'countertop'] ['butterknife', 'countertop']\n",
      "take step to left face counter butterknife countertop ['countertop'] ['countertop']\n",
      "take slice lettuce from counter countertop ['lettuce'] ['lettuce']\n"
     ]
    },
    {
     "name": "stderr",
     "output_type": "stream",
     "text": [
      " 43%|█████████████████████████████████▊                                            | 2003/4627 [00:32<00:41, 63.90it/s]"
     ]
    },
    {
     "name": "stdout",
     "output_type": "stream",
     "text": [
      "turn around go left forward to sink lettuce ['sinkbasin'] ['sinkbasin']\n",
      "wash lettuce in sink take lettuce from sink sinkbasin ['lettuce'] ['lettuce']\n",
      "put lettuce in trash bin garbagecan ['lettuce', 'garbagecan'] ['lettuce', 'garbagecan']\n",
      "go to kitchen island ['countertop'] ['countertop']\n",
      "pick up butterknife countertop ['butterknife'] ['butterknife']\n",
      "turn around to counter butterknife ['lettuce'] ['lettuce']\n",
      "cut lettuce lettuce ['lettuce'] ['lettuce']\n",
      "go to middle counter lettuce ['countertop'] ['countertop']\n",
      "put butterknife down countertop ['butterknife', 'countertop'] ['butterknife', 'countertop']\n",
      "go to left part counter butterknife countertop ['countertop'] ['countertop']\n",
      "pick up lettuce piece countertop ['lettuce'] ['lettuce']\n",
      "go to sink lettuce ['sinkbasin'] ['sinkbasin']\n",
      "wash lettuce sinkbasin ['lettuce'] ['lettuce']\n"
     ]
    },
    {
     "name": "stderr",
     "output_type": "stream",
     "text": [
      " 44%|██████████████████████████████████                                            | 2017/4627 [00:32<00:40, 63.83it/s]"
     ]
    },
    {
     "name": "stdout",
     "output_type": "stream",
     "text": [
      "go to black bin lettuce ['garbagecan'] ['garbagecan']\n",
      "put lettuce in bin garbagecan ['lettuce', 'garbagecan'] ['lettuce', 'garbagecan']\n",
      "turn left move to counter in front dishwasher ['countertop'] ['countertop']\n",
      "pick up knife from counter that near bread countertop ['butterknife'] ['butterknife']\n",
      "turn left move to in front refrigerator butterknife ['bread'] ['lettuce']\n",
      "slice lettuce in refrigerator lettuce ['lettuce'] ['lettuce']\n",
      "move to in front refrigerator lettuce ['fridge'] ['fridge']\n",
      "put knife in refrigerator fridge ['butterknife', 'fridge'] ['butterknife', 'fridge']\n",
      "move to in front refrigerator butterknife fridge ['fridge'] ['fridge']\n",
      "pick up slice lettuce fridge ['lettuce'] ['lettuce']\n",
      "turn right move to island in front sink lettuce ['sinkbasin'] ['sinkbasin']\n",
      "put slice lettuce in sink rinse it pick it back up sinkbasin ['lettuce'] ['lettuce']\n",
      "turn right move to end island near bin lettuce ['countertop'] ['garbagecan']\n"
     ]
    },
    {
     "name": "stderr",
     "output_type": "stream",
     "text": [
      " 44%|██████████████████████████████████▏                                           | 2031/4627 [00:32<00:41, 62.79it/s]"
     ]
    },
    {
     "name": "stdout",
     "output_type": "stream",
     "text": [
      "put slice lettuce in bin garbagecan ['lettuce', 'garbagecan'] ['lettuce', 'garbagecan']\n",
      "go forward to left go right turn left towards sink ['butterknife'] ['countertop']\n",
      "pick up knife from counter countertop ['knife'] ['butterknife']\n",
      "turn to left towards refrigerator butterknife ['potato'] ['lettuce']\n",
      "put knife inside refrigerator lettuce ['butterknife', 'fridge'] ['lettuce']\n",
      "get it back turn to right lettuce ['diningtable'] ['fridge']\n",
      "towards refrigerator put knife inside refrigerator fridge ['knife', 'fridge'] ['butterknife', 'fridge']\n",
      "open refrigerator back again slice lettuce that inside refrigerator butterknife fridge ['fridge'] ['fridge']\n",
      "pick up slice lettuce fridge ['lettuce'] ['lettuce']\n",
      "get it out turn to right forward towards sink lettuce ['sinkbasin'] ['sinkbasin']\n",
      "put slice lettuce inside sink rinse it off sinkbasin ['lettuce'] ['lettuce']\n",
      "turn to right go left towards trash can lettuce ['garbagecan'] ['garbagecan']\n"
     ]
    },
    {
     "name": "stderr",
     "output_type": "stream",
     "text": [
      " 44%|██████████████████████████████████▍                                           | 2045/4627 [00:32<00:40, 63.34it/s]"
     ]
    },
    {
     "name": "stdout",
     "output_type": "stream",
     "text": [
      "throw slice lettuce in trash can garbagecan ['lettuce', 'garbagecan'] ['lettuce', 'garbagecan']\n",
      "go to counter above dishwasher ['countertop'] ['countertop']\n",
      "take knife countertop ['butterknife'] ['butterknife']\n",
      "go to fridge butterknife ['potato'] ['lettuce']\n",
      "cut lettuce in fridge lettuce ['lettuce'] ['lettuce']\n",
      "turn look back to fridge lettuce ['fridge'] ['fridge']\n",
      "put knife in fridge fridge ['knife', 'fridge'] ['butterknife', 'fridge']\n",
      "close fridge butterknife fridge ['fridge'] ['fridge']\n",
      "open fridge take piece lettuce out fridge ['lettuce'] ['lettuce']\n",
      "go to sink lettuce ['sinkbasin'] ['sinkbasin']\n",
      "wash lettuce sinkbasin ['lettuce'] ['lettuce']\n",
      "go to bin lettuce ['garbagecan'] ['garbagecan']\n",
      "put lettuce in bin garbagecan ['lettuce', 'garbagecan'] ['lettuce', 'garbagecan']\n",
      "go to left to pas island straight back to locate coffee machine ['coffeemachine'] ['cabinet']\n"
     ]
    },
    {
     "name": "stderr",
     "output_type": "stream",
     "text": [
      "\r",
      " 44%|██████████████████████████████████▌                                           | 2052/4627 [00:32<00:41, 62.58it/s]"
     ]
    },
    {
     "name": "stdout",
     "output_type": "stream",
     "text": [
      "open cabinet below pull out cup shut door cabinet ['mug'] ['mug']\n",
      "carry cup turn left to find sink in island mug ['sinkbasin'] ['sinkbasin']\n",
      "take mug filled with water to coffee machine behind you to right mug ['coffeemachine'] ['coffeemachine']\n",
      "place mug under coffee machine coffeemachine ['mug', 'coffeemachine'] ['mug', 'coffeemachine']\n",
      "go left turn left again to face counter with coffee pot on it ['countertop'] ['cabinet']\n",
      "open lower cabinet take out cup from cupboard cabinet ['mug'] ['mug']\n",
      "go left turn to face sink mug ['sinkbasin'] ['sinkbasin']\n",
      "go left then left again to face coffee maker mug ['coffeemachine'] ['coffeemachine']\n",
      "put cup under coffee maker on counter coffeemachine ['mug', 'coffeemachine'] ['mug', 'coffeemachine']\n",
      "open cupboard door pick up mug close cupboard door cabinet ['mug'] ['mug']\n",
      "turn left move to center basin on left turn left move to island mug ['countertop'] ['sinkbasin']\n",
      "turn left move to coffee maker turn left move to counter mug ['coffeemachine'] ['coffeemachine']\n",
      "place mug in coffee maker mug spot coffeemachine ['mug', 'coffeemachine'] ['mug', 'coffeemachine']\n"
     ]
    },
    {
     "name": "stderr",
     "output_type": "stream",
     "text": [
      " 45%|██████████████████████████████████▊                                           | 2066/4627 [00:33<00:40, 62.74it/s]"
     ]
    },
    {
     "name": "stdout",
     "output_type": "stream",
     "text": [
      "move to right fridge ['fridge'] ['countertop']\n",
      "pick up cup from counter countertop ['cup'] ['mug']\n",
      "move to sink to right mug ['sinkbasin'] ['sinkbasin']\n",
      "clean cup in sink sinkbasin ['mug'] ['mug']\n",
      "move to coffee maker to right stove mug ['coffeemachine'] ['coffeemachine']\n",
      "put mug on coffee maker coffeemachine ['mug', 'coffeemachine'] ['mug', 'coffeemachine']\n",
      "walk straight face toaster on counter ['countertop'] ['countertop']\n",
      "pick up mug from counter countertop ['mug'] ['mug']\n",
      "turn right take mug to sink mug ['sinkbasin'] ['sinkbasin']\n",
      "put mug in sink wash it take it out sinkbasin ['mug'] ['mug']\n",
      "turn left take mug to coffee machine mug ['coffeemachine'] ['coffeemachine']\n",
      "put mug in coffee machine coffeemachine ['mug', 'coffeemachine'] ['mug', 'coffeemachine']\n",
      "move to stand at counter between fridge dishwasher ['countertop'] ['countertop']\n"
     ]
    },
    {
     "name": "stderr",
     "output_type": "stream",
     "text": [
      " 45%|███████████████████████████████████                                           | 2080/4627 [00:33<00:39, 64.29it/s]"
     ]
    },
    {
     "name": "stdout",
     "output_type": "stream",
     "text": [
      "pick up white coffee mug next to toaster countertop ['mug'] ['mug']\n",
      "carry mug to kitchen sink mug ['sinkbasin'] ['sinkbasin']\n",
      "place mug in sink turn on water then remove it once washed sinkbasin ['mug'] ['mug']\n",
      "place mug on base coffee maker coffeemachine ['mug', 'coffeemachine'] ['mug', 'coffeemachine']\n",
      "pick up white coffee cup to right trophy countertop ['mug'] ['mug']\n",
      "turn around to face sink mug ['cabinet'] ['sinkbasin']\n",
      "turn left walk forward to face coffee maker mug ['coffeemachine'] ['coffeemachine']\n",
      "place coffee cup in coffee maker coffeemachine ['mug', 'coffeemachine'] ['mug', 'coffeemachine']\n",
      "turn to left then right right again to back kitchen ['ottoman'] ['countertop']\n",
      "pick up mug from middle counter countertop ['mug'] ['mug']\n",
      "take mug turn around to sink mug ['sinkbasin'] ['sinkbasin']\n",
      "place mug in sink turn water on then off pick up mug sinkbasin ['mug'] ['mug']\n",
      "carry mug move to right face left to coffee machine mug ['coffeemachine'] ['coffeemachine']\n"
     ]
    },
    {
     "name": "stderr",
     "output_type": "stream",
     "text": [
      " 45%|███████████████████████████████████▎                                          | 2094/4627 [00:33<00:40, 62.90it/s]"
     ]
    },
    {
     "name": "stdout",
     "output_type": "stream",
     "text": [
      "place mug under coffee machine coffeemachine ['mug', 'coffeemachine'] ['mug', 'coffeemachine']\n",
      "turn left move to counter right dishwasher ['countertop'] ['countertop']\n",
      "pick up coffee cup from counter countertop ['mug'] ['mug']\n",
      "turn right move to island in front sink mug ['microwave'] ['sinkbasin']\n",
      "place coffee cup into sink rinse it pick it back up sinkbasin ['mug'] ['mug']\n",
      "turn left move to end counter in front coffee machine mug ['coffeemachine'] ['coffeemachine']\n",
      "place coffee cup into coffee machine coffeemachine ['mug', 'coffeemachine'] ['mug', 'coffeemachine']\n",
      "move right then turn left go forward face stove on left ['stoveburner'] ['stoveburner']\n",
      "pick up dirty pan on left stove stoveburner ['pot'] ['pan']\n",
      "turn around bring dirty pan to sink pan ['sinkbasin'] ['sinkbasin']\n",
      "wash pan in sink with water sinkbasin ['pan'] ['pan']\n",
      "bring pan back to counter left stove pan ['countertop'] ['countertop']\n"
     ]
    },
    {
     "name": "stderr",
     "output_type": "stream",
     "text": [
      " 46%|███████████████████████████████████▌                                          | 2109/4627 [00:33<00:37, 67.79it/s]"
     ]
    },
    {
     "name": "stdout",
     "output_type": "stream",
     "text": [
      "put pan on counter next to toaster countertop ['pan', 'countertop'] ['pan', 'countertop']\n",
      "move forward towards gas ['countertop'] ['stoveburner']\n",
      "pick up pan stoveburner ['pan'] ['pan']\n",
      "turn around head to sink pan ['sinkbasin'] ['sinkbasin']\n",
      "rinse pan inside sink sinkbasin ['plate'] ['pan']\n",
      "turn around to table pan ['diningtable'] ['countertop']\n",
      "drop pan on table countertop ['pot', 'countertop'] ['pan', 'countertop']\n",
      "head across kitchen to stove ['countertop'] ['stoveburner']\n",
      "pick up pan from stove stoveburner ['pan'] ['pan']\n",
      "head back to left to sink pan ['sinkbasin'] ['sinkbasin']\n",
      "put pan in sink sinkbasin ['pan', 'sinkbasin'] ['pan']\n",
      "turn on water for 4 second take pan out sink pan ['cabinet'] ['countertop']\n",
      "turn around put pan on counter countertop ['pan', 'countertop'] ['pan', 'countertop']\n",
      "turn right to face stove ['stoveburner'] ['stoveburner']\n",
      "pick up pan from front left burner stove stoveburner ['pan'] ['pan']\n"
     ]
    },
    {
     "name": "stderr",
     "output_type": "stream",
     "text": [
      " 46%|███████████████████████████████████▊                                          | 2123/4627 [00:34<00:38, 64.23it/s]"
     ]
    },
    {
     "name": "stdout",
     "output_type": "stream",
     "text": [
      "turn around with pan face sink pan ['cabinet'] ['sinkbasin']\n",
      "place pan in sink turn on water then remove once washed sinkbasin ['pan'] ['pan']\n",
      "turn back around to stand in front counter to left stove pan ['countertop'] ['countertop']\n",
      "place pan on counter to right toaster countertop ['pan', 'countertop'] ['pan', 'countertop']\n",
      "move forward towards sink then turn right face range ['countertop'] ['stoveburner']\n",
      "pick up pan from range s front left burner stoveburner ['pot'] ['pan']\n",
      "turn around face sink pan ['countertop'] ['sinkbasin']\n",
      "turn around move to dishwasher to right black toaster pan ['countertop'] ['countertop']\n",
      "place pan on kitchen counter above dishwasher to right toaster countertop ['pot', 'countertop'] ['pan', 'countertop']\n",
      "walk forward face stove on your right ['stoveburner'] ['stoveburner']\n",
      "pick up pan from stove stoveburner ['pan'] ['pan']\n",
      "turn around face sink pan ['countertop'] ['sinkbasin']\n"
     ]
    },
    {
     "name": "stderr",
     "output_type": "stream",
     "text": [
      "\r",
      " 46%|███████████████████████████████████▉                                          | 2130/4627 [00:34<00:38, 65.11it/s]"
     ]
    },
    {
     "name": "stdout",
     "output_type": "stream",
     "text": [
      "wash pan in sink sinkbasin ['plate'] ['pan']\n",
      "turn around so your back to sink pan ['countertop'] ['countertop']\n",
      "put pan on count to left stove countertop ['pan', 'countertop'] ['pan', 'countertop']\n",
      "turn left walk to stove top on left side room ['stoveburner'] ['countertop']\n",
      "pick up pan from stove top countertop ['pan'] ['pan']\n",
      "turn around walk to sink pan ['sinkbasin'] ['sinkbasin']\n",
      "put pan in sink rinse it off take it back out sink sinkbasin ['pot'] ['pan']\n",
      "turn around walk to counter top by toaster pan ['countertop'] ['countertop']\n",
      "put pan on counter top in front to right toaster countertop ['pot', 'countertop'] ['pan', 'countertop']\n",
      "turn around walk turn right to enter kitchen walk to stove ['stoveburner'] ['countertop']\n",
      "pick up pan from front right burner stove countertop ['pan'] ['pan']\n",
      "turn around walk to sink pan ['sinkbasin'] ['sinkbasin']\n",
      "wash pan in sink pick it up again sinkbasin ['pot'] ['pan']\n",
      "turn around walk to counter to left sink pan ['countertop'] ['countertop']\n"
     ]
    },
    {
     "name": "stderr",
     "output_type": "stream",
     "text": [
      " 47%|████████████████████████████████████▎                                         | 2152/4627 [00:34<00:36, 68.01it/s]"
     ]
    },
    {
     "name": "stdout",
     "output_type": "stream",
     "text": [
      "place pan on counter to right toaster countertop ['pan', 'countertop'] ['pan', 'countertop']\n",
      "pick up dirty skillet from stove countertop ['pot'] ['pan']\n",
      "turn around to your left go to sink pan ['sinkbasin'] ['sinkbasin']\n",
      "wash skillet in sink sinkbasin ['pan'] ['pan']\n",
      "face opposite direction go opposite counter pan ['countertop'] ['countertop']\n",
      "put skillet on counter above dishwasher to right toaster countertop ['pan', 'countertop'] ['pan', 'countertop']\n",
      "go to counter near stove ['countertop'] ['countertop']\n",
      "pick up square bowl countertop ['cup'] ['plate']\n",
      "take bowl to sink plate ['sinkbasin'] ['sinkbasin']\n",
      "wash bowl in sink sinkbasin ['cup'] ['plate']\n",
      "take bowel to counter plate ['countertop'] ['countertop']\n",
      "put bowl on counter top countertop ['cup', 'countertop'] ['plate', 'countertop']\n",
      "turn right go to counter to left stove ['countertop'] ['countertop']\n",
      "pick up plate on counter countertop ['plate'] ['plate']\n",
      "turn around go to sink plate ['cabinet'] ['sinkbasin']\n"
     ]
    },
    {
     "name": "stderr",
     "output_type": "stream",
     "text": [
      "\r",
      " 47%|████████████████████████████████████▍                                         | 2159/4627 [00:34<00:38, 64.69it/s]"
     ]
    },
    {
     "name": "stdout",
     "output_type": "stream",
     "text": [
      "clean plate in sink sinkbasin ['plate'] ['plate']\n",
      "turn around go to counter above dishwasher plate ['countertop'] ['countertop']\n",
      "put plate on counter countertop ['plate', 'countertop'] ['plate', 'countertop']\n",
      "walk to counter to your right ['countertop'] ['countertop']\n",
      "grab gold plate on counter that s next to stove countertop ['plate'] ['plate']\n",
      "turn around walk straight to sink plate ['cabinet'] ['sinkbasin']\n",
      "place plate in sink wash it remove it sinkbasin ['plate'] ['plate']\n",
      "take plate turn right walk to counter to your right plate ['countertop'] ['countertop']\n",
      "place plate between credit card on counter countertop ['plate', 'countertop'] ['plate', 'countertop']\n",
      "pick up dirty gold plate that s in front you to left phone countertop ['plate'] ['plate']\n",
      "turn around to face sink plate ['sinkbasin'] ['sinkbasin']\n",
      "wash plate in sink then pick it back up shut off water sinkbasin ['plate'] ['plate']\n"
     ]
    },
    {
     "name": "stderr",
     "output_type": "stream",
     "text": [
      " 47%|████████████████████████████████████▋                                         | 2173/4627 [00:34<00:40, 61.02it/s]"
     ]
    },
    {
     "name": "stdout",
     "output_type": "stream",
     "text": [
      "turn back around to face counter again plate ['drawer'] ['countertop']\n",
      "put plate on counter to left bottom phone countertop ['plate', 'countertop'] ['plate', 'countertop']\n",
      "turn right walk to kitchen counter on left side stove on left ['countertop'] ['countertop']\n",
      "grab dirty plate off kitchen counter space there countertop ['plate'] ['plate']\n",
      "turn around walk to kitchen sink up ahead plate ['microwave'] ['sinkbasin']\n",
      "place plate back down on kitchen counter there countertop ['plate', 'countertop'] ['plate', 'countertop']\n",
      "turn right go towards dishwasher then turn left to face counter next to dishwasher ['countertop'] ['countertop']\n",
      "pick up plate on counter countertop ['plate'] ['plate']\n",
      "turn around to go to sink plate ['cabinet'] ['sinkbasin']\n",
      "clean plate in sink sinkbasin ['plate'] ['plate']\n",
      "turn around to face counter above dishwasher plate ['countertop'] ['countertop']\n",
      "put plate on counter countertop ['plate', 'countertop'] ['plate', 'countertop']\n",
      "pick up rightmost dirty yellow plate off kitchen island countertop ['plate'] ['plate']\n"
     ]
    },
    {
     "name": "stderr",
     "output_type": "stream",
     "text": [
      " 47%|████████████████████████████████████▊                                         | 2187/4627 [00:35<00:38, 62.99it/s]"
     ]
    },
    {
     "name": "stdout",
     "output_type": "stream",
     "text": [
      "turn left walk to sink plate ['countertop'] ['sinkbasin']\n",
      "wash dirty yellow plate clean in sink then pick it back up sinkbasin ['plate'] ['plate']\n",
      "turn right walk forward then turn right to face counter plate ['countertop'] ['countertop']\n",
      "put clean yellow plate on counter countertop ['plate', 'countertop'] ['plate', 'countertop']\n",
      "pick up plate from counter countertop ['plate'] ['plate']\n",
      "step to left then turn to right to face sink plate ['sinkbasin'] ['sinkbasin']\n",
      "turn to left turn around completely face other counter plate ['countertop'] ['countertop']\n",
      "place plate on counter countertop ['plate', 'countertop'] ['plate', 'countertop']\n",
      "turn go to counter by sink ['countertop'] ['countertop']\n",
      "pick up dirty plate on counter countertop ['plate'] ['plate']\n",
      "turn go to sink plate ['cabinet'] ['sinkbasin']\n",
      "wash dish in sink sinkbasin ['plate'] ['plate']\n",
      "turn go to counter by stove plate ['countertop'] ['countertop']\n"
     ]
    },
    {
     "name": "stderr",
     "output_type": "stream",
     "text": [
      " 48%|█████████████████████████████████████                                         | 2201/4627 [00:35<00:37, 65.33it/s]"
     ]
    },
    {
     "name": "stdout",
     "output_type": "stream",
     "text": [
      "put plate on counter by stove countertop ['plate', 'countertop'] ['plate', 'countertop']\n",
      "turn around to face counter between two sink ['countertop'] ['countertop']\n",
      "pick up bar soap that on back counter between two sink countertop ['soapbar'] ['soapbar']\n",
      "move to right to face sink on right soapbar ['sinkbasin'] ['sinkbasin']\n",
      "move back slightly away from sink soapbar ['cabinet'] ['cabinet']\n",
      "turn around to face counter ['countertop'] ['countertop']\n",
      "pick up bar soap off counter countertop ['soapbar'] ['soapbar']\n",
      "turn around facing sink ['countertop'] ['countertop']\n",
      "pick up bar soap countertop ['soapbar'] ['soapbar']\n",
      "turn around take one step turn around soapbar ['drawer'] ['cabinet']\n",
      "open cupboard below sink put soap inside close cupboard below sink cabinet ['soapbottle', 'cabinet'] ['soapbar', 'cabinet']\n",
      "walk up to right side sink counter ['countertop'] ['toilet']\n",
      "pick up bar soap off toilet tank to your right toilet ['soapbar'] ['soapbar']\n"
     ]
    },
    {
     "name": "stderr",
     "output_type": "stream",
     "text": [
      " 48%|█████████████████████████████████████▎                                        | 2215/4627 [00:35<00:37, 64.72it/s]"
     ]
    },
    {
     "name": "stdout",
     "output_type": "stream",
     "text": [
      "walk to rightmost sink soapbar ['sinkbasin'] ['sinkbasin']\n",
      "move forward to toilet ['toilet'] ['toilet']\n",
      "pick up soap on toilet toilet ['soapbottle'] ['soapbar']\n",
      "bring soap to right sink soapbar ['countertop'] ['sinkbasin']\n",
      "wash soap in right sink sinkbasin ['soapbar'] ['soapbar']\n",
      "bring washed soap to cabinet under right sink soapbar ['cabinet'] ['cabinet']\n",
      "put washed soap in left cabinet under right sink cabinet ['soapbottle', 'cabinet'] ['soapbar', 'cabinet']\n",
      "walk forward to sink counter ['countertop'] ['toilet']\n",
      "pick up soap on right side sink counter toilet ['soapbottle'] ['soapbar']\n",
      "turn left then face sink soapbar ['sinkbasin'] ['sinkbasin']\n",
      "put soap in sink rinse it sinkbasin ['soapbar'] ['soapbar']\n",
      "turn around to your right then move little soapbar ['sinkbasin'] ['cabinet']\n",
      "open cabinet on your left put it soap cabinet ['soapbottle', 'cabinet'] ['soapbar', 'cabinet']\n"
     ]
    },
    {
     "name": "stderr",
     "output_type": "stream",
     "text": [
      " 48%|█████████████████████████████████████▌                                        | 2229/4627 [00:35<00:38, 62.85it/s]"
     ]
    },
    {
     "name": "stdout",
     "output_type": "stream",
     "text": [
      "turn to left to face toilet ['toilet'] ['toilet']\n",
      "pick up bar soap from back toilet toilet ['soapbar'] ['soapbar']\n",
      "move to left to face sink to left toilet soapbar ['sinkbasin'] ['sinkbasin']\n",
      "move back slightly from sink soapbar ['sinkbasin'] ['cabinet']\n",
      "turn to left face toilet ['toilet'] ['toilet']\n",
      "pick soap up from back toilet toilet ['soapbottle'] ['soapbar']\n",
      "go to left face sink on right soapbar ['sinkbasin'] ['sinkbasin']\n",
      "put soap in sink turn water on then off pick up soap again sinkbasin ['soapbar'] ['soapbar']\n",
      "move back turn to face cabinet under sink soapbar ['cabinet'] ['cabinet']\n",
      "put soap in cabinet under sink on left cabinet ['soapbottle', 'cabinet'] ['soapbar', 'cabinet']\n",
      "turn left walk to sink ['countertop'] ['toilet']\n",
      "take step to your left then step backwards soapbar ['drawer'] ['sinkbasin']\n",
      "get soap wet in sink then pick it back up shut off water sinkbasin ['soapbar'] ['soapbar']\n"
     ]
    },
    {
     "name": "stderr",
     "output_type": "stream",
     "text": [
      "\r",
      " 48%|█████████████████████████████████████▋                                        | 2236/4627 [00:35<00:38, 62.92it/s]"
     ]
    },
    {
     "name": "stdout",
     "output_type": "stream",
     "text": [
      "back up step so you can use cupboard under sink soapbar ['cabinet'] ['cabinet']\n",
      "open cupboard below left side right sink put soap down there close door cabinet ['soapbottle', 'cabinet'] ['soapbar', 'cabinet']\n",
      "turn to left to face sink ['countertop'] ['countertop']\n",
      "pick up bar soap from in between sink countertop ['soapbar'] ['soapbar']\n",
      "take soap move step to right soapbar ['drawer'] ['sinkbasin']\n",
      "hold soap take step to left soapbar ['sinkbasin'] ['countertop']\n",
      "place soap on counter in between sink countertop ['soapbottle', 'countertop'] ['soapbar', 'countertop']\n",
      "turn around take step then turn to your right face vanity ['drawer'] ['countertop']\n",
      "pick up bar soap that in between sink countertop ['soapbar'] ['soapbar']\n",
      "turn around take step turn left take step turn left face right sink soapbar ['cabinet'] ['sinkbasin']\n",
      "take step to your left soapbar ['sinkbasin'] ['countertop']\n",
      "place soap on counter in between two sink to right bottle soap countertop ['soapbottle', 'countertop'] ['soapbar', 'countertop']\n"
     ]
    },
    {
     "name": "stderr",
     "output_type": "stream",
     "text": [
      " 49%|█████████████████████████████████████▉                                        | 2250/4627 [00:36<00:38, 62.45it/s]"
     ]
    },
    {
     "name": "stdout",
     "output_type": "stream",
     "text": [
      "turn left face toward bathroom counter between sink ['countertop'] ['countertop']\n",
      "pick up soap bar from bathroom counter countertop ['soapbar'] ['soapbar']\n",
      "move slightly right then turn left to face sink soapbar ['sinkbasin'] ['sinkbasin']\n",
      "rinse soap under water in sink then remove it sinkbasin ['soapbar'] ['soapbar']\n",
      "move slightly left then turn right to face counter soapbar ['countertop'] ['countertop']\n",
      "put soap bar on counter just right pump bottle countertop ['soapbar', 'countertop'] ['soapbar', 'countertop']\n",
      "turn around stand in front bathroom counter ['cabinet'] ['countertop']\n",
      "pick up bar soap that to right lotion dispenser on counter countertop ['soapbar'] ['soapbar']\n",
      "move to sink basin on far right bathroom counter soapbar ['sinkbasin'] ['sinkbasin']\n",
      "place soap in sink rinse it off before pulling it back out sinkbasin ['soapbar'] ['soapbar']\n",
      "move back to lotion dispenser on bathroom counter soapbar ['countertop'] ['countertop']\n",
      "place bar soap down on counter to right lotion dispenser countertop ['soapbar', 'countertop'] ['soapbar', 'countertop']\n",
      "turn around take step forward then turn right to face sink counter ['cabinet'] ['countertop']\n"
     ]
    },
    {
     "name": "stderr",
     "output_type": "stream",
     "text": [
      " 49%|██████████████████████████████████████▏                                       | 2264/4627 [00:36<00:38, 62.11it/s]"
     ]
    },
    {
     "name": "stdout",
     "output_type": "stream",
     "text": [
      "pick up bar soap that in front toilet paper on counter countertop ['soapbar'] ['soapbar']\n",
      "turn left take step forward then turn right to face counter soapbar ['countertop'] ['countertop']\n",
      "place clean bar soap on front edge counter to left rightmost sink countertop ['soapbar', 'countertop'] ['soapbar', 'countertop']\n",
      "turn around move to soap on counter ['countertop'] ['countertop']\n",
      "pick up soap on counter countertop ['soapbottle'] ['soapbar']\n",
      "bring soap to sink on right soapbar ['sinkbasin'] ['sinkbasin']\n",
      "wet soap in sink with water sinkbasin ['soapbar'] ['soapbar']\n",
      "bring wet soap to counter left that sink soapbar ['countertop'] ['countertop']\n",
      "put soap on that counter countertop ['soapbottle', 'countertop'] ['soapbar', 'countertop']\n",
      "turn to right go to sink ['countertop'] ['countertop']\n",
      "pick up bar soap from counter countertop ['soapbar'] ['soapbar']\n",
      "move to right put soap in right sink soapbar ['sinkbasin'] ['sinkbasin']\n",
      "wet soap with water sinkbasin ['soapbar'] ['soapbar']\n"
     ]
    },
    {
     "name": "stderr",
     "output_type": "stream",
     "text": [
      " 49%|██████████████████████████████████████▍                                       | 2278/4627 [00:36<00:37, 62.54it/s]"
     ]
    },
    {
     "name": "stdout",
     "output_type": "stream",
     "text": [
      "pick up soap from sink bring it to counter on left soapbar ['countertop'] ['countertop']\n",
      "put soap back on counter countertop ['soapbar', 'countertop'] ['soapbar', 'countertop']\n",
      "go forward to sink on your right ['countertop'] ['countertop']\n",
      "pick up soap countertop ['soapbottle'] ['soapbar']\n",
      "move right an go to sink on right soapbar ['sinkbasin'] ['sinkbasin']\n",
      "put soap in sink get it wet sinkbasin ['soapbar'] ['soapbar']\n",
      "move slightly to left soapbar ['countertop'] ['countertop']\n",
      "put soap on counter countertop ['soapbottle', 'countertop'] ['soapbar', 'countertop']\n",
      "move forward then turn right go to counter between two sink ['countertop'] ['countertop']\n",
      "pick up bar soap behind hand soap countertop ['soapbar'] ['soapbar']\n",
      "turn around then turn left then turn left again to face sink soapbar ['countertop'] ['sinkbasin']\n",
      "wash soap inside sink sinkbasin ['soapbar'] ['soapbar']\n"
     ]
    },
    {
     "name": "stderr",
     "output_type": "stream",
     "text": [
      " 50%|██████████████████████████████████████▋                                       | 2292/4627 [00:36<00:36, 64.17it/s]"
     ]
    },
    {
     "name": "stdout",
     "output_type": "stream",
     "text": [
      "turn left move forward then turn right to face sink soapbar ['countertop'] ['countertop']\n",
      "place soap on counter between sink in front candle countertop ['soapbottle', 'countertop'] ['soapbar', 'countertop']\n",
      "move to counter in between two sink ['countertop'] ['countertop']\n",
      "pick up soap from counter countertop ['soapbottle'] ['soapbar']\n",
      "move to sink on right from you soapbar ['sinkbasin'] ['sinkbasin']\n",
      "clean soap in sink sinkbasin ['soapbar'] ['soapbar']\n",
      "move to counter in between two sink soapbar ['countertop'] ['countertop']\n",
      "put soap on counter countertop ['soapbottle', 'countertop'] ['soapbar', 'countertop']\n",
      "turn around turn right to go to sink ['cabinet'] ['countertop']\n",
      "pick up bar soap from in between sink countertop ['soapbar'] ['soapbar']\n",
      "take step to right to face sink soapbar ['sinkbasin'] ['sinkbasin']\n",
      "place soap in sink turn water on then off pick up soap sinkbasin ['soapbar'] ['soapbar']\n",
      "carry soap take step to left soapbar ['sinkbasin'] ['countertop']\n",
      "place soap on counter in between sink countertop ['soapbottle', 'countertop'] ['soapbar', 'countertop']\n"
     ]
    },
    {
     "name": "stderr",
     "output_type": "stream",
     "text": [
      " 50%|██████████████████████████████████████▊                                       | 2306/4627 [00:36<00:36, 64.37it/s]"
     ]
    },
    {
     "name": "stdout",
     "output_type": "stream",
     "text": [
      "turn around begin walking across room then turn right walk up to sink counter ['countertop'] ['countertop']\n",
      "pick up bar soap that on counter in between two sink countertop ['soapbar'] ['soapbar']\n",
      "turn left take step forward then turn right to face counter soapbar ['countertop'] ['countertop']\n",
      "place clean bar soap on front counter in between two sink countertop ['soapbar', 'countertop'] ['soapbar', 'countertop']\n",
      "turn around go right towards double sings ['dresser'] ['countertop']\n",
      "pick up bar soap countertop ['soapbar'] ['soapbar']\n",
      "go to right face sink soapbar ['sinkbasin'] ['sinkbasin']\n",
      "move to left soapbar ['garbagecan'] ['countertop']\n",
      "put soap down in between two sink countertop ['soapbar', 'countertop'] ['soapbar', 'countertop']\n",
      "turn around go to sink ['countertop'] ['countertop']\n",
      "pick up soap from in between sink countertop ['soapbottle'] ['soapbar']\n",
      "move to right to face rightmost sink soapbar ['sinkbasin'] ['sinkbasin']\n",
      "get soap wet in sink sinkbasin ['soapbar'] ['soapbar']\n",
      "move back to left soapbar ['shelf'] ['countertop']\n"
     ]
    },
    {
     "name": "stderr",
     "output_type": "stream",
     "text": [
      " 50%|███████████████████████████████████████                                       | 2320/4627 [00:37<00:35, 64.24it/s]"
     ]
    },
    {
     "name": "stdout",
     "output_type": "stream",
     "text": [
      "put soap in between two sink countertop ['soapbar', 'countertop'] ['soapbar', 'countertop']\n",
      "turn around walk to kitchen island ['diningtable'] ['countertop']\n",
      "grab spatula on island countertop ['spatula'] ['spatula']\n",
      "turn right turn left walk to sink spatula ['sinkbasin'] ['sinkbasin']\n",
      "turn around to drawer spatula ['drawer'] ['drawer']\n",
      "open first drawer from top put spatula in close drawer drawer ['spatula', 'drawer'] ['spatula', 'drawer']\n",
      "turn around walk to island ['countertop'] ['countertop']\n",
      "pick up spatula from island countertop ['spatula'] ['spatula']\n",
      "walk around island to sink spatula ['sinkbasin'] ['sinkbasin']\n",
      "rinse spatula in sink pick it back up sinkbasin ['spatula'] ['spatula']\n",
      "turn around to face stove spatula ['drawer'] ['drawer']\n",
      "put spatula in drawer to left stove drawer ['spatula', 'drawer'] ['spatula', 'drawer']\n",
      "turn around to walk to end island turn left to face it ['cabinet'] ['countertop']\n"
     ]
    },
    {
     "name": "stderr",
     "output_type": "stream",
     "text": [
      "\r",
      " 50%|███████████████████████████████████████▏                                      | 2327/4627 [00:37<00:35, 65.50it/s]"
     ]
    },
    {
     "name": "stdout",
     "output_type": "stream",
     "text": [
      "take spatula on counter countertop ['spatula'] ['spatula']\n",
      "turn right then left going around island then left to face sink spatula ['sinkbasin'] ['sinkbasin']\n",
      "turn left then right to face stove then look down below spatula ['cabinet'] ['drawer']\n",
      "turn go left stand in front spatula on counter ['countertop'] ['countertop']\n",
      "pick spatula up off counter countertop ['spatula'] ['spatula']\n",
      "go right then left to stand in front sink spatula ['sinkbasin'] ['sinkbasin']\n",
      "put spatula in sink turn water on turn water off take spatula out sinkbasin ['spatula'] ['spatula']\n",
      "turn around face drawer to left stove spatula ['drawer'] ['drawer']\n",
      "put spatula in drawer to left stove shut it drawer ['spatula', 'drawer'] ['spatula', 'drawer']\n",
      "go to end island by window ['countertop'] ['countertop']\n",
      "pick up spatula near edge countertop ['spatula'] ['spatula']\n",
      "take spatula to sink spatula ['sinkbasin'] ['sinkbasin']\n",
      "clean spatula in sink sinkbasin ['spatula'] ['spatula']\n"
     ]
    },
    {
     "name": "stderr",
     "output_type": "stream",
     "text": [
      " 51%|███████████████████████████████████████▍                                      | 2341/4627 [00:37<00:35, 64.13it/s]"
     ]
    },
    {
     "name": "stdout",
     "output_type": "stream",
     "text": [
      "turn take clean spatula to counter on left stove spatula ['drawer'] ['drawer']\n",
      "put clean spatula in drawer under blue credit card drawer ['spatula', 'drawer'] ['spatula', 'drawer']\n",
      "take spatula from island countertop ['spatula'] ['spatula']\n",
      "put spatula in sink turn water on then off take spatula from sink sinkbasin ['spatula'] ['spatula']\n",
      "turn around face counter to left oven spatula ['drawer'] ['drawer']\n",
      "put spatula in top drawer underneath counter to left oven drawer ['spatula', 'drawer'] ['spatula', 'drawer']\n",
      "pick up spatula from counter countertop ['spatula'] ['spatula']\n",
      "take spatula turn around to sink spatula ['sinkbasin'] ['sinkbasin']\n",
      "place spatula in sink turn on water then off again pick up spatula sinkbasin ['spatula'] ['spatula']\n",
      "take spatula turn around to counter spatula ['drawer'] ['drawer']\n",
      "open top drawer place spatula inside drawer ['spatula', 'drawer'] ['spatula', 'drawer']\n",
      "pick up spatula that on counter in front bread countertop ['spatula'] ['spatula']\n",
      "holding spatula turn around 180 degree to face sink spatula ['drawer'] ['sinkbasin']\n"
     ]
    },
    {
     "name": "stderr",
     "output_type": "stream",
     "text": [
      " 51%|███████████████████████████████████████▋                                      | 2355/4627 [00:37<00:35, 63.53it/s]"
     ]
    },
    {
     "name": "stdout",
     "output_type": "stream",
     "text": [
      "turn around 180 degree to face stove top counter to left stove top spatula ['drawer'] ['drawer']\n",
      "pick up spatula that on counter in front loaf bread on right countertop ['spatula'] ['spatula']\n",
      "turn around move towards sink spatula ['sinkbasin'] ['sinkbasin']\n",
      "turn around to face counter to left stove spatula ['drawer'] ['drawer']\n",
      "open top drawer that to left stove put spatula into drawer close it drawer ['spatula', 'drawer'] ['spatula', 'drawer']\n",
      "walk around center table to face right side sink ['sinkbasin'] ['countertop']\n",
      "pick up bread on counter to right sink countertop ['bread'] ['bread']\n",
      "turn around step to left to face fridge bread ['fridge'] ['fridge']\n",
      "cool bread in fridge then remove it fridge ['bread'] ['bread']\n",
      "take step to right to face counter to right fridge bread ['countertop'] ['countertop']\n",
      "place bread on counter countertop ['bread', 'countertop'] ['bread', 'countertop']\n",
      "turn around walk to fridge turn left walk to counter ['cabinet'] ['countertop']\n",
      "pick up bread countertop ['bread'] ['bread']\n"
     ]
    },
    {
     "name": "stderr",
     "output_type": "stream",
     "text": [
      " 51%|███████████████████████████████████████▉                                      | 2369/4627 [00:37<00:35, 63.12it/s]"
     ]
    },
    {
     "name": "stdout",
     "output_type": "stream",
     "text": [
      "turn right walk to fridge turn right bread ['microwave'] ['fridge']\n",
      "turn right walk to counter turn left bread ['drawer'] ['countertop']\n",
      "put bread on counter countertop ['bread', 'countertop'] ['bread', 'countertop']\n",
      "move to your left face counter right sink ['countertop'] ['countertop']\n",
      "pick up bread on counter countertop ['bread'] ['bread']\n",
      "bring bread to fridge behind you to right bread ['fridge'] ['fridge']\n",
      "chill bread in fridge fridge ['bread'] ['bread']\n",
      "bring cold bread to counter next to fridge on right bread ['countertop'] ['countertop']\n",
      "put cold bread on counter right fridge countertop ['bread', 'countertop'] ['bread', 'countertop']\n",
      "move forward turn left after sink to face bread on counter ['countertop'] ['countertop']\n",
      "pick up bread across counter to left countertop ['butterknife'] ['bread']\n",
      "turn around bring bread to fridge on left bread ['fridge'] ['fridge']\n"
     ]
    },
    {
     "name": "stderr",
     "output_type": "stream",
     "text": [
      " 52%|████████████████████████████████████████▏                                     | 2383/4627 [00:38<00:36, 61.17it/s]"
     ]
    },
    {
     "name": "stdout",
     "output_type": "stream",
     "text": [
      "chill bread in fridge fridge ['bread'] ['bread']\n",
      "bring chilled bread to counter right fridge bread ['countertop'] ['countertop']\n",
      "put bread on counter right fridge countertop ['bread', 'countertop'] ['bread', 'countertop']\n",
      "grab bread off kitchen island counter countertop ['bread'] ['bread']\n",
      "turn around walk to front fridge on left bread ['fridge'] ['fridge']\n",
      "place bread inside fridge to cool down then take it back out again fridge ['bread'] ['bread']\n",
      "turn left walk to kitchen counter on left to left stove bread ['countertop'] ['countertop']\n",
      "place bread down on kitchen counter to right toaster countertop ['bread', 'countertop'] ['bread', 'countertop']\n",
      "move to end island on your left ['countertop'] ['countertop']\n",
      "pick up loaf bread closest to sink countertop ['bread'] ['bread']\n",
      "turn around move to front fridge bread ['fridge'] ['fridge']\n",
      "put loaf bread on second shelf fridge for few minute then remove it fridge ['bread'] ['bread']\n"
     ]
    },
    {
     "name": "stderr",
     "output_type": "stream",
     "text": [
      "\r",
      " 52%|████████████████████████████████████████▎                                     | 2390/4627 [00:38<00:36, 61.56it/s]"
     ]
    },
    {
     "name": "stdout",
     "output_type": "stream",
     "text": [
      "move few step to counter on your right bread ['countertop'] ['countertop']\n",
      "set loaf bread down on counter above dishwasher countertop ['bread', 'countertop'] ['bread', 'countertop']\n",
      "move to right face counter with bread on it ['countertop'] ['countertop']\n",
      "pick up bread from counter countertop ['bread'] ['bread']\n",
      "bring bread with you move to face white fridge bread ['fridge'] ['fridge']\n",
      "put bread down on counter countertop ['bread', 'countertop'] ['bread', 'countertop']\n",
      "pick up loaf bread off kitchen island countertop ['bread'] ['bread']\n",
      "turn right walk to fridge bread ['fridge'] ['fridge']\n",
      "turn right begin walking across room then turn left to face counter bread ['countertop'] ['countertop']\n",
      "put chilled loaf bread on counter to right toaster countertop ['bread', 'countertop'] ['bread', 'countertop']\n",
      "turn right hang left at silver dishwasher to reach counter ['countertop'] ['countertop']\n",
      "pick up loaf bread on right side counter countertop ['bread'] ['bread']\n",
      "turn right walk to white fridge on right bread ['fridge'] ['fridge']\n"
     ]
    },
    {
     "name": "stderr",
     "output_type": "stream",
     "text": [
      " 52%|████████████████████████████████████████▌                                     | 2404/4627 [00:38<00:37, 59.92it/s]"
     ]
    },
    {
     "name": "stdout",
     "output_type": "stream",
     "text": [
      "turn right walk to counter on left with silver dishwasher bread ['countertop'] ['countertop']\n",
      "put loaf bread on counter to right toaster countertop ['bread', 'countertop'] ['bread', 'countertop']\n",
      "turn left go towards coffee maker turn left go to dishwasher on right ['countertop'] ['countertop']\n",
      "take yellow handle knife from counter behind bread countertop ['knife'] ['knife']\n",
      "cut bread into slice knife ['bread'] ['bread']\n",
      "stay at counter bread ['drawer'] ['countertop']\n",
      "put knife on counter in front bread spatula countertop ['knife', 'countertop'] ['knife', 'countertop']\n",
      "stay at counter knife countertop ['countertop'] ['countertop']\n",
      "take slice bread from counter countertop ['bread'] ['bread']\n",
      "turn left go to white refrigerator bread ['fridge'] ['fridge']\n",
      "turn right go in front oven bread ['microwave'] ['microwave']\n",
      "put bread in microwave above oven microwave ['bread', 'microwave'] ['bread', 'microwave']\n"
     ]
    },
    {
     "name": "stderr",
     "output_type": "stream",
     "text": [
      " 52%|████████████████████████████████████████▋                                     | 2417/4627 [00:38<00:36, 60.27it/s]"
     ]
    },
    {
     "name": "stdout",
     "output_type": "stream",
     "text": [
      "pick up knife behind loaf bread on counter countertop ['butterknife'] ['knife']\n",
      "slice right half loaf bread knife ['bread'] ['bread']\n",
      "move one step to right bread ['microwave'] ['countertop']\n",
      "put knife on counter in front bread spatula parallel to edge counter countertop ['butterknife', 'countertop'] ['knife', 'countertop']\n",
      "go back one step to left knife countertop ['cabinet'] ['countertop']\n",
      "remove leftmost slice bread from near center loaf countertop ['bread'] ['bread']\n",
      "take bread slice to refrigerator on your left bread ['fridge'] ['fridge']\n",
      "move to your right to stand facing stove bread ['countertop'] ['microwave']\n",
      "put slice bread into microwave above stove microwave ['bread'] ['bread', 'microwave']\n",
      "turn to your left walk to toaster next to refrigerator ['countertop'] ['countertop']\n",
      "pick up knife from counter countertop ['knife'] ['knife']\n",
      "cut loaf bread knife ['bread'] ['bread']\n"
     ]
    },
    {
     "name": "stderr",
     "output_type": "stream",
     "text": [
      " 53%|████████████████████████████████████████▉                                     | 2431/4627 [00:38<00:35, 61.72it/s]"
     ]
    },
    {
     "name": "stdout",
     "output_type": "stream",
     "text": [
      "move one step to your right bread ['microwave'] ['countertop']\n",
      "place knife on counter countertop ['butterknife', 'countertop'] ['knife', 'countertop']\n",
      "walk one step to left knife countertop ['garbagecan'] ['countertop']\n",
      "pick up slice bread from middle loaf countertop ['bread'] ['bread']\n",
      "walk to refrigerator bread ['fridge'] ['fridge']\n",
      "walk to microwave above stove bread ['microwave'] ['microwave']\n",
      "place slice bread inside microwave microwave ['bread'] ['bread', 'microwave']\n",
      "take large knife next to tomato countertop ['knife'] ['knife']\n",
      "turn around go to counter to left oven knife ['bread'] ['bread']\n",
      "cut bread into slice bread ['bread'] ['bread']\n",
      "stay at counter bread ['drawer'] ['countertop']\n",
      "put knife on counter between fork edge counter countertop ['butterknife', 'countertop'] ['knife', 'countertop']\n",
      "stay at counter knife countertop ['countertop'] ['countertop']"
     ]
    },
    {
     "name": "stderr",
     "output_type": "stream",
     "text": [
      " 53%|█████████████████████████████████████████▏                                    | 2445/4627 [00:39<00:35, 62.22it/s]"
     ]
    },
    {
     "name": "stdout",
     "output_type": "stream",
     "text": [
      "\n",
      "take piece bread from counter countertop ['bread'] ['bread']\n",
      "turn left go to refrigerator on right bread ['fridge'] ['fridge']\n",
      "turn right go to oven on left bread ['microwave'] ['microwave']\n",
      "put bread in microwave above oven microwave ['bread', 'microwave'] ['bread', 'microwave']\n",
      "pick up left most metal knife with golden handle countertop ['knife'] ['knife']\n",
      "turn left walk to loaf bread on kitchen counter knife ['bread'] ['bread']\n",
      "slice loaf bread with metal knife bread ['bread'] ['bread']\n",
      "turn left take step forward then turn right to face kitchen counter bread ['countertop'] ['countertop']\n",
      "place metal knife onto kitchen counter in front fork countertop ['butterknife', 'countertop'] ['knife', 'countertop']\n",
      "pick up slice bread countertop ['bread'] ['bread']\n",
      "turn left walk to fridge bread ['fridge'] ['fridge']\n",
      "turn right walk to stove then look up at microwave in upper cabinet bread ['microwave'] ['microwave']\n",
      "open microwave door place slice bread inside then close microwave door microwave ['bread', 'microwave'] ['bread', 'microwave']\n"
     ]
    },
    {
     "name": "stderr",
     "output_type": "stream",
     "text": [
      " 53%|█████████████████████████████████████████▍                                    | 2459/4627 [00:39<00:34, 62.20it/s]"
     ]
    },
    {
     "name": "stdout",
     "output_type": "stream",
     "text": [
      "pick up left yellow knife from counter countertop ['knife'] ['knife']\n",
      "turn around head towards loaf bread on counter knife ['bread'] ['bread']\n",
      "slice bread into slice bread ['bread'] ['bread']\n",
      "take step to left bread ['sidetable'] ['countertop']\n",
      "place knife in front fork on counter countertop ['butterknife', 'countertop'] ['knife', 'countertop']\n",
      "take step to right knife countertop ['toilet'] ['countertop']\n",
      "pick up slice bread from counter countertop ['bread'] ['bread']\n",
      "turn left head towards fridge on your right bread ['fridge'] ['fridge']\n",
      "turn right walk towards stove on your left look up to find microwave bread ['microwave'] ['microwave']\n",
      "open microwave place slice bread in it close door microwave ['bread', 'microwave'] ['bread', 'microwave']\n",
      "pick up butter knife behind green cup on counter to left stove countertop ['butterknife'] ['butterknife']\n",
      "cut up bread on kitchen island into slice bread ['bread'] ['bread']\n",
      "place knife inside fridge fridge ['knife', 'fridge'] ['butterknife', 'fridge']\n"
     ]
    },
    {
     "name": "stderr",
     "output_type": "stream",
     "text": [
      "\r",
      " 53%|█████████████████████████████████████████▌                                    | 2466/4627 [00:39<00:34, 62.62it/s]"
     ]
    },
    {
     "name": "stdout",
     "output_type": "stream",
     "text": [
      "grab slice bread off kitchen island countertop countertop ['bread'] ['bread']\n",
      "place cooled slice bread inside microwave microwave ['bread'] ['bread', 'microwave']\n",
      "move to stand at counter between stove dishwasher ['countertop'] ['countertop']\n",
      "pick up butter knife by green container countertop ['butterknife'] ['butterknife']\n",
      "carry knife to stand at edge counter beyond kitchen sink butterknife ['tomato'] ['bread']\n",
      "slice loaf bread that s on counter bread ['bread'] ['bread']\n",
      "carry knife to fridge bread ['fridge'] ['fridge']\n",
      "place knife on top shelf fridge fridge ['knife', 'fridge'] ['butterknife', 'fridge']\n",
      "move back to edge counter past sink where loaf bread butterknife fridge ['countertop'] ['countertop']\n",
      "pick up slice bread from counter countertop ['bread'] ['bread']\n",
      "carry slice bread to fridge bread ['fridge'] ['fridge']\n",
      "move to stand in front stove bread ['microwave'] ['microwave']\n",
      "open microwave above stove place slice bread inside microwave ['bread'] ['bread', 'microwave']\n"
     ]
    },
    {
     "name": "stderr",
     "output_type": "stream",
     "text": [
      " 54%|█████████████████████████████████████████▊                                    | 2480/4627 [00:39<00:34, 62.86it/s]"
     ]
    },
    {
     "name": "stdout",
     "output_type": "stream",
     "text": [
      "go straight take left at counter ['countertop'] ['countertop']\n",
      "turn right face statue on counter countertop ['cabinet'] ['butterknife']\n",
      "pick up knife go right take right at wall butterknife ['lettuce'] ['bread']\n",
      "turn right towards counter slice bread bread ['cabinet'] ['bread']\n",
      "take right take left at counter turn to face refrigerator bread ['fridge'] ['fridge']\n",
      "open refrigerator set knife on shelf to left apple shut door fridge ['butterknife', 'fridge'] ['butterknife', 'fridge']\n",
      "grab slice bread countertop ['bread'] ['bread']\n",
      "go right take left at counter turn right to face refrigerator bread ['fridge'] ['fridge']\n",
      "go right turn to face stove bread ['microwave'] ['microwave']\n",
      "open microwave put bread in microwave shut door microwave ['potato', 'microwave'] ['bread', 'microwave']\n",
      "turn around walk forward turn to left to face counter top ['countertop'] ['countertop']\n",
      "pick up egg on counter top behind trophy countertop ['egg'] ['egg']\n",
      "turn around face refrigerator open refrigerator door egg ['fridge'] ['fridge']\n"
     ]
    },
    {
     "name": "stderr",
     "output_type": "stream",
     "text": [
      " 54%|██████████████████████████████████████████                                    | 2495/4627 [00:39<00:32, 65.59it/s]"
     ]
    },
    {
     "name": "stdout",
     "output_type": "stream",
     "text": [
      "turn to right walk forward turn to right to face sink egg ['countertop'] ['sinkbasin']\n",
      "place egg in sink in front white bowl sinkbasin ['potato', 'sinkbasin'] ['egg', 'sinkbasin']\n",
      "turn around stand in front toaster ['drawer'] ['countertop']\n",
      "pick up egg to right toaster countertop ['potato'] ['egg']\n",
      "turn left go to fridge egg ['fridge'] ['fridge']\n",
      "chill egg pick it up again fridge ['egg'] ['egg']\n",
      "turn right then go to sink on your right egg ['sinkbasin'] ['sinkbasin']\n",
      "put egg in sink sinkbasin ['potato', 'sinkbasin'] ['egg', 'sinkbasin']\n",
      "turn around walk forward before turning left to face statue ['dresser'] ['countertop']\n",
      "pick up an egg from off kitchen counter countertop ['egg'] ['egg']\n",
      "turn to your left maneuver to face fridge egg ['fridge'] ['fridge']\n",
      "turn right walk into kitchen until you face sink egg ['sinkbasin'] ['sinkbasin']\n",
      "place cold egg in sink sinkbasin ['potato', 'sinkbasin'] ['egg', 'sinkbasin']\n",
      "take egg from in sink sinkbasin ['egg'] ['egg']\n"
     ]
    },
    {
     "name": "stderr",
     "output_type": "stream",
     "text": [
      " 54%|██████████████████████████████████████████▎                                   | 2510/4627 [00:40<00:31, 68.09it/s]"
     ]
    },
    {
     "name": "stdout",
     "output_type": "stream",
     "text": [
      "go to fridge behind you egg ['fridge'] ['fridge']\n",
      "chill egg inside fridge fridge ['potato'] ['egg']\n",
      "return to sink behind you egg ['microwave'] ['sinkbasin']\n",
      "place egg in sink next to right most tomato sinkbasin ['potato', 'sinkbasin'] ['egg', 'sinkbasin']\n",
      "go to right then turn right to find sink in island ['cabinet'] ['sinkbasin']\n",
      "pick up egg from sink sinkbasin ['egg'] ['egg']\n",
      "take egg turn right to find fridge egg ['fridge'] ['fridge']\n",
      "place egg inside fridge shut door open door take egg out shut door fridge ['potato'] ['egg']\n",
      "take egg turn right to go back to sink egg ['sinkbasin'] ['sinkbasin']\n",
      "place egg in sink sinkbasin ['potato', 'sinkbasin'] ['egg', 'sinkbasin']\n",
      "cross kitchen go between counter stove then turn to right face sink ['countertop'] ['sinkbasin']\n",
      "pick up egg from in sink sinkbasin ['egg'] ['egg']\n",
      "bring egg with you to go face white fridge egg ['fridge'] ['fridge']\n",
      "bring egg with you go back to face sink egg ['sinkbasin'] ['sinkbasin']\n"
     ]
    },
    {
     "name": "stderr",
     "output_type": "stream",
     "text": [
      " 55%|██████████████████████████████████████████▌                                   | 2524/4627 [00:40<00:31, 65.85it/s]"
     ]
    },
    {
     "name": "stdout",
     "output_type": "stream",
     "text": [
      "put egg back in sink sinkbasin ['egg', 'sinkbasin'] ['egg', 'sinkbasin']\n",
      "go across room to kitchen then go to sink on right side ['cabinet'] ['sinkbasin']\n",
      "pick up egg that beside fork in sink sinkbasin ['egg'] ['egg']\n",
      "move across kitchen to refrigerator egg ['fridge'] ['fridge']\n",
      "move across kitchen to sink egg ['sinkbasin'] ['sinkbasin']\n",
      "put egg in sink beside fork sinkbasin ['potato', 'sinkbasin'] ['egg', 'sinkbasin']\n",
      "go straight across room then right to go around island find sink on right ['countertop'] ['sinkbasin']\n",
      "pick up egg in back sink sinkbasin ['egg'] ['egg']\n",
      "take egg turn right to find fridge on right egg ['fridge'] ['fridge']\n",
      "place egg inside fridge then open door take out egg shut fridge door fridge ['potato'] ['egg']\n",
      "take egg turn right then right again at sink egg ['sinkbasin'] ['sinkbasin']\n",
      "place egg back into sink sinkbasin ['potato', 'sinkbasin'] ['egg', 'sinkbasin']\n",
      "turn right walk to fridge turn right walk to kitchen sink ['countertop'] ['sinkbasin']\n"
     ]
    },
    {
     "name": "stderr",
     "output_type": "stream",
     "text": [
      " 55%|██████████████████████████████████████████▊                                   | 2539/4627 [00:40<00:31, 67.22it/s]"
     ]
    },
    {
     "name": "stdout",
     "output_type": "stream",
     "text": [
      "pick up brown egg in sink sinkbasin ['potato'] ['egg']\n",
      "turn to right walk to fridge egg ['fridge'] ['fridge']\n",
      "turn right walk straight turn right at sink face sink egg ['sinkbasin'] ['sinkbasin']\n",
      "put egg in sink sinkbasin ['potato', 'sinkbasin'] ['egg', 'sinkbasin']\n",
      "go to counter to left stove ['countertop'] ['countertop']\n",
      "pick up lettuce from counter countertop ['lettuce'] ['lettuce']\n",
      "take lettuce to fridge lettuce ['fridge'] ['fridge']\n",
      "put in fridge then remove fridge ['fridge'] ['lettuce']\n",
      "take chilled lettuce back to counter lettuce ['countertop'] ['countertop']\n",
      "put lettuce back on counter countertop ['lettuce', 'countertop'] ['lettuce', 'countertop']\n",
      "pick up head lettuce on counter countertop ['lettuce'] ['lettuce']\n",
      "walk left back to fridge lettuce ['fridge'] ['fridge']\n",
      "take couple step right facing counter to left stove lettuce ['countertop'] ['countertop']\n",
      "place head lettuce on plate on counter countertop ['lettuce', 'countertop'] ['lettuce', 'countertop']\n"
     ]
    },
    {
     "name": "stderr",
     "output_type": "stream",
     "text": [
      "\r",
      " 55%|██████████████████████████████████████████▉                                   | 2546/4627 [00:40<00:31, 66.32it/s]"
     ]
    },
    {
     "name": "stdout",
     "output_type": "stream",
     "text": [
      "turn right go across room turn right go to dishwasher ['countertop'] ['countertop']\n",
      "pick up lettuce on counter countertop ['lettuce'] ['lettuce']\n",
      "turn right go to fridge lettuce ['fridge'] ['fridge']\n",
      "chill lettuce in fridge pick it back up fridge ['lettuce'] ['lettuce']\n",
      "turn left go to dishwasher lettuce ['countertop'] ['countertop']\n",
      "put lettuce on counter in front spatula countertop ['lettuce', 'countertop'] ['lettuce', 'countertop']\n",
      "pick up lettuce on counter countertop ['lettuce'] ['lettuce']\n",
      "turn right bring lettuce to fridge on right lettuce ['fridge'] ['fridge']\n",
      "chill lettuce in fridge fridge ['lettuce'] ['lettuce']\n",
      "take chilled lettuce to counter right fridge lettuce ['countertop'] ['countertop']\n",
      "put chilled lettuce on counter in front bread countertop ['lettuce', 'countertop'] ['lettuce', 'countertop']\n",
      "pick up lettuce off counter countertop ['lettuce'] ['lettuce']\n",
      "turn right walk straight towards fridge turn right lettuce ['fridge'] ['fridge']\n"
     ]
    },
    {
     "name": "stderr",
     "output_type": "stream",
     "text": [
      " 55%|███████████████████████████████████████████▏                                  | 2560/4627 [00:40<00:31, 65.21it/s]"
     ]
    },
    {
     "name": "stdout",
     "output_type": "stream",
     "text": [
      "open fridge put lettuce inside then re open fridge remove lettuce close door fridge ['lettuce'] ['lettuce']\n",
      "turn right walk straight then turn left towards counter top lettuce ['countertop'] ['countertop']\n",
      "put lettuce down on counter countertop ['lettuce', 'countertop'] ['lettuce', 'countertop']\n",
      "turn right walk around kitchen island to lettuce on counter ['countertop'] ['countertop']\n",
      "pick up lettuce from counter countertop ['lettuce'] ['lettuce']\n",
      "take lettuce to refrigerator lettuce ['fridge'] ['fridge']\n",
      "put lettuce in refrigerator close door wait then open refrigerator remove lettuce fridge ['lettuce'] ['lettuce']\n",
      "carry lettuce to counter with other food lettuce ['countertop'] ['countertop']\n",
      "put lettuce on counter next to bread countertop ['lettuce', 'countertop'] ['lettuce', 'countertop']\n",
      "step forward then turn left to face counter near dishwasher ['countertop'] ['countertop']\n",
      "pick up lettuce nearest to you from counter countertop ['lettuce'] ['lettuce']\n",
      "turn around move forward then turn right to go to fridge lettuce ['fridge'] ['fridge']\n",
      "open fridge put lettuce inside chill it then take lettuce out fridge ['lettuce'] ['lettuce']\n",
      "turn right move forward then turn left at dishwasher lettuce ['countertop'] ['countertop']\n"
     ]
    },
    {
     "name": "stderr",
     "output_type": "stream",
     "text": [
      " 56%|███████████████████████████████████████████▍                                  | 2575/4627 [00:41<00:30, 66.47it/s]"
     ]
    },
    {
     "name": "stdout",
     "output_type": "stream",
     "text": [
      "place lettuce on counter countertop ['lettuce', 'countertop'] ['lettuce', 'countertop']\n",
      "turn left to face counter ['countertop'] ['countertop']\n",
      "pick up head lettuce that on counter countertop ['lettuce'] ['lettuce']\n",
      "turn left walk to fridge turn right lettuce ['fridge'] ['fridge']\n",
      "put lettuce in fridge wait minute take lettuce out fridge ['lettuce'] ['lettuce']\n",
      "turn right walk forward turn left to face counter lettuce ['countertop'] ['countertop']\n",
      "put lettuce on counter countertop ['lettuce', 'countertop'] ['lettuce', 'countertop']\n",
      "move left to table ['desk'] ['countertop']\n",
      "pick up lettuce countertop ['lettuce'] ['lettuce']\n",
      "move left to fridge lettuce ['fridge'] ['fridge']\n",
      "cool lettuce for some time take it out fridge ['lettuce'] ['lettuce']\n",
      "turn right head to table lettuce ['diningtable'] ['countertop']\n",
      "place lettuce on table countertop ['lettuce', 'countertop'] ['lettuce', 'countertop']\n"
     ]
    },
    {
     "name": "stderr",
     "output_type": "stream",
     "text": [
      " 56%|███████████████████████████████████████████▋                                  | 2589/4627 [00:41<00:30, 65.96it/s]"
     ]
    },
    {
     "name": "stdout",
     "output_type": "stream",
     "text": [
      "pick up lettuce that sitting on counter countertop ['lettuce'] ['lettuce']\n",
      "turn left walk to sink on your right lettuce ['sinkbasin'] ['sinkbasin']\n",
      "place lettuce into sink sinkbasin ['lettuce', 'sinkbasin'] ['lettuce', 'sinkbasin']\n",
      "pick up lettuce next to toaster countertop ['lettuce'] ['lettuce']\n",
      "take step to left to face fridge lettuce ['fridge'] ['fridge']\n",
      "place lettuce in fridge let it cool take it back out fridge ['lettuce'] ['lettuce']\n",
      "turn right walk towards sink on your right lettuce ['sinkbasin'] ['sinkbasin']\n",
      "place lettuce in sink sinkbasin ['lettuce', 'sinkbasin'] ['lettuce', 'sinkbasin']\n",
      "go to left around fridge head to counter right fridge ['countertop'] ['countertop']\n",
      "pick up lettuce on counter countertop ['lettuce'] ['lettuce']\n",
      "bring lettuce to fridge on left lettuce ['fridge'] ['fridge']\n",
      "chill lettuce in fridge fridge ['lettuce'] ['lettuce']\n",
      "head right with chilled lettuce go to sink on right lettuce ['sinkbasin'] ['sinkbasin']\n"
     ]
    },
    {
     "name": "stderr",
     "output_type": "stream",
     "text": [
      " 56%|███████████████████████████████████████████▉                                  | 2603/4627 [00:41<00:31, 64.89it/s]"
     ]
    },
    {
     "name": "stdout",
     "output_type": "stream",
     "text": [
      "put chilled lettuce in sink sinkbasin ['lettuce', 'sinkbasin'] ['lettuce', 'sinkbasin']\n",
      "walk to left side sink that s on right ['cabinet'] ['countertop']\n",
      "pick up lettuce that s in front butter knife countertop ['lettuce'] ['lettuce']\n",
      "turn right walk to fridge on right lettuce ['fridge'] ['fridge']\n",
      "turn right face sink on right lettuce ['sinkbasin'] ['sinkbasin']\n",
      "place lettuce in sink sinkbasin ['lettuce', 'sinkbasin'] ['lettuce', 'sinkbasin']\n",
      "walk straight make right to face counter ['countertop'] ['countertop']\n",
      "take lettuce that on counter countertop ['lettuce'] ['lettuce']\n",
      "turn right walk straight making another right to face fridge lettuce ['fridge'] ['fridge']\n",
      "turn to right walk straight making right to face sink again lettuce ['sinkbasin'] ['sinkbasin']\n",
      "place lettuce in sink sinkbasin ['lettuce', 'sinkbasin'] ['lettuce', 'sinkbasin']\n",
      "walk straight to counter by sink ['countertop'] ['countertop']\n",
      "grab cabbage on counter countertop ['lettuce'] ['lettuce']\n",
      "turn right walk to refrigerator lettuce ['fridge'] ['fridge']\n"
     ]
    },
    {
     "name": "stderr",
     "output_type": "stream",
     "text": [
      " 57%|████████████████████████████████████████████                                  | 2617/4627 [00:41<00:30, 65.28it/s]"
     ]
    },
    {
     "name": "stdout",
     "output_type": "stream",
     "text": [
      "open refrigerator put cabbage in refrigerator open refrigerator take cabbage out close refrigerator fridge ['lettuce'] ['lettuce']\n",
      "turn right walk to sink on right lettuce ['sinkbasin'] ['sinkbasin']\n",
      "put cabbage in sink sinkbasin ['lettuce', 'sinkbasin'] ['lettuce', 'sinkbasin']\n",
      "go forward turn to right to counter where lettuce ['countertop'] ['countertop']\n",
      "pick up lettuce that on counter countertop ['lettuce'] ['lettuce']\n",
      "turn to right go to fridge lettuce ['fridge'] ['fridge']\n",
      "turn to right go to sink lettuce ['sinkbasin'] ['sinkbasin']\n",
      "put lettuce in sink sinkbasin ['lettuce', 'sinkbasin'] ['lettuce', 'sinkbasin']\n",
      "turn around towards fridge turn right towards lettuce next to stove on your left ['countertop'] ['countertop']\n",
      "pick up lettuce from counter countertop ['lettuce'] ['lettuce']\n",
      "turn left walk towards fridge on your right lettuce ['fridge'] ['fridge']\n",
      "turn right walk towards sink on your right lettuce ['sinkbasin'] ['sinkbasin']\n",
      "place lettuce back in sink sinkbasin ['lettuce', 'sinkbasin'] ['lettuce', 'sinkbasin']\n"
     ]
    },
    {
     "name": "stderr",
     "output_type": "stream",
     "text": [
      " 57%|████████████████████████████████████████████▎                                 | 2631/4627 [00:42<00:30, 65.54it/s]"
     ]
    },
    {
     "name": "stdout",
     "output_type": "stream",
     "text": [
      "turn around go into kitchen ['stoveburner'] ['countertop']\n",
      "pick up lettuce to left stove countertop ['lettuce'] ['lettuce']\n",
      "go to fridge on your left lettuce ['fridge'] ['fridge']\n",
      "chill lettuce in fridge take it out fridge ['lettuce'] ['lettuce']\n",
      "turn right go to sink lettuce ['sinkbasin'] ['sinkbasin']\n",
      "put lettuce in sink sinkbasin ['lettuce', 'sinkbasin'] ['lettuce', 'sinkbasin']\n",
      "turn around walk to counter left stove in kitchen ['countertop'] ['countertop']\n",
      "pick up lettuce from counter next to tomato countertop ['lettuce'] ['lettuce']\n",
      "turn left walk to fridge lettuce ['fridge'] ['fridge']\n",
      "put lettuce in fridge remove it fridge ['lettuce'] ['lettuce']\n",
      "turn right walk to kitchen sink opposite stove lettuce ['cabinet'] ['sinkbasin']\n",
      "put lettuce in kitchen sink sinkbasin ['lettuce', 'sinkbasin'] ['lettuce', 'sinkbasin']\n",
      "turn go to counter by toaster ['countertop'] "
     ]
    },
    {
     "name": "stderr",
     "output_type": "stream",
     "text": [
      " 57%|████████████████████████████████████████████▌                                 | 2645/4627 [00:42<00:29, 66.11it/s]"
     ]
    },
    {
     "name": "stdout",
     "output_type": "stream",
     "text": [
      "['countertop']\n",
      "pick up knife on counter countertop ['knife'] ['butterknife']\n",
      "go to counter by toaster butterknife ['potato'] ['lettuce']\n",
      "cut lettuce on counter lettuce ['lettuce'] ['lettuce']\n",
      "turn go to refrigerator lettuce ['fridge'] ['fridge']\n",
      "put knife in refrigerator fridge ['butterknife', 'fridge'] ['butterknife', 'fridge']\n",
      "turn go to counter by toaster butterknife fridge ['countertop'] ['countertop']\n",
      "pick up slice lettuce on counter countertop ['lettuce'] ['lettuce']\n",
      "turn go to refrigerator lettuce ['fridge'] ['fridge']\n",
      "chill slice lettuce in refrigerator fridge ['lettuce'] ['lettuce']\n",
      "turn go to trash can lettuce ['garbagecan'] ['garbagecan']\n",
      "put slice lettuce in trash can garbagecan ['lettuce', 'garbagecan'] ['lettuce', 'garbagecan']\n",
      "go right then turn left to face toaster on counter ['countertop'] ['countertop']\n",
      "pick up knife off in front toaster countertop ['butterknife'] ['butterknife']\n",
      "look up toward lettuce on counter butterknife ['lettuce'] ['lettuce']\n"
     ]
    },
    {
     "name": "stderr",
     "output_type": "stream",
     "text": [
      " 57%|████████████████████████████████████████████▊                                 | 2660/4627 [00:42<00:29, 66.88it/s]"
     ]
    },
    {
     "name": "stdout",
     "output_type": "stream",
     "text": [
      "cut lettuce on counter lettuce ['lettuce'] ['lettuce']\n",
      "turn left go to fridge lettuce ['fridge'] ['fridge']\n",
      "put knife in fridge on second shelf in front bread fridge ['knife', 'fridge'] ['butterknife', 'fridge']\n",
      "turn right go back to lettuce on left counter butterknife fridge ['countertop'] ['countertop']\n",
      "pick up slice lettuce from counter countertop ['lettuce'] ['lettuce']\n",
      "go left head back to fridge lettuce ['fridge'] ['fridge']\n",
      "put lettuce in trash can in front tomato garbagecan ['lettuce', 'garbagecan'] ['lettuce', 'garbagecan']\n",
      "turn right walk to lettuce head sitting on counter next to toaster ['countertop'] ['countertop']\n",
      "pick up knife next to lettuce head countertop ['butterknife'] ['butterknife']\n",
      "stand up with knife butterknife ['potato'] ['lettuce']\n",
      "slice lettuce head lettuce ['lettuce'] ['lettuce']\n",
      "turn to left walk to refrigerator with knife lettuce ['fridge'] ['fridge']\n",
      "open refrigerator door put knife in refrigerator next to bread bowl fridge ['knife', 'fridge'] ['butterknife', 'fridge']\n",
      "pick up slice lettuce countertop ['lettuce'] ['lettuce']\n"
     ]
    },
    {
     "name": "stderr",
     "output_type": "stream",
     "text": [
      " 58%|█████████████████████████████████████████████                                 | 2674/4627 [00:42<00:29, 66.01it/s]"
     ]
    },
    {
     "name": "stdout",
     "output_type": "stream",
     "text": [
      "turn to left walk to refrigerator lettuce ['fridge'] ['fridge']\n",
      "turn around walk to trash can lettuce ['garbagecan'] ['garbagecan']\n",
      "put lettuce in trash can garbagecan ['lettuce', 'garbagecan'] ['lettuce', 'garbagecan']\n",
      "pick up butter knife between bread lettuce on counter top countertop ['butterknife'] ['butterknife']\n",
      "move to left side counter butterknife ['lettuce'] ['lettuce']\n",
      "cut head lettuce closest to you into slice lettuce ['lettuce'] ['lettuce']\n",
      "move back to right side counter top lettuce ['countertop'] ['countertop']\n",
      "place knife back on counter top between lettuce bread countertop ['knife', 'countertop'] ['butterknife', 'countertop']\n",
      "move back to left side counter top butterknife countertop ['countertop'] ['countertop']\n",
      "pick up on lettuce slice countertop ['lettuce'] ['lettuce']\n",
      "go to refrigerator to your left lettuce ['fridge'] ['fridge']\n",
      "turn around go to garbage bin on floor next to kitchen island lettuce ['garbagecan'] ['garbagecan']\n",
      "place lettuce in garbage bin on floor garbagecan ['lettuce', 'garbagecan'] ['lettuce', 'garbagecan']\n"
     ]
    },
    {
     "name": "stderr",
     "output_type": "stream",
     "text": [
      "\r",
      " 58%|█████████████████████████████████████████████▏                                | 2681/4627 [00:42<00:29, 64.93it/s]"
     ]
    },
    {
     "name": "stdout",
     "output_type": "stream",
     "text": [
      "pick up butter knife that sitting on counter to right two head lettuce countertop ['butterknife'] ['butterknife']\n",
      "move slightly to left facing two head lettuce butterknife ['lettuce'] ['lettuce']\n",
      "use knife to cut head lettuce in front lettuce ['lettuce'] ['lettuce']\n",
      "move to right counter slightly lettuce ['garbagecan'] ['countertop']\n",
      "put knife on to counter to right head lettuce countertop ['knife', 'countertop'] ['butterknife', 'countertop']\n",
      "move back to left slightly to face both head lettuce butterknife countertop ['countertop'] ['countertop']\n",
      "pick up slice cut lettuce from counter countertop ['lettuce'] ['lettuce']\n",
      "move to left to face fridge lettuce ['fridge'] ['fridge']\n",
      "put slice lettuce in to trash can garbagecan ['lettuce', 'garbagecan'] ['lettuce', 'garbagecan']\n",
      "turn left then right face counter with lettuce on your left ['countertop'] ['countertop']\n",
      "take knife from counter in front you countertop ['butterknife'] ['butterknife']\n",
      "turn left face counter on your right butterknife ['lettuce'] ['lettuce']\n",
      "slice lettuce in front you lettuce ['lettuce'] ['lettuce']\n"
     ]
    },
    {
     "name": "stderr",
     "output_type": "stream",
     "text": [
      " 58%|█████████████████████████████████████████████▍                                | 2695/4627 [00:43<00:29, 64.44it/s]"
     ]
    },
    {
     "name": "stdout",
     "output_type": "stream",
     "text": [
      "turn right then face counter to your left lettuce ['countertop'] ['countertop']\n",
      "place knife on counter in front you countertop ['butterknife', 'countertop'] ['butterknife', 'countertop']\n",
      "turn left then face counter on your right butterknife countertop ['countertop'] ['countertop']\n",
      "take slice lettuce from counter in front you countertop ['lettuce'] ['lettuce']\n",
      "turn left face fridge to your right lettuce ['fridge'] ['fridge']\n",
      "place lettuce in fridge for bit then take it out fridge ['lettuce'] ['lettuce']\n",
      "turn around face black bin on your left lettuce ['garbagecan'] ['garbagecan']\n",
      "place lettuce in black bin in front you garbagecan ['lettuce', 'garbagecan'] ['lettuce', 'garbagecan']\n",
      "turn around then right face counter to your left ['countertop'] ['countertop']\n",
      "grab knife from counter in front you countertop ['knife'] ['knife']\n",
      "turn left face counter with lettuce to your right knife ['lettuce'] ['lettuce']\n",
      "slice lettuce in front you lettuce ['lettuce'] ['lettuce']\n",
      "turn right then face counter to your left lettuce ['countertop'] ['countertop']\n"
     ]
    },
    {
     "name": "stderr",
     "output_type": "stream",
     "text": [
      " 59%|█████████████████████████████████████████████▋                                | 2709/4627 [00:43<00:29, 65.52it/s]"
     ]
    },
    {
     "name": "stdout",
     "output_type": "stream",
     "text": [
      "place knife on counter in front you countertop ['butterknife', 'countertop'] ['knife', 'countertop']\n",
      "turn left then face counter with lettuce on your right knife countertop ['countertop'] ['countertop']\n",
      "take slice lettuce from counter in front you countertop ['lettuce'] ['lettuce']\n",
      "turn left then face fridge on your right lettuce ['fridge'] ['fridge']\n",
      "place lettuce in fridge take it out then close it fridge ['lettuce'] ['lettuce']\n",
      "turn around face black trash can on your left lettuce ['garbagecan'] ['garbagecan']\n",
      "place lettuce in black trash can in front you garbagecan ['lettuce', 'garbagecan'] ['lettuce', 'garbagecan']\n",
      "pick up left yellow handle knife from counter top countertop ['knife'] ['knife']\n",
      "turn to left take few step turn to right facing counter knife ['lettuce'] ['lettuce']\n",
      "slice up head lettuce with knife on counter lettuce ['lettuce'] ['lettuce']\n",
      "turn to right take few step turn to left facing counter lettuce ['countertop'] ['countertop']\n",
      "put knife on counter top countertop ['butterknife', 'countertop'] ['knife', 'countertop']\n",
      "turn to left take few step turn to right facing counter knife countertop ['countertop'] ['countertop']\n"
     ]
    },
    {
     "name": "stderr",
     "output_type": "stream",
     "text": [
      " 59%|█████████████████████████████████████████████▉                                | 2723/4627 [00:43<00:28, 65.74it/s]"
     ]
    },
    {
     "name": "stdout",
     "output_type": "stream",
     "text": [
      "pick up slice lettuce from counter top countertop ['lettuce'] ['lettuce']\n",
      "put lettuce slice in waste basket garbagecan ['lettuce', 'garbagecan'] ['lettuce', 'garbagecan']\n",
      "turn around go forward turn right go forward bit turn left to counter ['countertop'] ['countertop']\n",
      "pick up knife on counter countertop ['knife'] ['knife']\n",
      "move bit to left knife ['apple'] ['lettuce']\n",
      "slice lettuce on counter lettuce ['lettuce'] ['lettuce']\n",
      "move bit to right lettuce ['diningtable'] ['countertop']\n",
      "put knife on counter countertop ['butterknife', 'countertop'] ['knife', 'countertop']\n",
      "move bit to left knife countertop ['countertop'] ['countertop']\n",
      "pick up lettuce slice from counter countertop ['lettuce'] ['lettuce']\n",
      "turn left go to front fridge lettuce ['fridge'] ['fridge']\n",
      "put lettuce slice in fridge wait pick up lettuce slice from fridge fridge ['lettuce'] ['lettuce']\n",
      "turn around go forward bit turn left lettuce ['garbagecan'] ['garbagecan']\n",
      "put lettuce in basket garbagecan ['lettuce', 'garbagecan'] ['lettuce', 'garbagecan']\n"
     ]
    },
    {
     "name": "stderr",
     "output_type": "stream",
     "text": [
      " 59%|██████████████████████████████████████████████▏                               | 2738/4627 [00:43<00:27, 69.62it/s]"
     ]
    },
    {
     "name": "stdout",
     "output_type": "stream",
     "text": [
      "move to right refrigerator to counter ['countertop'] ['cabinet']\n",
      "open cupboard door above take out cup in cupboard cabinet ['mug'] ['mug']\n",
      "close cupboard door turn to right carry cup to refrigerator mug ['fridge'] ['fridge']\n",
      "turn to right refrigerator open lower cupboard door mug ['cabinet'] ['cabinet']\n",
      "put cup in lower cupboard close door cabinet ['cup', 'cabinet'] ['mug', 'cabinet']\n",
      "open top cabinet remove cup shut door cabinet ['mug'] ['mug']\n",
      "hold cup look down then turn to left face fridge mug ['fridge'] ['fridge']\n",
      "hold cup take few step to right mug ['cabinet'] ['cabinet']\n",
      "open bottom cabinet place cup inside shut cabinet cabinet ['mug', 'cabinet'] ['mug', 'cabinet']\n",
      "turn around walk to counter to left stove ['countertop'] ['cabinet']\n",
      "look up take mug out cabinet cabinet ['mug'] ['mug']\n",
      "turn left walk to fridge mug ['fridge'] ['fridge']\n",
      "take step right mug ['microwave'] ['cabinet']\n",
      "open leftmost bottom cabinet place mug in it behind sponge cabinet ['mug', 'cabinet'] ['mug', 'cabinet']\n"
     ]
    },
    {
     "name": "stderr",
     "output_type": "stream",
     "text": [
      " 59%|██████████████████████████████████████████████▍                               | 2753/4627 [00:43<00:27, 68.39it/s]"
     ]
    },
    {
     "name": "stdout",
     "output_type": "stream",
     "text": [
      "look up open cupboard grab mug that s up there then close door cabinet ['mug'] ['mug']\n",
      "chill mug in fridge then take it back out close door fridge ['mug'] ['mug']\n",
      "take small step to your right mug ['sidetable'] ['cabinet']\n",
      "turn around go to front cabinet above sink on left stove ['cabinet'] ['cabinet']\n",
      "take out coffee mug in cabinet cabinet ['mug'] ['mug']\n",
      "turn left go to front refrigerator on right mug ['fridge'] ['fridge']\n",
      "remove mug from refrigerator after cooling in it fridge ['mug'] ['mug']\n",
      "move right to front cabinet on left dishwasher mug ['cabinet'] ['cabinet']\n",
      "place mug behind green sponge in cabinet cabinet ['mug', 'cabinet'] ['mug', 'cabinet']\n",
      "turn left walk to window then hang left walk to counter ['soapbar'] ['coffeemachine']\n",
      "pick up coffee mug out coffee machine coffeemachine ['mug'] ['mug']\n",
      "turn around take step forward then turn right walk across room to fridge mug ['fridge'] ['fridge']\n",
      "open leftmost lower cabinet door put chilled mug inside then close cabinet cabinet ['mug', 'cabinet'] ['mug', 'cabinet']\n",
      "turn left walk to window then turn left walk to coffee maker ['countertop'] ['coffeemachine']\n"
     ]
    },
    {
     "name": "stderr",
     "output_type": "stream",
     "text": [
      " 60%|██████████████████████████████████████████████▋                               | 2767/4627 [00:44<00:28, 64.80it/s]"
     ]
    },
    {
     "name": "stdout",
     "output_type": "stream",
     "text": [
      "pick up mug that s in front you at coffee maker coffeemachine ['mug'] ['mug']\n",
      "turn left walk to fridge then turn right to face it mug ['fridge'] ['fridge']\n",
      "chill mug in fridge then take it back out close door fridge ['mug'] ['mug']\n",
      "open cupboard to right fridge put mug down there then close door cabinet ['mug', 'cabinet'] ['mug', 'cabinet']\n",
      "turn left hang left at wall walk to coffee maker on counter ['coffeemachine'] ['coffeemachine']\n",
      "pick up white mug from platform on coffee maker coffeemachine ['mug'] ['mug']\n",
      "turn around walk to white fridge on right mug ['fridge'] ['fridge']\n",
      "open lower cabinet to left dishwasher put chilled mug inside close door cabinet ['mug', 'cabinet'] ['mug', 'cabinet']\n",
      "cross kitchen to stand in front counter to right stove ['countertop'] ['countertop']\n",
      "pick up white coffee mug from counter countertop ['mug'] ['mug']\n",
      "carry mug to refrigerator mug ['fridge'] ['fridge']\n",
      "carry mug back to counter to right stove mug ['coffeemachine'] ['coffeemachine']\n",
      "place mug on base coffee maker coffeemachine ['mug', 'coffeemachine'] ['mug', 'coffeemachine']\n"
     ]
    },
    {
     "name": "stderr",
     "output_type": "stream",
     "text": [
      "\r",
      " 60%|██████████████████████████████████████████████▊                               | 2774/4627 [00:44<00:29, 61.78it/s]"
     ]
    },
    {
     "name": "stdout",
     "output_type": "stream",
     "text": [
      "turn left walk to stove in kitchen stop in front stove ['microwave'] ['countertop']\n",
      "pick up white mug from counter top between stove coffee maker countertop ['mug'] ['mug']\n",
      "turn left walk straight to fridge turn right face fridge mug ['fridge'] ['fridge']\n",
      "place mug in coffee maker on top counter coffeemachine ['mug', 'coffeemachine'] ['mug', 'coffeemachine']\n",
      "turn to your left then head towards counter beside coffee maker ['countertop'] ['countertop']\n",
      "pick up mug beside coffee maker on counter countertop ['mug'] ['mug']\n",
      "turn to your left then head to fridge mug ['fridge'] ['fridge']\n",
      "open fridge put in out mug then close fridge fridge ['mug'] ['mug']\n",
      "turn to your right walk straight then face to microwave on your left mug ['microwave'] ['coffeemachine']\n",
      "put mug on coffee maker coffeemachine ['mug', 'coffeemachine'] ['mug', 'coffeemachine']\n",
      "turn right walk through kitchen to coffee maker turn to face coffee maker ['coffeemachine'] ['coffeemachine']\n"
     ]
    },
    {
     "name": "stderr",
     "output_type": "stream",
     "text": [
      " 60%|██████████████████████████████████████████████▉                               | 2788/4627 [00:44<00:31, 58.87it/s]"
     ]
    },
    {
     "name": "stdout",
     "output_type": "stream",
     "text": [
      "pick up white mug in coffee maker coffeemachine ['mug'] ['mug']\n",
      "turn left walk to fridge turn to face fridge mug ['fridge'] ['fridge']\n",
      "turn right walk to coffee maker turn to face coffee maker mug ['coffeemachine'] ['coffeemachine']\n",
      "put mug inside coffee maker on counter coffeemachine ['mug', 'coffeemachine'] ['mug', 'coffeemachine']\n",
      "go right then turn left to face coffee maker on counter ['countertop'] ['coffeemachine']\n",
      "pick white mug up from under coffee maker coffeemachine ['mug'] ['mug']\n",
      "go left then turn toward right to face fridge mug ['fridge'] ['fridge']\n",
      "put mug in fridge shut door then take cup out again shut door fridge ['mug'] ['mug']\n",
      "go right cross to other side room turn right towards coffee maker mug ['coffeemachine'] ['coffeemachine']\n",
      "put mug under coffee maker on counter coffeemachine ['mug', 'coffeemachine'] ['mug', 'coffeemachine']\n",
      "begin walking across room then hang right walk to coffee machine on counter ['countertop'] ['coffeemachine']\n",
      "pick up white mug that in coffee machine on counter coffeemachine ['mug'] ['mug']\n"
     ]
    },
    {
     "name": "stderr",
     "output_type": "stream",
     "text": [
      " 61%|███████████████████████████████████████████████▏                              | 2801/4627 [00:44<00:31, 58.60it/s]"
     ]
    },
    {
     "name": "stdout",
     "output_type": "stream",
     "text": [
      "turn around walk towards wall then hang right walk to fridge mug ['fridge'] ['fridge']\n",
      "turn right walk across room then turn left walk up to coffee machine mug ['coffeemachine'] ['coffeemachine']\n",
      "put chilled mug in coffee machine on counter coffeemachine ['mug', 'coffeemachine'] ['mug', 'coffeemachine']\n",
      "pick up mug in coffee maker countertop ['mug'] ['mug']\n",
      "turn left go to fridge turn right mug ['fridge'] ['fridge']\n",
      "turn right go to coffee maker turn left mug ['coffeemachine'] ['coffeemachine']\n",
      "put cup into coffee maker coffeemachine ['mug', 'coffeemachine'] ['mug', 'coffeemachine']\n",
      "pick up white mug on coffee maker countertop ['mug'] ['mug']\n",
      "turn to your left head to fridge that will be on your right mug ['fridge'] ['fridge']\n",
      "place coffee mug in fridge to chill before taking it back out fridge ['mug'] ['mug']\n",
      "turn to your right head back to coffee maker mug ['coffeemachine'] ['coffeemachine']\n",
      "place mug to where it located under coffee maker s spout coffeemachine ['mug', 'coffeemachine'] ['mug', 'coffeemachine']\n"
     ]
    },
    {
     "name": "stderr",
     "output_type": "stream",
     "text": [
      " 61%|███████████████████████████████████████████████▍                              | 2815/4627 [00:44<00:28, 62.93it/s]"
     ]
    },
    {
     "name": "stdout",
     "output_type": "stream",
     "text": [
      "turn left go to fridge then turn right go to coffee machine ['countertop'] ['countertop']\n",
      "pick up mug from coffee machine countertop ['mug'] ['mug']\n",
      "turn left go to fridge mug ['fridge'] ['fridge']\n",
      "open fridge put cup on shelf for little bit take it out fridge ['mug'] ['mug']\n",
      "turn right go back to coffee machine mug ['coffeemachine'] ['coffeemachine']\n",
      "set mug in coffee machine coffeemachine ['mug', 'coffeemachine'] ['mug', 'coffeemachine']\n",
      "turn around walk to fridge then veer right to stove ['stoveburner'] ['stoveburner']\n",
      "pick up pan on stove stoveburner ['pan'] ['pan']\n",
      "walk left back to fridge pan ['fridge'] ['fridge']\n",
      "place pan in fridge close door wait moment take it out again fridge ['pot'] ['pan']\n",
      "walk few step right pan ['diningtable'] ['countertop']\n",
      "place pan on counter to right toaster countertop ['pan', 'countertop'] ['pan', 'countertop']\n",
      "turn around cross room then go right turn to left to face stove ['stoveburner'] ['stoveburner']\n",
      "pick pan up from front left stove stoveburner ['pot'] ['pan']\n"
     ]
    },
    {
     "name": "stderr",
     "output_type": "stream",
     "text": [
      " 61%|███████████████████████████████████████████████▋                              | 2829/4627 [00:45<00:29, 60.55it/s]"
     ]
    },
    {
     "name": "stdout",
     "output_type": "stream",
     "text": [
      "go left stand in front fridge pan ['fridge'] ['fridge']\n",
      "go right then turn to left to face counter to right toaster pan ['countertop'] ['countertop']\n",
      "put pan down on counter to right toaster countertop ['pan', 'countertop'] ['pan', 'countertop']\n",
      "pick up pan from top stove stoveburner ['pan'] ['pan']\n",
      "turn to your left walk to front fridge then face it pan ['fridge'] ['fridge']\n",
      "open fridge door place pan inside to chill then remove it shut door fridge ['pot'] ['pan']\n",
      "turn to right walk to left stove face counter pan ['countertop'] ['countertop']\n",
      "place pan on counter countertop ['pan', 'countertop'] ['pan', 'countertop']\n",
      "take step to your right ['stoveburner'] ['stoveburner']\n",
      "pick up pan on front left burner stoveburner ['pot'] ['pan']\n",
      "chill pan in fridge then get it back out close door fridge ['pot'] ['pan']\n",
      "put pan on counter to right toaster countertop ['pot', 'countertop'] ['pan', 'countertop']\n"
     ]
    },
    {
     "name": "stderr",
     "output_type": "stream",
     "text": [
      "\r",
      " 61%|███████████████████████████████████████████████▊                              | 2836/4627 [00:45<00:29, 59.86it/s]"
     ]
    },
    {
     "name": "stdout",
     "output_type": "stream",
     "text": [
      "move bit to right to face front stove ['microwave'] ['stoveburner']\n",
      "pick up pan on front left burner stoveburner ['pot'] ['pan']\n",
      "turn left walk to fridge on right pan ['fridge'] ['fridge']\n",
      "place pan inside fridge close door open door take pan out close door fridge ['pot'] ['pan']\n",
      "turn right walk to counter to left stove pan ['countertop'] ['countertop']\n",
      "place pan down to right toaster on counter countertop ['pan', 'countertop'] ['pan', 'countertop']\n",
      "move step to your right to stand in front stove ['stoveburner'] ['stoveburner']\n",
      "pick up pan from front left burner stove stoveburner ['pan'] ['pan']\n",
      "turn left to carry pan to fridge pan ['fridge'] ['fridge']\n",
      "turn right carry pan to counter space between toaster stove pan ['countertop'] ['countertop']\n",
      "place pan on counter to right toaster countertop ['pan', 'countertop'] ['pan', 'countertop']\n",
      "pick up pan from on top stove stoveburner ['pan'] ['pan']\n"
     ]
    },
    {
     "name": "stderr",
     "output_type": "stream",
     "text": [
      " 62%|████████████████████████████████████████████████                              | 2849/4627 [00:45<00:29, 59.73it/s]"
     ]
    },
    {
     "name": "stdout",
     "output_type": "stream",
     "text": [
      "turn around walk to right to go back to fridge pan ['fridge'] ['fridge']\n",
      "go to right turn left to face dishwasher pan ['countertop'] ['countertop']\n",
      "put pan on counter top countertop ['pot', 'countertop'] ['pan', 'countertop']\n",
      "walk around kitchen counter to stove on your left ['stoveburner'] ['stoveburner']\n",
      "grab pan from stove stoveburner ['pot'] ['pan']\n",
      "walk to front fridge on your left pan ['fridge'] ['fridge']\n",
      "place pan in fridge then grab it fridge ['pot'] ['pan']\n",
      "walk to kitchen counter between fridge stove pan ['countertop'] ['countertop']\n",
      "place pan on counter countertop ['pan', 'countertop'] ['pan', 'countertop']\n",
      "pick up pan on stove stoveburner ['pan'] ['pan']\n",
      "turn left then walk straight head to fridge pan ['fridge'] ['fridge']\n",
      "open fridge put in pan then take it out close fridge fridge ['pot'] ['pan']"
     ]
    },
    {
     "name": "stderr",
     "output_type": "stream",
     "text": [
      " 62%|████████████████████████████████████████████████▏                             | 2861/4627 [00:45<00:30, 58.78it/s]"
     ]
    },
    {
     "name": "stdout",
     "output_type": "stream",
     "text": [
      "\n",
      "turn right walk straight face counter beside toaster pan ['countertop'] ['countertop']\n",
      "put pan on counter beside toaster countertop ['pot', 'countertop'] ['pan', 'countertop']\n",
      "walk to kitchen island ['countertop'] ['countertop']\n",
      "grab potato off kitchen island counter countertop ['potato'] ['potato']\n",
      "walk to fridge potato ['fridge'] ['fridge']\n",
      "place potato inside fridge to cool then take it back out fridge ['potato'] ['potato']\n",
      "bring potato to microwave above stove potato ['microwave'] ['microwave']\n",
      "place potato inside microwave close door microwave ['potato', 'microwave'] ['potato', 'microwave']\n",
      "turn left then right to face counter with knife on it ['countertop'] ['countertop']\n",
      "pick up potato from counter countertop ['potato'] ['potato']\n",
      "turn right face fridge potato ['fridge'] ['fridge']\n",
      "open fridge chill potato for 5 second then take it out fridge ['potato']"
     ]
    },
    {
     "name": "stderr",
     "output_type": "stream",
     "text": [
      " 62%|████████████████████████████████████████████████▍                             | 2875/4627 [00:45<00:28, 60.56it/s]"
     ]
    },
    {
     "name": "stdout",
     "output_type": "stream",
     "text": [
      " ['potato']\n",
      "turn right walk then turn left to face stove potato ['microwave'] ['microwave']\n",
      "look above stove to microwave place potato inside microwave ['potato', 'microwave'] ['potato', 'microwave']\n",
      "go to counter in front you ['countertop'] ['countertop']\n",
      "pick up potato left bread countertop ['potato'] ['potato']\n",
      "go to fridge behind you potato ['fridge'] ['fridge']\n",
      "chill potato in fridge fridge ['potato'] ['potato']\n",
      "take potato to microwave to your right potato ['microwave'] ['microwave']\n",
      "placed potato in microwave microwave ['potato', 'microwave'] ['potato', 'microwave']\n",
      "move to sink ['cabinet'] ['sinkbasin']\n",
      "pick up potato in sink sinkbasin ['potato'] ['potato']\n",
      "bring potato to fridge potato ['fridge'] ['fridge']\n",
      "chill potato in fridge fridge ['potato'] ['potato']\n",
      "bring chilled potato to microwave potato ['microwave'] ['microwave']\n"
     ]
    },
    {
     "name": "stderr",
     "output_type": "stream",
     "text": [
      " 62%|████████████████████████████████████████████████▋                             | 2889/4627 [00:46<00:28, 60.82it/s]"
     ]
    },
    {
     "name": "stdout",
     "output_type": "stream",
     "text": [
      "put potato in microwave microwave ['potato', 'microwave'] ['potato', 'microwave']\n",
      "grab potato out sink sinkbasin ['potato'] ['potato']\n",
      "turn right walk to fridge on your right potato ['fridge'] ['fridge']\n",
      "place potato in fridge let it cool then take it back out fridge ['potato'] ['potato']\n",
      "turn right head to stove on your left potato ['microwave'] ['microwave']\n",
      "place potato inside microwave above stove close door microwave ['potato', 'microwave'] ['potato', 'microwave']\n",
      "grab potato from front right corner sink sinkbasin ['potato'] ['potato']\n",
      "turn right then stop when you get to fridge turn to face it potato ['fridge'] ['fridge']\n",
      "turn right then stop at stove turn left to face microwave potato ['microwave'] ['microwave']\n",
      "place potato in fridge to left on an egg microwave ['potato', 'fridge'] ['potato', 'microwave']\n",
      "walk to kitchen sink ['countertop'] ['sinkbasin']\n",
      "grab potato out sink sinkbasin ['potato'] ['potato']\n",
      "walk to refrigerator potato ['fridge'] ['fridge']\n"
     ]
    },
    {
     "name": "stderr",
     "output_type": "stream",
     "text": [
      " 63%|████████████████████████████████████████████████▉                             | 2903/4627 [00:46<00:28, 60.13it/s]"
     ]
    },
    {
     "name": "stdout",
     "output_type": "stream",
     "text": [
      "place potato inside fridge then take it back out fridge ['potato'] ['potato']\n",
      "walk potato to kitchen stove potato ['microwave'] ['microwave']\n",
      "put potato in microwave above kitchen stove close door microwave ['potato', 'microwave'] ['potato', 'microwave']\n",
      "turn left go to fridge then go to sink on your right face it ['cabinet'] ['sinkbasin']\n",
      "pick up potato from sink sinkbasin ['potato'] ['potato']\n",
      "turn right carry potato to fridge potato ['fridge'] ['fridge']\n",
      "turn right go to stove on your left then turn to face stove potato ['microwave'] ['microwave']\n",
      "put potato into microwave above stove then close microwave door microwave ['potato', 'microwave'] ['potato', 'microwave']\n",
      "move to sink ['cabinet'] ['sinkbasin']\n",
      "pick up potato in sink sinkbasin ['potato'] ['potato']\n",
      "bring potato to fridge potato ['fridge'] ['fridge']\n",
      "chill potato in fridge for 7 second fridge ['potato'] ['potato']\n",
      "take that potato to microwave potato ['microwave'] ['microwave']"
     ]
    },
    {
     "name": "stderr",
     "output_type": "stream",
     "text": [
      "\r",
      " 63%|█████████████████████████████████████████████████                             | 2910/4627 [00:46<00:28, 60.35it/s]"
     ]
    },
    {
     "name": "stdout",
     "output_type": "stream",
     "text": [
      "\n",
      "place potato in microwave microwave ['potato', 'microwave'] ['potato', 'microwave']\n",
      "turn left go to black trash can ['garbagecan'] ['garbagecan']\n",
      "pick up tomato from trash can garbagecan ['tomato'] ['tomato']\n",
      "turn around go to refrigerator tomato ['fridge'] ['fridge']\n",
      "turn right go to microwave above sink on left tomato ['microwave'] ['microwave']\n",
      "open door put tomato in microwave close door microwave ['tomato', 'microwave'] ['tomato', 'microwave']\n",
      "turn left walk forward to refrigerator then turn around face garbage can on floor ['garbagecan'] ['garbagecan']\n",
      "pick up tomato from garbage can garbagecan ['tomato'] ['tomato']\n",
      "turn around towards refrigerator tomato ['fridge'] ['fridge']\n",
      "cool tomato in refrigerator then take it out close refrigerator fridge ['tomato'] ['tomato']\n",
      "put tomato in microwave close microwave microwave ['tomato', 'microwave'] ['tomato', 'microwave']\n"
     ]
    },
    {
     "name": "stderr",
     "output_type": "stream",
     "text": [
      " 63%|█████████████████████████████████████████████████▎                            | 2923/4627 [00:46<00:28, 58.95it/s]"
     ]
    },
    {
     "name": "stdout",
     "output_type": "stream",
     "text": [
      "pick up tomato that s in front you in garbage garbagecan ['tomato'] ['tomato']\n",
      "turn right take step then turn right to face fridge tomato ['fridge'] ['fridge']\n",
      "chill tomato in fridge then take it back out close door fridge ['tomato'] ['tomato']\n",
      "put tomato in microwave microwave ['tomato', 'microwave'] ['tomato', 'microwave']\n",
      "turn right walk forward turn left to face sink ['cabinet'] ['sinkbasin']\n",
      "pick up tomato that in sink sinkbasin ['tomato'] ['tomato']\n",
      "turn right walk forward turn right to face fridge tomato ['fridge'] ['fridge']\n",
      "put tomato in fridge wait minute take tomato out fridge ['tomato'] ['tomato']\n",
      "turn right walk forward turn left to face stove tomato ['microwave'] ['microwave']\n",
      "put tomato in microwave above stove microwave ['tomato', 'microwave'] ['tomato', 'microwave']\n",
      "take step right face sink ['cabinet'] ['sinkbasin']\n",
      "pick up tomato in sink sinkbasin ['tomato'] ['tomato']\n"
     ]
    },
    {
     "name": "stderr",
     "output_type": "stream",
     "text": [
      " 63%|█████████████████████████████████████████████████▍                            | 2936/4627 [00:46<00:28, 59.68it/s]"
     ]
    },
    {
     "name": "stdout",
     "output_type": "stream",
     "text": [
      "turn right walk to fridge tomato ['fridge'] ['fridge']\n",
      "turn right walk to stove microwave on left tomato ['microwave'] ['microwave']\n",
      "place tomato in microwave microwave ['tomato', 'microwave'] ['tomato', 'microwave']\n",
      "move right to sink ['cabinet'] ['sinkbasin']\n",
      "pick up tomato in sink sinkbasin ['tomato'] ['tomato']\n",
      "head right to fridge tomato ['fridge'] ['fridge']\n",
      "cool tomato for some time take it out fridge ['tomato'] ['tomato']\n",
      "heat right to microwave oven tomato ['microwave'] ['microwave']\n",
      "place tomato in microwave oven microwave ['tomato', 'microwave'] ['tomato', 'microwave']\n",
      "pick up tomato in sink sinkbasin ['tomato'] ['tomato']\n",
      "turn right walk to fridge tomato ['fridge'] ['fridge']\n",
      "turn right walk to stove facing it tomato ['microwave'] ['microwave']\n",
      "place tomato in microwave above stove microwave ['tomato', 'microwave'] ['tomato', 'microwave']\n"
     ]
    },
    {
     "name": "stderr",
     "output_type": "stream",
     "text": [
      " 64%|█████████████████████████████████████████████████▋                            | 2949/4627 [00:47<00:28, 58.47it/s]"
     ]
    },
    {
     "name": "stdout",
     "output_type": "stream",
     "text": [
      "walk around kitchen island face sink ['countertop'] ['sinkbasin']\n",
      "pick up tomato from sink sinkbasin ['tomato'] ['tomato']\n",
      "turn right walk to fridge on right tomato ['fridge'] ['fridge']\n",
      "turn right walk to stove on left look up at microwave tomato ['microwave'] ['microwave']\n",
      "open microwave door put tomato inside close door microwave ['tomato', 'microwave'] ['tomato', 'microwave']\n",
      "go to sink ['countertop'] ['sinkbasin']\n",
      "pick up tomato from sink sinkbasin ['tomato'] ['tomato']\n",
      "take tomato to fridge tomato ['fridge'] ['fridge']\n",
      "chill tomato in fridge then remove fridge ['tomato'] ['tomato']\n",
      "take tomato to microwave tomato ['microwave'] ['microwave']\n",
      "warm tomato in microwave microwave ['tomato'] ['tomato', 'microwave']\n",
      "go forward go around island to counter above dishwasher ['countertop'] ['countertop']\n"
     ]
    },
    {
     "name": "stderr",
     "output_type": "stream",
     "text": [
      " 64%|█████████████████████████████████████████████████▉                            | 2963/4627 [00:47<00:27, 59.69it/s]"
     ]
    },
    {
     "name": "stdout",
     "output_type": "stream",
     "text": [
      "pick up yellow knife from counter countertop ['knife'] ['knife']\n",
      "move right to red tomato on counter between knife spatula knife ['tomato'] ['tomato']\n",
      "slice half tomato on counter tomato ['tomato'] ['tomato']\n",
      "place knife on counter in front tomato tomato ['knife', 'countertop'] ['knife', 'countertop']\n",
      "take one slice tomato from counter knife countertop ['tomato'] ['tomato']\n",
      "turn left go to refrigerator tomato ['fridge'] ['fridge']\n",
      "remove tomato slice after it s been chilled on middle shelf in refrigerator fridge ['tomato'] ['tomato']\n",
      "turn right go back to counter with sliced tomato on top tomato ['countertop'] ['countertop']\n",
      "place chilled tomato slice on counter in front rest tomato countertop ['tomato', 'countertop'] ['tomato', 'countertop']\n",
      "walk to face counter with toaster ['countertop'] ['countertop']\n",
      "pick up sharp knife from counter countertop ['knife'] ['knife']\n",
      "turn right to face statue on counter knife ['cabinet'] ['tomato']\n",
      "cut tomato on counter tomato ['tomato'] ['tomato']\n"
     ]
    },
    {
     "name": "stderr",
     "output_type": "stream",
     "text": [
      " 64%|██████████████████████████████████████████████████▏                           | 2976/4627 [00:47<00:28, 58.85it/s]"
     ]
    },
    {
     "name": "stdout",
     "output_type": "stream",
     "text": [
      "put knife on counter tomato ['butterknife', 'countertop'] ['knife', 'countertop']\n",
      "pick up tomato slice from counter knife countertop ['tomato'] ['tomato']\n",
      "walk to face fridge tomato ['fridge'] ['fridge']\n",
      "chill remove tomato slice from fridge fridge ['tomato'] ['tomato']\n",
      "walk to face counter with statue tomato ['countertop'] ['countertop']\n",
      "put tomato slice on counter countertop ['tomato', 'countertop'] ['tomato', 'countertop']\n",
      "move forward to table by toaster ['diningtable'] ['countertop']\n",
      "pick up knife from table countertop ['knife'] ['knife']\n",
      "move right to table knife ['bread'] ['tomato']\n",
      "slice tomato on table tomato ['tomato'] ['tomato']\n",
      "drop knife on table tomato ['butterknife', 'diningtable'] ['knife', 'countertop']\n",
      "pick up slice tomato knife countertop ['tomato'] ['tomato']\n"
     ]
    },
    {
     "name": "stderr",
     "output_type": "stream",
     "text": [
      " 65%|██████████████████████████████████████████████████▎                           | 2988/4627 [00:47<00:28, 58.49it/s]"
     ]
    },
    {
     "name": "stdout",
     "output_type": "stream",
     "text": [
      "move left to fridge tomato ['fridge'] ['fridge']\n",
      "place tomato to chill then take it out fridge ['tomato'] ['tomato']\n",
      "move right to table tomato ['diningtable'] ['countertop']\n",
      "drop slice on table countertop ['potato', 'countertop'] ['tomato', 'countertop']\n",
      "go forward turn right go forward turn left turn left to edge counter ['countertop'] ['countertop']\n",
      "pick up knife on counter countertop ['knife'] ['butterknife']\n",
      "turn right go to counter to right stove butterknife ['lettuce'] ['tomato']\n",
      "slice tomato on counter tomato ['tomato'] ['tomato']\n",
      "turn left go to fridge tomato ['fridge'] ['fridge']\n",
      "put knife in fridge fridge ['knife', 'fridge'] ['butterknife', 'fridge']\n",
      "turn right go forward turn left after stove butterknife fridge ['countertop'] ['countertop']\n"
     ]
    },
    {
     "name": "stderr",
     "output_type": "stream",
     "text": [
      "\r",
      " 65%|██████████████████████████████████████████████████▍                           | 2995/4627 [00:47<00:27, 59.24it/s]"
     ]
    },
    {
     "name": "stdout",
     "output_type": "stream",
     "text": [
      "pick up tomato slice from counter countertop ['tomato'] ['tomato']\n",
      "turn left go to fridge tomato ['fridge'] ['fridge']\n",
      "put tomato slice in fridge wait pick up tomato slice from fridge fridge ['tomato'] ['tomato']\n",
      "turn right go forward turn left after stove tomato ['countertop'] ['countertop']\n",
      "put tomato slice on counter countertop ['tomato', 'countertop'] ['tomato', 'countertop']\n",
      "turn right then right again face counter to your right ['countertop'] ['countertop']\n",
      "take knife off counter in front you countertop ['knife'] ['butterknife']\n",
      "turn right face counter in front you butterknife ['lettuce'] ['tomato']\n",
      "slice tomato above counter in front you tomato ['tomato'] ['tomato']\n",
      "turn left face fridge to your right tomato ['fridge'] ['fridge']\n",
      "place knife inside fridge in front you close it fridge ['knife', 'fridge'] ['butterknife', 'fridge']\n",
      "turn right face counter to your left butterknife fridge ['countertop'] ['countertop']\n"
     ]
    },
    {
     "name": "stderr",
     "output_type": "stream",
     "text": [
      " 65%|██████████████████████████████████████████████████▋                           | 3007/4627 [00:48<00:27, 58.29it/s]"
     ]
    },
    {
     "name": "stdout",
     "output_type": "stream",
     "text": [
      "take tomato slice off counter in front you countertop ['tomato'] ['tomato']\n",
      "turn left face fridge to your right tomato ['fridge'] ['fridge']\n",
      "place tomato inside fridge then take it out fridge ['tomato'] ['tomato']\n",
      "turn right face counter to your left tomato ['countertop'] ['countertop']\n",
      "place tomato slice on counter in front you countertop ['tomato', 'countertop'] ['tomato', 'countertop']\n",
      "pick up knife from center island countertop ['knife'] ['butterknife']\n",
      "walk to counter next to stove butterknife ['lettuce'] ['tomato']\n",
      "cut tomato on counter with knife tomato ['tomato'] ['tomato']\n",
      "take knife to fridge tomato ['fridge'] ['fridge']\n",
      "put knife in fridge fridge ['knife', 'fridge'] ['butterknife', 'fridge']\n",
      "go back to tomato slice on counter butterknife fridge ['countertop'] ['countertop']\n",
      "pick up tomato slice from counter countertop ['tomato'] ['tomato']\n"
     ]
    },
    {
     "name": "stderr",
     "output_type": "stream",
     "text": [
      " 65%|██████████████████████████████████████████████████▉                           | 3019/4627 [00:48<00:28, 57.27it/s]"
     ]
    },
    {
     "name": "stdout",
     "output_type": "stream",
     "text": [
      "take tomato to fridge tomato ['fridge'] ['fridge']\n",
      "put tomato in fridge take it back out fridge ['tomato'] ['tomato']\n",
      "take tomato slice back to counter it came from tomato ['countertop'] ['countertop']\n",
      "set tomato slice down on counter countertop ['tomato', 'countertop'] ['tomato', 'countertop']\n",
      "pick up knife on left next to roll paper towel countertop ['knife'] ['butterknife']\n",
      "turn right take step turn left to face counter butterknife ['potato'] ['tomato']\n",
      "slice tomato tomato ['tomato'] ['tomato']\n",
      "turn right walk to wall at wall turn left face counter tomato ['countertop'] ['countertop']\n",
      "put knife down in front keurig countertop ['butterknife', 'countertop'] ['butterknife', 'countertop']\n",
      "pick up right end tomato countertop ['tomato'] ['tomato']\n",
      "turn left walk forward with tomato slice to front refrigerator face refrigerator tomato ['fridge'] ['fridge']\n"
     ]
    },
    {
     "name": "stderr",
     "output_type": "stream",
     "text": [
      " 66%|███████████████████████████████████████████████████                           | 3031/4627 [00:48<00:28, 55.60it/s]"
     ]
    },
    {
     "name": "stdout",
     "output_type": "stream",
     "text": [
      "put tomato slice down to left knife countertop ['tomato', 'countertop'] ['tomato', 'countertop']\n",
      "pick up knife directly in front loaf bread on counter countertop ['butterknife'] ['butterknife']\n",
      "move to right side counter near stove butterknife ['countertop'] ['tomato']\n",
      "cut tomato on back counter to left vase into slice tomato ['tomato'] ['tomato']\n",
      "place knife on drip pan coffee maker countertop ['knife', 'countertop'] ['butterknife', 'countertop']\n",
      "pick up one tomato slice on counter countertop ['tomato'] ['tomato']\n",
      "turn to refrigerator on your left tomato ['fridge'] ['fridge']\n",
      "place tomato on counter to left knife countertop ['tomato', 'countertop'] ['tomato', 'countertop']\n",
      "pick up table knife on left from kitchen counter countertop ['butterknife'] ['butterknife']\n",
      "carry table knife move to right to reach tomato on kitchen counter butterknife ['tomato'] ['tomato']\n",
      "slice tomato on kitchen counter using table knife tomato ['tomato'] ['tomato']\n",
      "take table knife turn to right then left face kitchen counter tomato ['drawer'] ['countertop']\n"
     ]
    },
    {
     "name": "stderr",
     "output_type": "stream",
     "text": [
      " 66%|███████████████████████████████████████████████████▎                          | 3043/4627 [00:48<00:28, 55.79it/s]"
     ]
    },
    {
     "name": "stdout",
     "output_type": "stream",
     "text": [
      "place knife next to coffee maker on kitchen counter countertop ['knife', 'countertop'] ['butterknife', 'countertop']\n",
      "turn left then turn to right face kitchen counter butterknife countertop ['countertop'] ['countertop']\n",
      "pick up slice tomato countertop ['tomato'] ['tomato']\n",
      "open fridge door place sliced tomato onto shelf in fridge close fridge door fridge ['tomato', 'fridge'] ['tomato']\n",
      "place sliced tomato onto kitchen counter next to knife near coffee maker countertop ['tomato', 'countertop'] ['tomato', 'countertop']\n",
      "walk forward then turn right to approach sink in kitchen ['countertop'] ['sinkbasin']\n",
      "pick up green apple from sink sinkbasin ['apple'] ['apple']\n",
      "turn around walk up to microwave above stove apple ['microwave'] ['microwave']\n",
      "put apple in microwave cook it then remove it microwave ['apple'] ['apple']\n",
      "turn left walk to fridge apple ['fridge'] ['fridge']\n",
      "put apple in fridge to left bread loaf fridge ['apple', 'fridge'] ['apple', 'fridge']\n",
      "walk forward around kitchen island to get to sink ['countertop'] ['sinkbasin']\n"
     ]
    },
    {
     "name": "stderr",
     "output_type": "stream",
     "text": [
      " 66%|███████████████████████████████████████████████████▌                          | 3056/4627 [00:49<00:27, 57.30it/s]"
     ]
    },
    {
     "name": "stdout",
     "output_type": "stream",
     "text": [
      "pick up green apple in sink sinkbasin ['apple'] ['apple']\n",
      "turn around go to microwave apple ['microwave'] ['microwave']\n",
      "heat apple in microwave microwave ['apple'] ['apple']\n",
      "walk left to stand in front fridge apple ['fridge'] ['fridge']\n",
      "put apple on middle shelf in middle other two food item fridge ['apple', 'fridge'] ['apple', 'fridge']\n",
      "turn go to sink ['countertop'] ['sinkbasin']\n",
      "pick up green apple that on right side sink sinkbasin ['apple'] ['apple']\n",
      "with apple in hand turn go to microwave above stove apple ['microwave'] ['microwave']\n",
      "with apple in hand go to fridge apple ['fridge'] ['fridge']\n",
      "move forward then turn right to find sink in island ['cabinet'] ['sinkbasin']\n",
      "pick up apple from right side sink sinkbasin ['apple'] ['apple']\n",
      "carry apple turn around few step right to stove apple ['microwave'] ['microwave']\n"
     ]
    },
    {
     "name": "stderr",
     "output_type": "stream",
     "text": [
      " 66%|███████████████████████████████████████████████████▋                          | 3068/4627 [00:49<00:27, 56.10it/s]"
     ]
    },
    {
     "name": "stdout",
     "output_type": "stream",
     "text": [
      "hold apple move few step to left locate fridge apple ['sidetable'] ['fridge']\n",
      "open fridge place apple inside shut door fridge ['apple', 'fridge'] ['apple', 'fridge']\n",
      "go straight then turn right towards sink stop in front sink ['countertop'] ['sinkbasin']\n",
      "pick up green apple from sink sinkbasin ['apple'] ['apple']\n",
      "turn around go in front stop top apple ['countertop'] ['microwave']\n",
      "put apple in microwave turn on microwave remove apple from microwave microwave ['apple'] ['apple']\n",
      "turn left go in front refrigerator apple ['fridge'] ['fridge']\n",
      "put apple in refrigerator in front to left bread fridge ['apple', 'fridge'] ['apple', 'fridge']\n",
      "cross room take right then turn right to face sink ['countertop'] ['sinkbasin']\n",
      "pick up green apple from sink sinkbasin ['apple'] ['apple']\n",
      "turn around face microwave apple ['sidetable'] ['microwave']\n"
     ]
    },
    {
     "name": "stderr",
     "output_type": "stream",
     "text": [
      " 67%|███████████████████████████████████████████████████▉                          | 3080/4627 [00:49<00:27, 56.89it/s]"
     ]
    },
    {
     "name": "stdout",
     "output_type": "stream",
     "text": [
      "put apple in microwave heat it then take it out close door microwave ['apple'] ['apple']\n",
      "go left face fridge on right apple ['fridge'] ['fridge']\n",
      "put apple in fridge shut door fridge ['apple', 'fridge'] ['apple', 'fridge']\n",
      "pick up rightmost green apple on counter countertop ['apple'] ['apple']\n",
      "open fridge door place apple inside in front lettuce close door fridge ['apple', 'fridge'] ['apple', 'fridge']\n",
      "pick up green apple to left coffee pot countertop ['apple'] ['apple']\n",
      "turn left position yourself in front stove apple ['microwave'] ['microwave']\n",
      "cook apple in microwave take it back out close door microwave ['apple'] ['apple']\n",
      "turn left walk to front fridge so you are facing it apple ['fridge'] ['fridge']\n",
      "place apple on middle middle shelf towards front fridge ['apple', 'fridge'] ['apple', 'fridge']\n",
      "pick up green apple next to stove countertop ['apple'] ['apple']\n",
      "walk slightly to left to stove look up to microwave on top stove apple ['microwave'] ['microwave']\n"
     ]
    },
    {
     "name": "stderr",
     "output_type": "stream",
     "text": [
      " 67%|████████████████████████████████████████████████████▏                         | 3093/4627 [00:49<00:26, 58.87it/s]"
     ]
    },
    {
     "name": "stdout",
     "output_type": "stream",
     "text": [
      "walk to left to go to fridge apple ['fridge'] ['fridge']\n",
      "put apple in fridge between lettuce potato fridge ['apple', 'fridge'] ['apple', 'fridge']\n",
      "walk straight towards fridge then turn right head to coffee maker on your left ['countertop'] ['countertop']\n",
      "pick up apple on left side coffee maker countertop ['apple'] ['apple']\n",
      "turn to your left then walk straight face microwave on your right apple ['microwave'] ['microwave']\n",
      "open microwave warm apple then get it again close microwave microwave ['apple'] ['apple']\n",
      "turn to your left walk straight head to fridge apple ['fridge'] ['fridge']\n",
      "open fridge put in apple then close fridge fridge ['apple', 'fridge'] ['apple', 'fridge']\n",
      "walk towards fridge turn right towards window turn left to face coffee maker ['coffeemachine'] ['countertop']\n",
      "pick up left green apple on counter countertop ['apple'] ['apple']\n",
      "turn left walk to middle stove then turn right to face it apple ['microwave'] ['microwave']\n",
      "place apple inside microwave directly above stove to heat it take apple out microwave ['apple'] ['apple']\n"
     ]
    },
    {
     "name": "stderr",
     "output_type": "stream",
     "text": [
      " 67%|████████████████████████████████████████████████████▍                         | 3107/4627 [00:49<00:24, 61.19it/s]"
     ]
    },
    {
     "name": "stdout",
     "output_type": "stream",
     "text": [
      "turn left walk towards fridge turn right to face fridge apple ['fridge'] ['fridge']\n",
      "open fridge place apple in front lettuce fridge ['apple', 'fridge'] ['apple', 'fridge']\n",
      "pick up apple on counter to left coffee maker countertop ['apple'] ['apple']\n",
      "turn left go straight then turn right look up to face microwave apple ['microwave'] ['microwave']\n",
      "heat apple in microwave microwave ['apple'] ['apple']\n",
      "go to fridge to your left apple ['fridge'] ['fridge']\n",
      "put apple in fridge to right lettuce fridge ['apple', 'fridge'] ['apple', 'fridge']\n",
      "turn right face sink ['cabinet'] ['sinkbasin']\n",
      "pick up apple next to drain sinkbasin ['apple'] ['apple']\n",
      "turn around face microwave above stove apple ['microwave'] ['microwave']\n",
      "turn left head to refrigerator apple ['fridge'] ['fridge']\n",
      "turn right to sink ['countertop'] ['sinkbasin']\n",
      "grab apple from sink sinkbasin ['apple'] ['apple']\n"
     ]
    },
    {
     "name": "stderr",
     "output_type": "stream",
     "text": [
      "\r",
      " 67%|████████████████████████████████████████████████████▍                         | 3114/4627 [00:49<00:24, 61.76it/s]"
     ]
    },
    {
     "name": "stdout",
     "output_type": "stream",
     "text": [
      "turn around to microwave apple ['microwave'] ['microwave']\n",
      "open microwave put apple in heat apple for while take apple out microwave ['apple'] ['apple']\n",
      "turn around walk to refrigerator on right apple ['fridge'] ['fridge']\n",
      "open refrigerator put apple in fridge ['apple', 'fridge'] ['apple', 'fridge']\n",
      "turn right to face sink ['countertop'] ['sinkbasin']\n",
      "pick up green apple from sink located to right spoon sinkbasin ['apple'] ['apple']\n",
      "turn around to face stove microwave apple ['microwave'] ['microwave']\n",
      "open fridge door place apple to right lettuce close fridge door fridge ['apple', 'fridge'] ['apple', 'fridge']\n",
      "turn right face sink ['cabinet'] ['sinkbasin']\n",
      "pick up apple in sink sinkbasin ['apple'] ['apple']\n",
      "turn around walk step right to microwave apple ['microwave'] ['microwave']\n",
      "heat apple in microwave microwave ['apple'] ['apple']\n",
      "turn left walk to fridge on right apple ['fridge'] ['fridge']\n"
     ]
    },
    {
     "name": "stderr",
     "output_type": "stream",
     "text": [
      " 68%|████████████████████████████████████████████████████▋                         | 3128/4627 [00:50<00:24, 62.41it/s]"
     ]
    },
    {
     "name": "stdout",
     "output_type": "stream",
     "text": [
      "place apple in fridge to right lettuce fridge ['apple', 'fridge'] ['apple', 'fridge']\n",
      "turn right to face silver sink ['egg'] ['sinkbasin']\n",
      "pick up green apple inside sink next to spoon sinkbasin ['apple'] ['apple']\n",
      "turn left head towards silver stove on your left apple ['pot'] ['microwave']\n",
      "open fridge door place apple on middle shelf to right lettuce close door fridge ['apple', 'fridge'] ['apple', 'fridge']\n",
      "turn right towards sink ['cabinet'] ['sinkbasin']\n",
      "pick up apple in sink sinkbasin ['apple'] ['apple']\n",
      "turn left walk forward then turn left at stove apple ['pan'] ['microwave']\n",
      "place apple in microwave remove it microwave ['apple'] ['apple']\n",
      "turn left walk to refrigerator apple ['fridge'] ['fridge']\n",
      "put apple in refrigerator fridge ['apple', 'fridge'] ['apple', 'fridge']\n",
      "walk forward bit to garbage bin on your left ['garbagecan'] ['garbagecan']\n",
      "grab apple out garbage bin garbagecan ['apple'] ['apple']\n"
     ]
    },
    {
     "name": "stderr",
     "output_type": "stream",
     "text": [
      " 68%|████████████████████████████████████████████████████▉                         | 3142/4627 [00:50<00:23, 63.66it/s]"
     ]
    },
    {
     "name": "stdout",
     "output_type": "stream",
     "text": [
      "place apple inside microwave cook it then take it back out microwave ['apple'] ['apple']\n",
      "place apple inside garbage bin garbagecan ['apple', 'garbagecan'] ['apple', 'garbagecan']\n",
      "turn left go to front trash can ['garbagecan'] ['garbagecan']\n",
      "pick up apple on right in trash can garbagecan ['apple'] ['apple']\n",
      "turn left then go right to stove apple ['microwave'] ['microwave']\n",
      "put apple in microwave above stove cook apple then take it out microwave ['apple'] ['apple']\n",
      "turn left go to fridge turn left again go to trash can apple ['garbagecan'] ['garbagecan']\n",
      "put cooked apple in trash can next to other apple garbagecan ['apple', 'garbagecan'] ['apple', 'garbagecan']\n",
      "move around trash can in front you face trash can by end island ['garbagecan'] ['garbagecan']\n",
      "pick up apple on right side trash can garbagecan ['apple'] ['apple']\n",
      "heat apple in microwave stove microwave ['apple'] ['apple']\n",
      "put apple in right side trash can garbagecan ['apple', 'garbagecan'] ['apple', 'garbagecan']\n",
      "turn left move to end island above trash can ['countertop'] ['countertop']\n",
      "pick up green apple from counter countertop ['apple'] ['apple']\n"
     ]
    },
    {
     "name": "stderr",
     "output_type": "stream",
     "text": [
      " 68%|█████████████████████████████████████████████████████▏                        | 3156/4627 [00:50<00:23, 63.06it/s]"
     ]
    },
    {
     "name": "stdout",
     "output_type": "stream",
     "text": [
      "turn left move across room to microwave on left apple ['microwave'] ['microwave']\n",
      "warm apple in microwave for few second then take it back out microwave ['apple'] ['apple']\n",
      "turn left head back to end island where trash can located apple ['countertop'] ['garbagecan']\n",
      "throw apple into trash can garbagecan ['apple', 'garbagecan'] ['apple', 'garbagecan']\n",
      "turn left walk towards counter in front trash bin ['garbagecan'] ['countertop']\n",
      "pick up apple on counter countertop ['apple'] ['apple']\n",
      "turn left right head to microwave on your left apple ['microwave'] ['microwave']\n",
      "open microwave put in out apple then close microwave microwave ['apple'] ['apple']\n",
      "turn left walk forward then turn left face trash bin apple ['garbagecan'] ['garbagecan']\n",
      "drop apple in trash bin garbagecan ['apple', 'garbagecan'] ['apple', 'garbagecan']\n",
      "turn to left then left again to face trash can ['garbagecan'] ['countertop']\n",
      "pick up apple from island on closer side countertop ['apple'] ['apple']\n",
      "carry apple turn to left then right look up to microwave apple ['microwave'] ['microwave']\n"
     ]
    },
    {
     "name": "stderr",
     "output_type": "stream",
     "text": [
      " 69%|█████████████████████████████████████████████████████▍                        | 3170/4627 [00:50<00:23, 61.58it/s]"
     ]
    },
    {
     "name": "stdout",
     "output_type": "stream",
     "text": [
      "carry apple turn to left then left again to face trash can apple ['garbagecan'] ['garbagecan']\n",
      "place apple in trash can on floor garbagecan ['apple', 'garbagecan'] ['apple', 'garbagecan']\n",
      "walk forward then turn right stand on left side trash bin ['garbagecan'] ['garbagecan']\n",
      "pick up apple in trash bin garbagecan ['apple'] ['apple']\n",
      "turn left then turn right head to microwave on your left apple ['microwave'] ['microwave']\n",
      "open microwave put in microwave then take it out close microwave microwave ['potato'] ['apple']\n",
      "turn left walk straight then turn left walk few step face trash bin apple ['garbagecan'] ['garbagecan']\n",
      "put in apple in trash bin garbagecan ['apple', 'garbagecan'] ['apple', 'garbagecan']\n",
      "go forward turn to right to face trash can next to counter ['garbagecan'] ['garbagecan']\n",
      "take green apple on right out trash can garbagecan ['apple'] ['apple']\n",
      "turn around go right then turn to left to face microwave above stove apple ['microwave'] ['microwave']\n",
      "put apple in microwave shut door then open door take apple out again microwave ['apple'] ['apple']\n"
     ]
    },
    {
     "name": "stderr",
     "output_type": "stream",
     "text": [
      " 69%|█████████████████████████████████████████████████████▋                        | 3184/4627 [00:51<00:22, 62.90it/s]"
     ]
    },
    {
     "name": "stdout",
     "output_type": "stream",
     "text": [
      "go left then turn to left again to face trash can apple ['garbagecan'] ['garbagecan']\n",
      "put apple in trash can garbagecan ['apple', 'garbagecan'] ['apple', 'garbagecan']\n",
      "walk to refrigerator turn right turn right again walk to garbage can ['garbagecan'] ['garbagecan']\n",
      "pick up apple that in near right corner can garbagecan ['apple'] ['apple']\n",
      "turn left walk to stove turn left to face stove apple ['pot'] ['microwave']\n",
      "put apple in microwave heat it take it out microwave ['apple'] ['apple']\n",
      "put apple in garbage can to right other apple garbagecan ['apple', 'garbagecan'] ['apple', 'garbagecan']\n",
      "turn toward fridge turn right go towards kitchen sink ['egg'] ['sinkbasin']\n",
      "pick up green apple out sink sinkbasin ['apple'] ['apple']\n",
      "turn around walk towards microwave with apple open microwave door apple ['microwave'] ['microwave']\n",
      "turn around walk back to sink apple ['microwave'] ['sinkbasin']\n",
      "put apple in sink sinkbasin ['apple', 'sinkbasin'] ['apple', 'sinkbasin']\n",
      "turn left go straight turn right into kitchen ['stoveburner'] ['sinkbasin']\n"
     ]
    },
    {
     "name": "stderr",
     "output_type": "stream",
     "text": [
      " 69%|█████████████████████████████████████████████████████▉                        | 3199/4627 [00:51<00:21, 65.33it/s]"
     ]
    },
    {
     "name": "stdout",
     "output_type": "stream",
     "text": [
      "pick up apple in sink sinkbasin ['apple'] ['apple']\n",
      "hold apple open microwave door apple ['microwave'] ['microwave']\n",
      "place apple into microwave close microwave microwave ['apple', 'microwave'] ['apple']\n",
      "cook apple in microwave open microwave grab apple apple ['apple'] ['sinkbasin']\n",
      "turn around towards sink throw apple into sink sinkbasin ['apple'] ['apple', 'sinkbasin']\n",
      "turn to left then to right then to sink on right ['sinkbasin'] ['sinkbasin']\n",
      "pick up apple to left egg sinkbasin ['apple'] ['apple']\n",
      "turn around go to microwave in front you apple ['microwave'] ['microwave']\n",
      "heat apple in microwave microwave ['apple'] ['apple']\n",
      "return to sink behind you apple ['microwave'] ['sinkbasin']\n",
      "put apple in sink to right fork sinkbasin ['apple', 'sinkbasin'] ['apple', 'sinkbasin']\n",
      "pick up green apple from left side sink sinkbasin ['apple'] ['apple']\n",
      "turn around take apple to microwave behind you apple ['microwave'] ['microwave']\n",
      "put apple in microwave cook it remove it microwave ['apple'] ['apple']\n"
     ]
    },
    {
     "name": "stderr",
     "output_type": "stream",
     "text": [
      "\r",
      " 69%|██████████████████████████████████████████████████████                        | 3207/4627 [00:51<00:21, 66.27it/s]"
     ]
    },
    {
     "name": "stdout",
     "output_type": "stream",
     "text": [
      "turn around to your left go back to sink apple ['microwave'] ['sinkbasin']\n",
      "put apple back in sink sinkbasin ['apple', 'sinkbasin'] ['apple', 'sinkbasin']\n",
      "turn around turn to left go to sink to your right ['countertop'] ['sinkbasin']\n",
      "pick up apple that to right fork sinkbasin ['apple'] ['apple']\n",
      "turn around to microwave above stove apple ['microwave'] ['microwave']\n",
      "cook apple in microwave microwave ['apple'] ['apple']\n",
      "turn around to sink behind you apple ['microwave'] ['sinkbasin']\n",
      "place apple in sink to right fork sinkbasin ['apple', 'sinkbasin'] ['apple', 'sinkbasin']\n",
      "move to sink ['cabinet'] ['sinkbasin']\n",
      "pick up apple in sink on left sinkbasin ['apple'] ['apple']\n",
      "bring apple to microwave apple ['microwave'] ['microwave']\n",
      "heat apple in microwave microwave ['apple'] ['apple']\n",
      "bring apple to sink apple ['sinkbasin'] ['sinkbasin']\n",
      "put apple in sink to left other apple sinkbasin ['apple', 'sinkbasin'] ['apple', 'sinkbasin']\n"
     ]
    },
    {
     "name": "stderr",
     "output_type": "stream",
     "text": [
      " 70%|██████████████████████████████████████████████████████▎                       | 3221/4627 [00:51<00:21, 64.62it/s]"
     ]
    },
    {
     "name": "stdout",
     "output_type": "stream",
     "text": [
      "take apple from sink sinkbasin ['apple'] ['apple']\n",
      "turn around look up at microwave above stove apple ['microwave'] ['microwave']\n",
      "heat apple in microwave then take it out microwave ['apple'] ['apple']\n",
      "turn around face sink apple ['cabinet'] ['sinkbasin']\n",
      "put apple in sink sinkbasin ['apple', 'sinkbasin'] ['apple', 'sinkbasin']\n",
      "pick up green apple in corner sink to right mug sinkbasin ['apple'] ['apple']\n",
      "turn left move to oven then turn left to face microwave above oven apple ['microwave'] ['microwave']\n",
      "turn left move to sink in kitchen island apple ['sinkbasin'] ['sinkbasin']\n",
      "place green apple in sink between two onion in front drain sinkbasin ['apple', 'sinkbasin'] ['apple', 'sinkbasin']\n",
      "pick up green apple that in sink sinkbasin ['apple'] ['apple']\n",
      "turn around go to microwave that above stove apple ['microwave'] ['microwave']\n",
      "turn around go back to sink apple ['microwave'] "
     ]
    },
    {
     "name": "stderr",
     "output_type": "stream",
     "text": [
      " 70%|██████████████████████████████████████████████████████▌                       | 3235/4627 [00:51<00:22, 63.20it/s]"
     ]
    },
    {
     "name": "stdout",
     "output_type": "stream",
     "text": [
      "['sinkbasin']\n",
      "put apple in sink between two egg sinkbasin ['apple', 'sinkbasin'] ['apple', 'sinkbasin']\n",
      "turn around walk to sink that on your right ['spoon'] ['sinkbasin']\n",
      "pick up green apple out sink sinkbasin ['apple'] ['apple']\n",
      "turn around walk to microwave that above stove apple ['microwave'] ['microwave']\n",
      "open microwave place apple inside to left green cup microwave ['apple', 'microwave'] ['apple']\n",
      "close door turn microwave on then open microwave pick up apple apple ['diningtable'] ['sinkbasin']\n",
      "turn around place apple in sink between two egg closest to you sinkbasin ['apple', 'sinkbasin'] ['apple', 'sinkbasin']\n",
      "pick up knife that s in front you countertop ['butterknife'] ['butterknife']\n",
      "cut apple in sink into three chunk apple ['apple'] ['apple']\n",
      "put knife in sink horizontally near bottom left corner sink apple ['knife', 'sinkbasin'] ['butterknife', 'sinkbasin']\n",
      "pick up one chunk apple butterknife sinkbasin ['potato'] ['apple']\n",
      "turn left take one step then turn left walk to microwave apple ['microwave'] ['microwave']\n",
      "cook chunk apple in microwave then take it back out close door microwave ['apple'] ['apple']\n"
     ]
    },
    {
     "name": "stderr",
     "output_type": "stream",
     "text": [
      " 70%|██████████████████████████████████████████████████████▊                       | 3249/4627 [00:52<00:22, 62.11it/s]"
     ]
    },
    {
     "name": "stdout",
     "output_type": "stream",
     "text": [
      "put chunk apple on counter please countertop ['apple', 'countertop'] ['apple', 'countertop']\n",
      "turn around go to counter on right stove ['countertop'] ['countertop']\n",
      "pick up gray knife on counter countertop ['butterknife'] ['butterknife']\n",
      "turn around go to front sink on right butterknife ['apple'] ['apple']\n",
      "cut green apple inside sink apple ['apple'] ['apple']\n",
      "place gray knife inside sink apple ['butterknife', 'sinkbasin'] ['butterknife', 'sinkbasin']\n",
      "pick up one piece apple out from sink butterknife sinkbasin ['apple'] ['apple']\n",
      "turn around go to microwave above stove apple ['microwave'] ['microwave']\n",
      "heat cut apple in front green cup in microwave take it out microwave ['apple'] ['apple']\n",
      "turn around go to left side kitchen island apple ['diningtable'] ['countertop']\n",
      "place heated apple on counter towards edge countertop ['apple', 'countertop'] ['apple', 'countertop']\n",
      "go to coffeemaker ['coffeemachine'] ['countertop']\n",
      "pick up knife from counter countertop ['knife'] ['butterknife']\n"
     ]
    },
    {
     "name": "stderr",
     "output_type": "stream",
     "text": [
      " 71%|███████████████████████████████████████████████████████                       | 3263/4627 [00:52<00:21, 63.41it/s]"
     ]
    },
    {
     "name": "stdout",
     "output_type": "stream",
     "text": [
      "go to sink butterknife ['sinkbasin'] ['apple']\n",
      "cut apple in sink apple ['apple'] ['apple']\n",
      "put knife down in sink apple ['knife', 'sinkbasin'] ['butterknife', 'sinkbasin']\n",
      "pick up an apple slice butterknife sinkbasin ['apple'] ['apple']\n",
      "go to microwave apple ['microwave'] ['microwave']\n",
      "heat apple slice microwave ['apple'] ['apple']\n",
      "go to kitchen island apple ['countertop'] ['countertop']\n",
      "put apple slice down countertop ['apple', 'countertop'] ['apple', 'countertop']\n",
      "turn around move forward to counter that to left stove ['countertop'] ['countertop']\n",
      "pick up butter knife that directly in front tan bowl countertop ['butterknife'] ['butterknife']\n",
      "slice green apple that in trash can with knife apple ['apple'] ['apple']\n",
      "put knife in to trash can behind apple apple ['butterknife', 'garbagecan'] ['butterknife', 'garbagecan']\n",
      "remove slice green apple from trash can butterknife garbagecan ['apple'] ['apple']\n"
     ]
    },
    {
     "name": "stderr",
     "output_type": "stream",
     "text": [
      " 71%|███████████████████████████████████████████████████████▏                      | 3277/4627 [00:52<00:21, 63.15it/s]"
     ]
    },
    {
     "name": "stdout",
     "output_type": "stream",
     "text": [
      "put apple slice on to counter countertop ['apple', 'countertop'] ['apple', 'countertop']\n",
      "pick up butter knife that in front bowl on counter countertop ['butterknife'] ['butterknife']\n",
      "cut apple that in garbage can into slice apple ['apple'] ['apple']\n",
      "put knife in garbage can apple ['butterknife', 'garbagecan'] ['butterknife', 'garbagecan']\n",
      "pick up slice apple that in garbage can butterknife garbagecan ['apple'] ['apple']\n",
      "put slice apple on counter to right statue countertop ['apple', 'countertop'] ['apple', 'countertop']\n",
      "go to left stove ['countertop'] ['countertop']\n",
      "take knife from counter countertop ['knife'] ['butterknife']\n",
      "go to bin butterknife ['apple'] ['apple']\n",
      "cut an apple in bin apple ['apple'] ['apple']\n",
      "put knife in bin apple ['knife', 'garbagecan'] ['butterknife', 'garbagecan']\n",
      "take an apple piece butterknife garbagecan ['apple'] ['apple']\n",
      "go to microwave apple ['microwave'] ['microwave']\n"
     ]
    },
    {
     "name": "stderr",
     "output_type": "stream",
     "text": [
      "\r",
      " 71%|███████████████████████████████████████████████████████▎                      | 3284/4627 [00:52<00:21, 63.81it/s]"
     ]
    },
    {
     "name": "stdout",
     "output_type": "stream",
     "text": [
      "heat apple microwave ['apple'] ['apple']\n",
      "go to kitchen island apple ['countertop'] ['countertop']\n",
      "put apple down on kitchen island countertop ['apple', 'countertop'] ['apple', 'countertop']\n",
      "pick up knife on counter countertop ['knife'] ['knife']\n",
      "take step to right to face counter knife ['lettuce'] ['apple']\n",
      "cut apple on counter into three piece apple ['apple'] ['apple']\n",
      "turn around step forward to face sink apple ['sinkbasin'] ['sinkbasin']\n",
      "place knife in sink sinkbasin ['knife', 'sinkbasin'] ['knife', 'sinkbasin']\n",
      "turn around step forward to face apple on counter knife sinkbasin ['countertop'] ['countertop']\n",
      "pick up piece apple on counter countertop ['apple'] ['apple']\n",
      "take step to right look up to face microwave apple ['microwave'] ['microwave']\n",
      "head piece apple in microwave then remove it microwave ['apple'] ['apple']\n",
      "take step to right to face counter to right stove apple ['countertop'] ['countertop']\n"
     ]
    },
    {
     "name": "stderr",
     "output_type": "stream",
     "text": [
      " 71%|███████████████████████████████████████████████████████▌                      | 3298/4627 [00:52<00:21, 63.03it/s]"
     ]
    },
    {
     "name": "stdout",
     "output_type": "stream",
     "text": [
      "place piece apple on counter countertop ['apple', 'countertop'] ['apple', 'countertop']\n",
      "turn left go past counter turn left walk to toaster turn to face counter ['countertop'] ['countertop']\n",
      "pick up yellow-handled knife from counter countertop ['knife'] ['knife']\n",
      "walk to right toward stove turn to face counter with apple on it knife ['apple'] ['apple']\n",
      "cut apple on counter in third apple ['apple'] ['apple']\n",
      "turn completely around to face sink apple ['sinkbasin'] ['sinkbasin']\n",
      "put knife in sink sinkbasin ['knife', 'sinkbasin'] ['knife', 'sinkbasin']\n",
      "turn around to face counter knife sinkbasin ['countertop'] ['countertop']\n",
      "pick up one piece apple countertop ['apple'] ['apple']\n",
      "move little to your right to face stove microwave apple ['microwave'] ['microwave']\n",
      "put apple in microwave heat it take it out microwave microwave ['apple'] ['apple']\n",
      "move little to your right to counter with coffeemaker on it apple ['sidetable'] ['countertop']\n",
      "put apple to left left-hand coffee mug on counter countertop ['apple', 'countertop'] ['apple', 'countertop']\n"
     ]
    },
    {
     "name": "stderr",
     "output_type": "stream",
     "text": [
      " 72%|███████████████████████████████████████████████████████▊                      | 3312/4627 [00:53<00:20, 63.27it/s]"
     ]
    },
    {
     "name": "stdout",
     "output_type": "stream",
     "text": [
      "pick up knife that on counter countertop ['knife'] ['knife']\n",
      "turn right take few step turn left to face counter to left stove knife ['bread'] ['apple']\n",
      "slice apple that on counter apple ['apple'] ['apple']\n",
      "turn around to face sink apple ['microwave'] ['sinkbasin']\n",
      "put knife in sink sinkbasin ['knife', 'sinkbasin'] ['knife', 'sinkbasin']\n",
      "turn around to face counter knife sinkbasin ['countertop'] ['countertop']\n",
      "pick up apple slice that on counter countertop ['apple'] ['apple']\n",
      "take two step to right to face stove apple ['microwave'] ['microwave']\n",
      "take few step to right to face coffee maker apple ['countertop'] ['countertop']\n",
      "put apple slice on counter countertop ['apple', 'countertop'] ['apple', 'countertop']\n",
      "turn left move to counter right refrigerator ['countertop'] ['countertop']\n",
      "pick up knife from counter countertop ['knife'] ['butterknife']\n",
      "turn left move to bin at end island butterknife ['apple'] ['apple']\n"
     ]
    },
    {
     "name": "stderr",
     "output_type": "stream",
     "text": [
      " 72%|████████████████████████████████████████████████████████                      | 3326/4627 [00:53<00:20, 64.69it/s]"
     ]
    },
    {
     "name": "stdout",
     "output_type": "stream",
     "text": [
      "cut apple in bin in to section apple ['apple'] ['apple']\n",
      "put knife in bin apple ['knife', 'garbagecan'] ['butterknife', 'garbagecan']\n",
      "pick up section apple butterknife garbagecan ['apple'] ['apple']\n",
      "turn left move to in front microwave apple ['microwave'] ['microwave']\n",
      "put apple section in microwave cook it pick it back up microwave ['apple'] ['apple']\n",
      "turn left move to bin at end island apple ['garbagecan'] ['garbagecan']\n",
      "put cooked apple section in bin garbagecan ['apple', 'garbagecan'] ['apple', 'garbagecan']\n",
      "turn go across room to fridge take right go to counter to right fridge ['countertop'] ['countertop']\n",
      "pick up butter knife on counter countertop ['butterknife'] ['butterknife']\n",
      "go to trash can at end counter butterknife ['tomato'] ['apple']\n",
      "slice apple in trash can apple ['apple'] ['apple']\n",
      "put butter knife in trash can apple ['butterknife', 'garbagecan'] ['butterknife', 'garbagecan']\n",
      "pick up an apple slice out trash can butterknife garbagecan ['apple'] ['apple']\n"
     ]
    },
    {
     "name": "stderr",
     "output_type": "stream",
     "text": [
      " 72%|████████████████████████████████████████████████████████▎                     | 3340/4627 [00:53<00:20, 62.53it/s]"
     ]
    },
    {
     "name": "stdout",
     "output_type": "stream",
     "text": [
      "turn around go to microwave apple ['microwave'] ['microwave']\n",
      "cook apple slice in microwave microwave ['apple'] ['apple']\n",
      "turn go back to trash can apple ['garbagecan'] ['garbagecan']\n",
      "put warm apple slice in trash garbagecan ['apple', 'garbagecan'] ['apple', 'garbagecan']\n",
      "walk towards counter next to fridge ['countertop'] ['countertop']\n",
      "grab knife from counter countertop ['knife'] ['butterknife']\n",
      "walk with knife towards trash can butterknife ['bread'] ['apple']\n",
      "slice apple in trash can apple ['apple'] ['apple']\n",
      "put knife in trash can apple ['butterknife', 'garbagecan'] ['butterknife', 'garbagecan']\n",
      "pick up an apple piece from trash can butterknife garbagecan ['apple'] ['apple']\n",
      "walk with apple piece towards microwave apple ['microwave'] ['microwave']\n",
      "put apple piece inside microwave cook it take it out microwave ['apple'] ['apple']\n"
     ]
    },
    {
     "name": "stderr",
     "output_type": "stream",
     "text": [
      "\r",
      " 72%|████████████████████████████████████████████████████████▍                     | 3347/4627 [00:53<00:20, 61.21it/s]"
     ]
    },
    {
     "name": "stdout",
     "output_type": "stream",
     "text": [
      "walk with apple piece towards trash can apple ['garbagecan'] ['garbagecan']\n",
      "put apple piece inside trash can garbagecan ['apple', 'garbagecan'] ['apple', 'garbagecan']\n",
      "pick up knife that in front white cup countertop ['butterknife'] ['knife']\n",
      "go slightly to left to be in front white vase knife ['tomato'] ['apple']\n",
      "cut green apple which next to white vase apple ['apple'] ['apple']\n",
      "put knife in trash can garbagecan ['knife', 'garbagecan'] ['knife', 'garbagecan']\n",
      "go back to counter top with green apple that you just cut knife garbagecan ['diningtable'] ['countertop']\n",
      "pick up slice apple from on top counter top countertop ['apple'] ['apple']\n",
      "walk to right turn left to go to stove look up to microwave apple ['microwave'] ['microwave']\n",
      "put slice apple in trash can garbagecan ['apple', 'garbagecan'] ['apple', 'garbagecan']\n",
      "turn around face counter above dishwasher ['countertop'] ['countertop']\n",
      "pick up knife to left bread countertop ['butterknife'] ['knife']\n"
     ]
    },
    {
     "name": "stderr",
     "output_type": "stream",
     "text": [
      " 73%|████████████████████████████████████████████████████████▋                     | 3361/4627 [00:53<00:20, 61.02it/s]"
     ]
    },
    {
     "name": "stdout",
     "output_type": "stream",
     "text": [
      "move to counter with toaster on it knife ['potato'] ['apple']\n",
      "slice green apple to right white vase apple ['apple'] ['apple']\n",
      "turn walk to sculpture on counter look down at black bin apple ['garbagecan'] ['garbagecan']\n",
      "place knife inside black bin garbagecan ['knife', 'garbagecan'] ['knife', 'garbagecan']\n",
      "walk back to apple knife garbagecan ['apple'] ['countertop']\n",
      "pick up piece green apple countertop ['apple'] ['apple']\n",
      "turn right walk to stove look up at microwave apple ['microwave'] ['microwave']\n",
      "walk back to black bin on floor apple ['garbagecan'] ['garbagecan']\n",
      "place piece apple in black bin garbagecan ['apple', 'garbagecan'] ['apple', 'garbagecan']\n",
      "turn left go forward turn left at dishwasher ['countertop'] ['countertop']\n",
      "take large knife to let bread on counter countertop ['knife'] ['knife']\n",
      "turn left go forward turn right at toaster on counter knife ['bread'] ['apple']\n",
      "cut apple to right vase into piece apple ['apple'] ['apple']\n"
     ]
    },
    {
     "name": "stderr",
     "output_type": "stream",
     "text": [
      " 73%|████████████████████████████████████████████████████████▉                     | 3376/4627 [00:54<00:19, 63.79it/s]"
     ]
    },
    {
     "name": "stdout",
     "output_type": "stream",
     "text": [
      "put knife in black bin garbagecan ['knife', 'garbagecan'] ['knife', 'garbagecan']\n",
      "take piece apple from counter countertop ['apple'] ['apple']\n",
      "turn right go forward turn left at oven apple ['microwave'] ['microwave']\n",
      "cook apple in microwave take apple from microwave microwave ['apple'] ['apple']\n",
      "put apple in bin garbagecan ['apple', 'garbagecan'] ['apple', 'garbagecan']\n",
      "pick up knife in sink sinkbasin ['butterknife'] ['butterknife']\n",
      "turn right then walk forward then turn left facing trash bin butterknife ['apple'] ['apple']\n",
      "slice apple in bin apple ['apple'] ['apple']\n",
      "drop knife in bin apple ['knife', 'garbagecan'] ['butterknife', 'garbagecan']\n",
      "pick up slice apple in bin butterknife garbagecan ['apple'] ['apple']\n",
      "turn left head to microwave on your left apple ['microwave'] ['microwave']\n",
      "open microwave put in slice apple take it out then close microwave microwave ['apple'] ['apple']\n",
      "turn left move forward turn left face trash bin apple ['garbagecan'] ['garbagecan']\n"
     ]
    },
    {
     "name": "stderr",
     "output_type": "stream",
     "text": [
      " 73%|█████████████████████████████████████████████████████████▏                    | 3390/4627 [00:54<00:20, 61.26it/s]"
     ]
    },
    {
     "name": "stdout",
     "output_type": "stream",
     "text": [
      "put heated slice apple in trash bin garbagecan ['apple', 'garbagecan'] ['apple', 'garbagecan']\n",
      "turn right walk toward fridge then turn right into kitchen approach sink ['cabinet'] ['sinkbasin']\n",
      "pick up butter knife from sink sinkbasin ['butterknife'] ['butterknife']\n",
      "turn right walk around end counter to black trash bin butterknife ['apple'] ['apple']\n",
      "cut green apple in bin with knife apple ['apple'] ['apple']\n",
      "put knife in trash bin apple ['butterknife', 'garbagecan'] ['butterknife', 'garbagecan']\n",
      "pick up an apple piece from trash bin butterknife garbagecan ['apple'] ['apple']\n",
      "heat apple piece in microwave then remove it microwave ['apple'] ['apple']\n",
      "turn left walk back around to trash bin apple ['garbagecan'] ['garbagecan']\n",
      "put apple piece in trash bin garbagecan ['apple', 'garbagecan'] ['apple', 'garbagecan']\n",
      "pick up knife near fork in sink sinkbasin ['knife'] ['butterknife']\n",
      "cut apple in trash can apple ['apple'] ['apple']\n"
     ]
    },
    {
     "name": "stderr",
     "output_type": "stream",
     "text": [
      "\r",
      " 73%|█████████████████████████████████████████████████████████▎                    | 3397/4627 [00:54<00:20, 61.14it/s]"
     ]
    },
    {
     "name": "stdout",
     "output_type": "stream",
     "text": [
      "put knife in trash can apple ['butterknife', 'garbagecan'] ['butterknife', 'garbagecan']\n",
      "pick up slice apple from trash can butterknife garbagecan ['apple'] ['apple']\n",
      "go back to black trash can near fridge apple ['garbagecan'] ['garbagecan']\n",
      "put slice apple in trash can garbagecan ['apple', 'garbagecan'] ['apple', 'garbagecan']\n",
      "turn around go to your left to counter that to right white fridge ['countertop'] ['countertop']\n",
      "pick up loaf bread that on very rear counter countertop ['bread'] ['bread']\n",
      "place it to front counter bread ['countertop', 'countertop'] ['countertop']\n",
      "pick up knife with yellow handle countertop ['knife'] ['bread', 'countertop']\n",
      "cut bread into several slice bread countertop ['bread'] ['knife']\n",
      "continue cutting bread knife ['bread'] ['bread']\n",
      "place knife back on counter next to lettuce bread ['knife', 'countertop'] ['knife', 'countertop']\n",
      "pick up slice bread that you cut knife countertop ['bread'] ['bread']\n"
     ]
    },
    {
     "name": "stderr",
     "output_type": "stream",
     "text": [
      " 74%|█████████████████████████████████████████████████████████▌                    | 3411/4627 [00:54<00:19, 61.74it/s]"
     ]
    },
    {
     "name": "stdout",
     "output_type": "stream",
     "text": [
      "take bread to stove top that to right counter bread ['countertop'] ['microwave']\n",
      "place bread in microwave cook it remove bread microwave ['bread'] ['bread']\n",
      "take bread to counter top to right stove bread ['countertop'] ['countertop']\n",
      "place bread on counter top next to green pepper countertop ['bread', 'countertop'] ['bread', 'countertop']\n",
      "turn around go to counter to right fridge ['cabinet'] ['countertop']\n",
      "grab loaf bread off counter countertop ['bread'] ['bread']\n",
      "look down at counter bread ['bread'] ['countertop']\n",
      "put bread down on counter countertop ['bread', 'countertop'] ['bread', 'countertop']\n",
      "grab knife off counter bread countertop ['knife'] ['knife']\n",
      "cut bread on counter into slice knife ['bread'] ['bread']\n",
      "put knife on counter bread ['knife', 'countertop'] ['knife', 'countertop']\n",
      "grab slice bread knife countertop ['bread'] ['bread']\n",
      "turn right stop at microwave bread ['microwave'] ['microwave']\n"
     ]
    },
    {
     "name": "stderr",
     "output_type": "stream",
     "text": [
      " 74%|█████████████████████████████████████████████████████████▋                    | 3425/4627 [00:54<00:19, 62.41it/s]"
     ]
    },
    {
     "name": "stdout",
     "output_type": "stream",
     "text": [
      "heat bread in microwave then take it out microwave ['bread'] ['bread']\n",
      "turn right stop at counter bread ['countertop'] ['countertop']\n",
      "place bread on counter countertop ['bread', 'countertop'] ['bread', 'countertop']\n",
      "pick up loaf bread on counter behind knife countertop ['bread'] ['bread']\n",
      "take few step back away from counter bread ['cabinet'] ['countertop']\n",
      "place loaf bread back on counter but near edge closest to you countertop ['bread', 'countertop'] ['bread', 'countertop']\n",
      "pick up knife on counter behind bread bread countertop ['knife'] ['knife']\n",
      "cut bread on counter into slice knife ['bread'] ['bread']\n",
      "put knife back on counter to right loaf bread bread ['knife', 'countertop'] ['knife', 'countertop']\n",
      "pick up end bread slice from counter knife countertop ['bread'] ['bread']\n",
      "turn to your right go to microwave above stove on your left bread ['microwave'] ['microwave']\n",
      "place slice bread in microwave warm it up then remove it from microwave microwave ['bread'] ['bread']\n",
      "place slice bread on counter to right apple countertop ['bread', 'countertop'] ['bread', 'countertop']\n"
     ]
    },
    {
     "name": "stderr",
     "output_type": "stream",
     "text": [
      " 74%|█████████████████████████████████████████████████████████▉                    | 3439/4627 [00:55<00:19, 60.37it/s]"
     ]
    },
    {
     "name": "stdout",
     "output_type": "stream",
     "text": [
      "proceed ahead to sink ['sinkbasin'] ['countertop']\n",
      "turn to sink pick up knife between sink bread countertop ['knife'] ['knife']\n",
      "turn right proceed to end counter turn left turn to face counter knife ['drawer'] ['bread']\n",
      "slice bread on counter with knife bread ['bread'] ['bread']\n",
      "place knife on counter behind tomato in front coffee maker countertop ['knife', 'countertop'] ['knife', 'countertop']\n",
      "turn left to face garbage can pick up left end sliced bread countertop ['bread'] ['bread']\n",
      "proceed around counter turn left at stove turn left to face stove bread ['drawer'] ['microwave']\n",
      "turn right proceed to counter turn left to face counter bread ['drawer'] ['countertop']\n",
      "place bread on counter in front knife to left tomato countertop ['bread', 'countertop'] ['bread', 'countertop']\n",
      "walk forward to left center table turn right to face sink ['sinkbasin'] ['countertop']\n",
      "pick up knife on table countertop ['knife'] ['knife']\n",
      "turn right step forward then turn around face bread on center table knife ['countertop'] ['bread']\n"
     ]
    },
    {
     "name": "stderr",
     "output_type": "stream",
     "text": [
      " 75%|██████████████████████████████████████████████████████████▏                   | 3453/4627 [00:55<00:18, 63.74it/s]"
     ]
    },
    {
     "name": "stdout",
     "output_type": "stream",
     "text": [
      "cut bread on center table into slice bread ['bread'] ['bread']\n",
      "walk to end counter on left turn left to face end counter bread ['cabinet'] ['countertop']\n",
      "place knife on counter by coffee maker countertop ['knife', 'countertop'] ['knife', 'countertop']\n",
      "pick up slice bread on table countertop ['bread'] ['bread']\n",
      "follow counter on left to stove then turn left face microwave above stove bread ['microwave'] ['microwave']\n",
      "head slice bread in microwave then remove it microwave ['bread'] ['bread']\n",
      "take step to right face end counter bread ['countertop'] ['countertop']\n",
      "place bread slice on counter to left tomato countertop ['bread', 'countertop'] ['bread', 'countertop']\n",
      "move forward to table ['diningtable'] ['countertop']\n",
      "pick up knife countertop ['knife'] ['knife']\n",
      "move right to table knife ['bread'] ['bread']\n",
      "slice bread on table bread ['bread'] ['bread']\n",
      "move left to coffee maker bread ['countertop'] ['countertop']\n"
     ]
    },
    {
     "name": "stderr",
     "output_type": "stream",
     "text": [
      "\r",
      " 75%|██████████████████████████████████████████████████████████▎                   | 3460/4627 [00:55<00:18, 64.77it/s]"
     ]
    },
    {
     "name": "stdout",
     "output_type": "stream",
     "text": [
      "drop knife on table countertop ['butterknife', 'countertop'] ['knife', 'countertop']\n",
      "move right towards coffee maker knife countertop ['countertop'] ['countertop']\n",
      "pick up bread slice countertop ['bread'] ['bread']\n",
      "turn around head for oven bread ['microwave'] ['microwave']\n",
      "place bread to cook in oven microwave ['bread'] ['bread']\n",
      "turn around head for coffee maker bread ['countertop'] ['countertop']\n",
      "drop bread slice by coffee maker countertop ['bread', 'countertop'] ['bread', 'countertop']\n",
      "turn around walk to counter top above dishwasher just past refrigerator ['countertop'] ['countertop']\n",
      "pick up loaf bread to right toaster countertop ['bread'] ['bread']\n",
      "place bread on counter to left knife s countertop ['bread', 'countertop'] ['bread', 'countertop']\n",
      "pick up knife closest to fork on right located on counter bread countertop ['knife'] ['knife']\n",
      "cut loaf bread on counter into slice knife ['bread'] ['bread']\n",
      "place knife back on counter between butter knife fork bread ['knife', 'countertop'] ['knife', 'countertop']\n"
     ]
    },
    {
     "name": "stderr",
     "output_type": "stream",
     "text": [
      " 75%|██████████████████████████████████████████████████████████▌                   | 3474/4627 [00:55<00:18, 62.70it/s]"
     ]
    },
    {
     "name": "stdout",
     "output_type": "stream",
     "text": [
      "pick up end slice bread on counter knife countertop ['bread'] ['bread']\n",
      "turn to your right go to microwave above stove on your left bread ['microwave'] ['microwave']\n",
      "place slice bread in microwave warm it remove it from microwave microwave ['bread'] ['bread']\n",
      "place slice bread on counter between salt credit card countertop ['bread', 'countertop'] ['bread', 'countertop']\n",
      "look around face counter at left ['countertop'] ['countertop']\n",
      "pick up bread at counter beside toaster countertop ['bread'] ['bread']\n",
      "look around face to counter bread ['countertop'] ['countertop']\n",
      "put bread at counter countertop ['bread', 'countertop'] ['bread', 'countertop']\n",
      "pick up knife at counter bread countertop ['knife'] ['knife']\n",
      "slice bread at counter knife ['bread'] ['bread']\n",
      "put back knife at counter bread ['knife', 'countertop'] ['knife', 'countertop']\n",
      "pick up one slice bread knife countertop ['potato'] ['bread']\n",
      "walk to left face stove bread ['countertop'] ['microwave']\n"
     ]
    },
    {
     "name": "stderr",
     "output_type": "stream",
     "text": [
      " 75%|██████████████████████████████████████████████████████████▊                   | 3488/4627 [00:55<00:18, 62.90it/s]"
     ]
    },
    {
     "name": "stdout",
     "output_type": "stream",
     "text": [
      "open microwave put bread inside heat it for few second get it out microwave ['bread'] ['bread']\n",
      "turn right face counter at left bread ['countertop'] ['countertop']\n",
      "put bread at counter beside coffee maker countertop ['bread', 'countertop'] ['bread', 'countertop']\n",
      "turn around walk halfway across room then turn left to face bread on counter ['countertop'] ['countertop']\n",
      "pick up bread on counter countertop ['bread'] ['bread']\n",
      "step to right face counter bread ['cabinet'] ['countertop']\n",
      "place bread back into it s original spot on counter countertop ['bread', 'countertop'] ['bread', 'countertop']\n",
      "pick up knife on counter bread countertop ['butterknife'] ['knife']\n",
      "cut bread on counter into slice knife ['bread'] ['bread']\n",
      "place knife back into it s spot on counter bread ['knife', 'garbagecan'] ['knife', 'countertop']\n",
      "pick up slice bread on counter knife countertop ['bread'] ['bread']\n",
      "take step to right face microwave above stove bread ['microwave'] ['microwave']\n"
     ]
    },
    {
     "name": "stderr",
     "output_type": "stream",
     "text": [
      " 76%|███████████████████████████████████████████████████████████                   | 3502/4627 [00:56<00:18, 62.21it/s]"
     ]
    },
    {
     "name": "stdout",
     "output_type": "stream",
     "text": [
      "head slice bread in microwave then remove it microwave ['bread'] ['bread']\n",
      "take step to right face counter to right stove bread ['countertop'] ['countertop']\n",
      "place slice bread on counter to right stove countertop ['bread', 'countertop'] ['bread', 'countertop']\n",
      "open right cabinet take out green cup cabinet ['cup'] ['cup']\n",
      "take step to right to find microwave above stove cup ['microwave'] ['microwave']\n",
      "warm up cup take it back out microwave microwave ['cup'] ['cup']\n",
      "take step to left look up to cabinet above bread cup ['cabinet'] ['cabinet']\n",
      "place cup back into cabinet cabinet ['cup', 'cabinet'] ['cup', 'cabinet']\n",
      "turn right walk towards silver stove on your left side cup ['microwave'] ['microwave']\n",
      "turn left walk to counter to left stove cup ['countertop'] ['cabinet']\n",
      "open cupboard above take out green vase cabinet ['vase'] ['cup']\n",
      "go right stand in front microwave cup ['microwave'] ['microwave']\n",
      "put vase in microwave turn it on then take it out shut door microwave ['cup'] ['cup']\n"
     ]
    },
    {
     "name": "stderr",
     "output_type": "stream",
     "text": [
      " 76%|███████████████████████████████████████████████████████████▎                  | 3516/4627 [00:56<00:17, 63.48it/s]"
     ]
    },
    {
     "name": "stdout",
     "output_type": "stream",
     "text": [
      "move to left stand in front cupboard to left stove cup ['cabinet'] ['cabinet']\n",
      "open upper cabinet put green vase in cupboard to right other one cabinet ['cup', 'cabinet'] ['cup', 'cabinet']\n",
      "turn left head to counter top directly to left stove ['countertop'] ['cabinet']\n",
      "open cabinet that above counter pick up green cup then close cabinet cabinet ['cup'] ['cup']\n",
      "turn right walk to stove cup ['microwave'] ['microwave']\n",
      "take couple step to stand in front counter to right stove cup ['sidetable'] ['cabinet']\n",
      "open cabinet above counter place green cup inside on right hand side cabinet ['cup'] ['cup', 'cabinet']\n",
      "go left walk towards counter next to stove look up ['cabinet'] ['cabinet']\n",
      "open cupboard door to take out green cup shut it cabinet ['cup'] ['cup']\n",
      "bring it back down turn left quick right back up to cupboard cup ['cabinet'] ['cabinet']\n",
      "place cup back in cupboard shut door cabinet ['mug', 'cabinet'] ['cup', 'cabinet']\n",
      "turn to your left go forward to counter immediately left stove ['cabinet'] ['cabinet']\n",
      "open right hand cabinet above counter get out green glass cabinet ['cup'] ['cup']\n"
     ]
    },
    {
     "name": "stderr",
     "output_type": "stream",
     "text": [
      "\r",
      " 76%|███████████████████████████████████████████████████████████▍                  | 3523/4627 [00:56<00:17, 61.84it/s]"
     ]
    },
    {
     "name": "stdout",
     "output_type": "stream",
     "text": [
      "move to front stove cup ['microwave'] ['microwave']\n",
      "heat glass in microwave above stove microwave ['cup'] ['cup']\n",
      "go back to cabinet where glass wa stored cup ['cabinet'] ['cabinet']\n",
      "put glass away in cabinet cabinet ['cup', 'cabinet'] ['cup', 'cabinet']\n",
      "pick up cup in right cabinet above counter cabinet ['cup'] ['cup']\n",
      "turn right move forward then turn left to face stove cup ['microwave'] ['microwave']\n",
      "warm cup in microwave above stove microwave ['cup'] ['cup']\n",
      "turn left move forward then turn right to face counter next to stove cup ['countertop'] ['cabinet']\n",
      "place cup in cabinet above counter to right cabinet ['cup', 'cabinet'] ['cup', 'cabinet']\n",
      "head to counter next to stove on left ['countertop'] ['cabinet']\n",
      "open cabinet above pick up green cup from in there cabinet ['cup'] ['cup']\n",
      "bring cup to microwave on right cup ['microwave'] ['microwave']\n"
     ]
    },
    {
     "name": "stderr",
     "output_type": "stream",
     "text": [
      " 76%|███████████████████████████████████████████████████████████▋                  | 3537/4627 [00:56<00:17, 60.96it/s]"
     ]
    },
    {
     "name": "stdout",
     "output_type": "stream",
     "text": [
      "heat cup in microwave microwave ['cup'] ['cup']\n",
      "bring heated cup to cabinet on left next to microwave cup ['cabinet'] ['cabinet']\n",
      "put heated cup in cabinet next to microwave cabinet ['mug', 'cabinet'] ['cup', 'cabinet']\n",
      "go left then right to stand in front cabinet to left microwave ['cabinet'] ['cabinet']\n",
      "open upper cabinet on right take out green vase cabinet ['vase'] ['cup']\n",
      "go to right stand in front microwave cup ['microwave'] ['microwave']\n",
      "put vase in microwave turn it on then take it out shut door microwave ['cup'] ['cup']\n",
      "go left face cabinet to left stove cup ['cabinet'] ['cabinet']\n",
      "open upper cabinet closest to microwave put vase in shut door cabinet ['glassbottle', 'cabinet'] ['cup', 'cabinet']\n",
      "go to center kitchen console ['diningtable'] ['countertop']\n",
      "pick up egg from center kitchen console countertop ['egg'] ['egg']\n",
      "go to microwave egg ['microwave'] ['microwave']\n",
      "heat egg in microwave microwave ['potato'] ['egg']\n"
     ]
    },
    {
     "name": "stderr",
     "output_type": "stream",
     "text": [
      " 77%|███████████████████████████████████████████████████████████▉                  | 3552/4627 [00:56<00:16, 63.47it/s]"
     ]
    },
    {
     "name": "stdout",
     "output_type": "stream",
     "text": [
      "go to black bin egg ['garbagecan'] ['garbagecan']\n",
      "place egg in black bin garbagecan ['egg', 'garbagecan'] ['egg', 'garbagecan']\n",
      "turn around walk to kitchen island ['diningtable'] ['countertop']\n",
      "pick up egg in front gold colored plate countertop ['egg'] ['egg']\n",
      "place egg inside microwave heat up egg take egg out microwave microwave ['potato'] ['egg']\n",
      "place egg in bin on right side garbagecan ['potato', 'garbagecan'] ['egg', 'garbagecan']\n",
      "pick up egg from counter in front gold colored plate countertop ['egg'] ['egg']\n",
      "place egg in right side garbage can to right tomato pump dispenser garbagecan ['potato', 'garbagecan'] ['egg', 'garbagecan']\n",
      "grab egg out garbage bin garbagecan ['potato'] ['egg']\n",
      "place egg inside garbage bin garbagecan ['potato', 'garbagecan'] ['egg', 'garbagecan']\n",
      "pick up egg that s in front you in garbage garbagecan ['egg'] ['egg']\n",
      "go back to garbage where you got egg egg ['diningtable'] ['garbagecan']\n"
     ]
    },
    {
     "name": "stderr",
     "output_type": "stream",
     "text": [
      " 77%|████████████████████████████████████████████████████████████                  | 3566/4627 [00:57<00:16, 62.50it/s]"
     ]
    },
    {
     "name": "stdout",
     "output_type": "stream",
     "text": [
      "put egg in top right corner garbage garbagecan ['egg', 'garbagecan'] ['egg', 'garbagecan']\n",
      "turn to your right head to trash bin on your right ['garbagecan'] ['garbagecan']\n",
      "pick up egg on trash bin garbagecan ['egg'] ['egg']\n",
      "turn left then right walk towards microwave egg ['microwave'] ['microwave']\n",
      "open microwave put in out egg then close microwave microwave ['potato'] ['egg']\n",
      "turn left then walk forward head to trash bin egg ['garbagecan'] ['garbagecan']\n",
      "put egg in trash bin garbagecan ['potato', 'garbagecan'] ['egg', 'garbagecan']\n",
      "turn left turn left at window to face counter with coffee maker on it ['countertop'] ['countertop']\n",
      "pick up egg in front coffee maker on counter countertop ['egg'] ['egg']\n",
      "turn left walk to stove on right look up above stove at microwave egg ['microwave'] ['microwave']\n",
      "turn left turn left at end island face black bin on floor egg ['garbagecan'] ['garbagecan']\n",
      "put egg inside black bin on floor garbagecan ['potato', 'garbagecan'] ['egg', 'garbagecan']\n",
      "turn left move forward then face counter with coffee maker ['countertop'] ['countertop']\n"
     ]
    },
    {
     "name": "stderr",
     "output_type": "stream",
     "text": [
      " 77%|████████████████████████████████████████████████████████████▎                 | 3580/4627 [00:57<00:16, 62.60it/s]"
     ]
    },
    {
     "name": "stdout",
     "output_type": "stream",
     "text": [
      "pick up egg in front coffee maker countertop ['egg'] ['egg']\n",
      "turn left then head to microwave egg ['microwave'] ['microwave']\n",
      "open microwave put in out egg then close microwave microwave ['potato'] ['egg']\n",
      "turn left then walk forward head to trash bin on your left egg ['garbagecan'] ['garbagecan']\n",
      "drop egg in trash bin garbagecan ['egg', 'garbagecan'] ['egg', 'garbagecan']\n",
      "turn left move to window turn left go to egg on counter ['countertop'] ['countertop']\n",
      "pick up egg on counter countertop ['potato'] ['egg']\n",
      "bring egg to left to microwave stove egg ['microwave'] ['microwave']\n",
      "heat egg in microwave microwave ['potato'] ['egg']\n",
      "put egg in trash can garbagecan ['potato', 'garbagecan'] ['egg', 'garbagecan']\n",
      "turn left walk to end counter on left then face coffee maker ['coffeemachine'] ['cabinet']\n",
      "take mug out counter above coffee maker cabinet ['mug'] ['mug']\n"
     ]
    },
    {
     "name": "stderr",
     "output_type": "stream",
     "text": [
      "\r",
      " 78%|████████████████████████████████████████████████████████████▍                 | 3587/4627 [00:57<00:16, 63.07it/s]"
     ]
    },
    {
     "name": "stdout",
     "output_type": "stream",
     "text": [
      "take step left mug ['microwave'] ['microwave']\n",
      "heat mug in microwave microwave ['mug'] ['mug']\n",
      "take step left mug ['microwave'] ['cabinet']\n",
      "place mug on cabinet to left microwave to right salt shaker cabinet ['mug', 'cabinet'] ['mug', 'cabinet']\n",
      "turn to left move through kitchen face coffee machine on counter ['coffeemachine'] ['cabinet']\n",
      "open top cabinet take out cup close cabinet cabinet ['mug'] ['mug']\n",
      "hold cup take step to left look up to microwave mug ['microwave'] ['microwave']\n",
      "open microwave place cup inside shut door then open it take out cup microwave ['mug'] ['mug']\n",
      "hold cup look down then take step to left look up to cabinet mug ['cabinet'] ['cabinet']\n",
      "open cabinet place cup inside cabinet ['mug', 'cabinet'] ['mug', 'cabinet']\n",
      "turn left walk to end room where coffee maker on left ['countertop'] ['cabinet']\n",
      "grab coffee mug out cabinet to top right coffee maker cabinet ['mug'] ['mug']\n",
      "move to left bit to face microwave above stove mug ['microwave'] ['microwave']\n"
     ]
    },
    {
     "name": "stderr",
     "output_type": "stream",
     "text": [
      " 78%|████████████████████████████████████████████████████████████▋                 | 3601/4627 [00:57<00:15, 64.62it/s]"
     ]
    },
    {
     "name": "stdout",
     "output_type": "stream",
     "text": [
      "place coffee mug inside cupboard cabinet above kitchen counter top cabinet ['mug', 'cabinet'] ['mug', 'cabinet']\n",
      "go right then turn right again to face upper cabinet to left fridge ['cabinet'] ['cabinet']\n",
      "take white mug out upper cabinet left fridge cabinet ['mug'] ['mug']\n",
      "go right then turn to left to face microwave above stove mug ['microwave'] ['microwave']\n",
      "move to left face cabinet to left microwave mug ['cabinet'] ['cabinet']\n",
      "put mug in cabinet to left microwave shut door cabinet ['mug', 'cabinet'] ['mug', 'cabinet']\n",
      "open cabinet pick up mug close door cabinet ['mug'] ['mug']\n",
      "turn right walk straight then turn left towards stove look up mug ['microwave'] ['microwave']\n",
      "turn left walk straight then turn right towards stove look up mug ['microwave'] ['cabinet']\n",
      "open cabinet put mug inside close door cabinet ['mug', 'cabinet'] ['mug', 'cabinet']\n",
      "take mug out cabinet above counter cabinet ['mug'] ['mug']\n",
      "take few step right to microwave mug ['microwave'] ['microwave']\n",
      "heat mug in microwave microwave ['mug'] ['mug']\n"
     ]
    },
    {
     "name": "stderr",
     "output_type": "stream",
     "text": [
      " 78%|████████████████████████████████████████████████████████████▉                 | 3615/4627 [00:57<00:15, 64.59it/s]"
     ]
    },
    {
     "name": "stdout",
     "output_type": "stream",
     "text": [
      "take step left mug ['microwave'] ['cabinet']\n",
      "place mug in cabinet directly to left microwave cabinet ['mug', 'cabinet'] ['mug', 'cabinet']\n",
      "pick up coffee mug on coffee maker coffeemachine ['mug'] ['mug']\n",
      "turn left walk straight then turn right towards stove look up mug ['microwave'] ['microwave']\n",
      "open cabinet door put mug inside then close door cabinet ['mug', 'cabinet'] ['mug', 'cabinet']\n",
      "walk ahead right to coffee maker on counter ['countertop'] ['coffeemachine']\n",
      "take mug out coffee maker coffeemachine ['mug'] ['mug']\n",
      "take step left mug ['microwave'] ['microwave']\n",
      "heat mug in microwave microwave ['mug'] ['mug']\n",
      "take step left mug ['microwave'] ['cabinet']\n",
      "place mug in cabinet left microwave to left white vase cabinet ['mug'] ['mug', 'cabinet']\n",
      "walk to face coffee maker ['countertop'] ['coffeemachine']\n",
      "remove mug from inside coffee maker coffeemachine ['mug'] ['mug']\n",
      "walk to face microwave mug ['microwave'] ['microwave']\n"
     ]
    },
    {
     "name": "stderr",
     "output_type": "stream",
     "text": [
      " 78%|█████████████████████████████████████████████████████████████▏                | 3629/4627 [00:58<00:15, 63.77it/s]"
     ]
    },
    {
     "name": "stdout",
     "output_type": "stream",
     "text": [
      "heat mug in microwave remove from microwave microwave ['mug'] ['mug']\n",
      "gaze to cabinet left microwave mug ['cabinet'] ['cabinet']\n",
      "put mug inside cabinet cabinet ['mug', 'cabinet'] ['mug', 'cabinet']\n",
      "pick up mug from coffee machine countertop ['mug'] ['mug']\n",
      "turn to stove to left counter mug ['microwave'] ['microwave']\n",
      "place mug in microwave above stove warm it then take it out microwave ['mug'] ['mug']\n",
      "walk back to coffee machine mug ['coffeemachine'] ['coffeemachine']\n",
      "place mug in coffee machine coffeemachine ['mug', 'coffeemachine'] ['mug', 'coffeemachine']\n",
      "move forward then left then head to coffee maker ['countertop'] ['countertop']\n",
      "pick up mug on coffee maker countertop ['mug'] ['mug']\n",
      "turn to your left head toward microwave above stove mug ['microwave'] ['microwave']\n",
      "open microwave put in mug then pick it up close microwave microwave ['mug'] ['mug']\n",
      "turn to your right move forward face coffee maker mug ['coffeemachine'] ['coffeemachine']\n"
     ]
    },
    {
     "name": "stderr",
     "output_type": "stream",
     "text": [
      " 79%|█████████████████████████████████████████████████████████████▍                | 3643/4627 [00:58<00:15, 65.53it/s]"
     ]
    },
    {
     "name": "stdout",
     "output_type": "stream",
     "text": [
      "put mug on coffee maker coffeemachine ['mug', 'coffeemachine'] ['mug', 'coffeemachine']\n",
      "walk to coffee pot ['countertop'] ['countertop']\n",
      "grab coffee cup that under on coffee pot countertop ['mug'] ['mug']\n",
      "carry cup to microwave mug ['microwave'] ['microwave']\n",
      "put coffee cup in microwave microwave ['mug'] ['mug']\n",
      "take coffee cup out microwave mug ['mug'] ['coffeemachine']\n",
      "carry cup back to coffee pot coffeemachine ['coffeemachine'] ['mug', 'coffeemachine']\n",
      "turn around to your right move forward then turn left head to coffee maker ['coffeemachine'] ['countertop']\n",
      "pick up mug in front coffee maker on counter countertop ['mug'] ['mug']\n",
      "turn to your left head to microwave above stove mug ['microwave'] ['microwave']\n",
      "open microwave then put in out mug then close microwave microwave ['mug'] ['mug']\n",
      "turn to your right head to coffee maker mug ['coffeemachine'] ['coffeemachine']\n",
      "put mug on coffee maker coffeemachine ['mug', 'coffeemachine'] ['mug', 'coffeemachine']"
     ]
    },
    {
     "name": "stderr",
     "output_type": "stream",
     "text": [
      " 79%|█████████████████████████████████████████████████████████████▋                | 3657/4627 [00:58<00:14, 65.25it/s]"
     ]
    },
    {
     "name": "stdout",
     "output_type": "stream",
     "text": [
      "\n",
      "turn around move forward then turn left to approach coffee maker ['coffeemachine'] ['countertop']\n",
      "pick up mug on counter in front coffee maker countertop ['mug'] ['mug']\n",
      "turn left go straight then turn right at stove look up at microwave mug ['microwave'] ['microwave']\n",
      "heat mug inside microwave microwave ['mug'] ['mug']\n",
      "turn right go forward then turn left to face coffee maker mug ['coffeemachine'] ['coffeemachine']\n",
      "put mug at coffee maker coffeemachine ['mug', 'coffeemachine'] ['mug', 'coffeemachine']\n",
      "go right stand in front coffee maker ['coffeemachine'] ['countertop']\n",
      "pick white mug up from counter countertop ['mug'] ['mug']\n",
      "turn left then right to face stove mug ['microwave'] ['microwave']\n",
      "go to right to stand in front coffee maker mug ['coffeemachine'] ['coffeemachine']\n",
      "put mug under coffee maker on counter coffeemachine ['mug', 'coffeemachine'] ['mug', 'coffeemachine']\n",
      "cross room to stand at edge kitchen counter which to left sink ['countertop'] ['countertop']\n",
      "pick up coffee mug from counter countertop ['mug'] ['mug']\n"
     ]
    },
    {
     "name": "stderr",
     "output_type": "stream",
     "text": [
      " 79%|█████████████████████████████████████████████████████████████▉                | 3671/4627 [00:58<00:14, 64.78it/s]"
     ]
    },
    {
     "name": "stdout",
     "output_type": "stream",
     "text": [
      "carry mug around counter to stand in front stove mug ['microwave'] ['microwave']\n",
      "carry mug to coffee maker on counter to right stove mug ['coffeemachine'] ['coffeemachine']\n",
      "place mug on base coffee maker coffeemachine ['mug', 'coffeemachine'] ['mug', 'coffeemachine']\n",
      "turn around go left to short side island ['diningtable'] ['countertop']\n",
      "pick up mug behind spatula countertop ['mug'] ['mug']\n",
      "take mug around island find stove on right mug ['microwave'] ['microwave']\n",
      "carry mug take few step to right mug ['cabinet'] ['coffeemachine']\n",
      "place mug under coffee maker coffeemachine ['mug', 'coffeemachine'] ['mug', 'coffeemachine']\n",
      "turn around to left towards counter ['cabinet'] ['countertop']\n",
      "pick up cup from counter countertop ['cup'] ['mug']\n",
      "turn to right go to left towards stove mug ['microwave'] ['microwave']\n",
      "get water into cup from pot on stove microwave ['tomato'] ['mug']\n",
      "turn to right towards coffee machine mug ['coffeemachine'] ['coffeemachine']\n"
     ]
    },
    {
     "name": "stderr",
     "output_type": "stream",
     "text": [
      " 80%|██████████████████████████████████████████████████████████████                | 3685/4627 [00:59<00:14, 63.42it/s]"
     ]
    },
    {
     "name": "stdout",
     "output_type": "stream",
     "text": [
      "put cup in coffee machine coffeemachine ['mug', 'coffeemachine'] ['mug', 'coffeemachine']\n",
      "turn right to fridge then right to coffee machine ['coffeemachine'] ['countertop']\n",
      "pick up potato from counter countertop ['potato'] ['potato']\n",
      "turn left to microwave potato ['microwave'] ['microwave']\n",
      "heat potato in microwave microwave ['potato'] ['potato']\n",
      "take potato to left at end island near trash can potato ['potato'] ['garbagecan']\n",
      "put potato in trash can garbagecan ['potato', 'garbagecan'] ['potato', 'garbagecan']\n",
      "pick up potato behind coffee mug on counter top countertop ['potato'] ['potato']\n",
      "turn to your left walk to microwave that just above stove potato ['microwave'] ['microwave']\n",
      "place potato in microwave heat it then remove potato from microwave microwave ['potato'] ['potato']\n",
      "put heated potato in garbage can on floor garbagecan ['potato', 'garbagecan'] ['potato', 'garbagecan']\n",
      "go right right again to face counter with coffee maker on it ['countertop'] ['countertop']\n",
      "pick potato up from counter countertop ['potato'] ['potato']\n"
     ]
    },
    {
     "name": "stderr",
     "output_type": "stream",
     "text": [
      "\r",
      " 80%|██████████████████████████████████████████████████████████████▏               | 3692/4627 [00:59<00:14, 63.31it/s]"
     ]
    },
    {
     "name": "stdout",
     "output_type": "stream",
     "text": [
      "go left face microwave above stove potato ['microwave'] ['microwave']\n",
      "put potato in trash can garbagecan ['potato', 'garbagecan'] ['potato', 'garbagecan']\n",
      "walk to sink on your left ['butterknife'] ['sinkbasin']\n",
      "pick up potato from sink sinkbasin ['potato'] ['potato']\n",
      "turn left walk to microwave above stove potato ['microwave'] ['microwave']\n",
      "microwave potato then pick potato up from microwave microwave ['potato'] ['potato']\n",
      "turn left walk to black trash can next to counter potato ['garbagecan'] ['garbagecan']\n",
      "place potato in black trash can garbagecan ['potato', 'garbagecan'] ['potato', 'garbagecan']\n",
      "move forward face kitchen sink on your left ['countertop'] ['sinkbasin']\n",
      "pick up potato that in sink sinkbasin ['potato'] ['potato']\n",
      "turn around to face microwave that above stove behind you potato ['microwave'] ['microwave']\n",
      "place potato in trash bin garbagecan ['potato', 'garbagecan'] ['potato', 'garbagecan']\n",
      "walk forward then turn left at sink ['sinkbasin'] ['sinkbasin']\n"
     ]
    },
    {
     "name": "stderr",
     "output_type": "stream",
     "text": [
      " 80%|██████████████████████████████████████████████████████████████▍               | 3706/4627 [00:59<00:14, 62.46it/s]"
     ]
    },
    {
     "name": "stdout",
     "output_type": "stream",
     "text": [
      "pick up potato from in sink sinkbasin ['potato'] ['potato']\n",
      "turn to your left then turn around to face microwave potato ['microwave'] ['microwave']\n",
      "cook potato in microwave for few second then pick it back up microwave ['potato'] ['potato']\n",
      "throw potato in trash can garbagecan ['potato', 'garbagecan'] ['potato', 'garbagecan']\n",
      "go to right walk to fridge hang right go to counter between dishwasher stove ['countertop'] ['countertop']\n",
      "pick up potato that on counter countertop ['potato'] ['potato']\n",
      "go right to microwave raise potato up potato ['microwave'] ['microwave']\n",
      "put potato in microwave turn it on to cook remove potato microwave ['potato'] ['potato']\n",
      "go left towards toward fridge then hang left go to garbage can potato ['garbagecan'] ['garbagecan']\n",
      "put potato in garbage can garbagecan ['potato', 'garbagecan'] ['potato', 'garbagecan']\n",
      "pick potato up from left statue on counter countertop ['potato'] ['potato']\n",
      "go to right stand in front microwave stove potato ['microwave'] ['microwave']\n"
     ]
    },
    {
     "name": "stderr",
     "output_type": "stream",
     "text": [
      " 80%|██████████████████████████████████████████████████████████████▋               | 3720/4627 [00:59<00:14, 62.75it/s]"
     ]
    },
    {
     "name": "stdout",
     "output_type": "stream",
     "text": [
      "go left then left again to turn face black trash can potato ['garbagecan'] ['garbagecan']\n",
      "put potato in trash can garbagecan ['potato', 'garbagecan'] ['potato', 'garbagecan']\n",
      "pick up one potato from counter countertop ['potato'] ['potato']\n",
      "go to stove on your right look up at microwave potato ['microwave'] ['microwave']\n",
      "cook potato in microwave remove potato from microwave microwave ['potato'] ['potato']\n",
      "turn left walk to refrigerator turn left walk to black trash can potato ['garbagecan'] ['garbagecan']\n",
      "put potato inside trash can garbagecan ['potato', 'garbagecan'] ['potato', 'garbagecan']\n",
      "walk around center table to left turn right to face knife on table ['diningtable'] ['countertop']\n",
      "pick up knife on table countertop ['knife'] ['butterknife']\n",
      "turn left walk forward turn around to right to face trash can butterknife ['potato'] ['potato']\n",
      "cut potato in trash can into slice potato ['potato'] ['potato']\n",
      "place knife in trash can potato ['knife', 'garbagecan'] ['butterknife', 'garbagecan']\n",
      "pick up slice potato in trash can butterknife garbagecan ['potato'] ['potato']\n"
     ]
    },
    {
     "name": "stderr",
     "output_type": "stream",
     "text": [
      " 81%|██████████████████████████████████████████████████████████████▉               | 3734/4627 [00:59<00:14, 63.70it/s]"
     ]
    },
    {
     "name": "stdout",
     "output_type": "stream",
     "text": [
      "turn left walk to right around table turn left to face microwave potato ['microwave'] ['microwave']\n",
      "heat potato slice in microwave remove it microwave ['potato'] ['potato']\n",
      "turn left step forward turn right to face fridge potato ['fridge'] ['fridge']\n",
      "place potato slice in fridge fridge ['potato', 'fridge'] ['potato', 'fridge']\n",
      "go left around counter to back sink ['countertop'] ['countertop']\n",
      "pick up knife on counter countertop ['knife'] ['butterknife']\n",
      "go to end counter face trash can butterknife ['bread'] ['potato']\n",
      "cut potato in trash can potato ['potato'] ['potato']\n",
      "put knife in trash can potato ['knife', 'garbagecan'] ['butterknife', 'garbagecan']\n",
      "pick up slice potato from trash can butterknife garbagecan ['potato'] ['potato']\n",
      "turn left go to stove potato ['microwave'] ['microwave']\n",
      "cook slice potato in microwave above stove pick it back up microwave ['potato'] ['potato']\n",
      "turn left go to fridge potato ['fridge'] ['fridge']\n"
     ]
    },
    {
     "name": "stderr",
     "output_type": "stream",
     "text": [
      " 81%|███████████████████████████████████████████████████████████████▏              | 3748/4627 [01:00<00:13, 63.08it/s]"
     ]
    },
    {
     "name": "stdout",
     "output_type": "stream",
     "text": [
      "put slice potato to left potato on shelf in fridge fridge ['potato', 'fridge'] ['potato', 'fridge']\n",
      "turn left go to side island without sink ['countertop'] ['countertop']\n",
      "pick up gray knife from table countertop ['butterknife'] ['butterknife']\n",
      "turn left go to black trash can on floor at end island butterknife ['apple'] ['potato']\n",
      "slice potato on right in trash can potato ['potato'] ['potato']\n",
      "place knife in trash can potato ['knife', 'garbagecan'] ['butterknife', 'garbagecan']\n",
      "take out one slice potato from trash can butterknife garbagecan ['potato'] ['potato']\n",
      "turn left go around island to microwave above stove potato ['microwave'] ['microwave']\n",
      "heat potato slice in microwave take it out microwave ['potato'] ['potato']\n",
      "turn left go to refrigerator on right potato ['fridge'] ['fridge']\n",
      "place potato slice in refrigerator fridge ['potato', 'fridge'] ['potato', 'fridge']\n",
      "move around to table ['diningtable'] ['countertop']\n",
      "pick up knife from table countertop ['knife'] ['butterknife']\n"
     ]
    },
    {
     "name": "stderr",
     "output_type": "stream",
     "text": [
      " 81%|███████████████████████████████████████████████████████████████▍              | 3762/4627 [01:00<00:13, 64.86it/s]"
     ]
    },
    {
     "name": "stdout",
     "output_type": "stream",
     "text": [
      "move forward to fridge butterknife ['apple'] ['potato']\n",
      "slice potato in fridge potato ['potato'] ['potato']\n",
      "turn around to shelf potato ['shelf'] ['shelf']\n",
      "place knife on shelf shelf ['butterknife', 'fridge'] ['butterknife', 'shelf']\n",
      "turn right to fridge butterknife shelf ['fridge'] ['fridge']\n",
      "pick up slice potato fridge ['potato'] ['potato']\n",
      "move right to oven potato ['microwave'] ['microwave']\n",
      "cook potato in oven take it out microwave ['potato'] ['potato']\n",
      "move left to fridge potato ['fridge'] ['fridge']\n",
      "place cooked slice in fridge fridge ['potato', 'fridge'] ['potato', 'fridge']\n",
      "turn around cross room turn around to face end center table ['coffeetable'] ['countertop']\n",
      "pick up knife on counter countertop ['knife'] ['butterknife']\n",
      "walk to right past center table turn right to face fridge butterknife ['lettuce'] ['potato']\n"
     ]
    },
    {
     "name": "stderr",
     "output_type": "stream",
     "text": [
      " 82%|███████████████████████████████████████████████████████████████▋              | 3776/4627 [01:00<00:13, 65.20it/s]"
     ]
    },
    {
     "name": "stdout",
     "output_type": "stream",
     "text": [
      "cut potato on bottom in fridge into slice potato ['potato'] ['potato']\n",
      "turn left step forward to face shelf potato ['shelf'] ['shelf']\n",
      "place knife on shelf shelf ['butterknife', 'countertop'] ['butterknife', 'shelf']\n",
      "turn right to face fridge butterknife shelf ['fridge'] ['fridge']\n",
      "pick up slice potato in fridge fridge ['potato'] ['potato']\n",
      "turn right step forward turn left to face microwave potato ['microwave'] ['microwave']\n",
      "heat potato slice in microwave remove it microwave ['potato'] ['potato']\n",
      "turn left walk forward turn right to face fridge potato ['fridge'] ['fridge']\n",
      "place potato slice in fridge fridge ['potato', 'fridge'] ['potato', 'fridge']\n",
      "turn around go across room turn right to face end counter ['countertop'] ['countertop']\n",
      "pick up knife on counter by statue countertop ['knife'] ['butterknife']\n",
      "go back across room to fridge butterknife ['potato'] ['potato']\n",
      "cut potato on second shelf in fridge potato ['potato'] ['potato']\n",
      "turn around go to brown shelf on left potato ['shelf'] ['shelf']\n"
     ]
    },
    {
     "name": "stderr",
     "output_type": "stream",
     "text": [
      "\r",
      " 82%|███████████████████████████████████████████████████████████████▊              | 3783/4627 [01:00<00:13, 64.37it/s]"
     ]
    },
    {
     "name": "stdout",
     "output_type": "stream",
     "text": [
      "put knife on top shelf shelf ['butterknife', 'fridge'] ['butterknife', 'shelf']\n",
      "go back to fridge butterknife shelf ['fridge'] ['fridge']\n",
      "pick up slice potato in fridge fridge ['potato'] ['potato']\n",
      "turn right go to microwave potato ['microwave'] ['microwave']\n",
      "cook slice potato in microwave pick it back up microwave ['potato'] ['potato']\n",
      "turn left go back to fridge potato ['fridge'] ['fridge']\n",
      "put cooked slice potato in fridge between mug potato fridge ['potato', 'fridge'] ['potato', 'fridge']\n",
      "turn right go to counter with coffee maker ['countertop'] ['countertop']\n",
      "grab knife off counter countertop ['knife'] ['butterknife']\n",
      "look up at counter butterknife ['apple'] ['potato']\n",
      "slice potato on counter potato ['potato'] ['potato']\n",
      "put knife down on counter potato ['knife', 'countertop'] ['butterknife', 'countertop']\n",
      "grab potato slice off counter butterknife countertop ['potato'] ['potato']\n"
     ]
    },
    {
     "name": "stderr",
     "output_type": "stream",
     "text": [
      " 82%|████████████████████████████████████████████████████████████████              | 3797/4627 [01:00<00:12, 65.46it/s]"
     ]
    },
    {
     "name": "stdout",
     "output_type": "stream",
     "text": [
      "turn left go to microwave potato ['microwave'] ['microwave']\n",
      "heat potato slice in microwave then take it out microwave ['potato'] ['potato']\n",
      "turn left go to fridge potato ['fridge'] ['fridge']\n",
      "put potato slice in fridge fridge ['potato', 'fridge'] ['potato', 'fridge']\n",
      "move right to table ['diningtable'] ['countertop']\n",
      "pick up knife countertop ['knife'] ['butterknife']\n",
      "move up to potato on table butterknife ['potato'] ['potato']\n",
      "slice potato on table potato ['potato'] ['potato']\n",
      "drop knife on coffee maker potato ['butterknife', 'countertop'] ['butterknife', 'countertop']\n",
      "pick up slice potato butterknife countertop ['potato'] ['potato']\n",
      "move left to oven potato ['microwave'] ['microwave']\n",
      "cook potato in oven take it out microwave ['potato'] ['potato']\n",
      "move left to fridge potato ['fridge'] ['fridge']\n"
     ]
    },
    {
     "name": "stderr",
     "output_type": "stream",
     "text": [
      " 82%|████████████████████████████████████████████████████████████████▏             | 3811/4627 [01:01<00:12, 65.13it/s]"
     ]
    },
    {
     "name": "stdout",
     "output_type": "stream",
     "text": [
      "place potato in fridge fridge ['potato', 'fridge'] ['potato', 'fridge']\n",
      "turn right go to coffee maker ['countertop'] ['countertop']\n",
      "pick up knife on counter countertop ['knife'] ['butterknife']\n",
      "look up at potato on counter butterknife ['potato'] ['potato']\n",
      "cut potato on counter potato ['potato'] ['potato']\n",
      "put knife on counter in front coffee maker potato ['knife', 'countertop'] ['butterknife', 'countertop']\n",
      "pick up slice potato butterknife countertop ['potato'] ['potato']\n",
      "go left to microwave above stove potato ['microwave'] ['microwave']\n",
      "cook slice potato in microwave pick it back up microwave ['potato'] ['potato']\n",
      "turn left go to fridge potato ['fridge'] ['fridge']\n",
      "put slice potato on shelf in fridge with lettuce fridge ['potato', 'fridge'] ['potato', 'fridge']\n",
      "turn around completely go forward turn right face sink ['sinkbasin'] ['sinkbasin']\n",
      "pick up tomato from sink sinkbasin ['tomato'] ['tomato']\n"
     ]
    },
    {
     "name": "stderr",
     "output_type": "stream",
     "text": [
      " 83%|████████████████████████████████████████████████████████████████▍             | 3825/4627 [01:01<00:12, 64.79it/s]"
     ]
    },
    {
     "name": "stdout",
     "output_type": "stream",
     "text": [
      "place tomato inside microwave heat tomato then take it out microwave ['tomato'] ['tomato']\n",
      "place tomato inside bin garbagecan ['tomato', 'garbagecan'] ['tomato', 'garbagecan']\n",
      "turn around face sink ['countertop'] ['sinkbasin']\n",
      "pick tomato up from sink sinkbasin ['tomato'] ['tomato']\n",
      "turn around face microwave above stove tomato ['microwave'] ['microwave']\n",
      "put tomato in microwave shut door then open door pick up tomato microwave ['tomato'] ['tomato']\n",
      "go left then left again to face trash can tomato ['garbagecan'] ['garbagecan']\n",
      "put tomato in trash can garbagecan ['tomato', 'garbagecan'] ['tomato', 'garbagecan']\n",
      "turn around walk to sink ['countertop'] ['sinkbasin']\n",
      "pick up tomato from sink sinkbasin ['tomato'] ['tomato']\n",
      "turn around look up tomato ['countertop'] ['microwave']\n",
      "heat tomato in microwave then take it out microwave ['tomato'] ['tomato']\n",
      "turn left walk to end counter then turn left walk to trash can tomato ['garbagecan'] ['garbagecan']\n"
     ]
    },
    {
     "name": "stderr",
     "output_type": "stream",
     "text": [
      " 83%|████████████████████████████████████████████████████████████████▋             | 3839/4627 [01:01<00:12, 64.07it/s]"
     ]
    },
    {
     "name": "stdout",
     "output_type": "stream",
     "text": [
      "put tomato in trash can garbagecan ['tomato', 'garbagecan'] ['tomato', 'garbagecan']\n",
      "turn to left go around island to other side ['countertop'] ['countertop']\n",
      "pick up tomato from kitchen island countertop ['tomato'] ['tomato']\n",
      "place tomato in microwave above oven heat tomato then take it out microwave ['tomato'] ['tomato']\n",
      "turn left then turn right twice to face black bin tomato ['garbagecan'] ['garbagecan']\n",
      "place tomato inside black bin garbagecan ['tomato', 'garbagecan'] ['tomato', 'garbagecan']\n",
      "pick up tomato that s in front you on counter between chair countertop ['tomato'] ['tomato']\n",
      "walk around counter island walk to stove that s in front you tomato ['microwave'] ['microwave']\n",
      "cook tomato in microwave then take it back out close door microwave ['tomato'] ['tomato']\n",
      "put tomato in garbage garbagecan ['tomato', 'garbagecan'] ['tomato', 'garbagecan']\n",
      "pick up tomato on island countertop ['tomato'] ['tomato']\n",
      "heat tomato in microwave microwave ['tomato'] ['tomato']\n",
      "put heated tomato in trash can garbagecan ['tomato', 'garbagecan'] ['tomato', 'garbagecan']\n"
     ]
    },
    {
     "name": "stderr",
     "output_type": "stream",
     "text": [
      " 83%|████████████████████████████████████████████████████████████████▉             | 3854/4627 [01:01<00:11, 65.44it/s]"
     ]
    },
    {
     "name": "stdout",
     "output_type": "stream",
     "text": [
      "turn around turn right at toaster ['countertop'] ['countertop']\n",
      "pick up tomato from back counter countertop ['tomato'] ['tomato']\n",
      "carry tomato take few step to right look up to microwave tomato ['microwave'] ['microwave']\n",
      "carry tomato turn to left face trash can on left side tomato ['garbagecan'] ['garbagecan']\n",
      "place tomato in trash garbagecan ['tomato', 'garbagecan'] ['tomato', 'garbagecan']\n",
      "turn left go to counter next to refrigerator ['countertop'] ['countertop']\n",
      "pick up tomato countertop ['tomato'] ['tomato']\n",
      "turn right face microwave oven above stove tomato ['microwave'] ['microwave']\n",
      "go left around island counter until facing black trash can tomato ['garbagecan'] ['garbagecan']\n",
      "put tomato in right side trash can garbagecan ['tomato', 'garbagecan'] ['tomato', 'garbagecan']\n",
      "turn around walk to dishwasher that on your right ['countertop'] ['countertop']\n",
      "pick up tomato that sitting on counter above dishwasher countertop ['tomato'] ['tomato']\n",
      "turn to right walk to stove turn left to face stove tomato ['microwave'] ['microwave']\n",
      "place tomato into black trash can at end counter garbagecan ['tomato', 'garbagecan'] ['tomato', 'garbagecan']\n"
     ]
    },
    {
     "name": "stderr",
     "output_type": "stream",
     "text": [
      "\r",
      " 83%|█████████████████████████████████████████████████████████████████             | 3861/4627 [01:01<00:11, 65.61it/s]"
     ]
    },
    {
     "name": "stdout",
     "output_type": "stream",
     "text": [
      "turn left go forward turn left go forward bit turn left to counter ['countertop'] ['countertop']\n",
      "take tomato from counter countertop ['tomato'] ['tomato']\n",
      "move bit to right tomato ['microwave'] ['sinkbasin']\n",
      "put tomato in sink sinkbasin ['tomato', 'sinkbasin'] ['tomato', 'sinkbasin']\n",
      "pick up knife from sink tomato sinkbasin ['knife'] ['knife']\n",
      "slice tomato in sink knife ['tomato'] ['tomato']\n",
      "put knife in sink tomato ['knife', 'sinkbasin'] ['knife', 'sinkbasin']\n",
      "pick up tomato slice from sink knife sinkbasin ['tomato'] ['tomato']\n",
      "turn around go to microwave tomato ['microwave'] ['microwave']\n",
      "turn around go to sink tomato ['sinkbasin'] ['sinkbasin']\n",
      "put tomato slice in sink sinkbasin ['tomato', 'sinkbasin'] ['tomato', 'sinkbasin']\n",
      "turn left then left again face sink to your left ['countertop'] ['countertop']\n",
      "take tomato off counter in front you countertop ['tomato'] "
     ]
    },
    {
     "name": "stderr",
     "output_type": "stream",
     "text": [
      " 84%|█████████████████████████████████████████████████████████████████▎            | 3875/4627 [01:01<00:11, 64.92it/s]"
     ]
    },
    {
     "name": "stdout",
     "output_type": "stream",
     "text": [
      "['tomato']\n",
      "turn right face sink to your left tomato ['countertop'] ['sinkbasin']\n",
      "place tomato in sink in front you sinkbasin ['tomato', 'sinkbasin'] ['tomato', 'sinkbasin']\n",
      "take knife from sink in front you tomato sinkbasin ['butterknife'] ['knife']\n",
      "slice tomato in sink in front you knife ['tomato'] ['tomato']\n",
      "place knife in sink in front you tomato ['butterknife', 'sinkbasin'] ['knife', 'sinkbasin']\n",
      "take tomato slice from sink in front you knife sinkbasin ['tomato'] ['tomato']\n",
      "turn around face microwave on top stove in front you tomato ['microwave'] ['microwave']\n",
      "heat up tomato slice in microwave take tomato out microwave ['tomato'] ['tomato']\n",
      "turn around face sink in front you tomato ['sinkbasin'] ['sinkbasin']\n",
      "place warm tomato slice in sink in front you sinkbasin ['tomato', 'sinkbasin'] ['tomato', 'sinkbasin']\n",
      "turn left go to counter to left sink ['countertop'] ['countertop']\n",
      "grab tomato off counter countertop ['tomato'] ['tomato']\n",
      "turn right go to sink tomato ['sinkbasin'] ['sinkbasin']\n"
     ]
    },
    {
     "name": "stderr",
     "output_type": "stream",
     "text": [
      " 84%|█████████████████████████████████████████████████████████████████▌            | 3889/4627 [01:02<00:11, 64.64it/s]"
     ]
    },
    {
     "name": "stdout",
     "output_type": "stream",
     "text": [
      "put tomato in sink sinkbasin ['tomato', 'sinkbasin'] ['tomato', 'sinkbasin']\n",
      "grab knife out sink tomato sinkbasin ['knife'] ['knife']\n",
      "slice tomato in sink knife ['tomato'] ['tomato']\n",
      "put knife in sink tomato ['knife', 'sinkbasin'] ['knife', 'sinkbasin']\n",
      "grab slice tomato knife sinkbasin ['tomato'] ['tomato']\n",
      "turn around go to microwave tomato ['microwave'] ['microwave']\n",
      "heat sliced tomato in microwave then take it out microwave ['tomato'] ['tomato']\n",
      "turn around go to sink tomato ['sinkbasin'] ['sinkbasin']\n",
      "put sliced tomato in sink sinkbasin ['tomato', 'sinkbasin'] ['tomato', 'sinkbasin']\n",
      "turn around then turn left face counter by stove in front you ['countertop'] ['countertop']\n",
      "take silver knife off counter in front you countertop ['butterknife'] ['butterknife']\n",
      "turn left face counter on your right butterknife ['lettuce'] ['tomato']\n",
      "slice tomato on counter in front you tomato ['tomato'] ['tomato']\n"
     ]
    },
    {
     "name": "stderr",
     "output_type": "stream",
     "text": [
      " 84%|█████████████████████████████████████████████████████████████████▊            | 3903/4627 [01:02<00:11, 64.19it/s]"
     ]
    },
    {
     "name": "stdout",
     "output_type": "stream",
     "text": [
      "turn around face sink in front you tomato ['sinkbasin'] ['sinkbasin']\n",
      "place knife in sink in front you sinkbasin ['knife', 'sinkbasin'] ['butterknife', 'sinkbasin']\n",
      "turn around face counter in front you butterknife sinkbasin ['countertop'] ['countertop']\n",
      "take tomato slice off counter in front you countertop ['tomato'] ['tomato']\n",
      "turn right face microwave on top stove to your left tomato ['microwave'] ['microwave']\n",
      "heat up tomato slice in microwave take it out microwave ['tomato'] ['tomato']\n",
      "turn around face sink in front you tomato ['sinkbasin'] ['sinkbasin']\n",
      "place warm tomato slice in sink sinkbasin ['tomato', 'sinkbasin'] ['tomato', 'sinkbasin']\n",
      "pick up smaller knife on counter to left stove countertop ['knife'] ['butterknife']\n",
      "turn to face tomato on counter butterknife ['tomato'] ['tomato']\n",
      "slice tomato with smaller knife tomato ['tomato'] ['tomato']\n",
      "turn around to face sink tomato ['cabinet'] ['sinkbasin']\n",
      "put knife in sink sinkbasin ['knife', 'sinkbasin'] ['butterknife', 'sinkbasin']\n"
     ]
    },
    {
     "name": "stderr",
     "output_type": "stream",
     "text": [
      " 85%|██████████████████████████████████████████████████████████████████            | 3917/4627 [01:02<00:11, 64.28it/s]"
     ]
    },
    {
     "name": "stdout",
     "output_type": "stream",
     "text": [
      "turn around to face counter to left stove butterknife sinkbasin ['countertop'] ['countertop']\n",
      "pick up slice tomato from countertop countertop ['tomato'] ['tomato']\n",
      "turn right walk to microwave tomato ['microwave'] ['microwave']\n",
      "heat up slice tomato in microwave removing it afterwards microwave ['tomato'] ['tomato']\n",
      "turn left to walk back to sink tomato ['sinkbasin'] ['sinkbasin']\n",
      "put slice tomato in sink sinkbasin ['tomato', 'sinkbasin'] ['tomato', 'sinkbasin']\n",
      "turn around cross room to face counter on left side stove ['countertop'] ['countertop']\n",
      "pick up knife on counter countertop ['knife'] ['butterknife']\n",
      "look to left to face tomato on counter butterknife ['tomato'] ['tomato']\n",
      "cut tomato on counter into slice tomato ['tomato'] ['tomato']\n",
      "turn around to face sink tomato ['cabinet'] ['sinkbasin']\n",
      "place knife in sink sinkbasin ['knife', 'sinkbasin'] ['butterknife', 'sinkbasin']\n",
      "turn around to face tomato on counter butterknife sinkbasin ['countertop'] ['countertop']\n"
     ]
    },
    {
     "name": "stderr",
     "output_type": "stream",
     "text": [
      " 85%|██████████████████████████████████████████████████████████████████▎           | 3931/4627 [01:02<00:10, 64.23it/s]"
     ]
    },
    {
     "name": "stdout",
     "output_type": "stream",
     "text": [
      "pick up slice tomato on counter countertop ['tomato'] ['tomato']\n",
      "take step to right to face microwave tomato ['microwave'] ['microwave']\n",
      "heat tomato slice in microwave remove it microwave ['tomato'] ['tomato']\n",
      "turn around step forward to face sink tomato ['sinkbasin'] ['sinkbasin']\n",
      "place tomato slice in sink sinkbasin ['tomato', 'sinkbasin'] ['tomato', 'sinkbasin']\n",
      "walk around left counter turn left to face knife on counter ['countertop'] ['countertop']\n",
      "pick up knife on counter countertop ['knife'] ['knife']\n",
      "turn around to face sink knife ['cabinet'] ['tomato']\n",
      "cut tomato in sink into slice tomato ['tomato'] ['tomato']\n",
      "place knife in sink tomato ['butterknife', 'sinkbasin'] ['knife', 'sinkbasin']\n",
      "pick up slice tomato in sink knife sinkbasin ['tomato'] ['tomato']\n",
      "turn around to face microwave tomato ['microwave'] ['microwave']\n",
      "heat tomato slice in microwave remove it microwave ['tomato'] ['tomato']\n"
     ]
    },
    {
     "name": "stderr",
     "output_type": "stream",
     "text": [
      " 85%|██████████████████████████████████████████████████████████████████▌           | 3946/4627 [01:03<00:10, 65.88it/s]"
     ]
    },
    {
     "name": "stdout",
     "output_type": "stream",
     "text": [
      "turn around to face sink tomato ['cabinet'] ['sinkbasin']\n",
      "place tomato slice in sink sinkbasin ['tomato', 'sinkbasin'] ['tomato', 'sinkbasin']\n",
      "pick up knife on counter countertop ['knife'] ['knife']\n",
      "turn left then right crossing to sink knife ['apple'] ['tomato']\n",
      "cut slice out tomato tomato ['knife', 'countertop'] ['tomato']\n",
      "place knife in sink pick up tomato slice tomato ['knife', 'sinkbasin'] ['knife', 'sinkbasin']\n",
      "turn around go to microwave stove knife sinkbasin ['countertop'] ['tomato']\n",
      "place tomato in microwave tomato ['fridge'] ['microwave']\n",
      "close door turn on for several second then take it out close door microwave ['pan'] ['tomato']\n",
      "turn around go back to sink tomato ['sinkbasin'] ['sinkbasin']\n",
      "place tomato in sink sinkbasin ['tomato', 'sinkbasin'] ['tomato', 'sinkbasin']\n",
      "pick up knife on back counter behind lettuce countertop ['butterknife'] ['knife']\n",
      "turn around go to sink knife ['apple'] ['tomato']\n",
      "cut tomato in sink into slice tomato ['tomato'] ['tomato']\n"
     ]
    },
    {
     "name": "stderr",
     "output_type": "stream",
     "text": [
      " 86%|██████████████████████████████████████████████████████████████████▊           | 3960/4627 [01:03<00:10, 64.21it/s]"
     ]
    },
    {
     "name": "stdout",
     "output_type": "stream",
     "text": [
      "place knife in sink tomato ['butterknife', 'sinkbasin'] ['knife', 'sinkbasin']\n",
      "pick up one tomato slice knife sinkbasin ['tomato'] ['tomato']\n",
      "turn around go to microwave above stove tomato ['microwave'] ['microwave']\n",
      "turn back around to sink tomato ['sinkbasin'] ['sinkbasin']\n",
      "place tomato slice in sink sinkbasin ['tomato', 'sinkbasin'] ['tomato', 'sinkbasin']\n",
      "take apple closer to you from sink sinkbasin ['apple'] ['apple']\n",
      "turn left go forward to window turn left go forward to counter apple ['countertop'] ['countertop']\n",
      "put apple on counter to left phone countertop ['apple', 'countertop'] ['apple', 'countertop']\n",
      "turn left go forward turn left at sink go to sink apple countertop ['apple'] ['sinkbasin']\n",
      "take apple from sink sinkbasin ['apple'] ['apple']\n",
      "turn left go forward to window turn left go forward to counter apple ['countertop'] ['countertop']\n",
      "put apple on counter to right salt countertop ['apple', 'countertop'] ['apple', 'countertop']\n",
      "turn left go forward turn right at counter to right stove top apple countertop ['countertop'] ['countertop']\n"
     ]
    },
    {
     "name": "stderr",
     "output_type": "stream",
     "text": [
      "\r",
      " 86%|██████████████████████████████████████████████████████████████████▊           | 3967/4627 [01:03<00:10, 64.04it/s]"
     ]
    },
    {
     "name": "stdout",
     "output_type": "stream",
     "text": [
      "take small knife from under lettuce countertop ['butterknife'] ['butterknife']\n",
      "turn right go forward turn left at counter with apple butterknife ['apple'] ['apple']\n",
      "cut both apple into piece on counter apple ['apple'] ['apple']\n",
      "turn left walk to kitchen sink on left ['knife'] ['sinkbasin']\n",
      "pick up green apple closest to you sinkbasin ['apple'] ['apple']\n",
      "turn around move to counter with coffee maker apple ['cabinet'] ['countertop']\n",
      "put apple down to left cell phone countertop ['apple', 'countertop'] ['apple', 'countertop']\n",
      "turn around walk back to sink apple countertop ['apple'] ['sinkbasin']\n",
      "pick up remaining apple in sink sinkbasin ['apple'] ['apple']\n",
      "turn around walk back to counter with first apple on it apple ['countertop'] ['countertop']\n",
      "put apple down to right salt shaker countertop ['apple', 'countertop'] ['apple', 'countertop']\n",
      "move to counter that s to left stove apple countertop ['countertop'] ['countertop']\n",
      "pick up knife that s underneath head lettuce on right countertop ['butterknife'] ['butterknife']"
     ]
    },
    {
     "name": "stderr",
     "output_type": "stream",
     "text": [
      " 86%|███████████████████████████████████████████████████████████████████           | 3981/4627 [01:03<00:10, 63.88it/s]"
     ]
    },
    {
     "name": "stdout",
     "output_type": "stream",
     "text": [
      "\n",
      "move back to counter with coffee maker on it butterknife ['apple'] ['apple']\n",
      "cut both apple with knife apple ['apple'] ['apple']\n",
      "turn left move to counter in front sink ['countertop'] ['sinkbasin']\n",
      "pick up apple that closest to edge from sink sinkbasin ['apple'] ['apple']\n",
      "turn left move to counter near coffee maker apple ['countertop'] ['countertop']\n",
      "place apple to left cell phone countertop ['apple', 'countertop'] ['apple', 'countertop']\n",
      "turn left move to counter in front sink apple countertop ['apple'] ['sinkbasin']\n",
      "pick up apple from sink sinkbasin ['apple'] ['apple']\n",
      "turn left move to counter near coffee maker apple ['countertop'] ['countertop']\n",
      "place apple to right salt shaker countertop ['apple', 'countertop'] ['apple', 'countertop']\n",
      "turn left move to counter left stove apple countertop ['countertop'] ['countertop']\n",
      "pick up knife that under right piece lettuce countertop ['butterknife'] ['butterknife']\n",
      "turn right move to counter near coffee maker butterknife ['lettuce'] ['apple']\n"
     ]
    },
    {
     "name": "stderr",
     "output_type": "stream",
     "text": [
      " 86%|███████████████████████████████████████████████████████████████████▎          | 3995/4627 [01:03<00:10, 62.55it/s]"
     ]
    },
    {
     "name": "stdout",
     "output_type": "stream",
     "text": [
      "slice left right apple into section apple ['apple'] ['apple']\n",
      "pick up apple in sink that furthest from faucet sinkbasin ['apple'] ['apple']\n",
      "put apple on counter to left phone countertop ['apple', 'countertop'] ['apple', 'countertop']\n",
      "turn to left go forward to sink that on left apple countertop ['sinkbasin'] ['sinkbasin']\n",
      "pick up apple that in sink sinkbasin ['apple'] ['apple']\n",
      "put apple on counter to left salt shaker countertop ['apple', 'countertop'] ['apple', 'countertop']\n",
      "turn to left go forward to counter on right where lettuce apple countertop ['countertop'] ['countertop']\n",
      "pick up butter knife that underneath leftmost head lettuce countertop ['butterknife'] ['butterknife']\n",
      "use knife to cut leftmost apple then use knife to cut rightmost apple apple ['apple'] ['apple']\n",
      "turn left walk to sink ['countertop'] ['sinkbasin']\n",
      "pick up green apple closest to you sinkbasin ['apple'] ['apple']\n",
      "turn left walk to coffee machine apple ['countertop'] ['countertop']\n"
     ]
    },
    {
     "name": "stderr",
     "output_type": "stream",
     "text": [
      " 87%|███████████████████████████████████████████████████████████████████▌          | 4009/4627 [01:04<00:09, 62.14it/s]"
     ]
    },
    {
     "name": "stdout",
     "output_type": "stream",
     "text": [
      "place green apple to left phone on counter countertop ['apple', 'countertop'] ['apple', 'countertop']\n",
      "turn left walk to sink apple countertop ['apple'] ['sinkbasin']\n",
      "pick up green apple from sink sinkbasin ['apple'] ['apple']\n",
      "turn left walk to coffee machine apple ['countertop'] ['countertop']\n",
      "place apple to right salt on counter countertop ['apple', 'countertop'] ['apple', 'countertop']\n",
      "turn left walk to knife closest to stove apple countertop ['diningtable'] ['countertop']\n",
      "pick up knife closest to stove countertop ['knife'] ['butterknife']\n",
      "turn right walk to coffee machine butterknife ['tomato'] ['apple']\n",
      "cut up both apple on counter apple ['apple'] ['apple']\n",
      "turn left move around kitchen island to face sink ['sinkbasin'] ['sinkbasin']\n",
      "pick up apple closest to you in sink sinkbasin ['apple'] ['apple']\n",
      "turn left face coffee maker on counter apple ['coffeemachine'] ['countertop']\n"
     ]
    },
    {
     "name": "stderr",
     "output_type": "stream",
     "text": [
      " 87%|███████████████████████████████████████████████████████████████████▊          | 4023/4627 [01:04<00:09, 62.07it/s]"
     ]
    },
    {
     "name": "stdout",
     "output_type": "stream",
     "text": [
      "place apple on counter to left coffee maker countertop ['apple', 'countertop'] ['apple', 'countertop']\n",
      "turn left move to sink again apple countertop ['apple'] ['sinkbasin']\n",
      "pick up remaining apple in sink sinkbasin ['apple'] ['apple']\n",
      "turn left face coffee maker on counter apple ['coffeemachine'] ['countertop']\n",
      "place apple on counter to right coffee maker countertop ['apple', 'countertop'] ['apple', 'countertop']\n",
      "turn left head to counter to left oven apple countertop ['countertop'] ['countertop']\n",
      "pick up knife underneath lettuce on counter countertop ['knife'] ['butterknife']\n",
      "turn right go to coffee maker butterknife ['lettuce'] ['apple']\n",
      "slice two apple on counter with knife apple ['apple'] ['apple']\n",
      "pick up green apple from trash can garbagecan ['apple'] ['apple']\n",
      "turn around turn right then turn left to face counter apple ['countertop'] ['countertop']\n",
      "put apple on counter under knife countertop ['apple', 'countertop'] ['apple', 'countertop']\n",
      "pick up knife that on counter apple countertop ['butterknife'] ['knife']\n"
     ]
    },
    {
     "name": "stderr",
     "output_type": "stream",
     "text": [
      "\r",
      " 87%|███████████████████████████████████████████████████████████████████▉          | 4030/4627 [01:04<00:09, 62.70it/s]"
     ]
    },
    {
     "name": "stdout",
     "output_type": "stream",
     "text": [
      "take knife slice apple in half knife ['apple'] ['apple']\n",
      "turn around face sink apple ['cabinet'] ['apple']\n",
      "use knife slice apple in sink into three piece apple ['apple'] ['apple']\n",
      "put knife into sink apple ['knife', 'sinkbasin'] ['knife', 'sinkbasin']\n",
      "take center piece sliced apple out sink knife sinkbasin ['apple'] ['apple']\n",
      "turn around to face counter apple ['countertop'] ['countertop']\n",
      "place piece sliced apple from sink next to apple on counter countertop ['apple', 'sinkbasin'] ['apple', 'countertop']\n",
      "turn left head to trash can ['garbagecan'] ['garbagecan']\n",
      "grab apple out trash can garbagecan ['apple'] ['apple']\n",
      "turn around head to counter apple ['microwave'] ['countertop']\n",
      "place apple down on counter countertop ['apple', 'countertop'] ['apple', 'countertop']\n",
      "pick up knife off counter apple countertop ['knife'] ['knife']\n",
      "cut apple into three slice knife ['apple'] ['apple']\n"
     ]
    },
    {
     "name": "stderr",
     "output_type": "stream",
     "text": [
      " 87%|████████████████████████████████████████████████████████████████████▏         | 4044/4627 [01:04<00:09, 62.17it/s]"
     ]
    },
    {
     "name": "stdout",
     "output_type": "stream",
     "text": [
      "turn around stop at sink apple ['sinkbasin'] ['apple']\n",
      "cut apple in sink into three slice apple ['apple'] ['apple']\n",
      "put knife into sink apple ['knife', 'sinkbasin'] ['knife', 'sinkbasin']\n",
      "grab one apple slice knife sinkbasin ['apple'] ['apple']\n",
      "turn around face counter apple ['countertop'] ['countertop']\n",
      "put apple slice on counter countertop ['apple', 'countertop'] ['apple', 'countertop']\n",
      "walk to trash can in kitchen ['garbagecan'] ['garbagecan']\n",
      "bend down get fruit out trash garbagecan ['potato'] ['apple']\n",
      "turn around walk to counter by fridge apple ['countertop'] ['countertop']\n",
      "set fruit down on counter countertop ['potato', 'countertop'] ['apple', 'countertop']\n",
      "take knife cut fruit in to slice apple countertop ['butterknife'] ['knife']\n",
      "take knife to kitchen sink knife ['potato'] ['apple']\n"
     ]
    },
    {
     "name": "stderr",
     "output_type": "stream",
     "text": [
      " 88%|████████████████████████████████████████████████████████████████████▍         | 4058/4627 [01:04<00:09, 60.04it/s]"
     ]
    },
    {
     "name": "stdout",
     "output_type": "stream",
     "text": [
      "slice fruit that in sink apple ['apple'] ['apple']\n",
      "set knife down in sink apple ['knife', 'sinkbasin'] ['apple']\n",
      "pick slice fruit from kitchen sink apple ['knife', 'sinkbasin'] ['knife', 'sinkbasin']\n",
      "turn around in kitchen knife sinkbasin ['countertop'] ['apple']\n",
      "walk back to counter apple ['countertop'] ['countertop']\n",
      "set fruit down on counter countertop ['potato', 'countertop'] ['apple', 'countertop']\n",
      "turn left walk across room turn right to face trash can ['garbagecan'] ['garbagecan']\n",
      "pick up green apple in trash can garbagecan ['apple'] ['apple']\n",
      "turn around approach counter to right fridge apple ['countertop'] ['countertop']\n",
      "place apple on edge counter countertop ['apple', 'countertop'] ['apple', 'countertop']\n",
      "pick up knife on counter apple countertop ['knife'] ['knife']\n",
      "cut apple into three piece knife ['apple'] ['apple']\n"
     ]
    },
    {
     "name": "stderr",
     "output_type": "stream",
     "text": [
      " 88%|████████████████████████████████████████████████████████████████████▋         | 4072/4627 [01:05<00:09, 60.51it/s]"
     ]
    },
    {
     "name": "stdout",
     "output_type": "stream",
     "text": [
      "turn around approach sink apple ['microwave'] ['apple']\n",
      "cut apple in sink into three piece apple ['apple'] ['apple']\n",
      "place knife in sink apple ['knife', 'sinkbasin'] ['knife', 'sinkbasin']\n",
      "pick up piece apple out sink knife sinkbasin ['apple'] ['apple']\n",
      "turn around step forward to face counter apple ['countertop'] ['countertop']\n",
      "set piece apple to right other apple on counter countertop ['apple', 'countertop'] ['apple', 'countertop']\n",
      "turn left move to counter near black bin ['garbagecan'] ['garbagecan']\n",
      "pick apple up out black bin garbagecan ['apple'] ['apple']\n",
      "turn left move to counter in front dishwasher apple ['countertop'] ['countertop']\n",
      "put apple on to counter countertop ['apple', 'countertop'] ['apple', 'countertop']\n",
      "pick up knife from counter apple countertop ['knife'] ['knife']\n",
      "cut apple on counter into section knife ['apple'] ['apple']\n"
     ]
    },
    {
     "name": "stderr",
     "output_type": "stream",
     "text": [
      "\r",
      " 88%|████████████████████████████████████████████████████████████████████▊         | 4079/4627 [01:05<00:09, 58.05it/s]"
     ]
    },
    {
     "name": "stdout",
     "output_type": "stream",
     "text": [
      "turn right move to counter in front sink apple ['sinkbasin'] ['apple']\n",
      "cut apple in sink into section apple ['apple'] ['apple']\n",
      "place knife into sink apple ['knife', 'sinkbasin'] ['knife', 'sinkbasin']\n",
      "pick up section apple knife sinkbasin ['apple'] ['apple']\n",
      "turn right move to counter in front dishwasher apple ['countertop'] ['countertop']\n",
      "place apple section to right other apple countertop ['apple', 'countertop'] ['apple', 'countertop']\n",
      "take apple on right from sink sinkbasin ['apple'] ['apple']\n",
      "turn around go to counter dishwasher apple ['countertop'] ['countertop']\n",
      "put apple on right statue in front salt countertop ['apple', 'countertop'] ['apple', 'countertop']\n",
      "stay at counter apple countertop ['countertop'] ['countertop']\n",
      "take knife from counter countertop ['knife'] ['butterknife']\n",
      "stay at counter butterknife ['tomato'] ['apple']\n"
     ]
    },
    {
     "name": "stderr",
     "output_type": "stream",
     "text": [
      " 88%|████████████████████████████████████████████████████████████████████▉         | 4092/4627 [01:05<00:09, 58.80it/s]"
     ]
    },
    {
     "name": "stdout",
     "output_type": "stream",
     "text": [
      "cut apple into piece apple ['apple'] ['apple']\n",
      "turn around go to sink apple ['cabinet'] ['apple']\n",
      "cut apple in sink into piece apple ['apple'] ['apple']\n",
      "put knife in sink apple ['knife', 'sinkbasin'] ['butterknife', 'sinkbasin']\n",
      "take piece apple from sink butterknife sinkbasin ['apple'] ['apple']\n",
      "turn around go to counter dishwasher apple ['countertop'] ['countertop']\n",
      "put piece apple to left other cut apple countertop ['apple', 'countertop'] ['apple', 'countertop']\n",
      "walk towards fridge then turn right walk forward turn right to face counter ['countertop'] ['sinkbasin']\n",
      "pick up green up inside sink on right side sinkbasin ['lettuce'] ['apple']\n",
      "turn around to face counter apple ['countertop'] ['countertop']\n",
      "put apple down in front salt shaker countertop ['apple', 'countertop'] ['apple', 'countertop']\n",
      "look down towards edge counter apple countertop ['countertop'] ['countertop']\n"
     ]
    },
    {
     "name": "stderr",
     "output_type": "stream",
     "text": [
      " 89%|█████████████████████████████████████████████████████████████████████▏        | 4104/4627 [01:05<00:08, 58.58it/s]"
     ]
    },
    {
     "name": "stdout",
     "output_type": "stream",
     "text": [
      "pick up knife from edge counter countertop ['knife'] ['butterknife']\n",
      "move towards apple with knife butterknife ['apple'] ['apple']\n",
      "cut apple on counter with knife apple ['apple'] ['apple']\n",
      "turn around face sink apple ['cabinet'] ['apple']\n",
      "cut apple that inside sink apple ['apple'] ['apple']\n",
      "place knife into sink apple ['knife', 'sinkbasin'] ['butterknife', 'sinkbasin']\n",
      "pick up an apple slice out sink butterknife sinkbasin ['apple'] ['apple']\n",
      "turn around to face counter apple ['countertop'] ['countertop']\n",
      "place apple slice left previously sliced apple countertop ['apple', 'countertop'] ['apple', 'countertop']\n",
      "begin walking across room then hang right walk around island to sink ['sinkbasin'] ['sinkbasin']\n",
      "pick up green apple in right side sink basin sinkbasin ['apple'] ['apple']\n"
     ]
    },
    {
     "name": "stderr",
     "output_type": "stream",
     "text": [
      " 89%|█████████████████████████████████████████████████████████████████████▍        | 4116/4627 [01:05<00:08, 56.99it/s]"
     ]
    },
    {
     "name": "stdout",
     "output_type": "stream",
     "text": [
      "turn around walk to section counter above dish washer apple ['countertop'] ['countertop']\n",
      "put apple on counter to left golden statue countertop ['apple', 'countertop'] ['apple', 'countertop']\n",
      "look down at butter knife on counter apple countertop ['countertop'] ['countertop']\n",
      "pick up butter knife off counter in front you countertop ['butterknife'] ['butterknife']\n",
      "look up at green apple on counter butterknife ['apple'] ['apple']\n",
      "cut apple that to left statue into three piece with butter knife apple ['apple'] ['apple']\n",
      "turn right walk to sink apple ['sinkbasin'] ['apple']\n",
      "use butter knife to slice lime in sink into three piece apple ['apple'] ['apple']\n",
      "put butter knife into sink below potato apple ['butterknife', 'sinkbasin'] ['butterknife', 'sinkbasin']\n",
      "pick up middle lime slice out sink butterknife sinkbasin ['lettuce'] ['apple']\n",
      "turn right walk to section counter above dish washer apple ['countertop'] ['countertop']\n",
      "put slice lime onto counter to left sliced apple countertop ['potato', 'countertop'] ['apple', 'countertop']\n"
     ]
    },
    {
     "name": "stderr",
     "output_type": "stream",
     "text": [
      " 89%|█████████████████████████████████████████████████████████████████████▌        | 4129/4627 [01:06<00:08, 58.84it/s]"
     ]
    },
    {
     "name": "stdout",
     "output_type": "stream",
     "text": [
      "walk around room face sink ['sinkbasin'] ['sinkbasin']\n",
      "take an apple from sink sinkbasin ['apple'] ['apple']\n",
      "turn around to face counter apple ['countertop'] ['countertop']\n",
      "place apple on counter countertop ['apple', 'countertop'] ['apple', 'countertop']\n",
      "turn to face knife on sink apple countertop ['countertop'] ['countertop']\n",
      "pick up knife on counter countertop ['knife'] ['butterknife']\n",
      "turn to face apple on counter butterknife ['apple'] ['apple']\n",
      "cut apple into 3 slice apple ['apple'] ['apple']\n",
      "turn around to face sink apple ['microwave'] ['apple']\n",
      "cut apple in sink into 3 slice apple ['apple'] ['apple']\n",
      "put knife in sink apple ['knife', 'sinkbasin'] ['butterknife', 'sinkbasin']\n",
      "pick up piece apple from in sink butterknife sinkbasin ['apple'] ['apple']\n"
     ]
    },
    {
     "name": "stderr",
     "output_type": "stream",
     "text": [
      " 89%|█████████████████████████████████████████████████████████████████████▊        | 4141/4627 [01:06<00:08, 58.27it/s]"
     ]
    },
    {
     "name": "stdout",
     "output_type": "stream",
     "text": [
      "turn around to face counter apple ['countertop'] ['countertop']\n",
      "place piece apple to left other apple countertop ['apple', 'countertop'] ['apple', 'countertop']\n",
      "go to desk directly behind you ['shelf'] ['desk']\n",
      "pick up disc from left front corner desk desk ['cd'] ['cd']\n",
      "turn right carry disc to white safe in corner to your left cd ['safe'] ['safe']\n",
      "put disc in safe safe ['cd', 'safe'] ['cd', 'safe']\n",
      "return to desk cd safe ['desk'] ['desk']\n",
      "get disc from far right side desk desk ['cd'] ['cd']\n",
      "carry disc to corner safe cd ['safe'] ['safe']\n",
      "put disc into safe close safe safe ['cd', 'safe'] ['cd', 'safe']\n",
      "turn right towards window turn right towards desk ['desk'] ['desk']\n",
      "pick up cd from desk desk ['cd'] ['cd']\n"
     ]
    },
    {
     "name": "stderr",
     "output_type": "stream",
     "text": [
      " 90%|██████████████████████████████████████████████████████████████████████        | 4155/4627 [01:06<00:07, 60.55it/s]"
     ]
    },
    {
     "name": "stdout",
     "output_type": "stream",
     "text": [
      "place cd in vault safe ['cd', 'safe'] ['cd', 'safe']\n",
      "turn left towards bed then turn right towards desk cd safe ['desklamp'] ['desk']\n",
      "pick up cd from desk desk ['cd'] ['cd']\n",
      "place cd in vault close safe ['cd', 'safe'] ['cd', 'safe']\n",
      "move to desk closest to widow ['cabinet'] ['desk']\n",
      "pick up cd from desk desk ['cd'] ['cd']\n",
      "move to safe to right you to left mirror cd ['safe'] ['safe']\n",
      "place cd inside close door safe ['cd', 'safe'] ['cd', 'safe']\n",
      "move to desk closest to widow cd safe ['desk'] ['desk']\n",
      "pick up cd from desk desk ['cd'] ['cd']\n",
      "move to safe to right you to left mirror cd ['safe'] ['safe']\n",
      "place cd inside close door safe ['cd', 'safe'] ['cd', 'safe']\n",
      "turn around head to desk ['shelf'] ['desk']\n"
     ]
    },
    {
     "name": "stderr",
     "output_type": "stream",
     "text": [
      "\r",
      " 90%|██████████████████████████████████████████████████████████████████████▏       | 4162/4627 [01:06<00:07, 60.16it/s]"
     ]
    },
    {
     "name": "stdout",
     "output_type": "stream",
     "text": [
      "pick up cd on left desk ['cd'] ['cd']\n",
      "turn right cross room to trashcan turn left head to safe cd ['safe'] ['safe']\n",
      "put cd in safe safe ['cd', 'safe'] ['cd', 'safe']\n",
      "turn around head to trashcan then turn right cross room to chair cd safe ['armchair'] ['desk']\n",
      "face desk pick up cd desk ['cd'] ['cd']\n",
      "turn right cross room to trashcan then turn left head to safe cd ['safe'] ['safe']\n",
      "put cd in safe safe ['cd', 'safe'] ['cd', 'safe']\n",
      "turn around so you are next to wall facing blue chair ['armchair'] ['desk']\n",
      "pick up cd off desk desk ['cd'] ['cd']\n",
      "open safe put cd inside it before closing it again safe ['cd', 'safe'] ['cd', 'safe']\n",
      "pick up another cd off desk desk ['cd'] ['cd']\n",
      "head back to safe cd ['safe'] ['safe']"
     ]
    },
    {
     "name": "stderr",
     "output_type": "stream",
     "text": [
      " 90%|██████████████████████████████████████████████████████████████████████▍       | 4175/4627 [01:06<00:07, 58.42it/s]"
     ]
    },
    {
     "name": "stdout",
     "output_type": "stream",
     "text": [
      "\n",
      "open safe put other cd inside it before closing it again safe ['cd', 'safe'] ['cd', 'safe']\n",
      "turn right head towards bed then turn right towards desk on your right ['sidetable'] ['desk']\n",
      "pick up cd on desk desk ['cd'] ['cd']\n",
      "turn right towards night stand then turn left towards vault on floor cd ['safe'] ['safe']\n",
      "place cd in vault close it safe ['cd', 'safe'] ['cd', 'safe']\n",
      "turn left towards desk cd safe ['desk'] ['desk']\n",
      "pick up cd from desk desk ['cd'] ['cd']\n",
      "turn around towards vault cd ['safe'] ['safe']\n",
      "open vault place cd in it close vault safe ['cd', 'safe'] ['cd', 'safe']\n",
      "take cd from desk desk ['cd'] ['cd']\n",
      "open safe put cd in safe close safe safe ['cd', 'safe'] ['cd', 'safe']\n",
      "turn left go to desk cd safe ['desk'] ['desk']\n"
     ]
    },
    {
     "name": "stderr",
     "output_type": "stream",
     "text": [
      " 90%|██████████████████████████████████████████████████████████████████████▌       | 4187/4627 [01:07<00:07, 58.29it/s]"
     ]
    },
    {
     "name": "stdout",
     "output_type": "stream",
     "text": [
      "take cd from desk desk ['cd'] ['cd']\n",
      "turn around go back to safe cd ['safe'] ['safe']\n",
      "open safe put cd in safe close safe safe ['cd', 'safe'] ['cd', 'safe']\n",
      "turn around walk to wooden desk by window ['shelf'] ['desk']\n",
      "pick up cd from desk desk ['cd'] ['cd']\n",
      "turn right walk to small white safe by mirror cd ['safe'] ['safe']\n",
      "put cd into safe safe ['cd', 'safe'] ['cd', 'safe']\n",
      "turn left walk forward to desk with lamp on it cd safe ['sidetable'] ['desk']\n",
      "pick up cd from desk desk ['cd'] ['cd']\n",
      "turn around walk back to safe cd ['safe'] ['safe']\n",
      "put cd into safe safe ['cd', 'safe'] ['cd', 'safe']\n",
      "pick up cd laying on table desk ['cd'] ['cd']\n"
     ]
    },
    {
     "name": "stderr",
     "output_type": "stream",
     "text": [
      " 91%|██████████████████████████████████████████████████████████████████████▊       | 4199/4627 [01:07<00:07, 57.15it/s]"
     ]
    },
    {
     "name": "stdout",
     "output_type": "stream",
     "text": [
      "open safe then put cd in safe then close safe safe ['cd', 'safe'] ['cd', 'safe']\n",
      "take step forward then turn left walk across room to face dresser cd safe ['dresser'] ['desk']\n",
      "pick up cd laying on dresser desk ['cd'] ['cd']\n",
      "turn around turn right take step then turn to face safe cd ['safe'] ['safe']\n",
      "open safe place cd in safe then shut safe safe ['cd', 'safe'] ['cd', 'safe']\n",
      "turn around go to desk ['desk'] ['desk']\n",
      "grab disk off desk desk ['cd'] ['cd']\n",
      "turn around walk to far wall turn left face safe cd ['safe'] ['safe']\n",
      "put disk in safe safe ['cd', 'safe'] ['cd', 'safe']\n",
      "close safe turn around go back to desk cd safe ['desk'] ['desk']\n",
      "pick up second disk off desk desk ['cd'] ['cd']\n",
      "turn around walk back to safe cd ['safe'] ['safe']\n"
     ]
    },
    {
     "name": "stderr",
     "output_type": "stream",
     "text": [
      " 91%|██████████████████████████████████████████████████████████████████████▉       | 4211/4627 [01:07<00:07, 57.75it/s]"
     ]
    },
    {
     "name": "stdout",
     "output_type": "stream",
     "text": [
      "open safe put second disk in then close safe safe ['cd', 'safe'] ['cd', 'safe']\n",
      "turn around move to front side desk across room ['shelf'] ['desk']\n",
      "remove cd from red cd player on desk desk ['cd'] ['cd']\n",
      "turn right move across room turn left towards safe in corner cd ['safe'] ['safe']\n",
      "put cd in safe safe ['cd', 'safe'] ['cd', 'safe']\n",
      "turn left move back to front desk cd safe ['desk'] ['desk']\n",
      "pick up cd that s laying on top desk desk ['cd'] ['cd']\n",
      "head back to safe cd ['safe'] ['safe']\n",
      "put cd in safe safe ['cd', 'safe'] ['cd', 'safe']\n",
      "turn around go to table ['diningtable'] ['desk']\n",
      "pick up cd on right desk ['cd'] ['cd']\n",
      "turn right go straight turn left go straight to white safe open door cd ['safe'] ['safe']\n"
     ]
    },
    {
     "name": "stderr",
     "output_type": "stream",
     "text": [
      " 91%|███████████████████████████████████████████████████████████████████████▏      | 4223/4627 [01:07<00:07, 57.37it/s]"
     ]
    },
    {
     "name": "stdout",
     "output_type": "stream",
     "text": [
      "place cd inside safe close door safe ['cd', 'safe'] ['cd', 'safe']\n",
      "turn around walk towards bed turn right go to table cd safe ['diningtable'] ['desk']\n",
      "pick up remaining cd desk ['cd'] ['cd']\n",
      "turn right go straight turn left go straight to white safe open door cd ['safe'] ['safe']\n",
      "place cd inside safe close door safe ['cd', 'safe'] ['cd', 'safe']\n",
      "turn to face black rectangular table ['sidetable'] ['sidetable']\n",
      "pick up key from table sidetable ['keychain'] ['keychain']\n",
      "walk to face small white safe keychain ['safe'] ['safe']\n",
      "put key inside safe safe ['keychain', 'safe'] ['keychain', 'safe']\n",
      "walk to face white couch keychain safe ['sofa'] ['sofa']\n",
      "pick up key from couch sofa ['keychain'] ['keychain']\n",
      "walk to face small white safe keychain ['safe'] ['safe']\n"
     ]
    },
    {
     "name": "stderr",
     "output_type": "stream",
     "text": [
      " 92%|███████████████████████████████████████████████████████████████████████▍      | 4235/4627 [01:07<00:06, 57.06it/s]"
     ]
    },
    {
     "name": "stdout",
     "output_type": "stream",
     "text": [
      "put key inside safe safe ['keychain', 'safe'] ['keychain', 'safe']\n",
      "turn right then face black table to your left ['soapbar'] ['sidetable']\n",
      "take key off table in front you sidetable ['keychain'] ['keychain']\n",
      "turn left then face white safe to your right keychain ['safe'] ['safe']\n",
      "place key inside safe in front you close it safe ['keychain', 'safe'] ['keychain', 'safe']\n",
      "turn around then face couch to your right keychain safe ['sofa'] ['sofa']\n",
      "take key from couch in front you sofa ['keychain'] ['keychain']\n",
      "turn right face safe in front you keychain ['safe'] ['safe']\n",
      "place key in safe in front you safe ['keychain', 'safe'] ['keychain', 'safe']\n",
      "turn right to move to stand in front black console table against wall ['sidetable'] ['sidetable']\n",
      "pick up key from front right corner table sidetable ['keychain'] ['keychain']\n",
      "put key inside safe shut door safe ['keychain', 'safe']"
     ]
    },
    {
     "name": "stderr",
     "output_type": "stream",
     "text": [
      " 92%|███████████████████████████████████████████████████████████████████████▌      | 4247/4627 [01:08<00:06, 56.44it/s]"
     ]
    },
    {
     "name": "stdout",
     "output_type": "stream",
     "text": [
      " ['keychain', 'safe']\n",
      "turn left move to stand in front sofa keychain safe ['sofa'] ['sofa']\n",
      "pick up key from cushion sofa closest to wall with safe sofa ['keychain'] ['keychain']\n",
      "turn right move back to stand in front white safe keychain ['safe'] ['safe']\n",
      "open safe put key inside close door safe ['keychain', 'safe'] ['keychain', 'safe']\n",
      "turn around go to right end cream colored couch across from you ['sofa'] ['sofa']\n",
      "pick up key on right cushion couch sofa ['keychain'] ['keychain']\n",
      "turn to your right go to safe across from you on floor keychain ['safe'] ['safe']\n",
      "place key in safe on floor safe ['keychain', 'safe'] ['keychain', 'safe']\n",
      "turn around go to blue arm chair across from you keychain safe ['armchair'] ['armchair']\n",
      "pick up key on seat chair armchair ['keychain'] ['keychain']\n",
      "turn around go to safe on floor across from you keychain ['safe'] ['safe']\n"
     ]
    },
    {
     "name": "stderr",
     "output_type": "stream",
     "text": [
      " 92%|███████████████████████████████████████████████████████████████████████▊      | 4260/4627 [01:08<00:06, 58.01it/s]"
     ]
    },
    {
     "name": "stdout",
     "output_type": "stream",
     "text": [
      "place key in safe on floor safe ['keychain', 'safe'] ['keychain', 'safe']\n",
      "turn around go to white sofa ['sofa'] ['sofa']\n",
      "pick up key-chain from sofa sofa ['keychain'] ['keychain']\n",
      "turn around go to safe on floor to right cabinet with small statue keychain ['safe'] ['safe']\n",
      "open safe place key-chain inside it close it safe ['keychain', 'safe'] ['keychain', 'safe']\n",
      "turn around move across room to somewhat blue sofa keychain safe ['safe'] ['armchair']\n",
      "pick key-chain from that sofa armchair ['keychain'] ['keychain']\n",
      "go back to safe keychain ['safe'] ['safe']\n",
      "put key-chain inside safe close it safe ['keychain', 'safe'] ['keychain', 'safe']\n",
      "pick up set key off seat couch sofa ['keychain'] ['keychain']\n",
      "walk to small white safe on your right keychain ['safe'] ['safe']\n",
      "open safe put key inside then close safe safe ['keychain', 'safe'] ['keychain', 'safe']\n"
     ]
    },
    {
     "name": "stderr",
     "output_type": "stream",
     "text": [
      " 92%|████████████████████████████████████████████████████████████████████████      | 4272/4627 [01:08<00:06, 57.56it/s]"
     ]
    },
    {
     "name": "stdout",
     "output_type": "stream",
     "text": [
      "walk to blue chair that next to couch behind you keychain safe ['armchair'] ['armchair']\n",
      "pick up set key off seat couch armchair ['keychain'] ['keychain']\n",
      "turn around walk to small white safe keychain ['safe'] ['safe']\n",
      "open safe put key inside safe then close safe safe ['keychain', 'safe'] ['keychain', 'safe']\n",
      "turn to your left go to dresser across from you ['dresser'] ['dresser']\n",
      "pick up key behind statue on dresser dresser ['keychain'] ['keychain']\n",
      "place key in safe on floor safe ['keychain', 'safe'] ['keychain', 'safe']\n",
      "turn around go to end couch to your right keychain safe ['sofa'] ['sofa']\n",
      "pick up key between cardboard box pillow on couch sofa ['keychain'] ['keychain']\n",
      "turn to your right go back to safe on floor across from you keychain ['safe'] ['safe']\n",
      "place key in back right corner safe safe ['keychain', 'safe'] ['keychain', 'safe']\n",
      "turn to left move towards brown chest drawer ['dresser'] ['dresser']\n"
     ]
    },
    {
     "name": "stderr",
     "output_type": "stream",
     "text": [
      " 93%|████████████████████████████████████████████████████████████████████████▏     | 4285/4627 [01:08<00:05, 57.74it/s]"
     ]
    },
    {
     "name": "stdout",
     "output_type": "stream",
     "text": [
      "pick up key off chest drawer that are behind statue dresser ['keychain'] ['keychain']\n",
      "turn to right to white sofa turn right across room to white safe keychain ['safe'] ['safe']\n",
      "open door safe put key in to safe close door safe ['keychain', 'safe'] ['keychain', 'safe']\n",
      "pick up key that are on sofa to left striped cushion sofa ['keychain'] ['keychain']\n",
      "turn to right move forward to safe keychain ['safe'] ['safe']\n",
      "open safe put key in to safe close door safe ['keychain', 'safe'] ['keychain', 'safe']\n",
      "turn left face cabinet in front you ['cabinet'] ['dresser']\n",
      "take key on top cabinet in front you dresser ['keychain'] ['keychain']\n",
      "turn around face safe in front you keychain ['safe'] ['safe']\n",
      "place key in safe close it safe ['keychain', 'safe'] ['keychain', 'safe']\n",
      "turn around face couch with key on your right keychain safe ['sofa'] ['sofa']\n",
      "take key off couch in front you sofa ['keychain'] ['keychain']\n"
     ]
    },
    {
     "name": "stderr",
     "output_type": "stream",
     "text": [
      " 93%|████████████████████████████████████████████████████████████████████████▍     | 4297/4627 [01:09<00:05, 57.38it/s]"
     ]
    },
    {
     "name": "stdout",
     "output_type": "stream",
     "text": [
      "turn right face safe in front you keychain ['safe'] ['safe']\n",
      "place key inside safe in front you close it safe ['keychain', 'safe'] ['keychain', 'safe']\n",
      "move to counter to right stove ['countertop'] ['cabinet']\n",
      "pick up shaker from cabinet cabinet ['saltshaker'] ['peppershaker']\n",
      "move to counter to left stove peppershaker ['drawer'] ['drawer']\n",
      "put shaker in drawer to left stove drawer ['saltshaker', 'drawer'] ['peppershaker', 'drawer']\n",
      "move to counter to right stove peppershaker drawer ['countertop'] ['cabinet']\n",
      "pick up shaker from cabinet cabinet ['saltshaker'] ['peppershaker']\n",
      "move to counter to left stove peppershaker ['drawer'] ['drawer']\n",
      "put shaker in drawer to left stove drawer ['saltshaker', 'drawer'] ['peppershaker', 'drawer']\n",
      "go around island to get to front stove cabinet above ['stoveburner'] ['cabinet']\n",
      "open cabinet get salt shaker from cabinet cabinet ['saltshaker'] ['peppershaker']\n"
     ]
    },
    {
     "name": "stderr",
     "output_type": "stream",
     "text": [
      " 93%|████████████████████████████████████████████████████████████████████████▋     | 4309/4627 [01:09<00:05, 56.88it/s]"
     ]
    },
    {
     "name": "stdout",
     "output_type": "stream",
     "text": [
      "turn left to go to counter on left stove peppershaker ['drawer'] ['drawer']\n",
      "place salt shaker in drawer under counter drawer ['saltshaker', 'drawer'] ['peppershaker', 'drawer']\n",
      "turn around go to cabinet above counter on right side stove peppershaker drawer ['cabinet'] ['cabinet']\n",
      "open cabinet get salt shaker from cabinet cabinet ['saltshaker'] ['peppershaker']\n",
      "turn left go to counter on left stove peppershaker ['drawer'] ['drawer']\n",
      "place salt shaker in drawer next to salt shaker drawer ['saltshaker', 'drawer'] ['peppershaker', 'drawer']\n",
      "turn to your left walk towards window then make right walk to microwave ['microwave'] ['cabinet']\n",
      "pick up salt from top right cabinet above microwave cabinet ['saltshaker'] ['peppershaker']\n",
      "turn to your left go to drawer on your left between oven dishwasher peppershaker ['drawer'] ['drawer']\n",
      "place salt in middle drawer drawer ['saltshaker', 'drawer'] ['peppershaker', 'drawer']\n",
      "turn to your right go to cabinet above coffee maker peppershaker drawer ['cabinet'] ['cabinet']\n"
     ]
    },
    {
     "name": "stderr",
     "output_type": "stream",
     "text": [
      " 93%|████████████████████████████████████████████████████████████████████████▊     | 4321/4627 [01:09<00:05, 57.01it/s]"
     ]
    },
    {
     "name": "stdout",
     "output_type": "stream",
     "text": [
      "pick up salt from top left cabinet cabinet ['saltshaker'] ['peppershaker']\n",
      "place salt in middle drawer to right other salt drawer ['saltshaker', 'drawer'] ['peppershaker', 'drawer']\n",
      "turn around walk ahead veer right around counter to face counter to right sink ['countertop'] ['countertop']\n",
      "pick up salt shaker on counter countertop ['saltshaker'] ['peppershaker']\n",
      "turn left walk to left side stove peppershaker ['cabinet'] ['drawer']\n",
      "place shaker in top drawer to left stove in front left corner drawer ['saltshaker', 'drawer'] ['peppershaker', 'drawer']\n",
      "take step left peppershaker drawer ['shelf'] ['countertop']\n",
      "pick up salt shaker on counter countertop ['saltshaker'] ['peppershaker']\n",
      "take step right peppershaker ['shelf'] ['drawer']\n",
      "put salt shaker in top drawer behind first one drawer ['saltshaker', 'drawer'] ['peppershaker', 'drawer']\n",
      "pick up salt shaker between knife spatula from counter kitchen island countertop ['saltshaker'] ['peppershaker']\n",
      "turn left move to front range peppershaker ['shelf'] ['drawer']\n"
     ]
    },
    {
     "name": "stderr",
     "output_type": "stream",
     "text": [
      " 94%|█████████████████████████████████████████████████████████████████████████     | 4334/4627 [01:09<00:04, 60.02it/s]"
     ]
    },
    {
     "name": "stdout",
     "output_type": "stream",
     "text": [
      "turn left move to front dishwasher peppershaker drawer ['countertop'] ['countertop']\n",
      "pick up salt shaker to rear spatula to right knife with gold handle countertop ['saltshaker'] ['peppershaker']\n",
      "move to right face range peppershaker ['cabinet'] ['drawer']\n",
      "turn to your right four time until you are facing kitchen counter ['countertop'] ['countertop']\n",
      "pick up salt shaker from off counter countertop ['saltshaker'] ['peppershaker']\n",
      "turn to your left twice so you are facing oven peppershaker ['cabinet'] ['drawer']\n",
      "open drawer put salt in it drawer ['saltshaker', 'drawer'] ['peppershaker', 'drawer']\n",
      "move step to your left peppershaker drawer ['dresser'] ['countertop']\n",
      "pick up pepper shaker off counter countertop ['saltshaker'] ['peppershaker']\n",
      "move step to your right peppershaker ['dresser'] ['drawer']\n",
      "open drawer put pepper in it drawer ['saltshaker', 'drawer'] ['peppershaker', 'drawer']\n",
      "open cabinet door grab salt in cabinet close cabinet cabinet ['saltshaker'] ['peppershaker']\n",
      "open drawer place salt inside close drawer drawer ['saltshaker', 'drawer'] ['peppershaker', 'drawer']\n"
     ]
    },
    {
     "name": "stderr",
     "output_type": "stream",
     "text": [
      "\r",
      " 94%|█████████████████████████████████████████████████████████████████████████▏    | 4341/4627 [01:09<00:04, 59.31it/s]"
     ]
    },
    {
     "name": "stdout",
     "output_type": "stream",
     "text": [
      "walk straight turn to face stove look up to top cabinet peppershaker drawer ['countertop'] ['cabinet']\n",
      "open cabinet grab salt in cabinet close cabinet cabinet ['saltshaker'] ['peppershaker']\n",
      "look down turn around to face pot turn right peppershaker ['shelf'] ['drawer']\n",
      "open drawer place salt inside drawer close drawer drawer ['saltshaker', 'drawer'] ['peppershaker', 'drawer']\n",
      "make right step forward then turn left at island ['countertop'] ['cabinet']\n",
      "open cabinet take out salt shaker shut cabinet cabinet ['saltshaker'] ['peppershaker']\n",
      "turn right then walk forward turn around once you are past sink peppershaker ['cabinet'] ['drawer']\n",
      "open second drawer put salt shaker inside drawer ['saltshaker', 'drawer'] ['peppershaker', 'drawer']\n",
      "walk forward make right face oven peppershaker drawer ['countertop'] ['cabinet']\n",
      "open cabinet above cabinet take out salt shaker shut cabinet cabinet ['saltshaker'] ['peppershaker']\n",
      "take shaker turn around step to right peppershaker ['cabinet'] ['drawer']\n",
      "open second drawer put salt shaker inside drawer ['saltshaker', 'drawer'] ['peppershaker', 'drawer']\n"
     ]
    },
    {
     "name": "stderr",
     "output_type": "stream",
     "text": [
      " 94%|█████████████████████████████████████████████████████████████████████████▍    | 4360/4627 [01:10<00:04, 59.88it/s]"
     ]
    },
    {
     "name": "stdout",
     "output_type": "stream",
     "text": [
      "move to counter to left stove ['countertop'] ['cabinet']\n",
      "pick up shaker from cabinet cabinet ['saltshaker'] ['peppershaker']\n",
      "move to drawer to left stove peppershaker ['drawer'] ['drawer']\n",
      "put shaker in drawer drawer ['saltshaker', 'drawer'] ['peppershaker', 'drawer']\n",
      "turn to right you peppershaker drawer ['cabinet'] ['cabinet']\n",
      "pick up shaker from cabinet cabinet ['saltshaker'] ['peppershaker']\n",
      "move to drawer to left stove peppershaker ['drawer'] ['drawer']\n",
      "put shaker in drawer drawer ['saltshaker', 'drawer'] ['peppershaker', 'drawer']\n",
      "turn left go straight turn left to face blue chair ['armchair'] ['armchair']\n",
      "pick up left most pillow on blue chair armchair ['pillow'] ['pillow']\n",
      "turn around move forward then turn left to face sofa pillow ['sofa'] ['sofa']\n",
      "put pillow on center sofa sofa ['pillow', 'sofa'] ['pillow', 'sofa']\n",
      "turn left to return to blue chair pillow sofa ['armchair'] ['armchair']\n"
     ]
    },
    {
     "name": "stderr",
     "output_type": "stream",
     "text": [
      "\r",
      " 94%|█████████████████████████████████████████████████████████████████████████▌    | 4367/4627 [01:10<00:04, 60.68it/s]"
     ]
    },
    {
     "name": "stdout",
     "output_type": "stream",
     "text": [
      "pick up pillow on blue chair armchair ['pillow'] ['pillow']\n",
      "turn around move forward then turn left to face sofa pillow ['sofa'] ['sofa']\n",
      "put pillow on right cushion sofa sofa ['pillow', 'sofa'] ['pillow', 'sofa']\n",
      "move to arm chair to left couch ['armchair'] ['armchair']\n",
      "pick up pillow from chair armchair ['pillow'] ['pillow']\n",
      "move to middle couch pillow ['sofa'] ['sofa']\n",
      "put pillow on couch sofa ['pillow', 'sofa'] ['pillow', 'sofa']\n",
      "move to arm chair to left couch pillow sofa ['armchair'] ['armchair']\n",
      "pick up pillow from chair armchair ['pillow'] ['pillow']\n",
      "move to middle couch pillow ['sofa'] ['sofa']\n",
      "put pillow on couch sofa ['pillow', 'sofa'] ['pillow', 'sofa']\n",
      "turn around locate chair ['armchair'] "
     ]
    },
    {
     "name": "stderr",
     "output_type": "stream",
     "text": [
      " 95%|█████████████████████████████████████████████████████████████████████████▊    | 4381/4627 [01:10<00:03, 61.64it/s]"
     ]
    },
    {
     "name": "stdout",
     "output_type": "stream",
     "text": [
      "['armchair']\n",
      "pick up pillow from chair armchair ['pillow'] ['pillow']\n",
      "turn right head for sofa pillow ['sofa'] ['sofa']\n",
      "drop pillow on sofa sofa ['pillow', 'sofa'] ['pillow', 'sofa']\n",
      "turn left head for chair pillow sofa ['armchair'] ['armchair']\n",
      "pick up other pillow armchair ['pillow'] ['pillow']\n",
      "turn right towards sofa pillow ['sofa'] ['sofa']\n",
      "place pillow on sofa sofa ['pillow', 'sofa'] ['pillow', 'sofa']\n",
      "turn around walk to couch then turn left when you get to it ['sofa'] ['armchair']\n",
      "pick up pillow on left armchair ['pillow'] ['pillow']\n",
      "turn left walk to middle couch on your left face it pillow ['sofa'] ['sofa']\n",
      "put pillow in middle couch where two cushion meet sofa ['pillow', 'sofa'] ['pillow', 'sofa']\n",
      "turn left walk to pillow pillow sofa ['sofa'] ['armchair']"
     ]
    },
    {
     "name": "stderr",
     "output_type": "stream",
     "text": [
      " 95%|██████████████████████████████████████████████████████████████████████████    | 4395/4627 [01:10<00:03, 62.18it/s]"
     ]
    },
    {
     "name": "stdout",
     "output_type": "stream",
     "text": [
      "\n",
      "pick up pillow armchair ['pillow'] ['pillow']\n",
      "go back to where you put first pillow pillow ['ottoman'] ['sofa']\n",
      "turn around head to right to face blue chair ['armchair'] ['armchair']\n",
      "pick up pillow to left armchair ['pillow'] ['pillow']\n",
      "turn around face middle tan sofa pillow ['sofa'] ['sofa']\n",
      "place pillow in middle tan sofa sofa ['pillow', 'sofa'] ['pillow', 'sofa']\n",
      "pick up other pillow from blue chair armchair ['pillow'] ['pillow']\n",
      "move to right to face tan sofa pillow ['sofa'] ['sofa']\n",
      "place pillow next to other pillow sofa ['pillow', 'sofa'] ['pillow', 'sofa']\n",
      "turn around then turn left to face grey chair ['armchair'] ['armchair']\n",
      "pick up cushion on left armchair ['pillow'] ['pillow']\n",
      "turn right then look straight at white long couch pillow ['sofa'] ['sofa']\n",
      "place cushion on couch to left remote sofa ['pillow', 'sofa'] ['pillow', 'sofa']\n"
     ]
    },
    {
     "name": "stderr",
     "output_type": "stream",
     "text": [
      " 95%|██████████████████████████████████████████████████████████████████████████▎   | 4409/4627 [01:10<00:03, 62.01it/s]"
     ]
    },
    {
     "name": "stdout",
     "output_type": "stream",
     "text": [
      "return to grey chair pillow sofa ['armchair'] ['armchair']\n",
      "pick up last cushion on chair armchair ['pillow'] ['pillow']\n",
      "return to long white couch pillow ['sofa'] ['sofa']\n",
      "place second cushion so that it standing up vertically to right first cushion sofa ['pillow', 'sofa'] ['pillow', 'sofa']\n",
      "move forward then turn right go to blue chair ['armchair'] ['armchair']\n",
      "pick up leftmost pillow on blue chair armchair ['pillow'] ['pillow']\n",
      "turn around move forward then turn left to face sofa pillow ['sofa'] ['sofa']\n",
      "put pillow on sofa to right newspaper sofa ['pillow', 'sofa'] ['pillow', 'sofa']\n",
      "turn left go back to blue chair pillow sofa ['armchair'] ['armchair']\n",
      "pick up pillow on blue chair armchair ['pillow'] ['pillow']\n",
      "turn left move forward turn left then turn left again to face sofa pillow ['sofa'] ['sofa']\n",
      "put pillow on sofa to left newspaper sofa ['pillow', 'sofa'] ['pillow', 'sofa']\n"
     ]
    },
    {
     "name": "stderr",
     "output_type": "stream",
     "text": [
      "\r",
      " 95%|██████████████████████████████████████████████████████████████████████████▍   | 4416/4627 [01:10<00:03, 63.17it/s]"
     ]
    },
    {
     "name": "stdout",
     "output_type": "stream",
     "text": [
      "take few step forward turn to right go to blue chair ['armchair'] ['armchair']\n",
      "pick up left pillow on chair armchair ['pillow'] ['pillow']\n",
      "turn to right twice take few step forward turn to left facing sofa pillow ['sofa'] ['sofa']\n",
      "put pillow on sofa right newspaper sofa ['pillow', 'sofa'] ['pillow', 'sofa']\n",
      "step forward to sofa turn to left go to blue chair pillow sofa ['armchair'] ['armchair']\n",
      "pick up pillow on chair armchair ['pillow'] ['pillow']\n",
      "put pillow on sofa left newspaper sofa ['pillow', 'sofa'] ['pillow', 'sofa']\n",
      "pick up leftmost pillow off seat chair armchair ['pillow'] ['pillow']\n",
      "turn around begin walking across room then turn left walk up to couch pillow ['sofa'] ['sofa']\n",
      "put pillow vertically on couch to right newspaper sofa ['pillow', 'sofa'] ['pillow', 'sofa']\n",
      "turn left walk to blue chair pillow sofa ['armchair'] ['armchair']\n",
      "pick up pillow off seat blue chair armchair ['pillow'] ['pillow']\n",
      "turn left take step forward then turn left again walk to couch pillow ['sofa'] ['sofa']\n"
     ]
    },
    {
     "name": "stderr",
     "output_type": "stream",
     "text": [
      " 96%|██████████████████████████████████████████████████████████████████████████▋   | 4430/4627 [01:11<00:03, 61.61it/s]"
     ]
    },
    {
     "name": "stdout",
     "output_type": "stream",
     "text": [
      "put pillow vertically on couch to left newspaper sofa ['pillow', 'sofa'] ['pillow', 'sofa']\n",
      "turn left go toward shower then turn left to face toilet ['toilet'] ['toilet']\n",
      "pick up bar soap on back toilet toilet ['soapbar'] ['soapbar']\n",
      "go to cabinet beneath sink to left toilet soapbar ['cabinet'] ['cabinet']\n",
      "open cabinet put bar soap inside close cabinet cabinet ['soapbar', 'cabinet'] ['soapbar', 'cabinet']\n",
      "pick up bar soap from counter countertop ['soapbar'] ['soapbar']\n",
      "return to cabinet to left toilet soapbar ['drawer'] ['cabinet']\n",
      "open cabinet put bar soap inside close cabinet cabinet ['soapbar', 'cabinet'] ['soapbar', 'cabinet']\n",
      "turn left then head to toilet tank ['toilet'] ['toilet']\n",
      "pick up soap on tank toilet ['soapbottle'] ['soapbar']\n",
      "turn around adjust your position look at sink cabinet soapbar ['cabinet'] ['cabinet']\n",
      "open cabinet put in soap then close cabinet cabinet ['soapbottle', 'cabinet'] ['soapbar', 'cabinet']\n"
     ]
    },
    {
     "name": "stderr",
     "output_type": "stream",
     "text": [
      " 96%|██████████████████████████████████████████████████████████████████████████▉   | 4444/4627 [01:11<00:02, 61.90it/s]"
     ]
    },
    {
     "name": "stdout",
     "output_type": "stream",
     "text": [
      "turn left head to sink counter soapbar cabinet ['countertop'] ['countertop']\n",
      "pick up soap on counter countertop ['soapbottle'] ['soapbar']\n",
      "turn right then adjust your position look at sink cabinet soapbar ['cabinet'] ['cabinet']\n",
      "open cabinet put in soap then close cabinet cabinet ['soapbottle', 'cabinet'] ['soapbar', 'cabinet']\n",
      "make left to reach sink across room ['sinkbasin'] ['toilet']\n",
      "pick up bar soap from sink countertop one farthest to right toilet ['soapbar'] ['soapbar']\n",
      "turn to face cabinet under sink soapbar ['cabinet'] ['cabinet']\n",
      "put bar soap in rightmost cabinet under sink cabinet ['soapbar', 'cabinet'] ['soapbar', 'cabinet']\n",
      "walk to left-hand sink soapbar cabinet ['sinkbasin'] ['countertop']\n",
      "pick up bar soap sitting in between two sink countertop ['soapbar'] ['soapbar']\n",
      "turn to face cabinet under right sink soapbar ['cabinet'] ['cabinet']\n",
      "put other bar soap in rightmost cabinet under sink cabinet ['soapbar', 'cabinet'] ['soapbar', 'cabinet']\n",
      "walk to counter in middle sink ['countertop'] ['countertop']\n"
     ]
    },
    {
     "name": "stderr",
     "output_type": "stream",
     "text": [
      " 96%|███████████████████████████████████████████████████████████████████████████▏  | 4458/4627 [01:11<00:02, 61.26it/s]"
     ]
    },
    {
     "name": "stdout",
     "output_type": "stream",
     "text": [
      "pick up bar soap in back counter countertop ['soapbar'] ['soapbar']\n",
      "move further back from counter soapbar ['drawer'] ['cabinet']\n",
      "move closer to counter in between two sink soapbar cabinet ['countertop'] ['countertop']\n",
      "pick up bar soap from counter countertop ['soapbar'] ['soapbar']\n",
      "move further back from counter soapbar ['drawer'] ['cabinet']\n",
      "turn around go to sink ['countertop'] ['countertop']\n",
      "pick up white bar soap closest to wall countertop ['soapbar'] ['soapbar']\n",
      "go to left cabinet under left sink soapbar ['cabinet'] ['cabinet']\n",
      "open far left cabinet door under sink on left cabinet ['cabinet'] ['soapbar', 'cabinet']\n",
      "go to cleaning supply between sink soapbar cabinet ['sidetable'] ['countertop']\n",
      "pick up white bar soap above orange roll countertop ['soapbar'] ['soapbar']\n",
      "go to left cabinet under left sink soapbar ['cabinet'] ['cabinet']\n"
     ]
    },
    {
     "name": "stderr",
     "output_type": "stream",
     "text": [
      " 97%|███████████████████████████████████████████████████████████████████████████▍  | 4472/4627 [01:11<00:02, 61.59it/s]"
     ]
    },
    {
     "name": "stdout",
     "output_type": "stream",
     "text": [
      "open cabinet place white soap inside on shelf left other bar white soap cabinet ['soapbar', 'cabinet'] ['soapbar', 'cabinet']\n",
      "turn around to walk to sink ['countertop'] ['countertop']\n",
      "pick up rightmost bar soap in between two sink countertop ['soapbar'] ['soapbar']\n",
      "turn to face cabinet under sink soapbar ['cabinet'] ['cabinet']\n",
      "put bar soap in leftmost cabinet under sink cabinet ['soapbar', 'cabinet'] ['soapbar', 'cabinet']\n",
      "turn to face sink soapbar cabinet ['countertop'] ['countertop']\n",
      "pick up other bar soap in between sink countertop ['soapbar'] ['soapbar']\n",
      "turn to face cabinet under sink soapbar ['cabinet'] ['cabinet']\n",
      "put other bar soap in leftmost cabinet under sink cabinet ['soapbar', 'cabinet'] ['soapbar', 'cabinet']\n",
      "look down at counter in between two sink ['countertop'] ['countertop']\n",
      "pick up bar soap in between two sink countertop ['soapbar'] ['soapbar']\n",
      "move further away from sink look at cabinet below sink soapbar ['cabinet'] ['cabinet']\n",
      "walk to face sink on left side soapbar cabinet ['sinkbasin'] ['sinkbasin']\n"
     ]
    },
    {
     "name": "stderr",
     "output_type": "stream",
     "text": [
      "\r",
      " 97%|███████████████████████████████████████████████████████████████████████████▌  | 4479/4627 [01:12<00:02, 61.53it/s]"
     ]
    },
    {
     "name": "stdout",
     "output_type": "stream",
     "text": [
      "pick up bar soap from sink sinkbasin ['soapbar'] ['soapbar']\n",
      "move further away from sink look at cabinet below sink soapbar ['cabinet'] ['cabinet']\n",
      "open cabinet door put soap down to left first bar soap close door cabinet ['soapbar', 'cabinet'] ['soapbar', 'cabinet']\n",
      "look down face sink counter ['countertop'] ['countertop']\n",
      "pick up soap on counter countertop ['soapbottle'] ['soapbar']\n",
      "turn right then head to cabinet on left side sink soapbar ['drawer'] ['cabinet']\n",
      "open cabinet put in soap then close cabinet cabinet ['soapbottle', 'cabinet'] ['soapbar', 'cabinet']\n",
      "go towards left sink soapbar cabinet ['cabinet'] ['sinkbasin']\n",
      "pick up soap in sink sinkbasin ['soapbar'] ['soapbar']\n",
      "turn left then move backwards face cabinet below sink soapbar ['drawer'] ['cabinet']\n",
      "open cabinet put in soap then close cabinet cabinet ['soapbottle', 'cabinet'] ['soapbar', 'cabinet']\n",
      "take step back from sink ['countertop'] ['countertop']\n"
     ]
    },
    {
     "name": "stderr",
     "output_type": "stream",
     "text": [
      " 97%|███████████████████████████████████████████████████████████████████████████▋  | 4493/4627 [01:12<00:02, 61.42it/s]"
     ]
    },
    {
     "name": "stdout",
     "output_type": "stream",
     "text": [
      "pick up soap bar from counter between sink countertop ['soapbar'] ['soapbar']\n",
      "turn all-way around to face cabinet below sink soapbar ['cabinet'] ['cabinet']\n",
      "open left side cabinet put soap inside it close cabinet cabinet ['soapbottle', 'cabinet'] ['soapbar', 'cabinet']\n",
      "go back to sink soapbar cabinet ['countertop'] ['sinkbasin']\n",
      "pick up soap bar from left sink sinkbasin ['soapbar'] ['soapbar']\n",
      "turn all-way around to face sink cabinet soapbar ['cabinet'] ['cabinet']\n",
      "open left side cabinet put soap inside close it cabinet ['soapbottle', 'cabinet'] ['soapbar', 'cabinet']\n",
      "turn around to stand centered with counter between two sink ['countertop'] ['countertop']\n",
      "pick up bar soap closest to back vanity countertop ['soapbar'] ['soapbar']\n",
      "place soap in trash bin garbagecan ['soapbar', 'garbagecan'] ['soapbar', 'garbagecan']\n",
      "turn around move back to stand at vanity soapbar garbagecan ['countertop'] ['countertop']\n",
      "pick up remaining bar soap from between two sink countertop ['soapbar'] ['soapbar']\n",
      "turn again to walk to door then turn right to face trash bin soapbar ['garbagecan'] ['garbagecan']\n"
     ]
    },
    {
     "name": "stderr",
     "output_type": "stream",
     "text": [
      " 97%|███████████████████████████████████████████████████████████████████████████▉  | 4507/4627 [01:12<00:01, 61.01it/s]"
     ]
    },
    {
     "name": "stdout",
     "output_type": "stream",
     "text": [
      "place soap in trash bin garbagecan ['soapbar', 'garbagecan'] ['soapbar', 'garbagecan']\n",
      "turn around walk forward to center two bathroom sink ahead ['countertop'] ['countertop']\n",
      "grab bar soap off bathroom sink counter in between two sink countertop ['soapbar'] ['soapbar']\n",
      "turn around walk to right side corner room where garbage bin soapbar ['garbagecan'] ['garbagecan']\n",
      "place bar inside garbage bin garbagecan ['toiletpaper', 'garbagecan'] ['soapbar', 'garbagecan']\n",
      "turn right walk back to center two bathroom sink there soapbar garbagecan ['sinkbasin'] ['countertop']\n",
      "grab another bar soap off center bathroom sink counter countertop ['soapbar'] ['soapbar']\n",
      "turn around walk to garbage bin on right side room soapbar ['garbagecan'] ['garbagecan']\n",
      "place bar soap in garbage bin garbagecan ['soapbar', 'garbagecan'] ['soapbar', 'garbagecan']\n",
      "turn around go to counter between sink ['countertop'] ['countertop']\n",
      "grab bar soap off counter countertop ['soapbar'] ['soapbar']\n",
      "turn around go to trash can soapbar ['garbagecan'] ['garbagecan']\n"
     ]
    },
    {
     "name": "stderr",
     "output_type": "stream",
     "text": [
      " 98%|████████████████████████████████████████████████████████████████████████████▏ | 4521/4627 [01:12<00:01, 62.21it/s]"
     ]
    },
    {
     "name": "stdout",
     "output_type": "stream",
     "text": [
      "put soap in trash can garbagecan ['soapbottle', 'garbagecan'] ['soapbar', 'garbagecan']\n",
      "turn right go to left sink soapbar garbagecan ['sinkbasin'] ['countertop']\n",
      "grab bar soap that s to right sink countertop ['soapbar'] ['soapbar']\n",
      "turn around go to trash can soapbar ['garbagecan'] ['garbagecan']\n",
      "put soap in trash can garbagecan ['soapbottle', 'garbagecan'] ['soapbar', 'garbagecan']\n",
      "move to counter in between two sink ['countertop'] ['countertop']\n",
      "put bar soap down on counter in between sink countertop ['soapbar', 'countertop'] ['soapbar']\n",
      "walk to gold bin in corner room soapbar ['garbagecan'] ['garbagecan']\n",
      "put bar soap down in bin garbagecan ['soapbar', 'garbagecan'] ['soapbar', 'garbagecan']\n",
      "walk back to sink soapbar garbagecan ['countertop'] ['countertop']\n",
      "pick up bar soap to left spray bottle countertop ['soapbar'] ['soapbar']\n",
      "turn walk back to gold bin soapbar ['garbagecan'] ['garbagecan']\n",
      "put bar soap in gold bin to left first bar soap garbagecan ['soapbar', 'garbagecan'] ['soapbar', 'garbagecan']\n"
     ]
    },
    {
     "name": "stderr",
     "output_type": "stream",
     "text": [
      "\r",
      " 98%|████████████████████████████████████████████████████████████████████████████▎ | 4528/4627 [01:12<00:01, 61.15it/s]"
     ]
    },
    {
     "name": "stdout",
     "output_type": "stream",
     "text": [
      "turn around walk towards wall then hang right walk up to counter ['countertop'] ['countertop']\n",
      "pick up closest bar soap off counter countertop ['soapbar'] ['soapbar']\n",
      "put bar soap into golden can garbagecan ['soapbar', 'garbagecan'] ['soapbar', 'garbagecan']\n",
      "turn around take two step then turn left walk up to counter soapbar garbagecan ['countertop'] ['countertop']\n",
      "pick up bar soap that closest to mirror on counter countertop ['soapbar'] ['soapbar']\n",
      "turn around walk to door then turn right walk up to golden can soapbar ['shelf'] ['garbagecan']\n",
      "put bar soap into small golden can garbagecan ['soapbar', 'garbagecan'] ['soapbar', 'garbagecan']\n",
      "turn left go to counter between two sink ['countertop'] ['countertop']\n",
      "pick up front soap directly in front candle countertop ['soapbottle'] ['soapbar']\n",
      "turn around go to door turn right go to garbage can soapbar ['garbagecan'] ['garbagecan']\n",
      "place soap in garbage can garbagecan ['soapbottle', 'garbagecan'] ['soapbar', 'garbagecan']\n",
      "turn right go to counter between two sink soapbar garbagecan ['countertop'] ['countertop']\n"
     ]
    },
    {
     "name": "stderr",
     "output_type": "stream",
     "text": [
      " 98%|████████████████████████████████████████████████████████████████████████████▌ | 4542/4627 [01:13<00:01, 61.65it/s]"
     ]
    },
    {
     "name": "stdout",
     "output_type": "stream",
     "text": [
      "pick up soap from back counter directly left spray bottle countertop ['soapbottle'] ['soapbar']\n",
      "turn around go to door turn right go to garbage can soapbar ['garbagecan'] ['garbagecan']\n",
      "place soap in garbage can right other soap garbagecan ['soapbottle', 'garbagecan'] ['soapbar', 'garbagecan']\n",
      "move forward then turn left then move forward to sink ['countertop'] ['toilet']\n",
      "pick up soap off toilet toilet ['soapbottle'] ['soapbar']\n",
      "turn around move forward to wall then turn right move forward towards trash soapbar ['garbagecan'] ['garbagecan']\n",
      "throw soap in to trash can garbagecan ['soapbar', 'garbagecan'] ['soapbar', 'garbagecan']\n",
      "pick up soap on toilet toilet ['soapbottle'] ['soapbar']\n",
      "turn around move forward then turn right move forward to trash can soapbar ['garbagecan'] ['garbagecan']\n",
      "throw soap into trash garbagecan ['soapbottle', 'garbagecan'] ['soapbar', 'garbagecan']\n",
      "go to toilet ['toiletpaperhanger'] ['toilet']\n",
      "grab bar soap that s on toilet toilet ['soapbar'] ['soapbar']\n",
      "turn around go to trash can soapbar ['garbagecan'] "
     ]
    },
    {
     "name": "stderr",
     "output_type": "stream",
     "text": [
      " 98%|████████████████████████████████████████████████████████████████████████████▊ | 4556/4627 [01:13<00:01, 61.57it/s]"
     ]
    },
    {
     "name": "stdout",
     "output_type": "stream",
     "text": [
      "['garbagecan']\n",
      "put soap in trash can garbagecan ['soapbottle', 'garbagecan'] ['soapbar', 'garbagecan']\n",
      "turn around go to toilet soapbar garbagecan ['toilet'] ['toilet']\n",
      "grab bar soap off toilet toilet ['soapbar'] ['soapbar']\n",
      "turn around go to trash can soapbar ['garbagecan'] ['garbagecan']\n",
      "put soap in trash can garbagecan ['soapbottle', 'garbagecan'] ['soapbar', 'garbagecan']\n",
      "turn left face back sink ['cabinet'] ['toilet']\n",
      "pick up bar soap on back toilet toilet ['soapbar'] ['soapbar']\n",
      "turn around cross room to face trash can in corner room soapbar ['garbagecan'] ['garbagecan']\n",
      "place soap in trash can garbagecan ['soapbottle', 'garbagecan'] ['soapbar', 'garbagecan']\n",
      "turn around cross room to face back toilet soapbar garbagecan ['toilet'] ['toilet']\n",
      "pick up bar soap on back toilet toilet ['soapbar'] ['soapbar']\n",
      "turn around cross room to face trash can in corner room soapbar ['garbagecan'] ['garbagecan']\n"
     ]
    },
    {
     "name": "stderr",
     "output_type": "stream",
     "text": [
      " 99%|█████████████████████████████████████████████████████████████████████████████ | 4570/4627 [01:13<00:00, 61.76it/s]"
     ]
    },
    {
     "name": "stdout",
     "output_type": "stream",
     "text": [
      "place soap in trash can garbagecan ['soapbottle', 'garbagecan'] ['soapbar', 'garbagecan']\n",
      "move towards toilet to right sink ['toilet'] ['toilet']\n",
      "pick up toilet roll from off toilet toilet ['toiletpaper'] ['toiletpaper']\n",
      "move away from sink few foot toiletpaper ['drawer'] ['cabinet']\n",
      "open sink cabinet place roll inside before closing door cabinet ['toiletpaper', 'cabinet'] ['toiletpaper', 'cabinet']\n",
      "move closer to right side sink toiletpaper cabinet ['countertop'] ['toiletpaperhanger']\n",
      "pick up empty toilet paper roll from ground toiletpaperhanger ['toiletpaper'] ['toiletpaper']\n",
      "move back away from sink cabinet toiletpaper ['cabinet'] ['cabinet']\n",
      "open cabinet place roll inside close door cabinet ['toiletpaper', 'cabinet'] ['toiletpaper', 'cabinet']\n",
      "locate toilet find toilet paper roll on back toilet ['toilet'] ['toilet']\n",
      "pick toilet paper roll up toilet ['toiletpaper'] ['toiletpaper']\n",
      "go to cabinet to left toilet toiletpaper ['drawer'] ['cabinet']\n",
      "open second cabinet door from right cabinet ['butterknife', 'cabinet'] ['toiletpaper', 'cabinet']\n"
     ]
    },
    {
     "name": "stderr",
     "output_type": "stream",
     "text": [
      "\r",
      " 99%|█████████████████████████████████████████████████████████████████████████████▏| 4577/4627 [01:13<00:00, 61.82it/s]"
     ]
    },
    {
     "name": "stdout",
     "output_type": "stream",
     "text": [
      "place toilet paper roll upright near middle cabinet close cabinet door toiletpaper cabinet ['toiletpaper', 'cabinet'] ['toiletpaperhanger']\n",
      "go to cabinet to left toilet open second cabinet door from right toiletpaper ['cabinet'] ['cabinet']\n",
      "look down at toilet bit ['garbagecan'] ['toilet']\n",
      "grab toilet paper off top toilet in front you toilet ['toiletpaper'] ['toiletpaper']\n",
      "back up bit to then face bathroom sink toiletpaper ['cabinet'] ['cabinet']\n",
      "place toilet paper in cabinet below sink cabinet ['toiletpaper', 'cabinet'] ['toiletpaper', 'cabinet']\n",
      "move forward bit towards toilet toiletpaper cabinet ['toilet'] ['toiletpaperhanger']\n",
      "grab toilet paper tube off floor next to toilet toiletpaperhanger ['toiletpaper'] ['toiletpaper']\n",
      "back up bit again to then face bathroom sink again toiletpaper ['cabinet'] ['cabinet']\n",
      "place yellow tube in cabinet underneath sink cabinet ['toiletpaper', 'cabinet'] ['toiletpaper', 'cabinet']\n",
      "turn right go towards sink toilet ['toilet'] ['toilet']\n",
      "take toilet paper roll from on top toilet toilet ['toiletpaper'] ['toiletpaper']"
     ]
    },
    {
     "name": "stderr",
     "output_type": "stream",
     "text": [
      " 99%|█████████████████████████████████████████████████████████████████████████████▌| 4598/4627 [01:13<00:00, 63.94it/s]"
     ]
    },
    {
     "name": "stdout",
     "output_type": "stream",
     "text": [
      "\n",
      "go backwards while facing towards sink toiletpaper ['toilet'] ['cabinet']\n",
      "move towards sink toilet toiletpaper cabinet ['countertop'] ['toiletpaperhanger']\n",
      "take cardboard roll on floor next to plunger toiletpaperhanger ['toiletpaper'] ['toiletpaper']\n",
      "go backwards while facing towards sink toiletpaper ['toilet'] ['cabinet']\n",
      "turn right walk towards water closet ['cabinet'] ['toilet']\n",
      "pick up toilet roll from top water closet toilet ['toiletpaper'] ['toiletpaper']\n",
      "turn left go for cupboard underneath sink toiletpaper ['sidetable'] ['cabinet']\n",
      "open cupboard place toilet roll in it cabinet ['toiletpaper', 'cabinet'] ['toiletpaper', 'cabinet']\n",
      "head for water closet at right toiletpaper cabinet ['sidetable'] ['toiletpaperhanger']\n",
      "pick up toilet roll cover from top water closet toiletpaperhanger ['toiletpaper'] ['toiletpaper']\n",
      "head for cupboard at left toiletpaper ['sidetable'] ['cabinet']\n",
      "place toilet paper cover inside cupboard cabinet ['toiletpaper', 'cabinet'] ['toiletpaper', 'cabinet']\n",
      "turn right go to toilet ['toilet'] ['toilet']\n",
      "pick up roll paper towel on back toilet toilet ['toiletpaper'] ['toiletpaper']\n"
     ]
    },
    {
     "name": "stderr",
     "output_type": "stream",
     "text": [
      "\r",
      "100%|█████████████████████████████████████████████████████████████████████████████▋| 4605/4627 [01:14<00:00, 63.33it/s]"
     ]
    },
    {
     "name": "stdout",
     "output_type": "stream",
     "text": [
      "turn all way around move towards door some then turn back around toiletpaper ['drawer'] ['cabinet']\n",
      "shut door to cabinet toiletpaper cabinet ['butterknife', 'cabinet'] ['toiletpaperhanger']\n",
      "take empty roll toilet paper off holder toiletpaperhanger ['toiletpaper'] ['toiletpaper']\n",
      "open door to cabinet under sink toiletpaper ['cabinet'] ['cabinet']\n",
      "place empty roll to left green bottle shut door to cabinet cabinet ['toiletpaper', 'cabinet'] ['toiletpaper', 'cabinet']\n",
      "turn left walk few step then turn right to face toilet ['toilet'] ['toilet']\n",
      "pick up toilet paper on top toilet toilet ['toiletpaper'] ['toiletpaper']\n",
      "turn left to find sink toiletpaper ['countertop'] ['cabinet']\n",
      "open left cabinet door below sink place toilet paper in it cabinet ['toiletpaper', 'cabinet'] ['toiletpaper', 'cabinet']\n",
      "turn right spot paper toilet roll on floor toiletpaper cabinet ['toiletpaperhanger'] ['toiletpaperhanger']\n",
      "pick up paper roll from floor toiletpaperhanger ['toiletpaper'] ['toiletpaper']\n",
      "turn left face cabinet below sink toiletpaper ['cabinet'] ['cabinet']\n",
      "open cabinet place roll in cabinet cabinet ['toiletpaper', 'cabinet'] ['toiletpaper', 'cabinet']\n"
     ]
    },
    {
     "name": "stderr",
     "output_type": "stream",
     "text": [
      "100%|█████████████████████████████████████████████████████████████████████████████▊| 4619/4627 [01:14<00:00, 62.28it/s]"
     ]
    },
    {
     "name": "stdout",
     "output_type": "stream",
     "text": [
      "walk forward to toilet in front you ['toilet'] ['toilet']\n",
      "pick up toilet paper that s on toilet toilet ['toiletpaper'] ['toiletpaper']\n",
      "turn to your left standing in between toilet sink toiletpaper ['toilet'] ['cabinet']\n",
      "open left cabinet door place toilet paper inside cabinet ['toiletpaper', 'cabinet'] ['toiletpaper', 'cabinet']\n",
      "move forward to where plunger on ground toiletpaper cabinet ['baseballbat'] ['toiletpaperhanger']\n",
      "pick up object toilet paper roll that on left side plunger toiletpaperhanger ['toiletpaper'] ['toiletpaper']\n",
      "step back so that you are standing between toilet sink toiletpaper ['toilet'] ['cabinet']\n",
      "open left cabinet place toilet paper roll behind toilet paper cabinet ['toiletpaper', 'cabinet'] ['toiletpaper', 'cabinet']\n",
      "go to sink ['countertop'] ['toilet']\n",
      "pick up toilet paper on toilet toilet ['toiletpaper'] ['toiletpaper']\n",
      "go to cabinet under sink toiletpaper ['cabinet'] ['cabinet']\n",
      "put toilet paper in cabinet cabinet ['toiletpaper', 'cabinet'] ['toiletpaper', 'cabinet']\n",
      "go to empty toilet paper roll toiletpaper cabinet ['toiletpaper'] ['toiletpaperhanger']\n",
      "pick up empty toilet paper roll on floor toiletpaperhanger ['toiletpaper'] ['toiletpaper']\n"
     ]
    },
    {
     "name": "stderr",
     "output_type": "stream",
     "text": [
      "100%|██████████████████████████████████████████████████████████████████████████████| 4627/4627 [01:14<00:00, 62.20it/s]"
     ]
    },
    {
     "name": "stdout",
     "output_type": "stream",
     "text": [
      "take empty toilet paper roll to cabinet toiletpaper ['toiletpaper'] ['cabinet']\n",
      "put empty toilet paper roll in cabinet cabinet ['toiletpaper', 'cabinet'] ['toiletpaper', 'cabinet']\n"
     ]
    },
    {
     "name": "stderr",
     "output_type": "stream",
     "text": [
      "\n"
     ]
    }
   ],
   "source": [
    "def evaluate(encoder, action_decoder, argument_decoder, sentence, encoder_lang, action_decoder_lang, argument_decoder_lang, max_length=MAX_LENGTH):\n",
    "    with torch.no_grad():\n",
    "        input_tensor = tensor_from_sentence(encoder_lang, sentence)\n",
    "        input_length = input_tensor.size()[0]\n",
    "        encoder_hidden = encoder.initHidden()\n",
    "\n",
    "        encoder_outputs = torch.zeros(max_length, encoder.hidden_size, device=device)\n",
    "\n",
    "        for ei in range(input_length):\n",
    "            encoder_output, encoder_hidden = encoder(input_tensor[ei],\n",
    "                                                     encoder_hidden)\n",
    "            encoder_outputs[ei] += encoder_output[0, 0]\n",
    "        \n",
    "        # Action Decoder\n",
    "        action_decoder_input = torch.tensor([[action_decoder_lang.index('<SOS>')]], device=device)  # SOS\n",
    "        action_decoder_hidden = encoder_hidden\n",
    "        action_decoded_words = []\n",
    "        action_decoder_attentions = torch.zeros(max_length, max_length)\n",
    "        \n",
    "        for di in range(max_length):\n",
    "            decoder_output, action_decoder_hidden, decoder_attention = action_decoder(\n",
    "                action_decoder_input, action_decoder_hidden, encoder_outputs)\n",
    "            action_decoder_attentions[di] = decoder_attention.data\n",
    "            topv, topi = decoder_output.data.topk(1)\n",
    "            if topi.item() == action_decoder_lang.index('<EOS>'):\n",
    "                action_decoded_words.append('<EOS>')\n",
    "                break\n",
    "            else:\n",
    "                action_decoded_words.append(action_decoder_lang.word(topi.item()))\n",
    "        \n",
    "            action_decoder_input = topi.squeeze().detach()\n",
    "        \n",
    "        # Argument Decoder\n",
    "        argument_decoder_input = torch.tensor([[argument_decoder_lang.index('<SOS>')]], device=device)  # SOS\n",
    "        argument_decoder_hidden = encoder_hidden\n",
    "        argument_decoded_words = []\n",
    "        argument_decoder_attentions = torch.zeros(max_length, max_length)\n",
    "\n",
    "        for di in range(max_length):\n",
    "            decoder_output, argument_decoder_hidden, decoder_attention = argument_decoder(\n",
    "                argument_decoder_input, argument_decoder_hidden, encoder_outputs)\n",
    "            argument_decoder_attentions[di] = decoder_attention.data\n",
    "            topv, topi = decoder_output.data.topk(1)\n",
    "            if topi.item() == argument_decoder_lang.index('<EOS>'):\n",
    "                argument_decoded_words.append('<EOS>')\n",
    "                break\n",
    "            else:\n",
    "                argument_decoded_words.append(argument_decoder_lang.word(topi.item()))\n",
    "\n",
    "            argument_decoder_input = topi.squeeze().detach()\n",
    "\n",
    "        return action_decoded_words, argument_decoded_words\n",
    "\n",
    "hidden_size = 256\n",
    "encoder = EncoderRNN(lang.n_words, hidden_size).to(device)\n",
    "action_decoder = AttnDecoderRNN(hidden_size, action_lang.n_words, dropout_p=0.1).to(device)\n",
    "argument_decoder = AttnDecoderRNN(hidden_size, argument_lang.n_words, dropout_p=0.1).to(device)\n",
    "\n",
    "# Load state if exists, WARNING: DELETE FILES WHEN CHANGING MODEL \n",
    "if os.path.isfile('encoder.pt'):\n",
    "    encoder.load_state_dict(torch.load('encoder.pt'))\n",
    "if os.path.isfile('action_decoder.pt'):\n",
    "    action_decoder.load_state_dict(torch.load('action_decoder.pt'))\n",
    "if os.path.isfile('argument_decoder.pt'):\n",
    "    argument_decoder.load_state_dict(torch.load('argument_decoder.pt'))\n",
    "\n",
    "eval_pairs = [sample for sample in eval_low_action_argument_pairs if len(sample[0]) < MAX_LENGTH and len(sample[1]) < MAX_LENGTH]\n",
    "results = []\n",
    "print(f\"samples: {len(eval_pairs)}\")\n",
    "for sample in tqdm.tqdm(eval_pairs):\n",
    "    output = evaluate(encoder, action_decoder, argument_decoder, sample[0], lang, action_lang, argument_lang)\n",
    "    arg_result = output[1][0] == sample[2][0]\n",
    "    if len(sample[2]) > 1:\n",
    "        arg_result &= output[1][1] == sample[2][1]\n",
    "    print(' '.join(sample[0]), output[1][:-1], sample[2])\n",
    "    #results.append(output[0][0] == sample[1][0] and arg_result)\n",
    "    results.append(arg_result)"
   ]
  },
  {
   "cell_type": "code",
   "execution_count": 38,
   "id": "missing-nature",
   "metadata": {},
   "outputs": [
    {
     "name": "stdout",
     "output_type": "stream",
     "text": [
      "Success rate: 75.29716879187379\n"
     ]
    }
   ],
   "source": [
    "print(f\"Success rate: {(sum(results) / len(results)) * 100.0}\")"
   ]
  }
 ],
 "metadata": {
  "kernelspec": {
   "display_name": "Python 3",
   "language": "python",
   "name": "python3"
  },
  "language_info": {
   "codemirror_mode": {
    "name": "ipython",
    "version": 3
   },
   "file_extension": ".py",
   "mimetype": "text/x-python",
   "name": "python",
   "nbconvert_exporter": "python",
   "pygments_lexer": "ipython3",
   "version": "3.9.1"
  }
 },
 "nbformat": 4,
 "nbformat_minor": 5
}
