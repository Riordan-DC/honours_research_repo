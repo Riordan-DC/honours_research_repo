{
 "cells": [
  {
   "cell_type": "markdown",
   "metadata": {},
   "source": [
    "# Word Embeddings\n",
    "Word embeddings are key in NLP and are an example of representation learning, the core of all machine learning.\n",
    "\n",
    "Study notes on the pytorch article on word embeddings: https://pytorch.org/tutorials/beginner/nlp/word_embeddings_tutorial.html\n",
    "\n",
    "$p(w_i|w_{i-1},w_{i-2},...,w_{i-n+1})$"
   ]
  },
  {
   "cell_type": "code",
   "execution_count": 7,
   "metadata": {},
   "outputs": [
    {
     "name": "stdout",
     "output_type": "stream",
     "text": [
      "[(['When', 'forty'], 'winters'), (['forty', 'winters'], 'shall'), (['winters', 'shall'], 'besiege')]\n"
     ]
    }
   ],
   "source": [
    "CONTEXT_SIZE = 2 # Words given as context for the predicted word\n",
    "EMBEDDING_DIM = 10 # The size of the word embedding vector\n",
    "\n",
    "# We will use Shakespeare Sonnet 2\n",
    "test_sentence = \"\"\"When forty winters shall besiege thy brow,\n",
    "And dig deep trenches in thy beauty's field,\n",
    "Thy youth's proud livery so gazed on now,\n",
    "Will be a totter'd weed of small worth held:\n",
    "Then being asked, where all thy beauty lies,\n",
    "Where all the treasure of thy lusty days;\n",
    "To say, within thine own deep sunken eyes,\n",
    "Were an all-eating shame, and thriftless praise.\n",
    "How much more praise deserv'd thy beauty's use,\n",
    "If thou couldst answer 'This fair child of mine\n",
    "Shall sum my count, and make my old excuse,'\n",
    "Proving his beauty by succession thine!\n",
    "This were to be new made when thou art old,\n",
    "And see thy blood warm when thou feel'st it cold.\"\"\".split()\n",
    "\n",
    "# we should tokenize the input, but we will ignore that for now\n",
    "\n",
    "# build a list of tuples.  Each tuple is ([ word_i-2, word_i-1 ], target word)\n",
    "trigrams = [([test_sentence[i], test_sentence[i + 1]], test_sentence[i + 2])\n",
    "            for i in range(len(test_sentence) - 2)]\n",
    "\n",
    "# print the first 3, just so you can see what they look like\n",
    "print(trigrams[:3])\n",
    "\n",
    "vocab = set(test_sentence)\n",
    "word_to_ix = {word: i for i, word in enumerate(vocab)}"
   ]
  },
  {
   "cell_type": "code",
   "execution_count": 8,
   "metadata": {},
   "outputs": [],
   "source": [
    "import torch\n",
    "import torch.nn as nn\n",
    "import torch.nn.functional as F\n",
    "\n",
    "class NGramLanguageModeler(nn.Module):\n",
    "\n",
    "    def __init__(self, vocab_size, embedding_dim, context_size):\n",
    "        super(NGramLanguageModeler, self).__init__()\n",
    "        self.embeddings = nn.Embedding(vocab_size, embedding_dim)\n",
    "        self.linear1 = nn.Linear(context_size * embedding_dim, 128)\n",
    "        self.linear2 = nn.Linear(128, vocab_size)\n",
    "\n",
    "    def forward(self, inputs):\n",
    "        embeds = self.embeddings(inputs).view((1, -1))\n",
    "        out = F.relu(self.linear1(embeds))\n",
    "        out = self.linear2(out)\n",
    "        log_probs = F.log_softmax(out, dim=1)\n",
    "        return log_probs"
   ]
  },
  {
   "cell_type": "code",
   "execution_count": 12,
   "metadata": {},
   "outputs": [
    {
     "name": "stderr",
     "output_type": "stream",
     "text": [
      "Training word embeddings: 100%|██████████| 100/100 [00:06<00:00, 15.97Epochs (One cycle through all training data)/s]"
     ]
    },
    {
     "name": "stdout",
     "output_type": "stream",
     "text": [
      "[522.3798503875732, 520.0369343757629, 517.7073473930359, 515.3919634819031, 513.0900731086731, 510.7990527153015, 508.5183641910553, 506.2486352920532, 503.98994183540344, 501.7406349182129, 499.4989609718323, 497.2660331726074, 495.03919768333435, 492.81839084625244, 490.6032373905182, 488.3936686515808, 486.1872775554657, 483.98573207855225, 481.78607749938965, 479.5898847579956, 477.39561796188354, 475.20340037345886, 473.01307582855225, 470.8242259025574, 468.6363205909729, 466.44900846481323, 464.26203894615173, 462.0750849246979, 459.8871500492096, 457.69857835769653, 455.50883889198303, 453.3182303905487, 451.12744665145874, 448.9336881637573, 446.73854804039, 444.5394778251648, 442.33684039115906, 440.12960410118103, 437.91625118255615, 435.6982479095459, 433.4755742549896, 431.24888706207275, 429.0162236690521, 426.77768552303314, 424.53383445739746, 422.2834415435791, 420.0268088579178, 417.7637734413147, 415.4932042360306, 413.21672761440277, 410.9325864315033, 408.640154838562, 406.3408601284027, 404.032732963562, 401.71613812446594, 399.3911647796631, 397.0560895204544, 394.7118476629257, 392.3591890335083, 389.9959737062454, 387.6232467889786, 385.239076256752, 382.84655606746674, 380.4444159269333, 378.03128468990326, 375.60812628269196, 373.1746187210083, 370.72851169109344, 368.27397871017456, 365.8061885237694, 363.3273038864136, 360.83652395009995, 358.33399361371994, 355.8204907178879, 353.29705452919006, 350.76311641931534, 348.21688187122345, 345.66095703840256, 343.0945656299591, 340.51906710863113, 337.9366721510887, 335.3437058329582, 332.745166182518, 330.1347862482071, 327.5179697871208, 324.89218467473984, 322.25881135463715, 319.61752527952194, 316.97110110521317, 314.3188227415085, 311.6599753499031, 308.99469220638275, 306.3250157237053, 303.64774799346924, 300.96694219112396, 298.28308165073395, 295.5944193601608, 292.90263479948044, 290.20722460746765, 287.51120537519455]\n"
     ]
    },
    {
     "name": "stderr",
     "output_type": "stream",
     "text": [
      "\n"
     ]
    }
   ],
   "source": [
    "import torch.optim as optim\n",
    "from tqdm import trange\n",
    "\n",
    "losses = []\n",
    "loss_function = nn.NLLLoss()\n",
    "model = NGramLanguageModeler(len(vocab), EMBEDDING_DIM, CONTEXT_SIZE)\n",
    "optimizer = optim.SGD(model.parameters(), lr=0.001)\n",
    "\n",
    "\n",
    "for epoch in trange(100, desc=\"Training word embeddings\", unit=\"Epochs (One cycle through all training data)\"):\n",
    "    total_loss = 0\n",
    "    for context, target in trigrams:\n",
    "\n",
    "        # Step 1. Prepare the inputs to be passed to the model (i.e, turn the words\n",
    "        # into integer indices and wrap them in tensors)\n",
    "        context_idxs = torch.tensor([word_to_ix[w] for w in context], dtype=torch.long)\n",
    "\n",
    "        # Step 2. Recall that torch *accumulates* gradients. Before passing in a\n",
    "        # new instance, you need to zero out the gradients from the old\n",
    "        # instance\n",
    "        model.zero_grad()\n",
    "\n",
    "        # Step 3. Run the forward pass, getting log probabilities over next\n",
    "        # words\n",
    "        log_probs = model(context_idxs)\n",
    "\n",
    "        # Step 4. Compute your loss function. (Again, Torch wants the target\n",
    "        # word wrapped in a tensor)\n",
    "        loss = loss_function(log_probs, torch.tensor([word_to_ix[target]], dtype=torch.long))\n",
    "\n",
    "        # Step 5. Do the backward pass and update the gradient\n",
    "        loss.backward()\n",
    "        optimizer.step()\n",
    "\n",
    "        # Get the Python number from a 1-element Tensor by calling tensor.item()\n",
    "        total_loss += loss.item()\n",
    "    losses.append(total_loss)\n",
    "print(losses)  # The loss decreased every iteration over the training data!"
   ]
  }
 ],
 "metadata": {
  "kernelspec": {
   "display_name": "Python 3",
   "language": "python",
   "name": "python3"
  },
  "language_info": {
   "codemirror_mode": {
    "name": "ipython",
    "version": 3
   },
   "file_extension": ".py",
   "mimetype": "text/x-python",
   "name": "python",
   "nbconvert_exporter": "python",
   "pygments_lexer": "ipython3",
   "version": "3.7.9"
  }
 },
 "nbformat": 4,
 "nbformat_minor": 4
}
