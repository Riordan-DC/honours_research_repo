{
 "cells": [
  {
   "cell_type": "markdown",
   "metadata": {},
   "source": [
    "# Graph Auto Encoder Parser\n",
    "<i>Riordan Callil 2021</i><br>\n",
    "Goal: We want to take a sentence and product a parse tree. Our input will be a graph where each node is a word connected via egdes in the order they are written, this edges simply represent adjacency. The output of the parser will be a new graph where each edge represents dependency."
   ]
  },
  {
   "cell_type": "markdown",
   "metadata": {},
   "source": [
    "Dataloading\n",
    "--------------\n",
    "- Penn Treebank Dataset (PTB)\n",
    "\n"
   ]
  },
  {
   "cell_type": "code",
   "execution_count": null,
   "metadata": {},
   "outputs": [],
   "source": []
  },
  {
   "cell_type": "markdown",
   "metadata": {},
   "source": [
    "Model\n",
    "--------"
   ]
  },
  {
   "cell_type": "code",
   "execution_count": 8,
   "metadata": {},
   "outputs": [
    {
     "data": {
      "text/plain": [
       "(tensor([[0.5000, 0.5000, 0.5000],\n",
       "         [0.5000, 0.5000, 0.5000],\n",
       "         [0.5000, 0.5000, 1.0000]], grad_fn=<SigmoidBackward>),\n",
       " tensor([[0.0566],\n",
       "         [0.0566],\n",
       "         [0.0566]], grad_fn=<AddmmBackward>),\n",
       " tensor([[0.4465],\n",
       "         [0.4465],\n",
       "         [0.4465]], grad_fn=<AddmmBackward>))"
      ]
     },
     "execution_count": 8,
     "metadata": {},
     "output_type": "execute_result"
    }
   ],
   "source": [
    "import torch.nn.functional as F\n",
    "import torch.nn as nn\n",
    "from torch_geometric.nn import GCNConv\n",
    "import torch\n",
    "\n",
    "class VGAE(nn.Module):\n",
    "    def __init__(self, input_dim, hid_dim_1, hid_dim_2):\n",
    "        super(VGAE, self).__init__()\n",
    "        self.gc1 = GCNConv(input_dim, hid_dim_1)\n",
    "        self.fc1 = nn.Linear(hid_dim_1, hid_dim_2)\n",
    "        self.fc2 = nn.Linear(hid_dim_1, hid_dim_2)\n",
    "        self.decode = VGD()\n",
    "    \n",
    "    def encode(self, x, adj):\n",
    "        x = self.gc1(x, adj)\n",
    "        return self.fc1(x), self.fc2(x)\n",
    "    \n",
    "    def reparameterize(self, mu, logvar):\n",
    "        if self.training:\n",
    "            std = torch.exp(logvar)\n",
    "            eps = torch.randn_like(std)\n",
    "            return eps.mul(std).add_(mu)\n",
    "        else:\n",
    "            return mu\n",
    "    \n",
    "    def forward(self, x, adj):\n",
    "        mu, logvar = self.encode(x, adj)\n",
    "        z = self.reparameterize(mu, logvar)\n",
    "        return self.decode(z), mu, logvar\n",
    "\n",
    "class VGD(nn.Module):\n",
    "    def __init__(self):\n",
    "        super(VGD, self).__init__()\n",
    "        self.dropout = 0.5\n",
    "        self.activation = torch.sigmoid\n",
    "    \n",
    "    def forward(self, z):\n",
    "        z = F.dropout(z, self.dropout, training=self.training)\n",
    "        adj = self.activation(torch.mm(z, z.t()))\n",
    "        return adj\n",
    "\n",
    "edge_index = torch.tensor([[0, 1, 1, 2],\n",
    "                           [1, 0, 2, 1]], dtype=torch.long)\n",
    "x = torch.tensor([[0,0,0,0,0,0,0,0,0,0], [0,0,0,0,0,0,0,0,0,0], [0,0,0,0,0,0,0,0,0,0]], dtype=torch.float)\n",
    "test_model = VGAE(10, 5, 1)\n",
    "test_model(x, edge_index)"
   ]
  },
  {
   "cell_type": "markdown",
   "metadata": {},
   "source": [
    "Training\n",
    "---------"
   ]
  },
  {
   "cell_type": "code",
   "execution_count": null,
   "metadata": {},
   "outputs": [],
   "source": []
  },
  {
   "cell_type": "markdown",
   "metadata": {},
   "source": [
    "Visualisations\n",
    "--------------\n",
    "Metrics: UAS, LAS."
   ]
  },
  {
   "cell_type": "code",
   "execution_count": null,
   "metadata": {},
   "outputs": [],
   "source": []
  }
 ],
 "metadata": {
  "kernelspec": {
   "display_name": "Python 3",
   "language": "python",
   "name": "python3"
  },
  "language_info": {
   "codemirror_mode": {
    "name": "ipython",
    "version": 3
   },
   "file_extension": ".py",
   "mimetype": "text/x-python",
   "name": "python",
   "nbconvert_exporter": "python",
   "pygments_lexer": "ipython3",
   "version": "3.7.9"
  }
 },
 "nbformat": 4,
 "nbformat_minor": 4
}
